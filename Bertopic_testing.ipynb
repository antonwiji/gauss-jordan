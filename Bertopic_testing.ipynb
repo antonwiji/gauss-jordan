{
 "cells": [
  {
   "cell_type": "code",
   "execution_count": 30,
   "metadata": {},
   "outputs": [],
   "source": [
    "import pandas as pd\n",
    "from sentence_transformers import SentenceTransformer\n",
    "from bertopic import BERTopic\n",
    "from umap import UMAP\n",
    "\n",
    "docs = pd.read_csv('berita.csv')\n",
    "teks_berita = docs['berita'].tolist()\n",
    "\n",
    "sentence_model = SentenceTransformer(\"all-MiniLM-L6-v2\")\n",
    "embeddings = sentence_model.encode(teks_berita, show_progress_bar=False)\n",
    "\n",
    "topic_model = BERTopic(language=\"indonesian\", min_topic_size=2).fit(teks_berita, embeddings)\n",
    "\n",
    "topic_model.visualize_documents(teks_berita, embeddings=embeddings)\n",
    "\n",
    "reduced_embeddings = UMAP(n_neighbors=10, n_components=2, min_dist=0.0, metric='cosine').fit_transform(embeddings)\n"
   ]
  },
  {
   "cell_type": "code",
   "execution_count": 31,
   "metadata": {},
   "outputs": [
    {
     "ename": "ValueError",
     "evalue": "Mime type rendering requires nbformat>=4.2.0 but it is not installed",
     "output_type": "error",
     "traceback": [
      "\u001b[0;31m---------------------------------------------------------------------------\u001b[0m",
      "\u001b[0;31mValueError\u001b[0m                                Traceback (most recent call last)",
      "File \u001b[0;32m~/Desktop/program_gui/lib/python3.12/site-packages/IPython/core/formatters.py:925\u001b[0m, in \u001b[0;36mIPythonDisplayFormatter.__call__\u001b[0;34m(self, obj)\u001b[0m\n\u001b[1;32m    923\u001b[0m method \u001b[39m=\u001b[39m get_real_method(obj, \u001b[39mself\u001b[39m\u001b[39m.\u001b[39mprint_method)\n\u001b[1;32m    924\u001b[0m \u001b[39mif\u001b[39;00m method \u001b[39mis\u001b[39;00m \u001b[39mnot\u001b[39;00m \u001b[39mNone\u001b[39;00m:\n\u001b[0;32m--> 925\u001b[0m     method()\n\u001b[1;32m    926\u001b[0m     \u001b[39mreturn\u001b[39;00m \u001b[39mTrue\u001b[39;00m\n",
      "File \u001b[0;32m~/Desktop/program_gui/lib/python3.12/site-packages/plotly/basedatatypes.py:832\u001b[0m, in \u001b[0;36mBaseFigure._ipython_display_\u001b[0;34m(self)\u001b[0m\n\u001b[1;32m    829\u001b[0m \u001b[39mimport\u001b[39;00m \u001b[39mplotly\u001b[39;00m\u001b[39m.\u001b[39;00m\u001b[39mio\u001b[39;00m \u001b[39mas\u001b[39;00m \u001b[39mpio\u001b[39;00m\n\u001b[1;32m    831\u001b[0m \u001b[39mif\u001b[39;00m pio\u001b[39m.\u001b[39mrenderers\u001b[39m.\u001b[39mrender_on_display \u001b[39mand\u001b[39;00m pio\u001b[39m.\u001b[39mrenderers\u001b[39m.\u001b[39mdefault:\n\u001b[0;32m--> 832\u001b[0m     pio\u001b[39m.\u001b[39;49mshow(\u001b[39mself\u001b[39;49m)\n\u001b[1;32m    833\u001b[0m \u001b[39melse\u001b[39;00m:\n\u001b[1;32m    834\u001b[0m     \u001b[39mprint\u001b[39m(\u001b[39mrepr\u001b[39m(\u001b[39mself\u001b[39m))\n",
      "File \u001b[0;32m~/Desktop/program_gui/lib/python3.12/site-packages/plotly/io/_renderers.py:394\u001b[0m, in \u001b[0;36mshow\u001b[0;34m(fig, renderer, validate, **kwargs)\u001b[0m\n\u001b[1;32m    389\u001b[0m         \u001b[39mraise\u001b[39;00m \u001b[39mValueError\u001b[39;00m(\n\u001b[1;32m    390\u001b[0m             \u001b[39m\"\u001b[39m\u001b[39mMime type rendering requires ipython but it is not installed\u001b[39m\u001b[39m\"\u001b[39m\n\u001b[1;32m    391\u001b[0m         )\n\u001b[1;32m    393\u001b[0m     \u001b[39mif\u001b[39;00m \u001b[39mnot\u001b[39;00m nbformat \u001b[39mor\u001b[39;00m Version(nbformat\u001b[39m.\u001b[39m__version__) \u001b[39m<\u001b[39m Version(\u001b[39m\"\u001b[39m\u001b[39m4.2.0\u001b[39m\u001b[39m\"\u001b[39m):\n\u001b[0;32m--> 394\u001b[0m         \u001b[39mraise\u001b[39;00m \u001b[39mValueError\u001b[39;00m(\n\u001b[1;32m    395\u001b[0m             \u001b[39m\"\u001b[39m\u001b[39mMime type rendering requires nbformat>=4.2.0 but it is not installed\u001b[39m\u001b[39m\"\u001b[39m\n\u001b[1;32m    396\u001b[0m         )\n\u001b[1;32m    398\u001b[0m     ipython_display\u001b[39m.\u001b[39mdisplay(bundle, raw\u001b[39m=\u001b[39m\u001b[39mTrue\u001b[39;00m)\n\u001b[1;32m    400\u001b[0m \u001b[39m# external renderers\u001b[39;00m\n",
      "\u001b[0;31mValueError\u001b[0m: Mime type rendering requires nbformat>=4.2.0 but it is not installed"
     ]
    },
    {
     "data": {
      "application/vnd.plotly.v1+json": {
       "config": {
        "plotlyServerURL": "https://plot.ly"
       },
       "data": [
        {
         "marker": {
          "color": "#D55E00"
         },
         "orientation": "h",
         "type": "bar",
         "x": [
          0.030752945170085075,
          0.03085732428437242,
          0.03503159047877382,
          0.036941874264023435,
          0.03825916538300818
         ],
         "xaxis": "x",
         "y": [
          "yang  ",
          "di  ",
          "dan  ",
          "presiden  ",
          "prabowo  "
         ],
         "yaxis": "y"
        },
        {
         "marker": {
          "color": "#0072B2"
         },
         "orientation": "h",
         "type": "bar",
         "x": [
          0.031500672302188615,
          0.04171815034866672,
          0.0422557984059518,
          0.044565428460280734,
          0.05524084340376116
         ],
         "xaxis": "x2",
         "y": [
          "budi  ",
          "prabowo  ",
          "pan  ",
          "tidak  ",
          "yang  "
         ],
         "yaxis": "y2"
        },
        {
         "marker": {
          "color": "#CC79A7"
         },
         "orientation": "h",
         "type": "bar",
         "x": [
          0.03432625477727014,
          0.03511331888483797,
          0.037357964634278304,
          0.04191438878928507,
          0.052564663500755664
         ],
         "xaxis": "x3",
         "y": [
          "prabowo  ",
          "cawapres  ",
          "indonesia  ",
          "persen  ",
          "gibran  "
         ],
         "yaxis": "y3"
        },
        {
         "marker": {
          "color": "#E69F00"
         },
         "orientation": "h",
         "type": "bar",
         "x": [
          0.029130937702238652,
          0.03386174203515462,
          0.03624305934861536,
          0.0455234945264549,
          0.048090388484863605
         ],
         "xaxis": "x4",
         "y": [
          "di  ",
          "pks  ",
          "yang  ",
          "titiek  ",
          "prabowo  "
         ],
         "yaxis": "y4"
        },
        {
         "marker": {
          "color": "#56B4E9"
         },
         "orientation": "h",
         "type": "bar",
         "x": [
          0.04735770104450394,
          0.06741669108534307,
          0.06764906585118707,
          0.07258156145659439,
          0.09080488206117386
         ],
         "xaxis": "x5",
         "y": [
          "prabowo  ",
          "pdi  ",
          "puan  ",
          "pertemuan  ",
          "megawati  "
         ],
         "yaxis": "y5"
        },
        {
         "marker": {
          "color": "#009E73"
         },
         "orientation": "h",
         "type": "bar",
         "x": [
          0.03858760595825305,
          0.039541413262115764,
          0.039570948722792224,
          0.04108095993524598,
          0.04264197362547878
         ],
         "xaxis": "x6",
         "y": [
          "siang  ",
          "prabowo  ",
          "baznas  ",
          "bantuan  ",
          "untuk  "
         ],
         "yaxis": "y6"
        },
        {
         "marker": {
          "color": "#F0E442"
         },
         "orientation": "h",
         "type": "bar",
         "x": [
          0.04227710944103857,
          0.043641887245280994,
          0.04369807394029297,
          0.04456540055798537,
          0.06873139608209876
         ],
         "xaxis": "x7",
         "y": [
          "jokowi  ",
          "saya  ",
          "besar  ",
          "yang  ",
          "operasi  "
         ],
         "yaxis": "y7"
        },
        {
         "marker": {
          "color": "#D55E00"
         },
         "orientation": "h",
         "type": "bar",
         "x": [
          0.04791453878565613,
          0.05216814487153008,
          0.05331274998981817,
          0.06835139658455225,
          0.07090870271921489
         ],
         "xaxis": "x8",
         "y": [
          "di  ",
          "kaki  ",
          "persen  ",
          "cedera  ",
          "operasi  "
         ],
         "yaxis": "y8"
        }
       ],
       "layout": {
        "annotations": [
         {
          "font": {
           "size": 16
          },
          "showarrow": false,
          "text": "Topic 0",
          "x": 0.0875,
          "xanchor": "center",
          "xref": "paper",
          "y": 1,
          "yanchor": "bottom",
          "yref": "paper"
         },
         {
          "font": {
           "size": 16
          },
          "showarrow": false,
          "text": "Topic 1",
          "x": 0.36250000000000004,
          "xanchor": "center",
          "xref": "paper",
          "y": 1,
          "yanchor": "bottom",
          "yref": "paper"
         },
         {
          "font": {
           "size": 16
          },
          "showarrow": false,
          "text": "Topic 2",
          "x": 0.6375000000000001,
          "xanchor": "center",
          "xref": "paper",
          "y": 1,
          "yanchor": "bottom",
          "yref": "paper"
         },
         {
          "font": {
           "size": 16
          },
          "showarrow": false,
          "text": "Topic 3",
          "x": 0.9125,
          "xanchor": "center",
          "xref": "paper",
          "y": 1,
          "yanchor": "bottom",
          "yref": "paper"
         },
         {
          "font": {
           "size": 16
          },
          "showarrow": false,
          "text": "Topic 4",
          "x": 0.0875,
          "xanchor": "center",
          "xref": "paper",
          "y": 0.4,
          "yanchor": "bottom",
          "yref": "paper"
         },
         {
          "font": {
           "size": 16
          },
          "showarrow": false,
          "text": "Topic 5",
          "x": 0.36250000000000004,
          "xanchor": "center",
          "xref": "paper",
          "y": 0.4,
          "yanchor": "bottom",
          "yref": "paper"
         },
         {
          "font": {
           "size": 16
          },
          "showarrow": false,
          "text": "Topic 6",
          "x": 0.6375000000000001,
          "xanchor": "center",
          "xref": "paper",
          "y": 0.4,
          "yanchor": "bottom",
          "yref": "paper"
         },
         {
          "font": {
           "size": 16
          },
          "showarrow": false,
          "text": "Topic 7",
          "x": 0.9125,
          "xanchor": "center",
          "xref": "paper",
          "y": 0.4,
          "yanchor": "bottom",
          "yref": "paper"
         }
        ],
        "height": 500,
        "hoverlabel": {
         "bgcolor": "white",
         "font": {
          "family": "Rockwell",
          "size": 16
         }
        },
        "showlegend": false,
        "template": {
         "data": {
          "bar": [
           {
            "error_x": {
             "color": "#2a3f5f"
            },
            "error_y": {
             "color": "#2a3f5f"
            },
            "marker": {
             "line": {
              "color": "white",
              "width": 0.5
             },
             "pattern": {
              "fillmode": "overlay",
              "size": 10,
              "solidity": 0.2
             }
            },
            "type": "bar"
           }
          ],
          "barpolar": [
           {
            "marker": {
             "line": {
              "color": "white",
              "width": 0.5
             },
             "pattern": {
              "fillmode": "overlay",
              "size": 10,
              "solidity": 0.2
             }
            },
            "type": "barpolar"
           }
          ],
          "carpet": [
           {
            "aaxis": {
             "endlinecolor": "#2a3f5f",
             "gridcolor": "#C8D4E3",
             "linecolor": "#C8D4E3",
             "minorgridcolor": "#C8D4E3",
             "startlinecolor": "#2a3f5f"
            },
            "baxis": {
             "endlinecolor": "#2a3f5f",
             "gridcolor": "#C8D4E3",
             "linecolor": "#C8D4E3",
             "minorgridcolor": "#C8D4E3",
             "startlinecolor": "#2a3f5f"
            },
            "type": "carpet"
           }
          ],
          "choropleth": [
           {
            "colorbar": {
             "outlinewidth": 0,
             "ticks": ""
            },
            "type": "choropleth"
           }
          ],
          "contour": [
           {
            "colorbar": {
             "outlinewidth": 0,
             "ticks": ""
            },
            "colorscale": [
             [
              0,
              "#0d0887"
             ],
             [
              0.1111111111111111,
              "#46039f"
             ],
             [
              0.2222222222222222,
              "#7201a8"
             ],
             [
              0.3333333333333333,
              "#9c179e"
             ],
             [
              0.4444444444444444,
              "#bd3786"
             ],
             [
              0.5555555555555556,
              "#d8576b"
             ],
             [
              0.6666666666666666,
              "#ed7953"
             ],
             [
              0.7777777777777778,
              "#fb9f3a"
             ],
             [
              0.8888888888888888,
              "#fdca26"
             ],
             [
              1,
              "#f0f921"
             ]
            ],
            "type": "contour"
           }
          ],
          "contourcarpet": [
           {
            "colorbar": {
             "outlinewidth": 0,
             "ticks": ""
            },
            "type": "contourcarpet"
           }
          ],
          "heatmap": [
           {
            "colorbar": {
             "outlinewidth": 0,
             "ticks": ""
            },
            "colorscale": [
             [
              0,
              "#0d0887"
             ],
             [
              0.1111111111111111,
              "#46039f"
             ],
             [
              0.2222222222222222,
              "#7201a8"
             ],
             [
              0.3333333333333333,
              "#9c179e"
             ],
             [
              0.4444444444444444,
              "#bd3786"
             ],
             [
              0.5555555555555556,
              "#d8576b"
             ],
             [
              0.6666666666666666,
              "#ed7953"
             ],
             [
              0.7777777777777778,
              "#fb9f3a"
             ],
             [
              0.8888888888888888,
              "#fdca26"
             ],
             [
              1,
              "#f0f921"
             ]
            ],
            "type": "heatmap"
           }
          ],
          "heatmapgl": [
           {
            "colorbar": {
             "outlinewidth": 0,
             "ticks": ""
            },
            "colorscale": [
             [
              0,
              "#0d0887"
             ],
             [
              0.1111111111111111,
              "#46039f"
             ],
             [
              0.2222222222222222,
              "#7201a8"
             ],
             [
              0.3333333333333333,
              "#9c179e"
             ],
             [
              0.4444444444444444,
              "#bd3786"
             ],
             [
              0.5555555555555556,
              "#d8576b"
             ],
             [
              0.6666666666666666,
              "#ed7953"
             ],
             [
              0.7777777777777778,
              "#fb9f3a"
             ],
             [
              0.8888888888888888,
              "#fdca26"
             ],
             [
              1,
              "#f0f921"
             ]
            ],
            "type": "heatmapgl"
           }
          ],
          "histogram": [
           {
            "marker": {
             "pattern": {
              "fillmode": "overlay",
              "size": 10,
              "solidity": 0.2
             }
            },
            "type": "histogram"
           }
          ],
          "histogram2d": [
           {
            "colorbar": {
             "outlinewidth": 0,
             "ticks": ""
            },
            "colorscale": [
             [
              0,
              "#0d0887"
             ],
             [
              0.1111111111111111,
              "#46039f"
             ],
             [
              0.2222222222222222,
              "#7201a8"
             ],
             [
              0.3333333333333333,
              "#9c179e"
             ],
             [
              0.4444444444444444,
              "#bd3786"
             ],
             [
              0.5555555555555556,
              "#d8576b"
             ],
             [
              0.6666666666666666,
              "#ed7953"
             ],
             [
              0.7777777777777778,
              "#fb9f3a"
             ],
             [
              0.8888888888888888,
              "#fdca26"
             ],
             [
              1,
              "#f0f921"
             ]
            ],
            "type": "histogram2d"
           }
          ],
          "histogram2dcontour": [
           {
            "colorbar": {
             "outlinewidth": 0,
             "ticks": ""
            },
            "colorscale": [
             [
              0,
              "#0d0887"
             ],
             [
              0.1111111111111111,
              "#46039f"
             ],
             [
              0.2222222222222222,
              "#7201a8"
             ],
             [
              0.3333333333333333,
              "#9c179e"
             ],
             [
              0.4444444444444444,
              "#bd3786"
             ],
             [
              0.5555555555555556,
              "#d8576b"
             ],
             [
              0.6666666666666666,
              "#ed7953"
             ],
             [
              0.7777777777777778,
              "#fb9f3a"
             ],
             [
              0.8888888888888888,
              "#fdca26"
             ],
             [
              1,
              "#f0f921"
             ]
            ],
            "type": "histogram2dcontour"
           }
          ],
          "mesh3d": [
           {
            "colorbar": {
             "outlinewidth": 0,
             "ticks": ""
            },
            "type": "mesh3d"
           }
          ],
          "parcoords": [
           {
            "line": {
             "colorbar": {
              "outlinewidth": 0,
              "ticks": ""
             }
            },
            "type": "parcoords"
           }
          ],
          "pie": [
           {
            "automargin": true,
            "type": "pie"
           }
          ],
          "scatter": [
           {
            "fillpattern": {
             "fillmode": "overlay",
             "size": 10,
             "solidity": 0.2
            },
            "type": "scatter"
           }
          ],
          "scatter3d": [
           {
            "line": {
             "colorbar": {
              "outlinewidth": 0,
              "ticks": ""
             }
            },
            "marker": {
             "colorbar": {
              "outlinewidth": 0,
              "ticks": ""
             }
            },
            "type": "scatter3d"
           }
          ],
          "scattercarpet": [
           {
            "marker": {
             "colorbar": {
              "outlinewidth": 0,
              "ticks": ""
             }
            },
            "type": "scattercarpet"
           }
          ],
          "scattergeo": [
           {
            "marker": {
             "colorbar": {
              "outlinewidth": 0,
              "ticks": ""
             }
            },
            "type": "scattergeo"
           }
          ],
          "scattergl": [
           {
            "marker": {
             "colorbar": {
              "outlinewidth": 0,
              "ticks": ""
             }
            },
            "type": "scattergl"
           }
          ],
          "scattermapbox": [
           {
            "marker": {
             "colorbar": {
              "outlinewidth": 0,
              "ticks": ""
             }
            },
            "type": "scattermapbox"
           }
          ],
          "scatterpolar": [
           {
            "marker": {
             "colorbar": {
              "outlinewidth": 0,
              "ticks": ""
             }
            },
            "type": "scatterpolar"
           }
          ],
          "scatterpolargl": [
           {
            "marker": {
             "colorbar": {
              "outlinewidth": 0,
              "ticks": ""
             }
            },
            "type": "scatterpolargl"
           }
          ],
          "scatterternary": [
           {
            "marker": {
             "colorbar": {
              "outlinewidth": 0,
              "ticks": ""
             }
            },
            "type": "scatterternary"
           }
          ],
          "surface": [
           {
            "colorbar": {
             "outlinewidth": 0,
             "ticks": ""
            },
            "colorscale": [
             [
              0,
              "#0d0887"
             ],
             [
              0.1111111111111111,
              "#46039f"
             ],
             [
              0.2222222222222222,
              "#7201a8"
             ],
             [
              0.3333333333333333,
              "#9c179e"
             ],
             [
              0.4444444444444444,
              "#bd3786"
             ],
             [
              0.5555555555555556,
              "#d8576b"
             ],
             [
              0.6666666666666666,
              "#ed7953"
             ],
             [
              0.7777777777777778,
              "#fb9f3a"
             ],
             [
              0.8888888888888888,
              "#fdca26"
             ],
             [
              1,
              "#f0f921"
             ]
            ],
            "type": "surface"
           }
          ],
          "table": [
           {
            "cells": {
             "fill": {
              "color": "#EBF0F8"
             },
             "line": {
              "color": "white"
             }
            },
            "header": {
             "fill": {
              "color": "#C8D4E3"
             },
             "line": {
              "color": "white"
             }
            },
            "type": "table"
           }
          ]
         },
         "layout": {
          "annotationdefaults": {
           "arrowcolor": "#2a3f5f",
           "arrowhead": 0,
           "arrowwidth": 1
          },
          "autotypenumbers": "strict",
          "coloraxis": {
           "colorbar": {
            "outlinewidth": 0,
            "ticks": ""
           }
          },
          "colorscale": {
           "diverging": [
            [
             0,
             "#8e0152"
            ],
            [
             0.1,
             "#c51b7d"
            ],
            [
             0.2,
             "#de77ae"
            ],
            [
             0.3,
             "#f1b6da"
            ],
            [
             0.4,
             "#fde0ef"
            ],
            [
             0.5,
             "#f7f7f7"
            ],
            [
             0.6,
             "#e6f5d0"
            ],
            [
             0.7,
             "#b8e186"
            ],
            [
             0.8,
             "#7fbc41"
            ],
            [
             0.9,
             "#4d9221"
            ],
            [
             1,
             "#276419"
            ]
           ],
           "sequential": [
            [
             0,
             "#0d0887"
            ],
            [
             0.1111111111111111,
             "#46039f"
            ],
            [
             0.2222222222222222,
             "#7201a8"
            ],
            [
             0.3333333333333333,
             "#9c179e"
            ],
            [
             0.4444444444444444,
             "#bd3786"
            ],
            [
             0.5555555555555556,
             "#d8576b"
            ],
            [
             0.6666666666666666,
             "#ed7953"
            ],
            [
             0.7777777777777778,
             "#fb9f3a"
            ],
            [
             0.8888888888888888,
             "#fdca26"
            ],
            [
             1,
             "#f0f921"
            ]
           ],
           "sequentialminus": [
            [
             0,
             "#0d0887"
            ],
            [
             0.1111111111111111,
             "#46039f"
            ],
            [
             0.2222222222222222,
             "#7201a8"
            ],
            [
             0.3333333333333333,
             "#9c179e"
            ],
            [
             0.4444444444444444,
             "#bd3786"
            ],
            [
             0.5555555555555556,
             "#d8576b"
            ],
            [
             0.6666666666666666,
             "#ed7953"
            ],
            [
             0.7777777777777778,
             "#fb9f3a"
            ],
            [
             0.8888888888888888,
             "#fdca26"
            ],
            [
             1,
             "#f0f921"
            ]
           ]
          },
          "colorway": [
           "#636efa",
           "#EF553B",
           "#00cc96",
           "#ab63fa",
           "#FFA15A",
           "#19d3f3",
           "#FF6692",
           "#B6E880",
           "#FF97FF",
           "#FECB52"
          ],
          "font": {
           "color": "#2a3f5f"
          },
          "geo": {
           "bgcolor": "white",
           "lakecolor": "white",
           "landcolor": "white",
           "showlakes": true,
           "showland": true,
           "subunitcolor": "#C8D4E3"
          },
          "hoverlabel": {
           "align": "left"
          },
          "hovermode": "closest",
          "mapbox": {
           "style": "light"
          },
          "paper_bgcolor": "white",
          "plot_bgcolor": "white",
          "polar": {
           "angularaxis": {
            "gridcolor": "#EBF0F8",
            "linecolor": "#EBF0F8",
            "ticks": ""
           },
           "bgcolor": "white",
           "radialaxis": {
            "gridcolor": "#EBF0F8",
            "linecolor": "#EBF0F8",
            "ticks": ""
           }
          },
          "scene": {
           "xaxis": {
            "backgroundcolor": "white",
            "gridcolor": "#DFE8F3",
            "gridwidth": 2,
            "linecolor": "#EBF0F8",
            "showbackground": true,
            "ticks": "",
            "zerolinecolor": "#EBF0F8"
           },
           "yaxis": {
            "backgroundcolor": "white",
            "gridcolor": "#DFE8F3",
            "gridwidth": 2,
            "linecolor": "#EBF0F8",
            "showbackground": true,
            "ticks": "",
            "zerolinecolor": "#EBF0F8"
           },
           "zaxis": {
            "backgroundcolor": "white",
            "gridcolor": "#DFE8F3",
            "gridwidth": 2,
            "linecolor": "#EBF0F8",
            "showbackground": true,
            "ticks": "",
            "zerolinecolor": "#EBF0F8"
           }
          },
          "shapedefaults": {
           "line": {
            "color": "#2a3f5f"
           }
          },
          "ternary": {
           "aaxis": {
            "gridcolor": "#DFE8F3",
            "linecolor": "#A2B1C6",
            "ticks": ""
           },
           "baxis": {
            "gridcolor": "#DFE8F3",
            "linecolor": "#A2B1C6",
            "ticks": ""
           },
           "bgcolor": "white",
           "caxis": {
            "gridcolor": "#DFE8F3",
            "linecolor": "#A2B1C6",
            "ticks": ""
           }
          },
          "title": {
           "x": 0.05
          },
          "xaxis": {
           "automargin": true,
           "gridcolor": "#EBF0F8",
           "linecolor": "#EBF0F8",
           "ticks": "",
           "title": {
            "standoff": 15
           },
           "zerolinecolor": "#EBF0F8",
           "zerolinewidth": 2
          },
          "yaxis": {
           "automargin": true,
           "gridcolor": "#EBF0F8",
           "linecolor": "#EBF0F8",
           "ticks": "",
           "title": {
            "standoff": 15
           },
           "zerolinecolor": "#EBF0F8",
           "zerolinewidth": 2
          }
         }
        },
        "title": {
         "font": {
          "color": "Black",
          "size": 22
         },
         "text": "Topic Word Scores",
         "x": 0.5,
         "xanchor": "center",
         "yanchor": "top"
        },
        "width": 1000,
        "xaxis": {
         "anchor": "y",
         "domain": [
          0,
          0.175
         ],
         "showgrid": true
        },
        "xaxis2": {
         "anchor": "y2",
         "domain": [
          0.275,
          0.45
         ],
         "showgrid": true
        },
        "xaxis3": {
         "anchor": "y3",
         "domain": [
          0.55,
          0.7250000000000001
         ],
         "showgrid": true
        },
        "xaxis4": {
         "anchor": "y4",
         "domain": [
          0.825,
          1
         ],
         "showgrid": true
        },
        "xaxis5": {
         "anchor": "y5",
         "domain": [
          0,
          0.175
         ],
         "showgrid": true
        },
        "xaxis6": {
         "anchor": "y6",
         "domain": [
          0.275,
          0.45
         ],
         "showgrid": true
        },
        "xaxis7": {
         "anchor": "y7",
         "domain": [
          0.55,
          0.7250000000000001
         ],
         "showgrid": true
        },
        "xaxis8": {
         "anchor": "y8",
         "domain": [
          0.825,
          1
         ],
         "showgrid": true
        },
        "yaxis": {
         "anchor": "x",
         "domain": [
          0.6000000000000001,
          1
         ],
         "showgrid": true
        },
        "yaxis2": {
         "anchor": "x2",
         "domain": [
          0.6000000000000001,
          1
         ],
         "showgrid": true
        },
        "yaxis3": {
         "anchor": "x3",
         "domain": [
          0.6000000000000001,
          1
         ],
         "showgrid": true
        },
        "yaxis4": {
         "anchor": "x4",
         "domain": [
          0.6000000000000001,
          1
         ],
         "showgrid": true
        },
        "yaxis5": {
         "anchor": "x5",
         "domain": [
          0,
          0.4
         ],
         "showgrid": true
        },
        "yaxis6": {
         "anchor": "x6",
         "domain": [
          0,
          0.4
         ],
         "showgrid": true
        },
        "yaxis7": {
         "anchor": "x7",
         "domain": [
          0,
          0.4
         ],
         "showgrid": true
        },
        "yaxis8": {
         "anchor": "x8",
         "domain": [
          0,
          0.4
         ],
         "showgrid": true
        }
       }
      },
      "text/html": [
       "<div>                        <script type=\"text/javascript\">window.PlotlyConfig = {MathJaxConfig: 'local'};</script>\n",
       "        <script charset=\"utf-8\" src=\"https://cdn.plot.ly/plotly-2.32.0.min.js\"></script>                <div id=\"73c60bac-b2ac-4287-a53a-41f8436b332e\" class=\"plotly-graph-div\" style=\"height:500px; width:1000px;\"></div>            <script type=\"text/javascript\">                                    window.PLOTLYENV=window.PLOTLYENV || {};                                    if (document.getElementById(\"73c60bac-b2ac-4287-a53a-41f8436b332e\")) {                    Plotly.newPlot(                        \"73c60bac-b2ac-4287-a53a-41f8436b332e\",                        [{\"marker\":{\"color\":\"#D55E00\"},\"orientation\":\"h\",\"x\":[0.030752945170085075,0.03085732428437242,0.03503159047877382,0.036941874264023435,0.03825916538300818],\"y\":[\"yang  \",\"di  \",\"dan  \",\"presiden  \",\"prabowo  \"],\"type\":\"bar\",\"xaxis\":\"x\",\"yaxis\":\"y\"},{\"marker\":{\"color\":\"#0072B2\"},\"orientation\":\"h\",\"x\":[0.031500672302188615,0.04171815034866672,0.0422557984059518,0.044565428460280734,0.05524084340376116],\"y\":[\"budi  \",\"prabowo  \",\"pan  \",\"tidak  \",\"yang  \"],\"type\":\"bar\",\"xaxis\":\"x2\",\"yaxis\":\"y2\"},{\"marker\":{\"color\":\"#CC79A7\"},\"orientation\":\"h\",\"x\":[0.03432625477727014,0.03511331888483797,0.037357964634278304,0.04191438878928507,0.052564663500755664],\"y\":[\"prabowo  \",\"cawapres  \",\"indonesia  \",\"persen  \",\"gibran  \"],\"type\":\"bar\",\"xaxis\":\"x3\",\"yaxis\":\"y3\"},{\"marker\":{\"color\":\"#E69F00\"},\"orientation\":\"h\",\"x\":[0.029130937702238652,0.03386174203515462,0.03624305934861536,0.0455234945264549,0.048090388484863605],\"y\":[\"di  \",\"pks  \",\"yang  \",\"titiek  \",\"prabowo  \"],\"type\":\"bar\",\"xaxis\":\"x4\",\"yaxis\":\"y4\"},{\"marker\":{\"color\":\"#56B4E9\"},\"orientation\":\"h\",\"x\":[0.04735770104450394,0.06741669108534307,0.06764906585118707,0.07258156145659439,0.09080488206117386],\"y\":[\"prabowo  \",\"pdi  \",\"puan  \",\"pertemuan  \",\"megawati  \"],\"type\":\"bar\",\"xaxis\":\"x5\",\"yaxis\":\"y5\"},{\"marker\":{\"color\":\"#009E73\"},\"orientation\":\"h\",\"x\":[0.03858760595825305,0.039541413262115764,0.039570948722792224,0.04108095993524598,0.04264197362547878],\"y\":[\"siang  \",\"prabowo  \",\"baznas  \",\"bantuan  \",\"untuk  \"],\"type\":\"bar\",\"xaxis\":\"x6\",\"yaxis\":\"y6\"},{\"marker\":{\"color\":\"#F0E442\"},\"orientation\":\"h\",\"x\":[0.04227710944103857,0.043641887245280994,0.04369807394029297,0.04456540055798537,0.06873139608209876],\"y\":[\"jokowi  \",\"saya  \",\"besar  \",\"yang  \",\"operasi  \"],\"type\":\"bar\",\"xaxis\":\"x7\",\"yaxis\":\"y7\"},{\"marker\":{\"color\":\"#D55E00\"},\"orientation\":\"h\",\"x\":[0.04791453878565613,0.05216814487153008,0.05331274998981817,0.06835139658455225,0.07090870271921489],\"y\":[\"di  \",\"kaki  \",\"persen  \",\"cedera  \",\"operasi  \"],\"type\":\"bar\",\"xaxis\":\"x8\",\"yaxis\":\"y8\"}],                        {\"template\":{\"data\":{\"barpolar\":[{\"marker\":{\"line\":{\"color\":\"white\",\"width\":0.5},\"pattern\":{\"fillmode\":\"overlay\",\"size\":10,\"solidity\":0.2}},\"type\":\"barpolar\"}],\"bar\":[{\"error_x\":{\"color\":\"#2a3f5f\"},\"error_y\":{\"color\":\"#2a3f5f\"},\"marker\":{\"line\":{\"color\":\"white\",\"width\":0.5},\"pattern\":{\"fillmode\":\"overlay\",\"size\":10,\"solidity\":0.2}},\"type\":\"bar\"}],\"carpet\":[{\"aaxis\":{\"endlinecolor\":\"#2a3f5f\",\"gridcolor\":\"#C8D4E3\",\"linecolor\":\"#C8D4E3\",\"minorgridcolor\":\"#C8D4E3\",\"startlinecolor\":\"#2a3f5f\"},\"baxis\":{\"endlinecolor\":\"#2a3f5f\",\"gridcolor\":\"#C8D4E3\",\"linecolor\":\"#C8D4E3\",\"minorgridcolor\":\"#C8D4E3\",\"startlinecolor\":\"#2a3f5f\"},\"type\":\"carpet\"}],\"choropleth\":[{\"colorbar\":{\"outlinewidth\":0,\"ticks\":\"\"},\"type\":\"choropleth\"}],\"contourcarpet\":[{\"colorbar\":{\"outlinewidth\":0,\"ticks\":\"\"},\"type\":\"contourcarpet\"}],\"contour\":[{\"colorbar\":{\"outlinewidth\":0,\"ticks\":\"\"},\"colorscale\":[[0.0,\"#0d0887\"],[0.1111111111111111,\"#46039f\"],[0.2222222222222222,\"#7201a8\"],[0.3333333333333333,\"#9c179e\"],[0.4444444444444444,\"#bd3786\"],[0.5555555555555556,\"#d8576b\"],[0.6666666666666666,\"#ed7953\"],[0.7777777777777778,\"#fb9f3a\"],[0.8888888888888888,\"#fdca26\"],[1.0,\"#f0f921\"]],\"type\":\"contour\"}],\"heatmapgl\":[{\"colorbar\":{\"outlinewidth\":0,\"ticks\":\"\"},\"colorscale\":[[0.0,\"#0d0887\"],[0.1111111111111111,\"#46039f\"],[0.2222222222222222,\"#7201a8\"],[0.3333333333333333,\"#9c179e\"],[0.4444444444444444,\"#bd3786\"],[0.5555555555555556,\"#d8576b\"],[0.6666666666666666,\"#ed7953\"],[0.7777777777777778,\"#fb9f3a\"],[0.8888888888888888,\"#fdca26\"],[1.0,\"#f0f921\"]],\"type\":\"heatmapgl\"}],\"heatmap\":[{\"colorbar\":{\"outlinewidth\":0,\"ticks\":\"\"},\"colorscale\":[[0.0,\"#0d0887\"],[0.1111111111111111,\"#46039f\"],[0.2222222222222222,\"#7201a8\"],[0.3333333333333333,\"#9c179e\"],[0.4444444444444444,\"#bd3786\"],[0.5555555555555556,\"#d8576b\"],[0.6666666666666666,\"#ed7953\"],[0.7777777777777778,\"#fb9f3a\"],[0.8888888888888888,\"#fdca26\"],[1.0,\"#f0f921\"]],\"type\":\"heatmap\"}],\"histogram2dcontour\":[{\"colorbar\":{\"outlinewidth\":0,\"ticks\":\"\"},\"colorscale\":[[0.0,\"#0d0887\"],[0.1111111111111111,\"#46039f\"],[0.2222222222222222,\"#7201a8\"],[0.3333333333333333,\"#9c179e\"],[0.4444444444444444,\"#bd3786\"],[0.5555555555555556,\"#d8576b\"],[0.6666666666666666,\"#ed7953\"],[0.7777777777777778,\"#fb9f3a\"],[0.8888888888888888,\"#fdca26\"],[1.0,\"#f0f921\"]],\"type\":\"histogram2dcontour\"}],\"histogram2d\":[{\"colorbar\":{\"outlinewidth\":0,\"ticks\":\"\"},\"colorscale\":[[0.0,\"#0d0887\"],[0.1111111111111111,\"#46039f\"],[0.2222222222222222,\"#7201a8\"],[0.3333333333333333,\"#9c179e\"],[0.4444444444444444,\"#bd3786\"],[0.5555555555555556,\"#d8576b\"],[0.6666666666666666,\"#ed7953\"],[0.7777777777777778,\"#fb9f3a\"],[0.8888888888888888,\"#fdca26\"],[1.0,\"#f0f921\"]],\"type\":\"histogram2d\"}],\"histogram\":[{\"marker\":{\"pattern\":{\"fillmode\":\"overlay\",\"size\":10,\"solidity\":0.2}},\"type\":\"histogram\"}],\"mesh3d\":[{\"colorbar\":{\"outlinewidth\":0,\"ticks\":\"\"},\"type\":\"mesh3d\"}],\"parcoords\":[{\"line\":{\"colorbar\":{\"outlinewidth\":0,\"ticks\":\"\"}},\"type\":\"parcoords\"}],\"pie\":[{\"automargin\":true,\"type\":\"pie\"}],\"scatter3d\":[{\"line\":{\"colorbar\":{\"outlinewidth\":0,\"ticks\":\"\"}},\"marker\":{\"colorbar\":{\"outlinewidth\":0,\"ticks\":\"\"}},\"type\":\"scatter3d\"}],\"scattercarpet\":[{\"marker\":{\"colorbar\":{\"outlinewidth\":0,\"ticks\":\"\"}},\"type\":\"scattercarpet\"}],\"scattergeo\":[{\"marker\":{\"colorbar\":{\"outlinewidth\":0,\"ticks\":\"\"}},\"type\":\"scattergeo\"}],\"scattergl\":[{\"marker\":{\"colorbar\":{\"outlinewidth\":0,\"ticks\":\"\"}},\"type\":\"scattergl\"}],\"scattermapbox\":[{\"marker\":{\"colorbar\":{\"outlinewidth\":0,\"ticks\":\"\"}},\"type\":\"scattermapbox\"}],\"scatterpolargl\":[{\"marker\":{\"colorbar\":{\"outlinewidth\":0,\"ticks\":\"\"}},\"type\":\"scatterpolargl\"}],\"scatterpolar\":[{\"marker\":{\"colorbar\":{\"outlinewidth\":0,\"ticks\":\"\"}},\"type\":\"scatterpolar\"}],\"scatter\":[{\"fillpattern\":{\"fillmode\":\"overlay\",\"size\":10,\"solidity\":0.2},\"type\":\"scatter\"}],\"scatterternary\":[{\"marker\":{\"colorbar\":{\"outlinewidth\":0,\"ticks\":\"\"}},\"type\":\"scatterternary\"}],\"surface\":[{\"colorbar\":{\"outlinewidth\":0,\"ticks\":\"\"},\"colorscale\":[[0.0,\"#0d0887\"],[0.1111111111111111,\"#46039f\"],[0.2222222222222222,\"#7201a8\"],[0.3333333333333333,\"#9c179e\"],[0.4444444444444444,\"#bd3786\"],[0.5555555555555556,\"#d8576b\"],[0.6666666666666666,\"#ed7953\"],[0.7777777777777778,\"#fb9f3a\"],[0.8888888888888888,\"#fdca26\"],[1.0,\"#f0f921\"]],\"type\":\"surface\"}],\"table\":[{\"cells\":{\"fill\":{\"color\":\"#EBF0F8\"},\"line\":{\"color\":\"white\"}},\"header\":{\"fill\":{\"color\":\"#C8D4E3\"},\"line\":{\"color\":\"white\"}},\"type\":\"table\"}]},\"layout\":{\"annotationdefaults\":{\"arrowcolor\":\"#2a3f5f\",\"arrowhead\":0,\"arrowwidth\":1},\"autotypenumbers\":\"strict\",\"coloraxis\":{\"colorbar\":{\"outlinewidth\":0,\"ticks\":\"\"}},\"colorscale\":{\"diverging\":[[0,\"#8e0152\"],[0.1,\"#c51b7d\"],[0.2,\"#de77ae\"],[0.3,\"#f1b6da\"],[0.4,\"#fde0ef\"],[0.5,\"#f7f7f7\"],[0.6,\"#e6f5d0\"],[0.7,\"#b8e186\"],[0.8,\"#7fbc41\"],[0.9,\"#4d9221\"],[1,\"#276419\"]],\"sequential\":[[0.0,\"#0d0887\"],[0.1111111111111111,\"#46039f\"],[0.2222222222222222,\"#7201a8\"],[0.3333333333333333,\"#9c179e\"],[0.4444444444444444,\"#bd3786\"],[0.5555555555555556,\"#d8576b\"],[0.6666666666666666,\"#ed7953\"],[0.7777777777777778,\"#fb9f3a\"],[0.8888888888888888,\"#fdca26\"],[1.0,\"#f0f921\"]],\"sequentialminus\":[[0.0,\"#0d0887\"],[0.1111111111111111,\"#46039f\"],[0.2222222222222222,\"#7201a8\"],[0.3333333333333333,\"#9c179e\"],[0.4444444444444444,\"#bd3786\"],[0.5555555555555556,\"#d8576b\"],[0.6666666666666666,\"#ed7953\"],[0.7777777777777778,\"#fb9f3a\"],[0.8888888888888888,\"#fdca26\"],[1.0,\"#f0f921\"]]},\"colorway\":[\"#636efa\",\"#EF553B\",\"#00cc96\",\"#ab63fa\",\"#FFA15A\",\"#19d3f3\",\"#FF6692\",\"#B6E880\",\"#FF97FF\",\"#FECB52\"],\"font\":{\"color\":\"#2a3f5f\"},\"geo\":{\"bgcolor\":\"white\",\"lakecolor\":\"white\",\"landcolor\":\"white\",\"showlakes\":true,\"showland\":true,\"subunitcolor\":\"#C8D4E3\"},\"hoverlabel\":{\"align\":\"left\"},\"hovermode\":\"closest\",\"mapbox\":{\"style\":\"light\"},\"paper_bgcolor\":\"white\",\"plot_bgcolor\":\"white\",\"polar\":{\"angularaxis\":{\"gridcolor\":\"#EBF0F8\",\"linecolor\":\"#EBF0F8\",\"ticks\":\"\"},\"bgcolor\":\"white\",\"radialaxis\":{\"gridcolor\":\"#EBF0F8\",\"linecolor\":\"#EBF0F8\",\"ticks\":\"\"}},\"scene\":{\"xaxis\":{\"backgroundcolor\":\"white\",\"gridcolor\":\"#DFE8F3\",\"gridwidth\":2,\"linecolor\":\"#EBF0F8\",\"showbackground\":true,\"ticks\":\"\",\"zerolinecolor\":\"#EBF0F8\"},\"yaxis\":{\"backgroundcolor\":\"white\",\"gridcolor\":\"#DFE8F3\",\"gridwidth\":2,\"linecolor\":\"#EBF0F8\",\"showbackground\":true,\"ticks\":\"\",\"zerolinecolor\":\"#EBF0F8\"},\"zaxis\":{\"backgroundcolor\":\"white\",\"gridcolor\":\"#DFE8F3\",\"gridwidth\":2,\"linecolor\":\"#EBF0F8\",\"showbackground\":true,\"ticks\":\"\",\"zerolinecolor\":\"#EBF0F8\"}},\"shapedefaults\":{\"line\":{\"color\":\"#2a3f5f\"}},\"ternary\":{\"aaxis\":{\"gridcolor\":\"#DFE8F3\",\"linecolor\":\"#A2B1C6\",\"ticks\":\"\"},\"baxis\":{\"gridcolor\":\"#DFE8F3\",\"linecolor\":\"#A2B1C6\",\"ticks\":\"\"},\"bgcolor\":\"white\",\"caxis\":{\"gridcolor\":\"#DFE8F3\",\"linecolor\":\"#A2B1C6\",\"ticks\":\"\"}},\"title\":{\"x\":0.05},\"xaxis\":{\"automargin\":true,\"gridcolor\":\"#EBF0F8\",\"linecolor\":\"#EBF0F8\",\"ticks\":\"\",\"title\":{\"standoff\":15},\"zerolinecolor\":\"#EBF0F8\",\"zerolinewidth\":2},\"yaxis\":{\"automargin\":true,\"gridcolor\":\"#EBF0F8\",\"linecolor\":\"#EBF0F8\",\"ticks\":\"\",\"title\":{\"standoff\":15},\"zerolinecolor\":\"#EBF0F8\",\"zerolinewidth\":2}}},\"xaxis\":{\"anchor\":\"y\",\"domain\":[0.0,0.175],\"showgrid\":true},\"yaxis\":{\"anchor\":\"x\",\"domain\":[0.6000000000000001,1.0],\"showgrid\":true},\"xaxis2\":{\"anchor\":\"y2\",\"domain\":[0.275,0.45],\"showgrid\":true},\"yaxis2\":{\"anchor\":\"x2\",\"domain\":[0.6000000000000001,1.0],\"showgrid\":true},\"xaxis3\":{\"anchor\":\"y3\",\"domain\":[0.55,0.7250000000000001],\"showgrid\":true},\"yaxis3\":{\"anchor\":\"x3\",\"domain\":[0.6000000000000001,1.0],\"showgrid\":true},\"xaxis4\":{\"anchor\":\"y4\",\"domain\":[0.825,1.0],\"showgrid\":true},\"yaxis4\":{\"anchor\":\"x4\",\"domain\":[0.6000000000000001,1.0],\"showgrid\":true},\"xaxis5\":{\"anchor\":\"y5\",\"domain\":[0.0,0.175],\"showgrid\":true},\"yaxis5\":{\"anchor\":\"x5\",\"domain\":[0.0,0.4],\"showgrid\":true},\"xaxis6\":{\"anchor\":\"y6\",\"domain\":[0.275,0.45],\"showgrid\":true},\"yaxis6\":{\"anchor\":\"x6\",\"domain\":[0.0,0.4],\"showgrid\":true},\"xaxis7\":{\"anchor\":\"y7\",\"domain\":[0.55,0.7250000000000001],\"showgrid\":true},\"yaxis7\":{\"anchor\":\"x7\",\"domain\":[0.0,0.4],\"showgrid\":true},\"xaxis8\":{\"anchor\":\"y8\",\"domain\":[0.825,1.0],\"showgrid\":true},\"yaxis8\":{\"anchor\":\"x8\",\"domain\":[0.0,0.4],\"showgrid\":true},\"annotations\":[{\"font\":{\"size\":16},\"showarrow\":false,\"text\":\"Topic 0\",\"x\":0.0875,\"xanchor\":\"center\",\"xref\":\"paper\",\"y\":1.0,\"yanchor\":\"bottom\",\"yref\":\"paper\"},{\"font\":{\"size\":16},\"showarrow\":false,\"text\":\"Topic 1\",\"x\":0.36250000000000004,\"xanchor\":\"center\",\"xref\":\"paper\",\"y\":1.0,\"yanchor\":\"bottom\",\"yref\":\"paper\"},{\"font\":{\"size\":16},\"showarrow\":false,\"text\":\"Topic 2\",\"x\":0.6375000000000001,\"xanchor\":\"center\",\"xref\":\"paper\",\"y\":1.0,\"yanchor\":\"bottom\",\"yref\":\"paper\"},{\"font\":{\"size\":16},\"showarrow\":false,\"text\":\"Topic 3\",\"x\":0.9125,\"xanchor\":\"center\",\"xref\":\"paper\",\"y\":1.0,\"yanchor\":\"bottom\",\"yref\":\"paper\"},{\"font\":{\"size\":16},\"showarrow\":false,\"text\":\"Topic 4\",\"x\":0.0875,\"xanchor\":\"center\",\"xref\":\"paper\",\"y\":0.4,\"yanchor\":\"bottom\",\"yref\":\"paper\"},{\"font\":{\"size\":16},\"showarrow\":false,\"text\":\"Topic 5\",\"x\":0.36250000000000004,\"xanchor\":\"center\",\"xref\":\"paper\",\"y\":0.4,\"yanchor\":\"bottom\",\"yref\":\"paper\"},{\"font\":{\"size\":16},\"showarrow\":false,\"text\":\"Topic 6\",\"x\":0.6375000000000001,\"xanchor\":\"center\",\"xref\":\"paper\",\"y\":0.4,\"yanchor\":\"bottom\",\"yref\":\"paper\"},{\"font\":{\"size\":16},\"showarrow\":false,\"text\":\"Topic 7\",\"x\":0.9125,\"xanchor\":\"center\",\"xref\":\"paper\",\"y\":0.4,\"yanchor\":\"bottom\",\"yref\":\"paper\"}],\"title\":{\"font\":{\"size\":22,\"color\":\"Black\"},\"text\":\"Topic Word Scores\",\"x\":0.5,\"xanchor\":\"center\",\"yanchor\":\"top\"},\"hoverlabel\":{\"font\":{\"size\":16,\"family\":\"Rockwell\"},\"bgcolor\":\"white\"},\"showlegend\":false,\"width\":1000,\"height\":500},                        {\"responsive\": true}                    )                };                            </script>        </div>"
      ],
      "text/plain": [
       "Figure({\n",
       "    'data': [{'marker': {'color': '#D55E00'},\n",
       "              'orientation': 'h',\n",
       "              'type': 'bar',\n",
       "              'x': [0.030752945170085075, 0.03085732428437242,\n",
       "                    0.03503159047877382, 0.036941874264023435, 0.03825916538300818],\n",
       "              'xaxis': 'x',\n",
       "              'y': [yang  , di  , dan  , presiden  , prabowo  ],\n",
       "              'yaxis': 'y'},\n",
       "             {'marker': {'color': '#0072B2'},\n",
       "              'orientation': 'h',\n",
       "              'type': 'bar',\n",
       "              'x': [0.031500672302188615, 0.04171815034866672, 0.0422557984059518,\n",
       "                    0.044565428460280734, 0.05524084340376116],\n",
       "              'xaxis': 'x2',\n",
       "              'y': [budi  , prabowo  , pan  , tidak  , yang  ],\n",
       "              'yaxis': 'y2'},\n",
       "             {'marker': {'color': '#CC79A7'},\n",
       "              'orientation': 'h',\n",
       "              'type': 'bar',\n",
       "              'x': [0.03432625477727014, 0.03511331888483797,\n",
       "                    0.037357964634278304, 0.04191438878928507,\n",
       "                    0.052564663500755664],\n",
       "              'xaxis': 'x3',\n",
       "              'y': [prabowo  , cawapres  , indonesia  , persen  , gibran  ],\n",
       "              'yaxis': 'y3'},\n",
       "             {'marker': {'color': '#E69F00'},\n",
       "              'orientation': 'h',\n",
       "              'type': 'bar',\n",
       "              'x': [0.029130937702238652, 0.03386174203515462,\n",
       "                    0.03624305934861536, 0.0455234945264549, 0.048090388484863605],\n",
       "              'xaxis': 'x4',\n",
       "              'y': [di  , pks  , yang  , titiek  , prabowo  ],\n",
       "              'yaxis': 'y4'},\n",
       "             {'marker': {'color': '#56B4E9'},\n",
       "              'orientation': 'h',\n",
       "              'type': 'bar',\n",
       "              'x': [0.04735770104450394, 0.06741669108534307, 0.06764906585118707,\n",
       "                    0.07258156145659439, 0.09080488206117386],\n",
       "              'xaxis': 'x5',\n",
       "              'y': [prabowo  , pdi  , puan  , pertemuan  , megawati  ],\n",
       "              'yaxis': 'y5'},\n",
       "             {'marker': {'color': '#009E73'},\n",
       "              'orientation': 'h',\n",
       "              'type': 'bar',\n",
       "              'x': [0.03858760595825305, 0.039541413262115764,\n",
       "                    0.039570948722792224, 0.04108095993524598, 0.04264197362547878],\n",
       "              'xaxis': 'x6',\n",
       "              'y': [siang  , prabowo  , baznas  , bantuan  , untuk  ],\n",
       "              'yaxis': 'y6'},\n",
       "             {'marker': {'color': '#F0E442'},\n",
       "              'orientation': 'h',\n",
       "              'type': 'bar',\n",
       "              'x': [0.04227710944103857, 0.043641887245280994,\n",
       "                    0.04369807394029297, 0.04456540055798537, 0.06873139608209876],\n",
       "              'xaxis': 'x7',\n",
       "              'y': [jokowi  , saya  , besar  , yang  , operasi  ],\n",
       "              'yaxis': 'y7'},\n",
       "             {'marker': {'color': '#D55E00'},\n",
       "              'orientation': 'h',\n",
       "              'type': 'bar',\n",
       "              'x': [0.04791453878565613, 0.05216814487153008, 0.05331274998981817,\n",
       "                    0.06835139658455225, 0.07090870271921489],\n",
       "              'xaxis': 'x8',\n",
       "              'y': [di  , kaki  , persen  , cedera  , operasi  ],\n",
       "              'yaxis': 'y8'}],\n",
       "    'layout': {'annotations': [{'font': {'size': 16},\n",
       "                                'showarrow': False,\n",
       "                                'text': 'Topic 0',\n",
       "                                'x': 0.0875,\n",
       "                                'xanchor': 'center',\n",
       "                                'xref': 'paper',\n",
       "                                'y': 1.0,\n",
       "                                'yanchor': 'bottom',\n",
       "                                'yref': 'paper'},\n",
       "                               {'font': {'size': 16},\n",
       "                                'showarrow': False,\n",
       "                                'text': 'Topic 1',\n",
       "                                'x': 0.36250000000000004,\n",
       "                                'xanchor': 'center',\n",
       "                                'xref': 'paper',\n",
       "                                'y': 1.0,\n",
       "                                'yanchor': 'bottom',\n",
       "                                'yref': 'paper'},\n",
       "                               {'font': {'size': 16},\n",
       "                                'showarrow': False,\n",
       "                                'text': 'Topic 2',\n",
       "                                'x': 0.6375000000000001,\n",
       "                                'xanchor': 'center',\n",
       "                                'xref': 'paper',\n",
       "                                'y': 1.0,\n",
       "                                'yanchor': 'bottom',\n",
       "                                'yref': 'paper'},\n",
       "                               {'font': {'size': 16},\n",
       "                                'showarrow': False,\n",
       "                                'text': 'Topic 3',\n",
       "                                'x': 0.9125,\n",
       "                                'xanchor': 'center',\n",
       "                                'xref': 'paper',\n",
       "                                'y': 1.0,\n",
       "                                'yanchor': 'bottom',\n",
       "                                'yref': 'paper'},\n",
       "                               {'font': {'size': 16},\n",
       "                                'showarrow': False,\n",
       "                                'text': 'Topic 4',\n",
       "                                'x': 0.0875,\n",
       "                                'xanchor': 'center',\n",
       "                                'xref': 'paper',\n",
       "                                'y': 0.4,\n",
       "                                'yanchor': 'bottom',\n",
       "                                'yref': 'paper'},\n",
       "                               {'font': {'size': 16},\n",
       "                                'showarrow': False,\n",
       "                                'text': 'Topic 5',\n",
       "                                'x': 0.36250000000000004,\n",
       "                                'xanchor': 'center',\n",
       "                                'xref': 'paper',\n",
       "                                'y': 0.4,\n",
       "                                'yanchor': 'bottom',\n",
       "                                'yref': 'paper'},\n",
       "                               {'font': {'size': 16},\n",
       "                                'showarrow': False,\n",
       "                                'text': 'Topic 6',\n",
       "                                'x': 0.6375000000000001,\n",
       "                                'xanchor': 'center',\n",
       "                                'xref': 'paper',\n",
       "                                'y': 0.4,\n",
       "                                'yanchor': 'bottom',\n",
       "                                'yref': 'paper'},\n",
       "                               {'font': {'size': 16},\n",
       "                                'showarrow': False,\n",
       "                                'text': 'Topic 7',\n",
       "                                'x': 0.9125,\n",
       "                                'xanchor': 'center',\n",
       "                                'xref': 'paper',\n",
       "                                'y': 0.4,\n",
       "                                'yanchor': 'bottom',\n",
       "                                'yref': 'paper'}],\n",
       "               'height': 500,\n",
       "               'hoverlabel': {'bgcolor': 'white', 'font': {'family': 'Rockwell', 'size': 16}},\n",
       "               'showlegend': False,\n",
       "               'template': '...',\n",
       "               'title': {'font': {'color': 'Black', 'size': 22},\n",
       "                         'text': 'Topic Word Scores',\n",
       "                         'x': 0.5,\n",
       "                         'xanchor': 'center',\n",
       "                         'yanchor': 'top'},\n",
       "               'width': 1000,\n",
       "               'xaxis': {'anchor': 'y', 'domain': [0.0, 0.175], 'showgrid': True},\n",
       "               'xaxis2': {'anchor': 'y2', 'domain': [0.275, 0.45], 'showgrid': True},\n",
       "               'xaxis3': {'anchor': 'y3', 'domain': [0.55, 0.7250000000000001], 'showgrid': True},\n",
       "               'xaxis4': {'anchor': 'y4', 'domain': [0.825, 1.0], 'showgrid': True},\n",
       "               'xaxis5': {'anchor': 'y5', 'domain': [0.0, 0.175], 'showgrid': True},\n",
       "               'xaxis6': {'anchor': 'y6', 'domain': [0.275, 0.45], 'showgrid': True},\n",
       "               'xaxis7': {'anchor': 'y7', 'domain': [0.55, 0.7250000000000001], 'showgrid': True},\n",
       "               'xaxis8': {'anchor': 'y8', 'domain': [0.825, 1.0], 'showgrid': True},\n",
       "               'yaxis': {'anchor': 'x', 'domain': [0.6000000000000001, 1.0], 'showgrid': True},\n",
       "               'yaxis2': {'anchor': 'x2', 'domain': [0.6000000000000001, 1.0], 'showgrid': True},\n",
       "               'yaxis3': {'anchor': 'x3', 'domain': [0.6000000000000001, 1.0], 'showgrid': True},\n",
       "               'yaxis4': {'anchor': 'x4', 'domain': [0.6000000000000001, 1.0], 'showgrid': True},\n",
       "               'yaxis5': {'anchor': 'x5', 'domain': [0.0, 0.4], 'showgrid': True},\n",
       "               'yaxis6': {'anchor': 'x6', 'domain': [0.0, 0.4], 'showgrid': True},\n",
       "               'yaxis7': {'anchor': 'x7', 'domain': [0.0, 0.4], 'showgrid': True},\n",
       "               'yaxis8': {'anchor': 'x8', 'domain': [0.0, 0.4], 'showgrid': True}}\n",
       "})"
      ]
     },
     "execution_count": 31,
     "metadata": {},
     "output_type": "execute_result"
    }
   ],
   "source": [
    "topic_model.visualize_barchart()"
   ]
  },
  {
   "cell_type": "code",
   "execution_count": null,
   "metadata": {},
   "outputs": [
    {
     "ename": "ValueError",
     "evalue": "Mime type rendering requires nbformat>=4.2.0 but it is not installed",
     "output_type": "error",
     "traceback": [
      "\u001b[0;31m---------------------------------------------------------------------------\u001b[0m",
      "\u001b[0;31mValueError\u001b[0m                                Traceback (most recent call last)",
      "File \u001b[0;32m~/Desktop/program_gui/lib/python3.12/site-packages/IPython/core/formatters.py:925\u001b[0m, in \u001b[0;36mIPythonDisplayFormatter.__call__\u001b[0;34m(self, obj)\u001b[0m\n\u001b[1;32m    923\u001b[0m method \u001b[39m=\u001b[39m get_real_method(obj, \u001b[39mself\u001b[39m\u001b[39m.\u001b[39mprint_method)\n\u001b[1;32m    924\u001b[0m \u001b[39mif\u001b[39;00m method \u001b[39mis\u001b[39;00m \u001b[39mnot\u001b[39;00m \u001b[39mNone\u001b[39;00m:\n\u001b[0;32m--> 925\u001b[0m     method()\n\u001b[1;32m    926\u001b[0m     \u001b[39mreturn\u001b[39;00m \u001b[39mTrue\u001b[39;00m\n",
      "File \u001b[0;32m~/Desktop/program_gui/lib/python3.12/site-packages/plotly/basedatatypes.py:832\u001b[0m, in \u001b[0;36mBaseFigure._ipython_display_\u001b[0;34m(self)\u001b[0m\n\u001b[1;32m    829\u001b[0m \u001b[39mimport\u001b[39;00m \u001b[39mplotly\u001b[39;00m\u001b[39m.\u001b[39;00m\u001b[39mio\u001b[39;00m \u001b[39mas\u001b[39;00m \u001b[39mpio\u001b[39;00m\n\u001b[1;32m    831\u001b[0m \u001b[39mif\u001b[39;00m pio\u001b[39m.\u001b[39mrenderers\u001b[39m.\u001b[39mrender_on_display \u001b[39mand\u001b[39;00m pio\u001b[39m.\u001b[39mrenderers\u001b[39m.\u001b[39mdefault:\n\u001b[0;32m--> 832\u001b[0m     pio\u001b[39m.\u001b[39;49mshow(\u001b[39mself\u001b[39;49m)\n\u001b[1;32m    833\u001b[0m \u001b[39melse\u001b[39;00m:\n\u001b[1;32m    834\u001b[0m     \u001b[39mprint\u001b[39m(\u001b[39mrepr\u001b[39m(\u001b[39mself\u001b[39m))\n",
      "File \u001b[0;32m~/Desktop/program_gui/lib/python3.12/site-packages/plotly/io/_renderers.py:394\u001b[0m, in \u001b[0;36mshow\u001b[0;34m(fig, renderer, validate, **kwargs)\u001b[0m\n\u001b[1;32m    389\u001b[0m         \u001b[39mraise\u001b[39;00m \u001b[39mValueError\u001b[39;00m(\n\u001b[1;32m    390\u001b[0m             \u001b[39m\"\u001b[39m\u001b[39mMime type rendering requires ipython but it is not installed\u001b[39m\u001b[39m\"\u001b[39m\n\u001b[1;32m    391\u001b[0m         )\n\u001b[1;32m    393\u001b[0m     \u001b[39mif\u001b[39;00m \u001b[39mnot\u001b[39;00m nbformat \u001b[39mor\u001b[39;00m Version(nbformat\u001b[39m.\u001b[39m__version__) \u001b[39m<\u001b[39m Version(\u001b[39m\"\u001b[39m\u001b[39m4.2.0\u001b[39m\u001b[39m\"\u001b[39m):\n\u001b[0;32m--> 394\u001b[0m         \u001b[39mraise\u001b[39;00m \u001b[39mValueError\u001b[39;00m(\n\u001b[1;32m    395\u001b[0m             \u001b[39m\"\u001b[39m\u001b[39mMime type rendering requires nbformat>=4.2.0 but it is not installed\u001b[39m\u001b[39m\"\u001b[39m\n\u001b[1;32m    396\u001b[0m         )\n\u001b[1;32m    398\u001b[0m     ipython_display\u001b[39m.\u001b[39mdisplay(bundle, raw\u001b[39m=\u001b[39m\u001b[39mTrue\u001b[39;00m)\n\u001b[1;32m    400\u001b[0m \u001b[39m# external renderers\u001b[39;00m\n",
      "\u001b[0;31mValueError\u001b[0m: Mime type rendering requires nbformat>=4.2.0 but it is not installed"
     ]
    },
    {
     "data": {
      "application/vnd.plotly.v1+json": {
       "config": {
        "plotlyServerURL": "https://plot.ly"
       },
       "data": [
        {
         "hoverinfo": "text",
         "hovertext": [
          "Lembaga Survei Indonesia (LSI) mengungkapkan nama anak Presiden Joko Widodo (Jokowi), Kaesang Pangarep, Kapolda Jawa Tengah (Jateng) Irjen Ahmad Luthfi, artis Raffi Ahmad, hingga mantan ajudan Prabowo Subianto, Sudaryono berada di posisi unggul di Pilkada Jateng 2024. Adapun para responden ditanyai mengenai siapa calon gubernur pilihan mereka di Jateng dalam sesi pertanyaan semi terbuka. Ada 21 nama yang disodorkan LSI. Yang sementara unggul adalah nama Kaesang Pangarep, disusul oleh Ahmad Luthfi, lalu nama berikutnya Abdul Wachid, Raffi Ahmad juga ada di situ, Bambang Wuryanto Pacul, Sudaryono, Hendar Prihadi mantan Wali Kota Semarang, ujar Djayadi dalam jumpa pers virtual, Minggu (30/6/2024). Baca juga: Survei LSI: Mayoritas Masyarakat Belum Punya Pilihan, Pilkada Jateng Masih Terbuka Semua Calon Djayadi menjelaskan, selain Sudaryono dan Hendra Prihadi, lima nama di atas menjadi calon yang meraih elektabilitas di atas 5 persen. Sisanya, kata dia, masih mendapat elektabilitas di bawah 5 persen. Maka dari itu, Djayadi menilai pertarungan di Pilkada Jateng 2024 masih sangat terbuka. Masih belum ada yang bisa disimpulkan unggul, apalagi dominan. Jarak antara Kaesang Pangarep dengan Ahmad Luthfi juga dekat, cuma beda 2-3 persen, tuturnya. Sementara yang ketika diberi daftar nama untuk dipilih masih ada 20 persen menyatakan belum punya pilihan, imbuh Djayadi. Baca juga: PDI-P Lempar Sinyal Usung Ahmad Luthfi pada Pilkada Jateng Berikut daftar cagub yang sementara unggul di Pilkada Jateng 2024 versi LSI: 1. Kaesang Pangarep: 15,9 persen 2. Irjen Ahmad Luthfi: 12,9 persen 3. Abdul Wachid: 7,8 persen 4. Raffi Ahmad: 6,8 persen 5. Bambang Wuryanto: 5,8 persen 6. Sudaryono: 4,7 persen 7. Hendrar Prihadi: 4,7 persen. Survei LSI kali ini dilakukan pada 21-26 Juni 2024 dengan mewawancarai 1.200 responden. Wawancara dilakukan melalui telepon. Adapun margin of error survei kurang lebih sebesar 2,8 persen pada tingkat kepercayaan 95 persen dengan asumsi simple random sampling. ",
          "Ketua DPP PDI-P Said Abdullah mengatakan bahwa Ketua Umum PDI-P Megawati Soekarnoputri menugaskan Ketua DPP PDI-P Puan Maharani untuk menjalin komunikasi dengan calon presiden pemenang Pilpres 2024, Prabowo Subianto. Adapun komunikasi tersebut akan menjadi pertimbangan apakah pertemuan antara Megawati dan Prabowo bisa diwujudkan. Jadi, dari satu poin dan dua poin itu, muaranya, Ibu menugaskan Mbak Puan memang untuk membangun komunikasi. Setelah membangun komunikasi, nanti Mbak Puan report, kata Said saat dihubungi, Senin (8/4/2024). Baca juga: Megawati-Prabowo Bakal Bertemu, PDI-P Berpotensi Merapat ke Koalisi Gerindra Hasil report itulah yang akan menentukan Ibu ketua umum bertemu dengan Pak Prabowo, duduk bersama. Kan begitu, lanjutnya. Namun Said tak memerinci kapan pertemuan Puan dan Prabowo dilaksanakan. Said mengungkapkan, pada dasarnya antara Megawati dan Prabowo tidak memiliki persoalan secara pribadi. Begitu pula, secara ideologis, PDI-P dan Partai Gerindra juga dinilai tidak memiliki persoalan. Kedua partai politik itu, jelas Said, bahkan saling bersinergi selama 10 tahun terakhir di DPR. Secara politik, tidak pernah ada sentuhan apapun dengan Gerindra, dan bahkan 10 tahun terakhir PDI Perjuangan dan Gerindra sebagai partner yang baik di DPR, tegas Ketua Badan Anggaran (Banggar) DPR ini. Lebih jauh, Said menekankan pesan Megawati tentang pentingnya bangsa menghadapi tantangan lima tahun ke depan. Baca juga: Gerindra: Pak Prabowo dan Bu Megawati Sahabat Lama, Tak Ada Hambatan Rencana Pertemuan Maka dari situ Megawati, tambah Said, juga enggan menarik menteri-menteri dari kabinet Presiden Joko Widodo (Jokowi) saat ini. Konteks Ibu ketum itu pesannya, lima tahun ke depan, keadaan geopolitik seperti ini, setiap negara istilah Ibu itu, setiap memperkuat dirinya sendiri, global supply chain tidak sempurna karena keseimbangan baru tidak tercipta, maka berat tantangan ke depan, ungkap dia. Dia menegaskan, Presiden kelima RI tersebut sangat meletakkan kepentingan bangsa dan negara di atas segalanya. Baca juga: TKN: Pertemuan Prabowo-Megawati Sudah Terjadwal, PDI-P Akan Diajak Gabung Pemerintah Nah, poin itu disampaikan oleh Ketua Umum. Jauh dari partisan. Sehingga kalau ketemu dengan Pak Prabowo nantinya, welcome banget, tutur Said. Sebelumnya, pertemuan Megawati dan Prabowo digadang bakal terjadi setelah Puan lebih dulu bertemu Ketua Umum Partai Gerindra itu. Hal itu sudah diungkapkan Said Abdullah beberapa waktu sebelumnya. Sebelum (Prabowo Subianto) bertemu Ibu Megawati, didahului pertemuan dengan Mbak Puan. Itu nanti setelah sidang MK, kata Said kepada wartawan di Surabaya, Jawa Timur, Senin (1/4/2024). ",
          "Menteri Pertahanan (Menhan) Prabowo Subianto mengatakan, demokrasi di Indonesia masih berantakan dan membutuhkan biaya sangat mahal. Prabowo yang juga merupakan peserta Pemilihan Umum (Pemilu) 2024 tersebut menyatakan masih belum puas dengan pelaksanaan demokrasi di Tanah Air. Sehingga ia menilai perlu ada perbaikan demokrasi untuk ke depannya. Baca juga: Di Hadapan Investor, Prabowo: Insyaallah Saya Akan Dilantik Jadi Presiden 20 Oktober Izinkan saya bersaksi bahwa demokrasi sungguh sangat melelahkan. Demokrasi itu sangat-sangat berantakan, demokrasi itu sangat-sangat mahal, ujar Prabowo saat memberikan sambutan pada Mandiri Investment Forum yang disiarkan secara daring di YouTube KompasTV, Selasa (5/2/2024). Dan kita masih belum puas dengan demokrasi kita. Ada banyak ruang untuk perbaikan, tegasnya. Meski begitu, Prabowo juga mengapresiasi partisipasi masyarakat Indonesia di pemilu yang bisa mencapai 80 persen. Baca juga: Prabowo di Depan Investor: Bos Selalu Benar, kalau Salah, Kembali ke Aturan Pertama Menurutnya angka partisipasi pemilu Indonesia tidak buruk. Terlebih jika dibandingkan dengan negara-negara lain yang menganut sistem demokrasi tetapi partisipasi pemilih dalam pemilu mereka tidak mencapai 50 persen. Dalam pemilu kita, jumlah partisipasi pemilih mencapai 80 persen. Rata-rata 80 persen. Ini tidak buruk. Mengingat banyak negara di negara demokrasi terkadang hasilnya kurang dari 50 persen, jelas Prabowo. Lebih lanjut, calon presiden (capres) nomor urut 2 itu menyinggung pengalamannya di Pemilu 2024, di mana karena luasnya negara Indonesia ia belum bisa mengunjungi semua provinsi yang ada. Dari 38 provinsi di Tanah Air, Prabowo baru bisa menyambangi sekitar 26 provinsi. Baca juga: Cerita di Hadapan Investor Pernah Berutang ke Bank, Prabowo: Saya Lunasi 100 Persen Akan tetapi, ia berjanji setelah pemilu akan mengunjungi sisa provinsi yang belum pernah disambanginya. Tapi saya masih, setelah pemilu ini, saya masih harus pergi kunjungi provinsi-provinsi itu (yang belum dikunjungi). Karena saya janji provinsi-provinsi yang belum bisa saya kunjungi saya akan kunjungi, tambahnya. ",
          "Sekretaris Jenderal (Sekjen) Partai Gerindra Ahmad Muzani mengatakan pihaknya sudah berkomunikasi dengan Ketua DPP PDI-P Puan Maharani terkait rencana pertemuan presiden terpilih Prabowo Subianto dengan Ketua Umum PDI-P Megawati Soekarnoputri. Menurut Muzani, komunikasi yang berlangsung berjalan dengan baik. Ya dengan Ibu Puan, komunikasinya baik. Komunikasi dengan teman-teman elite PDI-P juga pembicaraannya baik, ujar Muzani di rumah Prabowo, Jalan Kertanegara, Jakarta Selatan, Kamis (25/4/2024) malam. Muzani mengatakan, rencana untuk mempertemukan Prabowo dan Megawati sedang dibangun. Baca juga: Sekjen PDI-P: Pertemuan Megawati-Jokowi Sulit Terjadi Komunikasi itu sedang kita bangun, komunikasi itu sedang kita rencanakan insya Allah, ucapnya. Sementara itu, Muzani menyebut Prabowo sendiri juga sudah menyinggung perihal rencana pertemuan dengan Megawati. Sudah diomong-omongkan, imbuh Muzani. Sebelumnya, pertemuan antara Ketua Umum PDI-P Megawati Soekarnoputri dan calon presiden pemenang Pilpres 2024 sekaligus Ketua Umum Partai Gerindra Prabowo Subianto menunggu hasil Rapat Kerja Nasional (Rakernas) ke-V PDI-P pada 24-26 Mei mendatang. Baca juga: Lihat Sikap Megawati, Ketua DPP Prediksi PDI-P Bakal di Luar Pemerintahan Prabowo Jika pertemuan yang dimaksud adalah bersifat politik formal kenegaraan, maka kita akan masih menunggu sebuah rapat kerja nasional yang tadi Mas Djarot (Ketua DPP PDI-P Djarot Saiful Hidayat) sudah informasikan detail tanggalnya, yaitu 24, 25, 26 Mei yang akan datang, kata Ketua DPP PDI-P Ahmad Basarah di Kantor DPP PDI-P, Jalan Diponegoro, Menteng, Jakarta Pusat, Senin malam. Basarah menjelaskan, peluang Megawati dan Prabowo bertemu tetap ada. Apalagi, keduanya disebut tidak pernah memiliki persoalan pribadi. Keduanya juga dikenal sudah menjalin komunikasi dan hubungan baik sejak lama. Secara pribadi, hubungan Bu Mega dengan Pak Prabowo sangat baik. Mereka berdua punya sejarah panjang di dalam hubungan antar manusia, bangsa Indonesia tersebut, jelasnya. Baca juga: Megawati Diyakini Tak Goyah, PDI-P Diprediksi Jadi Oposisi Pemerintahan Prabowo Wakil Ketua MPR ini menjelaskan, Megawati mengetahui porsi dan momentum yang tepat untuk melaksanakan pertemuan itu. Sehingga, pertemuan yang sifatnya pribadi juga mungkin terjadi. ",
          "Ketua Umum Partai Gerindra Prabowo Subianto resmi mengumumkan putra sulung Presiden Joko Widodo, Gibran Rakabuming Raka, sebagai bakal calon wakil presidennya, Minggu (22/10/2023) malam. Pengumuman ini dilakukan usai semua ketua umum partai politik di Koalisi Indonesia Maju (KIM) menggelar rapat di kediaman Prabowo di Jalan Kertanegara, Kebayoran Baru, Jakarta Selatan. Baca juga: Zulhas: Cawapres Prabowo Diumumkan Malam Ini Baru saja Koalisi Indonesia Maju (KIM) yang terdiri dari delapan partai politik, yang dihadiri lengkap oleh ketum masing-masing dan sekjen masing-masing kita telah berembug secara final, secara konsensus, seluruhnya sepakat mengusung Prabowo Subianto sebagai capres Koalisi Indonesia Maju untuk 2024-2029 dan saudara Gibran Rakabuming Raka sebagai calon wakil presiden, ujar Prabowo dalam jumpa pers di kediamannya, Minggu. Sebelumnya, Partai Golkar mengumumkan secara resmi dukungan mereka kepada Gibran untuk menjadi cawapres Prabowo Subianto melalui rapat pimpinan nasional (rapimnas) yang diselenggarakan pada Sabtu (21/10/2023) kemarin.  Berdasarkan hasil pertemuan dengan ketua DPD tadi malam, semuanya konsensus mengusulkan dan mendukung Mas Gibran untuk kita pasangkan dengan Pak Prabowo sebagai bakal capres RI, kata Ketua Umum Golkar Airlangga Hartarto, Sabtu. Usai resmi diusung, Gibran menyatakan akan mengkoordinasikan hasil rapat pleno satu dalam Rapat Pimpinan Nasional (Rapimnas) II Partai Golkar dengan Prabowo. Baca juga: Gibran Rakabuming, Bakal Cawapres Prabowo yang Diusung Golkar, Punya Kekayaan Rp 26 Miliar Adapun hasil rapat pleno kesatu Rapimnas Partai Golkar mengusulkan Gibran Rakabuming Raka sebagai bakal calon wakil presiden (cawapres) pendamping Prabowo Subianto. Untuk selanjutnya akan kami koordinasikan, akan kami tindaklanjuti bersama dengan Pak Prabowo, kata Gibran di DPP Partai Golkar, Palmerah, Jakarta Barat, Sabtu (21/10/2023). Tak lupa, Gibran mengucapkan terima kasih kepada Partai Golkar atas hasil Rapimnas II tersebut. Baca juga: Profil Gibran Rakabuming, Putra Sulung Jokowi yang Diusung Golkar Jadi Bakal Cawapres Prabowo Saya ucapkan terima kasih kepada keluarga besar Golkar, saya sangat mengapresiasi hasil Rapimnas pada siang hari ini, ujarnya. ",
          "Pengamat komunikasi politik dari Universitas Esa Unggul, Jamiluddin Ritonga mengatakan, capres nomor urut 2, Prabowo Subianto diposisikan oleh timnya sebagai orang yang terzalimi setelah diserang dalam debat capres pada Minggu (7/1/2024) lalu. Jamiluddin menyebut, serangan dari Anies Baswedan dan Ganjar Pranowo kepada Prabowo itu terlihat jelas dalam debat ketiga Pilpres 2024. Prabowo Subianto dalam debat ketiga terkesan memang diserang Anies Baswedan dan Ganjar Pranowo. Hal itu sangat terlihat ketika Ganjar memberi nilai 5 dan Anies dengan nilai 11, ujar Jamiluddin saat dimintai konfirmasi, Rabu (10/1/2024). Baca juga: Meski Umpatan Prabowo Masuk Pidana Pemilu, Timnas Anies-Muhaimin Belum Berencana Lapor ke Bawaslu Menurut Jamiluddin, strategi Anies dan Ganjar menyerang Prabowo justru menguntungkan Menteri Pertahanan tersebut. Dia menilai, tim Prabowo memanfaatkan momentum itu. Justru dimanfaatkan tim Prabowo untuk memposisikan capresnya sebagai orang yang terzalimi, ucap dia.  Lalu, Jamiluddin mengatakan, strategi memposisikan diri sebagai orang yang terzalimi bukanlah hal baru di Indonesia. Baca juga: Ketum DPP JSI: Saya dan Santri Merasa Pilu Melihat Pak Prabowo Diserang Saat Debat Pada Pemilu 2004, kata dia, Susilo Bambang Yudhoyono (SBY) juga mendapat manfaat setelah dizalimi oleh Taufik Kiemas. Sejak itu, kata dia, nama SBY terus mendapat simpati dari masyarakat. Bahkan hal itu menjadi faktor utama yang mengantarkan SBY terpilih menjadi presiden pada tahun 2004, kata Jamiluddin. Hal itu tampaknya coba digunakan tim Prabowo untuk meningkatkan simpati masyarakat. Gejala itu sudah mulai terlihat dengan bermunculannya simpati dukungan kepada Prabowo di media sosial, ucap dia. Baca juga: Sebagai Pemimpin Politik, Prabowo Dorong Pembangunan Tanggul Laut Raksasa di Kawasan Pantura Maka dari itu, Jamiluddin menduga tim Prabowo ingin mengambil manfaat sebagaimana yang dialami SBY. Jamiluddin melihat peluang ke arah itu sudah makin terlihat.  Hal itu setidaknya terlihat dari hasil survei terakhir yang tetap mendudukkan Prabowo dengan elektabilitas tertinggi, ucap Jamiluddin. Sebelumnya, Sekretaris Tim Kampanye Nasional (TKN) Prabowo Subianto-Gibran Rakabuming Raka, Nusron Wahid mengeklaim Prabowo berhasil mendapatkan simpati publik setelah debat ketiga Pilpres 2024. Sebab, kata dia, Prabowo tetap sabar meski dihina-hina terus di debat capres. Kalau kita pantau di sosmed, reaksi balik dari publik luar biasa. Rata-rata malah bersimpati dengan Pak Prabowo. Karena keikhlasan dan kesabaran meski dikuyo-kuyo (dihina-hina), ujar Nusron saat dimintai konfirmasi, Selasa (9/1/2024).  Nusron lantas bersyukur Prabowo tidak terpancing emosi saat dikeroyok oleh Anies Baswedan dan Ganjar Pranowo dalam debat capres. Menurut Nusron, Prabowo adalah negarawan yang tetap tenang. Alhamdulillah Pak Prabowo, kendati diserang dan dikeroyok, dengan sabar, dan kenegarawanannya mampu tenang dan tidak terpancing emosi, kata Nusron. ",
          "PDI-P belum habis asa untuk melawan kemenangan Prabowo Subianto dan Gibran Rakabuming Raka pada Pemilihan Presiden (Pilpres) 2024. Setelah Mahkamah Konstitusi (MK) menolak gugatan sengketa pilpres yang diajukan kubu Ganjar Pranowo dan Mahfud MD yang dilanjutkan dengan penetapan oleh Komisi Pemilihan Umum (KPU) sebagai presiden dan wakil presiden terpilih, PDI-P masih mengajukan gugatan ke Pengadilan Tata Usaha Negara (PTUN). Gugatannya diarahkan pada KPU yang dianggap telah melawan hukum dengan menerima pendaftaran Gibran sebagai cawapres. Ketua Tim Hukum PDI-P Gayus Lumbuun sepakat bahwa PTUN tak bisa membatalkan putusan MK. Baca juga: Abaikan PDI-P, MPR: Tak Ada Alasan untuk Tidak Lantik Prabowo-Gibran Putusan PTUN tidak mungkin membatalkan keputusan MK. Kami sangat sadar, tetapi kehidupan dinamika dari hukum ini kan luas sekali, sebut Gayus di PTUN, Jakarta, Kamis (5/2/2024). Lebih lanjut, ia mengatakan bahwa putusan PTUN nantinya bisa menjadi dasar MPR RI tak melantik Prabowo dan Gibran. Kalau KPU tidak berhak membatalkan, kami berpandangan rakyat yang berkumpul di MPR, diwakili anggota-anggota MPR, bisa punya sikap untuk tidak melantik. Itu yang kami ajukan, ucapnya. Keinginan PDI-P itu nyatanya tidak mendapatkan sambutan positif dari beberapa anggota MPR RI. Wakil Ketua MPR dari Partai Demokrat Syarief Hasan menyampaikan mengacu pada Undang-Undang (UU) Pemilu, Prabowo-Gibran tetap akan dilantik. Menurut UU Pemilu, MPR harus melantik presiden terpilih yang sudah ditetapkan oleh KPU hasil pemilu, sebut dia. Baca juga: Sadar PTUN Tak Bisa Batalkan Putusan MK, PDI-P: Tapi MPR Punya Sikap untuk Tidak Melantik Prabowo   Kemudian, Wakil Ketua MPR RI dari Partai Kebangkitan Bangsa (PKB) Jazilul Fawaid menganggap, pernyataan Gayus hanya merupakan harapan semata. Sebab, PTUN Jakarta pun belum memberikan putusan. Sidang perdana baru dimulai Kamis kemarin. Itu baru harapan saja. Kita tunggu keputusan hukum PTUN, katanya. Lalu, Wakil Ketua MPR RI dari Partai Amanat Nasional (PAN) Yandri Susanto menganggap putusan PTUN tak bisa mengganggu pengangkatan Prabowo-Gibran. Menurut kami, dan saya sebagai Wakil Ketua MPR, sekarang Pak Prabowo dan Mas Gibran tinggal menunggu waktu pelantikan tanggal 20 Oktober nanti, tutur Yandri saat dihubungi Kompas.com, Jumat (3/5/2024). Baca juga: Harap PTUN Kabulkan Gugatan, PDI-P: MPR Bisa Tidak Lantik Prabowo-Gibran Oleh karena itu, MPR tidak punya alasan untuk tidak melantik pasangan Prabowo dan Gibran. Jadi menurut kami PTUN itu tidak ada pengaruhnya terhadap proses pelantikan Pak Prabowo dan Mas Gibran, imbuh dia. Gayus menegaskan, PDI-P tidak mempersoalkan hasil Pemilu Presiden (Pilpres) 2024. Maka dari itu, dia tetap menghormati apa yang sudah diputuskan oleh MK yang menolak permohonan gugatan kubu pasangan calon presiden dan wakil presiden nomor urut 1 dan 3. Tapi kami minta agar PTUN mengadili, apakah betul KPU telah melanggar hukum sebagai aparatur negara di bidang pemilu ini, urai Gayus. Nah PTUN akan memutuskan, apakah betul ada pelanggaran hukum oleh KPU terhadap cawapres yang sekarang jadi penetapan oleh KPU dan akan dilantik, jadi permohonan kami untuk tidak dilantik, tambahnya.   Di sisi lain, Kuasa Hukum KPU RI Saleh mengatakan, pihaknya belum mengetahui pasti isi objek gugatan dari tim kuasa hukum PDI-P. Saleh mengakui dirinya kebingungan untuk mempersiapkan jawaban. Ya karena kami ini juga belum paham betul, isinya juga apa, kami juga cuma lihat di media. Tapi itu kan bukan kemudian harus kita jadikan acuan kan, katanya saat ditemui di Pengadilan Tata Usaha Negara (PTUN) Jakarta, Cakung, Jakarta Timur, usai sidang, Kamis (2/5/2024). Jadi kalau kaitan dengan kemudian bagaimana jawaban KPU, hingga hari ini masih belum paham juga mau jawab apa, lanjut Saleh. Baca juga: Kuasa Hukum KPU Belum Paham Isi Gugatan PDI-P di PTUN Ia lantas merujuk pada sikap PTUN yang juga mempertanyakan objek gugatan yang diajukan PDI-P. Majelis itu bertanya, kalau yang diminta kaitan dengan pelantikan itu, pertanyaan majelis, kaitan dengan penetapan paslon, kaitan dengan penetapan hasil, apakah itu dijadikan satu atau pisah? tutur Saleh. Lebih jauh, dirinya juga mempertanyakan objek gugatan yang dilayangkan kuasa hukum PDI-P dalam persidangan. Pasalnya, selaku kuasa hukum, KPU hanya menerima surat panggilan dari PTUN Jakarta terkait Surat Keputusan (SK) KPU Nomor 360 tahun 2024 tentang penetapan hasil pemilihan umum (Pemilu) pada 20 Maret lalu. Baca juga: PDI-P Harap PTUN Tidak Biarkan Pelanggaran Hukum yang Diduga Dilakukan KPU   Padahal, Saleh menilai, SK itu sudah diputuskan oleh KPU. Sementara yang dipersoalkan PDI-P justru proses pendaftaran Gibran Rakabuming Raka sebagai calon wakil presiden.  Kami sampaikan bahwa kami ini masih belum tahu (paham) terkait dengan gugatan. Karena dalam panggilan yang dilayangkan oleh PTUN Jakarta ini terhadap KPU, itu adalah mencantumkan SK 360. Berkaitan dengan penetapan hasil, kata Saleh. Nah oleh karena itu, kami confirm tadi, selaku kuasa KPU, mengapa gugatan objeknya yang dilayangkan ini 360? Mengapa? Karena 360 sudah diputuskan oleh Mahkamah Konstitusi, katanya lagi. Sebelumnya diberitakan, PDI-P mengajukan gugatan untuk KPU di PTUN, Jakarta, pada Selasa (2/4/2024). Gugatan ini teregister dengan nomor perkara 133/G/TF/2024/PTUN.JKT.  Baca juga: Sidang Administrasi Selesai, PTUN Minta PDI-P Perbaiki Gugatan terhadap KPU Gugatan ini diajukan karena KPU dianggap telah melakukan perbuatan melawan hukum dalam proses penyelenggaraan Pemilihan Presiden (Pilpres) 2024. PDI-P menganggap tindakan KPU menerima pendaftaran Gibran Rakabuming Raka sebagai calon wakil presiden sebagai tindakan perbuatan melawan hukum. Adapun perbuatan melawan hukum yang dimaksudkan dalam gugatan ini adalah berkenaan dengan tindakan KPU sebagai penguasa di bidang penyelenggaraan Pemilu karena telah mengenyampingkan syarat usia minimum bagi cawapres, yaitu terhadap Saudara Gibran Rakabuming Raka, kata Ketua Tim Hukum PDI-P Gayus Lumbuun di Kantor PTUN. ",
          "Pasangan nomor urut 02, Prabowo Subianto-Sandiaga Salahuddin Uno telah mengumumkan daftar nama yang terlibat dalam Tim Pemenangan Nasional untuk Pilpres 2019. Tim ini dipimpin oleh mantan Panglima TNI Jenderal (Purn) Djoko Santoso. Sedangkan, Prabowo akan memimpin dewan pembina yang di dalamnya juga terdapat tokoh seperti Amien Rais, Salim Segaf Al Jufri, Agus Harimurti Yudhoyono, dan Hutomo Mandala Putra. Ketua Dewan Pengarah akan dipimpin oleh Presiden PKS Mohamad Sohibul Iman. Dewan ini terdiri dari sejumlah nama seperti Titiek Soeharto, Fadli, Zon, dan Ahmad Heryawan. Ketua Umum PAN Zulkifli Hasan akan memimpin dewan penasihat, yang anggotanya juga terdiri atas tokoh seperti Hidayat Nur Wahid, Rhoma Irama, dan Syarief Hasan. Sedangkan, Presiden keenam RI yang juga Ketua Umum Partai Demokrat Susilo Bambang Yudhoyono akan memimpin juru kampanya nasional. Seperti apa daftar nama dalam Tim Pemenangan Nasional Prabowo-Sandiaga? Lihat dalam infografik di bawah ini:   ",
          "Capres nomor urut 1 Anies Baswedan mengatakan bahwa proses pembentukan kabinet pemerintahan baru masih lama. Hal ini diungkapkan saat ditanya apakah sudah ada tawaran kepadanya untuk bergabung ke dalam kabinet Prabowo Subianto-Gibran Rakabuming Raka, sebagai salah satu menteri, ke depan. Kan masih lama proses kabinet juga, ujar Anies saat ditemui di Akademi Bela Negara Partai Nasdem, Jakarta Selatan, Kamis (2/5/2024). Prabowo-Gibran, sesuai dengan aturan yang ada saat ini, akan dilantik sebagai presiden dan wakil presiden pada 20 Oktober 2024. Baca juga: Surya Paloh Pamer Nasdem Bisa Dukung Anies, tapi Tetap Berada di Pemerintahan Jokowi Saat disinggung apakah sudah ada pihak Prabowo yang mencoba mengajaknya berkomunikasi, Anies tak menjawab tegas. Baru ada pengumuman KPU minggu lalu, masih panjang, imbuhnya. Sebelumnya, Wakil Ketua Tim Kampanye Nasional (TKN) Prabowo-Gibran, Ahmad Muzani meyakini bahwa kubu Anies-Muhaimin dan PDI Perjuangan akan ikut menjadi bagian dari pemerintahan ke depan. Sebab, kata dia, Prabowo berharap bisa membangun pemerintahan secara bersama-sama. Kami merasa bahwa insyaallah ajakan kami untuk bersama-sama membangun Indonesia ke depan di bawah pemerintah Prabowo-Gibran sepertinya bukan bertepuk sebelah tangan, ujar Muzani saat ditemui di Medcen TKN Prabowo-Gibran, Jakarta Selatan, Selasa (20/2/2024) malam. Baca juga: Ditanya soal Pilkada DKI Jakarta, Anies: Kasih Jeda Dulu Harapan Pak Prabowo untuk bisa bersama-sama untuk membangun Indonesia dari komunikasi awal kami dengan semua parpol yang tadinya berbeda pilihan dalam pilpres sepertinya dalam komunikasi awal kami bukan sesuatu yang bertepuk sebelah tangan, sambungnya. ",
          "Pengamat politik dari Universitas Al Azhar Indonesia, Ujang Komarudin, mengatakan, pasca Pemilu Presiden (Pilpres) 2024, partai politik (parpol) berupaya menyelamatkan diri masing-masing. Ini tampak dari tiga parpol yang semula tergabung dalam Koalisi Perubahan untuk Persatuan, Partai Kebangkitan Bangsa (PKB), Partai Nasdem, dan Partai Keadilan Sejahtera (PKS), yang kini mengisyaratkan merapat ke koalisi pemenang pilpres, Prabowo Subianto-Gibran Rakabuming Raka. Saat ini, partai politik menyelamatkan diri masing-masing untuk kepentingan masing-masing. Karena posisi kalah ya apa boleh buat, semua partai politik balik kanan, punya agenda masing-masing ke depan, kata Ujang kepada Kompas.com, Rabu (24/4/2024). Menurut Ujang, manuver PKB, Nasdem, dan PKS menunjukkan bahwa setiap parpol berkalkulasi dan bekerja sesuai dengan kepentingan politik masing-masing. Dinamika ini seolah membuktikan bahwa narasi perubahan yang sempat diusung ketiga partai pada Pilpres 2024 merupakan narasi jualan semata. Baca juga: Cinta Lama Gerindra-PKB yang Bersemi Kembali Sebab, berbeda dengan Koalisi Perubahan untuk Persatuan, kubu Prabowo-Gibran mengusung semangat keberlanjutan pemerintahan Presiden Joko Widodo. Namanya juga slogan, namanya juga kampanye untuk bisa menarik simpati dan dukungan publik, ucap Ujang. Ujang mengaku tak terkejut jika PKB benar-benar bergabung ke kubu Prabowo-Gibran. Sejak awal, ia sudah memprediksi partai pimpinan Muhaimin Iskandar itu bakal merapat ke kubu pemenang. Alasannya, selain karena PKB tak punya sejarah sebagai oposisi, Muhaimin juga dinilai tengah berupaya mempertahankan jabatan sebagai pucuk pimpinan partai. Sebab, menurut desas-desus yang berembus, ada pihak yang mengincar kursi Ketua Umum PKB. Kalau Cak Imin menjadi oposisi, dikerjai oleh pemerintah, bisa hilang jabatan ketua umumnya. Itu tentu merugikan Cak Imin, kata Ujang. Dan kalau masuk pemerintahan tentu dapat menteri, berkuasa lagi, posisi ketua umum pun bisa aman. Itu rasional saja dalam politik taktis, lanjutnya. Sementara, Nasdem disebut sebagai parpol yang paling awal bermanuver. Ini tampak dari Ketua Umum Partai Nasdem Surya Paloh yang langsung memberikan ucapan selamat begitu Prabowo-Gibran dinyatakan sebagai pemenang Pilpres 2024 oleh Komisi Pemilihan Umum (KPU) pada 20 Maret 2024 lalu. Sementara, peluang PKS berkoalisi dengan pemerintahan Prabowo-Gibran dinilai masih fifty-fifty. Partai pimpinan Ahmad Syaikhu itu diduga masih mempertimbangkan dinamika politik ke depan. Mungkin Majelis Syuro PKS memperhatikan kebatinan konstituen PKS, apakah konstituennya mau oposisi ataupun berkoalisi. Penentu di PKS itu bukan ketua umum, tapi Majelis Syuro, tutur Ujang. Sebelumnya diberitakan, tiga partai anggota Koalisi Perubahan untuk Persatuan yakni PKB, Nasdem, dan PKS, membuka peluang bergabung ke koalisi Prabowo-Gibran. Pada Pilpres 2024, kongsi tersebut mengusung Anies Baswedan-Muhaimin Iskandar sebagai calon presiden dan calon wakil presiden (capres-cawapres). Namun, pasangan ini ditumbangkan oleh Prabowo-Gibran. Baca juga: PKB Beri Sinyal Gabung Koalisi Prabowo, Cak Imin Dinilai Ingin Amankan Kursi Ketum Sinyal merapatnya PKB ke koalisi pemerintahan mendatang tampak dalam pertemuan Muhaimin dengan Prabowo pada Rabu (24/4/2024). Usai ditetapkan sebagai presiden terpilih, Prabowo berkunjung ke kantor DPP PKB di kawasan Jakarta Pusat. Kehadiran Prabowo disambut meriah oleh elite PKB. Karpet merah digelar untuk menyambut kehadiran presiden terpilih itu. Prabowo mengungkapkan, dalam pertemuan itu pada pokoknya PKB menyampaikan keinginan untuk bekerja sama dengan pemerintahannya ke depan. Saya menerima tadi penyampaian pernyataan bahwa PKB ingin terus bekerja sama dengan Gerindra, dengan Prabowo Subianto untuk mengabdi demi kepentingan rakyat, kata Prabowo. Terpisah, Surya Paloh mengaku, partainya dan PKS siap jika harus bergabung sebagai koalisi atau menjadi oposisi pemerintahan Prabowo-Gibran. Saya katakan tadi sama teman-teman PKS, Coba renungkan, apa yang terbaik bagi negeri ini? PKS di dalam pemerintahan atau di luar pemerintahan? ujar Surya usai bertemu dengan Presiden PKS Ahmad Syaikhu di Nasdem Tower, Jakarta, Rabu (24/4/2024). ",
          "Belakangan ini, ramai pemberitaan soal status perkawinan presiden terpilih 2024, Prabowo Subianto dan mantan istrinya, Titiek Soeharto. Keduanya menjadi sorotan akhir-akhir ini karena kerap tampil bersama. Misalnya saja saat Titiek hadir dalam penetapan Prabowo sebagai capres terpilih di Kantor Komisi Pemilihan Umum, Rabu (24/4/2024). Titiek juga beberapa kali memamerkan momen kebersamaannya dengan Prabowo dan anak mereka, Didiet Hediprasetyo. Pada 14 April lalu, misalnya, dia mengunggah ke Instagram foto khusus saat disuguhi kue ulang tahun oleh Prabowo yang hadir pada acara syukurannya. Berdasarkan dokumen pendaftaran Prabowo sebagai capres 2024-2029, status pernikahan Menteri Pertahanan itu tertulis pernah. Baca juga: Ini Status Perkawinan Prabowo dan Titiek Soeharto Sementara itu, Titiek hanya menulis huruf P dalam kolom yang sama dokumen pendaftarannya sebagai caleg DPR RI, yang berarti pernah. Titiek maju sebagai calon anggota legislatif (caleg) DPR RI pada daerah pemilihan DI Yogyakarta. Lantas, apa arti pernah kawin dalam status perkawinan? Bedakah dengan status bercerai? Menurut pengacara dari Kantor Hukum Ongko Purba and Partner, R. Achmad Zulfikar Fauzi S.H, status pernah kawin itu merupakan akibat pembatalan perkawinan berdasarkan putusan pengadilan. Sementara itu, status janda atau duda didasarkan pada hasil putusan gugatan atau permohonan talak berdasarkan putusan pengadilan, atau salah satu pasangan suami /istri meninggal dunia. Ini berdasarkan Pasal 28 Ayat (1) Undang-Undang Nomor 1 Tahun 1974 tentang Perkawinan (UU Perkawinan) yang mengatur soal batalnya perkawinan. Baca juga: Ayah Teuku Ryan Salahkan Anaknya soal Perceraian dengan Ria Ricis Adapun soal perceraian/permohonan talak diatur dalam Pasal 39 UU Perkawinan. Ia juga menyampaikan perbedaan alasan pembatalan perkawinan dan perceraian menurut hukum. Berdasarkan Pasal 26 dan 27 UU Perkawinan, syarat atau alasan pembatalan perkawinan sebagai berikut: 1. Perkawinan dilangsungkan di hadapan pegawai pencatatan yang tidak berwenang 2. Perkawinan dilangsungkan di hadapan wali nikah yang tidak sah 3. Perkawinan dilangsungkan tanpa dihadiri oleh dua orang saksi 4. Perkawinan dilangsungkan di bawah ancaman yang melanggar hukum 5. Terjadi salah sangka kepada diri suami atau istri selama pernikahan berlangsung   Sementara itu, alasan perceraian dimuat dalam Penjelasan Pasal 39 Ayat (2) UU Perkawinan. Berdasarkan pasal tersebut, ada 6 sebab yang dapat dijadikan alasan perceraian, baik untuk menjatuhkan talak maupun cerai gugat. Enam alasan itu sebagai berikut: 1. Salah satu pihak atau pasangan melakukan zina, merupakan pemabuk, pemadat, penjudi, dan perbuatan lainnya yang sukar disembuhkan 2. Salah satu pihak meninggalkan pihak lain selama 2 tahun berturut-turut tanpa izin pihak lain dan tanpa alasan yang sah atau karena hal lain diluar kemampuannya 3. Salah satu pihak atau pasangan mendapat hukuman penjara 5 tahun atau hukuman yang lebih berat setelah perkawinan berlangsung Baca juga: Titiek Soeharto-Didiet Hadiri Penetapan Prabowo-Gibran di KPU 4. Salah satu pihak atau pasangan melakukan kekejaman atau penganiayaan berat yang membahayakan pihak yang lain 5. Salah satu pihak atau pasangan mendapat cacat badan atau penyakit dengan akibat tidak dapat menjalankan kewajibannya sebagai suami/istri 6. Antara suami dan istri terus-menerus terjadi perselisihan dan pertengkaran dan tidak ada harapan akan hidup rukun lagi dalam rumah tangga.   ",
          "Dewan Pakar Tim Kampanye Nasional (TKN) Prabowo-Gibran, Imanuel Cahyadi, menegaskan Prabowo-Gibran mempunyai komitmen dalam mengatasi kasus kekerasan terhadap perempuan dan anak. Perempuan dan anak telah mendapatkan prioritas oleh Prabowo-Gibran, tercermin di visi dan misi kami. Ruang perlindungan sudah berujung ke arah yang tepat di bawah pemerintahan Presiden Jokowi, dan kami akan menyempurnakannya lagi, ungkap Cahyadi dalam keterangannya, Jumat (15/12/2023). Cahyadi memaparkan, bahwa dalam Visi-Misi Asta Cita 1 telah terdapat program kerja yang memperkuat perlindungan terhadap perempuan dan anak, serta memperkuat penegakan hukum sebagai upaya yang preventif. Salah satu cara yang akan menjadi fokus pasangan Prabowo Subianto dan Gibran Rakabuming, lanjut Cahyadi, adalah pembangunan kesejahteraan untuk keluarga. Baca juga: Elektabilitas Prabowo-Gibran Tinggi meski Jarang Kampanye, Pengamat: Kekuatan Mesin Politik dan Relawan Cara ini diyakini bisa menekan munculnya masalah kekerasan terhadap perempuan dan anak di dalam lingkup keluarga. Kami kembali menekankan langkah preventif dengan membangun kesejahteraan ekonomi keluarga, dengan lapangan pekerjaan makin dibuka dengan luas, jelasnya. Tak hanya itu, pasangan Prabowo-Gibran juga memiliki beberapa program dengan tujuan membangun ketahanan nasional dari tingkat individu hingga lingkup keluarga. Kami bangun ketahanan nasional dari tingkat individu dan tingkat keluarga. Langkah konkretnya adalah dengan program-program yang dibawakan, seperti makan siang gratis dan lain-lain, jelas Cahyadi. Selain itu, Prabowo-Gibran juga memberi perhatian terkait isu kesehatan mental, karena pada dasarnya visi dan misi Indonesia maju menekankan pada program-program preventif berbasis perlindungan terhadap perempuan, anak, dan kesejahteraan keluarga. Pada akhirnya, bisa diambil kesimpulan, bahwa Prabowo-Gibran sangat concern (perhatian) dengan isu semacam kekerasan fisik atau kesehatan mental yang dialami oleh perempuan dan anak, tandasnya. Baca juga: Ayah Pembunuh 4 Anak di Jagakarsa Tulis Pesan Kecemburuan terhadap Istrinya di Laptop Cahyadi juga menyoroti data Kementerian Pemberdayaan Perempuan dan Perlindungan Anak (PPPA) bahwa hingga Desember 2023, tercatat ada sebanyak 26.362 kasus kekerasan terhadap perempuan dan anak yang terjadi di Indonesia. Didapati pula bahwa kasus kekerasan perempuan dan anak yang paling tinggi terjadi di lingkungan rumah tangga, yaitu 16.039 kasus. Kasus kekerasan terhadap perempuan dan anak di lingkungan rumah tangga ini disebabkan oleh faktor ekonomi, yang semakin berat pasca pandemi Covid-19. ",
          "Pengamat politik Dedi Kurnia Syah menilai bahwa rencana pertemuan Ketua Umum PDI-P Megawati Soekarnoputri dan calon presiden pemenang Pilpres 2024, Prabowo Subianto tak lepas dari peran Ketua DPP PDI-P Puan Maharani. Puan, adalah putri dari Megawati. Menurut Dedi, pertemuan itu tidak bisa dielakkan oleh Megawati karena merupakan permintaan putrinya. Megawati jika lakukan pertemuan dengan Prabowo, tidak lantas mengobati sakit hatinya, lebih pada ia tidak bisa menolak permintaan Puan karena putrinya, kata Dedi kepada Kompas.com, Selasa (9/4/2024). Baca juga: Ultimatum Moral Negarawan Megawati Soekarnoputri Dedi berpendapat, meski jadi bertemu Prabowo, tetap tidak bisa menurunkan rasa sakit hati Megawati terhadap Presiden Joko Widodo, yang dianggap telah berkhianat dengan mendukung kemenangan Prabowo beserta putra sulungnya, Gibran Rakabuming Raka dalam Pilpres 2024. Rencana pertemuan Megawati dan Prabowo, menurut Dedi, juga sejak awal diduga sudah dirancang oleh Puan Maharani. Berkaitan itu juga, ia melihat Puan sebagai penghambat jalannya PDI-P menggulirkan hak angket menyelidiki dugaan kecurangan Pilpres di DPR. Sebagai gantinya, Puan akan mendapat dukungan untuk memimpin DPR di periode berikutnya, terbukti dengan keputusan sidang terkait UU MD3 yang masih potensial memberi ruang ke Puan Maharani, ungkapnya. Baca juga: Menerka Peluang PDI-P Masuk Pemerintahan Usai Mega Utus Puan Bertemu Prabowo Lebih jauh, ia juga berpandangan bahwa Puan menjadi satu-satunya tokoh yang paling potensial merusak konsolidasi di internal PDI-P. Pasalnya, pasca Pilpres 2024, PDI-P gencar digadang bakal menjadi oposisi pemerintah ke depan. Namun rencana pertemuan Megawati dan Prabowo yang didahului oleh Puan seakan merusak konsolidasi internal partai banteng moncong putih. Ia (Puan) cenderung mengejar kepentingan personalnya dibanding keutuhan PDI-P secara organisasi, nilai Dedi. Baca juga: Soal Pertemuan dengan Megawati, Gerindra: Prabowo Selalu Datang ke Senior Atas hal itu, Dedi juga melihat kemungkinan PDI-P akan bergabung ke koalisi pemerintahan Prabowo-Gibran jika benar peran Puan Maharani begitu besar. Jika demikian, menurut Dedi, kondisi pemerintahan ke depan yang dipimpin Prabowo, akan serupa dengan pemerintahan Jokowi. Bisa saja PDI-P berada di koalisi Prabowo, dan situasi rezim Prabowo akan serupa dengan Jokowi, di mana parlemen dikuasai pemerintah, pungkasnya. Sebagai informasi, menjelang perayaan Idul Fitri, kabar bakal bertemunya tokoh-tokoh politik semakin menguat. Ada dua tokoh yang digadang kuat bertemu, yaitu Megawati dan Prabowo. Namun dikabarkan pertemuan itu bakal didahului oleh Puan dan Prabowo. Dalam hal ini, Ketua DPP PDI-P Said Abdullah mengungkapkan bahwa Megawati yang menugaskan Puan untuk menjalin komunikasi dengan Prabowo. Jadi, dari satu poin dan dua poin itu, muaranya, Ibu menugaskan Mbak Puan memang untuk membangun komunikasi. Setelah membangun komunikasi, nanti Mbak Puan report, kata Said saat dihubungi, Senin (8/4/2024). Hasil report itulah yang akan menentukan Ibu ketua umum bertemu dengan Pak Prabowo, duduk bersama. Kan begitu, lanjutnya. ",
          "Presiden Terpilih Prabowo Subianto tampak menghadiri puncak acara Hari Bhayangkara ke-78 di Monumen Nasional (Monas), Jakarta, Senin (1/7/2024) sore. Ia secara khusus disapa oleh Presiden RI Joko Widodo selaku inspektur upacara. Yang saya hormati ketua dan wakil ketua lembaga-lembaga tinggi negara, yang saya hormati Presiden Terpilih Republik Indonesia Bapak Prabowo Subianto, kata Jokowi, Senin. Seperti diketahui, Prabowo kemarin, Minggu (30/6/2024), mengumumkan bahwa dirinya menjalani operasi besar di Rumah Sakit Pusat Pertahanan Negara (RSPPN) Panglima Besar Soedirman, Bintaro, Jakarta Selatan, pekan lalu. Operasi ini berkaitan dengan cedera kaki yang dideritanya akibat kecelakan terjun payung saat bertugas di Timor Timur. Baca juga: Ruas Jalan Menuju Istiqlal Macet Imbas Perayaan HUT Bhayangkara di Monas Selain menyapa Prabowo, Jokowi juga menyapa Wakil Presiden Ke-10 dan Ke-12 RI Jusuf Kalla, hingga Istri Presiden ke-4 RI Abdurrahman Wahid atau Gus Dur, Sinta Nuriyah yang turut hadir di acara ini. Yang saya hormati, Ibu Negara Keempat Republik Indonesia Ibu Hajah Sinta Nuriyah Abdurrahman Wahid, Wakil Presiden ke-10 dan ke-12 Republik Indonesia, Bapak Haji Muhammad Jusuf Kalla, kata Jokowi selaku Inspektur Upacara.   Selain itu, hadir juga sejumlah para duta besar negara sahabat, para menteri Kabinet Indonesia Maju (KIM), Panglima TNI Jenderal Agus Subiyanto. Jokowi turut menyapa Kapolri Jenderal Listyo Sigit Prabowo serta sejumlah jajaran Korps Bhayangkara dan para purnawirawan. Saat membuka sambutannya, kepala negara memberi selamat atas hari jadi Polri yang ke 78. Baca juga: 1.274 Personel Polda Metro Jaya Naik Pangkat Saat HUT Bhayangkara ke-78 Saya ingin menyampaikan ucapan selamat Hari Bhayangkara yang ke-78 kepada seluruh keluarga besar Polri di mana pun saudara bertugas, ujar Jokowi. Selepas Jokowi memberikan sambutannya, acara kegiatan dilanjutkan dengan penampilan parade defile yang melantunkan lagu Koyo Jogja Istimewa. Kemudian serta atraksi terjun payung dengan ketinggian 6.000 kaki oleh sejumlah anggota Polri. Setelahnya, parade defile sekaligus memperlihatkan sejumlah kendaraan taktis. ",
          "Presiden terpilih 2024-2029 sekaligus Menteri Pertahanan (Menhan) Prabowo Subianto mengungkapkan, dirinya menjalani operasi besar di Rumah Sakit Pusat Pertahanan Negara (RSPPN) Panglima Besar Soedirman, Jakarta Selatan, pada minggu lalu. Operasi itu dilakukan karena ia pernah dua kali kecelakaan ketika melaksanakan aksi terjun payung saat masih aktif sebagai prajurit TNI dulu. Kecelakaan itu, kata dia, membuat kaki kirinya cedera, sehingga membuat rasa sakitnya terus dirasakan hingga pada saat ini. Seperti sudah diketahui banyak pihak, saya pernah mengalami dua kali kecelakaan terjun payung saat bertugas di TNI pada tahun 80-an di kaki kiri saya, cedera ini selama ini masih saya rasakan, ujar Prabowo dalam keterangannya, Minggu (30/6/2024). Baca juga: Prabowo Jalani Operasi Besar di RSPPN Soedirman Pekan Lalu Usai menjalani operasi, Prabowo menyatakan dirinya siap beraktivitas kembali usai melakukan operasi terhadap cedera kaki kirinya itu. Insya Allah dengan kondisi sehat walafiat ke depan, saya semakin siap untuk berbakti dan mengabdi untuk negara dan rakyat Indonesia. Terima kasih kepada seluruh masyarakat atas doa dan dukungannya, tuturnya. Prabowo menyebut dirinya paham dan sadar bahwa operasi cedera kaki ini berisiko karena mengancam nyawanya. Namun, demi bangsa dan negara, Prabowo meyakini tim dokter pasti berhasil melakukan operasi. Baca juga: Jokowi Jenguk Prabowo Usai Jalani Operasi Cedera Kaki di RSPPN PB Soedirman Saya sadar dan paham bahwa tindakan medis yang saya jalani penuh dengan risiko dan pertaruhan nyawa, saya yakinkan diri bahwa semua ini untuk negara dan bangsa, saya juga yakin tim dokter dan seluruh tenaga medis yang menanganinya pun handal dan profesional, imbuh Prabowo. ",
          "Juru Bicara Presiden Terpilih 2024-2029 Prabowo Subianto, Dahnil Anzar Simanjuntak memastikan, isu Prabowo akan menikahi mertua Kaesang Pangarep, Sofiatun Gudono adalah hoaks. Hoaks, ujar Dahnil saat dimintai konfirmasi, Rabu (1/5/2024). Dalam video yang beredar di media sosial, tampak narasi bahwa Prabowo akan menikah dengan Sofiatun Gudono. Baca juga: Ditolak Partai Gelora Gabung Koalisi Prabowo, PKS: Jangan Terprovokasi Prabowo dinarasikan bakal menikah dengan Sofiatun Gudono pada 20 Mei 2024. Adapun Prabowo telah terpilih menjadi presiden untuk periode 2024-2029. Prabowo saat ini tidak memiliki istri lantaran telah bercerai dengan anak Presiden ke-2 Soeharto, Titiek Soeharto. Meski demikian, belakangan, hubungan Prabowo dan Titiek tampak hangat. Titiek bahkan tersipu malu saat ditanya apakah dirinya bakal mendampingi Prabowo menjadi ibu negara. ",
          "Survei Indikator Politik Indonesia menunjukkan, pemilih pasangan calon presiden dan calon wakil presiden nomor urut 2, Prabowo Subianto-Gibran Rakabuming Raka didominasi oleh generasi Z. Berdasarkan rilis exit poll Pilpres 2024 Indikator Politik Indonesia yang diterbitkan hari ini, 71 persen responden yang merupakan generasi Z atau anak muda berusia kurang dari 27 tahun memilih Prabowo-Gibran. Jumlah ini lebih banyak dibanding generasi Z yang memilih paslon nomor urut 1, Anies Baswedan-Muhaimin Iskandar sebanyak 19,7 persen responden dan paslon nomor urut 3, Ganjar Pranowo-Mahfud MD sebanyak 9,3 persen. Baca juga: Kata Kubu Anies dan Prabowo soal Ganjar Dorong Hak Angket Kecurangan Pemilu 2024 Berdasarkan usia atau generasi tampak cukup besar perbedaannya. Gen Z mayoritas di 71 persen dari pemilih usia Gen Z itu memilih Prabowo-Gibran, sementara hanya 19,7 saja yang memilih AMIN dan paling sedikit Gen Z yang memilih Ganjar-Mahfud 9,3 persen, kata Peneliti Utama Indikator, Rizka Halida dalam konferensi pers secara daring, Rabu (21/2/2024). Sementara itu, generasi milenial dengan rentang usia 28-43 tahun yang memilih Prabowo-Gibran jauh lebih kecil dibanding Gen Z. Totalnya, sebanyak 60,5 persen memilih Prabowo-Gibran, 26 persen memilih Anies-Muhaimin, dan 13,5 persen memilih Ganjar-Mahfud. Dua generasi ini, kata Rizka, menjadi penopang elektabilitas Prabowo-Gibran mampu menyentuh kisaran 56-58 persen versi hasil hitung cepat (quick count). Jadi dari dua segmen pemilih yang secara demografis besar mayoritas yang solid mendukung pasangan calon (nomor urut) 2 sehingga ini yang menyumbang elektabilitas paslon dua, ucap dia. Baca juga: Prabowo-Gibran Unggul dalam Pemungutan Suara Ulang di 2 TPS di Buleleng Bali Peneliti Utama Indikator lainnya, Hendro Prasetyo menyampaikan, jumlah pemilih Prabowo-Gibran menyusut seiring bertambahnya usia responden. Hal ini berbeda dengan pasangan Ganjar-Mahfud yang justru menguat di responden usia tua. Jumlah responden kategori Gen X di rentang usia 44-59 tahun yang memilih Prabowo-Gibran mencapai 50,6 persen. Jumlah ini jauh lebih kecil dibanding responden Gen Z dan milenial yang memilihnya. Jumlahnya kian menyusut pada kategori lebih tua (older) usia di atas 60 tahun dengan jumlah 47,1 persen. Sementara itu, responden kategori Gen X di rentang usia 44-59 tahun yang memilih Ganjar-Mahfud mencapai 20,9 persen. Jumlah ini jauh lebih besar dibanding responden Gen Z dan milenial yang memilihnya. Jumlahnya pun kian membesar pada kategori usia 60 tahun ke atas dengan total 28,4 persen. Menarik karena kita lihat pemilih Pak Prabowo dan Mas Gibran ini, terus turun (seiring dengan tingginya usia pemilih). Artinya pemilih mudanya lebih banyak. Sementara Mas Ganjar dan Pak Mahfud itu semakin tua pemilihnya kebanyakan, tutur Hendro. Baca juga: Real Count Sementara KPU: Prabowo-Gibran Unggul di 36 Provinsi, Sapu Bersih Pulau Jawa Adapun pemilih Anies-Muhaimin didominasi oleh Gen X dengan usia 44-59 tahun sebanyak 28,5 persen Survei ini dilakukan dengan metode stratified two-stage random sampling. Sampel diambil dari 3.000 Tempat Pemungutan Suara (TPS) yang tersebar secara proporsional di setiap daerah pemilihan. Responden terpilih dari tiap TPS itu diwawancara secara tatap muka. Ada 2.975 responden yang diwawancara dengan toleransi kesalahan atau margin of error 1,8 persen pada tingkat kepercayaan 95 persen. ",
          "Wakil Ketua Tim Kampanye Nasional (TKN) Prabowo Subianto-Gibran Rakabuming Raka, Immanuel Ebenezer (Noel) mengatakan pertemuan antara capres pemenang Pemilu 2024 Prabowo dan Ketua Umum PDI-P Megawati Soekarnoputri sudah terjadwal. Noel menyebut jadwal pertemuan itu sudah ada di atas meja Prabowo. Soal pertemuan Bu Mega sepertinya ada. Soal ini (waktu pastinya) aku belum dapat info kapannya. Tapi pertemuan itu sudah terjadwal dan sudah di atas mejanya Prabowo, ujar Noel saat dimintai konfirmasi Kompas.com, Senin (8/4/2024). Baca juga: Hasto Sebut Puan Akan Jadi Ketua DPR Selanjutnya Sesuai Arahan Megawati Noel menjelaskan, hingga detik ini, belum ada hambatan apa pun yang bisa menghalangi pertemuan Prabowo-Megawati. Dia menyebut perbedaan sikap politik di Pilpres 2024 juga tidak menghalangi pertemuan kedua tokoh tersebut. Malahan, kata Noel, yang tidak menginginkan pertemuan Prabowo-Megawati hanyalah Sekjen PDI-P Hasto Kristiyanto. Yang galau itu hanya Hasto dan kawan-kawannya. Dan Hasto akan berusaha agar pertemuan Bu Mega dan Prabowo jangan sampai terealisasi, tuturnya. Hasto punya kepentingan agar kedua tokoh ini jangan sampai ketemu, sambung Noel. Baca juga: Megawati-Prabowo Bakal Bertemu, PDI-P Berpotensi Merapat ke Koalisi Gerindra Sementara itu, Noel meyakini Prabowo pasti mengajak PDI-P bergabung ke pemerintahan Prabowo-Gibran saat bertemu Megawati. Dia mengingatkan bahwa PDI-P adalah partai besar. Bisa saja itu terjadi. Karena biar bagaimanapun, PDI-P partai besar. Dan akan diajak (gabung pemerintah) untuk kerja-kerja besar buat bangsa ini, imbuhnya.  ",
          "Presiden RI terpilih Prabowo Subianto mengaku, dirinya mencalonkan diri sebagai presiden pada Pemilu 2024 karena didukung oleh Presiden Joko Widodo. Waktu saya ditanya saya mau maju atau tidak 2024, ini saya terang-terangan mengatakan, saya maju apabila saya direstui dan didukung oleh Pak Joko Widodo, kata Prabowo dalam acara Halalbihalal Pengurus Besar Nahdlatul Ulama (PBNU) di Jakarta, Minggu (28/4/2024). Prabowo mengungkap, dirinya telah dipersiapkan oleh Jokowi. Menteri Pertahanan itu tak malu-malu mengakui bahwa ia belajar dari Kepala Negara. Menurut Prabowo, Jokowi sosok yang sangat teliti. Ia pun tak merasa heran dikalahkan oleh mantan Gubernur DKI Jakarta tersebut pada dua kali pemilu presiden (pilpres), yakni 2014 dan 2019. Baca juga: Gelora Tolak PKS Gabung Prabowo-Gibran, Sebut Beda Ideologis dan Sikap Politik Beliau sangat teliti. Mungkin karena itu saya kalah dua kali sama beliau, ujar Prabowo diikuti tawa para hadirin. Tapi saya juga tidak kalah akal. Kalau dua kali kalah, lebih baik kita belajar dari yang menang. Saya merasa saya disiapkan benar-benar, lanjutnya. Usai gelaran Pilpres 2024, Prabowo pun mengaku semakin akrab dengan Jokowi. Ketua Umum Partai Gerindra itu bilang, Presiden kini memanggilnya dengan sebutan Mas Bowo, bukan lagi Menteri Pertahanan. Kemarin-kemarin saya masih dipanggil Menhan (Menteri Pertahanan), kan sekarang sudah lebih akrab, Mas Bowo, kata Prabowo, lagi-lagi mengundang tawa para hadirin. Prabowo juga mengungkap, Jokowi kian sering memerintahkannya untuk melawat ke luar negeri, mulai dari ke Tiongkok, Jepang, hingga negara timur tengah. Mas Bowo nanti harus berangkat ke sini, ketemu ini, kata Prabowo meniru ucapan Jokowi. Siap, Pak, siap. Benar, saya ke Tiongkok atas petunjuk beliau, ke Jepang. Sekarang saya diperintahkan untuk ke timur tengah, sangat penting, ujarnya. Sebagai presiden terpilih, Prabowo pun berjanji untuk melanjutkan pemerintahan Jokowi. Menteri Pertahanan tersebut menyadari bahwa pemerintahan Jokowi belum sepenuhnya berjalan baik. Untuk itu, diperlukan perbaikan dan inovasi yang cepat dalam berbagai hal. Prabowo berjanji bakal memberi solusi terhadap tuntutan dan tantangan yang dihadapi oleh bangsa dan rakyat ke depan. Strategi dan program yang sudah dirintis oleh Pak Joko Widodo dan pemerintahan beliau kami anggap adalah landasan fondasi yang sangat kuat dan kami akan membangun di atas fondasi itu, tuturnya. Baca juga: Puja-puji Jokowi, Prabowo: Saya Kalah Dua Kali, Makanya Belajar dari yang Menang Sebagaimana diketahui, Prabowo Subianto-Gibran Rakabuming Raka ditetapkan sebagai presiden dan wakil presiden terpilih RI masa jabatan 2024-2029 oleh KPU RI pada Senin (22/4/2024). Pasangan ini memenangi Pilpres 2024 dengan perolehan 96.214.691 suara atau sekitar 58,58 persen dari seluruh suara sah nasional. Sementara, pasangan capres-cawapres nomor urut 1, Anies Baswedan-Muhaimin Iskandar, mengekor di urutan kedua dengan raihan 40.971.906 suara atau sekitar 24,95 persen. Di urutan buntut, capres-cawapres nomor urut 3, Ganjar Pranowo-Mahfud MD, menghimpun 27.040.878 suara atau sekitar 16,47 persen dari seluruh suara sah nasional. Meski begitu, Prabowo-Gibran belum resmi menjadi presiden dan wakil presiden RI. Menurut jadwal, pelantikan keduanya bakal digelar pada 20 Oktober 2024. ",
          "Presiden terpilih 2024-2029 Prabowo Subianto tengah mempertimbangkan pembentukan kementerian khusus untuk mengurusi program makan bergizi gratis. Kita sedang pikirkan, apakah itu (program makan bergizi gratis) perlu kementerian khusus atau cukup badan saja. Yang penting adalah skemanya, sistemnya, sampai terwujud, sampai ke anak itu dengan tepat, ujar Prabowo dalam keterangannya, Jumat (24/5/2024). Pertimbangan untuk membentuk kementerian khusus itu muncul demi menghindari potensi kebocoran anggaran program tersebut. Ada fenomena sebagai anak bangsa bahwa sadar semua terjadi banyak kebocoran di bangsa kita. Nah, ini sekarang bagaimana kita membuat skema dengan efisien dengan baik, tidak ada kebocoran sampai ke anak-anak kita, tutur dia.  Baca juga: Persilakan Rakyat Kritik Pemerintahannya, Prabowo: Tapi yang Obyektif Prabowo melanjutkan, terkait pembagian susu gratis bagi anak-anak di seluruh Indonesia, akan dijalankan sesuai tipologi daerah masing-masing. Ia mencontohkan salah satu daerah di Maluku Barat Daya, yakni Pulau Moa yang kerap memproduksi air susu dari kerbau. Sehingga tidak sulit untuk mendapat produksi susu yang dapat dijangkau anak-anak di wilayah Moa. Dan masalah susu ya. Kita akan lihat ternyata tergantung daerahnya sebagai contoh Maluku Barat Daya, Pulau Moa, mereka itu banyak kerbau susu, kerbau di sana ada, cukup susu kerbau. Ada juga daerah-daerah yang banyak kambing etawa, bisa dapat susu kambing dan ini kita harus lihat, kata Prabowo. Sedangkan di daerah lain yang sulit mendapatkan sumber susu, akan difokuskan dengan pemerataan pembagian bahan pangan bergizi lain, misalnya ikan dan telur.  Baca juga: Pidato Megawati di Rakernas Dinilai Jadi Isyarat PDI-P Bakal Jadi Oposisi Prabowo Kalau lihat protein yang ada di susu, ternyata protein dan mineral dan zat-zat yang ada di telur itu lebih baik daripada susu. Para pakar cerita kepada saya dan telur kita jatuhnya bisa lebih murah bahwa di suatu daerah susu itu terlalu mahal ya kita konsentrasi kepada telur, kepada ikan, dan sebagainya, papar dia. Maka dari itu, Prabowo menekankan bahwa pembagian makanan bergizi dan juga susu gratis kepada anak-anak di Indonesia akan bersifat fleksibel dan disesuaikan dengan tipologi daerah masing-masing. Jadi, kita harus menyesuaikan rencana kita dengan tipologi dan kondisi daerah yang berbeda-beda. Kita jangan satu pola disamaratakan di Indonesia, ada daerah pegunungan, ada daerah pesisir, ada pulau. Jadi, kita harus selalu fleksibel, yang penting anak-anak kita dapat makanan bergizi. Saya kira itu tujuan kita, imbuh Prabowo. ",
          "Calon Presiden nomor urut dua, Prabowo Subianto, meyakini bahwa Indonesia akan menjadi negara maju dan negara yang produktif sehingga tidak menjadi pasar untuk bangsa lain. Tujuannya adalah Indonesia menjadi negara maju yang akan menjadi negara produktif, bukan pasar untuk negara lain, tuturnya di Gedung Dewan Pers, Kamis (4/1/2024). Hal itu dia sampaikan saat hadir sebagai pembicara dalam Dialog Pers dengan Capres yang diselenggarakan oleh Persatuan Wartawan Indonesia (PWI), Kamis. Prabowo mengatakan, Indonesia kaya akan sumber daya alam yang melimpah dan bisa diolah di dalam negeri oleh anak bangsa sendiri. Kita harus bikin mobil sendiri, motor kita sendiri, komputer kita sendiri, air conditioner kita sendiri, semua kita produksi di Indonesia. Sebab, kita punya bahan bakunya di Indonesia, ujarnya dalam siaran pers.  Baca juga: TKN: Tema Debat Ketiga Pak Prabowo Banget, Kami Percaya Diri Dia mengatakan, untuk mewujudkan tersebut, meningkatkan kecerdasan sumber daya manusia (SDM) adalah hal penting.  Salah satu upaya peningkatan kecerdasan SDM Indonesia adalah melalui pemberian gizi yang cukup dan sehat. Indonesia akan mencapai tujuan tujuannya pertumbuhan, pertumbuhan menciptakan lapangan kerja, perbaikan gizi akan menimbulkan perbaikan kesehatan untuk semua, peningkatan kecerdasan otot dan otak dan tulang yang kuat Indonesia bisa bersaing, jelasnya. Lebih lanjut, Prabowo mengatakan, perbedaan merupakan hal yang biasa dalam berdemokrasi.  Menteri Pertahanan (Menhan) itu menyebutkan, berbagai negara di dunia tengah menghadapi konflik, tetapi Indonesia tetap damai dan stabil. Baca juga: Enggan Ikuti Anies dan Mahfud, TKN: Belum Ada Urgensi Prabowo Live TikTok Menurutnya, Indonesia harus terus bersatu agar selalu dalam keadaan damai agar tidak terciptanya perpecahan yang mengakibatkan instabilitas di dalam negeri. Perdamaian tidak jatuh dari langit. Ini yang saya mengimbau, marilah kita sadar, apa pun latar belakang kita, apa pun visi kita, bahwa kita berbeda itu biasa, dalam demokrasi perbedaan itu biasa, ucapnya. Prabowo menilai, kondisi dalam negeri yang tidak stabil akan membawa dampak buruk terhadap seluruh aspek kehidupan, salah satunya adalah percepatan pembangunan dan ekonomi akan terhambat. Dengan stabilitas, dengan perdamaian baru kita bisa membangun. Intinya negara kita sangat kaya, kekayaan kita luar biasa, kata Prabowo. Ketua Umum (Ketum) Partai Gerindra itu mengatakan, selain terjaganya perdamaian, upaya untuk mencapai itu adalah melalui hilirisasi. Dia mengatakan, hilirisasi menjadi salah satu kunci utama dari kemakmuran bagi masyarakat Indonesia ke depan. Baca juga: TKN Prabowo-Gibran: Pertahanan Negara Bukan Cuma Militer, tapi Juga Ketahanan Pangan dan Energi Ini misi saya, ini perjuangan saya. Inti dari strategi pembangunan saya adalah pengelola menjaga kekayaan kita dan meneruskan hilirisasi, melanjutkan semua yang sudah dibangun pendahulu kita, terutama Pak Joko Widodo (Jokowi), ucap Prabowo. ",
          "Wakil Ketua Umum Partai Gerindra Habiburokhman mengatakan Presiden terpilih 2024-2029 Prabowo Subianto mengalami kecelakaan ketika terjun payung di Timor Timur pada tahun 80-an silam. Habiburokhman mengatakan, akibat dari kecelakaan tersebut baru muncul puluhan tahun kemudian. Walhasil, Prabowo pun menjalani operasi cedera kaki kiri di Rumah Sakit Pusat Pertahanan Nasional Panglima Besar Soedirman, Jakarta Selatan. Bukan sakit. Jadi memang beliau ada cedera, puluhan tahun yang lalu, tahun 80-an ketika terjun payung kemungkinan di Timor Timur, cedera. Cedera seperti itu memang katanya, enggak bisa tuntas begitu saja. Beberapa puluh tahun kemudian katanya bisa timbul akibat, ujar Habiburokhman di Gedung DPR, Senayan, Jakarta, Senin (1/7/2024). Baca juga: 5 Fakta Operasi Besar Prabowo: Cedera Kaki karena Terjun Payung hingga Siap Beraktivitas Habiburokhman menjelaskan, prajurit TNI lain juga mengalami cedera serupa. Dia menegaskan akibat dari kecelakaan itu baru muncul ketika sudah tua. Ini yang terjadi pada Prabowo dan banyak sekali prajurit-prajurit kita yang telah bertugas di Timor Timor, di Papua, di medan yang sulit. Baru muncul lagi akibat karena kecelakaan tersebut berpuluh-puluh tahun di hari tuanya, tuturnya. Sementara itu, Habiburokhman menyebut Prabowo dalam kondisi yang baik saat ini. Sebelumnya, Prabowo memberi kabar kepada publik bahwa dirinya telah sukses menjalani operasi besar, yakni operasi untuk cedera kaki kirinya. Adapun operasi itu dilaksanakan di Rumah Sakit Pusat Pertahanan Negara (RSPPN) Panglima Besar Soedirman, Bintaro, Jakarta Selatan, sekitar satu minggu yang lalu. Baca juga: Jenguk Prabowo Pascaoperasi, Jokowi: Mari Doakan Proses Pemulihan Tim dokter yang menangani operasi Prabowo ialah Brigjen TNI Purn dr Robert Hutauruk, Kolonel dr Sunaryo, dr Siska Widayati, dan dr Thomas. Menurut Prabowo, tim dokter dan tenaga medis dari RSPPN Panglima Besar Soedirman berhasil melaksanakan operasi cedera kaki terhadap dirinya dengan baik. Prabowo menyatakan dirinya siap kembali beraktivitas usai kaki kirinya dioperasi. Saya ucapkan syukur alhamdulillah kepada Allah SWT atas keberhasilan tindakan operasi besar yang dilakukan kepada saya, ujar Prabowo dalam keterangannya, Minggu (30/6/2024) malam. ",
          "Sekretaris Jenderal (Sekjen) Partai Gerindra Ahmad Muzani merespons apakah Presiden terpilih 2024-2029 Prabowo Subianto akan mengangkat mantan capres di Pilpres 2024, yakni Anies Baswedan dan Ganjar Pranowo sebagai menteri atau tidak. Muzani menegaskan hal tersebut merupakan hak prerogatif Prabowo sebagai presiden terpilih. Pertanyaannya, apakah Pak Prabowo juga akan mengangkat capres yang berbeda dengan beliau seperti Anies dan Ganjar? Yang punya hak prerogatif adalah beliau, saya belum pernah mendengar, ujar Muzani di Gedung DPR, Senayan, Jakarta, Selasa (25/6/2024). Muzani enggan merespons isu mengenai koalisi pendukung Prabowo menawarkan kursi menteri ke Anies supaya tidak maju di Pilkada Jakarta 2024. Baca juga: Prabowo Disebut Setuju Presiden Dipilih MPR Lagi, Gerindra: Masih Konsentrasi Pelantikan Presiden Yang pasti, kata Muzani, Prabowo selalu mencari persamaan untuk bergotong-royong, meski beda pilihan politik. Pak Prabowo adalah presiden terpilih yang akan dilantik tanggal 20 Oktober yang akan datang. Beliau selalu mencari persamaan cara pandang yang bisa memperkuat persatuan dan persamaan gotong-royongan, meskipun pada pilihan politik yang berbeda, tuturnya. Maka dari itu, Muzani menekankan, Prabowo tidak memiliki halangan untuk mengangkat siapapun menjadi 'pembantu' dalam kabinet ke depan. Dia lantas mengungkit Presiden Joko Widodo (Jokowi) yang malah mengangkat Prabowo sebagai Menteri Pertahanan di tahun 2019. Baca juga: Gerindra: Prabowo Tidak Cerita Anies Ingin Bertemu Beliau Padahal, Prabowo dan Jokowi merupakan rival di Pilpres 2019. Itu sudah dicontohkan oleh Pak Jokowi di tahun 2019. Situasi politik bisa menjadi reda, politik bisa menjadi adem, keguyuban, kebersamaan, kegotong-royongan, kerukunan bisa tercipta. Dan Pak Prabowo ingin menciptakan itu, imbuh Muzani. ",
          "Mantan istri Prabowo Subianto, Titiek Soeharto, turut hadir dalam penetapan mantan suaminya itu sebagai presiden terpilih hasil Pilpres 2024 di kantor KPU RI, Rabu (24/4/2024). Didampingi Didiet Hediprasetyo, putra semata wayang mereka berdua hasil pernikahannya dengan Prabowo, Titiek tersipu saat ditanya apakah siap menjadi Ibu Negara. Saat ditanya seperti itu, Titiek tampak tersenyum dan langsung memalingkan wajahnya untuk masuk ke dalam mobil. Hubungan Titiek dan Prabowo belakangan kian disorot lantaran keduanya sering tampil akrab dan hangat bersama Didiet. Titiek beberapa kali memamerkan momen itu. Baca juga: Momen Prabowo Buka Puasa Hari Pertama Bareng Titiek Soeharto dan Didit Pada 14 April lalu, misalnya, dia mengunggah ke Instagram foto khusus saat disuguhi kue ulang tahun oleh Prabowo yang hadir pada acara syukurannya. Ia juga mengunggah foto kehangatannya dengan Prabowo pada 20 Maret, ketika KPU mengumumkan Prabowo sebagai capres dengan perolehan suara terbanyak pada Pilpres 2024. Selebihnya, masih banyak foto bertebaran yang diunggah Titiek yang menampilkan kehangatan antara dirinya, Prabowo, dengan Didiet. Status keduanya Status pernikahan Prabowo dan Titiek termuat di dalam dokumen pencalonan masing-masing yang didaftarkan ke KPU RI. Selain Prabowo yang maju capres, Titiek juga maju sebagai calon anggota legislatif (caleg) DPR RI pada daerah pemilihan DI Yogyakarta. Perempuan bernama asli Siti Hediati itu dipastikan meraih kursi DPR RI berdasarkan hasil rekapitulasi penghitungan suara, Sabtu (9/3/2024). Titiek yang juga kader partai besutan Prabowo, Gerindra, itu meraup 145.489 suara sekaligus menjadikannya caleg Partai Gerindra dengan coblosan terbanyak. Sementara itu, Gerindra sendiri mengantongi 272.165 suara seantero Yogyakarta, sehingga hanya berhak atas satu kursi di Senayan yang menjadi jatah Titiek. Baca juga: Penetapan Presiden di KPU: Prabowo Mesra dengan Anies, Titiek Malu-malu Jadi Ibu Negara Di dalam dokumen pendaftaran Prabowo sebagai capres 2024-2029, status pernikahan Menteri Pertahanan itu tertulis pernah. Sementara itu, Titiek hanya menulis huruf P dalam kolom yang sama dokumen pendaftarannya sebagai caleg DPR RI, yang berarti pernah. Kisah cinta Dikutip pemberitaan Kompas.com pada 22 Desember 2023, hubungan Prabowo Subianto dan Titiek Soeharto berawal dari sebuah perkenalan. Titiek Soeharto merupakan murid dari Sumitro Djojohadikusumo, ayah Prabowo Subianto. Dari pertemuan inilah akhirnya Prabowo dan Titiek Soeharto menjalani sebuah hubungan romantis. Mengetahui sang putra berpacaran dengan Titiek Soeharto, Sumitro berpesan kepada anaknya untuk serius dalam menjalani hubungannya. Pada akhirnya, Prabowo Subianto dan Titiek Soeharto menikah pada Mei 1983. Baca juga: Prabowo Nyanyi Pertemuan di Depan Titiek Soeharto: Sudah Presiden Terpilih, Harus Tepuk Tangan walau Suara Jelek Dari pernikahan ini, mereka dianugerahi seorang putra semata wayang bernama Ragowo Hediprasetyo atau yang akrab disapa Didiet Prabowo. Sayangnya, pernikahan Prabowo dan Titiek hanya bertahan 15 tahun. Mereka memutuskan bercerai pada Mei 1998. Usut punya usut, perceraian keduanya disebabkan oleh memburuknya hubungan keluarga yang dibumbui oleh isu politik. Sebab, berdasarkan dari isu yang beredar, Prabowo Subianto dituding mengkhianati Soeharto, sang mertua. Seperti yang tercatat dalam sejarah, pada Mei 1998, kerusuhan besar-besaran terjadi. Bahkan, Prabowo Subianto juga dituding membiarkan para mahasiswa menduduki Gedung MPR/DPR dalam rangkaian Kerusuhan Mei 1998 yang terjadi. Disebutkan bahwa pada saat itu Titiek Soeharto hanya menangis melihat sang suami dituduh mengkhianati Soeharto. Namun, terlepas dari berbagai kabar burung yang beredar, tidak dapat dipastikan secara pasti apa penyebab perceraian antara Prabowo Subianto dan Titiek Soeharto. Tudingan yang dilemparkan kepada Prabowo pada 1998 juga belum terbukti benar atau salahnya. ",
          "Calon presiden (capres) nomor urut 2, Prabowo Subianto, menyampaikan sejumlah gagasan mengenai upaya pemberantasan korupsi. Ia menyinggung soal perbaikan kualitas hidup penyelenggara negara, pemberian sanksi terhadap pejabat yang tak patuh Laporan Harta Kekayaan Penyelenggara Negara (LHKPN), hingga komitmen para pemimpin. Ini disampaikan Prabowo dalam acara Penguatan Antikorupsi untuk Penyelenggara Negara Berintegritas (Paku Integritas) yang digelar Komisi Pemberantasan Korupsi (KPK), Rabu (17/1/2024). Menurut Prabowo, pemberantasan korupsi tidak cukup dengan pendekatan pendidikan, pencegahan dan penindakan. Pemberantasan korupsi harus dilakukan secara sistemik dan realistis. Pendekatan sistemik dan realistis itu, kata dia, bisa diwujudkan dengan perbaikan kualitas hidup penyelenggara negara yang mengendalikan roda pemerintahan, terutama yang memegang anggaran besar. Kualitas hidupnya ini harus dijamin dan diperbaiki, kata Prabowo di Gedung KPK, Jakarta. Baca juga: TKN: Prabowo Akan Perhatikan Isu Pajak Hiburan Khusus yang Naik 40-75 Persen Prabowo mencontohkan hakim di sejumlah negara maju seperti Amerika dan Inggris. Di negara-negara tersebut, kata dia, hakim dijamin kesejahteraannya selama hidup, bahkan hingga meninggal dunia. Di negara maju pula, Ketua Mahkamah Agung menjadi pejabat negara yang gajinya paling tinggi dan rumah dinasnya lebih besar dari menteri. Hakim-hakim itu dijamin penghasilannya begitu besar sehingga bisa dikatakan dia tidak ada insentif untuk korupsi sama sekali. Ini saya anggap pendekatan sistemik dan pendekatan realistis, ujar Prabowo. Prabowo mengaku heran, di Indonesia, gaji direksi perusahaan swasta dan BUMN jauh lebih besar ketimbang Panglima TNI, menteri, dan direktur jenderal (dirjen) pemerintahan yang memegang anggaran negara triliunan rupiah. Padahal, menurutnya, jika gaji penyelenggara negara ditingkatkan dan kualitas hidupnya diperbaiki, angka korupsi dapat ditekan. Jadi kita perbaiki kualitas hidup, kita tingkatkan gaji-gaji semua pejabat, semua penyelenggara negara. Kita mampu, saya sudah hitung dengan tim pakar saya, Indonesia negara kaya, bukan negara miskin, kata Prabowo. Prabowo juga ingin menaikkan pangkat pejabat kementerian, khususnya yang bertanggung jawab mengendalikan anggaran dan kontrak-kontrak besar. Menteri Pertahanan tersebut mencontohkan, di kementerian yang ia pimpin, ada pejabat yang sehari-harinya menangani kontrak dan dana triliunan rupiah, pangkatnya sama dengan pejabat yang tanggung jawab kerjanya tak sebesar itu. Prabowo mengaku telah mengajukan kenaikan pangkat untuk pejabat yang menangani anggaran besar tersebut sejak 3 tahun lalu. Namun, hingga saat ini belum terealisasi. ",
          "Lembaga Survei Indonesia (LSI) merilis hasil survei teranyar soal korelasi antara penerima bantuan sosial (bansos) pemerintah dengan dukungan terhadap kandidat di pemilihan presiden (Pilpres) 2024. Survei pascapemilu (post-election survey) ini dilakukan LSI pada 19-21 Februari 2024. Hasilnya, sebanyak 24,8 persen responden mengaku menerima bansos dari pemerintah. Dari jumlah itu, 69,3 persen mengaku mencoblos calon presiden dan calon wakil presiden (capres-cawapres) nomor urut 2, Prabowo Subianto-Gibran Rakabuming. Di kalangan penerima bansos, dukungannya paling banyak kecenderungannya ada pada pasangan 02, kata Direktur Eksekutif LSI, Djayadi Hanan, dalam rilis temuan LSI pada Minggu (24/2/2024), secara daring. Baca juga: Jokowi Ungkap Alasan Pemerintah Bagi-bagi Bansos Beras Sementara itu, ada 54 persen responden yang mengaku tidak menerima bansos yang mendukung Prabowo-Gibran. Tingkat dukungan masyarakat yang mengaku tidak menerima bansos terhadap 02 itu lebih rendah dibanding dengan (dukungan) masyarakat yang menerima bansos kepada 02, ujar Djayadi. Lebih lanjut, dia mengatakan, hal sebaliknya terjadi pada pasangan capres-cawapres lain. Capres-cawapres nomor urut 1 dan 3, Anies Baswedan-Muhaimin Iskandar dan Ganjar Pranowo-Mahfud MD, lebih banyak menerima dukungan dari non-penerima bansos. Proporsi penerima bansos yang mendukung Anies-Muhaimin lebih sedikit, yakni 17,6 persen, dibandingkan dengan pemilih mereka yang tidak menerima bansos sebesar 28,2 persen. Baca juga: LSI: Kepuasan Publik Terkait Pemilu 2024 Turun 10,9 Persen sejak Pemungutan Suara Digelar Hal yang sama juga terjadi pada pasangan calon (paslon) nomor urut 3, Ganjar-Mahfud. Proporsi penerima bansos yang mencoblos Ganjar-Mahfud di bawah para pendukung yang tidak menerima bansos, yakni 13,1 berbanding 17,8 persen. LSI menyebutkan, target populasi survei ini adalah warga negara Indonesia yang berusia 17 tahun ke atas atau sudah menikah dan memiliki telepon/ponsel. Jumlahnya sekitar 83 persen dari total populasi nasional. Pemilihan sampel dilakukan melalui metode random digit dialing (RDD) atau teknik memilih sampel melalui proses pembangkitan nomor telepon secara acak. Dengan teknik RDD, sampel sebanyak 1.211 responden dipilih melalui proses pembangkitan nomor telepon secara acak, validasi, dan screening. Margin of error survei diperkirakan lebih kurang 2,9 persen pada tingkat kepercayaan 95 persen. LSI mengeklaim wawancara dengan responden dilakukan lewat telepon oleh pewawancara yang dilatih. Baca juga: Survei LSI: Tingkat Keyakinan Masyarakat Pemilu 2024 Jurdil Turun Drastis Sepekan sejak Pencoblosan ",
          "Kekayaan presiden terpilih, Prabowo Subianto mencapai Rp 2.042.682.732.691 atau Rp 2 triliun. Kekayaan itu tercantum dalam Laporan Harta Kekayaan Penyelenggara Negara (LHKPN) yang disampaikan ke Komisi Pemberantasan Korupsi (KPK) untuk keperluan pencalonan presiden tahun 2024. Kekayaan Prabowo didominasi surat berharga dengan nilai mencapai Rp 1.701.879.000.000 atau Rp 1,7 triliun. Baca juga: Titiek Soeharto Tersipu Saat Ditanya Kemungkinan Dampingi Prabowo Pada umumnya, kolom surat berharga dalam LHKPN berisi kepemilikan saham di sejumlah perusahaan. Komponen kekayaan Prabowo paling banyak lainnya adalah 10 aset lahan dan bangunan dengan nilai Rp 275.320.450.000 atau Rp 275 miliar. Di antara aset properti itu, terdapat lahan dan bangunan seluas 8.365 meter persegi/2.175 meter persegu di Jakarta Selatan dengan nilai Rp 158.491.875.000. Selain properti, Prabowo melaporkan kepemilikan 8 alat transportasi dan mesin senilai Rp 1.258.500.000. Baca juga: Jadi Presiden Terpilih, Prabowo Terima Kasih ke Anies-Muhaimin dan Ganjar-Mahfud Banyak mobil Prabowo merupakan Jeep, mulai dari tahun 1992, 1994, hingga 2002. Kemudian, Prabowo melaporkan kepemilikan harta bergerak lain senilai Rp 16.415.023.500 serta kas dan setara kas senilai Rp 47.809.759.191. Karena tidak memiliki utang, Prabowo memiliki kekayaaan Rp 2.042.682.732.691. Sebelumnya, Komisi Pemilihan Umum (KPU) resmi menetapkan Prabowo Subianto dan Girban Rakabuming Raka sebagai presiden dan wakil presiden terpilih untuk periode 2024-2029. Penetapan dilakukan setelah Mahkamah Konstitusi menolak gugatan hasil Pilpres 2024 yang diajukan dua kandidat lain, Anies Baswedan-Muhaimin Iskandar dan Ganjar Pranowo-Mahfud MD. KPU menetapkan calon presiden dan wakil presiden nomor urut dua, Prabowo Subianto dan Gibran Rakabuming Raka sebagai pasangan calon presiden dan wakil presiden terpilih periode tahun 2024-2029 dalam Pemilihan Umum 2024 dengan perolehan suara sebanyak 96.214.691 suara atau 58,59 persen dari total suara sah nasional dan memenuhi sedikitnya 20 persen suara di setiap provinsi yang tersebar di 38 provinsi, kata Ketua KPU RI Hasyim Asy'ari di kantor KPU RI, Menteng, Jakarta Pusat. ",
          "Sekretaris Tim Kampanye Nasional (TKN) Prabowo Subianto-Gibran Rakabuming Raka, Nusron Wahid membantah Prabowo-Gibran sering absen di acara dialog terbuka karena ketakutan. Nusron menegaskan tidak ada yang menakutkan dari acara dialog terbuka. Takut apa? Enggak ada sesuatu yang menakutkan. Takut ngapain, ujar Nusron saat ditemui di Cibubur, Jakarta Timur, Senin (27/11/2023) malam. Nusron memberi penjelasan alasan Prabowo-Gibran tidak menghadiri semua undangan debat. Menurutnya, jika semua ide dikeluarkan sejak sekarang, maka tidak ada kejutan lagi saat debat resmi di KPU. Baca juga: TKN: Prabowo-Gibran Tidak Kampanye Besok, Tetap Kerja Begini ya, kalau yang mengadakan KPU pasti kita akan hadiri semua. Kalau semua ide-ide kita keluarkan hari ini, nanti kita enggak ada surprise-nya nanti di KPU, tuturnya. Nusron mengatakan, masih ada ide-ide yang sengaja mereka tampung dan tahan terlebih dahulu untuk dikeluarkan di debat resmi KPU. Politikus Partai Golkar ini pun mempertanyakan banyak lembaga swasta yang melakukan peran seperti KPU. Yang berhak dihadiri untuk mengadakan debat kan KPU, tukas Nusron. Sementara itu, Nusron mengatakan Prabowo-Gibran pasti hadir jika waktunya sesuai. Baca juga: Catatan Kehadiran 3 Capres-Cawapres di Acara Diskusi Terbuka Jika ada janji lain, maka bisa saja undangan acara dialog terbuka tidak dihadiri. Kalau bukan KPU ya kalau kita pas cocok, waktunya tepat, ya kita hadiri. Kalau enggak cocok dan enggak pas ya karena sudah kadung ada janji dengan yang lain, ya kita dahulukan dengan janji yang lain. Tapi kalau KPU didebat pasti akan kita hadiri, imbuhnya. Berdasarkan penelusuran Kompas.com, acara diskusi terbuka itu tak selalu dihadiri ketiga pasangan calon. Ketimbang Anies-Muhaimin dan Ganjar-Mahfud, Prabowo-Gibran paling sering absen dalam forum diskusi terbuka. Sedikitnya, sejak akhir Agustus hingga akhir November 2023, ada 15 acara diskusi terbuka yang diselenggarakan berbagai pihak untuk memfasilitasi para capres-cawapres adu gagasan. Dari jumlah tersebut, Prabowo tercatat sembilan kali tak memenuhi undangan. Sementara, Anies dan Ganjar masing-masing satu kali mangkir. Namun, absennya tim Prabowo-Gibran bukan tanpa alasan. Komandan Tim Fanta (Pemilih Muda) Prabowo-Gibran, Arief Rasyid, mengatakan, Prabowo-Gibran memiliki agenda yang padat. Sebagai capres dan cawapres, Prabowo-Gibran harus berkeliling ke berbagai daerah. Sehingga, keduanya tak selalu punya waktu untuk menghadiri undangan diskusi terbuka. ",
          "Presiden Joko Widodo menjenguk presiden terpilih sekaligus Menteri Pertahanan, Prabowo Subianto, usai menjalani operasi besar di Rumah Sakit Pusat Pertahanan Negara (RSPPN) Panglima Besar Soedirman, Bintaro, Jakarta. Prabowo pun bersyukur Jokowi dapat menjenguknya. Terima kasih kepada Presiden RI @jokowi yang sudah memberikan dukungan moril dan doa, ujar Prabowo dalam keterangannya, Minggu (30/6/2024). Adapun Prabowo menjalani operasi besar atas cedera kaki yang dialaminya semasa masih bertugas sebagai prajurit TNI.  Ada sejumlah dokter yang menangani proses operasi tersebut, di antaranya Brigjen TNI Purn dr Robert Hutauruk, Kolonel dr Sunaryo, dr Siska Widayati, dr Thomas. Saya sadar dan paham bahwa tindakan medis yang saya jalani penuh dengan resiko dan pertaruhan nyawa, saya yakinkan diri bahwa semua ini untuk negara dan bangsa, saya juga yakin tim dokter dan seluruh tenaga medis yang menanganinya pun handal dan profesional, tuturnya. Sementara itu, Prabowo menegaskan dirinya sudah dalam kondisi sehat walafiat untuk kembali beraktivitas. Baca juga: Prabowo Jalani Operasi Besar di RSPPN Soedirman Pekan Lalu Dia menyampaikan rasa terima kasihnya kepada masyarakat yang telah mendoakannya. Insya Allah dengan kondisi sehat walafiat ke depan saya semakin siap untuk berbakti dan mengabdi untuk negara dan rakyat Indonesia. Terima kasih kepada seluruh masyarakat atas doa dan dukungannya, imbuh Prabowo. ",
          "Presiden terpilih 2024-2029 sekaligus Menteri Pertahanan (Menhan) mengabarkan bahwa dirinya telah selesai menjalani operasi besar, pekan lalu. Operasi tersebut dilakukan untuk mengobati kaki kirinya yang sempat mengalami cedera. Saat ini, dirinya menyatakan sudah siap kembali beraktivitas seperti biasa. Berikut sejumlah fakta terkait operasi yang dijalani Prabowo: 1. Operasi di RSPPN PB Soedirman Mantan Danjen Kopassus ini melakukan operasi besar di Rumah Sakit Pusat Pertahanan Negara (RSPPN) Panglima Besar Soedirman, yang berada di kawasan Bintaro, Jakarta Selatan, satu minggu lalu. RSPPN PB Soedirman merupakan RS baru yang diresmikan Presiden Joko Widodo bersama Prabowo pada 19 Februari 2024 lalu. Selain RS ini, ada 25 RS lain milik TNI yang diresmikan bersamaan saat itu. Adapun proses operasi Prabowo ditangani langsung oleh Brigjen TNI (Purn) dr Robert Hutauruk, bersama tim yang terdiri atas Kolonel dr Sunaryo, dr Siska Widyati, dan dr Thomas. Baca juga: Jenguk Prabowo Pascaoperasi, Jokowi: Mari Doakan Proses Pemulihan 2. Operasi berjalan baik Prabowo mengatakan bahwa operasi yang dijalaninya dapat berhasil dengan baik.  Sebelumnya, ia menyadari bahwa tindakan medis yang akan dijalaninya memiliki risiko bahkan dapat mempertaruhkan nyawanya. Saya yakinkan diri bahwa semua ini untuk Negara dan Bangsa, saya juga yakin tim dokter dan seluruh tenaga medis yang menanganinya pun handal dan profesional, tulis Prabowo dalam unggahan di akun Instagramnya. Operasi kemudian dilaksanakan. Prabowo pun memuji tim dokter yang telah bekerja maksimal untuk mengobati kaki kirinya. Sehingga, ia dapat kembali beraktivitas seperti sedia kala. Saya ucapkan syukur alhamdulillah kepada Allah SWT atas keberhasilan tindakan operasi besar yang dilakukan kepada saya, ujar Prabowo dalam keterangannya, Minggu (30/6/2024) malam.  3. Cedera terjung payung Prabowo mengungkapkan, dirinya harus menjalani operasi karena sebelumnya pernah dua kali kecelakaan karena melakukan aksi terjun payung saat masih aktif sebagai prajurit TNI. Peristiwa itu terjadi sekitar tahun 80-an. Akibat kecelakaan itu, kaki kirinya cedera. Bahkan, rasa sakit akibat cedera itu harus dirasakannya hingga saat ini. Seperti sudah diketahui banyak pihak, saya pernah mengalami dua kali kecelakaan terjun payung saat bertugas di TNI pada tahun 80-an di kaki kiri saya, cedera ini selama ini masih saya rasakan, katanya. 4. Dijenguk Jokowi Dalam unggahan yang dibagikan di akun Instagramnya, Prabowo turut mengunggah momen saat dirinya dijenguk Presiden Joko Widodo. Ada tiga foto yang diunggah Prabowo. Foto pertama menunjukkan dirinya tengah berbincang berdua dengan Jokowi di sofa. Demikian halnya foto kedua. Bedanya, kali ini Prabowo didampingi oleh putranya, Ragowo Hediprasetyo Djojohadikusumo atau Didit Hediprasetyo. Sedangkan foto ketiga menunjukkan momen saat kedatangan Jokowi ke ruangan tempat Prabowo dirawat. Terlihat ajudan prabowo, Mayor Teddy Indra Wijaya berdiri di depan pintu. Dalam unggahan tersebut, Prabowo pun mengucapkan terima kasih kepada Jokowi. Terima kasih kepada Presiden RI @jokowi yang sudah memberikan dukungan moril dan doa, tulis Prabowo. Sementara itu, hal yang sama diunggah Presiden Jokowi lewat akun Instagramnya. Jokowi juga mengajak masyarakat untuk mendoakan Ketua Umum Partai Gerindra itu, agar dapat kembali pulih dan beraktivitas. Alhamdulilah operasi Bapak Prabowo @prabowo 1 minggu lalu berjalan dengan lancar. Tindakan medis untuk pemulihan cidera yang pernah dialami Pak Prabowo ketika bertugas di TNI ini, sukses dilakukan oleh tim dokter dan perawat di RSPPN Sudirman. Mari kita doakan proses pemulihan pasca operasi besar Pak Prabowo, agar inshaAllah semakin siap untuk mengemban tugas melayani masyarakat Indonesia, tulis Jokowi. 5. Siap kembali beraktivitas Masih dalam unggahannya, Prabowo menyatakan bahwa dirinya siap untuk kembali beraktivitas usai menjalani operasi. Ia juga mengucapkan terima kasih atas doa dan dukungan masyarakat selama ini. Insya Allah dengan kondisi sehat walafiat ke depan, saya semakin siap untuk berbakti dan mengabdi untuk negara dan rakyat Indonesia. Terima kasih kepada seluruh masyarakat atas doa dan dukungannya, tuturnya. ",
          "Presiden RI terpilih Prabowo Subianto menegaskan, dirinya dan wakil presiden RI terpilih, Gibran Rakabuming Raka, akan melanjutkan program-program pemerintahan Presiden Joko Widodo. Namun demikian, Prabowo mengakui bahwa belum semua program berjalan baik. Oleh karenanya, diperlukan perbaikan dan inovasi pada pemerintahannya mendatang. Apakah semuanya sudah bagus? Tentunya tidak. Apakah perlu perbaikan? Tentunya perlu, kata Prabowo dalam acara Halalbihalal Pengurus Besar Nahdlatul Ulama (PBNU) di Jakarta, Minggu (28/4/2024). Apakah kita perlu untuk berinisiatif, berinovasi mencari solusi-solusi yang lebih cepat dirasakan oleh rakyat? Tentu itu harus kita lakukan, lanjutnya. Baca juga: Prabowo Sebut Jokowi Siapkan Dirinya Jadi Penerus Prabowo menyebut, tantangan yang dihadapi negara ke depan tidak akan semakin mudah dan sederhana. Oleh karenanya, dibutuhkan kontinuitas dan komitmen keberlanjutan terhadap hal-hal yang sudah baik. Menteri Pertahanan Kabinet Indonesia Maju itu bilang, investasi uang rakyat yang demikian besar harus diamankan. Sebagai presiden RI terpilih, Prabowo berjanji akan memberi solusi terhadap tuntutan dan tantangan yang dihadapi oleh bangsa dan rakyat ke depan. Strategi dan program yang sudah dirintis oleh Pak Joko Widodo dan pemerintahan beliau kami anggap adalah landasan, fondasi yang sangat kuat, dan kami akan membangun di atas fondasi itu, ujar Prabowo. Prabowo mengaku, dirinya banyak belajar dari Presiden Jokowi. Ketua Umum Partai Gerindra itu memuji Jokowi sebagai sosok yang sangat teliti. Oleh karenanya, Prabowo tak heran dikalahkan dua kali oleh Jokowi pada Pemilu Presiden (Pilpres) 2014 dan Pilpres 2019. Beliau sangat teliti. Mungkin karena itu saya kalah dua kali sama beliau, kata Prabowo disambut tawa hadirin. Tapi saya juga tidak kalah akal. Kalau dua kali kalah, lebih baik kita belajar dari yang menang, tuturnya. Prabowo mengungkap, dirinya telah dipersiapkan oleh Jokowi. Bahkan, Prabowo bersedia maju sebagai calon presiden pada Pilpres 2024 karena mengantongi dukungan dari Kepala Negara. Waktu saya ditanya saya mau maju atau tidak 2024 ini, saya terang-terangan mengatakan, saya maju apabila saya direstui dan didukung oleh Pak Joko Widodo, lanjutnya. Baca juga: Sandiaga Usul PPP Gabung Koalisi Prabowo-Gibran, Mardiono: Keputusan Strategis lewat Mukernas Sebagaimana diketahui, Prabowo Subianto-Gibran Rakabuming Raka ditetapkan sebagai presiden dan wakil presiden terpilih RI masa jabatan 2024-2029 oleh KPU RI pada Senin (22/4/2024). Pasangan ini memenangi Pilpres 2024 dengan perolehan 96.214.691 suara atau sekitar 58,58 persen dari seluruh suara sah nasional. Sementara, pasangan capres-cawapres nomor urut 1, Anies Baswedan-Muhaimin Iskandar, mengekor di urutan kedua dengan raihan 40.971.906 suara atau sekitar 24,95 persen. Di urutan buntut, capres-cawapres nomor urut 3, Ganjar Pranowo-Mahfud MD, menghimpun 27.040.878 suara atau sekitar 16,47 persen dari seluruh suara sah nasional. Meski begitu, Prabowo-Gibran belum resmi menjadi presiden dan wakil presiden RI. Menurut jadwal, pelantikan keduanya bakal digelar pada 20 Oktober 2024. ",
          "Pakar hukum tata negara, Refly Harun, mengungkap desas-desus yang menyebut Presiden Joko Widodo tengah mengupayakan agar empat pembantunya di Kabinet Indonesia Maju masuk ke kabinet Prabowo Subianto-Gibran Rakabuming Raka. Nama-nama tersebut, mulai dari Menteri Investasi Bahlil Lahadalia, Menteri BUMN Erick Thohir, Menteri Sekretaris Negara (Mensesneg) Pratikno, hingga Kapolri Jenderal Listyo Sigit Prabowo.  Jokowi konon meng-endorse empat orang untuk jadi menteri. Konon ya. Dia ingin pertahankan Bahlil yang banyak jasanya dalam tanda kutip, Erick Thohir yang banyak jasanya dalam tanda kutip, Listyo Sigit yang banyak jasanya dalam tanda kutip, dan Pratikno yang banyak jasanya dalam tanda kutip, ujar Refly dalam program Gaspol Kompas.com sebagaimana dilansir YouTube Kompas.com, Sabtu (18/5/2024). Ini kan orang-orang yang berjasa semua dalam menjaga kekuasaan Jokowi, termasuk juga dalam pemenangan (Pilpres 2024) ya. Itu sudah rahasia umum, lanjutnya. Baca juga: Tak Kunjung Tegaskan Diri Jadi Oposisi, PDI-P Dinilai Sedang Tunggu Hubungan Jokowi dan Prabowo Renggang Jika dugaan tersebut benar, menurut Refly, hal ini menunjukkan minimnya peran Gibran, yang merupakan putra sulung Jokowi, dalam kabinet mendatang. Keyakinan kita kalau dia dorong empat empatnya, let's say seandainya benar. Itu menunjukkan bahwa ya memang Jokowi negosiasinya. Gibran enggak ada, katanya. Refly pun menyoroti sejumlah kesempatan ketika Prabowo tidak mengajak Gibran di beberapa agenda penting setelah ditetapkan sebagai presiden terpilih 2024-2029. Misalnya, saat Prabowo berkunjung ke China bertemu Presiden Xi Jinping. Prabowo juga tak didampingi Gibran saat berkunjung ke Nasdem Tower untuk menemui Ketua Umum Partai Nasdem Surya Paloh, juga saat bertemu Ketua Umum Partai Kebangkitan Bangsa (PKB) Muhaimin Iskandar beberapa waktu lalu. Menurut Refly, momen-momen tersebut menunjukkan manuver politik Prabowo setelah pilpres. Nah, dari situ menunjukkan bahwa Prabowo tidak melibatkan Gibran. Kalaupun dia harus bicara. Dia bicara sama bapaknya (Jokowi), kata Refly. Jika benar, maka ini tragedi bagi demokrasi Indonesia. Yang terpilih Gibran, tapi dia (Prabowo) bicara sama bapaknya (Jokowi), tambahnya. Sebagaimana diketahui, Prabowo Subianto dan Gibran Rakabuming Raka telah ditetapkan sebagai pemenang Pilpres 2024 dengan raihan 96.214.691 suara atau sekitar 58,58 persen dari seluruh suara sah nasional. Sementara itu, pasangan capres-cawapres nomor urut 1 Anies Baswedan-Muhaimin Iskandar, mengantongi 40.971.906 suara atau sekitar 24,95 persen dari seluruh suara sah nasional. Di urutan ketiga, capres-cawapres nomor urut 3, Ganjar Pranowo-Mahfud MD, menghimpun 27.040.878 suara atau sekitar 16,47 persen dari seluruh suara sah nasional. Prabowo dan Gibran rencananya akan dilantik sebagai Presiden dan Wakil Presiden RI pada 20 Oktober 2024 mendatang. Baca juga: 9 Eks Komisioner KPK Surati Presiden, Minta Jokowi Tak Pilih Pansel Problematik ",
          "Calon presiden (capres) nomor urut 2 Prabowo Subianto mengaku masih sedih lantaran pernah dikasih nilai 11 dari 100 saat debat kedua capres. Adapun nilai 11 dari 100 itu diberikan oleh capres nomor 1 Anies Baswedan pada debat tanggal 7 Januari 2024 lalu. Saya sedih sekali dikasih nilai rendah, 11 dari 100, kata Prabowo dalam acara kampanye akbar Kirab Kebangsaan di Lapangan Simpang Lima, Semarang, Jawa Tengah, Minggu (28/1/2024). Prabowo lantas menceritakan dirinya sudah pernah bersekolah ke luar negeri. Baca juga: Ratusan Anak Pakai Atribut Kampanye pada Kirab Kebangsaan Prabowo-Gibran, Bawaslu Turun Tangan Namun, kata Prabowo, tidak pernah ada guru yang sejahat itu memberikan nilai. Belum pernah ada guru sejahat itu, edan, ujar Prabowo. Meski begitu, ia tidak ingin terlalu memusingkan nilai tersebut. Dia juga mengucapkan terima kasih jika ada pendukungnya yang memberikan nilai 100 dari 100 kepada dirinya. Sekarang, tapi, tapi maaf ya, saya ini besar di Jakarta, lahir di Jakarta, jadi sering bahasa Jakarta, bahasa Betawi, saya sebenarnya mau jawab di situ, Emangnya lo siape?, Emangnya gue pikirin? Sorry ye, ujar dia. Baca juga: Singgung soal Gaya Bicara, Prabowo: Aku Juga Bisa Kaya Profesor Sebelumnya, Anies Baswedan memberikan angka rendah untuk kinerja Kementerian Pertahanan (Kemenhan) di bawah kepemimpinan capres nomor urut 2 Prabowo Subianto. Ia menyampaikan, kinerja Kemenhan tak optimal karena banyak kebijakan yang dianggapnya belum memihak pada prajurit TNI, misanya pemberian tunjangan dan pembelian alutsista bekas. Karena itu, menurut saya, skornya justru di bawah 5, Mas Ganjar, kalau 5 itu ketinggian, ucap Anies dalam debat capres kedua di Istora Senayan, Jakarta, Minggu (7/1/2024). Ganjar sebelumnya juga memberikan angka 5 untuk kinerja Kemenhan yang dipimpin Prabowo. Sudah saya siapkan data satu per satu. Namun demikian, Mas Anies tentu saja ada yang ingin saya sampaikan. Dari apa yang tadi sudah saya utarakan, ketika kita ingin membangun sistem pertahanan kita, maka dalam perencanaan kita tidak boleh gonta ganti, kita mesti ajeg, mesti konsisten, tutur Ganjar. Baca juga: Polah Prabowo Saat Kampanye di Bekasi, Kembali Bicara Sorry Yee hingga Joget Gemoy Lantas, Ganjar meminta Anies untuk memberikan ketegasan, berapa nilai untuk kinerja Kemenhan. Mas Anies enggak usah takut, disebut saja angkanya berapa gitu loh. Kayak saya gitu loh, jangan di bawah lima, sebut saja berapa? tanya Ganjar. Anies kemudian menjelaskan bahwa kesejahteraan prajurit TNI lebih baik di era kepemimpinan Presiden ke-6 RI Susilo Bambang Yudhoyono (SBY) ketimbang kepemimpinan Presiden Joko Widodo. Sebab, saat itu kenaikan gaji prajurit TNI terjadi sembilan kali. (Skor Kemenhan) 11 Mas, dari 100, jawab Anies. Lalu, sembari bercanda, Ganjar mengatakan bahwa Anies menunjukkan sikap yang berani. Ini sedikit ngajarin kendhel (berani) Mas Anies, biar berani, imbuh Ganjar. ",
          "Presiden Joko Widodo mengunggah momen saat dirinya menjenguk Menteri Pertahanan (Menhan) yang juga presiden terpilih hasil Pilpres 2024 Prabowo Subianto di Rumah Sakit Pusat Pertahanan Negara (RSPPN) Sudirman, Jakarta Selatan, di akun media sosial X resminya @jokowi pada Minggu (30/6/2024). Dalam unggahan itu, tampak Jokowi dan Prabowo berbincang di kamar pasien untuk Prabowo. Menurut Jokowi, tim dokter sudah melakukan tindakan medis untuk pemulihan cidera yang dialami Prabowo. Alhamdulilah operasi Bapak Prabowo @prabowo 1 minggu lalu berjalan dengan lancar. Tindakan medis untuk pemulihan cidera yang pernah dialami Pak Prabowo ketika bertugas di TNI ini, sukses dilakukan oleh tim dokter dan perawat di RSPPN Sudirman, tulis Jokowi sebagaimana dilansir pada Senin (1/7/2024). Mari kita doakan proses pemulihan pasca operasi besar Pak Prabowo, agar inshaAllah semakin siap untuk mengemban tugas melayani masyarakat Indonesia, tegasnya. Sebelumnya Prabowo mngungkapkan, dirinya menjalani operasi besar di RSPPN Panglima Besar Soedirman, Jakarta Selatan, pada minggu lalu. Operasi itu dilakukan karena ia pernah dua kali kecelakaan ketika melaksanakan aksi terjun payung saat masih aktif sebagai prajurit TNI dulu. Kecelakaan itu, kata dia, membuat kaki kirinya cedera, sehingga membuat rasa sakitnya terus dirasakan hingga pada saat ini. Seperti sudah diketahui banyak pihak, saya pernah mengalami dua kali kecelakaan terjun payung saat bertugas di TNI pada tahun 80-an di kaki kiri saya, cedera ini selama ini masih saya rasakan, ujar Prabowo dalam keterangannya, Minggu. Baca juga: Operasi Besar di RSPPN PB Soedirman, Prabowo: Saya Dua Kali Kecelakaan Terjun Payung Usai menjalani operasi, Prabowo menyatakan dirinya siap beraktivitas kembali usai melakukan operasi terhadap cedera kaki kirinya itu. Insya Allah dengan kondisi sehat walafiat ke depan, saya semakin siap untuk berbakti dan mengabdi untuk negara dan rakyat Indonesia. Terima kasih kepada seluruh masyarakat atas doa dan dukungannya, tuturnya. Prabowo menyebut dirinya paham dan sadar bahwa operasi cedera kaki ini berisiko karena mengancam nyawanya. Namun, demi bangsa dan negara, Prabowo meyakini tim dokter pasti berhasil melakukan operasi. Baca juga: Jokowi Jenguk Prabowo Usai Jalani Operasi Cedera Kaki di RSPPN PB Soedirman Saya sadar dan paham bahwa tindakan medis yang saya jalani penuh dengan risiko dan pertaruhan nyawa, saya yakinkan diri bahwa semua ini untuk negara dan bangsa, saya juga yakin tim dokter dan seluruh tenaga medis yang menanganinya pun handal dan profesional, imbuh Prabowo. ",
          "Survei terbaru Indikator Politik Indonesia memetakan elektabilitas tiga pasangan calon presiden (capres)-calon wakil presiden (cawapres) Pemilu 2024. Menurut survei, elektabilitas capres-cawapres nomor urut 2, Prabowo Subianto-Gibran Rakabuming Raka, unggul di hampir semua wilayah di Indonesia. Hanya di Jawa Tengah (Jateng) dan Daerah Istimewa Yogyakarta (DIY) tingkat keterpilihan Prabowo-Gibran kalah dari capres-cawapres nomor urut 3, Ganjar Pranowo-Mahfud MD. Prabowo-Gibran keunggulannya merata, kecuali di Jawa Tengah dan DIY kalah sama Ganjar-Mahfud, kata Direktur Eksekutif Indikator Politik Indonesia, Burhanuddin Muhtadi, dalam konferensi pers daring, Selasa (26/12/2023). Sementara, capres-cawapres nomor urut 1, Anies Baswedan-Muhaimin Iskandar, mengantongi elektabilitas cukup besar di Banten dan DKI Jakarta. Meski begitu, angka elektoral pasangan ini masih kalah dari Prabowo-Gibran. Anies-Muhaimin meskipun kalah dibanding Prabowo-Gibran, tapi sangat kompetitif di Banten dan DKI, ujar Burhanuddin. Baca juga: Survei Indikator: Elektabilitas Prabowo-Gibran Unggul Pascadebat, Anies-Muhaimin Turun Berikut peta elektabilitas tiga pasangan capres-cawapres di sejumlah wilayah menurut survei Indikator Politik Indonesia: Anies Baswedan-Muhaimin Iskandar Prabowo Subianto-Gibran Rakabuming Raka Ganjar Pranowo-Mahfud MD Survei juga memetakan elektabilitas tiga pasangan capres-cawapres pascadebat capres pada 12 Desember 2023 dan debat cawapres yang digelar 22 Desember 2023. Hasilnya, elektabilitas Prabowo-Gibran naik menjadi 46,7 persen dan unggul di urutan pertama. Angka elektoral Ganjar-Mahfud juga meningkat, meski persentasenya kecil, yaitu 24,5 persen. Sebaliknya, elektabilitas Anies-Muhaimin sedikit turun menjadi 21 persen. Berikut ini elektabilitas tiga pasangan capres-cawapres menurut survei Indikator Politik Indonesia, sebelum dan setelah debat capres-cawapres: Anies Baswedan-Muhaimin Iskandar Prabowo Subianto-Gibran Rakabuming Raka Ganjar Pranowo-Mahfud MD Baca juga: Survei Indikator Politik: Tren Elektabilitas PDIP Turun Terus, Gerindra Naik Adapun survei Indikator Politik Indonesia ini digelar pada 23-24 Desember 2023 melalui wawancara telepon. Survei melibatkan 1.217 responden yang dipilih melalui kombinasi metode random digit dialing (RDD) sebanyak 265 responden, dan double sampling sebanyak 952 responden. Margin of error survei diperkirakan +-2,9 persen dengan tingkat kepercayaan 95 persen. ",
          null
         ],
         "marker": {
          "color": "#CFD8DC",
          "opacity": 0.5,
          "size": 5
         },
         "mode": "markers+text",
         "name": "other",
         "showlegend": false,
         "type": "scattergl",
         "x": [
          5.542275905609131,
          6.889436721801758,
          2.9802815914154053,
          6.935383319854736,
          5.750500679016113,
          5.34420919418335,
          5.01869010925293,
          5.7148871421813965,
          7.7309041023254395,
          6.146847724914551,
          5.650333404541016,
          4.9649786949157715,
          6.678136348724365,
          3.320343255996704,
          6.014647960662842,
          4.271586894989014,
          5.877068996429443,
          7.020200252532959,
          4.054105758666992,
          5.95465612411499,
          3.912640333175659,
          6.125479221343994,
          5.313591957092285,
          6.037418842315674,
          4.38616418838501,
          5.596546173095703,
          5.790629863739014,
          6.4251251220703125,
          3.235522747039795,
          3.146613597869873,
          4.774496555328369,
          3.2145183086395264,
          5.563018321990967,
          4.764676094055176,
          5.770233631134033,
          5.311890125274658
         ],
         "y": [
          3.341295003890991,
          2.538534164428711,
          2.2736315727233887,
          2.7039265632629395,
          2.0754661560058594,
          4.135882377624512,
          3.057213306427002,
          3.796983242034912,
          3.486851692199707,
          1.812740683555603,
          4.524116516113281,
          4.443724155426025,
          2.3034133911132812,
          3.840118169784546,
          2.822859764099121,
          4.11432409286499,
          1.833266019821167,
          2.9129388332366943,
          3.877843141555786,
          2.813359260559082,
          3.3775453567504883,
          2.739198923110962,
          3.723755121231079,
          4.622067451477051,
          2.5457687377929688,
          1.7127909660339355,
          3.774439811706543,
          4.652539253234863,
          3.750676393508911,
          3.6758759021759033,
          3.70196795463562,
          2.1561877727508545,
          4.511842250823975,
          4.15969181060791,
          1.7818102836608887,
          3.245560884475708
         ]
        },
        {
         "hoverinfo": "text",
         "hovertext": [
          "Presiden terpilih 2024-2029 sekaligus Menteri Pertahanan (Menhan) Prabowo Subianto menghadiri 'Silaturahmi Halal Bihalal dan Syukuran Abituren Akabri 1971-1975 tahun 2024' di Kementerian Pertahanan (Kemenhan), Jakarta Pusat, pada Sabtu (4/5/2024). Pertemuan yang digelar dalam rangka reuni itu dimulai dengan upacara parade senja yang ditandai penurunan bendera merah putih serta mengheningkan cipta. Agenda tersebut kemudian disambung dengan silaturahmi dan makan malam bersama. Di hadapan ratusan alumni Akabri, Prabowo mengawali perbincangan dengan mengucapkan permohonan maaf lahir batin. Ia berharap momen ini kian mempererat tali silaturahmi. Baca juga: Anggap Positif Presidential Club yang Ingin Dibentuk Prabowo, Cak Imin: Pemerintah Bisa Lebih Produktif Karena masih di bulan Syawal, kita melaksanakan halal bihalal ini. Kami mewakili kawan-kawan yang hadir, mohon maaf lahir dan batin. Semoga kita bisa terus merajut silaturahmi, merajut persatuan dan kesatuan, ujar Prabowo dalam keterangannya, Minggu (5/5/2024). Prabowo menjelaskan, persatuan dan kesatuan adalah barang mahal yang harus dijaga sekuat tenaga. Dia lantas mengajak para alumni Akabri untuk selalu berupaya memberikan yang terbaik untuk negara. Persatuan dan kesatuan ini lah yang sangat mahal. Apabila bisa dipertahankan, negara kita akan terus langgeng, akan kuat, akan abadi, tuturnya. Baca juga: Ketidakharmonisan Hubungan Presiden Terdahulu jadi Tantangan Prabowo Wujudkan Presidential Club Menurut Prabowo, perjuangan yang dilakukan para alumni Akabri sejak muda perlu dirawat sebagai contoh yang bakal diwariskan kepada generasi penerus. Kita mengenang masa muda kita dan kita bangga ada generasi-generasi yang siap meneruskan perjuangan kita, kata Prabowo Kita akan berbuat yang terbaik untuk masa depan bangsa kita, dan kita ingin meninggalkan contoh yang terbaik (bagi generasi penerus), sambungnya. Sementara itu, Prabowo juga mengenang masa-masa ketika menempuh pendidikan di Akabri pada awal 1970-an. Dia menilai gemblengan para senior membuat keteguhan dalam membela negara terus terjaga hingga hari ini. Baca juga: Presidential Club, Upaya Prabowo Damaikan Megawati dengan SBY dan Jokowi Kita digembleng oleh mereka, dan mereka berhasil memberi nilai-nilai yang terpatri di dalam jiwa kita. Jiwa pengorbanan, jiwa pengabdian, jiwa cinta Tanah Air, imbuh Prabowo. Dalam kesempatan ini, hadir Presiden ke-6 Susilo Bambang Yudhoyono (SBY), Jenderal TNI (Purn) Wiranto, Jenderal (Purn) AM Hendropriyono, Jenderal TNI (Purn) Agum Gumelar, Laksamana TNI (Purn) Slamet Subianto, Marsekal TNI (Purn) Joko Suyanto, Marsekal TNI (Purn) Imam Sufaat, Jenderal TNI (Purn) Endriantono Sutarto, Jenderal TNI (Purn) Ryamizard Ryacudu, Jenderal Pol (Purn) Sutanto, Jenderal TNI (Purn) Agustadi, Jenderal TNI (Purn) Dudung Abdurachman, dan Jenderal TNI (Purn) Andika Perkasa. Lalu, turut hadir Ibu Wismoyo Arismunandar, Ibu LB Moerdani, serta para senior Abituren AKABRI angkatan tahun 1971-1975. ",
          "Bakal calon presiden (capres) Koalisi Indonesia Maju (KIM), Prabowo Subianto, menggandeng Wali Kota Surakarta, Gibran Rakabuming Raka, sebagai bakal calon wakil presiden (cawapres) Pemilu 2024. Pasangan bakal capres-cawapres itu menggagas sejumlah program. Gibran membocorkan, salah satu program yang ia dan Prabowo tawarkan adalah Kartu Indonesia Sehat (KIS) untuk kalangan lanjut usia (lansia). Bocoran program ini disampaikan Gibran saat berpidato di hadapan jajaran ketua umum partai politik anggota KIM serta para pendukung dan simpatisan Koalisi Indonesia Maju sebelum mendaftarkan diri ke Komisi Pemilihan Umum (KPU), Rabu (25/10/2023). Sekarang sudah ada KIS, ada Kartu Indonesia Pintar, ada PKH (Program Keluarga Harapan), nanti saya tambahkan lagi KIS lansia, kata Gibran di Indonesia Arena, Jakarta. Baca juga: KPU: Berkas Pendaftaran Prabowo-Gibran Lengkap Gibran juga mengungkap, dirinya dan Prabowo akan membuat program kartu anak sehat. Program ini bertujuan untuk menekan angka stunting di Tanah Air. Selain itu, bakal capres-cawapres Koalisi Indonesia Maju tersebut juga menggagas program kredit bernama kredit start-up milenial. Kredit ini akan diperuntukkan bagi generasi muda yang membuka bisnis di bidang teknologi dan inovasi. Sekarang sudah ada yang namanya KUR (kredit usaha rakyat), sudah ada yang namanya kredit mekar, sudah ada wakaf mikro, ada kredit ekstra mikro, nanti akan kami tambahkan lagi kredit start-up millennial, ujar Gibran. Bersama Prabowo, Gibran juga berjanji melanjutkan program yang telah dijalankan pemerintahan sang ayah, Presiden Joko Widodo, berupa hilirisasi pertambangan, pertanian, dan perikanan. Ini wajib. Dan juga ekonomi hijau dan energi hijau untuk keberlanjutan, katanya. Baca juga: Daftar ke KPU, Prabowo: Kami Akan Ikuti Semua Proses, Kami Siap Maju Jika terpilih sebagai pemimpin Indonesia berikutnya, kata Gibran, dirinya dan Prabowo akan melanjutkan dan menyempurnakan program-program pemerintah sekarang. Wali Kota Surakarta itu meyakini, dengan semangat keberlanjutan dan konsistensi, dirinya dan Prabowo mampu mewujudkan Indonesia lebih maju. Sekali lagi, terima kasih, Bapak, Ibu semua, mohon doanya agar semuanya lancar dan semoga perjalanan kita ke depan dapat dimudahkan, tutur putra sulung Presiden Jokowi tersebut. Sementara, Prabowo menjanjikan dirinya dan Gibran akan mengentaskan kemiskinan di Indonesia seandainya terpilih sebagai presiden dan wakil presiden Indonesia. Yang sangat penting dalam sejarah bangsa Indonesia, kita menghadapi titik di mana kita bisa bangkit menuju Indonesia yang hebat, Indonesia yang bebas dari kemiskinan, kata Prabowo. Menteri Pertahanan tersebut juga berjanji akan membebaskan rakyat Indonesia dari kelaparan dan kurang gizi. Katanya, seluruh anak Indonesia harus tumbuh kuat, cerdas, dan gembira. Di mana kekayaan Indonesia akan dipergunakan sebesar-besarnya untuk seluruh rakyat Indonesia, ujarnya. Prabowo pun menyampaikan terima kasih atas dukungan masyarakat dan partai politik anggota Koalisi Indonesia Maju. Ia juga memohon doa restu. Kami, Prabowo Subianto dan Gibran Rakabuming Raka, mohon doa restu dari seluruh rakyat Indonesia, tutur Ketua Umum Partai Gerindra itu. Baca juga: Prabowo-Gibran Dinilai Siap Tempur dengan Ganjar-Mahfud di Jawa Tengah Adapun Prabowo-Gibran telah resmi mendaftarkan diri sebagai capres-cawapres peserta Pemilu Presiden 2024, Rabu (25/10/203). Oleh KPU, berkas pendaftaran Prabowo-Gibran dinyatakan lengkap. Selanjutnya, pasangan bakal capres-cawapres tersebut dijadwalkan menjalani pemeriksaan kesehatan sebagai bagian dari rangkaian verifikasi dokumen pada Kamis (26/10/2023). ",
          "Menteri Pertahanan (Menhan) Prabowo Subianto menghadiri upacara peringatan Hari Ulang Tahun ke-78 Polri atau Hari Bhayangkara yang digelar di Lapangan Monas, Jakarta, Senin (1/7/2024). Prabowo yang pekan lalu menjalani operasi pada kakinya memasuki tempat upacara bersamaan dengan Presiden Joko Widodo (Jokowi). Selain itu, tampak pula Ibu Iriana Joko Widodo yang mendampingi Jokowi. Serta, Wakil Presiden (Wapres) Maruf Amin beserta istri, dan Ketua DPR RI Puan Maharani. Disaksikan dari Kompas TV, Prabowo nampak berjalan berdampingan dengan Puan Maharani di belakang Wapres Maruf Amin. Mengenakan setelah jas berwarna abu-abu muda, dia terlihat berjalan cukup cepat meskipun tidak dapat menutupi bahwa kakinya tengah sakit pascaoperasi. Prabowo juga tampak sesekali melemparkan senyum dan memberikan hormat sambil berdiri saat namanya disebut oleh Presiden Jokowi. Baca juga: Hari Bhayangkara ke-78 di Monas, Prabowo Hadir meski Baru Saja Dioperasi Diketahui, Presiden RI terpilih periode 2024-2029 tersebut baru saja menjalani operasi karena cidera kaki di Rumah Sakit Pusat Pertahanan Negara (RSPPN) Panglima Besar Soedirman, Jakarta Selatan, pada pekan lalu. Kemudian, Prabowo sempat menjalani pemulihan pascaoperasi di rumah sakit yang sama. Bahkan, Presiden Jokowi telah menjenguk suksesornya tersebut dan mendoakan untuk pemulihan Prabowo.  Prabowo dalam keterangan tertulisnya mengungkap bahwa penyebab cedera yang sudah lama tersebut adalah karena dua kali kecelakaan terjun payung saat dirinya masih aktif bertugas di TNI. Seperti sudah diketahui banyak pihak, saya pernah mengalami dua kali kecelakaan terjun payung saat bertugas di TNI pada tahun 80-an di kaki kiri saya, cidera ini selama ini masih saya rasakan, kata Prabowo dalam keterangannya, Minggu (30/6/2024) malam. Baca juga: 5 Fakta Operasi Besar Prabowo: Cedera Kaki karena Terjun Payung hingga Siap Beraktivitas Selain Menhan Prabowo, sejumlah menteri juga tampak hadir. Seperti Menteri Pekerjaan Umum dan Perumahan Rakyat (PUPR) Basuki Hadimuljono, Menteri Sekretariat Negara (Mensesneg) Pratikno, Menteri Investasi Bahlil Lahadalia, Menteri Perdagangan Zulkifli Hasan. Kemudian, Menteri Agraria dan Tata Ruang (ATR) Agus Harimurti Yudhoyono (AHY), Menteri Pendayagunaan Aparatur Negara dan Reformasi Birokrasi Azwar Anas, Jaksa Agung ST Burhanuddin, dan Ketua MPR RI Bambang Soesatyo. Nampak juga hadir Wakil Presiden ke-10 dan 12 RI Jusuf Kalla, Istri Presiden ke-4 RI Abdurrahman Wahid atau kerap disapa Gus Dur, Ibu Sinta Nuriyah, dan Wakil Presiden ke-6 RI Try Sutrisno. Selain itu, juga hadir Ketua Komisi Pemilihan Umum (KPU) Hasyim Asyari, dan Ketua Badan Pengawas Pemilu (Bawaslu) Rahmat Bagja. Baca juga: Jenguk Prabowo Pascaoperasi, Jokowi: Mari Doakan Proses Pemulihan ",
          "Semakin gemuk atau banyaknya jajaran koalisi dari Presiden-Wakil Presiden Terpilih, Prabowo Subianto-Gibran Rakabuming Raka, dinilai bisa menjadi pisau bermata dua yang memberikan dampak positif atau justru negatif. Sistem ini di satu sisi menciptakan stabilitas pemerintahan, kata analis sosial politik, Karyono Wibowo, kepada Kompas.com, Sabtu (27/4/2024). Karyono mengatakan, sistem merangkul partai-partai di luar koalisi yang menjadi lawan politik dalam kompetisi pilpres dilakukan untuk mengatasi problematika presidensialisme di tengah sistem multipartai. Baca juga: Checks and Balances terhadap Pemerintahan Dinilai Lemah jika PDI-P Gabung Koalisi Prabowo Sebab, menurut Karyono, problematika sistem presidensial pada umumnya terjadi ketika dikombinasikan dengan sistem multipartai. Persoalan kerap muncul ketika terjadi fragmentasi dan polarisasi yang tinggi sehingga berdampak pada sikap politik di parlemen yang dapat mengganggu relasi lembaga eksekutif dengan legislatif, kata dia. Di sisi lain, koalisi pemerintahan yang dibentuk dari hasil kompromi ini bisa mengakibatkan prinsip check and balance tidak berjalan maksimal. Hal ini pun juga bisa berdampak membuat pemerintahan berjalan tidak efektif dan efisien. Koalisi gemuk tak jarang menyebabkan pemerintahan tidak efektif dan tidak efisien. Apalagi, jika prinsip dasar pembentukan kabinet pemerintahan sekadar dimaknai bagi-bagi kekuasaan, maka orientasi pembangunan nasional bisa bergeser menjadi sekadar pemenuhan kepentingan kelompok, ucap dia. Baca juga: Politikus PPP Sebut Ada Kemungkinan Parpolnya Gabung Koalisi Prabowo-Gibran Direktur Eksekutif Indonesia Public Institute (IPI) ini berpandangan, partai oposisi masih sangat diperlukan untuk mengontrol jalannya pemerintahan. Agar ada check and balance yang diharapkan meminimalisasi terjadinya penyimpangan kekuasaan (abuse of power), kata dia. Sejak awal pemilu, ada sembilan partai yang mengusung Prabowo-Gibran. Sembilan partai itu adalah Partai Gerindra, Partai Golkar, Partai Demokrat, PAN, PBB, PSI, Prima, Partai Gelora, dan Partai Garuda. Kini, tiga partai anggota Koalisi Perubahan untuk Persatuan yakni PKB, Nasdem, dan PKS, membuka peluang bergabung ke koalisi Prabowo-Gibran. Pada Pilpres 2024, kongsi tersebut mengusung Anies Baswedan-Muhaimin Iskandar sebagai calon presiden dan calon wakil presiden (capres-cawapres). Namun, pasangan ini ditumbangkan oleh Prabowo-Gibran. Baca juga: Dukung Prabowo-Gibran, PKB Pastikan Tak Bakal Rusak Soliditas Koalisi Indonesia Maju ",
          "Partai Demokrasi Indonesia Perjuangan (PDI-P) menganggap pernyataan Presiden terpilih Prabowo Subianto yang tidak ingin masa pemerintahannya kelak diganggu sebagai sinyal bahaya. Menurut politikus PDI-P Adian Napitupulu, kata jangan mengganggu yang disampaikan Prabowo sangat subjektif dan tidak ada instrumen hukum yang bisa dijadikan patokan ukuran. Karena bahasa mengganggu itu sangat subjektif. Enggak ada alat ukurnya. Berbahaya ketika kita berbicara tentang hubungan antaranak bangsa dalam sebuah negara tapi dengan alat ukur yang sangat subjektif, kata Adian dalam program Satu Meja di Kompas TV, seperti dikutip pada Rabu (15/5/2024). Adian mengatakan, karena tidak ada patokan ukuran menurut aturan undang-undang itulah maka tafsir mengenai jangan mengganggu yang disampaikan Prabowo dikhawatirkan sangat subjektif dan rentan terjadi penyalahgunaan kekuasaan buat menekan kelompok yang berbeda pandangan dengan pemerintah. Baca juga: Prabowo Sebut Jangan Ganggu jika Ogah Kerja Sama, Gerindra: Upaya Rangkul Partai Lain Terus Dilakukan Dengan demikian sangat bebas tafsir. Kalau kemudian tiba-tiba ada pernyataan A, B, C, segala macam kita mengkategorikannya kritik, Prabowo bisa mengkategorikan itu mengganggu, ujar Adian. Dan apa alat ukurnya? Ya dia sendiri yang tahu, sambung Adian. Seperti diberitakan sebelumnya, Prabowo menyampaikan pernyataan jangan mengganggu itu pada acara bimbingan teknis (bimtek) dan rakornas pilkada Partai Amanat Nasional (PAN) di Hotel JS Luwansa, Jakarta Selatan, Kamis (9/5/2024) malam. Saya akan berjuang terus bersama semua kekuatan yang mau diajak kerja sama. Yang tidak mau diajak kerja sama tidak apa-apa. Kalau ada yang mau nonton di pinggir jalan, silakan jadi penonton yang baik, ujar Prabowo. Baca juga: Prabowo Minta Pemerintahannya Tak Diganggu, PKS: Kontrol Terhadap Pemerintah Wajib Tapi kalau sudah tidak mau diajak kerja sama, ya jangan mengganggu. Orang lagi mau kerja kok. Kita mau kerja. Kita mau kerja. Kita mau amankan kekayaan bangsa Indonesia, sambungnya. Prabowo menjelaskan, dirinya tidak ingin ada lagi orang Indonesia yang menangis karena lapar. Dia menekankan rakyat Indonesia tidak boleh tidak bisa makan. Saya yakin saudara tidak terima. Saya malu saya dikasih pangkat jenderal oleh rakyat. Saya dipilih oleh rakyat. Siang dan malam kita berpikir, saya berpikir, bagaimana rakyat Indonesia tidak ada yang lapar, jelas Prabowo. ",
          "Koalisi presiden dan wakil presiden RI terpilih, Prabowo Subianto-Gibran Rakabuming Raka, kian gemuk. Pasalnya, Partai Nasdem menyatakan dukungan untuk keduanya. Partai Kebangkitan Bangsa (PKB) juga memberi sinyal merapat ke pemerintahan mendatang. Dua partai tersebut sebelumnya berseberangan dengan Prabowo-Gibran. Pada Pemilu Presiden (Pilpres) 2024, Nasdem, PKB, dan Partai Keadilan Sejahtera (PKS) tergabung dalam Koalisi Perubahan untuk Persatuan mengusung Anies Baswedan-Muhaimin Iskandar sebagai calon presiden dan calon wakil presiden (capres-cawapres). Bekas koalisi tersebut menyisakan PKS yang hingga kini belum menyatakan sikap, apakah bakal mendukung pemerintahan Prabowo-Gibran, atau berada di luar sebagai oposisi. Selain PKS, PDI Perjuangan hingga kini juga masih bergeming. Pada Pilpres 2024, PDI-P bersama Partai Persatuan Pembangunan (PPP) mengusung Ganjar Pranowo-Mahfud MD sebagai capres-cawapres. Menurut hasil Pemilu 2024 yang ditetapkan oleh Komisi Pemilihan Umum (KPU), PPP tak lagi lolos ke Senayan. Sebab, dengan perolehan 3,87 persen suara, partai Kabah tidak memenuhi ambang batas parlemen atau parliamentary threshold sebesar 4 persen. Baca juga: Dukung Prabowo-Gibran, PKB Pastikan Tak Bakal Rusak Soliditas Koalisi Indonesia Maju Sementara, Prabowo-Gibran sendiri sejak awal diusung oleh empat partai parlemen, yakni Partai Gerindra, Partai Golkar, Partai Demokrat, dan Partai Amanat Nasional (PAN). Kendati masih mungkin berubah, komposisi kekuatan pemerintahan Prabowo-Gibran ke depan mulai terlihat. Dengan tambahan dukungan Partai Nasdem dan PKB, partai koalisi presiden dan wakil presiden terpilih itu mengantongi total 63,64 persen suara sah nasional. Jika dikonversi menjadi kursi di parlemen, koalisi Prabowo-Gibran diperkirakan menguasai 417 kursi atau 71,89 persen dari total 580 kursi di DPR RI. Adapun konversi suara partai menjadi kursi DPR RI ini dikutip dari data Centre for Strategic and International Studies (CSIS). Kepala Departemen Politik dan Perubahan Sosial CSIS Arya Fernandes telah mengizinkan Kompas.com untuk mengutip laporan ini. Berikut perincian peta kekuatan koalisi Prabowo-Gibran seandainya hanya mendapat tambahan kekuatan dari Nasdem dan PKB. Total suara sah nasional: 63,64 persen Total kursi di DPR RI: 163 kursi (28,10 persen) Baca juga: Checks and Balances terhadap Pemerintahan Dinilai Lemah jika PDI-P Gabung Koalisi Prabowo Sebagaimana diketahui, Prabowo Subianto-Gibran Rakabuming Raka ditetapkan sebagai presiden dan wakil presiden terpilih RI masa jabatan 2024-2029 oleh KPU RI pada Senin (22/4/2024). Pasangan ini memenangi Pilpres 2024 dengan perolehan 96.214.691 suara atau sekitar 58,58 persen dari seluruh suara sah nasional. Sementara, pasangan capres-cawapres nomor urut 1, Anies Baswedan-Muhaimin Iskandar, mengekor di urutan kedua dengan raihan 40.971.906 suara atau sekitar 24,95 persen. Di urutan buntut, capres-cawapres nomor urut 3, Ganjar Pranowo-Mahfud MD, menghimpun 27.040.878 suara atau sekitar 16,47 persen dari seluruh suara sah nasional. Meski begitu, Prabowo-Gibran belum resmi menjadi presiden dan wakil presiden RI. Menurut jadwal, pelantikan keduanya bakal digelar pada 20 Oktober 2024. ",
          "Ketua Umum (Ketum) Partai Gelombang Rakyat (Gelora) Indonesia Anis Matta menilai, situasi kondusif dari bersatunya Jokowi dan Prabowo membuat Indonesia dapat melalui krisis yang dipicu Covid-19 dan ancaman disintegrasi bangsa. Sehingga rekonsiliasi tersebut harus dilanjutkan di Pilpres 2024, sehingga umat Islam hendaknya mendukung Prabowo-Gibran, karena mereka berdua yang mampu menghadapi pendalaman krisis pada 2024 ini, kata Anis Matta melalui keterangan persnya, Kamis (8/2/2024). Hal itu disampaikan Anis Matta dalam program Anis Matta Menjawab Episode 29 dengan tema Maslahat Umat Dalam Pilpres di Tengah Ancaman Disintegrasi yang telah tayang di kanal YouTube Gelora TV pada Senin (22/1/2024) malam. Ia menegaskan, Prabowo-Gibran merupakan bentuk kemaslahatan umat, karena keduanya dipercaya dapat mencegah disintegrasi yang muncul saat Pilpres 2024. Baca juga: Bela Jokowi dan Minta Ahok Ngaca, Kubu Prabowo: Gibran Malah Lebih Teruji Kita berharap umat Islam mendukung Pak Prabowo seperti dalam dua Pilpres sebelumnya. Kita jangan gampang dipecah belah lagi, dijadikan kambing hitam dan korban seperti pada 2019, dengan terus menerus menjadi kerumunan, tutur Anis Matta. Dia menegaskan, Prabowo bisa membawa Indonesia menjadi pemimpin di kawasan Asia-Pasifik jika terpilih sebagai presiden nantinya. Kira-kira, di antara semua calon presiden (capres) yang paling mengerti masalah geopolitik adalah Pak Prabowo. Situasi geopolitik sekarang, yang paling diuntungkan adalah beliau. Pak Prabowo adalah man of the moment, kata Anis Matta. Menurut Anis Matta, Prabowo adalah calon presiden (capres) yang paling memahami dan mengerti pergolakan situasi geopolitik global yang sedang terjadi di seluruh dunia sekarang. Baca juga: Airlangga Sebut Prabowo-Gibran Menang 1 Putaran Sudah Terlihat, Klaim Kuasai Jabar dan Jatim Selain itu, Prabowo juga pernah menjadi korban geopolitik global saat menjadi Pangkrostad saat era Presiden Soeharto pada 1998 lalu. Hal ini menjadikan Prabowo mafhum akan siklus kehidupan karena pernah menjadi korban geopolitik. Jadi, pada1998, Pak Prabowo bersama Presiden Soeharto itu adalah korban geopolitik. Ini siklus saja dalam hidup orang, bahwa suatu waktu beliau menjadi korban geopolitik dan sekarang karena situasi geopolitik beliau yang paling diuntungkan dan paling mungkin menjadi presiden, katanya. Ia menilai bahwa Prabowo mengetahui bagaimana cara menempatkan Indonesia dalam situasi geopolitik sekarang sebagai negara dengan penduduk muslim terbesar di dunia, negara dengan demokrasi terbesar ketiga di dunia, dan negara dengan populasi terbesar keempat di dunia. Jadi poin pertama yang diperlukan umat Islam sekarang adalah visi masa depan. Kita mengerti pergolakan yang sedang terjadi sekarang di seluruh dunia dan mengerti cara menempatkan Indonesia dalam situasi itu, katanya. Baca juga: Zulhas Kampanye Bareng Gus Miftah di Sleman, Ribuan Warga Teriak Prabowo-Gibran Sekali Putaran Menurut Anis Matta, Indonesia sebenarnya sudah menjadi pemimpin kawasan. Namun, hal itu tidak disadari karena kurangnya pemahaman soal pergolakan situasi geopolitik global saat ini. Hal ini bisa diatasi dengan peningkatan partisipasi di forum-forum internasional. Karena Indonesia adalah pemimpin kawasan, maka semua perubahan yang terjadi di Indonesia dengan sendirinya akan memengaruhi kawasan. Sehingga, Pilpres 2024 di Indonesia sangat penting, karena akan menentukan arah dunia, katanya. Selain di Indonesia, lanjut Anis Matta, pilpres lain pada 2024 yang akan menentukan arah dunia ke depan adalah pilpres di Taiwan yang telah digelar pada 13 Januari lalu. Lai Ching-te dari Partai Progresif Demokratik (DPP) dengan bantuan Amerika Serikat (AS) keluar sebagai pemenangnya. Pilpres lainnya adalah pilpres di Rusia yang akan digelar pada Maret, yang diramalkan akan dimenangkan oleh Vladimir Putin). Terakhir, adalah pilpres di AS pada November, katanya. Baca juga: Pamer Capaian Jokowi, Airlangga: Sudah Jelas yang Bisa Lanjutkan Program Pemerintah Cuma Prabowo-Gibran Empat pilpres pada 2024 itu, sebut Anis Matta akan menentukan arah dunia karena ada pendalaman krisis global yang berbeda dari sebelumnya. Nah, pemimpin yang dihasilkan dari empat pilpres yang sangat penting di seluruh dunia pada tahun 2024 ini, akan sangat menentukan arah dunia. Insya Allah, pilpres yang akan berlangsung di Indonesia dimenangkan oleh Pak Prabowo satu putaran, tegasnya. Anis Matta berharap agar umat Islam memiliki kesadaran geopolitik, karena hal itu telah diajarkan Al Quran seperti ketika turunnya Surah Ar-Rum, yang mengabarkan bahwa umat Islam akan berperang menghadapi Imperium Romawi pada 13 tahun kemudian atau pascapengangkatan Rasulullah SAW sebagai nabi. Rasulullah SAW menjadi nabi itu selama 22 tahun 22 bulan dan 22 hari. Dan tahun ketujuh di Mekkah, beliau diangkat nabi, sudah turun Surat dalam Al Quran, yaitu Surat Ar-Rum. Satu surat yang bicara tentang bangsa lain, yaitu bangsa Romawi. Kenapa Al Quran bercerita tentang bangsa Romawi, padahal umat Islam ketika itu masih buta huruf dan terisolir? katanya. Baca juga: Soal Video Sekda Takalar Kampanye Prabowo-Gibran, Bawaslu Tak Temukan Pelanggaran Lalu, lanjut dia, 13 tahun kemudian, umat Islam terlibat terlibat pertempuran hebat dengan bangsa Romawi yang mengakibatkan Romawi hilang dari peta dunia. Sehingga Al Quran mengajarkan kepada umat Islam agar memiliki pandangan yang luas mengenai kesadaran geopolitik. Menurutnya, kesadaran geopolitik ini penting agar umat Islam bisa memilih pemimpin yang tepat. Sebab, dunia saat ini berada di ambang perang global yang terjadi di kawasan-kawasan. Di Afrika sudah, Eropa sedang berlangsung, di Timur Tengah juga sekarang sedang berlangsung. Dan perlu diingat, dengan terpilihnya Presiden Taiwan yang didukung AS, situasi di kawasan kita akan semakin panas. Hubungan AS dan China akan semakin tegang dan panas, ujarnya. Artinya, jelas dia, Indonesia yang berada di kawasan Asia-Pasifik yang bisa saja menjadi salah satu medan tempur (battleground) bagi negara-negara adidaya dunia. Pemimpin Indonesia terpilih pun harus bisa menyiapkan diri menghadapi skenario tersebut. Baca juga: Program Makan Siang Gratis Prabowo-Gibran, Solusi atau Peluang Timbulkan Masalah Baru? Karena itu, apa yang sudah dilakukan Pak Prabowo dan Presiden Joko Widodo yang mengakhiri pembelahan luar biasa dalam dua pilpres lalu adalah hal yang tepat. Kemudian mereka berdua bersatu, sehingga bisa menyelamatkan Indonesia, katanya. ",
          "Wakil Ketua Tim Kampanye Nasional (TKN) Prabowo Subianto-Gibran Rakabuming Raka, Ahmad Muzani, menyebutkan, Prabowo-Gibran sudah sah menjadi presiden dan wapres 2024-2029 setelah Mahkamah Konstitusi (MK) menolak gugatan dari kubu paslon 01 dan 03 terkait sengketa Pilpres 2024. Kita baru saja mendengar keputusan MK tentang sengketa pilpres yang diajukan paslon 01 dan 03. Upaya ini adalah upaya yang dimungkinkan oleh konstitusi dan upaya ini adalah upaya terakhir yang diberikan oleh pasangan capres untuk menggugat tentang sengketa pilpres, ujar Muzani dalam jumpa pers di Medcen TKN Prabowo-Gibran, Jakarta Selatan, Senin (22/4/2024). Dengan diputuskannya MK, di mana pasangan 02 yakni pasangan capres Prabowo Subianto bersama dengan Gibran Rakabuming Raka sebagai capres dinyatakan sah sebagai presiden RI dan wakil presiden RI pemenang dalam Pilpres 2024 yang baru kemarin kita laksanakan, kata dia. Baca juga: MK Tolak Gugatan Anies dan Ganjar, Yusril: Kami Sudah Ramal sejak Awal Muzani menyampaikan, pihaknya menghormati semua ikhtiar dan upaya yang dilakukan oleh kubu Anies-Muhaimin dan Ganjar-Mahfud yang ingin menempuh jalan keadilan. Dia menyebutkan, pihaknya menjunjung tinggi hak konstitusi tersebut. Akan tetapi, ketika keputusan MK sudah dibacakan, sebagai akhir keputusan tersebut, kami mohon putusan MK itu mohon dihormati dan dijunjung tinggi. Karena sifat dari keputusan MK adalah bersifat final dan mengikat, kata Muzani. Maka dari itu, Muzani kembali menekankan Prabowo-Gibran sudah sah menjadi presiden dan wapres RI 2024-2029. Baca juga: Ganjar Beri Selamat ke Prabowo-Gibran, Ingatkan Banyak PR Harus Diselesaikan Dia turut mengucapkan terima kasih kepada semua rakyat Indonesia yang telah mengikuti proses persidangan di MK secara terbuka dan fair. Kami ucapkan terima kasih kepada KPU, Bawaslu, DKPP. Kami juga ucapkan terima kasih kepada aparat kepolisian RI, TNI. Kami juga ucapkan terima kasih kepada seluruh insan pers yang terus-menerus memberitakan tentang berbagai macam persidangan yang terjadi di MK, kata dia. ",
          "Menteri Pendayagunaan Aparatur Negara dan Reformasi Birokrasi (PAN-RB) Abdullah Azwar Anas mengaku sempat membahas mengenai revisi Undang-Undang (UU) No. 39/2008 tentang Kementerian Negara saat bertemu dengan Presiden Joko Widodo di Istana Kepresidenan Jakarta, Jumat (28/6/2024). Anas mengatakan, pada prinsipnya pembentukan kementerian akan diselaraskan dengan strategi pencapaian visi dan misi serta kebutuhan presiden di masa mendatang jika disetujui, termasuk Presiden Terpilih Prabowo Subianto. Baca juga: Survei Litbang Kompas: 42,3 Persen Publik Setuju Jumlah Kementerian Tetap 34 Terkait inisiatif UU Kementerian Negara, tadi dibahas bahwa khusus untuk pasal 15 kita tidak akan membahas secara rigid, kecuali memberi ruang kepada bapak presiden election yang akan datang untuk terkait jumlah kabinet disesuaikan dengan efisiensi menjalankan pemerintahan, kata Anas di Istana, Jumat. Anas menuturkan, Kementerian PAN-RB belum dapat menyampaikan pernyataan lebih lanjut karena proses revisi UU Kementerian Negara sedang berjalan. Tetapi menurutnya, secara prinsip ada dua hal yang ditekankan. Pertama, pembentukan kementerian merupakan prerogratif Presiden. Baca juga: Penambahan Jumlah Kementerian dan Hak Prerogatif Presiden Kedua, pembentukan kementerian akan berbasis pada efektivitas pemerintahan, termasuk terkait optimalisasi tugas-fungsi yang ada di masing-masing kementerian untuk digerakkan dalam rangka mencapai target kinerja pemerintahan dan pembangunan nasional. Terkait dengan Pasal 15 itu bahwa kita tidak akan lebih rigid lagi soal jumlah, tapi disesuaikan dengan kebutuhan presiden dan skala prioritas berdasarkan strategi. Dan tentu harapannya agar penyelenggara daerah tetap efisien dan efektif, ucap dia. Anas menambahkan, sesuai arahan Presiden Jokowi, saat ini pemerintah terus melakukan penguatan tata kelola pemerintahan dan proses bisnis yang efektif melalui koordinasi dan kolaborasi antar kementerian dan lembaga. Baca juga: Survei Litbang Kompas: Jumlah Kementerian Era Jokowi Dianggap Sudah Ideal Pemerintah, kata dia, fokus pada tata kelola agar berjalan baik dan berdampak ke rakyat. Intinya berdampak, bisa dirasakan rakyat, seperti berulangkali disampaikan Presiden Jokowi. Contohnya beberapa hari lalu pemerintah meluncurkan digitalisasi perizinan event sebagai hasil pemangkasan proses bisnis dan kolaborasi lintas kementerian, sebutnya. Sebagai informasi, Dewan Perwakilan Rakyat (DPR) telah menyetujui rencana revisi UU tersebut menjadi rancangan UU inisiatif DPR. ",
          "Calon presiden (capres) nomor urut 1 Anies Baswedan mengaku, dia tidak keberatan ketika Komisi Pemilihan Umum (KPU) RI menetapkan Prabowo Subianto-Gibran Rakabuming Raka sebagai Presiden-Wakil Presiden terpilih untuk periode 2024-2029. Hal ini ditegaskan Anies ketika ditanya wartawan terkait Prabowo yang menyebutnya berat saat tersenyum di acara penetapan presiden-wakil presiden terpilih oleh KPU. Kalau itu tanyakan ke beliau, kan beliau yang ngalamin. Kalau kita kan biasa-biasa saja, kata Anies di halaman Kantor KPU, Jakarta, Rabu (24/4/2024). Adapun Prabowo-Gibran ditetapkan sebagai presiden dan wakil presiden terpilih melalui Keputusan KPU Nomor 504 Tahun 2024 yang meliputi perolehan suara di 38 provinsi dan 128 wilayah di luar negeri. Baca juga: Sapa Anies-Muhaimin, Prabowo: Saya Pernah di Posisi Anda, Senyuman Anda Berat Sekali Penetapan ini dilakukan setelah gugatan sengketa Pilpres 2024 yang diajukan Anies Baswedan-Muhaimin Iskandar dan Ganjar Pranowo-Mahfud MD ditolak Mahkamah Konstitusi (MK). Dalam pidato perdana usai ditetapkan KPU, Prabowo pun menyapa Anies Baswedan-Muhaimin Iskandar sebagai calon presiden dan calon wakil presiden (capres-cawapres) nomor urut 1. Prabowo mengakui, banyak pihak mungkin lelah dan tidak puas serta kecewa atas hasil pemilu. Dia kemudian bergurau dengan Anies dan cawapres pendampingnya, Muhaimin Iskandar, yang turut hadir dalam acara penetapannya. Baca juga: Momen Prabowo Guncangkan Badan Anies Sambil Tertawa Usai Jadi Presiden Terpilih Prabowo mengatakan, dia pernah berada pada posisi Anies dan Muhaimin saat ini. Mas Anies, Mas Muhaimin, saya pernah ada di posisi Anda. Saya tahu senyuman Anda berat sekali itu, kata Prabowo dibalas tawa semua hadir, termasuk senyuman Gibran Rakabuming yang mendampinginya di sisi mimbar. Namun demikian, menurut Prabowo, kompetisi yang sengit itu lah yang diinginkan oleh para pemilih. Dia mengatakan, rakyat akan selalu menuntut pilihan dan perbandingan dalam setiap pemilu. Kalau kontestasi adem-adem saja saja, kalau kontestan itu tidak tajam dan tidak keras, namanya bukan pilihan untuk rakyat, ujar dia. Saya terima kasih kepada Mas Anies dan Mas Muhaimin, juga saya terima kasih kepada Mas Ganjar dan Profesor Mahfud, kata Prabowo lagi. Baca juga: Jadi Presiden Terpilih, Prabowo Terima Kasih ke Anies-Muhaimin dan Ganjar-Mahfud ",
          "Pengamat politik dari UIN Syarif Hidayatullah Adi Prayitno memprediksi presiden terpilih 2024-2029 Prabowo Subianto akan memilih PDI-P ketimbang Presiden Joko Widodo. Adi meyakini hal tersebut bakal terjadi usai Jokowi lengser dan Prabowo resmi dilantik menjadi presiden pada 20 Oktober 2024. Rasa-rasanya setelah 20 Oktober, Prabowo ini akan jauh memprioritaskan PDI-P ketimbang Jokowi yang sudah tak lagi jadi presiden, ujar Adi dalam program Obrolan Newsroom Kompas.com, Selasa (30/4/2024). Tapi per hari ini, saya membaca Prabowo masih cukup menghargai dan menjadikan Jokowi sebagai variabel penting. Karena sampai tanggal 20 saya kira Jokowi masih jadi presiden, sambungnya. Baca juga: Projo Ungkap Kemungkinan Jokowi Akan Gabung Parpol Lain Setelah Tak Dianggap PDI-P Menurut Adi, ketika Jokowi sudah tidak menjadi sosok penting bagi Prabowo, potensi PDI-P bergabung ke pemerintahan terbuka. Sebaliknya, jika nantinya Jokowi masih ikut campur dalam pemerintahan Prabowo-Gibran, PDI-P tidak akan senang untuk ikut berkoalisi. Oleh karena itu, setidaknya PDI-P barrier politiknya bagaimana hubungan Prabowo dan Jokowi. Kalau sudah tak baik-baik saja, bukan tidak mungkin PDI-P itu akan jadi bagian dari koalisi, kata Adi. Maka dari itu, Adi meminta publik melihat apa yang terjadi setelah Jokowi menyerahkan kursi presiden kepada Prabowo pada 20 Oktober 2024. Baca juga: Sekjen PDI-P: Banyak Pengurus Ranting Minta Pertemuan Megawati-Jokowi Tak Terjadi Adi meyakini bahwa Prabowo pasti akan mengedepankan dukungan yang berlimpah di parlemen. Dari situ, kata dia, bisa terlihat apakah Jokowi masih dianggap sosok yang penting atau tidak bagi Prabowo. Karena kalau mau jujur, Prabowo ini pasti akan bicara ke depan, bagaimana mendapatkan dukungan berlimpah, dukungan politik, dukungan partai solid, sehingga semua keputusan politik bisa berjalan dengan baik, jelasnya. Adi meyakini bahwa Gerindra dan Prabowo tidak nyaman jika PDI-P berada di luar kekuasaan. Pasalnya, PDI-P merupakan partai pemenang Pileg 2024 dan pemilik kursi terbanyak di parlemen. Mereka juga berpengalaman sebagai oposisi. Mereka bisa kritis dan selalu bisa resisten setiap keputusan politik Prabowo, kata Adi. Pasca (Jokowi) tak lagi jadi presiden, Prabowo akan memilih, lebih penting mana antara PDI-P dan Pak Jokowi, imbuhnya. ",
          "Presiden Joko Widodo melakukan penyematan pangkat Jenderal Kehormatan kepada Menteri Pertahanan (Menhan) Prabowo Subianto pada Rabu (28/2/2024). Acara penyematan digelar saat rapat pimpinan (rapim) TNI-Polri di Markas Besar (Mabes) TNI, Cilangkap, Jakarta Timur. Prosesi pemberian gelar Jenderal Kehormatan diawali pengumuman pemberian gelar kehormatan kepada Presiden. Baca juga: Diberhentikan dari Militer, Gelar Jenderal Kehormatan Prabowo Dipertanyakan Setelah itu, Jokowi menyematkan lencana dan tanda bintang di bahu dan pundak Prabowo yang mengenakan seragam TNI lengkap. Kepala Negara pun menyalami Menhan Prabowo sambil mengucapkan selamat. Dengan demikian, Prabowo melengkapi jabatan militernya sebagai Jenderal Bintang 4. Pangkat terakhir Prabowo di TNI sebelum pensiun yakni, Letnan Jenderal (Letjen). Pemberian gelar kehormatan untuk Prabowo diumumkan Jokowi saat menyampaikan sambutan.  Dalam kesempatan yang baik ini, dalam kesempatan yang berbahagia ini, saya ingin menyampaikan penganugerahan kenaikan pangkat secara istimewa berupa Jenderal TNI kehormatan kepada Bapak Prabowo Subianto, ujar Jokowi. Penganugerahan ini adalah bentuk penghargaan sekaligus peneguhan untuk berbakti sepenuhnya kepada rakyat, kepada bangsa dan kepada negara. Saya ucapkan selamat kepada Bapak Jenderal Prabowo Subianto, lanjutnya. Acara penganugerahan pangkat Jenderal Kehormatan kepada Prabowo ini dihadiri Panglima TNI Jenderal Agus Subiyanto, Kapolri Jenderal Listyo Sigit Prabowo, Kepala Staf Angkatan Darat Jenderal Maruli Simanjuntak, Kepala Staf Angkatan Laut Laksamana Mohammad Ali, dan Kepala Staf Angkatan Udara Marsekal Fadjar Prasetyo. Selain itu hadir pula Wakil Menteri Pertahanan Muhammad Herindra, Baca juga: Langkah Jokowi Jadikan Prabowo Jenderal Kehormatan Bisa Mencoreng TNI Wakil Ketua MPR Ahmad Muzani dan Ketua Komisi I DPR RI Meutia Hafidz Diketahui, pangkat terakhir Prabowo adalah Letnan Jenderal (Purn) atau bintang tiga. Dengan demikian, mantan Komandan Jenderal Kopassus dan Panglima Kostrad itu akan menyandang bintang empat.  ",
          "Menteri Pertahanan (Menhan) Prabowo Subianto berdiri dan memberikan hormat saat Presiden Joko Widodo (Jokowi) menyapanya saat memberikan amanat selaku inspektur upacara dalam peringatan Hari Ulang Tahun (HUT) ke-78 Bhayangkara di Lapangan Monas, Jakarta, Senin (1/7/2024). Presiden Jokowi awalnya menyapa Wakil Presiden (Wapres) Maruf Amin dan Ibu yang hadir. Lalu, Ibu Negara ke-4 Ibu Sinta Nuriah dan Wapres ke-10 dan 12 RI Jusuf Kalla. Yang saya hormati Presiden terpilih RI Bapak Prabowo Subianto, kata Jokowi dikutip dari Kompas TV, Senin. Disapa oleh Jokowi, Prabowo yang duduk di bangku para undangan lantas berdiri dan memberikan hormat. Kemudian, duduk kembali. Baca juga: Hadiri HUT Bhayangkara Ke-78, Prabowo Berjalan Berdampingan dengan Puan Maharani Ini bukan kali pertama Presiden Jokowi menyapa Prabowo sebagai Presiden RI terpilih di acara penting. Jokowi pernah mengenalkan Prabowo sebagai suksesornya kepada tamu-tamu internasional saat membuka World Water Forum (WWF) ke-10 di Nusa Dua, Bali pada 20 Mei 2024. Menggunakan bahasa Inggris, Jokowi menyebut bahwa Prabowo yang saat ini menjabat Menteri Pertahanan bakal melanjutkan komitmen Indonesia terhadap pengelolaan air. Sehubungan dengan kelanjutannya pada bulan Oktober masa jabatan saya sebagai presiden akan berakhir. Dan pada kesempatan yang baik ini izinkan saya memperkenalkan Presiden Terpilih Indonesia Bapak Prabowo Subianto, kata Jokowi dalam pidatonya. Diperkenalkan oleh Jokowi, Prabowo lantas berdiri dari kursinya. Dia menangkupkan kedua tangannya seraya memutar badannya untuk memberikan salam pada para kepala negara, delegasi hingga tamu undangan yang menghadiri pembukaan WWF ke-10 di Bali.  Baca juga: Hari Bhayangkara ke-78 di Monas, Prabowo Hadir meski Baru Saja Dioperasi Senyum tipis juga sesekali terlihat di wajah Ketua Umum Partai Gerindra tersebut. Prabowo juga sempat menundukkan badan kepada Jokowi setelah memperkenalkannya sebagai Presiden RI berikutnya. Kemudian, disaksikan dari tayangan Kompas TV, Prabowo kembali duduk setelah sesi perkenalan tersebut selesai. Terima kasih, Pak Prabowo, ujar Jokowi setelah sesi perkenalan tersebut. Sementara itu, Prabowo diketahui baru menjalani operasi karena cidera kaki di Rumah Sakit Pusat Pertahanan Negara (RSPPN) Panglima Besar Soedirman, Jakarta Selatan, pada pekan lalu. Namun, Prabowo terlihat berjalan cukup cepat saat memasuki tempat upacara HUT ke-78 Bhayangkara. Prabowo tampak berjalan dua baris di belakang Presiden Jokowi dan Ibu Iriana Jokowi. Selain itu, dia terlihat berjalan berdampingan dengan Ketua DPR RI Puan Maharani. Baca juga: Presiden RI yang Pernah Jalani Operasi Saat Menjabat dan Sudah Lengser Selain Prabowo, sejumlah menteri juga tampak hadir. Seperti Menteri Pekerjaan Umum dan Perumahan Rakyat (PUPR) Basuki Hadimuljono, Menteri Sekretariat Negara (Mensesneg) Pratikno, Menteri Investasi Bahlil Lahadahlia, Menteri Perdagangan Zulkifli Hasan, dan Menteri Koordinator Bidang Pembangunan Manusia dan Kebudayaan (Menko PMK) Muhadjir Effendy. Lalu, Menteri Agraria dan Tata Ruang (ATR) Agus Harimurti Yudhoyono (AHY), Menteri Pendayagunaan Aparatur Negara dan Reformasi Birokrasi Azwar Anas, Jaksa Agung ST Burhanuddin, dan Ketua MPR RI Bambang Soesatyo. Nampak juga hadir Wakil Presiden ke-10 dan 12 RI Jusuf Kalla, Istri Presiden ke-4 RI Abdurrahman Wahid atau kerap disapa Gus Dur, Ibu Sinta Nuriyah, dan Wakil Presiden ke-6 RI Try Sutrisno. Kemudian, Ketua Komisi Pemilihan Umum (KPU) Hasyim Asyari, Ketua Badan Pengawas Pemilu (Bawaslu) Rahmat Bagja, Ketua Dewan Kehormatan Penyelenggara Pemilu (DKPP) Hedy Lugito. Baca juga: Ekspresi Prabowo Diperkenalkan Jokowi sebagai Presiden Terpilih di WWF Ke-10 di Bali ",
          "Para sesepuh Komando Pasukan Khusus (Kopassus) berkumpul saat merayakan hari ulang tahun (HUT) ke-72 Korps Baret Merah pada Selasa (30/4/2024), termasuk Menteri Pertahanan RI sekaligus presiden terpilih Prabowo Subianto. Prabowo, yang merupakan Komandan Jenderal Kopassus periode 1995-1998, disambut para sesepuh Korps Baret Merah lain saat tiba di Lapangan Markas Besar Kopassus, Cijantung, Jakarta Timur, sekira pukul 08.06 WIB. Ia didampingi Panglima TNI Jenderal Agus Subiyanto, Kapolri Jenderal Listyo Sigit Prabowo, dan Komandan Jenderal Kopassus Mayjen Djon Afriandi saat menuju tenda yang menjadi lokasi para sesepuh menyaksikan upacara peringatan HUT Kopassus. Menteri Kesehatan RI Budi Gunadi Sadikin juga hadir di lokasi. Baca juga: Kenakan Baret Merah, Prabowo Hadiri Perayaan HUT Ke-72 Kopassus di Cijantung Sementara itu, para sesepuh yang tampak hadir seperti Jenderal (Purn) Agum Gumelar (eks Menhan dan Danjen Kopassus), Staf Khusus Menhan Letjen (Purn) Sjafrie Sjamsoeddin, hingga Letjen (Purn) Sintong Panjaitan (eks penasihat presiden dan Danjen Kopasssus). Kemudian, para senior Kopassus yang masih aktif menjabat dan hadir di lokasi seperti Kepala Staf TNI AD Jenderal Maruli Simanjuntak, Wakil Kepala BIN Letjen I Nyoman Cantiasa, Panglima Komando Gabungan Wilayah Pertahanan III Letjen Richard Tampubolon, hingga Komandan Pusat Kesenjataan Infanteri TNI AD Letjen Teguh Muji Angkasa. Tampak pula eks Danjen Kopassus yang lain seperti Mayjen Deddy Suryadi (Pangdam IV/Diponegoro) dan Mayjen (Purn) Soenarko. Dalam kesempatan itu, Prabowo disambut tepuk tangan usai Panglima Agus menyebut dirinya sebagai presiden terpilih. Yang Terhormat, presiden terpilih Republik Indonesia periode 2024-2029 Jenderal TNI Purnawirawan Prabowo Subianto, kata Agus yang disambut tepuk tangan para senior Kopassus. Baca juga: Mengenal Sosok Eks Danjen Kopassus Soenarko yang Demo di KPU, Pernah Dituduh Makar pada Masa Pilpres 2019   Perayaan HUT Kopassus kali ini juga dimeriahkan defile pasukan Korps Baret Merah yang diiringi pertunjukkan alat utama sistem persenjataan (alutsista). Setelah itu, juga dilakukan pemutaran video lagu prajurit Kopassus untuk Prabowo. Para prajurit yang menciptakan lagu diberi plakat oleh Prabowo. Usai upacara, Prabowo meninggalkan lokasi dan tidak mengeluarkan pernyataan apa pun kepada awak media. Acara perayaan HUT Kopassus kemudian ditutup dengan para sesepuh dan pejabat senior Kopassus menaiki mobil taktis menuju ke Gedung Nanggala. Menteri Koordinator Bidang Kemaritiman dan Investasi (Menko Marves) Luhut Binsar Pandjaitan tampak menaiki mobil paling depan dan disopiri Danjen Kopassus Djon Afriandi. ",
          "China menjadi negara pertama yang dikunjungi Menteri Pertahanan (Menhan) sekaligus calon presiden (capres) nomor urut 2 Prabowo Subianto usai menang dalam Pemilihan Presiden (Pilpres) 2024. Prabowo telah tiba di Beijing, China, Minggu (31/3/2024). Setibanya di Bandara Beijing, Prabowo langsung disambut oleh Wakil Menteri Luar Negeri Sun Weidong, Duta Besar China untuk Indonesia Lu Kang, dan Atase Pertahanan RI di Beijing Brigjen TNI (Mar) Benny Poltak. Turut hadir dalam kunjungan tersebut, Wakil Ketua Komisi I DPR RI Sugiono, Asisten Khusus Menhan bidang Manajemen Pertahanan Letjen TNI (Purn) Sjafrie Sjamsoeddin, dan Kepala Bais TNI Letjen Yudi Abrimantyo.   Thank you very much, ujar Prabowo kepada anak kecil tersebut, dikutip dari keterangan resmi Kemenhan, Senin (1/4/2024). What is your name? How old are you? katanya lagi. Baca juga: Prabowo Tiba di China, Temui Xi Jinping Hari Ini Kemudian, Prabowo menuju hotel The Peninsula Beijing dan disambut ramah oleh Dubes RI untuk China Djauhari Oratmangun, Kabaranahan Kemenhan, Kabainstrahan Kemenhan, Dirjen Strahan Kemenhan, dan Dirjen Renhan Kemenhan. Pada hari ini, Senin (1/4/2024), Prabowo dijadwalkan bertemu Presiden China Xi Jinping. Kepala Biro Setjen Humas Kemenhan Brigjen Edwin Adrian Sumantha menyebut kunjungan Prabowo ke Negeri Tirai Bambu bertujuan untuk mempererat hubungan bilateral kedua negara. Tujuan utama dari kunjungan ini adalah untuk mempererat hubungan bilateral antara Indonesia dan China serta meningkatkan kerja sama di bidang pertahanan, ujar Edwin. Baca juga: Dijadwalkan Bertemu Xi Jinping, Prabowo Akan Bahas Kerja Sama Bidang Pertahanan Edwin mengatakan, kunjungan Prabowo bagian dari upaya berkelanjutan kedua negara dalam memperkuat dialog dan kerja sama strategis yang sangat penting bagi keamanan dan stabilitas regional. Setelah bertemu Xi Jinping, Prabowo akan bertemu Menteri Pertahanan China Admiral Dong Jun, Selasa (2/4/2024). ",
          "Perkara sengketa hasil Pemilihan Presiden (Pilpres) 2024 sudah tuntas dengan dibacakannya putusan oleh Mahkamah Konstitusi (MK) pada Senin (22/4/2024). Dalam sidang putusan yang digelar di Gedung MK, Jakarta, seluruh permohonan yang diajukan calon presiden (capres) dan wakil presiden (cawapres) nomor urut 1 Anies Baswedan-Muhaimin Iskandar dan capres dan cawapres nomor urut 3 Ganjar Pranowo-Mahfud MD ditolak. Setelah persidangan sengketa selesai, Komisi Pemilihan Umum (KPU) segera menetapkan capres dan cawapres nomor urut 2 Prabowo Subianto dan Gibran Rakabuming Raka sebagai presiden dan wakil presiden (wapres) terpilih. Baca juga: PDI-P Minta Penetapan Prabowo-Gibran Ditunda, KPU: Pasca-MK Tak Ada Pengadilan Lagi Menurut rencana, penetapan Prabowo-Gibran sebagai presiden dan wakil presiden terpilih akan dilakukan pada Rabu (24/4/2024). Tahapan berikutnya untuk pilpres adalah penetapan pasangan calon presiden dan wakil presiden terpilih Pemilu 2024 yang diagendakan KPU akan dilaksanakan pada hari Rabu tanggal 24 April 2024 jam 10.00 WIB dilaksanakan di kantor KPU, kata Ketua KPU Hasyim Asy'ari di Gedung MK, Jakarta, Senin lalu. Salah satu Komisioner KPU, Idham Kholik, mengatakan, mereka mempunyai waktu tiga hari buat melakukan penetapan presiden dan wakil presiden. Mereka akan menerima salinan putusan MK terkait perkara sengketa hasil Pilpres 2024 paling lambat tiga hari setelah dibacakan. Waktu pelantikan Prabowo-Gibran menjadi presiden dan wakil presiden periode 2024-2024 juga sudah dijadwalkan. Menurut Idham, proses pelantikan mengacu pada Pasal 8 ayat (1) Peraturan KPU Nomor 6 Tahun 2024. Baca juga: Gibran Temui Prabowo di Kertanegara Jelang Penetapan Presiden-Wapres Terpilih KPU juga mengundang Presiden Joko Widodo (Jokowi) dan Wakil Presiden Ma'ruf Amin, partai pengusung, tim kampanye, dan Badan Pengawas Pemilihan Umum (Bawaslu) dalam kegiatan itu. Presiden Jokowi merupakan ayah Gibran. KPU menetapkan pasangan Prabowo-Gibran sebagai pemenang Pilpres 2024 usai proses rekapitulasi penghitungan perolehan suara tingkat nasional pada 22 Maret 2024. Menurut data KPU, Prabowo-Gibran memperoleh 96.214.691 suara, atau sekitar 58,58 persen dari seluruh suara sah nasional. Rival mereka, Anies Baswedan-Muhaimin Iskandar, memperoleh 40.971.906 suara atau sekitar 24,95 persen dari seluruh suara sah nasional. Sementara itu, pasangan Ganjar Pranowo-Mahfud MD memperoleh suara sebanyak 27.040.878 suara, atau sekitar 16,47 persen dari seluruh suara sah nasional. Baca juga: Proses di PTUN Masih Berjalan, PDI-P Minta KPU Tunda Penetapan Prabowo-Gibran Prabowo-Gibran belum mulai bertugas setelah ditetapkan sebagai presiden dan wakil presiden terpilih. Menurut Peraturan KPU (PKPU) Nomor 3 Tahun 2022 tentang Tahapan dan Jadwal Penyelenggaraan Pemilihan Umum Tahun 2024, Prabowo-Gibran baru menjalankan tugas kenegaraan setelah dilantik pada 20 Oktober 2024. Meski begitu, pasangan Prabowo-Gibran disebut bakal mulai mempersiapkan peralihan dari pemerintahan Presiden Joko Widodo (Jokowi) yang semakin mendekati masa akhir periode kedua kepemimpinannya. Menurut Ketua Umum Partai Amanat Nasional (PAN) Zulkifli Hasan, Prabowo yang saat ini menjabat sebagai Menteri Pertahanan (Menhan) mulai bekerja sebagai presiden terpilih. Baca juga: Cak Imin Mengaku Belum Dapat Undangan KPU untuk Penetapan Prabowo-Gibran Enggak ada lagi (tim transisi). Jadi nanti, sekarang sudah mulai kok. Pak Prabowo sudah mulai bekerja kan. Setiap rapat apa pun Pak Prabowo sudah ikut. Rapat di Istana, Pak Prabowo ikut sudah. Jadi nanti lanjut langsung, ujar Zulkifli di Kantor DPP PAN, Jakarta Selatan, Selasa (23/4/2024). Enggak ada tim transisi. Dulu transisi dari Pak SBY ke Pak Jokowi kan. Kalau sekarang enggak, lanjut. Orang-orangnya kan udah (ada dalam kabinet saat ini), kata dia. Zulkifli juga belum mau memaparkan soal susunan kabinet bayangan pemerintahan Prabowo-Gibran. Menurut dia, hal itu kemungkinan akan disampaikan langsung oleh Prabowo karena mempunyai hak prerogatif buat menentukan susunan kabinet. Baca juga: Golkar Belum Mau Bahas Jatah Menteri, Airlangga: Tunggu Penetapan KPU Ya itu presiden terpilih yang akan menyampaikan. Ini siapa, siapa itu, hak beliau. Enggak ada ukurannya harus 10, ini harus 20. Enggak begitu, ujar Zulkifli. ",
          "Presiden terpilih Prabowo Subianto mengatakan bahwa sektor pendidikan dan kesehatan akan menjadi fokus bagi pemerintahannya lima tahun ke depan. Hal itu diungkap Prabowo setelah menerima arahan dari Presiden Joko Widodo (Jokowi) dalam sidang kabinet paripurna beberapa waktu lalu. Sesuai arahan Presiden RI @jokowi pada Sidang Kabinet Paripurna yang lalu, Sektor Pendidikan dan Kesehatan akan terus menjadi fokus bersama Pemerintah ke depan, tulis Prabowo dalam unggahan lewat akun Instagramnya, @prabowo, Kamis (27/6/2024) petang. Baca juga: PDI-P: Tak Ada Tawaran Ganjar Jadi Menteri Prabowo Dalam sidang kabinet yang digelar di Istana Negara, Jakarta Pusat, Senin (24/6/2024), Presiden Jokowi dan Prabowo duduk berdampingan. Plt Deputi Protokol dan Pers Media Istana, Yusuf Permana mengatakan, Prabowo diberi tempat duduk di samping Jokowi karena berstatus sebagai presiden terpilih. Baca juga: Anies Ingin Bertemu Prabowo Sebelum Pilkada 2024, Demokrat: Kita Harus Sambut Baik Biasanya, Prabowo selaku Menteri Pertahanan tidak duduk sejajar dengan Jokowi, melainkan duduk bersama para menteri lainnya di hadapan presiden. Pejabat yang duduk sejajar dengan Jokowi biasanya adalah Wakil Presiden Ma'ruf Amin beserta empat menteri koordinator. Namun, pada rapat tersebut, Ma'ruf Amin dan empat menteri koordinator turut hadir dan duduk dalam satu deret dengan Jokowi dan Prabowo. ",
          "Presiden RI Joko Widodo (Jokowi) tidak hadir dalam sidang Pengadilan Tata Usaha Negara (PTUN) terkait gugatan pangkat kehormatan Jenderal TNI bintang empat yang ia berikan kepada Menteri Pertahanan RI Prabowo Subianto. Pihak Penggugat dari Komisi untuk Orang Hilang dan Korban Tindak Kekerasan (KontraS) Jane Rosalina, mengatakan pihak Jokowi pun belum memberikan kuasa kepada pihak jaksa pengacara negara untuk persidangan. Presiden belum memberikan kuasa kepada pihak jaksa pengacara negara, ucap Jane kepada wartawan di PTUN, Jakarta Timur, Kamis (20/6/2024). Baca juga: Prabowo Mangkir Panggilan PTUN soal Gugatan Bintang 4, Pilih Hadiri Penyematan Bintang Bhayangkara Utama Polri Selain itu, Menteri Pertahanan Prabowo Subianto juga mangkir dari panggilan PTUN Jakarta soal gugatan tersebut. Karena ketidakhadiran pihak Jokowi dan Prabowo, Jane menyebut majelis hakim akan menunda persidangan. Namun kemudian majelis hakim menyatakan sidang ini ditunda karena pihak dari tergugat belum hadir, belum memberikan kuasanya, ucap Jane. Pihak intervensi yang minggu lalu sudah dipanggil oleh majelis hakim, yaitu Prabowo Subianto yang seharusnya hari ini hadir ke persidangan, namun hari ini mangkir di persidangan, imbuhnya. Baca juga: Kilas Balik Pengakuan Prabowo Memburu Aktivis 98 Sebelum Jadi Jenderal Kehormatan Sebagai informasi, Koalisi Masyarakat Sipil Melawan Impunitas menggugat pemberian pangkat kehormatan Jenderal TNI bintang empat kepada Menteri Pertahanan RI Prabowo Subianto. Adapun koalisi yang terdiri dari keluarga korban Penghilangan Paksa 1997-1998, KontraS, IMPARSIAL, dan organisasi masyarakat sipil lainnya itu melayangkan gugatannya kepada Presiden RI Joko Widodo ke Pengadilan Tata Usaha Negara (PTUN) Jakarta, pada Selasa (28/5/2024). Kami koalisi masyarakat bersama dengan keluarga korban 1997-1998, melayangkan gugatan kepada Presiden Jokowi atas objek gugatan berupa keputusan tata usaha negara yang ia keluarkan, kata Kepala Divisi Pemantauan Impunitas Kontras, Jane Roslina di Jakarta Timur. Ialah Keputusan Presiden Nomor 13/TNI/24 per tanggal 21 Februari 2024 tentang Penganugerahan Pangkat Secara Istimewa berupa pangkat Jenderal TNI Kehormatan kepada Prabowo Subianto, terangnya. Baca juga: Koalisi Masyarakat Sipil Gugat Pemberian Pangkat Bintang Empat Prabowo ke PTUN Sebelumnya, Presiden RI Joko Widodo telah menganugerahkan pangkat kehormatan Jenderal TNI bintang empat kepada Menteri Pertahanan RI Prabowo Subianto pada 28 Februari 2024. Namun, hal itu dianggap tidak pantas, karena Prabowo selama ini memiliki rekam jejak yang buruk, baik dari sisi karier militer maupun dugaan keterlibatannya dalam peristiwa penculikan dan penghilangan orang secara paksa pada 1997-1998 serta sejumlah pelanggaran berat HAM. Baru saja kita daftarkan gugatannya dan kita akan melihat sejauh mana PTUN berani untuk menguji keputusan yang dilakukan oleh Presiden, ucap Jane. Yang mana kami cermati itu memiliki sejumlah catatan dan bertentangan dengan perundang-undangan, terutama UU TNI, HAM, dan asas umum pemerintahan yang baik, tutur dia. ",
          "Presiden Joko Widodo dan presiden terpilih sekaligus Menteri Pertahanan Prabowo Subianto terpantau duduk berdampingan dalam sidang kabinet paripurna di Istana Negara, Jakarta, Senin (24/6/2024). Plt Deputi Protokol dan Pers Media Istana, Yusuf Permana mengatakan, Prabowo diberi tempat duduk di samping Jokowi karena berstatus sebagai presiden terpilih. Iya, karena posisi beliau sebagai presiden terpilih, kata Yusuf kepada wartawan, Senin. Biasanya, Prabowo selaku menteri pertahanan tidak duduk sejajar dengan Jokowi, melainkan duduk bersama para menteri lainnya di hadapan presiden. Baca juga: Jelang Pilkada, Surya Paloh Dua Kali Bertemu Jokowi Pejabat yang duduk sejajar dengan Jokowi biasanya adalah Wakil Presiden Ma'ruf Amin beserta empat menteri koordinator. Pada rapat kali ini, Ma'ruf Amin dan empat menteri koordinator turut hadir dan duduk dalam satu deret dengan Jokowi dan Prabowo. Berdasarkan pantauan Kompas.com, Menteri Koordiantor Bidang Kemaritiman dan Investasi Luhut duduk di bangku paling kanan, diikuti oleh Menteri Koordinator Bidang Perekonomian Airlangga di sebelah kirinya, dan Prabowo yang duduk di sebelah kiri Airlangga. Jokowi menempati kursi tengah, di sebelah kanannya ada Prabowo, sedangkan Ma'ruf Amin duduk di sebelah kiri Jokowi. Menteri Koordinator Bidang Politik Hukum dan Keamanan Hadi Tjahjanto duduk di sebelah kiri Ma'ruf Amin, sedangkan Menteri Koordinator Bidang Pembangunan Manusia dan Kebudayaan Muhadjir Effendy duduk di kursi paling kiri. Baca juga: Jokowi Lemas Saat Tahu Izin Berbelit-belit untuk Gelar MotoGP di Mandalika Dalam sidang kabinet hari ini, Jokowi mengingatkan agar tidak perlu terjadi turbulensi politik yang akan mempengaruhi stabilitas politik di Tanah Air saat masa transisi. Pasalnya, stabilitas politik yang tidak menentu berpotensi menurunkan peringkat daya saing Indonesia dari negara-negara lain di dunia, yang saat ini berada di posisi ke-27 menurut Institute for Management Development World Competitiveness Ranking 2024. Secara khusus yang harus menjadi perhatian yaitu stabilitas politik, ini penting agar jangan sampai ada turbulensi politik agar transisi dari pemerintahan sekarang ke pemerintahan berikut ini mulus dan baik, kata Jokowi. ",
          "Menteri Pertahanan (Menhan) Prabowo Subianto mendapat tepuk tangan saat Kapolri Jenderal Listyo Sigit Prabowo dalam sambutannya menyapanya sebagai Menteri Pertahanan (Menhan) sekaligus Presiden RI terpilih periode 2024-2029. Hal itu terjadi dalam upacara peringatan Hari Ulang Tahun (HUT) ke-78 Kepolisian Negara Republik Indonesia (Polri) atau Hari Bhayangkara ke-78 di Lapangan Monas, Jakarta, Senin (1/7/2024). Yang kami hormati Menteri Pertahanan sekaligus Presiden terpilih Jenderal TNI (Purn) Prabowo Subianto, kata Listyo Sigit membuka sambutannya dikutip dari tayangan Kompas TV, Senin. Salah satu undangan yang terlihat bertepuk tangan adalah Menteri Koordinator Bidang Politik, Hukum, dan Keamanan (Menko Polhukam) Hadi Tjahjanto. Baca juga: Prabowo Beri Hormat Saat Disapa Jokowi sebagai Presiden RI Terpilih di Upacara HUT Ke-78 Bhayangkara Namun, berbeda saat disapa Presiden Joko Widodo (Jokowi) sebagai Presiden RI terpilih di acara yang sama, Prabowo yang duduk disamping Hadi Tjahjanto kali ini hanya tersenyum kecil. Sebelumnya, Prabowo memberikan reaksi berdiri dan memberikan hormat saat Jokowi menyapanya sebagai Presiden RI terpilih ketika memberikan amanat selaku inspektur upacara Hari Bhayangkara ke-78. Yang saya hormati Presiden terpilih RI Bapak Prabowo Subianto, kata Jokowi dikutip dari Kompas TV, Senin. Sebagaimana diketahui, Prabowo Subianto bersama pendampingnya Gibran Rakabuming Raka telah ditetapkan oleh Komisi Pemilihan Umum (KPU) RI sebagai Presiden dan Wakil Presiden RI terpilih periode 2024-2024. Prabowo-Gibran rencananya bakal dilantik secara resmi sebagai Presiden dan Wakil Presiden RI pada 20 Oktober 2024. Pada gelaran Pemilihan Presiden (Pilpres) 2024, Prabowo-Subianto mengalahkan dua pasangan calon presiden dan wakil presiden lainnya, yakni Anies Baswedan-Muhaimin Iskandar dan Ganjar Pranowo-Mahfud MD. Baca juga: Momen Prabowo Dampingi Jokowi Saksikan Defile Bersama di HUT Bhayangkara ",
          "Ketua Umum relawan Prabowo Mania dan Jokowi Mania (Joman), Immanuel Ebenezer, meyakini, dukungan Presiden Joko Widodo ke Prabowo Subianto pada Pemilu Presiden (Pilpres 2024) ada kaitannya dengan perjanjian Batu Tulis. Oleh karena Ketua Umum PDI Perjuangan Megawati Soekarnoputri tak memenuhi perjanjian itu lantaran tidak mendukung Prabowo pada Pilpres 2014, Jokowi berupaya membayar utang tersebut. Ada yang namanya perjanjian Batu Tulis, yang isinya, salah satu poinnya, PDI-P akan mengusung Pak Prabowo (sebagai calon presiden). Ternyata dalam prosesnya tidak, kata Noel, demikian sapaan akrab Immanuel, dalam program Sapa Indonesia Pagi Kompas TV, Jumat (26/4/2024). Saya yakin sekali apa yang dilakukan Pak Jokowi cuma ingin membayar utang itu. Kalau Bu Mega tidak mampu membayarnya, biar saya yang membayarnya, ujarnya. Menurut Noel, Presiden berusaha memutus mata rantai kebencian dan dendam masa lalu karena tidak dipenuhinya perjanjian Batu Tulis oleh Megawati. Baca juga: Megawati Tekankan Syarat Kader PDI-P Maju Pilkada, Harus Disiplin, Jujur, dan Turun ke Rakyat Namun, oleh sebagian pihak, dukungan Jokowi ke Prabowo pada Pilpres 2024 justru dianggap sebagai bentuk pengkhianatan Kepala Negara terhadap partainya, PDI-P. Seandainya ada diksi pengkhianatan dan sebagainya, saya rasa enggak ada yang dikhianati, ujar Noel. Noel mengatakan, Jokowi berkali-kali menyampaikan bahwa PDI-P merupakan partai yang melahirkannya. Disebutkan pula bahwa Megawati merupakan sosok orang tua ideologi mantan Gubernur DKI Jakarta itu. Sebagai partai besar, lanjut Noel, PDI-P mestinya mengawal gagasan-gagasan dan cita-cita besar. Menurutnya, sikap PDI-P yang menganggap Jokowi berkhianat terhadap partainya kekanak-kanakan. Akan menjadi partai yang seakan-akan kerdil karena beda pilihan, kemudian itu dianggap sebuah pengkhianatan. Ini tidak baik, kata Noel. Kalau terus bangsa ini menjalankan politik kebencian, dendam, dan sebagainya, akhirnya bangsa ini tidak pernah menemukan yang namanya kedewasaan dalam berdemokrasi, tuturnya. Diberitakan sebelumnya, Ketua Bidang Kehormatan DPP PDI-P Komarudin Watubun mengatakan, Presiden Jokowi tak lagi menjadi bagian dari PDI-P. Hal itu ia sampaikan saat ditanya status Jokowi sebagai kader PDI-P setelah Mahkamah Konstitusi (MK) memutuskan menolak gugatan pasangan calon presiden dan wakil presiden nomor urut 3 Ganjar Pranowo-Mahfud MD terkait sengketa hasil Pemilu Presiden (Pilpres) 2024. Ah, orang (Jokowi) sudah di sebelah sana, bagaimana mau dibilang bagian masih dari PDI Perjuangan? yang benar saja, kata Komarudin ditemui di Kantor DPP PDI-P, Jalan Diponegoro, Menteng, Jakarta, Senin (22/4/2024). Selain Jokowi, Gibran juga ditegaskan tak lagi menjadi kader PDI-P. Menurut Komarudin, keputusan partai mencoret Gibran sebagai kader sudah berlaku sejak resmi menjadi calon wakil presiden Prabowo Subianto. Gibran itu sudah bukan kader partai lagi, saya sudah bilang sejak dia (Gibran) ambil putusan itu (jadi cawapres Prabowo), ujar anggota Komisi II DPR RI ini. Adapun kerenggangan hubungan Jokowi dan keluarga dengan PDI-P ditengarai bermula dari perbedaan sikap pada Pilpres 2024. Gibran menjadi cawapres Prabowo Subianto. Jokowi pun diyakini mendukung putra sulung dan Menteri Pertahanan kabinetnya itu. Sementara, PDI-P mengusung pasangan Ganjar Pranowo-Mahfud MD sebagai capres-cawapres Pilpres 2024. Kendati begitu, pasangan ini kalah dari Prabowo-Gibran. Baca juga: Jokowi Bakal Diberi Posisi Terhormat, PDI-P: Untuk Urusan Begitu, Golkar Paling Sigap ",
          "Calon presiden (capres) nomor urut 2, Prabowo Subianto berjanji akan membangun 300 fakultas kedokteran jika terpilih menjadi Presiden mulai tahun 2024. Hal ini diungkapkan Prabowo dalam debat kelima pemilihan presiden (Pilpres) di Jakarta Convention Center (JCC) Senayan, Jakarta, Minggu (4/2/2024). Kita akan menambah fakultas kedokteran di Indonesia dari yang sekarang 92 (fakultas), kita akan membangun 300 fakultas kedokteran, kata Prabowo, Minggu. Prabowo menyampaikan, pembangunan fakultas kedokteran itu dilakukan demi mengatasi kekurangan sumber daya dokter di dalam negeri. Baca juga: Siap Hadapi Debat Pilpres Terakhir, Prabowo: Program Utama Kita di Bidang Ini Dia mengungkapkan, Indonesia masih kekurangan 140.000 dokter. Kami akan segera mempercepat mengatasi kekurangan dokter di Indonesia. Kita kekurangan 140.000 dokter dan akan segera kita atasi, ujar Prabowo. Menteri Pertahanan (Menhan) ini juga mengungkapkan, rencana ini merupakan bagian dari rencana besar Prabowo-Gibran yang diberi nama strategi transformasi bangsa. Menurut Prabowo, inti dari strategi ini adalah meningkatkan kemakmuran bangsa Indonesia dan memperbaiki kualitas hidup manusia Indonesia. Baca juga: Wajah Baru Pendukung Prabowo: Ada Sutarman, Terawan Hingga Dudung Abdurachman Di bidang kesehatan, selain membangun fakultas kedokteran, Prabowo pun berjanji akan membangun rumah sakit modern di setiap kabupaten/ kota dan Puskesmas modern di setiap desa. Kita akan mengirim 10.000 anak-anak pintar dari SMA, kita akan beri beasiswa ke luar negeri untuk belajar kedokteran dan 10.000 lagi untuk belajar sains teknologi, kata Prabowo. Diketahui, debat pamungkas Pilpres mengangkat sejumlah tema, yakni, kesejahteraan sosial, kebudayaan, pendidikan, teknologi informasi, kesehatan, ketenagakerjaan, sumber daya manusia, dan inklusi. Debat akan diikuti oleh ketiga calon presiden yaitu Anies Baswedan, Prabowo Subianto, dan Ganjar Pranowo. Baca juga: Siap Hadapi Debat Pilpres Terakhir, Prabowo: Program Utama Kita di Bidang Ini ",
          "Wakil Ketua Majelis Syura Partai Keadilan Sejahtera (PKS) Hidayat Nur Wahid menilai posisi Anies Baswedan di Pilkada Jakarta 2024 jauh lebih diuntungkan dan berpeluang meraih kemenangan. Hal tersebut karena Anies adalah sosok yang didukung Prabowo Subianto pada Pilkada Jakarta 2017. Di sisi lain Presiden Joko Widodo (Jokowi) sudah tidak lagi menjabat sebagai presiden sejak 21 Oktober 2024. Pada waktu Pilpres kemarin memang Pak Jokowi masih powerfull, karena memang beliau adalah presiden. Tapi nanti waktu Pilkada tanggal 27 November itu per tanggal 21 Oktober itu presidennya sudah bukan lagi Pak Jokowi. Sudah Pak Prabowo, ujar Hidayat dalam program Gaspol di Youtube Kompas.com, dikutip Minggu (30/6/2024). Baca juga: Ridwan Kamil-Kaesang Berpeluang Maju Pilkada Jakarta, PKS: Anies-Sohibul Butuh Lawan Tangguh Dan Pak Prabowo adalah orang yang kemarin mencalonkan Pak Anies sebagai calon gubernur tahun 2017 dan menang, sambungnya. Di samping itu, kata Hidayat, popularitas Anies saat ini sudah jauh meningkat daripada 2017 karena sempat menjadi calon presiden 2024. Kondisi ini dianggap lebih menguntungkan dibandingkan posisi Anies pada 2017, ketika harus berhadapan dengan Basuki Tjahaja Purnama alias Ahok. Hidayat berpandangan, posisi Ahok saat itu lebih diuntungkan karena didukung oleh partai politik yang sedang berkuasa dan memenangkan Jokowi. Baca juga: Demokrat Sarankan Anies Masuk Parpol: Kalau Menang di Jakarta, Bisa Diperjuangkan Maju Capres 2029 Pada tahun 2017. Waktu kami dengan Pak Prabowo, PKS mengajukan Pak Anies dan Pak Sandi. Itu kan lawan kami Ahok dengan didukung oleh semua potensi negara. Ya kita menang tuh, kata Hidayat Padahal waktu itu Pak Anies belum dikenal dalam tanda kutip. Sekarang Pak Anies, apalagi kemarin jadi capres, sangat-sangat dikenal. Jadi saya kira semua orang juga akan menghitung itu. Ngapain juga semua dikerahkan, kalau akan kalah lagi, tutur Hidayat. Atas dasar itu, Hidayat dan PKS meyakini Anies dan bakal calon pasangannya, yakni Sohibul Iman akan bisa mendominasi di Pilkada Jakarta. Di samping itu, sosok Sohibul juga sudah dikenal masyarakat karena rekam jejaknya di dunia politik dan pernah menjadi wakil rakyat di Jakarta. Baca juga: PKS Bakal Temui Cak Imin dan PKB, Bahas Rencana Duet Anies-Sohibul di Pilkada Jakarta Bila kawan-kawan ingin menang ya ini lah! Monggo, pungkas Hidayat. Diberitakan sebelumnya, Presiden PKS Ahmad Syaikhu mengumumkan, partainya akan mengusung Anies Baswedan dan Sohibul Iman sebagai bakal calon gubernur dan bakal calon wakil gubernur pada Pilkada Jakarta 2024. DPP PKS pada rapat di hari Kamis 20 Juni 2024 telah memutuskan mengusung Bapak Anies Rasyid Baswedan sebagai bakal cagub dan Sohibul Iman sebagai bakal calon wakil gubernur DKI Jakarta, kata Syaikhu dalam acara Sekolah Kepemimpinan Partai PKS di Grand Sahid Hotel, Selasa (25/6/2024). Meski begitu, PKS harus tetap berkoalisi dengan partai lain untuk bisa mencalonkan Anies dan Sohibul. Sebab, jumlah kursi yang dimiliki PKS di DPRD Jakarta belum memenuhi syarat untuk mengusung pasangan calon di Pilkada Jakarta. Diketahui, PKS hanya menduduki 18 kursi di DPRD Jakarta periode 2024-2029. Kurang 4 kursi untuk memenuhi syarat ambang batas pencalonan, yakni sebanyak 22 kursi. Di sisi lain, PDI-P mengakui jika nama Anies Baswedan menjadi sosok yang masuk dalam daftar pertimbangan untuk di dukung di Pilkada Jakarta. ",
          "Presiden terpilih Prabowo Subianto mengoreksi istilah makan siang gratis yang merupakan salah satu program unggulan dirinya bersama wakil presiden terpilih, Gibran Rakabuming Raka. Menurut Prabowo, istilah yang tepat justru makan bergizi gratis untuk anak-anak. Prabowo punya alasan khusus mengapa mengganti istilah tersebut. Saya ingin sedikit koreksi ya. Setelah kita pelajari, ternyata istilah tepat itu adalah makan bergizi gratis untuk anak-anak. Itu lengkapnya ya, kata Prabowo dikutip dari YouTube TV One News, Kamis (23/5/2024). Karena kalau anak sekolah dasar umpamanya masuk pagi, dia kalau nunggu makan siang kan terlalu lama. Jadi harus makan pagi. Ya kan? sambung dia. Baca juga: Delegasi DPR RI Kunjungi Swedia Terkait Program Makan Siang Gratis Prabowo menyadari bahwa banyak anak sekolah yang masuk sejak pagi dan pulang pada siang hari. Maka, jika makan gratis baru dilakukan pada siang hari, hal itu dirasa sia-sia karena anak sekolah sudah pulang. Jadi kalau dia makan siang, itu terlambat, imbuhnya. Meski demikian, Menteri Pertahanan RI ini menekankan bahwa program tersebut intinya adalah memberikan makanan bergizi gratis kepada anak-anak di Indonesia. Menurutnya, setelah dianalisis panjang, program ini juga diyakini mampu berefek baik terhadap masa depan bangsa. Baca juga: Soal Anggaran Makan Siang Gratis, Prabowo: Waktunya Kita Lebih Berani Di lain sisi, Prabowo ingin anak-anak Indonesia tidak ada lagi yang kekurangan gizi karena ada program ini. Dan tidak dapat dipungkiri bahwa sebagian anak-anak kita mengalami kurang gizi. Hitungannya perkiraannya hampir seperempat, 25 persen anak-anak kita mengalami kurang gizi rata-rata. Ini sangat memprihatinkan, ujar Prabowo. Lebih jauh, Ketua Umum Partai Gerindra ini mengungkapkan bahwa ada 76 negara sejauh ini sudah menerapkan program makan gratis kepada anak-anak. Sementara itu, lanjut Prabowo, ada 5-6 negara yang sedang mempersiapkan menjalankan program tersebut. Jadi kalau kita nanti Oktober melaksanakan, kita mungkin bisa menjadi negara ketujuh di luar yang 76 tadi. Ini sangat sangat penting dengan memberi makan untuk anak-anak, mereka jelas akan lebih sehat, jelas akan meningkat kemampuan belajar mereka, yakin Prabowo. Baca juga: Soal Polemik UKT, Prabowo: Kalau Bisa Biaya Kuliah Gratis! Diketahui, program makan siang gratis merupakan salah satu janji dari pasangan Prabowo dan Gibran Rakabuming Raka jika menjadi presiden dan wakil presiden berikutnya. Anggota Dewan Pengarah Tim Kampanye Nasional (TKN) Prabowo-Gibran, Hashim Djojohadikusumo, menyebut biaya program makan siang gratis untuk anak-anak akan mencapai Rp 450 triliun per tahun. Hashim juga memastikan bahwa dana program makan siang gratis tidak akan mengambil dana dari anggaran program bantuan sosial (bansos). Menurut Hashim, dana program makan siang gratis akan menggunakan anggaran baru. Saya bisa katakan karena saya ikut tim pakar, dana ada dan bakal ada, dan ini bukan dari anggaran bansos, aliran bansos. Yang Rp 500 triliun tahun depan itu tetap bansos, kita tidak akan ambil uang bansos untuk ini, tegas dia. ",
          "Momen kedekatan Presiden Joko Widodo dengan presiden terpilih Prabowo Subianto tampak dalam upacara peringatan Hari Bhayangkara ke-78 di Monas, Jakarta Pusat, Senin (1/7/2024). Kedekatan keduanya terlihat ketika Presiden Jokowi didampingi Prabowo saat menyaksikan defile pasukan usai peragaan terjun payung TNI/Polri dari ketinggian 6.000 kaki. Sementara itu, Wakil Presiden (Wapres) Ma'ruf Amin yang biasanya mendampingi Presiden di sejumlah momen nampak duduk ke belakang bersama dengan para penjabat lain yang hadir termasuk Menteri Koordinator Bidang Politik, Hukum, dan Keamanan Hadi Tjahjanto. Baca juga: Prabowo Beri Hormat Saat Disapa Jokowi sebagai Presiden RI Terpilih di Upacara HUT Ke-78 Bhayangkara Dilihat dari tayangan YouTube Sekretariat Presiden, Prabowo tampak berdiri di samping kiri Jokowi. Adapun Kapolri Jenderal Listyo Sigit Prabowo berdiri di sebelah kanan Jokowi, sedangkan Panglima TNI Agus Subiyanto berada di samping kiri Prabowo. Keempatnya juga sempat memberikan hormat ketika komandan defile berjalan bersama pasukan di hadapannya sembari diiringi lagu Maju Tak Gentar. Selain itu, momen kedekatan keduanya juga terlihat ketika Presiden Jokowi menyebut Prabowo dalam sambutannya di acara tersebut. Yang saya hormati Presiden Terpilih Republik Indonesia Bapak Prabowo Subianto, tutur Jokowi. Baca juga: Hari Bhayangkara ke-78 di Monas, Prabowo Hadir meski Baru Saja Dioperasi Prabowo yang tampak hadir setelah menjalani operasi, lalu berdiri yang memberikan hormat kepada Presiden. Tak beberapa lama, ia lantas duduk kembali dan mendengarkan arahan Presiden kepada Polri secara seksama.  Adapun dalam sambutannya, Jokowi mengingatkan agar Polri tidak tebang pilih dalam proses penegakan hukum. Ia meminta Polri harus profesional dalam menjalankan tugas-tugasnya. Utamanya, ketika menghadapi kejahatan transnasional yang semakin kompleks dan canggih. (Polri) harus profesional dan tidak tebang pilih dalam penegakan hukum, ujar Jokowi. ",
          "Ketua Fraksi Gerindra DPR Ahmad Muzani mengatakan pihaknya masih berkonsentrasi terhadap pelantikan presiden hasil Pemilu 2024 saat ini, alih-alih soal wacana amendemen UUD 1945. Adapun Muzani merespons mengenai klaim Ketua DPD La Nyalla Mattalitti yang menyebut Prabowo setuju amendemen UUD 1945 agar pemilihan Presiden dikembalikan ke tangan MPR. Gerindra konsentrasi pada pelantikan parlemen dan presiden hasil Pemilu 2024, ujar Muzani di Gedung DPR, Senayan, Jakarta, Selasa (25/6/2024). Saat ditanya mengenai sikap Fraksi Gerindra mengenai amendemen UUD 1945, Muzani menyebut pihaknya masih mempelajari. Baca juga: Duduk Perkara Ketua MPR Bambang Soesatyo Diputus Langgar Kode Etik Usai Bicara Amendemen Kita pelajari. Ya kita pelajari, imbuhnya. Sebelumnya, Ketua Dewan Perwakilan Daerah (DPD) La Nyalla Mattalitti menyatakan, presiden terpilih Prabowo Subianto setuju apabila pemilihan presiden dikembalikan ke tangan Majelis Permusyawaratan Rakyat (MPR), bukan lagi oleh rakyat. Menurut La Nyalla, Prabowo punya visi untuk mengembalikan Undang-Undang Dasar 1945 ke naskah aslinya yang mengatur presiden dipilih oleh MPR. Ya harus bisa lah. Pak Prabowo juga mau kok, Pak Prabowo jelas mau. Visi misinya Pak Prabowo jelas kembalikan UU 1945 sesuai dengan naskah asli, ujar La Nyalla seusai bertemu mantan Ketua MPR Amien Rais di Gedung DPD, Senayan, Jakarta, Senin (24/6/2024). La Nyalla mengatakan, amendemen UUD 1945 harus dilakukan sebelum pemilu kembali dilakukan di tahun 2029. Baca juga: DPD Getol Suarakan Amendemen UUD 1945 agar Presiden Kembali Dipilih MPR, Klaim Prabowo Mau Menurut dia, keputusan untuk mengembalikan pemilihan presiden ke tangan MPR dapat dilakukan di masa pemerintahan Prabowo Subianto kelak. Kita punya naskah akademik, silakan. Silakan sidang istimewa, nanti kita bersama-sama anggota DPD, ada juga anggota MPR juga punya usulan seperti itu, kata La Nyalla. Langkah selanjutnya kita menuntut sidang istimewa, yang akan kita laksanakan setelah presiden terpilih Pak Prabowo Subianto dilantik, imbuh dia. ",
          null
         ],
         "marker": {
          "opacity": 0.5,
          "size": 5
         },
         "mode": "markers+text",
         "name": "0_prabowo_dan_presiden",
         "text": [
          "",
          "",
          "",
          "",
          "",
          "",
          "",
          "",
          "",
          "",
          "",
          "",
          "",
          "",
          "",
          "",
          "",
          "",
          "",
          "",
          "",
          "",
          "",
          "",
          "",
          "",
          "0_prabowo_dan_presiden"
         ],
         "textfont": {
          "size": 12
         },
         "type": "scattergl",
         "x": [
          3.0985493659973145,
          5.398714065551758,
          3.5110371112823486,
          4.711167335510254,
          3.725752830505371,
          4.786313056945801,
          3.935925006866455,
          5.21629524230957,
          4.839632987976074,
          5.052001953125,
          3.975996494293213,
          5.008583068847656,
          3.5909173488616943,
          5.369312763214111,
          3.4345285892486572,
          5.186887264251709,
          4.573145389556885,
          4.433405876159668,
          4.478700637817383,
          3.373929262161255,
          4.021887302398682,
          4.922740936279297,
          4.157403945922852,
          4.2659125328063965,
          4.231479644775391,
          4.8116960525512695,
          4.388919830322266
         ],
         "y": [
          2.550234794616699,
          1.8052504062652588,
          2.093007802963257,
          1.8755075931549072,
          2.9019954204559326,
          1.5771089792251587,
          2.9089534282684326,
          3.8284265995025635,
          2.0671486854553223,
          1.5886800289154053,
          2.0540735721588135,
          2.1623971462249756,
          2.469987392425537,
          2.5192978382110596,
          2.5867528915405273,
          1.7689772844314575,
          3.098862648010254,
          2.3912127017974854,
          2.0971567630767822,
          2.609597682952881,
          2.7803003787994385,
          2.550473690032959,
          2.3164706230163574,
          3.6847362518310547,
          1.761830449104309,
          2.2588419914245605,
          2.3964340686798096
         ]
        },
        {
         "hoverinfo": "text",
         "hovertext": [
          "Partai Keadilan Sejahtera (PKS) belum memastikan apakah akan menjadi pihak oposisi atau satu barisan dengan pemerintahan Presiden terpilih Prabowo Subianto selama lima tahun ke depan. Wakil Ketua Majelis Syura PKS Hidayat Nur Wahid mengatakan, PKS akan terlebih dahulu melihat keputusan akhir dari Prabowo selaku presiden terpilih. Ya bisa iya (di luar pemerintahan) bisa tidak juga, karena itu juga masih sangat tergantung dengan lagi-lagi bagaimana kehendak daripada Pak Prabowo, ujar Hidayat dalam program Gaspol di Youtube Kompas.com, dikutip pada Minggu (30/6/2024). Baca juga: Buka Peluang Kerja Sama dengan PDI-P, PKS: Kami Sudah Berkali-kali Koalisi di Pilkada Menurut Hidayat, Prabowo memiliki hak untuk menentukan, apakah akan melibatkan PKS dalam pemerintahan atau tidak. Meski begitu, dia menegaskan bahwa PKS selalu siap berada di posisi manapun, baik sebagai oposisi atau ikut ke dalam pemerintahan. Kan beliau yang menjadi presiden terpilih dan beliau yang akan menentukan apakah beliau nanti akan mengajak PKS atau tidak? Ya, monggo saja, kata Hidayat. Kami tentu menghormati hak prerogatif beliau, tapi PKS sudah mempunyai pengalaman baik itu di dalam maupun di luar pemerintahan, sambung dia. Hidayat menambahkan, dalam konteks Pilkada Jakarta, PKS juga memutuskan untuk tidak menawarkan partai di Koalisi Indonesia Maju (KIM) agar ikut mendukung pasangan Anies Baswedan-Sohibul Iman. Ia menghormati KIM yang ingin mengajukan bakal calon gubernur (bacagub) dan bakal calon wakil gubernur (bacawagub) sendiri. Baca juga: Yakin Tak Blunder Usung Anies-Sohibul di Pilkada, PKS: Kami Bukan Pemain Baru di Jakarta Bagi Hidayat, parpol anggota KIM selama ini juga tak pernah mengatakan bersedia mengusung Anies. Sikap itu juga menjadi salah satu pertimbangan PKS tak mencoba melakukan pendekatan politik. Ya sudah lah, itu adalah bagian dari hak politik mereka, hak demokrasi mereka, kita menghormati. Tapi sebagaimana kita menghormati mereka, ya mereka mestinya juga menghormati kita, pungkas dia. ",
          "Juru Bicara PDI-P Chico Hakim menegaskan, tidak ada tawaran kepada mantan capres nomor urut 3, Ganjar Pranowo untuk masuk ke kabinet presiden terpilih 2024-2029, Prabowo Subianto. Adapun Gerindra tidak menutup peluang mengangkat Ganjar dan Anies Baswedan untuk menjadi menteri di kabinet Prabowo. Enggak ada komunikasi apa-apa terkait ini, ujar Chico saat dimintai konfirmasi Kompas.com, Rabu (26/6/2024). Baca juga: Soal Kemungkinan Anies dan Ganjar Diangkat jadi Menteri Prabowo, Gerindra Angkat Bicara Chico menyampaikan, PDI-P fokus untuk Pilkada Serentak 2024 dan membantu rakyat. Menurut dia, saat ini, Indonesia sedang dalam masa sulit karena harga-harga serba naik. Chico enggan menjawab apakah PDI-P terbuka jika Ganjar ditawari masuk ke kabinet Prabowo. Hari ini kami fokus pilkada dan membantu rakyat dan negara yang sedang dalam masa masa sulit, harga bahan pokok yang melonjak, kenaikan tarif listrik, BBM, dan lain-lain, ujar dia. Sebelumnya, Sekretaris Jenderal (Sekjen) Partai Gerindra Ahmad Muzani merespons apakah Presiden terpilih 2024-2029 Prabowo Subianto akan mengangkat mantan capres di Pilpres 2024, yakni Anies Baswedan dan Ganjar Pranowo sebagai menteri atau tidak. Muzani menegaskan, hal tersebut merupakan hak prerogatif Prabowo sebagai presiden terpilih. Pertanyaannya, apakah Pak Prabowo juga akan mengangkat capres yang berbeda dengan Beliau seperti Anies dan Ganjar? Yang punya hak prerogatif adalah beliau, saya belum pernah mendengar, ujar Muzani di Gedung DPR, Senayan, Jakarta, Selasa (25/6/2024). Muzani enggan merespons isu mengenai koalisi pendukung Prabowo menawarkan kursi menteri ke Anies supaya tidak maju di Pilkada Jakarta 2024. Baca juga: Anies dan Ganjar Diprediksi Menolak jika Ditawari jadi Menteri Prabowo Hal yang pasti, kata Muzani, Prabowo selalu mencari persamaan untuk bergotong-royong, meski beda pilihan politik. Pak Prabowo adalah presiden terpilih yang akan dilantik tanggal 20 Oktober yang akan datang. Beliau selalu mencari persamaan cara pandang yang bisa memperkuat persatuan dan persamaan gotong-royongan, meskipun pada pilihan politik yang berbeda, tutur dia.  Maka dari itu, Muzani menekankan, Prabowo tidak memiliki halangan untuk mengangkat siapapun menjadi 'pembantu' dalam kabinet ke depan. Dia lantas mengungkit Presiden Joko Widodo (Jokowi) yang malah mengangkat Prabowo sebagai Menteri Pertahanan di tahun 2019. Padahal, Prabowo dan Jokowi merupakan rival di Pilpres 2019. Itu sudah dicontohkan oleh Pak Jokowi di tahun 2019. Situasi politik bisa menjadi reda, politik bisa menjadi adem, keguyuban, kebersamaan, kegotong-royongan, kerukunan bisa tercipta. Dan Pak Prabowo ingin menciptakan itu, imbuh Muzani. ",
          "Presiden terpilih sekaligus Menteri Pertahanan (Menhan) Prabowo Subianto menjalani operasi besar di RSPPN Panglima Besar Soedirman, Bintaro, Jakarta, pekan lalu. Dalam keterangan yang dibagikan, Prabowo mengungkapkan bahwa dirinya menjalani operasi kaki karena cidera yang dialaminya. Saya ucapkan syukur alhamdulillah kepada Allah SWT beserta ucapan terima kasih kepada tim dokter yakni Brigjen TNI Purn dr Robert Hutauruk, Kolonel dr Sunaryo, dr Siska Widayati, dibantu dengan dr Thomas dan seluruh perawat serta pada tenaga medis di RSPPN Sudirman atas keberhasilan tindakan operasi besar yang dilakukan kepada saya, ujar Prabowo dalam keterangannya, Minggu (30/6/2024) malam. Baca juga: Yakin Menang di Pilkada Jakarta, PKS: Presidennya Sudah Prabowo, Pendukung Anies 2017 Prabowo lantas berterima kasih kepada Presiden Joko Widodo (Jokowi) karena telah memberikan dukungan moril dan doa. . Meski sadar bahwa operasi itu berisiko tinggi, namun Prabowo meyakini semua dokter sangat handal. Semua ini untuk negara dan bangsa, saya juga yakin tim dokter dan seluruh tenaga medis yang menanganinya pun handal dan profesional, tuturnya. Usai operasi, Prabowo menyatakan dirinya telah siap untuk berkegiatan kembali. Insya Allah dengan kondisi sehat walafiat ke depan saya semakin siap untuk berbakti dan mengabdi untuk negara dan rakyat Indonesia. Terima kasih kepada seluruh masyarakat atas doa dan dukungannya, kata Prabowo. Baca juga: Belum Pasti Jadi Oposisi Pemerintah, PKS: Tergantung Prabowo, Mengajak atau Tidak? Sementara itu, Prabowo juga mengungkap bahwa penyebab cedera yang sudah lama tersebut adalah karena dua kali kecelakaan terjun payung saat dirinya masih aktif bertugas di TNI. Seperti sudah diketahui banyak pihak, saya pernah mengalami dua kali kecelakaan terjun payung saat bertugas di TNI pada tahun 80-an di kaki kiri saya, cidera ini selama ini masih saya rasakan, imbuhnya. ",
          "Ketua Umum Partai Kebangkitan Bangsa (PKB) Muhaimin Iskandar menyatakan PKB mendukung pemerintahan presiden dan wakil presiden terpilih Prabowo Subianto dan Gibran Rakabuming Raka. Menurutnya, sikap itu telah disampaikan dengan pernyataannya saat bertemu Prabowo, Rabu (24/4/2024) siang. Kemarin, ia menyebutkan siap bekerja sama dengan Prabowo dan Partai Gerindra. Saya rasa sudah tidak perlu dijawab, sudah cetho (jelas mendukung Prabowo-Gibran), ujar Muhaimin pada awak media di Kantor DPP PKB, Senen, Jakarta, Kamis (25/4/2024) malam. Baca juga: Sinyal CLBK PKB dengan Gerindra Kian Menguat Usai Nasdem Dukung Prabowo-Gibran Kemudian ia menjawab dengan nada serupa ketika awak media menanyakan apakah PKB akan berada dalam pemerintahan ke depan. Sudah jelas, sudah, katanya. Sementara itu, Wakil Ketua Umum PKB Jazilul Fawaid menjelaskan bahwa PKB dalam posisi siap mendukung pemerintahan Prabowo-Gibran. Namun, pernyataan itu baru akan disampaikan secara jelas saat keduanya dilantik pada Oktober 2024. Sebab, pembentukan kabinet baru akan terjadi saat Prabowo dan Gibran dilantik. Persis, urusannya dengan (kursi) menteri kan ketika seorang presiden sudah memiliki hak prerogatif, sebutnya. Sekarang kan Pak Prabowo presiden terpilih, pemenang pilpres, nanti tanggal 20 Oktober beliau jadi presiden sekaligus kepala negara yang memiliki hak prerogatif untuk mengangkat menterinya, papar dia. Baca juga: PKB-Nasdem Merapat, Koalisi Prabowo Diprediksi Makin Gemoy Diketahui saat ini, selain PKB, Partai Nasdem juga sudah mendeklarasikan mendukung pemerintahan Prabowo-Gibran. Hal itu disampaikan oleh Ketua Umum Partai Nasdem Surya Paloh seusai bertemu Prabowo di kediamannya, Jalan Kertanegara, Jakarta Selatan, Kamis sore. Sementara itu, Partai Keadilan Sejahtera (PKS) menjadi satu-satunya parpol pengusung Anies Baswedan dan Muhaimin dalam Pilpres 2024 yang belum menentukan sikap politiknya ke depan.  ",
          "Badan Amil Zakat Nasional (Baznas) siap berkolaborasi dengan Presiden terpilih Prabowo Subianto untuk menjalankan program makan siang gratis. Hal ini disampaikan Ketua Baznas Noor Achmad dalam kegiatan Penyerahan Bantuan Palestina di Kantor Baznas, Jakarta, Rabu (15/5/2024). Mulanya, Noor memaparkan pencapaian Baznas yang berhasil mendirikan sejumlah balai peternakan di sejumlah wilayah di Indonesia dengan cara memberdayakan masyarakat desa. Balai peternakan tersebut, misalnya, balai peternakan kambing di Temanggung dan Magelang serta balai peternakan ayam di Purworejo dan Kebumen, Jawa Tengah. Juga ada balai ternak untuk susu di Garut dan lain sebagainya. Kami melihat potensi yang luar biasa, kalau kita bisa memberdayakan masyarakat desa dengan balai ternak, kata Noor dikutip dari Youtube Baznas TV, Rabu siang. Baca juga: Prabowo dan Gibran Tiba di Doha untuk Hadiri Forum Ekonomi Qatar Selain itu, Noor juga mengungkapkan bahwa Baznas telah memberdayakan masyarakat dengan mendirikan warung-warung kecil, produksi ayam goreng, cafe, hingga bengkel di pinggir jalan. Dengan keberhasilan pemberdayaan masyarakat desa tersebut, pihaknya menegaskan, siap berkolaborasi dengan Prabowo untuk menjalankan program makan siang gratis. Dalam pikiran kami masyarakat desa kalau diperdayakan mereka itu luar biasa. Artinya apa? Kalau bisa kolaborasi, apalagi ada program makan siang gratis, kolaborasi Baznas dengan pihak yang menyelenggarakan makan siang gratis, Insya Allah Baznas siap, kata Noor. Noor memastikan, pihaknya tidak akan melakukan kapitalisasi atau mengambil keuntungan jika Baznas dilibatkan dalam program makan siang gratis. Karena kalau sudah begitu justru kami tidak bisa terlibat, yang ada adalah bagaimana kami bisa memberdayakan mustahik itu saja. Mustahik boleh saja mendapatkan keuntungan, tapi kami sifatnya hanya memberikan pendampingan, imbuh dia. Baca juga: Gerindra Tegaskan Kabinet Belum Dibahas Sama Sekali: Prabowo Masih Kaji Makan Siang Gratis Diketahui, program makan siang gratis merupakan salah satu janji dari pasangan Prabowo dan Gibran Rakabuming Raka jika menjadi presiden dan wakil presiden berikutnya. Anggota Dewan Pengarah Tim Kampanye Nasional (TKN) Prabowo-Gibran, Hashim Djojohadikusumo, menyebut biaya program makan siang gratis untuk anak-anak akan mencapai Rp 450 triliun per tahun. Hashim juga memastikan dana program makan siang gratis tidak akan mengambil dana dari anggaran program bantuan sosial (bansos). Menurut Hashim, dana program makan siang gratis akan menggunakan anggaran baru. Saya bisa katakan karena saya ikut tim pakar, dana ada dan bakal ada, dan ini bukan dari anggaran bansos, aliran bansos. Yang Rp 500 triliun tahun depan itu tetap bansos, kita tidak akan ambil uang bansos untuk ini, tegas dia. ",
          "Ketua Umum Partai Gerindra Prabowo Subianto irit bicara ketika ditanya soal peluang Ketua DPD Partai Gerindra Jawa Tengah Sudaryono diusung sebagai calon gubernur Jawa Tengah pada Pilkada 2024. Prabowo hanya mengatakan bahwa akan ada waktunya untuk menjelaskan peluang mantan ajudannya itu berlaga di Pilkada Jawa Tengah 2024. Nanti ada waktunya, ujar Prabowo di kediamannya, Jalan Kertanegara, Jakarta Selatan, Jumat (7/6/2024). Prabowo kemudian berseloroh bahwa dirinya ingin wartawan sering-sering berkunjung ke rumahnya. Baca juga: Masif Sosialisasi Sudaryono-Gus Yusuf di Pilkada Jateng, Gerindra: Itu Bukan Hoaks Sambil tertawa, dia kembali menegaskan pada waktunya dirinya akan menyampaikan sikap untuk Pilkada Jawa Tengah. Supaya anda sering ke sini. Oke kita tunggu waktunya, imbuh dia. Diberitakan sebelumnya, Sudaryono mengaku telah diutus Prabowo untuk maju sebagai calon gubernur pada Pilkada Jawa Tengah. Sudaryono mengatakan, meski disandingkan dengan banyak tokoh, ia tetap mengikuti perintah Prabowo untuk mencalongkan diri sebagai gubernur Jawa Tengah, bukan wakil gubernur. Baca juga: Berkunjung ke Demak, Sudaryono Mengaku Diutus Prabowo Maju Pilkada Jateng Perintah yang saya terima adalah untuk jadi gubernur, jadi saya kira tetap stay di situ pada perintah yang kita terima dari Pak Prabowo, kata Sudaryono usai acara di Citra Alam Demak, Senin (27/5/2024). Selain Sudaryono, ada sejumlah nama yang digadang-gadang bakal maju sebagai calon gubernur Jawa Tengah, antara lain, Kapolda Jawa Tengah Ahmad Luthfi, Kepala LKPP Hendrar Prihadi, dan Bupati Kendal Dico Ganinduto. ",
          "Presiden terpilih 2024-2029 Prabowo Subianto meminta kepada pihak-pihak yang tidak mau diajak kerja sama untuk tidak mengganggu pemerintahannya kelak. Prabowo menegaskan dirinya hanya ingin bekerja dan mengamankan kekayaan bangsa. Hal tersebut Prabowo sampaikan dalam acara bimtek dan rakornas pilkada PAN di Hotel JS Luwansa, Jakarta Selatan, Kamis (9/5/2024) malam. Saya akan berjuang terus bersama semua kekuatan yang mau diajak kerja sama. Yang tidak mau diajak kerja sama tidak apa-apa. Kalau ada yang mau nonton di pinggir jalan, silakan jadi penonton yang baik, ujar Prabowo. Baca juga: Zulhas: Banyak yang Salah Sangka Prabowo Menang karena Bansos, Keliru... Tapi kalau sudah tidak mau diajak kerja sama, ya jangan mengganggu. Orang lagi mau kerja kok. Kita mau kerja. Kita mau kerja. Kita mau amankan kekayaan bangsa Indonesia, sambungnya. Prabowo menjelaskan, dirinya tidak ingin ada lagi orang Indonesia yang menangis karena lapar. Dia menekankan rakyat Indonesia tidak boleh tidak bisa makan. Saya yakin saudara tidak terima. Saya malu saya dikasih pangkat jenderal oleh rakyat. Saya dipilih oleh rakyat. Siang dan malam kita berpikir, saya berpikir, bagaimana rakyat Indonesia tidak ada yang lapar, jelas Prabowo. Menurut Prabowo, semua partai di Indonesia pasti punya orang-orang baik dan orang-orang yang tidak baik. Baca juga: PAN Doa Dapat Banyak Jatah Menteri, Prabowo: Masuk Itu Barang Dia bahkan mengakui di Partai Gerindra pun banyak orang tidak baik. Mari kita akui. Iya kan? Kita boleh punya jiwa korsa, tapi kita juga harus introspeksi diri. Di Gerindra pun juga banyak yang kurang baik, banyak yang baik banyak yang kurang baik. Di semua organisasi ada yang baik dan ada yang kurang, katanya. Sekarang bagaimana yang baik-baik dari semua latar belakang bisa kerja sama? Ini pelajaran sejarah. Indonesia tidak bisa dibendung. Kecuali elite Indonesia tidak bisa atau tidak mau kerja sama. Kuncinya itu, imbuh Prabowo. ",
          "Calon presiden nomor urut 02, Prabowo Subianto, memperingatkan media yang hadir di acara peringatan Hari Buruh Internasional agar berhati-hati. Saat itu, Prabowo sedang memberikan sambutan di acara peringatan Hari Buruh 2019 di Tennis Indoor Senayan, Jakarta Pusat, Rabu (1/5/2019). Para media, hati-hati, kami mencatat kelakuan-kelakuanmu satu-satu, kata Prabowo yang langsung disambut riuh pada buruh. Kami bukan kambing yang bisa kau atur-atur. Hati-hati kau yah. Hati-hati kau, suara rakyat adalah suara Tuhan, sambung dia. Baca juga: Prabowo: Kalian Mau Jadi Kambing atau Rakyat yang Terhormat? Kemudian, setelah membicarakan hal lain, Prabowo kembali menyinggung kehadiran media di acara tersebut. Saat itu Prabowo sedang membicarakan bahwa kebohongan, kecurangan, kekayaan Indonesia diambil, penindasan terhadap rakyat, perlu disudahi. Lalu, Prabowo menyambungnya dengan menyebutkan bahwa media sebagai pihak yang ikut merusak demokrasi. Itu media-media juga, gue salut sama lu masih berani ke sini. Akan tercatat dalam sejarah, hai media-media kau ikut merusak demokrasi di Indonesia, ujarnya. Baca juga: Prabowo-Sandiaga Siap Rajut Persatuan Bangsa Setelah Pilpres Ini gimana? Bicara apa adanya? Betul? Betul? tanya Prabowo ke para buruh. Betul, jawab pekerja yang hadir. Ya gue harus bicara apa adanya dong, yang tidak benar kita harus katakan tidak benar, yang benar, benar, yang tidak benar, tidak benar, jangan kau balik, seru Prabowo. Ia pun mengajak rakyat untuk ikut mencatat pihak-pihak yang terus melakukan pelanggaran. Ketua Umum Partai Gerindra tersebut menuturkan pihak-pihak yang melanggar itu harus bertanggungjawab. Pada saatnya mereka harus bertanggung jawab. Kita adalah negara yang besar, kita adalah negara yang gagah, rakyat kita punya harga diri, kita tidak mau jadi kacungnya bangsa lain, kata Prabowo sambil berseru. ",
          "Sekretaris Jenderal Partai Keadilan Sejahtera (PKS) Aboe Bakar Alhabsyi mengatakan pihaknya mengundang presiden terpilih Prabowo Subianto ke markasnya. Ia menyebutkan, undangan itu disampaikan karena PKS bakal menggelar halal bihalal di Kantor DPP PKS, Jalan TB Simatupang, Pasar Minggu, Jakarta, Sabtu (27/4/2024). Moga-moga kalau Pak Prabowo datang, kita juga akan kasih karpet merah sebagai presiden pemenang, kita akan sambut ya, ujar Aboe di Kantor DPP Partai Kebangkitan Bangsa (PKB), Senen, Jakarta, Kamis (25/4/2024). Baca juga: PKB-Nasdem-PKS Isyaratkan Gabung Prabowo, Pengamat: Kini Parpol Selamatkan Diri Masing-masing Meski begitu, ia meminta semua pihak bersabar menunggu langkah politik PKS ke depan. Pasalnya, keputusan itu akan bergantung dengan dinamika politik beberapa hari ke depan. Jadi kita kumpul saja dulu di PKS dalam suasana yang kecil, tapi mungkin romantislah ya. Jadi mungkin dari situ kita akan berangkat ke langkah selanjutnya, papar dia. Sementara itu, ia menekankan bahwa PKS tetap memiliki keleluasaan. Bagi Aboe, PKS siap berdiri di dalam atau di luar pemerintahan Prabowo dan wakil presiden terpilih Gibran Rakabuming Raka. Baca juga: Nasdem Resmi Dukung Prabowo-Gibran, Elite PKS dan PKB Bertemu PKS ini saya sudah katakan, PKS ini paling siap dengan segala situasi. Mau di dalam, mau di luar, imbuh dia. Diketahui dua kolega PKS dalam Koalisi Perubahan yaitu PKB dan Partai Nasdem sudah menyatakan siap mendukung pemerintahan Prabowo-Gibran. Ketiga partai politik (parpol) itu sebelumnya mendukung Anies Baswedan dan Muhaimin Iskandar dalam Pemilihan Presiden (Pilpres) 2024.  ",
          "Ketua Fraksi Partai Keadilan Sejahtera (PKS) DPR Jazuli Juwaini angkat bicara terkait Partai Gelora yang menolak PKS bergabung ke pemerintahan Prabowo Subianto-Gibran Rakabuming Raka. Jazuli meminta keluarga besar PKS tidak sampai terprovokasi. Kepada seluruh keluarga besar PKS, jangan terprovokasi oleh siapa pun, termasuk oleh pengamat. Tetap tenang serta santai saja, ujar Jazuli saat dimintai konfirmasi Kompas.com, Rabu (1/5/2024). Baca juga: Tolak PKS Merapat ke Prabowo, Gelora Diduga Khawatir soal Jatah Kabinet Jazuli menyampaikan, yang menentukan PKS menjadi oposisi atau masuk ke pemerintahan Prabowo-Gibran adalah Majelis Syuro dan DPTP PKS. Ia mengatakan, yang menentukan arah politik PKS bukanlah Partai Gelora ataupun partai lainnya. Apa pun keputusan yang diambil, PKS akan tetap membangun komunikasi dengan Pak Prabowo sebagai presiden terpilih, baik berkoalisi maupun beroposisi, ucap dia. Termasuk akan tetap berkomunikasi dengan parpol-parpol lain yang lolos dan masuk parlemen apa pun positioning PKS (baik oposisi maupun koalisi), kata Jazuli. Sebelumnya, Sekretaris Jenderal (Sekjen) Partai Gelora Mahfuz Sidik tak ingin Partai Keadilan Sejahtera (PKS) bergabung dalam gerbong presiden dan wakil presiden terpilih Prabowo Subianto dan Gibran Rakabuming Raka. Ia menganggap PKS selama ini telah menunjukan sikap politik dan ideologi yang berbeda dengan dua figur itu. Pak Prabowo juga berulang-ulang menekankan keberlanjutan pembangunan agar capaian-capaian yang ada tidak berhenti lalu mulai dari nol lagi, ujar Mahfuz pada Kompas.com, Senin (29/4/2024). Sementara PKS juga terbuka menolak program strategis Presiden Joko Widodo, seperti IKN, ucap dia. Ia kemudian menyebutkan, dalam Pemilu 2024, PKS bahkan berjanji untuk membuat Jakarta tetap menjadi ibu kota. Baca juga: Beri Sinyal Merapat ke Prabowo, Fondasi Politik PKS Dianggap Dangkal Hal ini, kata Mahfuz, menjadi salah satu contoh PKS bertolak belakang dengan Prabowo-Gibran, maupun Jokowi. Tak hanya itu, ia menuturkan, PKS sempat menolak dicalonkannya Gibran sebagai pendamping Prabowo pada Pemilihan Presiden (Pilpres) 2024. PKS pula yang sangat keras menolak Gibran dengan alasan anak haram konstitusi. Pikiran di balik ini adalah ketidakmauan PKS menerima rekonsiliasi antara Jokowi dan Prabowo, tutur dia.  Mahfuz pun menganggap keputusan Prabowo bergabung dalam pemerintahan Jokowi setelah Pilpres 2019 dianggap sebagai pengkhianatan oleh pendukung PKS. Oleh karena itu, ia meminta PKS tak berharap diajak Prabowo untuk bergabung ke dalam pemerintahannya ke depan. ",
          "Wakil Ketua Umum (Waketum) Partai Gerindra Rahayu Saraswati menegaskan, komunikasi bagi partai-partai di luar koalisi pendukung Prabowo Subianto-Gibran Rakabuming Raka selalu terbuka hingga saat ini. Sara merespons PKS yang menyatakan siap bergabung ke pemerintahan Prabowo-Gibran. Dinamika politik tentunya masih sangat dinamis, organik, apa pun bisa terjadi. Komunikasi selalu terbuka, bahkan sebelum kampanye selesai, sebelum 14 Februari, masih terus berjalan, ujar Sara saat ditemui di markas TKN Fanta, Jakarta Pusat, Rabu (1/5/2024) malam. Baca juga: Saat Cak Imin Berkelakar soal Hanif Dhakiri Jadi Menteri di Kabinet Prabowo... Sara kembali menekankan bahwa pintu bagi partai yang berada di luar koalisi tetap terbuka untuk bergabung. Menurut dia, Prabowo selalu mengedepankan persatuan Indonesia, khususnya dari kalangan elite. Untuk saat ini tentunya kita masih sangat terbuka untuk pihak manapun yang mungkin akan bergabung ataupun tidak itu ada di pihak daripada pimpinan, dan juga tentunya ketua-ketua dari partai-partai, ucap dia. Sebelumnya, Sekretaris Jenderal (Sekjen) Partai Gelora Mahfuz Sidik tak ingin Partai Keadilan Sejahtera (PKS) bergabung dalam gerbong presiden dan wakil presiden terpilih Prabowo Subianto dan Gibran Rakabuming Raka. Baca juga: Tolak PKS Merapat ke Prabowo, Gelora Diduga Khawatir soal Jatah Kabinet Ia menganggap PKS selama ini telah menunjukkan sikap politik dan ideologis yang berbeda dengan dua figur itu. Pak Prabowo juga berulang-ulang menekankan keberlanjutan pembangunan agar capaian-capaian yang ada tidak berhenti lalu mulai dari nol lagi, ujar Mahfuz pada Kompas.com, Senin (29/4/2024). Sementara PKS juga terbuka menolak program strategis Presiden Joko Widodo, seperti IKN, kata dia. Ia kemudian menyebutkan, dalam Pemilu 2024, PKS bahkan berjanji untuk membuat Jakarta tetap menjadi ibu kota. Hal ini, kata Mahfuz, menjadi salah satu contoh PKS bertolak belakang dengan Prabowo-Gibran, maupun Jokowi.  Tak hanya itu, ia menuturkan, PKS juga sempat menolak dicalonkannya Gibran sebagai pendamping Prabowo pada Pemilihan Presiden (Pilpres) 2024. PKS pula yang sangat keras menolak Gibran dengan alasan anak haram konstitusi. Pikiran di balik ini adalah ketidakmauan PKS menerima rekonsiliasi antara Jokowi dan Prabowo, tutur dia. Mahfuz pun menganggap keputusan Prabowo bergabung dalam pemerintahan Jokowi setelah Pilpres 2019 dianggap sebagai pengkhianatan oleh pendukung PKS. Atas dasar itu, ia meminta PKS tak berharap diajak Prabowo untuk bergabung ke dalam pemerintahannya ke depan. ",
          "Juru Bicara (Jubir) presiden terpilih Prabowo Subianto, Dahnil Anzar Simanjutak, mengatakan, Prabowo akan mengkaji biaya uang kuliah tunggal (UKT) yang sedang dikeluhkan karena dianggap terlalu tinggi bagi mahasiswa baru. Dahnil memastikan bahwa Prabowo akan membuat uang kuliah jauh lebih murah. Terkait UKT yang mahal, pasti akan dipertimbangkan dan dikaji beliau agar bisa jauh lebih murah, ujar Dahnil saat dimintai konfirmasi Kompas.com, Jumat (24/5/2024). Dahnil mengatakan, bagi Prabowo, semua rakyat Indonesia harus bisa mengakses pendidikan, mulai dari tingkat dasar sampai tinggi. Baca juga: Kenaikan UKT Dinilai Bisa Buat Visi Indonesia Emas 2045 Gagal Terwujud Dengan begitu, kata dia, prinsip berkeadilan bisa berjalan. Karena bagi beliau pendidikan mulai dari tingkat dasar sampai tinggi harus bisa diakses oleh semua rakyat Indonesia dari semua tingkatan ekonomi. Harus berkeadilan, imbuhnya. Baca juga: Mahasiswa Kritik Kenaikan UKT: Persempit Kesempatan Rakyat Bersekolah hingga Perguruan Tinggi Sebelumnya, Prabowo Subianto berpandangan bahwa semestinya UKT di perguruan tinggi negeri (PTN) dijamin serendah-rendahnya oleh negara. Bahkan, negara semestinya menggratiskan biaya pendidikan bagi rakyatnya yang masuk PTN. Hal itu disampaikan Prabowo ketika ditanya dalam sebuah wawancara tentang tingginya biaya UKT yang dikeluhkan sejumlah mahasiswa di beberapa PTN. Menurut saya, harus tidak boleh ini, terutama di universitas negeri yang dibangun oleh uang rakyat uang APBN, itu tidak boleh biayanya tinggi. Kalau bisa, biayanya sangat minim dan kalau perlu ya gratis, pendidikan, kata Prabowo dikutip dari YouTube TV One News, Kamis (23/5/2024). Baca juga: Siti Aisyah Pilih Undur Diri dari Unri karena Tak Sanggup Bayar UKT Meski begitu, Prabowo menekankan agar negara betul-betul menghitung anggaran jika ingin menggratiskan biaya pendidikan tinggi. Selain pendidikan tinggi, jelas Prabowo, negara juga semestinya meminimalisasi biaya pendidikan dari tingkat SD hingga sekolah menengah atas atau kejuruan. Seharusnya, biaya pendidikan itu adalah tanggung jawab negara, dan seharusnya memang gratis, ucap Menteri Pertahanan RI ini. ",
          "Capres nomor urut 2 Prabowo Subianto menyerahkan bantuan berupa uang Rp 5 miliar dan rumah sakit (RS) apung untuk Palestina yang diserang Israel. Ketua Tim Kampanye Nasional (TKN) Prabowo-Gibran, Rosan Roeslani mengatakan Prabowo memang memiliki atensi besar kepada para korban di Palestina. Menurut Rosan, bantuan tersebut diambil dari uang pribadi Prabowo. Beliau ingin memberikan bantuan, langsung dari pribadi beliau, terutama kepada korban anak kecil, kemudian korban ibu-ibu, kemudian juga kebutuhan mereka agar bisa bertahan, mulai dari pangan dan lain-lain, ujar Rosan dalam jumpa pers di Media Center TKN Prabowo-Gibran, Jakarta, Selasa (28/11/2023). Baca juga: Prabowo-Gibran Akan Hadir di Final Piala Dunia U-17 Solo Beliau juga mengirimkan rumah sakit terapung, dan sudah berjalan juga dengan beberapa negara terkait untuk mendapatkan lintasannya, sambung dia. Rosan mengatakan, bantuan yang diberikan kepada korban di Palestina tidak akan berhenti sampai di situ saja. Dia memastikan Prabowo-Gibran berkomitmen untuk berjuang dalam membela Palestina. Baca juga: TKN: Tetap Jadi Menhan-Wali Kota, Prabowo-Gibran Cuti Maksimal 2 Kali Seminggu Dalam kesempatan ini memang pemberian bantuan sebesar Rp 5 miliar tunai yang sudah kita realisasikan, dan akan dilanjutkan dengan baik dalam bentuk bantuan langsung, tidak langsung, baik kepada NGO, maupun kepada pemerintah dari Palestina itu sendiri, kata Rosan. Sementara itu, Sekretaris TKN Prabowo-Gibran, Nusron Wahid mengatakan penyerahan bantuan ini membuktikan Prabowo bukan hanya sekadar memberi kecaman saja. Ini membuktikan bahwa Pak Prabowo tidak hanya sekadar berpidato dan berbicara mengecam tentang Palestina, tetapi juga ada konkret, yaitu membantu baik selaku kapasitasnya sebagai pribadi dalam bentuk membantu uang untuk dana kemanusiaan, juga kapasitas beliau sebagai Menteri Pertahanan dengan mengirimkan rumah sakit kapal apung, imbuh Nusron. Dalam kesempatan ini, bantuan uang Rp 5 miliar tersebut diserahkan kepada Yayasan Persahabatan dan Studi Peradaban untuk disalurkan ke Palestina. ",
          "Ketua Perhimpunan Advokat Indonesia (Peradi) Otto Hasibuan mengungkap, alasan dirinya mendukung pasangan nomor urut 2 Prabowo Subianto-Gibran Rakabuming Raka di Pilpres 2024. Menurut Otto, dirinya sudah mendukung Prabowo di pilpres sejak kontestasi sebelumnya pada 2019. Ya memang terus terang saja, sejak lama sudah sejak 2019 juga saya memang pendukung utamanya Pak Prabowo. Saya bahkan timnya di sana dulu. Jadi saya konsisten mendukung dia karena saya yakini dia adalah mampu memimpin bangsa ini, ujar Otto saat dihubungi, Selasa (28/11/2023) malam. Baca juga: Prabowo Jadi Pembicara Rakor Apdesi di Bandung, Bawaslu Pastikan Tak Ada Pelanggaran Dia orang baik, dia orang jujur, ya. Dan bagi dia kehidupan dunia ini rasanya kehidupan-kehidupan material bagi dia kan sudah selesai. Dia sudah selesai dengan dirinya, sambungnya. Ia pun meyakini bahwa Prabowo merupakan sosok yang mampu memimpin bangsa Indonesia dengan baik bila kelak terpilih.  Saya yakin dia akan bisa memimpin negeri ini dengan baik, menegakkan hukum dan keadilan. Jadi saya berjuang untuk dia, tuturnya. Di sisi lain, ia mengklaim, sudah lama bergabung ke dalam Tim Kampanye Nasional (TKN) Prabowo-Gibran. Namun, karena persoalan strategi, dirinya baru diumumkan secara resmi bergabung ke dalam barisan TKN pada hari ini. Baca juga: Otto Hasibuan Gabung TKN Prabowo-Gibran, Langsung Jadi Wakil Ketua Struktur TKN Prabowo-Gibran sendiri sebenarnya sudah diumumkan sejak awal November 2023 lalu. Hahahaha. Sudah lama sebenarnya. Sudah lama. Tapi ya mungkin ada ya strategi lah. Ada strateginya lah ya. Tapi sudah lama, imbuh Otto. Sebagai informasi, Ketua TKN Prabowo-Gibran, Rosan Perkasa Roeslani hari ini mengumumkan sejumlah nama yang bergabung ke dalam barisan TKN, termasuk Otto. Tak hanya bergabung, Otto juga didapuk menjadi Wakil Ketua TKN Prabowo-Gibran. ",
          "Presiden terpilih 2024-2029 Prabowo Subianto merespons doa Ketua DPP Partai Amanat Nasional (PAN) Saleh Partaonan Daulay yang berdoa agar PAN mendapat jatah menteri lebih banyak dari yang diperkirakan. Prabowo menilai doa yang Saleh sampaikan itu sangat kreatif. Hal tersebut terjadi dalam acara bimtek dan rakornas pilkada PAN di Hotel JS Luwansa, Jakarta Selatan, Kamis (9/5/2024) malam. Baca juga: Disambut Hatta Rajasa, Prabowo Hadiri Rakornas Pilkada PAN Ketua Fraksi PAN di DPR, saudara Saleh Daulay yang tadi memimpin doa, doa politik yang kreatif sekali itu. Kalau orang Medan bilang, 'masuk itu barang', ujar Prabowo. Prabowo lantas mengungkit bahwa kesetiaan harus dibalas dengan kesetiaan. Menurutnya, PAN yang selama 15 tahun terakhir mendukung dirinya, tidak pernah meminta apa pun. Dan saya kira sejarah bangsa Indonesia adalah sejarah begitu sering pemimpin-pemimpin, pejuang-pejuang tidak didukung oleh kesetiaan. Tapi tidak ada masalah. Saya sangat terima kasih dengan kesetiaan PAN 15 tahun tanpa pamrih dalam setiap kita bergabung PAN tidak pernah minta apapun, tidak pernah minta apa-apa, tuturnya. Menurutnya, PAN dan Gerindra mirip karena memiliki nilai yang aneh, yakni tidak pernah minta mahar dari siapapun. Baca juga: PAN Gelar Rakornas Pilkada Serentak, Prabowo Subianto Bakal Hadir Dia mengatakan, justru pihak yang meminta mahar lah yang sering menjadi tidak setia. Jadi Pak Daulay ini memang doanya luar biasa itu. Jadi saya merasa sangat tenang, sangat bahagia di tengah suasana biru yang sejuk. Untuk itulah saya pakai (kemeja) warna biru, imbuh Prabowo. Sebelumnya, Saleh Daulay berdoa agar jatah menteri yang diberikan kepada kader PAN di kabinet Prabowo Subianto-Gibran Rakabuming Raka lebih banyak dari yang mereka perkirakan. Menurut Saleh, PAN akan sangat berterima kasih dan bersyukur jika hal tersebut sampai terjadi. Baca juga: Di Depan Prabowo, Politisi PAN Berdoa Jatah Menteri Lebih Banyak dari Perkiraan Ya Allah, kami meyakini bahwa Bapak Prabowo Subianto sudah merencanakan akan memberikan beberapa posisi bagi kader-kader terbaik PAN di kabinet mendatang. Sebagai insan yang beriman, tentu hal itu sangat kami syukuri, ujar Saleh. Namun demikian, kami tentu akan lebih berterima kasih dan bersyukur lagi andai kata amanah yang diberikan kepada kami bisa lebih banyak dari apa yang kami perkirakan selama ini, sambungnya. Aamiin, teriak kader PAN. ",
          "Menteri Pertahanan sekaligus calon presiden pemenang Pemilu 2024, Prabowo Subianto melaksanakan ibadah salat Idul Fitri 1445 Hijriah di Masjid Nurul Wathon yang berada di Padepokan Garuda Yaksa, Hambalang, Bogor, Jawa Barat, Rabu (10/4/2024). Dalam keterangan tertulisnya, Prabowo hadir di Masjid Nurul Wathon pada pukul 07:00 WIB. Ia mengenakan baju koko muslim berwarna putih dan peci hitam. Setibanya di lokasi, Prabowo disambut oleh para warga Bojong Koneng dan karyawan sekitar yang turut menunaikan ibadah shalat Idul Fitri 1445 Hijriah. Minal Aidin, Bapak! ujar warga seperti dikutip dari keterangan tertulis. Baca juga: Ditunggu-tunggu, Prabowo Ternyata Sudah Salaman dengan Jokowi Sebelum Open House Dimulai, Budi Arie: Bareng Mas Didit dan Mayor Teddy Di situ, Prabowo juga menyalam para warga dan karyawan setempat sebelum masuk ke dalam arena Masjid Nurul Wathon. Setelahnya, Prabowo shalat Idul Fitri dua rokaat dipimpin imam di masjid setempat. Selepas shalat, Prabowo kembali diserbu jamaah untuk bisa bersalaman hingga berfoto bersama. Bapak foto Bapak, ujar warga di lokasi. Sesekali, Prabowo juga berhenti untuk menyapa, menggendong hingga mencium kening anak-anak kecil yang turut antusias untuk berlebaran dengannya secara langsung. Dalam khotbah shalat Idul Fitri kali ini, Prabowo juga didoakan oleh penceramah agar diberikan kesehatan untuk memimpin Indonesia ke depan menuju negara yang berdaulat dan makmur. Baca juga: Meski Secara Fisik Belum Bertemu, Megawati dan Prabowo Sudah Saling Kontak Batin   Hal ini pun turut diamini oleh seluruh jemaah yang hadir di lokasi. Mudah mudahan di momen yang penuh berkah ini, kemenangan kita sebagai seorang hamba dalam beribadah di bulan Ramadhan kemenangan sebagai sebuah bangsa kita diberikan putra terbaik Bangsa Bapak H. Prabowo Subianto, beliau diberikan kesehatan walafiat, diberikan kesabaran membawa negara kita yang berdaulat makmur dan bermartabat gemah ripah loh jinawi, ujar imam salat. Aamiin, seru para jamaah. ",
          "Wakil Ketua Umum Partai Gerindra Budisatrio Djiwandono mengindikasikan dirinya tidak akan maju di Pilkada Jakarta 2024. Budi mengaku menerima arahan dari Ketua Umum Partai Gerindra Prabowo Subianto untuk melanjutkan perjuangan sebagai anggota Dewan Perwakilan Rakyat (DPR). Saya sudah menerima arahan dari Ketua Dewan Pembina/Ketua Umum Partai Gerindra Pak Prabowo untuk terus melanjutkan perjuangan di parlemen, ujar Budi kepada Kompas.com, Kamis (30/5/2024). Budi menyebutkan, Gerindra sudah mengantongi nama yang akan diusung sebagai calon gubernur pada Pilkada Jakarta 2024, bahkan sudah disepakati bersama Koalisi Indonesia Maju. Baca juga: Profil Budi Djiwandono, Keponakan Prabowo yang Disebut Bakal Maju Pilkada Jakarta 2024 Akan tetapi, keponakan Prabowo itu enggan membocorkan siapa sosok yang sudah dipastikan akan diusung tersebut. Untuk Pilkada DKJ, Partai Gerindra sudah mengantongi nama yang akan diusung. Nama yang ada akan diumumkan pada saatnya, tuturnya. Nama ini sudah disepakati Koalisi Indonesia Maju. Terima kasih, imbuh Budi. Sebelumnya, Wakil Ketua Umum Partai Gerindra Habiburokhman mengeklaim, partainya menerima aspirasi untuk menduetkan Budi dengan Ketua Umum Partai Solidaritas Indonesia Kaesang Pangarep sebagai pasangan calon gubernur dan wakil gubernur Jakarta. Menurut Habiburokhman, aspirasi itu dituangkan dalam poster yang menggambarkan Budi dan Kaesang akan berduet pada Pilkada Jakarta 2024. Baca juga: Soal Duet Budi Djiwandono-Kaesang, Gerindra Tunggu Keputusan Prabowo Terkait poster Pak Budi Djiwandono dengan Mas Kaesang ya, saya pikir itu sebagai bentuk penyampaian adanya aspirasi masyarakat kepada kami, ujar Habiburokhman saat dimintai konfirmasi Kompas.com, Kamis (30/5/2024). Namun, Habiburokhman menyebutkan bahwa sosok yang akan diusung Gerindra sebagai calon gubernur Jakarta akan diputuskan oleh Prabowo. Sekretaris Jenderal Partai Gerindra Ahma Muzani sebelumnya juga mengungkapkan bahwa Budi adalah kader yang disiapkan untuk maju pada Pilkada Jakarta. Ya Budi Djiwandono adalah salah satu kandidat yang sedang kita matangkan untuk bisa memimpin daerah Jakarta. Itu diperlukan sosok yang matang, memiliki visi perekonomian yang bagus, dan punya tingkat pergaulan yang bagus. Kriteria itu sepertinya memenuhi syarat, ujar Muzani di Gedung DPR, Senayan, Jakarta, Rabu (29/5/2024). ",
          null
         ],
         "marker": {
          "opacity": 0.5,
          "size": 5
         },
         "mode": "markers+text",
         "name": "1_prabowo_yang_di",
         "text": [
          "",
          "",
          "",
          "",
          "",
          "",
          "",
          "",
          "",
          "",
          "",
          "",
          "",
          "",
          "",
          "",
          "",
          "1_prabowo_yang_di"
         ],
         "textfont": {
          "size": 12
         },
         "type": "scattergl",
         "x": [
          7.376119136810303,
          6.219234466552734,
          7.463020324707031,
          6.821349143981934,
          7.515327453613281,
          7.370543956756592,
          6.821135997772217,
          6.478166103363037,
          7.419508934020996,
          6.618231773376465,
          7.223763942718506,
          6.953638076782227,
          7.882362365722656,
          6.807836532592773,
          6.943018436431885,
          7.293863296508789,
          6.181585311889648,
          7.022865295410156
         ],
         "y": [
          3.6953318119049072,
          3.5972187519073486,
          4.427599906921387,
          4.417941093444824,
          3.9682023525238037,
          4.274473667144775,
          3.8994739055633545,
          3.913322925567627,
          3.856539249420166,
          4.518832683563232,
          4.292752742767334,
          3.6228368282318115,
          3.7224762439727783,
          3.6361443996429443,
          4.082931041717529,
          3.1995553970336914,
          3.6746866703033447,
          3.9294307231903076
         ]
        }
       ],
       "layout": {
        "annotations": [
         {
          "showarrow": false,
          "text": "D1",
          "x": 2.5332393527030943,
          "y": 3.345481386780739,
          "yshift": 10
         },
         {
          "showarrow": false,
          "text": "D2",
          "x": 5.798978036642074,
          "xshift": 10,
          "y": 5.350420141220093
         }
        ],
        "height": 750,
        "shapes": [
         {
          "line": {
           "color": "#CFD8DC",
           "width": 2
          },
          "type": "line",
          "x0": 5.798978036642074,
          "x1": 5.798978036642074,
          "y0": 1.340542632341385,
          "y1": 5.350420141220093
         },
         {
          "line": {
           "color": "#9E9E9E",
           "width": 2
          },
          "type": "line",
          "x0": 2.5332393527030943,
          "x1": 9.064716720581055,
          "y0": 3.345481386780739,
          "y1": 3.345481386780739
         }
        ],
        "template": {
         "data": {
          "bar": [
           {
            "error_x": {
             "color": "rgb(36,36,36)"
            },
            "error_y": {
             "color": "rgb(36,36,36)"
            },
            "marker": {
             "line": {
              "color": "white",
              "width": 0.5
             },
             "pattern": {
              "fillmode": "overlay",
              "size": 10,
              "solidity": 0.2
             }
            },
            "type": "bar"
           }
          ],
          "barpolar": [
           {
            "marker": {
             "line": {
              "color": "white",
              "width": 0.5
             },
             "pattern": {
              "fillmode": "overlay",
              "size": 10,
              "solidity": 0.2
             }
            },
            "type": "barpolar"
           }
          ],
          "carpet": [
           {
            "aaxis": {
             "endlinecolor": "rgb(36,36,36)",
             "gridcolor": "white",
             "linecolor": "white",
             "minorgridcolor": "white",
             "startlinecolor": "rgb(36,36,36)"
            },
            "baxis": {
             "endlinecolor": "rgb(36,36,36)",
             "gridcolor": "white",
             "linecolor": "white",
             "minorgridcolor": "white",
             "startlinecolor": "rgb(36,36,36)"
            },
            "type": "carpet"
           }
          ],
          "choropleth": [
           {
            "colorbar": {
             "outlinewidth": 1,
             "tickcolor": "rgb(36,36,36)",
             "ticks": "outside"
            },
            "type": "choropleth"
           }
          ],
          "contour": [
           {
            "colorbar": {
             "outlinewidth": 1,
             "tickcolor": "rgb(36,36,36)",
             "ticks": "outside"
            },
            "colorscale": [
             [
              0,
              "#440154"
             ],
             [
              0.1111111111111111,
              "#482878"
             ],
             [
              0.2222222222222222,
              "#3e4989"
             ],
             [
              0.3333333333333333,
              "#31688e"
             ],
             [
              0.4444444444444444,
              "#26828e"
             ],
             [
              0.5555555555555556,
              "#1f9e89"
             ],
             [
              0.6666666666666666,
              "#35b779"
             ],
             [
              0.7777777777777778,
              "#6ece58"
             ],
             [
              0.8888888888888888,
              "#b5de2b"
             ],
             [
              1,
              "#fde725"
             ]
            ],
            "type": "contour"
           }
          ],
          "contourcarpet": [
           {
            "colorbar": {
             "outlinewidth": 1,
             "tickcolor": "rgb(36,36,36)",
             "ticks": "outside"
            },
            "type": "contourcarpet"
           }
          ],
          "heatmap": [
           {
            "colorbar": {
             "outlinewidth": 1,
             "tickcolor": "rgb(36,36,36)",
             "ticks": "outside"
            },
            "colorscale": [
             [
              0,
              "#440154"
             ],
             [
              0.1111111111111111,
              "#482878"
             ],
             [
              0.2222222222222222,
              "#3e4989"
             ],
             [
              0.3333333333333333,
              "#31688e"
             ],
             [
              0.4444444444444444,
              "#26828e"
             ],
             [
              0.5555555555555556,
              "#1f9e89"
             ],
             [
              0.6666666666666666,
              "#35b779"
             ],
             [
              0.7777777777777778,
              "#6ece58"
             ],
             [
              0.8888888888888888,
              "#b5de2b"
             ],
             [
              1,
              "#fde725"
             ]
            ],
            "type": "heatmap"
           }
          ],
          "heatmapgl": [
           {
            "colorbar": {
             "outlinewidth": 1,
             "tickcolor": "rgb(36,36,36)",
             "ticks": "outside"
            },
            "colorscale": [
             [
              0,
              "#440154"
             ],
             [
              0.1111111111111111,
              "#482878"
             ],
             [
              0.2222222222222222,
              "#3e4989"
             ],
             [
              0.3333333333333333,
              "#31688e"
             ],
             [
              0.4444444444444444,
              "#26828e"
             ],
             [
              0.5555555555555556,
              "#1f9e89"
             ],
             [
              0.6666666666666666,
              "#35b779"
             ],
             [
              0.7777777777777778,
              "#6ece58"
             ],
             [
              0.8888888888888888,
              "#b5de2b"
             ],
             [
              1,
              "#fde725"
             ]
            ],
            "type": "heatmapgl"
           }
          ],
          "histogram": [
           {
            "marker": {
             "line": {
              "color": "white",
              "width": 0.6
             }
            },
            "type": "histogram"
           }
          ],
          "histogram2d": [
           {
            "colorbar": {
             "outlinewidth": 1,
             "tickcolor": "rgb(36,36,36)",
             "ticks": "outside"
            },
            "colorscale": [
             [
              0,
              "#440154"
             ],
             [
              0.1111111111111111,
              "#482878"
             ],
             [
              0.2222222222222222,
              "#3e4989"
             ],
             [
              0.3333333333333333,
              "#31688e"
             ],
             [
              0.4444444444444444,
              "#26828e"
             ],
             [
              0.5555555555555556,
              "#1f9e89"
             ],
             [
              0.6666666666666666,
              "#35b779"
             ],
             [
              0.7777777777777778,
              "#6ece58"
             ],
             [
              0.8888888888888888,
              "#b5de2b"
             ],
             [
              1,
              "#fde725"
             ]
            ],
            "type": "histogram2d"
           }
          ],
          "histogram2dcontour": [
           {
            "colorbar": {
             "outlinewidth": 1,
             "tickcolor": "rgb(36,36,36)",
             "ticks": "outside"
            },
            "colorscale": [
             [
              0,
              "#440154"
             ],
             [
              0.1111111111111111,
              "#482878"
             ],
             [
              0.2222222222222222,
              "#3e4989"
             ],
             [
              0.3333333333333333,
              "#31688e"
             ],
             [
              0.4444444444444444,
              "#26828e"
             ],
             [
              0.5555555555555556,
              "#1f9e89"
             ],
             [
              0.6666666666666666,
              "#35b779"
             ],
             [
              0.7777777777777778,
              "#6ece58"
             ],
             [
              0.8888888888888888,
              "#b5de2b"
             ],
             [
              1,
              "#fde725"
             ]
            ],
            "type": "histogram2dcontour"
           }
          ],
          "mesh3d": [
           {
            "colorbar": {
             "outlinewidth": 1,
             "tickcolor": "rgb(36,36,36)",
             "ticks": "outside"
            },
            "type": "mesh3d"
           }
          ],
          "parcoords": [
           {
            "line": {
             "colorbar": {
              "outlinewidth": 1,
              "tickcolor": "rgb(36,36,36)",
              "ticks": "outside"
             }
            },
            "type": "parcoords"
           }
          ],
          "pie": [
           {
            "automargin": true,
            "type": "pie"
           }
          ],
          "scatter": [
           {
            "fillpattern": {
             "fillmode": "overlay",
             "size": 10,
             "solidity": 0.2
            },
            "type": "scatter"
           }
          ],
          "scatter3d": [
           {
            "line": {
             "colorbar": {
              "outlinewidth": 1,
              "tickcolor": "rgb(36,36,36)",
              "ticks": "outside"
             }
            },
            "marker": {
             "colorbar": {
              "outlinewidth": 1,
              "tickcolor": "rgb(36,36,36)",
              "ticks": "outside"
             }
            },
            "type": "scatter3d"
           }
          ],
          "scattercarpet": [
           {
            "marker": {
             "colorbar": {
              "outlinewidth": 1,
              "tickcolor": "rgb(36,36,36)",
              "ticks": "outside"
             }
            },
            "type": "scattercarpet"
           }
          ],
          "scattergeo": [
           {
            "marker": {
             "colorbar": {
              "outlinewidth": 1,
              "tickcolor": "rgb(36,36,36)",
              "ticks": "outside"
             }
            },
            "type": "scattergeo"
           }
          ],
          "scattergl": [
           {
            "marker": {
             "colorbar": {
              "outlinewidth": 1,
              "tickcolor": "rgb(36,36,36)",
              "ticks": "outside"
             }
            },
            "type": "scattergl"
           }
          ],
          "scattermapbox": [
           {
            "marker": {
             "colorbar": {
              "outlinewidth": 1,
              "tickcolor": "rgb(36,36,36)",
              "ticks": "outside"
             }
            },
            "type": "scattermapbox"
           }
          ],
          "scatterpolar": [
           {
            "marker": {
             "colorbar": {
              "outlinewidth": 1,
              "tickcolor": "rgb(36,36,36)",
              "ticks": "outside"
             }
            },
            "type": "scatterpolar"
           }
          ],
          "scatterpolargl": [
           {
            "marker": {
             "colorbar": {
              "outlinewidth": 1,
              "tickcolor": "rgb(36,36,36)",
              "ticks": "outside"
             }
            },
            "type": "scatterpolargl"
           }
          ],
          "scatterternary": [
           {
            "marker": {
             "colorbar": {
              "outlinewidth": 1,
              "tickcolor": "rgb(36,36,36)",
              "ticks": "outside"
             }
            },
            "type": "scatterternary"
           }
          ],
          "surface": [
           {
            "colorbar": {
             "outlinewidth": 1,
             "tickcolor": "rgb(36,36,36)",
             "ticks": "outside"
            },
            "colorscale": [
             [
              0,
              "#440154"
             ],
             [
              0.1111111111111111,
              "#482878"
             ],
             [
              0.2222222222222222,
              "#3e4989"
             ],
             [
              0.3333333333333333,
              "#31688e"
             ],
             [
              0.4444444444444444,
              "#26828e"
             ],
             [
              0.5555555555555556,
              "#1f9e89"
             ],
             [
              0.6666666666666666,
              "#35b779"
             ],
             [
              0.7777777777777778,
              "#6ece58"
             ],
             [
              0.8888888888888888,
              "#b5de2b"
             ],
             [
              1,
              "#fde725"
             ]
            ],
            "type": "surface"
           }
          ],
          "table": [
           {
            "cells": {
             "fill": {
              "color": "rgb(237,237,237)"
             },
             "line": {
              "color": "white"
             }
            },
            "header": {
             "fill": {
              "color": "rgb(217,217,217)"
             },
             "line": {
              "color": "white"
             }
            },
            "type": "table"
           }
          ]
         },
         "layout": {
          "annotationdefaults": {
           "arrowhead": 0,
           "arrowwidth": 1
          },
          "autotypenumbers": "strict",
          "coloraxis": {
           "colorbar": {
            "outlinewidth": 1,
            "tickcolor": "rgb(36,36,36)",
            "ticks": "outside"
           }
          },
          "colorscale": {
           "diverging": [
            [
             0,
             "rgb(103,0,31)"
            ],
            [
             0.1,
             "rgb(178,24,43)"
            ],
            [
             0.2,
             "rgb(214,96,77)"
            ],
            [
             0.3,
             "rgb(244,165,130)"
            ],
            [
             0.4,
             "rgb(253,219,199)"
            ],
            [
             0.5,
             "rgb(247,247,247)"
            ],
            [
             0.6,
             "rgb(209,229,240)"
            ],
            [
             0.7,
             "rgb(146,197,222)"
            ],
            [
             0.8,
             "rgb(67,147,195)"
            ],
            [
             0.9,
             "rgb(33,102,172)"
            ],
            [
             1,
             "rgb(5,48,97)"
            ]
           ],
           "sequential": [
            [
             0,
             "#440154"
            ],
            [
             0.1111111111111111,
             "#482878"
            ],
            [
             0.2222222222222222,
             "#3e4989"
            ],
            [
             0.3333333333333333,
             "#31688e"
            ],
            [
             0.4444444444444444,
             "#26828e"
            ],
            [
             0.5555555555555556,
             "#1f9e89"
            ],
            [
             0.6666666666666666,
             "#35b779"
            ],
            [
             0.7777777777777778,
             "#6ece58"
            ],
            [
             0.8888888888888888,
             "#b5de2b"
            ],
            [
             1,
             "#fde725"
            ]
           ],
           "sequentialminus": [
            [
             0,
             "#440154"
            ],
            [
             0.1111111111111111,
             "#482878"
            ],
            [
             0.2222222222222222,
             "#3e4989"
            ],
            [
             0.3333333333333333,
             "#31688e"
            ],
            [
             0.4444444444444444,
             "#26828e"
            ],
            [
             0.5555555555555556,
             "#1f9e89"
            ],
            [
             0.6666666666666666,
             "#35b779"
            ],
            [
             0.7777777777777778,
             "#6ece58"
            ],
            [
             0.8888888888888888,
             "#b5de2b"
            ],
            [
             1,
             "#fde725"
            ]
           ]
          },
          "colorway": [
           "#1F77B4",
           "#FF7F0E",
           "#2CA02C",
           "#D62728",
           "#9467BD",
           "#8C564B",
           "#E377C2",
           "#7F7F7F",
           "#BCBD22",
           "#17BECF"
          ],
          "font": {
           "color": "rgb(36,36,36)"
          },
          "geo": {
           "bgcolor": "white",
           "lakecolor": "white",
           "landcolor": "white",
           "showlakes": true,
           "showland": true,
           "subunitcolor": "white"
          },
          "hoverlabel": {
           "align": "left"
          },
          "hovermode": "closest",
          "mapbox": {
           "style": "light"
          },
          "paper_bgcolor": "white",
          "plot_bgcolor": "white",
          "polar": {
           "angularaxis": {
            "gridcolor": "rgb(232,232,232)",
            "linecolor": "rgb(36,36,36)",
            "showgrid": false,
            "showline": true,
            "ticks": "outside"
           },
           "bgcolor": "white",
           "radialaxis": {
            "gridcolor": "rgb(232,232,232)",
            "linecolor": "rgb(36,36,36)",
            "showgrid": false,
            "showline": true,
            "ticks": "outside"
           }
          },
          "scene": {
           "xaxis": {
            "backgroundcolor": "white",
            "gridcolor": "rgb(232,232,232)",
            "gridwidth": 2,
            "linecolor": "rgb(36,36,36)",
            "showbackground": true,
            "showgrid": false,
            "showline": true,
            "ticks": "outside",
            "zeroline": false,
            "zerolinecolor": "rgb(36,36,36)"
           },
           "yaxis": {
            "backgroundcolor": "white",
            "gridcolor": "rgb(232,232,232)",
            "gridwidth": 2,
            "linecolor": "rgb(36,36,36)",
            "showbackground": true,
            "showgrid": false,
            "showline": true,
            "ticks": "outside",
            "zeroline": false,
            "zerolinecolor": "rgb(36,36,36)"
           },
           "zaxis": {
            "backgroundcolor": "white",
            "gridcolor": "rgb(232,232,232)",
            "gridwidth": 2,
            "linecolor": "rgb(36,36,36)",
            "showbackground": true,
            "showgrid": false,
            "showline": true,
            "ticks": "outside",
            "zeroline": false,
            "zerolinecolor": "rgb(36,36,36)"
           }
          },
          "shapedefaults": {
           "fillcolor": "black",
           "line": {
            "width": 0
           },
           "opacity": 0.3
          },
          "ternary": {
           "aaxis": {
            "gridcolor": "rgb(232,232,232)",
            "linecolor": "rgb(36,36,36)",
            "showgrid": false,
            "showline": true,
            "ticks": "outside"
           },
           "baxis": {
            "gridcolor": "rgb(232,232,232)",
            "linecolor": "rgb(36,36,36)",
            "showgrid": false,
            "showline": true,
            "ticks": "outside"
           },
           "bgcolor": "white",
           "caxis": {
            "gridcolor": "rgb(232,232,232)",
            "linecolor": "rgb(36,36,36)",
            "showgrid": false,
            "showline": true,
            "ticks": "outside"
           }
          },
          "title": {
           "x": 0.05
          },
          "xaxis": {
           "automargin": true,
           "gridcolor": "rgb(232,232,232)",
           "linecolor": "rgb(36,36,36)",
           "showgrid": false,
           "showline": true,
           "ticks": "outside",
           "title": {
            "standoff": 15
           },
           "zeroline": false,
           "zerolinecolor": "rgb(36,36,36)"
          },
          "yaxis": {
           "automargin": true,
           "gridcolor": "rgb(232,232,232)",
           "linecolor": "rgb(36,36,36)",
           "showgrid": false,
           "showline": true,
           "ticks": "outside",
           "title": {
            "standoff": 15
           },
           "zeroline": false,
           "zerolinecolor": "rgb(36,36,36)"
          }
         }
        },
        "title": {
         "font": {
          "color": "Black",
          "size": 22
         },
         "text": "<b>Documents and Topics</b>",
         "x": 0.5,
         "xanchor": "center",
         "yanchor": "top"
        },
        "width": 1200,
        "xaxis": {
         "visible": false
        },
        "yaxis": {
         "visible": false
        }
       }
      },
      "text/html": [
       "<div>                        <script type=\"text/javascript\">window.PlotlyConfig = {MathJaxConfig: 'local'};</script>\n",
       "        <script charset=\"utf-8\" src=\"https://cdn.plot.ly/plotly-2.32.0.min.js\"></script>                <div id=\"09dbb3dd-0784-451a-8e8f-e97a11447f74\" class=\"plotly-graph-div\" style=\"height:750px; width:1200px;\"></div>            <script type=\"text/javascript\">                                    window.PLOTLYENV=window.PLOTLYENV || {};                                    if (document.getElementById(\"09dbb3dd-0784-451a-8e8f-e97a11447f74\")) {                    Plotly.newPlot(                        \"09dbb3dd-0784-451a-8e8f-e97a11447f74\",                        [{\"hoverinfo\":\"text\",\"hovertext\":[\"Lembaga Survei Indonesia (LSI) mengungkapkan nama anak Presiden Joko Widodo (Jokowi), Kaesang Pangarep, Kapolda Jawa Tengah (Jateng) Irjen Ahmad Luthfi, artis Raffi Ahmad, hingga mantan ajudan Prabowo Subianto, Sudaryono berada di posisi unggul di Pilkada Jateng 2024. Adapun para responden ditanyai mengenai siapa calon gubernur pilihan mereka di Jateng dalam sesi pertanyaan semi terbuka. Ada 21 nama yang disodorkan LSI. Yang sementara unggul adalah nama Kaesang Pangarep, disusul oleh Ahmad Luthfi, lalu nama berikutnya Abdul Wachid, Raffi Ahmad juga ada di situ, Bambang Wuryanto Pacul, Sudaryono, Hendar Prihadi mantan Wali Kota Semarang, ujar Djayadi dalam jumpa pers virtual, Minggu (30\\u002f6\\u002f2024). Baca juga: Survei LSI: Mayoritas Masyarakat Belum Punya Pilihan, Pilkada Jateng Masih Terbuka Semua Calon Djayadi menjelaskan, selain Sudaryono dan Hendra Prihadi, lima nama di atas menjadi calon yang meraih elektabilitas di atas 5 persen. Sisanya, kata dia, masih mendapat elektabilitas di bawah 5 persen. Maka dari itu, Djayadi menilai pertarungan di Pilkada Jateng 2024 masih sangat terbuka. Masih belum ada yang bisa disimpulkan unggul, apalagi dominan. Jarak antara Kaesang Pangarep dengan Ahmad Luthfi juga dekat, cuma beda 2-3 persen, tuturnya. Sementara yang ketika diberi daftar nama untuk dipilih masih ada 20 persen menyatakan belum punya pilihan, imbuh Djayadi. Baca juga: PDI-P Lempar Sinyal Usung Ahmad Luthfi pada Pilkada Jateng Berikut daftar cagub yang sementara unggul di Pilkada Jateng 2024 versi LSI: 1. Kaesang Pangarep: 15,9 persen 2. Irjen Ahmad Luthfi: 12,9 persen 3. Abdul Wachid: 7,8 persen 4. Raffi Ahmad: 6,8 persen 5. Bambang Wuryanto: 5,8 persen 6. Sudaryono: 4,7 persen 7. Hendrar Prihadi: 4,7 persen. Survei LSI kali ini dilakukan pada 21-26 Juni 2024 dengan mewawancarai 1.200 responden. Wawancara dilakukan melalui telepon. Adapun margin of error survei kurang lebih sebesar 2,8 persen pada tingkat kepercayaan 95 persen dengan asumsi simple random sampling. \",\"Ketua DPP PDI-P Said Abdullah mengatakan bahwa Ketua Umum PDI-P Megawati Soekarnoputri menugaskan Ketua DPP PDI-P Puan Maharani untuk menjalin komunikasi dengan calon presiden pemenang Pilpres 2024, Prabowo Subianto. Adapun komunikasi tersebut akan menjadi pertimbangan apakah pertemuan antara Megawati dan Prabowo bisa diwujudkan. Jadi, dari satu poin dan dua poin itu, muaranya, Ibu menugaskan Mbak Puan memang untuk membangun komunikasi. Setelah membangun komunikasi, nanti Mbak Puan report, kata Said saat dihubungi, Senin (8\\u002f4\\u002f2024). Baca juga: Megawati-Prabowo Bakal Bertemu, PDI-P Berpotensi Merapat ke Koalisi Gerindra Hasil report itulah yang akan menentukan Ibu ketua umum bertemu dengan Pak Prabowo, duduk bersama. Kan begitu, lanjutnya. Namun Said tak memerinci kapan pertemuan Puan dan Prabowo dilaksanakan. Said mengungkapkan, pada dasarnya antara Megawati dan Prabowo tidak memiliki persoalan secara pribadi. Begitu pula, secara ideologis, PDI-P dan Partai Gerindra juga dinilai tidak memiliki persoalan. Kedua partai politik itu, jelas Said, bahkan saling bersinergi selama 10 tahun terakhir di DPR. Secara politik, tidak pernah ada sentuhan apapun dengan Gerindra, dan bahkan 10 tahun terakhir PDI Perjuangan dan Gerindra sebagai partner yang baik di DPR, tegas Ketua Badan Anggaran (Banggar) DPR ini. Lebih jauh, Said menekankan pesan Megawati tentang pentingnya bangsa menghadapi tantangan lima tahun ke depan. Baca juga: Gerindra: Pak Prabowo dan Bu Megawati Sahabat Lama, Tak Ada Hambatan Rencana Pertemuan Maka dari situ Megawati, tambah Said, juga enggan menarik menteri-menteri dari kabinet Presiden Joko Widodo (Jokowi) saat ini. Konteks Ibu ketum itu pesannya, lima tahun ke depan, keadaan geopolitik seperti ini, setiap negara istilah Ibu itu, setiap memperkuat dirinya sendiri, global supply chain tidak sempurna karena keseimbangan baru tidak tercipta, maka berat tantangan ke depan, ungkap dia. Dia menegaskan, Presiden kelima RI tersebut sangat meletakkan kepentingan bangsa dan negara di atas segalanya. Baca juga: TKN: Pertemuan Prabowo-Megawati Sudah Terjadwal, PDI-P Akan Diajak Gabung Pemerintah Nah, poin itu disampaikan oleh Ketua Umum. Jauh dari partisan. Sehingga kalau ketemu dengan Pak Prabowo nantinya, welcome banget, tutur Said. Sebelumnya, pertemuan Megawati dan Prabowo digadang bakal terjadi setelah Puan lebih dulu bertemu Ketua Umum Partai Gerindra itu. Hal itu sudah diungkapkan Said Abdullah beberapa waktu sebelumnya. Sebelum (Prabowo Subianto) bertemu Ibu Megawati, didahului pertemuan dengan Mbak Puan. Itu nanti setelah sidang MK, kata Said kepada wartawan di Surabaya, Jawa Timur, Senin (1\\u002f4\\u002f2024). \",\"Menteri Pertahanan (Menhan) Prabowo Subianto mengatakan, demokrasi di Indonesia masih berantakan dan membutuhkan biaya sangat mahal. Prabowo yang juga merupakan peserta Pemilihan Umum (Pemilu) 2024 tersebut menyatakan masih belum puas dengan pelaksanaan demokrasi di Tanah Air. Sehingga ia menilai perlu ada perbaikan demokrasi untuk ke depannya. Baca juga: Di Hadapan Investor, Prabowo: Insyaallah Saya Akan Dilantik Jadi Presiden 20 Oktober Izinkan saya bersaksi bahwa demokrasi sungguh sangat melelahkan. Demokrasi itu sangat-sangat berantakan, demokrasi itu sangat-sangat mahal, ujar Prabowo saat memberikan sambutan pada Mandiri Investment Forum yang disiarkan secara daring di YouTube KompasTV, Selasa (5\\u002f2\\u002f2024). Dan kita masih belum puas dengan demokrasi kita. Ada banyak ruang untuk perbaikan, tegasnya. Meski begitu, Prabowo juga mengapresiasi partisipasi masyarakat Indonesia di pemilu yang bisa mencapai 80 persen. Baca juga: Prabowo di Depan Investor: Bos Selalu Benar, kalau Salah, Kembali ke Aturan Pertama Menurutnya angka partisipasi pemilu Indonesia tidak buruk. Terlebih jika dibandingkan dengan negara-negara lain yang menganut sistem demokrasi tetapi partisipasi pemilih dalam pemilu mereka tidak mencapai 50 persen. Dalam pemilu kita, jumlah partisipasi pemilih mencapai 80 persen. Rata-rata 80 persen. Ini tidak buruk. Mengingat banyak negara di negara demokrasi terkadang hasilnya kurang dari 50 persen, jelas Prabowo. Lebih lanjut, calon presiden (capres) nomor urut 2 itu menyinggung pengalamannya di Pemilu 2024, di mana karena luasnya negara Indonesia ia belum bisa mengunjungi semua provinsi yang ada. Dari 38 provinsi di Tanah Air, Prabowo baru bisa menyambangi sekitar 26 provinsi. Baca juga: Cerita di Hadapan Investor Pernah Berutang ke Bank, Prabowo: Saya Lunasi 100 Persen Akan tetapi, ia berjanji setelah pemilu akan mengunjungi sisa provinsi yang belum pernah disambanginya. Tapi saya masih, setelah pemilu ini, saya masih harus pergi kunjungi provinsi-provinsi itu (yang belum dikunjungi). Karena saya janji provinsi-provinsi yang belum bisa saya kunjungi saya akan kunjungi, tambahnya. \",\"Sekretaris Jenderal (Sekjen) Partai Gerindra Ahmad Muzani mengatakan pihaknya sudah berkomunikasi dengan Ketua DPP PDI-P Puan Maharani terkait rencana pertemuan presiden terpilih Prabowo Subianto dengan Ketua Umum PDI-P Megawati Soekarnoputri. Menurut Muzani, komunikasi yang berlangsung berjalan dengan baik. Ya dengan Ibu Puan, komunikasinya baik. Komunikasi dengan teman-teman elite PDI-P juga pembicaraannya baik, ujar Muzani di rumah Prabowo, Jalan Kertanegara, Jakarta Selatan, Kamis (25\\u002f4\\u002f2024) malam. Muzani mengatakan, rencana untuk mempertemukan Prabowo dan Megawati sedang dibangun. Baca juga: Sekjen PDI-P: Pertemuan Megawati-Jokowi Sulit Terjadi Komunikasi itu sedang kita bangun, komunikasi itu sedang kita rencanakan insya Allah, ucapnya. Sementara itu, Muzani menyebut Prabowo sendiri juga sudah menyinggung perihal rencana pertemuan dengan Megawati. Sudah diomong-omongkan, imbuh Muzani. Sebelumnya, pertemuan antara Ketua Umum PDI-P Megawati Soekarnoputri dan calon presiden pemenang Pilpres 2024 sekaligus Ketua Umum Partai Gerindra Prabowo Subianto menunggu hasil Rapat Kerja Nasional (Rakernas) ke-V PDI-P pada 24-26 Mei mendatang. Baca juga: Lihat Sikap Megawati, Ketua DPP Prediksi PDI-P Bakal di Luar Pemerintahan Prabowo Jika pertemuan yang dimaksud adalah bersifat politik formal kenegaraan, maka kita akan masih menunggu sebuah rapat kerja nasional yang tadi Mas Djarot (Ketua DPP PDI-P Djarot Saiful Hidayat) sudah informasikan detail tanggalnya, yaitu 24, 25, 26 Mei yang akan datang, kata Ketua DPP PDI-P Ahmad Basarah di Kantor DPP PDI-P, Jalan Diponegoro, Menteng, Jakarta Pusat, Senin malam. Basarah menjelaskan, peluang Megawati dan Prabowo bertemu tetap ada. Apalagi, keduanya disebut tidak pernah memiliki persoalan pribadi. Keduanya juga dikenal sudah menjalin komunikasi dan hubungan baik sejak lama. Secara pribadi, hubungan Bu Mega dengan Pak Prabowo sangat baik. Mereka berdua punya sejarah panjang di dalam hubungan antar manusia, bangsa Indonesia tersebut, jelasnya. Baca juga: Megawati Diyakini Tak Goyah, PDI-P Diprediksi Jadi Oposisi Pemerintahan Prabowo Wakil Ketua MPR ini menjelaskan, Megawati mengetahui porsi dan momentum yang tepat untuk melaksanakan pertemuan itu. Sehingga, pertemuan yang sifatnya pribadi juga mungkin terjadi. \",\"Ketua Umum Partai Gerindra Prabowo Subianto resmi mengumumkan putra sulung Presiden Joko Widodo, Gibran Rakabuming Raka, sebagai bakal calon wakil presidennya, Minggu (22\\u002f10\\u002f2023) malam. Pengumuman ini dilakukan usai semua ketua umum partai politik di Koalisi Indonesia Maju (KIM) menggelar rapat di kediaman Prabowo di Jalan Kertanegara, Kebayoran Baru, Jakarta Selatan. Baca juga: Zulhas: Cawapres Prabowo Diumumkan Malam Ini Baru saja Koalisi Indonesia Maju (KIM) yang terdiri dari delapan partai politik, yang dihadiri lengkap oleh ketum masing-masing dan sekjen masing-masing kita telah berembug secara final, secara konsensus, seluruhnya sepakat mengusung Prabowo Subianto sebagai capres Koalisi Indonesia Maju untuk 2024-2029 dan saudara Gibran Rakabuming Raka sebagai calon wakil presiden, ujar Prabowo dalam jumpa pers di kediamannya, Minggu. Sebelumnya, Partai Golkar mengumumkan secara resmi dukungan mereka kepada Gibran untuk menjadi cawapres Prabowo Subianto melalui rapat pimpinan nasional (rapimnas) yang diselenggarakan pada Sabtu (21\\u002f10\\u002f2023) kemarin.  Berdasarkan hasil pertemuan dengan ketua DPD tadi malam, semuanya konsensus mengusulkan dan mendukung Mas Gibran untuk kita pasangkan dengan Pak Prabowo sebagai bakal capres RI, kata Ketua Umum Golkar Airlangga Hartarto, Sabtu. Usai resmi diusung, Gibran menyatakan akan mengkoordinasikan hasil rapat pleno satu dalam Rapat Pimpinan Nasional (Rapimnas) II Partai Golkar dengan Prabowo. Baca juga: Gibran Rakabuming, Bakal Cawapres Prabowo yang Diusung Golkar, Punya Kekayaan Rp 26 Miliar Adapun hasil rapat pleno kesatu Rapimnas Partai Golkar mengusulkan Gibran Rakabuming Raka sebagai bakal calon wakil presiden (cawapres) pendamping Prabowo Subianto. Untuk selanjutnya akan kami koordinasikan, akan kami tindaklanjuti bersama dengan Pak Prabowo, kata Gibran di DPP Partai Golkar, Palmerah, Jakarta Barat, Sabtu (21\\u002f10\\u002f2023). Tak lupa, Gibran mengucapkan terima kasih kepada Partai Golkar atas hasil Rapimnas II tersebut. Baca juga: Profil Gibran Rakabuming, Putra Sulung Jokowi yang Diusung Golkar Jadi Bakal Cawapres Prabowo Saya ucapkan terima kasih kepada keluarga besar Golkar, saya sangat mengapresiasi hasil Rapimnas pada siang hari ini, ujarnya. \",\"Pengamat komunikasi politik dari Universitas Esa Unggul, Jamiluddin Ritonga mengatakan, capres nomor urut 2, Prabowo Subianto diposisikan oleh timnya sebagai orang yang terzalimi setelah diserang dalam debat capres pada Minggu (7\\u002f1\\u002f2024) lalu. Jamiluddin menyebut, serangan dari Anies Baswedan dan Ganjar Pranowo kepada Prabowo itu terlihat jelas dalam debat ketiga Pilpres 2024. Prabowo Subianto dalam debat ketiga terkesan memang diserang Anies Baswedan dan Ganjar Pranowo. Hal itu sangat terlihat ketika Ganjar memberi nilai 5 dan Anies dengan nilai 11, ujar Jamiluddin saat dimintai konfirmasi, Rabu (10\\u002f1\\u002f2024). Baca juga: Meski Umpatan Prabowo Masuk Pidana Pemilu, Timnas Anies-Muhaimin Belum Berencana Lapor ke Bawaslu Menurut Jamiluddin, strategi Anies dan Ganjar menyerang Prabowo justru menguntungkan Menteri Pertahanan tersebut. Dia menilai, tim Prabowo memanfaatkan momentum itu. Justru dimanfaatkan tim Prabowo untuk memposisikan capresnya sebagai orang yang terzalimi, ucap dia.  Lalu, Jamiluddin mengatakan, strategi memposisikan diri sebagai orang yang terzalimi bukanlah hal baru di Indonesia. Baca juga: Ketum DPP JSI: Saya dan Santri Merasa Pilu Melihat Pak Prabowo Diserang Saat Debat Pada Pemilu 2004, kata dia, Susilo Bambang Yudhoyono (SBY) juga mendapat manfaat setelah dizalimi oleh Taufik Kiemas. Sejak itu, kata dia, nama SBY terus mendapat simpati dari masyarakat. Bahkan hal itu menjadi faktor utama yang mengantarkan SBY terpilih menjadi presiden pada tahun 2004, kata Jamiluddin. Hal itu tampaknya coba digunakan tim Prabowo untuk meningkatkan simpati masyarakat. Gejala itu sudah mulai terlihat dengan bermunculannya simpati dukungan kepada Prabowo di media sosial, ucap dia. Baca juga: Sebagai Pemimpin Politik, Prabowo Dorong Pembangunan Tanggul Laut Raksasa di Kawasan Pantura Maka dari itu, Jamiluddin menduga tim Prabowo ingin mengambil manfaat sebagaimana yang dialami SBY. Jamiluddin melihat peluang ke arah itu sudah makin terlihat.  Hal itu setidaknya terlihat dari hasil survei terakhir yang tetap mendudukkan Prabowo dengan elektabilitas tertinggi, ucap Jamiluddin. Sebelumnya, Sekretaris Tim Kampanye Nasional (TKN) Prabowo Subianto-Gibran Rakabuming Raka, Nusron Wahid mengeklaim Prabowo berhasil mendapatkan simpati publik setelah debat ketiga Pilpres 2024. Sebab, kata dia, Prabowo tetap sabar meski dihina-hina terus di debat capres. Kalau kita pantau di sosmed, reaksi balik dari publik luar biasa. Rata-rata malah bersimpati dengan Pak Prabowo. Karena keikhlasan dan kesabaran meski dikuyo-kuyo (dihina-hina), ujar Nusron saat dimintai konfirmasi, Selasa (9\\u002f1\\u002f2024).  Nusron lantas bersyukur Prabowo tidak terpancing emosi saat dikeroyok oleh Anies Baswedan dan Ganjar Pranowo dalam debat capres. Menurut Nusron, Prabowo adalah negarawan yang tetap tenang. Alhamdulillah Pak Prabowo, kendati diserang dan dikeroyok, dengan sabar, dan kenegarawanannya mampu tenang dan tidak terpancing emosi, kata Nusron. \",\"PDI-P belum habis asa untuk melawan kemenangan Prabowo Subianto dan Gibran Rakabuming Raka pada Pemilihan Presiden (Pilpres) 2024. Setelah Mahkamah Konstitusi (MK) menolak gugatan sengketa pilpres yang diajukan kubu Ganjar Pranowo dan Mahfud MD yang dilanjutkan dengan penetapan oleh Komisi Pemilihan Umum (KPU) sebagai presiden dan wakil presiden terpilih, PDI-P masih mengajukan gugatan ke Pengadilan Tata Usaha Negara (PTUN). Gugatannya diarahkan pada KPU yang dianggap telah melawan hukum dengan menerima pendaftaran Gibran sebagai cawapres. Ketua Tim Hukum PDI-P Gayus Lumbuun sepakat bahwa PTUN tak bisa membatalkan putusan MK. Baca juga: Abaikan PDI-P, MPR: Tak Ada Alasan untuk Tidak Lantik Prabowo-Gibran Putusan PTUN tidak mungkin membatalkan keputusan MK. Kami sangat sadar, tetapi kehidupan dinamika dari hukum ini kan luas sekali, sebut Gayus di PTUN, Jakarta, Kamis (5\\u002f2\\u002f2024). Lebih lanjut, ia mengatakan bahwa putusan PTUN nantinya bisa menjadi dasar MPR RI tak melantik Prabowo dan Gibran. Kalau KPU tidak berhak membatalkan, kami berpandangan rakyat yang berkumpul di MPR, diwakili anggota-anggota MPR, bisa punya sikap untuk tidak melantik. Itu yang kami ajukan, ucapnya. Keinginan PDI-P itu nyatanya tidak mendapatkan sambutan positif dari beberapa anggota MPR RI. Wakil Ketua MPR dari Partai Demokrat Syarief Hasan menyampaikan mengacu pada Undang-Undang (UU) Pemilu, Prabowo-Gibran tetap akan dilantik. Menurut UU Pemilu, MPR harus melantik presiden terpilih yang sudah ditetapkan oleh KPU hasil pemilu, sebut dia. Baca juga: Sadar PTUN Tak Bisa Batalkan Putusan MK, PDI-P: Tapi MPR Punya Sikap untuk Tidak Melantik Prabowo   Kemudian, Wakil Ketua MPR RI dari Partai Kebangkitan Bangsa (PKB) Jazilul Fawaid menganggap, pernyataan Gayus hanya merupakan harapan semata. Sebab, PTUN Jakarta pun belum memberikan putusan. Sidang perdana baru dimulai Kamis kemarin. Itu baru harapan saja. Kita tunggu keputusan hukum PTUN, katanya. Lalu, Wakil Ketua MPR RI dari Partai Amanat Nasional (PAN) Yandri Susanto menganggap putusan PTUN tak bisa mengganggu pengangkatan Prabowo-Gibran. Menurut kami, dan saya sebagai Wakil Ketua MPR, sekarang Pak Prabowo dan Mas Gibran tinggal menunggu waktu pelantikan tanggal 20 Oktober nanti, tutur Yandri saat dihubungi Kompas.com, Jumat (3\\u002f5\\u002f2024). Baca juga: Harap PTUN Kabulkan Gugatan, PDI-P: MPR Bisa Tidak Lantik Prabowo-Gibran Oleh karena itu, MPR tidak punya alasan untuk tidak melantik pasangan Prabowo dan Gibran. Jadi menurut kami PTUN itu tidak ada pengaruhnya terhadap proses pelantikan Pak Prabowo dan Mas Gibran, imbuh dia. Gayus menegaskan, PDI-P tidak mempersoalkan hasil Pemilu Presiden (Pilpres) 2024. Maka dari itu, dia tetap menghormati apa yang sudah diputuskan oleh MK yang menolak permohonan gugatan kubu pasangan calon presiden dan wakil presiden nomor urut 1 dan 3. Tapi kami minta agar PTUN mengadili, apakah betul KPU telah melanggar hukum sebagai aparatur negara di bidang pemilu ini, urai Gayus. Nah PTUN akan memutuskan, apakah betul ada pelanggaran hukum oleh KPU terhadap cawapres yang sekarang jadi penetapan oleh KPU dan akan dilantik, jadi permohonan kami untuk tidak dilantik, tambahnya.   Di sisi lain, Kuasa Hukum KPU RI Saleh mengatakan, pihaknya belum mengetahui pasti isi objek gugatan dari tim kuasa hukum PDI-P. Saleh mengakui dirinya kebingungan untuk mempersiapkan jawaban. Ya karena kami ini juga belum paham betul, isinya juga apa, kami juga cuma lihat di media. Tapi itu kan bukan kemudian harus kita jadikan acuan kan, katanya saat ditemui di Pengadilan Tata Usaha Negara (PTUN) Jakarta, Cakung, Jakarta Timur, usai sidang, Kamis (2\\u002f5\\u002f2024). Jadi kalau kaitan dengan kemudian bagaimana jawaban KPU, hingga hari ini masih belum paham juga mau jawab apa, lanjut Saleh. Baca juga: Kuasa Hukum KPU Belum Paham Isi Gugatan PDI-P di PTUN Ia lantas merujuk pada sikap PTUN yang juga mempertanyakan objek gugatan yang diajukan PDI-P. Majelis itu bertanya, kalau yang diminta kaitan dengan pelantikan itu, pertanyaan majelis, kaitan dengan penetapan paslon, kaitan dengan penetapan hasil, apakah itu dijadikan satu atau pisah? tutur Saleh. Lebih jauh, dirinya juga mempertanyakan objek gugatan yang dilayangkan kuasa hukum PDI-P dalam persidangan. Pasalnya, selaku kuasa hukum, KPU hanya menerima surat panggilan dari PTUN Jakarta terkait Surat Keputusan (SK) KPU Nomor 360 tahun 2024 tentang penetapan hasil pemilihan umum (Pemilu) pada 20 Maret lalu. Baca juga: PDI-P Harap PTUN Tidak Biarkan Pelanggaran Hukum yang Diduga Dilakukan KPU   Padahal, Saleh menilai, SK itu sudah diputuskan oleh KPU. Sementara yang dipersoalkan PDI-P justru proses pendaftaran Gibran Rakabuming Raka sebagai calon wakil presiden.  Kami sampaikan bahwa kami ini masih belum tahu (paham) terkait dengan gugatan. Karena dalam panggilan yang dilayangkan oleh PTUN Jakarta ini terhadap KPU, itu adalah mencantumkan SK 360. Berkaitan dengan penetapan hasil, kata Saleh. Nah oleh karena itu, kami confirm tadi, selaku kuasa KPU, mengapa gugatan objeknya yang dilayangkan ini 360? Mengapa? Karena 360 sudah diputuskan oleh Mahkamah Konstitusi, katanya lagi. Sebelumnya diberitakan, PDI-P mengajukan gugatan untuk KPU di PTUN, Jakarta, pada Selasa (2\\u002f4\\u002f2024). Gugatan ini teregister dengan nomor perkara 133\\u002fG\\u002fTF\\u002f2024\\u002fPTUN.JKT.  Baca juga: Sidang Administrasi Selesai, PTUN Minta PDI-P Perbaiki Gugatan terhadap KPU Gugatan ini diajukan karena KPU dianggap telah melakukan perbuatan melawan hukum dalam proses penyelenggaraan Pemilihan Presiden (Pilpres) 2024. PDI-P menganggap tindakan KPU menerima pendaftaran Gibran Rakabuming Raka sebagai calon wakil presiden sebagai tindakan perbuatan melawan hukum. Adapun perbuatan melawan hukum yang dimaksudkan dalam gugatan ini adalah berkenaan dengan tindakan KPU sebagai penguasa di bidang penyelenggaraan Pemilu karena telah mengenyampingkan syarat usia minimum bagi cawapres, yaitu terhadap Saudara Gibran Rakabuming Raka, kata Ketua Tim Hukum PDI-P Gayus Lumbuun di Kantor PTUN. \",\"Pasangan nomor urut 02, Prabowo Subianto-Sandiaga Salahuddin Uno telah mengumumkan daftar nama yang terlibat dalam Tim Pemenangan Nasional untuk Pilpres 2019. Tim ini dipimpin oleh mantan Panglima TNI Jenderal (Purn) Djoko Santoso. Sedangkan, Prabowo akan memimpin dewan pembina yang di dalamnya juga terdapat tokoh seperti Amien Rais, Salim Segaf Al Jufri, Agus Harimurti Yudhoyono, dan Hutomo Mandala Putra. Ketua Dewan Pengarah akan dipimpin oleh Presiden PKS Mohamad Sohibul Iman. Dewan ini terdiri dari sejumlah nama seperti Titiek Soeharto, Fadli, Zon, dan Ahmad Heryawan. Ketua Umum PAN Zulkifli Hasan akan memimpin dewan penasihat, yang anggotanya juga terdiri atas tokoh seperti Hidayat Nur Wahid, Rhoma Irama, dan Syarief Hasan. Sedangkan, Presiden keenam RI yang juga Ketua Umum Partai Demokrat Susilo Bambang Yudhoyono akan memimpin juru kampanya nasional. Seperti apa daftar nama dalam Tim Pemenangan Nasional Prabowo-Sandiaga? Lihat dalam infografik di bawah ini:   \",\"Capres nomor urut 1 Anies Baswedan mengatakan bahwa proses pembentukan kabinet pemerintahan baru masih lama. Hal ini diungkapkan saat ditanya apakah sudah ada tawaran kepadanya untuk bergabung ke dalam kabinet Prabowo Subianto-Gibran Rakabuming Raka, sebagai salah satu menteri, ke depan. Kan masih lama proses kabinet juga, ujar Anies saat ditemui di Akademi Bela Negara Partai Nasdem, Jakarta Selatan, Kamis (2\\u002f5\\u002f2024). Prabowo-Gibran, sesuai dengan aturan yang ada saat ini, akan dilantik sebagai presiden dan wakil presiden pada 20 Oktober 2024. Baca juga: Surya Paloh Pamer Nasdem Bisa Dukung Anies, tapi Tetap Berada di Pemerintahan Jokowi Saat disinggung apakah sudah ada pihak Prabowo yang mencoba mengajaknya berkomunikasi, Anies tak menjawab tegas. Baru ada pengumuman KPU minggu lalu, masih panjang, imbuhnya. Sebelumnya, Wakil Ketua Tim Kampanye Nasional (TKN) Prabowo-Gibran, Ahmad Muzani meyakini bahwa kubu Anies-Muhaimin dan PDI Perjuangan akan ikut menjadi bagian dari pemerintahan ke depan. Sebab, kata dia, Prabowo berharap bisa membangun pemerintahan secara bersama-sama. Kami merasa bahwa insyaallah ajakan kami untuk bersama-sama membangun Indonesia ke depan di bawah pemerintah Prabowo-Gibran sepertinya bukan bertepuk sebelah tangan, ujar Muzani saat ditemui di Medcen TKN Prabowo-Gibran, Jakarta Selatan, Selasa (20\\u002f2\\u002f2024) malam. Baca juga: Ditanya soal Pilkada DKI Jakarta, Anies: Kasih Jeda Dulu Harapan Pak Prabowo untuk bisa bersama-sama untuk membangun Indonesia dari komunikasi awal kami dengan semua parpol yang tadinya berbeda pilihan dalam pilpres sepertinya dalam komunikasi awal kami bukan sesuatu yang bertepuk sebelah tangan, sambungnya. \",\"Pengamat politik dari Universitas Al Azhar Indonesia, Ujang Komarudin, mengatakan, pasca Pemilu Presiden (Pilpres) 2024, partai politik (parpol) berupaya menyelamatkan diri masing-masing. Ini tampak dari tiga parpol yang semula tergabung dalam Koalisi Perubahan untuk Persatuan, Partai Kebangkitan Bangsa (PKB), Partai Nasdem, dan Partai Keadilan Sejahtera (PKS), yang kini mengisyaratkan merapat ke koalisi pemenang pilpres, Prabowo Subianto-Gibran Rakabuming Raka. Saat ini, partai politik menyelamatkan diri masing-masing untuk kepentingan masing-masing. Karena posisi kalah ya apa boleh buat, semua partai politik balik kanan, punya agenda masing-masing ke depan, kata Ujang kepada Kompas.com, Rabu (24\\u002f4\\u002f2024). Menurut Ujang, manuver PKB, Nasdem, dan PKS menunjukkan bahwa setiap parpol berkalkulasi dan bekerja sesuai dengan kepentingan politik masing-masing. Dinamika ini seolah membuktikan bahwa narasi perubahan yang sempat diusung ketiga partai pada Pilpres 2024 merupakan narasi jualan semata. Baca juga: Cinta Lama Gerindra-PKB yang Bersemi Kembali Sebab, berbeda dengan Koalisi Perubahan untuk Persatuan, kubu Prabowo-Gibran mengusung semangat keberlanjutan pemerintahan Presiden Joko Widodo. Namanya juga slogan, namanya juga kampanye untuk bisa menarik simpati dan dukungan publik, ucap Ujang. Ujang mengaku tak terkejut jika PKB benar-benar bergabung ke kubu Prabowo-Gibran. Sejak awal, ia sudah memprediksi partai pimpinan Muhaimin Iskandar itu bakal merapat ke kubu pemenang. Alasannya, selain karena PKB tak punya sejarah sebagai oposisi, Muhaimin juga dinilai tengah berupaya mempertahankan jabatan sebagai pucuk pimpinan partai. Sebab, menurut desas-desus yang berembus, ada pihak yang mengincar kursi Ketua Umum PKB. Kalau Cak Imin menjadi oposisi, dikerjai oleh pemerintah, bisa hilang jabatan ketua umumnya. Itu tentu merugikan Cak Imin, kata Ujang. Dan kalau masuk pemerintahan tentu dapat menteri, berkuasa lagi, posisi ketua umum pun bisa aman. Itu rasional saja dalam politik taktis, lanjutnya. Sementara, Nasdem disebut sebagai parpol yang paling awal bermanuver. Ini tampak dari Ketua Umum Partai Nasdem Surya Paloh yang langsung memberikan ucapan selamat begitu Prabowo-Gibran dinyatakan sebagai pemenang Pilpres 2024 oleh Komisi Pemilihan Umum (KPU) pada 20 Maret 2024 lalu. Sementara, peluang PKS berkoalisi dengan pemerintahan Prabowo-Gibran dinilai masih fifty-fifty. Partai pimpinan Ahmad Syaikhu itu diduga masih mempertimbangkan dinamika politik ke depan. Mungkin Majelis Syuro PKS memperhatikan kebatinan konstituen PKS, apakah konstituennya mau oposisi ataupun berkoalisi. Penentu di PKS itu bukan ketua umum, tapi Majelis Syuro, tutur Ujang. Sebelumnya diberitakan, tiga partai anggota Koalisi Perubahan untuk Persatuan yakni PKB, Nasdem, dan PKS, membuka peluang bergabung ke koalisi Prabowo-Gibran. Pada Pilpres 2024, kongsi tersebut mengusung Anies Baswedan-Muhaimin Iskandar sebagai calon presiden dan calon wakil presiden (capres-cawapres). Namun, pasangan ini ditumbangkan oleh Prabowo-Gibran. Baca juga: PKB Beri Sinyal Gabung Koalisi Prabowo, Cak Imin Dinilai Ingin Amankan Kursi Ketum Sinyal merapatnya PKB ke koalisi pemerintahan mendatang tampak dalam pertemuan Muhaimin dengan Prabowo pada Rabu (24\\u002f4\\u002f2024). Usai ditetapkan sebagai presiden terpilih, Prabowo berkunjung ke kantor DPP PKB di kawasan Jakarta Pusat. Kehadiran Prabowo disambut meriah oleh elite PKB. Karpet merah digelar untuk menyambut kehadiran presiden terpilih itu. Prabowo mengungkapkan, dalam pertemuan itu pada pokoknya PKB menyampaikan keinginan untuk bekerja sama dengan pemerintahannya ke depan. Saya menerima tadi penyampaian pernyataan bahwa PKB ingin terus bekerja sama dengan Gerindra, dengan Prabowo Subianto untuk mengabdi demi kepentingan rakyat, kata Prabowo. Terpisah, Surya Paloh mengaku, partainya dan PKS siap jika harus bergabung sebagai koalisi atau menjadi oposisi pemerintahan Prabowo-Gibran. Saya katakan tadi sama teman-teman PKS, Coba renungkan, apa yang terbaik bagi negeri ini? PKS di dalam pemerintahan atau di luar pemerintahan? ujar Surya usai bertemu dengan Presiden PKS Ahmad Syaikhu di Nasdem Tower, Jakarta, Rabu (24\\u002f4\\u002f2024). \",\"Belakangan ini, ramai pemberitaan soal status perkawinan presiden terpilih 2024, Prabowo Subianto dan mantan istrinya, Titiek Soeharto. Keduanya menjadi sorotan akhir-akhir ini karena kerap tampil bersama. Misalnya saja saat Titiek hadir dalam penetapan Prabowo sebagai capres terpilih di Kantor Komisi Pemilihan Umum, Rabu (24\\u002f4\\u002f2024). Titiek juga beberapa kali memamerkan momen kebersamaannya dengan Prabowo dan anak mereka, Didiet Hediprasetyo. Pada 14 April lalu, misalnya, dia mengunggah ke Instagram foto khusus saat disuguhi kue ulang tahun oleh Prabowo yang hadir pada acara syukurannya. Berdasarkan dokumen pendaftaran Prabowo sebagai capres 2024-2029, status pernikahan Menteri Pertahanan itu tertulis pernah. Baca juga: Ini Status Perkawinan Prabowo dan Titiek Soeharto Sementara itu, Titiek hanya menulis huruf P dalam kolom yang sama dokumen pendaftarannya sebagai caleg DPR RI, yang berarti pernah. Titiek maju sebagai calon anggota legislatif (caleg) DPR RI pada daerah pemilihan DI Yogyakarta. Lantas, apa arti pernah kawin dalam status perkawinan? Bedakah dengan status bercerai? Menurut pengacara dari Kantor Hukum Ongko Purba and Partner, R. Achmad Zulfikar Fauzi S.H, status pernah kawin itu merupakan akibat pembatalan perkawinan berdasarkan putusan pengadilan. Sementara itu, status janda atau duda didasarkan pada hasil putusan gugatan atau permohonan talak berdasarkan putusan pengadilan, atau salah satu pasangan suami \\u002fistri meninggal dunia. Ini berdasarkan Pasal 28 Ayat (1) Undang-Undang Nomor 1 Tahun 1974 tentang Perkawinan (UU Perkawinan) yang mengatur soal batalnya perkawinan. Baca juga: Ayah Teuku Ryan Salahkan Anaknya soal Perceraian dengan Ria Ricis Adapun soal perceraian\\u002fpermohonan talak diatur dalam Pasal 39 UU Perkawinan. Ia juga menyampaikan perbedaan alasan pembatalan perkawinan dan perceraian menurut hukum. Berdasarkan Pasal 26 dan 27 UU Perkawinan, syarat atau alasan pembatalan perkawinan sebagai berikut: 1. Perkawinan dilangsungkan di hadapan pegawai pencatatan yang tidak berwenang 2. Perkawinan dilangsungkan di hadapan wali nikah yang tidak sah 3. Perkawinan dilangsungkan tanpa dihadiri oleh dua orang saksi 4. Perkawinan dilangsungkan di bawah ancaman yang melanggar hukum 5. Terjadi salah sangka kepada diri suami atau istri selama pernikahan berlangsung   Sementara itu, alasan perceraian dimuat dalam Penjelasan Pasal 39 Ayat (2) UU Perkawinan. Berdasarkan pasal tersebut, ada 6 sebab yang dapat dijadikan alasan perceraian, baik untuk menjatuhkan talak maupun cerai gugat. Enam alasan itu sebagai berikut: 1. Salah satu pihak atau pasangan melakukan zina, merupakan pemabuk, pemadat, penjudi, dan perbuatan lainnya yang sukar disembuhkan 2. Salah satu pihak meninggalkan pihak lain selama 2 tahun berturut-turut tanpa izin pihak lain dan tanpa alasan yang sah atau karena hal lain diluar kemampuannya 3. Salah satu pihak atau pasangan mendapat hukuman penjara 5 tahun atau hukuman yang lebih berat setelah perkawinan berlangsung Baca juga: Titiek Soeharto-Didiet Hadiri Penetapan Prabowo-Gibran di KPU 4. Salah satu pihak atau pasangan melakukan kekejaman atau penganiayaan berat yang membahayakan pihak yang lain 5. Salah satu pihak atau pasangan mendapat cacat badan atau penyakit dengan akibat tidak dapat menjalankan kewajibannya sebagai suami\\u002fistri 6. Antara suami dan istri terus-menerus terjadi perselisihan dan pertengkaran dan tidak ada harapan akan hidup rukun lagi dalam rumah tangga.   \",\"Dewan Pakar Tim Kampanye Nasional (TKN) Prabowo-Gibran, Imanuel Cahyadi, menegaskan Prabowo-Gibran mempunyai komitmen dalam mengatasi kasus kekerasan terhadap perempuan dan anak. Perempuan dan anak telah mendapatkan prioritas oleh Prabowo-Gibran, tercermin di visi dan misi kami. Ruang perlindungan sudah berujung ke arah yang tepat di bawah pemerintahan Presiden Jokowi, dan kami akan menyempurnakannya lagi, ungkap Cahyadi dalam keterangannya, Jumat (15\\u002f12\\u002f2023). Cahyadi memaparkan, bahwa dalam Visi-Misi Asta Cita 1 telah terdapat program kerja yang memperkuat perlindungan terhadap perempuan dan anak, serta memperkuat penegakan hukum sebagai upaya yang preventif. Salah satu cara yang akan menjadi fokus pasangan Prabowo Subianto dan Gibran Rakabuming, lanjut Cahyadi, adalah pembangunan kesejahteraan untuk keluarga. Baca juga: Elektabilitas Prabowo-Gibran Tinggi meski Jarang Kampanye, Pengamat: Kekuatan Mesin Politik dan Relawan Cara ini diyakini bisa menekan munculnya masalah kekerasan terhadap perempuan dan anak di dalam lingkup keluarga. Kami kembali menekankan langkah preventif dengan membangun kesejahteraan ekonomi keluarga, dengan lapangan pekerjaan makin dibuka dengan luas, jelasnya. Tak hanya itu, pasangan Prabowo-Gibran juga memiliki beberapa program dengan tujuan membangun ketahanan nasional dari tingkat individu hingga lingkup keluarga. Kami bangun ketahanan nasional dari tingkat individu dan tingkat keluarga. Langkah konkretnya adalah dengan program-program yang dibawakan, seperti makan siang gratis dan lain-lain, jelas Cahyadi. Selain itu, Prabowo-Gibran juga memberi perhatian terkait isu kesehatan mental, karena pada dasarnya visi dan misi Indonesia maju menekankan pada program-program preventif berbasis perlindungan terhadap perempuan, anak, dan kesejahteraan keluarga. Pada akhirnya, bisa diambil kesimpulan, bahwa Prabowo-Gibran sangat concern (perhatian) dengan isu semacam kekerasan fisik atau kesehatan mental yang dialami oleh perempuan dan anak, tandasnya. Baca juga: Ayah Pembunuh 4 Anak di Jagakarsa Tulis Pesan Kecemburuan terhadap Istrinya di Laptop Cahyadi juga menyoroti data Kementerian Pemberdayaan Perempuan dan Perlindungan Anak (PPPA) bahwa hingga Desember 2023, tercatat ada sebanyak 26.362 kasus kekerasan terhadap perempuan dan anak yang terjadi di Indonesia. Didapati pula bahwa kasus kekerasan perempuan dan anak yang paling tinggi terjadi di lingkungan rumah tangga, yaitu 16.039 kasus. Kasus kekerasan terhadap perempuan dan anak di lingkungan rumah tangga ini disebabkan oleh faktor ekonomi, yang semakin berat pasca pandemi Covid-19. \",\"Pengamat politik Dedi Kurnia Syah menilai bahwa rencana pertemuan Ketua Umum PDI-P Megawati Soekarnoputri dan calon presiden pemenang Pilpres 2024, Prabowo Subianto tak lepas dari peran Ketua DPP PDI-P Puan Maharani. Puan, adalah putri dari Megawati. Menurut Dedi, pertemuan itu tidak bisa dielakkan oleh Megawati karena merupakan permintaan putrinya. Megawati jika lakukan pertemuan dengan Prabowo, tidak lantas mengobati sakit hatinya, lebih pada ia tidak bisa menolak permintaan Puan karena putrinya, kata Dedi kepada Kompas.com, Selasa (9\\u002f4\\u002f2024). Baca juga: Ultimatum Moral Negarawan Megawati Soekarnoputri Dedi berpendapat, meski jadi bertemu Prabowo, tetap tidak bisa menurunkan rasa sakit hati Megawati terhadap Presiden Joko Widodo, yang dianggap telah berkhianat dengan mendukung kemenangan Prabowo beserta putra sulungnya, Gibran Rakabuming Raka dalam Pilpres 2024. Rencana pertemuan Megawati dan Prabowo, menurut Dedi, juga sejak awal diduga sudah dirancang oleh Puan Maharani. Berkaitan itu juga, ia melihat Puan sebagai penghambat jalannya PDI-P menggulirkan hak angket menyelidiki dugaan kecurangan Pilpres di DPR. Sebagai gantinya, Puan akan mendapat dukungan untuk memimpin DPR di periode berikutnya, terbukti dengan keputusan sidang terkait UU MD3 yang masih potensial memberi ruang ke Puan Maharani, ungkapnya. Baca juga: Menerka Peluang PDI-P Masuk Pemerintahan Usai Mega Utus Puan Bertemu Prabowo Lebih jauh, ia juga berpandangan bahwa Puan menjadi satu-satunya tokoh yang paling potensial merusak konsolidasi di internal PDI-P. Pasalnya, pasca Pilpres 2024, PDI-P gencar digadang bakal menjadi oposisi pemerintah ke depan. Namun rencana pertemuan Megawati dan Prabowo yang didahului oleh Puan seakan merusak konsolidasi internal partai banteng moncong putih. Ia (Puan) cenderung mengejar kepentingan personalnya dibanding keutuhan PDI-P secara organisasi, nilai Dedi. Baca juga: Soal Pertemuan dengan Megawati, Gerindra: Prabowo Selalu Datang ke Senior Atas hal itu, Dedi juga melihat kemungkinan PDI-P akan bergabung ke koalisi pemerintahan Prabowo-Gibran jika benar peran Puan Maharani begitu besar. Jika demikian, menurut Dedi, kondisi pemerintahan ke depan yang dipimpin Prabowo, akan serupa dengan pemerintahan Jokowi. Bisa saja PDI-P berada di koalisi Prabowo, dan situasi rezim Prabowo akan serupa dengan Jokowi, di mana parlemen dikuasai pemerintah, pungkasnya. Sebagai informasi, menjelang perayaan Idul Fitri, kabar bakal bertemunya tokoh-tokoh politik semakin menguat. Ada dua tokoh yang digadang kuat bertemu, yaitu Megawati dan Prabowo. Namun dikabarkan pertemuan itu bakal didahului oleh Puan dan Prabowo. Dalam hal ini, Ketua DPP PDI-P Said Abdullah mengungkapkan bahwa Megawati yang menugaskan Puan untuk menjalin komunikasi dengan Prabowo. Jadi, dari satu poin dan dua poin itu, muaranya, Ibu menugaskan Mbak Puan memang untuk membangun komunikasi. Setelah membangun komunikasi, nanti Mbak Puan report, kata Said saat dihubungi, Senin (8\\u002f4\\u002f2024). Hasil report itulah yang akan menentukan Ibu ketua umum bertemu dengan Pak Prabowo, duduk bersama. Kan begitu, lanjutnya. \",\"Presiden Terpilih Prabowo Subianto tampak menghadiri puncak acara Hari Bhayangkara ke-78 di Monumen Nasional (Monas), Jakarta, Senin (1\\u002f7\\u002f2024) sore. Ia secara khusus disapa oleh Presiden RI Joko Widodo selaku inspektur upacara. Yang saya hormati ketua dan wakil ketua lembaga-lembaga tinggi negara, yang saya hormati Presiden Terpilih Republik Indonesia Bapak Prabowo Subianto, kata Jokowi, Senin. Seperti diketahui, Prabowo kemarin, Minggu (30\\u002f6\\u002f2024), mengumumkan bahwa dirinya menjalani operasi besar di Rumah Sakit Pusat Pertahanan Negara (RSPPN) Panglima Besar Soedirman, Bintaro, Jakarta Selatan, pekan lalu. Operasi ini berkaitan dengan cedera kaki yang dideritanya akibat kecelakan terjun payung saat bertugas di Timor Timur. Baca juga: Ruas Jalan Menuju Istiqlal Macet Imbas Perayaan HUT Bhayangkara di Monas Selain menyapa Prabowo, Jokowi juga menyapa Wakil Presiden Ke-10 dan Ke-12 RI Jusuf Kalla, hingga Istri Presiden ke-4 RI Abdurrahman Wahid atau Gus Dur, Sinta Nuriyah yang turut hadir di acara ini. Yang saya hormati, Ibu Negara Keempat Republik Indonesia Ibu Hajah Sinta Nuriyah Abdurrahman Wahid, Wakil Presiden ke-10 dan ke-12 Republik Indonesia, Bapak Haji Muhammad Jusuf Kalla, kata Jokowi selaku Inspektur Upacara.   Selain itu, hadir juga sejumlah para duta besar negara sahabat, para menteri Kabinet Indonesia Maju (KIM), Panglima TNI Jenderal Agus Subiyanto. Jokowi turut menyapa Kapolri Jenderal Listyo Sigit Prabowo serta sejumlah jajaran Korps Bhayangkara dan para purnawirawan. Saat membuka sambutannya, kepala negara memberi selamat atas hari jadi Polri yang ke 78. Baca juga: 1.274 Personel Polda Metro Jaya Naik Pangkat Saat HUT Bhayangkara ke-78 Saya ingin menyampaikan ucapan selamat Hari Bhayangkara yang ke-78 kepada seluruh keluarga besar Polri di mana pun saudara bertugas, ujar Jokowi. Selepas Jokowi memberikan sambutannya, acara kegiatan dilanjutkan dengan penampilan parade defile yang melantunkan lagu Koyo Jogja Istimewa. Kemudian serta atraksi terjun payung dengan ketinggian 6.000 kaki oleh sejumlah anggota Polri. Setelahnya, parade defile sekaligus memperlihatkan sejumlah kendaraan taktis. \",\"Presiden terpilih 2024-2029 sekaligus Menteri Pertahanan (Menhan) Prabowo Subianto mengungkapkan, dirinya menjalani operasi besar di Rumah Sakit Pusat Pertahanan Negara (RSPPN) Panglima Besar Soedirman, Jakarta Selatan, pada minggu lalu. Operasi itu dilakukan karena ia pernah dua kali kecelakaan ketika melaksanakan aksi terjun payung saat masih aktif sebagai prajurit TNI dulu. Kecelakaan itu, kata dia, membuat kaki kirinya cedera, sehingga membuat rasa sakitnya terus dirasakan hingga pada saat ini. Seperti sudah diketahui banyak pihak, saya pernah mengalami dua kali kecelakaan terjun payung saat bertugas di TNI pada tahun 80-an di kaki kiri saya, cedera ini selama ini masih saya rasakan, ujar Prabowo dalam keterangannya, Minggu (30\\u002f6\\u002f2024). Baca juga: Prabowo Jalani Operasi Besar di RSPPN Soedirman Pekan Lalu Usai menjalani operasi, Prabowo menyatakan dirinya siap beraktivitas kembali usai melakukan operasi terhadap cedera kaki kirinya itu. Insya Allah dengan kondisi sehat walafiat ke depan, saya semakin siap untuk berbakti dan mengabdi untuk negara dan rakyat Indonesia. Terima kasih kepada seluruh masyarakat atas doa dan dukungannya, tuturnya. Prabowo menyebut dirinya paham dan sadar bahwa operasi cedera kaki ini berisiko karena mengancam nyawanya. Namun, demi bangsa dan negara, Prabowo meyakini tim dokter pasti berhasil melakukan operasi. Baca juga: Jokowi Jenguk Prabowo Usai Jalani Operasi Cedera Kaki di RSPPN PB Soedirman Saya sadar dan paham bahwa tindakan medis yang saya jalani penuh dengan risiko dan pertaruhan nyawa, saya yakinkan diri bahwa semua ini untuk negara dan bangsa, saya juga yakin tim dokter dan seluruh tenaga medis yang menanganinya pun handal dan profesional, imbuh Prabowo. \",\"Juru Bicara Presiden Terpilih 2024-2029 Prabowo Subianto, Dahnil Anzar Simanjuntak memastikan, isu Prabowo akan menikahi mertua Kaesang Pangarep, Sofiatun Gudono adalah hoaks. Hoaks, ujar Dahnil saat dimintai konfirmasi, Rabu (1\\u002f5\\u002f2024). Dalam video yang beredar di media sosial, tampak narasi bahwa Prabowo akan menikah dengan Sofiatun Gudono. Baca juga: Ditolak Partai Gelora Gabung Koalisi Prabowo, PKS: Jangan Terprovokasi Prabowo dinarasikan bakal menikah dengan Sofiatun Gudono pada 20 Mei 2024. Adapun Prabowo telah terpilih menjadi presiden untuk periode 2024-2029. Prabowo saat ini tidak memiliki istri lantaran telah bercerai dengan anak Presiden ke-2 Soeharto, Titiek Soeharto. Meski demikian, belakangan, hubungan Prabowo dan Titiek tampak hangat. Titiek bahkan tersipu malu saat ditanya apakah dirinya bakal mendampingi Prabowo menjadi ibu negara. \",\"Survei Indikator Politik Indonesia menunjukkan, pemilih pasangan calon presiden dan calon wakil presiden nomor urut 2, Prabowo Subianto-Gibran Rakabuming Raka didominasi oleh generasi Z. Berdasarkan rilis exit poll Pilpres 2024 Indikator Politik Indonesia yang diterbitkan hari ini, 71 persen responden yang merupakan generasi Z atau anak muda berusia kurang dari 27 tahun memilih Prabowo-Gibran. Jumlah ini lebih banyak dibanding generasi Z yang memilih paslon nomor urut 1, Anies Baswedan-Muhaimin Iskandar sebanyak 19,7 persen responden dan paslon nomor urut 3, Ganjar Pranowo-Mahfud MD sebanyak 9,3 persen. Baca juga: Kata Kubu Anies dan Prabowo soal Ganjar Dorong Hak Angket Kecurangan Pemilu 2024 Berdasarkan usia atau generasi tampak cukup besar perbedaannya. Gen Z mayoritas di 71 persen dari pemilih usia Gen Z itu memilih Prabowo-Gibran, sementara hanya 19,7 saja yang memilih AMIN dan paling sedikit Gen Z yang memilih Ganjar-Mahfud 9,3 persen, kata Peneliti Utama Indikator, Rizka Halida dalam konferensi pers secara daring, Rabu (21\\u002f2\\u002f2024). Sementara itu, generasi milenial dengan rentang usia 28-43 tahun yang memilih Prabowo-Gibran jauh lebih kecil dibanding Gen Z. Totalnya, sebanyak 60,5 persen memilih Prabowo-Gibran, 26 persen memilih Anies-Muhaimin, dan 13,5 persen memilih Ganjar-Mahfud. Dua generasi ini, kata Rizka, menjadi penopang elektabilitas Prabowo-Gibran mampu menyentuh kisaran 56-58 persen versi hasil hitung cepat (quick count). Jadi dari dua segmen pemilih yang secara demografis besar mayoritas yang solid mendukung pasangan calon (nomor urut) 2 sehingga ini yang menyumbang elektabilitas paslon dua, ucap dia. Baca juga: Prabowo-Gibran Unggul dalam Pemungutan Suara Ulang di 2 TPS di Buleleng Bali Peneliti Utama Indikator lainnya, Hendro Prasetyo menyampaikan, jumlah pemilih Prabowo-Gibran menyusut seiring bertambahnya usia responden. Hal ini berbeda dengan pasangan Ganjar-Mahfud yang justru menguat di responden usia tua. Jumlah responden kategori Gen X di rentang usia 44-59 tahun yang memilih Prabowo-Gibran mencapai 50,6 persen. Jumlah ini jauh lebih kecil dibanding responden Gen Z dan milenial yang memilihnya. Jumlahnya kian menyusut pada kategori lebih tua (older) usia di atas 60 tahun dengan jumlah 47,1 persen. Sementara itu, responden kategori Gen X di rentang usia 44-59 tahun yang memilih Ganjar-Mahfud mencapai 20,9 persen. Jumlah ini jauh lebih besar dibanding responden Gen Z dan milenial yang memilihnya. Jumlahnya pun kian membesar pada kategori usia 60 tahun ke atas dengan total 28,4 persen. Menarik karena kita lihat pemilih Pak Prabowo dan Mas Gibran ini, terus turun (seiring dengan tingginya usia pemilih). Artinya pemilih mudanya lebih banyak. Sementara Mas Ganjar dan Pak Mahfud itu semakin tua pemilihnya kebanyakan, tutur Hendro. Baca juga: Real Count Sementara KPU: Prabowo-Gibran Unggul di 36 Provinsi, Sapu Bersih Pulau Jawa Adapun pemilih Anies-Muhaimin didominasi oleh Gen X dengan usia 44-59 tahun sebanyak 28,5 persen Survei ini dilakukan dengan metode stratified two-stage random sampling. Sampel diambil dari 3.000 Tempat Pemungutan Suara (TPS) yang tersebar secara proporsional di setiap daerah pemilihan. Responden terpilih dari tiap TPS itu diwawancara secara tatap muka. Ada 2.975 responden yang diwawancara dengan toleransi kesalahan atau margin of error 1,8 persen pada tingkat kepercayaan 95 persen. \",\"Wakil Ketua Tim Kampanye Nasional (TKN) Prabowo Subianto-Gibran Rakabuming Raka, Immanuel Ebenezer (Noel) mengatakan pertemuan antara capres pemenang Pemilu 2024 Prabowo dan Ketua Umum PDI-P Megawati Soekarnoputri sudah terjadwal. Noel menyebut jadwal pertemuan itu sudah ada di atas meja Prabowo. Soal pertemuan Bu Mega sepertinya ada. Soal ini (waktu pastinya) aku belum dapat info kapannya. Tapi pertemuan itu sudah terjadwal dan sudah di atas mejanya Prabowo, ujar Noel saat dimintai konfirmasi Kompas.com, Senin (8\\u002f4\\u002f2024). Baca juga: Hasto Sebut Puan Akan Jadi Ketua DPR Selanjutnya Sesuai Arahan Megawati Noel menjelaskan, hingga detik ini, belum ada hambatan apa pun yang bisa menghalangi pertemuan Prabowo-Megawati. Dia menyebut perbedaan sikap politik di Pilpres 2024 juga tidak menghalangi pertemuan kedua tokoh tersebut. Malahan, kata Noel, yang tidak menginginkan pertemuan Prabowo-Megawati hanyalah Sekjen PDI-P Hasto Kristiyanto. Yang galau itu hanya Hasto dan kawan-kawannya. Dan Hasto akan berusaha agar pertemuan Bu Mega dan Prabowo jangan sampai terealisasi, tuturnya. Hasto punya kepentingan agar kedua tokoh ini jangan sampai ketemu, sambung Noel. Baca juga: Megawati-Prabowo Bakal Bertemu, PDI-P Berpotensi Merapat ke Koalisi Gerindra Sementara itu, Noel meyakini Prabowo pasti mengajak PDI-P bergabung ke pemerintahan Prabowo-Gibran saat bertemu Megawati. Dia mengingatkan bahwa PDI-P adalah partai besar. Bisa saja itu terjadi. Karena biar bagaimanapun, PDI-P partai besar. Dan akan diajak (gabung pemerintah) untuk kerja-kerja besar buat bangsa ini, imbuhnya.  \",\"Presiden RI terpilih Prabowo Subianto mengaku, dirinya mencalonkan diri sebagai presiden pada Pemilu 2024 karena didukung oleh Presiden Joko Widodo. Waktu saya ditanya saya mau maju atau tidak 2024, ini saya terang-terangan mengatakan, saya maju apabila saya direstui dan didukung oleh Pak Joko Widodo, kata Prabowo dalam acara Halalbihalal Pengurus Besar Nahdlatul Ulama (PBNU) di Jakarta, Minggu (28\\u002f4\\u002f2024). Prabowo mengungkap, dirinya telah dipersiapkan oleh Jokowi. Menteri Pertahanan itu tak malu-malu mengakui bahwa ia belajar dari Kepala Negara. Menurut Prabowo, Jokowi sosok yang sangat teliti. Ia pun tak merasa heran dikalahkan oleh mantan Gubernur DKI Jakarta tersebut pada dua kali pemilu presiden (pilpres), yakni 2014 dan 2019. Baca juga: Gelora Tolak PKS Gabung Prabowo-Gibran, Sebut Beda Ideologis dan Sikap Politik Beliau sangat teliti. Mungkin karena itu saya kalah dua kali sama beliau, ujar Prabowo diikuti tawa para hadirin. Tapi saya juga tidak kalah akal. Kalau dua kali kalah, lebih baik kita belajar dari yang menang. Saya merasa saya disiapkan benar-benar, lanjutnya. Usai gelaran Pilpres 2024, Prabowo pun mengaku semakin akrab dengan Jokowi. Ketua Umum Partai Gerindra itu bilang, Presiden kini memanggilnya dengan sebutan Mas Bowo, bukan lagi Menteri Pertahanan. Kemarin-kemarin saya masih dipanggil Menhan (Menteri Pertahanan), kan sekarang sudah lebih akrab, Mas Bowo, kata Prabowo, lagi-lagi mengundang tawa para hadirin. Prabowo juga mengungkap, Jokowi kian sering memerintahkannya untuk melawat ke luar negeri, mulai dari ke Tiongkok, Jepang, hingga negara timur tengah. Mas Bowo nanti harus berangkat ke sini, ketemu ini, kata Prabowo meniru ucapan Jokowi. Siap, Pak, siap. Benar, saya ke Tiongkok atas petunjuk beliau, ke Jepang. Sekarang saya diperintahkan untuk ke timur tengah, sangat penting, ujarnya. Sebagai presiden terpilih, Prabowo pun berjanji untuk melanjutkan pemerintahan Jokowi. Menteri Pertahanan tersebut menyadari bahwa pemerintahan Jokowi belum sepenuhnya berjalan baik. Untuk itu, diperlukan perbaikan dan inovasi yang cepat dalam berbagai hal. Prabowo berjanji bakal memberi solusi terhadap tuntutan dan tantangan yang dihadapi oleh bangsa dan rakyat ke depan. Strategi dan program yang sudah dirintis oleh Pak Joko Widodo dan pemerintahan beliau kami anggap adalah landasan fondasi yang sangat kuat dan kami akan membangun di atas fondasi itu, tuturnya. Baca juga: Puja-puji Jokowi, Prabowo: Saya Kalah Dua Kali, Makanya Belajar dari yang Menang Sebagaimana diketahui, Prabowo Subianto-Gibran Rakabuming Raka ditetapkan sebagai presiden dan wakil presiden terpilih RI masa jabatan 2024-2029 oleh KPU RI pada Senin (22\\u002f4\\u002f2024). Pasangan ini memenangi Pilpres 2024 dengan perolehan 96.214.691 suara atau sekitar 58,58 persen dari seluruh suara sah nasional. Sementara, pasangan capres-cawapres nomor urut 1, Anies Baswedan-Muhaimin Iskandar, mengekor di urutan kedua dengan raihan 40.971.906 suara atau sekitar 24,95 persen. Di urutan buntut, capres-cawapres nomor urut 3, Ganjar Pranowo-Mahfud MD, menghimpun 27.040.878 suara atau sekitar 16,47 persen dari seluruh suara sah nasional. Meski begitu, Prabowo-Gibran belum resmi menjadi presiden dan wakil presiden RI. Menurut jadwal, pelantikan keduanya bakal digelar pada 20 Oktober 2024. \",\"Presiden terpilih 2024-2029 Prabowo Subianto tengah mempertimbangkan pembentukan kementerian khusus untuk mengurusi program makan bergizi gratis. Kita sedang pikirkan, apakah itu (program makan bergizi gratis) perlu kementerian khusus atau cukup badan saja. Yang penting adalah skemanya, sistemnya, sampai terwujud, sampai ke anak itu dengan tepat, ujar Prabowo dalam keterangannya, Jumat (24\\u002f5\\u002f2024). Pertimbangan untuk membentuk kementerian khusus itu muncul demi menghindari potensi kebocoran anggaran program tersebut. Ada fenomena sebagai anak bangsa bahwa sadar semua terjadi banyak kebocoran di bangsa kita. Nah, ini sekarang bagaimana kita membuat skema dengan efisien dengan baik, tidak ada kebocoran sampai ke anak-anak kita, tutur dia.  Baca juga: Persilakan Rakyat Kritik Pemerintahannya, Prabowo: Tapi yang Obyektif Prabowo melanjutkan, terkait pembagian susu gratis bagi anak-anak di seluruh Indonesia, akan dijalankan sesuai tipologi daerah masing-masing. Ia mencontohkan salah satu daerah di Maluku Barat Daya, yakni Pulau Moa yang kerap memproduksi air susu dari kerbau. Sehingga tidak sulit untuk mendapat produksi susu yang dapat dijangkau anak-anak di wilayah Moa. Dan masalah susu ya. Kita akan lihat ternyata tergantung daerahnya sebagai contoh Maluku Barat Daya, Pulau Moa, mereka itu banyak kerbau susu, kerbau di sana ada, cukup susu kerbau. Ada juga daerah-daerah yang banyak kambing etawa, bisa dapat susu kambing dan ini kita harus lihat, kata Prabowo. Sedangkan di daerah lain yang sulit mendapatkan sumber susu, akan difokuskan dengan pemerataan pembagian bahan pangan bergizi lain, misalnya ikan dan telur.  Baca juga: Pidato Megawati di Rakernas Dinilai Jadi Isyarat PDI-P Bakal Jadi Oposisi Prabowo Kalau lihat protein yang ada di susu, ternyata protein dan mineral dan zat-zat yang ada di telur itu lebih baik daripada susu. Para pakar cerita kepada saya dan telur kita jatuhnya bisa lebih murah bahwa di suatu daerah susu itu terlalu mahal ya kita konsentrasi kepada telur, kepada ikan, dan sebagainya, papar dia. Maka dari itu, Prabowo menekankan bahwa pembagian makanan bergizi dan juga susu gratis kepada anak-anak di Indonesia akan bersifat fleksibel dan disesuaikan dengan tipologi daerah masing-masing. Jadi, kita harus menyesuaikan rencana kita dengan tipologi dan kondisi daerah yang berbeda-beda. Kita jangan satu pola disamaratakan di Indonesia, ada daerah pegunungan, ada daerah pesisir, ada pulau. Jadi, kita harus selalu fleksibel, yang penting anak-anak kita dapat makanan bergizi. Saya kira itu tujuan kita, imbuh Prabowo. \",\"Calon Presiden nomor urut dua, Prabowo Subianto, meyakini bahwa Indonesia akan menjadi negara maju dan negara yang produktif sehingga tidak menjadi pasar untuk bangsa lain. Tujuannya adalah Indonesia menjadi negara maju yang akan menjadi negara produktif, bukan pasar untuk negara lain, tuturnya di Gedung Dewan Pers, Kamis (4\\u002f1\\u002f2024). Hal itu dia sampaikan saat hadir sebagai pembicara dalam Dialog Pers dengan Capres yang diselenggarakan oleh Persatuan Wartawan Indonesia (PWI), Kamis. Prabowo mengatakan, Indonesia kaya akan sumber daya alam yang melimpah dan bisa diolah di dalam negeri oleh anak bangsa sendiri. Kita harus bikin mobil sendiri, motor kita sendiri, komputer kita sendiri, air conditioner kita sendiri, semua kita produksi di Indonesia. Sebab, kita punya bahan bakunya di Indonesia, ujarnya dalam siaran pers.  Baca juga: TKN: Tema Debat Ketiga Pak Prabowo Banget, Kami Percaya Diri Dia mengatakan, untuk mewujudkan tersebut, meningkatkan kecerdasan sumber daya manusia (SDM) adalah hal penting.  Salah satu upaya peningkatan kecerdasan SDM Indonesia adalah melalui pemberian gizi yang cukup dan sehat. Indonesia akan mencapai tujuan tujuannya pertumbuhan, pertumbuhan menciptakan lapangan kerja, perbaikan gizi akan menimbulkan perbaikan kesehatan untuk semua, peningkatan kecerdasan otot dan otak dan tulang yang kuat Indonesia bisa bersaing, jelasnya. Lebih lanjut, Prabowo mengatakan, perbedaan merupakan hal yang biasa dalam berdemokrasi.  Menteri Pertahanan (Menhan) itu menyebutkan, berbagai negara di dunia tengah menghadapi konflik, tetapi Indonesia tetap damai dan stabil. Baca juga: Enggan Ikuti Anies dan Mahfud, TKN: Belum Ada Urgensi Prabowo Live TikTok Menurutnya, Indonesia harus terus bersatu agar selalu dalam keadaan damai agar tidak terciptanya perpecahan yang mengakibatkan instabilitas di dalam negeri. Perdamaian tidak jatuh dari langit. Ini yang saya mengimbau, marilah kita sadar, apa pun latar belakang kita, apa pun visi kita, bahwa kita berbeda itu biasa, dalam demokrasi perbedaan itu biasa, ucapnya. Prabowo menilai, kondisi dalam negeri yang tidak stabil akan membawa dampak buruk terhadap seluruh aspek kehidupan, salah satunya adalah percepatan pembangunan dan ekonomi akan terhambat. Dengan stabilitas, dengan perdamaian baru kita bisa membangun. Intinya negara kita sangat kaya, kekayaan kita luar biasa, kata Prabowo. Ketua Umum (Ketum) Partai Gerindra itu mengatakan, selain terjaganya perdamaian, upaya untuk mencapai itu adalah melalui hilirisasi. Dia mengatakan, hilirisasi menjadi salah satu kunci utama dari kemakmuran bagi masyarakat Indonesia ke depan. Baca juga: TKN Prabowo-Gibran: Pertahanan Negara Bukan Cuma Militer, tapi Juga Ketahanan Pangan dan Energi Ini misi saya, ini perjuangan saya. Inti dari strategi pembangunan saya adalah pengelola menjaga kekayaan kita dan meneruskan hilirisasi, melanjutkan semua yang sudah dibangun pendahulu kita, terutama Pak Joko Widodo (Jokowi), ucap Prabowo. \",\"Wakil Ketua Umum Partai Gerindra Habiburokhman mengatakan Presiden terpilih 2024-2029 Prabowo Subianto mengalami kecelakaan ketika terjun payung di Timor Timur pada tahun 80-an silam. Habiburokhman mengatakan, akibat dari kecelakaan tersebut baru muncul puluhan tahun kemudian. Walhasil, Prabowo pun menjalani operasi cedera kaki kiri di Rumah Sakit Pusat Pertahanan Nasional Panglima Besar Soedirman, Jakarta Selatan. Bukan sakit. Jadi memang beliau ada cedera, puluhan tahun yang lalu, tahun 80-an ketika terjun payung kemungkinan di Timor Timur, cedera. Cedera seperti itu memang katanya, enggak bisa tuntas begitu saja. Beberapa puluh tahun kemudian katanya bisa timbul akibat, ujar Habiburokhman di Gedung DPR, Senayan, Jakarta, Senin (1\\u002f7\\u002f2024). Baca juga: 5 Fakta Operasi Besar Prabowo: Cedera Kaki karena Terjun Payung hingga Siap Beraktivitas Habiburokhman menjelaskan, prajurit TNI lain juga mengalami cedera serupa. Dia menegaskan akibat dari kecelakaan itu baru muncul ketika sudah tua. Ini yang terjadi pada Prabowo dan banyak sekali prajurit-prajurit kita yang telah bertugas di Timor Timor, di Papua, di medan yang sulit. Baru muncul lagi akibat karena kecelakaan tersebut berpuluh-puluh tahun di hari tuanya, tuturnya. Sementara itu, Habiburokhman menyebut Prabowo dalam kondisi yang baik saat ini. Sebelumnya, Prabowo memberi kabar kepada publik bahwa dirinya telah sukses menjalani operasi besar, yakni operasi untuk cedera kaki kirinya. Adapun operasi itu dilaksanakan di Rumah Sakit Pusat Pertahanan Negara (RSPPN) Panglima Besar Soedirman, Bintaro, Jakarta Selatan, sekitar satu minggu yang lalu. Baca juga: Jenguk Prabowo Pascaoperasi, Jokowi: Mari Doakan Proses Pemulihan Tim dokter yang menangani operasi Prabowo ialah Brigjen TNI Purn dr Robert Hutauruk, Kolonel dr Sunaryo, dr Siska Widayati, dan dr Thomas. Menurut Prabowo, tim dokter dan tenaga medis dari RSPPN Panglima Besar Soedirman berhasil melaksanakan operasi cedera kaki terhadap dirinya dengan baik. Prabowo menyatakan dirinya siap kembali beraktivitas usai kaki kirinya dioperasi. Saya ucapkan syukur alhamdulillah kepada Allah SWT atas keberhasilan tindakan operasi besar yang dilakukan kepada saya, ujar Prabowo dalam keterangannya, Minggu (30\\u002f6\\u002f2024) malam. \",\"Sekretaris Jenderal (Sekjen) Partai Gerindra Ahmad Muzani merespons apakah Presiden terpilih 2024-2029 Prabowo Subianto akan mengangkat mantan capres di Pilpres 2024, yakni Anies Baswedan dan Ganjar Pranowo sebagai menteri atau tidak. Muzani menegaskan hal tersebut merupakan hak prerogatif Prabowo sebagai presiden terpilih. Pertanyaannya, apakah Pak Prabowo juga akan mengangkat capres yang berbeda dengan beliau seperti Anies dan Ganjar? Yang punya hak prerogatif adalah beliau, saya belum pernah mendengar, ujar Muzani di Gedung DPR, Senayan, Jakarta, Selasa (25\\u002f6\\u002f2024). Muzani enggan merespons isu mengenai koalisi pendukung Prabowo menawarkan kursi menteri ke Anies supaya tidak maju di Pilkada Jakarta 2024. Baca juga: Prabowo Disebut Setuju Presiden Dipilih MPR Lagi, Gerindra: Masih Konsentrasi Pelantikan Presiden Yang pasti, kata Muzani, Prabowo selalu mencari persamaan untuk bergotong-royong, meski beda pilihan politik. Pak Prabowo adalah presiden terpilih yang akan dilantik tanggal 20 Oktober yang akan datang. Beliau selalu mencari persamaan cara pandang yang bisa memperkuat persatuan dan persamaan gotong-royongan, meskipun pada pilihan politik yang berbeda, tuturnya. Maka dari itu, Muzani menekankan, Prabowo tidak memiliki halangan untuk mengangkat siapapun menjadi 'pembantu' dalam kabinet ke depan. Dia lantas mengungkit Presiden Joko Widodo (Jokowi) yang malah mengangkat Prabowo sebagai Menteri Pertahanan di tahun 2019. Baca juga: Gerindra: Prabowo Tidak Cerita Anies Ingin Bertemu Beliau Padahal, Prabowo dan Jokowi merupakan rival di Pilpres 2019. Itu sudah dicontohkan oleh Pak Jokowi di tahun 2019. Situasi politik bisa menjadi reda, politik bisa menjadi adem, keguyuban, kebersamaan, kegotong-royongan, kerukunan bisa tercipta. Dan Pak Prabowo ingin menciptakan itu, imbuh Muzani. \",\"Mantan istri Prabowo Subianto, Titiek Soeharto, turut hadir dalam penetapan mantan suaminya itu sebagai presiden terpilih hasil Pilpres 2024 di kantor KPU RI, Rabu (24\\u002f4\\u002f2024). Didampingi Didiet Hediprasetyo, putra semata wayang mereka berdua hasil pernikahannya dengan Prabowo, Titiek tersipu saat ditanya apakah siap menjadi Ibu Negara. Saat ditanya seperti itu, Titiek tampak tersenyum dan langsung memalingkan wajahnya untuk masuk ke dalam mobil. Hubungan Titiek dan Prabowo belakangan kian disorot lantaran keduanya sering tampil akrab dan hangat bersama Didiet. Titiek beberapa kali memamerkan momen itu. Baca juga: Momen Prabowo Buka Puasa Hari Pertama Bareng Titiek Soeharto dan Didit Pada 14 April lalu, misalnya, dia mengunggah ke Instagram foto khusus saat disuguhi kue ulang tahun oleh Prabowo yang hadir pada acara syukurannya. Ia juga mengunggah foto kehangatannya dengan Prabowo pada 20 Maret, ketika KPU mengumumkan Prabowo sebagai capres dengan perolehan suara terbanyak pada Pilpres 2024. Selebihnya, masih banyak foto bertebaran yang diunggah Titiek yang menampilkan kehangatan antara dirinya, Prabowo, dengan Didiet. Status keduanya Status pernikahan Prabowo dan Titiek termuat di dalam dokumen pencalonan masing-masing yang didaftarkan ke KPU RI. Selain Prabowo yang maju capres, Titiek juga maju sebagai calon anggota legislatif (caleg) DPR RI pada daerah pemilihan DI Yogyakarta. Perempuan bernama asli Siti Hediati itu dipastikan meraih kursi DPR RI berdasarkan hasil rekapitulasi penghitungan suara, Sabtu (9\\u002f3\\u002f2024). Titiek yang juga kader partai besutan Prabowo, Gerindra, itu meraup 145.489 suara sekaligus menjadikannya caleg Partai Gerindra dengan coblosan terbanyak. Sementara itu, Gerindra sendiri mengantongi 272.165 suara seantero Yogyakarta, sehingga hanya berhak atas satu kursi di Senayan yang menjadi jatah Titiek. Baca juga: Penetapan Presiden di KPU: Prabowo Mesra dengan Anies, Titiek Malu-malu Jadi Ibu Negara Di dalam dokumen pendaftaran Prabowo sebagai capres 2024-2029, status pernikahan Menteri Pertahanan itu tertulis pernah. Sementara itu, Titiek hanya menulis huruf P dalam kolom yang sama dokumen pendaftarannya sebagai caleg DPR RI, yang berarti pernah. Kisah cinta Dikutip pemberitaan Kompas.com pada 22 Desember 2023, hubungan Prabowo Subianto dan Titiek Soeharto berawal dari sebuah perkenalan. Titiek Soeharto merupakan murid dari Sumitro Djojohadikusumo, ayah Prabowo Subianto. Dari pertemuan inilah akhirnya Prabowo dan Titiek Soeharto menjalani sebuah hubungan romantis. Mengetahui sang putra berpacaran dengan Titiek Soeharto, Sumitro berpesan kepada anaknya untuk serius dalam menjalani hubungannya. Pada akhirnya, Prabowo Subianto dan Titiek Soeharto menikah pada Mei 1983. Baca juga: Prabowo Nyanyi Pertemuan di Depan Titiek Soeharto: Sudah Presiden Terpilih, Harus Tepuk Tangan walau Suara Jelek Dari pernikahan ini, mereka dianugerahi seorang putra semata wayang bernama Ragowo Hediprasetyo atau yang akrab disapa Didiet Prabowo. Sayangnya, pernikahan Prabowo dan Titiek hanya bertahan 15 tahun. Mereka memutuskan bercerai pada Mei 1998. Usut punya usut, perceraian keduanya disebabkan oleh memburuknya hubungan keluarga yang dibumbui oleh isu politik. Sebab, berdasarkan dari isu yang beredar, Prabowo Subianto dituding mengkhianati Soeharto, sang mertua. Seperti yang tercatat dalam sejarah, pada Mei 1998, kerusuhan besar-besaran terjadi. Bahkan, Prabowo Subianto juga dituding membiarkan para mahasiswa menduduki Gedung MPR\\u002fDPR dalam rangkaian Kerusuhan Mei 1998 yang terjadi. Disebutkan bahwa pada saat itu Titiek Soeharto hanya menangis melihat sang suami dituduh mengkhianati Soeharto. Namun, terlepas dari berbagai kabar burung yang beredar, tidak dapat dipastikan secara pasti apa penyebab perceraian antara Prabowo Subianto dan Titiek Soeharto. Tudingan yang dilemparkan kepada Prabowo pada 1998 juga belum terbukti benar atau salahnya. \",\"Calon presiden (capres) nomor urut 2, Prabowo Subianto, menyampaikan sejumlah gagasan mengenai upaya pemberantasan korupsi. Ia menyinggung soal perbaikan kualitas hidup penyelenggara negara, pemberian sanksi terhadap pejabat yang tak patuh Laporan Harta Kekayaan Penyelenggara Negara (LHKPN), hingga komitmen para pemimpin. Ini disampaikan Prabowo dalam acara Penguatan Antikorupsi untuk Penyelenggara Negara Berintegritas (Paku Integritas) yang digelar Komisi Pemberantasan Korupsi (KPK), Rabu (17\\u002f1\\u002f2024). Menurut Prabowo, pemberantasan korupsi tidak cukup dengan pendekatan pendidikan, pencegahan dan penindakan. Pemberantasan korupsi harus dilakukan secara sistemik dan realistis. Pendekatan sistemik dan realistis itu, kata dia, bisa diwujudkan dengan perbaikan kualitas hidup penyelenggara negara yang mengendalikan roda pemerintahan, terutama yang memegang anggaran besar. Kualitas hidupnya ini harus dijamin dan diperbaiki, kata Prabowo di Gedung KPK, Jakarta. Baca juga: TKN: Prabowo Akan Perhatikan Isu Pajak Hiburan Khusus yang Naik 40-75 Persen Prabowo mencontohkan hakim di sejumlah negara maju seperti Amerika dan Inggris. Di negara-negara tersebut, kata dia, hakim dijamin kesejahteraannya selama hidup, bahkan hingga meninggal dunia. Di negara maju pula, Ketua Mahkamah Agung menjadi pejabat negara yang gajinya paling tinggi dan rumah dinasnya lebih besar dari menteri. Hakim-hakim itu dijamin penghasilannya begitu besar sehingga bisa dikatakan dia tidak ada insentif untuk korupsi sama sekali. Ini saya anggap pendekatan sistemik dan pendekatan realistis, ujar Prabowo. Prabowo mengaku heran, di Indonesia, gaji direksi perusahaan swasta dan BUMN jauh lebih besar ketimbang Panglima TNI, menteri, dan direktur jenderal (dirjen) pemerintahan yang memegang anggaran negara triliunan rupiah. Padahal, menurutnya, jika gaji penyelenggara negara ditingkatkan dan kualitas hidupnya diperbaiki, angka korupsi dapat ditekan. Jadi kita perbaiki kualitas hidup, kita tingkatkan gaji-gaji semua pejabat, semua penyelenggara negara. Kita mampu, saya sudah hitung dengan tim pakar saya, Indonesia negara kaya, bukan negara miskin, kata Prabowo. Prabowo juga ingin menaikkan pangkat pejabat kementerian, khususnya yang bertanggung jawab mengendalikan anggaran dan kontrak-kontrak besar. Menteri Pertahanan tersebut mencontohkan, di kementerian yang ia pimpin, ada pejabat yang sehari-harinya menangani kontrak dan dana triliunan rupiah, pangkatnya sama dengan pejabat yang tanggung jawab kerjanya tak sebesar itu. Prabowo mengaku telah mengajukan kenaikan pangkat untuk pejabat yang menangani anggaran besar tersebut sejak 3 tahun lalu. Namun, hingga saat ini belum terealisasi. \",\"Lembaga Survei Indonesia (LSI) merilis hasil survei teranyar soal korelasi antara penerima bantuan sosial (bansos) pemerintah dengan dukungan terhadap kandidat di pemilihan presiden (Pilpres) 2024. Survei pascapemilu (post-election survey) ini dilakukan LSI pada 19-21 Februari 2024. Hasilnya, sebanyak 24,8 persen responden mengaku menerima bansos dari pemerintah. Dari jumlah itu, 69,3 persen mengaku mencoblos calon presiden dan calon wakil presiden (capres-cawapres) nomor urut 2, Prabowo Subianto-Gibran Rakabuming. Di kalangan penerima bansos, dukungannya paling banyak kecenderungannya ada pada pasangan 02, kata Direktur Eksekutif LSI, Djayadi Hanan, dalam rilis temuan LSI pada Minggu (24\\u002f2\\u002f2024), secara daring. Baca juga: Jokowi Ungkap Alasan Pemerintah Bagi-bagi Bansos Beras Sementara itu, ada 54 persen responden yang mengaku tidak menerima bansos yang mendukung Prabowo-Gibran. Tingkat dukungan masyarakat yang mengaku tidak menerima bansos terhadap 02 itu lebih rendah dibanding dengan (dukungan) masyarakat yang menerima bansos kepada 02, ujar Djayadi. Lebih lanjut, dia mengatakan, hal sebaliknya terjadi pada pasangan capres-cawapres lain. Capres-cawapres nomor urut 1 dan 3, Anies Baswedan-Muhaimin Iskandar dan Ganjar Pranowo-Mahfud MD, lebih banyak menerima dukungan dari non-penerima bansos. Proporsi penerima bansos yang mendukung Anies-Muhaimin lebih sedikit, yakni 17,6 persen, dibandingkan dengan pemilih mereka yang tidak menerima bansos sebesar 28,2 persen. Baca juga: LSI: Kepuasan Publik Terkait Pemilu 2024 Turun 10,9 Persen sejak Pemungutan Suara Digelar Hal yang sama juga terjadi pada pasangan calon (paslon) nomor urut 3, Ganjar-Mahfud. Proporsi penerima bansos yang mencoblos Ganjar-Mahfud di bawah para pendukung yang tidak menerima bansos, yakni 13,1 berbanding 17,8 persen. LSI menyebutkan, target populasi survei ini adalah warga negara Indonesia yang berusia 17 tahun ke atas atau sudah menikah dan memiliki telepon\\u002fponsel. Jumlahnya sekitar 83 persen dari total populasi nasional. Pemilihan sampel dilakukan melalui metode random digit dialing (RDD) atau teknik memilih sampel melalui proses pembangkitan nomor telepon secara acak. Dengan teknik RDD, sampel sebanyak 1.211 responden dipilih melalui proses pembangkitan nomor telepon secara acak, validasi, dan screening. Margin of error survei diperkirakan lebih kurang 2,9 persen pada tingkat kepercayaan 95 persen. LSI mengeklaim wawancara dengan responden dilakukan lewat telepon oleh pewawancara yang dilatih. Baca juga: Survei LSI: Tingkat Keyakinan Masyarakat Pemilu 2024 Jurdil Turun Drastis Sepekan sejak Pencoblosan \",\"Kekayaan presiden terpilih, Prabowo Subianto mencapai Rp 2.042.682.732.691 atau Rp 2 triliun. Kekayaan itu tercantum dalam Laporan Harta Kekayaan Penyelenggara Negara (LHKPN) yang disampaikan ke Komisi Pemberantasan Korupsi (KPK) untuk keperluan pencalonan presiden tahun 2024. Kekayaan Prabowo didominasi surat berharga dengan nilai mencapai Rp 1.701.879.000.000 atau Rp 1,7 triliun. Baca juga: Titiek Soeharto Tersipu Saat Ditanya Kemungkinan Dampingi Prabowo Pada umumnya, kolom surat berharga dalam LHKPN berisi kepemilikan saham di sejumlah perusahaan. Komponen kekayaan Prabowo paling banyak lainnya adalah 10 aset lahan dan bangunan dengan nilai Rp 275.320.450.000 atau Rp 275 miliar. Di antara aset properti itu, terdapat lahan dan bangunan seluas 8.365 meter persegi\\u002f2.175 meter persegu di Jakarta Selatan dengan nilai Rp 158.491.875.000. Selain properti, Prabowo melaporkan kepemilikan 8 alat transportasi dan mesin senilai Rp 1.258.500.000. Baca juga: Jadi Presiden Terpilih, Prabowo Terima Kasih ke Anies-Muhaimin dan Ganjar-Mahfud Banyak mobil Prabowo merupakan Jeep, mulai dari tahun 1992, 1994, hingga 2002. Kemudian, Prabowo melaporkan kepemilikan harta bergerak lain senilai Rp 16.415.023.500 serta kas dan setara kas senilai Rp 47.809.759.191. Karena tidak memiliki utang, Prabowo memiliki kekayaaan Rp 2.042.682.732.691. Sebelumnya, Komisi Pemilihan Umum (KPU) resmi menetapkan Prabowo Subianto dan Girban Rakabuming Raka sebagai presiden dan wakil presiden terpilih untuk periode 2024-2029. Penetapan dilakukan setelah Mahkamah Konstitusi menolak gugatan hasil Pilpres 2024 yang diajukan dua kandidat lain, Anies Baswedan-Muhaimin Iskandar dan Ganjar Pranowo-Mahfud MD. KPU menetapkan calon presiden dan wakil presiden nomor urut dua, Prabowo Subianto dan Gibran Rakabuming Raka sebagai pasangan calon presiden dan wakil presiden terpilih periode tahun 2024-2029 dalam Pemilihan Umum 2024 dengan perolehan suara sebanyak 96.214.691 suara atau 58,59 persen dari total suara sah nasional dan memenuhi sedikitnya 20 persen suara di setiap provinsi yang tersebar di 38 provinsi, kata Ketua KPU RI Hasyim Asy'ari di kantor KPU RI, Menteng, Jakarta Pusat. \",\"Sekretaris Tim Kampanye Nasional (TKN) Prabowo Subianto-Gibran Rakabuming Raka, Nusron Wahid membantah Prabowo-Gibran sering absen di acara dialog terbuka karena ketakutan. Nusron menegaskan tidak ada yang menakutkan dari acara dialog terbuka. Takut apa? Enggak ada sesuatu yang menakutkan. Takut ngapain, ujar Nusron saat ditemui di Cibubur, Jakarta Timur, Senin (27\\u002f11\\u002f2023) malam. Nusron memberi penjelasan alasan Prabowo-Gibran tidak menghadiri semua undangan debat. Menurutnya, jika semua ide dikeluarkan sejak sekarang, maka tidak ada kejutan lagi saat debat resmi di KPU. Baca juga: TKN: Prabowo-Gibran Tidak Kampanye Besok, Tetap Kerja Begini ya, kalau yang mengadakan KPU pasti kita akan hadiri semua. Kalau semua ide-ide kita keluarkan hari ini, nanti kita enggak ada surprise-nya nanti di KPU, tuturnya. Nusron mengatakan, masih ada ide-ide yang sengaja mereka tampung dan tahan terlebih dahulu untuk dikeluarkan di debat resmi KPU. Politikus Partai Golkar ini pun mempertanyakan banyak lembaga swasta yang melakukan peran seperti KPU. Yang berhak dihadiri untuk mengadakan debat kan KPU, tukas Nusron. Sementara itu, Nusron mengatakan Prabowo-Gibran pasti hadir jika waktunya sesuai. Baca juga: Catatan Kehadiran 3 Capres-Cawapres di Acara Diskusi Terbuka Jika ada janji lain, maka bisa saja undangan acara dialog terbuka tidak dihadiri. Kalau bukan KPU ya kalau kita pas cocok, waktunya tepat, ya kita hadiri. Kalau enggak cocok dan enggak pas ya karena sudah kadung ada janji dengan yang lain, ya kita dahulukan dengan janji yang lain. Tapi kalau KPU didebat pasti akan kita hadiri, imbuhnya. Berdasarkan penelusuran Kompas.com, acara diskusi terbuka itu tak selalu dihadiri ketiga pasangan calon. Ketimbang Anies-Muhaimin dan Ganjar-Mahfud, Prabowo-Gibran paling sering absen dalam forum diskusi terbuka. Sedikitnya, sejak akhir Agustus hingga akhir November 2023, ada 15 acara diskusi terbuka yang diselenggarakan berbagai pihak untuk memfasilitasi para capres-cawapres adu gagasan. Dari jumlah tersebut, Prabowo tercatat sembilan kali tak memenuhi undangan. Sementara, Anies dan Ganjar masing-masing satu kali mangkir. Namun, absennya tim Prabowo-Gibran bukan tanpa alasan. Komandan Tim Fanta (Pemilih Muda) Prabowo-Gibran, Arief Rasyid, mengatakan, Prabowo-Gibran memiliki agenda yang padat. Sebagai capres dan cawapres, Prabowo-Gibran harus berkeliling ke berbagai daerah. Sehingga, keduanya tak selalu punya waktu untuk menghadiri undangan diskusi terbuka. \",\"Presiden Joko Widodo menjenguk presiden terpilih sekaligus Menteri Pertahanan, Prabowo Subianto, usai menjalani operasi besar di Rumah Sakit Pusat Pertahanan Negara (RSPPN) Panglima Besar Soedirman, Bintaro, Jakarta. Prabowo pun bersyukur Jokowi dapat menjenguknya. Terima kasih kepada Presiden RI @jokowi yang sudah memberikan dukungan moril dan doa, ujar Prabowo dalam keterangannya, Minggu (30\\u002f6\\u002f2024). Adapun Prabowo menjalani operasi besar atas cedera kaki yang dialaminya semasa masih bertugas sebagai prajurit TNI.  Ada sejumlah dokter yang menangani proses operasi tersebut, di antaranya Brigjen TNI Purn dr Robert Hutauruk, Kolonel dr Sunaryo, dr Siska Widayati, dr Thomas. Saya sadar dan paham bahwa tindakan medis yang saya jalani penuh dengan resiko dan pertaruhan nyawa, saya yakinkan diri bahwa semua ini untuk negara dan bangsa, saya juga yakin tim dokter dan seluruh tenaga medis yang menanganinya pun handal dan profesional, tuturnya. Sementara itu, Prabowo menegaskan dirinya sudah dalam kondisi sehat walafiat untuk kembali beraktivitas. Baca juga: Prabowo Jalani Operasi Besar di RSPPN Soedirman Pekan Lalu Dia menyampaikan rasa terima kasihnya kepada masyarakat yang telah mendoakannya. Insya Allah dengan kondisi sehat walafiat ke depan saya semakin siap untuk berbakti dan mengabdi untuk negara dan rakyat Indonesia. Terima kasih kepada seluruh masyarakat atas doa dan dukungannya, imbuh Prabowo. \",\"Presiden terpilih 2024-2029 sekaligus Menteri Pertahanan (Menhan) mengabarkan bahwa dirinya telah selesai menjalani operasi besar, pekan lalu. Operasi tersebut dilakukan untuk mengobati kaki kirinya yang sempat mengalami cedera. Saat ini, dirinya menyatakan sudah siap kembali beraktivitas seperti biasa. Berikut sejumlah fakta terkait operasi yang dijalani Prabowo: 1. Operasi di RSPPN PB Soedirman Mantan Danjen Kopassus ini melakukan operasi besar di Rumah Sakit Pusat Pertahanan Negara (RSPPN) Panglima Besar Soedirman, yang berada di kawasan Bintaro, Jakarta Selatan, satu minggu lalu. RSPPN PB Soedirman merupakan RS baru yang diresmikan Presiden Joko Widodo bersama Prabowo pada 19 Februari 2024 lalu. Selain RS ini, ada 25 RS lain milik TNI yang diresmikan bersamaan saat itu. Adapun proses operasi Prabowo ditangani langsung oleh Brigjen TNI (Purn) dr Robert Hutauruk, bersama tim yang terdiri atas Kolonel dr Sunaryo, dr Siska Widyati, dan dr Thomas. Baca juga: Jenguk Prabowo Pascaoperasi, Jokowi: Mari Doakan Proses Pemulihan 2. Operasi berjalan baik Prabowo mengatakan bahwa operasi yang dijalaninya dapat berhasil dengan baik.  Sebelumnya, ia menyadari bahwa tindakan medis yang akan dijalaninya memiliki risiko bahkan dapat mempertaruhkan nyawanya. Saya yakinkan diri bahwa semua ini untuk Negara dan Bangsa, saya juga yakin tim dokter dan seluruh tenaga medis yang menanganinya pun handal dan profesional, tulis Prabowo dalam unggahan di akun Instagramnya. Operasi kemudian dilaksanakan. Prabowo pun memuji tim dokter yang telah bekerja maksimal untuk mengobati kaki kirinya. Sehingga, ia dapat kembali beraktivitas seperti sedia kala. Saya ucapkan syukur alhamdulillah kepada Allah SWT atas keberhasilan tindakan operasi besar yang dilakukan kepada saya, ujar Prabowo dalam keterangannya, Minggu (30\\u002f6\\u002f2024) malam.  3. Cedera terjung payung Prabowo mengungkapkan, dirinya harus menjalani operasi karena sebelumnya pernah dua kali kecelakaan karena melakukan aksi terjun payung saat masih aktif sebagai prajurit TNI. Peristiwa itu terjadi sekitar tahun 80-an. Akibat kecelakaan itu, kaki kirinya cedera. Bahkan, rasa sakit akibat cedera itu harus dirasakannya hingga saat ini. Seperti sudah diketahui banyak pihak, saya pernah mengalami dua kali kecelakaan terjun payung saat bertugas di TNI pada tahun 80-an di kaki kiri saya, cedera ini selama ini masih saya rasakan, katanya. 4. Dijenguk Jokowi Dalam unggahan yang dibagikan di akun Instagramnya, Prabowo turut mengunggah momen saat dirinya dijenguk Presiden Joko Widodo. Ada tiga foto yang diunggah Prabowo. Foto pertama menunjukkan dirinya tengah berbincang berdua dengan Jokowi di sofa. Demikian halnya foto kedua. Bedanya, kali ini Prabowo didampingi oleh putranya, Ragowo Hediprasetyo Djojohadikusumo atau Didit Hediprasetyo. Sedangkan foto ketiga menunjukkan momen saat kedatangan Jokowi ke ruangan tempat Prabowo dirawat. Terlihat ajudan prabowo, Mayor Teddy Indra Wijaya berdiri di depan pintu. Dalam unggahan tersebut, Prabowo pun mengucapkan terima kasih kepada Jokowi. Terima kasih kepada Presiden RI @jokowi yang sudah memberikan dukungan moril dan doa, tulis Prabowo. Sementara itu, hal yang sama diunggah Presiden Jokowi lewat akun Instagramnya. Jokowi juga mengajak masyarakat untuk mendoakan Ketua Umum Partai Gerindra itu, agar dapat kembali pulih dan beraktivitas. Alhamdulilah operasi Bapak Prabowo @prabowo 1 minggu lalu berjalan dengan lancar. Tindakan medis untuk pemulihan cidera yang pernah dialami Pak Prabowo ketika bertugas di TNI ini, sukses dilakukan oleh tim dokter dan perawat di RSPPN Sudirman. Mari kita doakan proses pemulihan pasca operasi besar Pak Prabowo, agar inshaAllah semakin siap untuk mengemban tugas melayani masyarakat Indonesia, tulis Jokowi. 5. Siap kembali beraktivitas Masih dalam unggahannya, Prabowo menyatakan bahwa dirinya siap untuk kembali beraktivitas usai menjalani operasi. Ia juga mengucapkan terima kasih atas doa dan dukungan masyarakat selama ini. Insya Allah dengan kondisi sehat walafiat ke depan, saya semakin siap untuk berbakti dan mengabdi untuk negara dan rakyat Indonesia. Terima kasih kepada seluruh masyarakat atas doa dan dukungannya, tuturnya. \",\"Presiden RI terpilih Prabowo Subianto menegaskan, dirinya dan wakil presiden RI terpilih, Gibran Rakabuming Raka, akan melanjutkan program-program pemerintahan Presiden Joko Widodo. Namun demikian, Prabowo mengakui bahwa belum semua program berjalan baik. Oleh karenanya, diperlukan perbaikan dan inovasi pada pemerintahannya mendatang. Apakah semuanya sudah bagus? Tentunya tidak. Apakah perlu perbaikan? Tentunya perlu, kata Prabowo dalam acara Halalbihalal Pengurus Besar Nahdlatul Ulama (PBNU) di Jakarta, Minggu (28\\u002f4\\u002f2024). Apakah kita perlu untuk berinisiatif, berinovasi mencari solusi-solusi yang lebih cepat dirasakan oleh rakyat? Tentu itu harus kita lakukan, lanjutnya. Baca juga: Prabowo Sebut Jokowi Siapkan Dirinya Jadi Penerus Prabowo menyebut, tantangan yang dihadapi negara ke depan tidak akan semakin mudah dan sederhana. Oleh karenanya, dibutuhkan kontinuitas dan komitmen keberlanjutan terhadap hal-hal yang sudah baik. Menteri Pertahanan Kabinet Indonesia Maju itu bilang, investasi uang rakyat yang demikian besar harus diamankan. Sebagai presiden RI terpilih, Prabowo berjanji akan memberi solusi terhadap tuntutan dan tantangan yang dihadapi oleh bangsa dan rakyat ke depan. Strategi dan program yang sudah dirintis oleh Pak Joko Widodo dan pemerintahan beliau kami anggap adalah landasan, fondasi yang sangat kuat, dan kami akan membangun di atas fondasi itu, ujar Prabowo. Prabowo mengaku, dirinya banyak belajar dari Presiden Jokowi. Ketua Umum Partai Gerindra itu memuji Jokowi sebagai sosok yang sangat teliti. Oleh karenanya, Prabowo tak heran dikalahkan dua kali oleh Jokowi pada Pemilu Presiden (Pilpres) 2014 dan Pilpres 2019. Beliau sangat teliti. Mungkin karena itu saya kalah dua kali sama beliau, kata Prabowo disambut tawa hadirin. Tapi saya juga tidak kalah akal. Kalau dua kali kalah, lebih baik kita belajar dari yang menang, tuturnya. Prabowo mengungkap, dirinya telah dipersiapkan oleh Jokowi. Bahkan, Prabowo bersedia maju sebagai calon presiden pada Pilpres 2024 karena mengantongi dukungan dari Kepala Negara. Waktu saya ditanya saya mau maju atau tidak 2024 ini, saya terang-terangan mengatakan, saya maju apabila saya direstui dan didukung oleh Pak Joko Widodo, lanjutnya. Baca juga: Sandiaga Usul PPP Gabung Koalisi Prabowo-Gibran, Mardiono: Keputusan Strategis lewat Mukernas Sebagaimana diketahui, Prabowo Subianto-Gibran Rakabuming Raka ditetapkan sebagai presiden dan wakil presiden terpilih RI masa jabatan 2024-2029 oleh KPU RI pada Senin (22\\u002f4\\u002f2024). Pasangan ini memenangi Pilpres 2024 dengan perolehan 96.214.691 suara atau sekitar 58,58 persen dari seluruh suara sah nasional. Sementara, pasangan capres-cawapres nomor urut 1, Anies Baswedan-Muhaimin Iskandar, mengekor di urutan kedua dengan raihan 40.971.906 suara atau sekitar 24,95 persen. Di urutan buntut, capres-cawapres nomor urut 3, Ganjar Pranowo-Mahfud MD, menghimpun 27.040.878 suara atau sekitar 16,47 persen dari seluruh suara sah nasional. Meski begitu, Prabowo-Gibran belum resmi menjadi presiden dan wakil presiden RI. Menurut jadwal, pelantikan keduanya bakal digelar pada 20 Oktober 2024. \",\"Pakar hukum tata negara, Refly Harun, mengungkap desas-desus yang menyebut Presiden Joko Widodo tengah mengupayakan agar empat pembantunya di Kabinet Indonesia Maju masuk ke kabinet Prabowo Subianto-Gibran Rakabuming Raka. Nama-nama tersebut, mulai dari Menteri Investasi Bahlil Lahadalia, Menteri BUMN Erick Thohir, Menteri Sekretaris Negara (Mensesneg) Pratikno, hingga Kapolri Jenderal Listyo Sigit Prabowo.  Jokowi konon meng-endorse empat orang untuk jadi menteri. Konon ya. Dia ingin pertahankan Bahlil yang banyak jasanya dalam tanda kutip, Erick Thohir yang banyak jasanya dalam tanda kutip, Listyo Sigit yang banyak jasanya dalam tanda kutip, dan Pratikno yang banyak jasanya dalam tanda kutip, ujar Refly dalam program Gaspol Kompas.com sebagaimana dilansir YouTube Kompas.com, Sabtu (18\\u002f5\\u002f2024). Ini kan orang-orang yang berjasa semua dalam menjaga kekuasaan Jokowi, termasuk juga dalam pemenangan (Pilpres 2024) ya. Itu sudah rahasia umum, lanjutnya. Baca juga: Tak Kunjung Tegaskan Diri Jadi Oposisi, PDI-P Dinilai Sedang Tunggu Hubungan Jokowi dan Prabowo Renggang Jika dugaan tersebut benar, menurut Refly, hal ini menunjukkan minimnya peran Gibran, yang merupakan putra sulung Jokowi, dalam kabinet mendatang. Keyakinan kita kalau dia dorong empat empatnya, let's say seandainya benar. Itu menunjukkan bahwa ya memang Jokowi negosiasinya. Gibran enggak ada, katanya. Refly pun menyoroti sejumlah kesempatan ketika Prabowo tidak mengajak Gibran di beberapa agenda penting setelah ditetapkan sebagai presiden terpilih 2024-2029. Misalnya, saat Prabowo berkunjung ke China bertemu Presiden Xi Jinping. Prabowo juga tak didampingi Gibran saat berkunjung ke Nasdem Tower untuk menemui Ketua Umum Partai Nasdem Surya Paloh, juga saat bertemu Ketua Umum Partai Kebangkitan Bangsa (PKB) Muhaimin Iskandar beberapa waktu lalu. Menurut Refly, momen-momen tersebut menunjukkan manuver politik Prabowo setelah pilpres. Nah, dari situ menunjukkan bahwa Prabowo tidak melibatkan Gibran. Kalaupun dia harus bicara. Dia bicara sama bapaknya (Jokowi), kata Refly. Jika benar, maka ini tragedi bagi demokrasi Indonesia. Yang terpilih Gibran, tapi dia (Prabowo) bicara sama bapaknya (Jokowi), tambahnya. Sebagaimana diketahui, Prabowo Subianto dan Gibran Rakabuming Raka telah ditetapkan sebagai pemenang Pilpres 2024 dengan raihan 96.214.691 suara atau sekitar 58,58 persen dari seluruh suara sah nasional. Sementara itu, pasangan capres-cawapres nomor urut 1 Anies Baswedan-Muhaimin Iskandar, mengantongi 40.971.906 suara atau sekitar 24,95 persen dari seluruh suara sah nasional. Di urutan ketiga, capres-cawapres nomor urut 3, Ganjar Pranowo-Mahfud MD, menghimpun 27.040.878 suara atau sekitar 16,47 persen dari seluruh suara sah nasional. Prabowo dan Gibran rencananya akan dilantik sebagai Presiden dan Wakil Presiden RI pada 20 Oktober 2024 mendatang. Baca juga: 9 Eks Komisioner KPK Surati Presiden, Minta Jokowi Tak Pilih Pansel Problematik \",\"Calon presiden (capres) nomor urut 2 Prabowo Subianto mengaku masih sedih lantaran pernah dikasih nilai 11 dari 100 saat debat kedua capres. Adapun nilai 11 dari 100 itu diberikan oleh capres nomor 1 Anies Baswedan pada debat tanggal 7 Januari 2024 lalu. Saya sedih sekali dikasih nilai rendah, 11 dari 100, kata Prabowo dalam acara kampanye akbar Kirab Kebangsaan di Lapangan Simpang Lima, Semarang, Jawa Tengah, Minggu (28\\u002f1\\u002f2024). Prabowo lantas menceritakan dirinya sudah pernah bersekolah ke luar negeri. Baca juga: Ratusan Anak Pakai Atribut Kampanye pada Kirab Kebangsaan Prabowo-Gibran, Bawaslu Turun Tangan Namun, kata Prabowo, tidak pernah ada guru yang sejahat itu memberikan nilai. Belum pernah ada guru sejahat itu, edan, ujar Prabowo. Meski begitu, ia tidak ingin terlalu memusingkan nilai tersebut. Dia juga mengucapkan terima kasih jika ada pendukungnya yang memberikan nilai 100 dari 100 kepada dirinya. Sekarang, tapi, tapi maaf ya, saya ini besar di Jakarta, lahir di Jakarta, jadi sering bahasa Jakarta, bahasa Betawi, saya sebenarnya mau jawab di situ, Emangnya lo siape?, Emangnya gue pikirin? Sorry ye, ujar dia. Baca juga: Singgung soal Gaya Bicara, Prabowo: Aku Juga Bisa Kaya Profesor Sebelumnya, Anies Baswedan memberikan angka rendah untuk kinerja Kementerian Pertahanan (Kemenhan) di bawah kepemimpinan capres nomor urut 2 Prabowo Subianto. Ia menyampaikan, kinerja Kemenhan tak optimal karena banyak kebijakan yang dianggapnya belum memihak pada prajurit TNI, misanya pemberian tunjangan dan pembelian alutsista bekas. Karena itu, menurut saya, skornya justru di bawah 5, Mas Ganjar, kalau 5 itu ketinggian, ucap Anies dalam debat capres kedua di Istora Senayan, Jakarta, Minggu (7\\u002f1\\u002f2024). Ganjar sebelumnya juga memberikan angka 5 untuk kinerja Kemenhan yang dipimpin Prabowo. Sudah saya siapkan data satu per satu. Namun demikian, Mas Anies tentu saja ada yang ingin saya sampaikan. Dari apa yang tadi sudah saya utarakan, ketika kita ingin membangun sistem pertahanan kita, maka dalam perencanaan kita tidak boleh gonta ganti, kita mesti ajeg, mesti konsisten, tutur Ganjar. Baca juga: Polah Prabowo Saat Kampanye di Bekasi, Kembali Bicara Sorry Yee hingga Joget Gemoy Lantas, Ganjar meminta Anies untuk memberikan ketegasan, berapa nilai untuk kinerja Kemenhan. Mas Anies enggak usah takut, disebut saja angkanya berapa gitu loh. Kayak saya gitu loh, jangan di bawah lima, sebut saja berapa? tanya Ganjar. Anies kemudian menjelaskan bahwa kesejahteraan prajurit TNI lebih baik di era kepemimpinan Presiden ke-6 RI Susilo Bambang Yudhoyono (SBY) ketimbang kepemimpinan Presiden Joko Widodo. Sebab, saat itu kenaikan gaji prajurit TNI terjadi sembilan kali. (Skor Kemenhan) 11 Mas, dari 100, jawab Anies. Lalu, sembari bercanda, Ganjar mengatakan bahwa Anies menunjukkan sikap yang berani. Ini sedikit ngajarin kendhel (berani) Mas Anies, biar berani, imbuh Ganjar. \",\"Presiden Joko Widodo mengunggah momen saat dirinya menjenguk Menteri Pertahanan (Menhan) yang juga presiden terpilih hasil Pilpres 2024 Prabowo Subianto di Rumah Sakit Pusat Pertahanan Negara (RSPPN) Sudirman, Jakarta Selatan, di akun media sosial X resminya @jokowi pada Minggu (30\\u002f6\\u002f2024). Dalam unggahan itu, tampak Jokowi dan Prabowo berbincang di kamar pasien untuk Prabowo. Menurut Jokowi, tim dokter sudah melakukan tindakan medis untuk pemulihan cidera yang dialami Prabowo. Alhamdulilah operasi Bapak Prabowo @prabowo 1 minggu lalu berjalan dengan lancar. Tindakan medis untuk pemulihan cidera yang pernah dialami Pak Prabowo ketika bertugas di TNI ini, sukses dilakukan oleh tim dokter dan perawat di RSPPN Sudirman, tulis Jokowi sebagaimana dilansir pada Senin (1\\u002f7\\u002f2024). Mari kita doakan proses pemulihan pasca operasi besar Pak Prabowo, agar inshaAllah semakin siap untuk mengemban tugas melayani masyarakat Indonesia, tegasnya. Sebelumnya Prabowo mngungkapkan, dirinya menjalani operasi besar di RSPPN Panglima Besar Soedirman, Jakarta Selatan, pada minggu lalu. Operasi itu dilakukan karena ia pernah dua kali kecelakaan ketika melaksanakan aksi terjun payung saat masih aktif sebagai prajurit TNI dulu. Kecelakaan itu, kata dia, membuat kaki kirinya cedera, sehingga membuat rasa sakitnya terus dirasakan hingga pada saat ini. Seperti sudah diketahui banyak pihak, saya pernah mengalami dua kali kecelakaan terjun payung saat bertugas di TNI pada tahun 80-an di kaki kiri saya, cedera ini selama ini masih saya rasakan, ujar Prabowo dalam keterangannya, Minggu. Baca juga: Operasi Besar di RSPPN PB Soedirman, Prabowo: Saya Dua Kali Kecelakaan Terjun Payung Usai menjalani operasi, Prabowo menyatakan dirinya siap beraktivitas kembali usai melakukan operasi terhadap cedera kaki kirinya itu. Insya Allah dengan kondisi sehat walafiat ke depan, saya semakin siap untuk berbakti dan mengabdi untuk negara dan rakyat Indonesia. Terima kasih kepada seluruh masyarakat atas doa dan dukungannya, tuturnya. Prabowo menyebut dirinya paham dan sadar bahwa operasi cedera kaki ini berisiko karena mengancam nyawanya. Namun, demi bangsa dan negara, Prabowo meyakini tim dokter pasti berhasil melakukan operasi. Baca juga: Jokowi Jenguk Prabowo Usai Jalani Operasi Cedera Kaki di RSPPN PB Soedirman Saya sadar dan paham bahwa tindakan medis yang saya jalani penuh dengan risiko dan pertaruhan nyawa, saya yakinkan diri bahwa semua ini untuk negara dan bangsa, saya juga yakin tim dokter dan seluruh tenaga medis yang menanganinya pun handal dan profesional, imbuh Prabowo. \",\"Survei terbaru Indikator Politik Indonesia memetakan elektabilitas tiga pasangan calon presiden (capres)-calon wakil presiden (cawapres) Pemilu 2024. Menurut survei, elektabilitas capres-cawapres nomor urut 2, Prabowo Subianto-Gibran Rakabuming Raka, unggul di hampir semua wilayah di Indonesia. Hanya di Jawa Tengah (Jateng) dan Daerah Istimewa Yogyakarta (DIY) tingkat keterpilihan Prabowo-Gibran kalah dari capres-cawapres nomor urut 3, Ganjar Pranowo-Mahfud MD. Prabowo-Gibran keunggulannya merata, kecuali di Jawa Tengah dan DIY kalah sama Ganjar-Mahfud, kata Direktur Eksekutif Indikator Politik Indonesia, Burhanuddin Muhtadi, dalam konferensi pers daring, Selasa (26\\u002f12\\u002f2023). Sementara, capres-cawapres nomor urut 1, Anies Baswedan-Muhaimin Iskandar, mengantongi elektabilitas cukup besar di Banten dan DKI Jakarta. Meski begitu, angka elektoral pasangan ini masih kalah dari Prabowo-Gibran. Anies-Muhaimin meskipun kalah dibanding Prabowo-Gibran, tapi sangat kompetitif di Banten dan DKI, ujar Burhanuddin. Baca juga: Survei Indikator: Elektabilitas Prabowo-Gibran Unggul Pascadebat, Anies-Muhaimin Turun Berikut peta elektabilitas tiga pasangan capres-cawapres di sejumlah wilayah menurut survei Indikator Politik Indonesia: Anies Baswedan-Muhaimin Iskandar Prabowo Subianto-Gibran Rakabuming Raka Ganjar Pranowo-Mahfud MD Survei juga memetakan elektabilitas tiga pasangan capres-cawapres pascadebat capres pada 12 Desember 2023 dan debat cawapres yang digelar 22 Desember 2023. Hasilnya, elektabilitas Prabowo-Gibran naik menjadi 46,7 persen dan unggul di urutan pertama. Angka elektoral Ganjar-Mahfud juga meningkat, meski persentasenya kecil, yaitu 24,5 persen. Sebaliknya, elektabilitas Anies-Muhaimin sedikit turun menjadi 21 persen. Berikut ini elektabilitas tiga pasangan capres-cawapres menurut survei Indikator Politik Indonesia, sebelum dan setelah debat capres-cawapres: Anies Baswedan-Muhaimin Iskandar Prabowo Subianto-Gibran Rakabuming Raka Ganjar Pranowo-Mahfud MD Baca juga: Survei Indikator Politik: Tren Elektabilitas PDIP Turun Terus, Gerindra Naik Adapun survei Indikator Politik Indonesia ini digelar pada 23-24 Desember 2023 melalui wawancara telepon. Survei melibatkan 1.217 responden yang dipilih melalui kombinasi metode random digit dialing (RDD) sebanyak 265 responden, dan double sampling sebanyak 952 responden. Margin of error survei diperkirakan +-2,9 persen dengan tingkat kepercayaan 95 persen. \",null],\"marker\":{\"color\":\"#CFD8DC\",\"opacity\":0.5,\"size\":5},\"mode\":\"markers+text\",\"name\":\"other\",\"showlegend\":false,\"x\":[5.542275905609131,6.889436721801758,2.9802815914154053,6.935383319854736,5.750500679016113,5.34420919418335,5.01869010925293,5.7148871421813965,7.7309041023254395,6.146847724914551,5.650333404541016,4.9649786949157715,6.678136348724365,3.320343255996704,6.014647960662842,4.271586894989014,5.877068996429443,7.020200252532959,4.054105758666992,5.95465612411499,3.912640333175659,6.125479221343994,5.313591957092285,6.037418842315674,4.38616418838501,5.596546173095703,5.790629863739014,6.4251251220703125,3.235522747039795,3.146613597869873,4.774496555328369,3.2145183086395264,5.563018321990967,4.764676094055176,5.770233631134033,5.311890125274658],\"y\":[3.341295003890991,2.538534164428711,2.2736315727233887,2.7039265632629395,2.0754661560058594,4.135882377624512,3.057213306427002,3.796983242034912,3.486851692199707,1.812740683555603,4.524116516113281,4.443724155426025,2.3034133911132812,3.840118169784546,2.822859764099121,4.11432409286499,1.833266019821167,2.9129388332366943,3.877843141555786,2.813359260559082,3.3775453567504883,2.739198923110962,3.723755121231079,4.622067451477051,2.5457687377929688,1.7127909660339355,3.774439811706543,4.652539253234863,3.750676393508911,3.6758759021759033,3.70196795463562,2.1561877727508545,4.511842250823975,4.15969181060791,1.7818102836608887,3.245560884475708],\"type\":\"scattergl\"},{\"hoverinfo\":\"text\",\"hovertext\":[\"Presiden terpilih 2024-2029 sekaligus Menteri Pertahanan (Menhan) Prabowo Subianto menghadiri 'Silaturahmi Halal Bihalal dan Syukuran Abituren Akabri 1971-1975 tahun 2024' di Kementerian Pertahanan (Kemenhan), Jakarta Pusat, pada Sabtu (4\\u002f5\\u002f2024). Pertemuan yang digelar dalam rangka reuni itu dimulai dengan upacara parade senja yang ditandai penurunan bendera merah putih serta mengheningkan cipta. Agenda tersebut kemudian disambung dengan silaturahmi dan makan malam bersama. Di hadapan ratusan alumni Akabri, Prabowo mengawali perbincangan dengan mengucapkan permohonan maaf lahir batin. Ia berharap momen ini kian mempererat tali silaturahmi. Baca juga: Anggap Positif Presidential Club yang Ingin Dibentuk Prabowo, Cak Imin: Pemerintah Bisa Lebih Produktif Karena masih di bulan Syawal, kita melaksanakan halal bihalal ini. Kami mewakili kawan-kawan yang hadir, mohon maaf lahir dan batin. Semoga kita bisa terus merajut silaturahmi, merajut persatuan dan kesatuan, ujar Prabowo dalam keterangannya, Minggu (5\\u002f5\\u002f2024). Prabowo menjelaskan, persatuan dan kesatuan adalah barang mahal yang harus dijaga sekuat tenaga. Dia lantas mengajak para alumni Akabri untuk selalu berupaya memberikan yang terbaik untuk negara. Persatuan dan kesatuan ini lah yang sangat mahal. Apabila bisa dipertahankan, negara kita akan terus langgeng, akan kuat, akan abadi, tuturnya. Baca juga: Ketidakharmonisan Hubungan Presiden Terdahulu jadi Tantangan Prabowo Wujudkan Presidential Club Menurut Prabowo, perjuangan yang dilakukan para alumni Akabri sejak muda perlu dirawat sebagai contoh yang bakal diwariskan kepada generasi penerus. Kita mengenang masa muda kita dan kita bangga ada generasi-generasi yang siap meneruskan perjuangan kita, kata Prabowo Kita akan berbuat yang terbaik untuk masa depan bangsa kita, dan kita ingin meninggalkan contoh yang terbaik (bagi generasi penerus), sambungnya. Sementara itu, Prabowo juga mengenang masa-masa ketika menempuh pendidikan di Akabri pada awal 1970-an. Dia menilai gemblengan para senior membuat keteguhan dalam membela negara terus terjaga hingga hari ini. Baca juga: Presidential Club, Upaya Prabowo Damaikan Megawati dengan SBY dan Jokowi Kita digembleng oleh mereka, dan mereka berhasil memberi nilai-nilai yang terpatri di dalam jiwa kita. Jiwa pengorbanan, jiwa pengabdian, jiwa cinta Tanah Air, imbuh Prabowo. Dalam kesempatan ini, hadir Presiden ke-6 Susilo Bambang Yudhoyono (SBY), Jenderal TNI (Purn) Wiranto, Jenderal (Purn) AM Hendropriyono, Jenderal TNI (Purn) Agum Gumelar, Laksamana TNI (Purn) Slamet Subianto, Marsekal TNI (Purn) Joko Suyanto, Marsekal TNI (Purn) Imam Sufaat, Jenderal TNI (Purn) Endriantono Sutarto, Jenderal TNI (Purn) Ryamizard Ryacudu, Jenderal Pol (Purn) Sutanto, Jenderal TNI (Purn) Agustadi, Jenderal TNI (Purn) Dudung Abdurachman, dan Jenderal TNI (Purn) Andika Perkasa. Lalu, turut hadir Ibu Wismoyo Arismunandar, Ibu LB Moerdani, serta para senior Abituren AKABRI angkatan tahun 1971-1975. \",\"Bakal calon presiden (capres) Koalisi Indonesia Maju (KIM), Prabowo Subianto, menggandeng Wali Kota Surakarta, Gibran Rakabuming Raka, sebagai bakal calon wakil presiden (cawapres) Pemilu 2024. Pasangan bakal capres-cawapres itu menggagas sejumlah program. Gibran membocorkan, salah satu program yang ia dan Prabowo tawarkan adalah Kartu Indonesia Sehat (KIS) untuk kalangan lanjut usia (lansia). Bocoran program ini disampaikan Gibran saat berpidato di hadapan jajaran ketua umum partai politik anggota KIM serta para pendukung dan simpatisan Koalisi Indonesia Maju sebelum mendaftarkan diri ke Komisi Pemilihan Umum (KPU), Rabu (25\\u002f10\\u002f2023). Sekarang sudah ada KIS, ada Kartu Indonesia Pintar, ada PKH (Program Keluarga Harapan), nanti saya tambahkan lagi KIS lansia, kata Gibran di Indonesia Arena, Jakarta. Baca juga: KPU: Berkas Pendaftaran Prabowo-Gibran Lengkap Gibran juga mengungkap, dirinya dan Prabowo akan membuat program kartu anak sehat. Program ini bertujuan untuk menekan angka stunting di Tanah Air. Selain itu, bakal capres-cawapres Koalisi Indonesia Maju tersebut juga menggagas program kredit bernama kredit start-up milenial. Kredit ini akan diperuntukkan bagi generasi muda yang membuka bisnis di bidang teknologi dan inovasi. Sekarang sudah ada yang namanya KUR (kredit usaha rakyat), sudah ada yang namanya kredit mekar, sudah ada wakaf mikro, ada kredit ekstra mikro, nanti akan kami tambahkan lagi kredit start-up millennial, ujar Gibran. Bersama Prabowo, Gibran juga berjanji melanjutkan program yang telah dijalankan pemerintahan sang ayah, Presiden Joko Widodo, berupa hilirisasi pertambangan, pertanian, dan perikanan. Ini wajib. Dan juga ekonomi hijau dan energi hijau untuk keberlanjutan, katanya. Baca juga: Daftar ke KPU, Prabowo: Kami Akan Ikuti Semua Proses, Kami Siap Maju Jika terpilih sebagai pemimpin Indonesia berikutnya, kata Gibran, dirinya dan Prabowo akan melanjutkan dan menyempurnakan program-program pemerintah sekarang. Wali Kota Surakarta itu meyakini, dengan semangat keberlanjutan dan konsistensi, dirinya dan Prabowo mampu mewujudkan Indonesia lebih maju. Sekali lagi, terima kasih, Bapak, Ibu semua, mohon doanya agar semuanya lancar dan semoga perjalanan kita ke depan dapat dimudahkan, tutur putra sulung Presiden Jokowi tersebut. Sementara, Prabowo menjanjikan dirinya dan Gibran akan mengentaskan kemiskinan di Indonesia seandainya terpilih sebagai presiden dan wakil presiden Indonesia. Yang sangat penting dalam sejarah bangsa Indonesia, kita menghadapi titik di mana kita bisa bangkit menuju Indonesia yang hebat, Indonesia yang bebas dari kemiskinan, kata Prabowo. Menteri Pertahanan tersebut juga berjanji akan membebaskan rakyat Indonesia dari kelaparan dan kurang gizi. Katanya, seluruh anak Indonesia harus tumbuh kuat, cerdas, dan gembira. Di mana kekayaan Indonesia akan dipergunakan sebesar-besarnya untuk seluruh rakyat Indonesia, ujarnya. Prabowo pun menyampaikan terima kasih atas dukungan masyarakat dan partai politik anggota Koalisi Indonesia Maju. Ia juga memohon doa restu. Kami, Prabowo Subianto dan Gibran Rakabuming Raka, mohon doa restu dari seluruh rakyat Indonesia, tutur Ketua Umum Partai Gerindra itu. Baca juga: Prabowo-Gibran Dinilai Siap Tempur dengan Ganjar-Mahfud di Jawa Tengah Adapun Prabowo-Gibran telah resmi mendaftarkan diri sebagai capres-cawapres peserta Pemilu Presiden 2024, Rabu (25\\u002f10\\u002f203). Oleh KPU, berkas pendaftaran Prabowo-Gibran dinyatakan lengkap. Selanjutnya, pasangan bakal capres-cawapres tersebut dijadwalkan menjalani pemeriksaan kesehatan sebagai bagian dari rangkaian verifikasi dokumen pada Kamis (26\\u002f10\\u002f2023). \",\"Menteri Pertahanan (Menhan) Prabowo Subianto menghadiri upacara peringatan Hari Ulang Tahun ke-78 Polri atau Hari Bhayangkara yang digelar di Lapangan Monas, Jakarta, Senin (1\\u002f7\\u002f2024). Prabowo yang pekan lalu menjalani operasi pada kakinya memasuki tempat upacara bersamaan dengan Presiden Joko Widodo (Jokowi). Selain itu, tampak pula Ibu Iriana Joko Widodo yang mendampingi Jokowi. Serta, Wakil Presiden (Wapres) Maruf Amin beserta istri, dan Ketua DPR RI Puan Maharani. Disaksikan dari Kompas TV, Prabowo nampak berjalan berdampingan dengan Puan Maharani di belakang Wapres Maruf Amin. Mengenakan setelah jas berwarna abu-abu muda, dia terlihat berjalan cukup cepat meskipun tidak dapat menutupi bahwa kakinya tengah sakit pascaoperasi. Prabowo juga tampak sesekali melemparkan senyum dan memberikan hormat sambil berdiri saat namanya disebut oleh Presiden Jokowi. Baca juga: Hari Bhayangkara ke-78 di Monas, Prabowo Hadir meski Baru Saja Dioperasi Diketahui, Presiden RI terpilih periode 2024-2029 tersebut baru saja menjalani operasi karena cidera kaki di Rumah Sakit Pusat Pertahanan Negara (RSPPN) Panglima Besar Soedirman, Jakarta Selatan, pada pekan lalu. Kemudian, Prabowo sempat menjalani pemulihan pascaoperasi di rumah sakit yang sama. Bahkan, Presiden Jokowi telah menjenguk suksesornya tersebut dan mendoakan untuk pemulihan Prabowo.  Prabowo dalam keterangan tertulisnya mengungkap bahwa penyebab cedera yang sudah lama tersebut adalah karena dua kali kecelakaan terjun payung saat dirinya masih aktif bertugas di TNI. Seperti sudah diketahui banyak pihak, saya pernah mengalami dua kali kecelakaan terjun payung saat bertugas di TNI pada tahun 80-an di kaki kiri saya, cidera ini selama ini masih saya rasakan, kata Prabowo dalam keterangannya, Minggu (30\\u002f6\\u002f2024) malam. Baca juga: 5 Fakta Operasi Besar Prabowo: Cedera Kaki karena Terjun Payung hingga Siap Beraktivitas Selain Menhan Prabowo, sejumlah menteri juga tampak hadir. Seperti Menteri Pekerjaan Umum dan Perumahan Rakyat (PUPR) Basuki Hadimuljono, Menteri Sekretariat Negara (Mensesneg) Pratikno, Menteri Investasi Bahlil Lahadalia, Menteri Perdagangan Zulkifli Hasan. Kemudian, Menteri Agraria dan Tata Ruang (ATR) Agus Harimurti Yudhoyono (AHY), Menteri Pendayagunaan Aparatur Negara dan Reformasi Birokrasi Azwar Anas, Jaksa Agung ST Burhanuddin, dan Ketua MPR RI Bambang Soesatyo. Nampak juga hadir Wakil Presiden ke-10 dan 12 RI Jusuf Kalla, Istri Presiden ke-4 RI Abdurrahman Wahid atau kerap disapa Gus Dur, Ibu Sinta Nuriyah, dan Wakil Presiden ke-6 RI Try Sutrisno. Selain itu, juga hadir Ketua Komisi Pemilihan Umum (KPU) Hasyim Asyari, dan Ketua Badan Pengawas Pemilu (Bawaslu) Rahmat Bagja. Baca juga: Jenguk Prabowo Pascaoperasi, Jokowi: Mari Doakan Proses Pemulihan \",\"Semakin gemuk atau banyaknya jajaran koalisi dari Presiden-Wakil Presiden Terpilih, Prabowo Subianto-Gibran Rakabuming Raka, dinilai bisa menjadi pisau bermata dua yang memberikan dampak positif atau justru negatif. Sistem ini di satu sisi menciptakan stabilitas pemerintahan, kata analis sosial politik, Karyono Wibowo, kepada Kompas.com, Sabtu (27\\u002f4\\u002f2024). Karyono mengatakan, sistem merangkul partai-partai di luar koalisi yang menjadi lawan politik dalam kompetisi pilpres dilakukan untuk mengatasi problematika presidensialisme di tengah sistem multipartai. Baca juga: Checks and Balances terhadap Pemerintahan Dinilai Lemah jika PDI-P Gabung Koalisi Prabowo Sebab, menurut Karyono, problematika sistem presidensial pada umumnya terjadi ketika dikombinasikan dengan sistem multipartai. Persoalan kerap muncul ketika terjadi fragmentasi dan polarisasi yang tinggi sehingga berdampak pada sikap politik di parlemen yang dapat mengganggu relasi lembaga eksekutif dengan legislatif, kata dia. Di sisi lain, koalisi pemerintahan yang dibentuk dari hasil kompromi ini bisa mengakibatkan prinsip check and balance tidak berjalan maksimal. Hal ini pun juga bisa berdampak membuat pemerintahan berjalan tidak efektif dan efisien. Koalisi gemuk tak jarang menyebabkan pemerintahan tidak efektif dan tidak efisien. Apalagi, jika prinsip dasar pembentukan kabinet pemerintahan sekadar dimaknai bagi-bagi kekuasaan, maka orientasi pembangunan nasional bisa bergeser menjadi sekadar pemenuhan kepentingan kelompok, ucap dia. Baca juga: Politikus PPP Sebut Ada Kemungkinan Parpolnya Gabung Koalisi Prabowo-Gibran Direktur Eksekutif Indonesia Public Institute (IPI) ini berpandangan, partai oposisi masih sangat diperlukan untuk mengontrol jalannya pemerintahan. Agar ada check and balance yang diharapkan meminimalisasi terjadinya penyimpangan kekuasaan (abuse of power), kata dia. Sejak awal pemilu, ada sembilan partai yang mengusung Prabowo-Gibran. Sembilan partai itu adalah Partai Gerindra, Partai Golkar, Partai Demokrat, PAN, PBB, PSI, Prima, Partai Gelora, dan Partai Garuda. Kini, tiga partai anggota Koalisi Perubahan untuk Persatuan yakni PKB, Nasdem, dan PKS, membuka peluang bergabung ke koalisi Prabowo-Gibran. Pada Pilpres 2024, kongsi tersebut mengusung Anies Baswedan-Muhaimin Iskandar sebagai calon presiden dan calon wakil presiden (capres-cawapres). Namun, pasangan ini ditumbangkan oleh Prabowo-Gibran. Baca juga: Dukung Prabowo-Gibran, PKB Pastikan Tak Bakal Rusak Soliditas Koalisi Indonesia Maju \",\"Partai Demokrasi Indonesia Perjuangan (PDI-P) menganggap pernyataan Presiden terpilih Prabowo Subianto yang tidak ingin masa pemerintahannya kelak diganggu sebagai sinyal bahaya. Menurut politikus PDI-P Adian Napitupulu, kata jangan mengganggu yang disampaikan Prabowo sangat subjektif dan tidak ada instrumen hukum yang bisa dijadikan patokan ukuran. Karena bahasa mengganggu itu sangat subjektif. Enggak ada alat ukurnya. Berbahaya ketika kita berbicara tentang hubungan antaranak bangsa dalam sebuah negara tapi dengan alat ukur yang sangat subjektif, kata Adian dalam program Satu Meja di Kompas TV, seperti dikutip pada Rabu (15\\u002f5\\u002f2024). Adian mengatakan, karena tidak ada patokan ukuran menurut aturan undang-undang itulah maka tafsir mengenai jangan mengganggu yang disampaikan Prabowo dikhawatirkan sangat subjektif dan rentan terjadi penyalahgunaan kekuasaan buat menekan kelompok yang berbeda pandangan dengan pemerintah. Baca juga: Prabowo Sebut Jangan Ganggu jika Ogah Kerja Sama, Gerindra: Upaya Rangkul Partai Lain Terus Dilakukan Dengan demikian sangat bebas tafsir. Kalau kemudian tiba-tiba ada pernyataan A, B, C, segala macam kita mengkategorikannya kritik, Prabowo bisa mengkategorikan itu mengganggu, ujar Adian. Dan apa alat ukurnya? Ya dia sendiri yang tahu, sambung Adian. Seperti diberitakan sebelumnya, Prabowo menyampaikan pernyataan jangan mengganggu itu pada acara bimbingan teknis (bimtek) dan rakornas pilkada Partai Amanat Nasional (PAN) di Hotel JS Luwansa, Jakarta Selatan, Kamis (9\\u002f5\\u002f2024) malam. Saya akan berjuang terus bersama semua kekuatan yang mau diajak kerja sama. Yang tidak mau diajak kerja sama tidak apa-apa. Kalau ada yang mau nonton di pinggir jalan, silakan jadi penonton yang baik, ujar Prabowo. Baca juga: Prabowo Minta Pemerintahannya Tak Diganggu, PKS: Kontrol Terhadap Pemerintah Wajib Tapi kalau sudah tidak mau diajak kerja sama, ya jangan mengganggu. Orang lagi mau kerja kok. Kita mau kerja. Kita mau kerja. Kita mau amankan kekayaan bangsa Indonesia, sambungnya. Prabowo menjelaskan, dirinya tidak ingin ada lagi orang Indonesia yang menangis karena lapar. Dia menekankan rakyat Indonesia tidak boleh tidak bisa makan. Saya yakin saudara tidak terima. Saya malu saya dikasih pangkat jenderal oleh rakyat. Saya dipilih oleh rakyat. Siang dan malam kita berpikir, saya berpikir, bagaimana rakyat Indonesia tidak ada yang lapar, jelas Prabowo. \",\"Koalisi presiden dan wakil presiden RI terpilih, Prabowo Subianto-Gibran Rakabuming Raka, kian gemuk. Pasalnya, Partai Nasdem menyatakan dukungan untuk keduanya. Partai Kebangkitan Bangsa (PKB) juga memberi sinyal merapat ke pemerintahan mendatang. Dua partai tersebut sebelumnya berseberangan dengan Prabowo-Gibran. Pada Pemilu Presiden (Pilpres) 2024, Nasdem, PKB, dan Partai Keadilan Sejahtera (PKS) tergabung dalam Koalisi Perubahan untuk Persatuan mengusung Anies Baswedan-Muhaimin Iskandar sebagai calon presiden dan calon wakil presiden (capres-cawapres). Bekas koalisi tersebut menyisakan PKS yang hingga kini belum menyatakan sikap, apakah bakal mendukung pemerintahan Prabowo-Gibran, atau berada di luar sebagai oposisi. Selain PKS, PDI Perjuangan hingga kini juga masih bergeming. Pada Pilpres 2024, PDI-P bersama Partai Persatuan Pembangunan (PPP) mengusung Ganjar Pranowo-Mahfud MD sebagai capres-cawapres. Menurut hasil Pemilu 2024 yang ditetapkan oleh Komisi Pemilihan Umum (KPU), PPP tak lagi lolos ke Senayan. Sebab, dengan perolehan 3,87 persen suara, partai Kabah tidak memenuhi ambang batas parlemen atau parliamentary threshold sebesar 4 persen. Baca juga: Dukung Prabowo-Gibran, PKB Pastikan Tak Bakal Rusak Soliditas Koalisi Indonesia Maju Sementara, Prabowo-Gibran sendiri sejak awal diusung oleh empat partai parlemen, yakni Partai Gerindra, Partai Golkar, Partai Demokrat, dan Partai Amanat Nasional (PAN). Kendati masih mungkin berubah, komposisi kekuatan pemerintahan Prabowo-Gibran ke depan mulai terlihat. Dengan tambahan dukungan Partai Nasdem dan PKB, partai koalisi presiden dan wakil presiden terpilih itu mengantongi total 63,64 persen suara sah nasional. Jika dikonversi menjadi kursi di parlemen, koalisi Prabowo-Gibran diperkirakan menguasai 417 kursi atau 71,89 persen dari total 580 kursi di DPR RI. Adapun konversi suara partai menjadi kursi DPR RI ini dikutip dari data Centre for Strategic and International Studies (CSIS). Kepala Departemen Politik dan Perubahan Sosial CSIS Arya Fernandes telah mengizinkan Kompas.com untuk mengutip laporan ini. Berikut perincian peta kekuatan koalisi Prabowo-Gibran seandainya hanya mendapat tambahan kekuatan dari Nasdem dan PKB. Total suara sah nasional: 63,64 persen Total kursi di DPR RI: 163 kursi (28,10 persen) Baca juga: Checks and Balances terhadap Pemerintahan Dinilai Lemah jika PDI-P Gabung Koalisi Prabowo Sebagaimana diketahui, Prabowo Subianto-Gibran Rakabuming Raka ditetapkan sebagai presiden dan wakil presiden terpilih RI masa jabatan 2024-2029 oleh KPU RI pada Senin (22\\u002f4\\u002f2024). Pasangan ini memenangi Pilpres 2024 dengan perolehan 96.214.691 suara atau sekitar 58,58 persen dari seluruh suara sah nasional. Sementara, pasangan capres-cawapres nomor urut 1, Anies Baswedan-Muhaimin Iskandar, mengekor di urutan kedua dengan raihan 40.971.906 suara atau sekitar 24,95 persen. Di urutan buntut, capres-cawapres nomor urut 3, Ganjar Pranowo-Mahfud MD, menghimpun 27.040.878 suara atau sekitar 16,47 persen dari seluruh suara sah nasional. Meski begitu, Prabowo-Gibran belum resmi menjadi presiden dan wakil presiden RI. Menurut jadwal, pelantikan keduanya bakal digelar pada 20 Oktober 2024. \",\"Ketua Umum (Ketum) Partai Gelombang Rakyat (Gelora) Indonesia Anis Matta menilai, situasi kondusif dari bersatunya Jokowi dan Prabowo membuat Indonesia dapat melalui krisis yang dipicu Covid-19 dan ancaman disintegrasi bangsa. Sehingga rekonsiliasi tersebut harus dilanjutkan di Pilpres 2024, sehingga umat Islam hendaknya mendukung Prabowo-Gibran, karena mereka berdua yang mampu menghadapi pendalaman krisis pada 2024 ini, kata Anis Matta melalui keterangan persnya, Kamis (8\\u002f2\\u002f2024). Hal itu disampaikan Anis Matta dalam program Anis Matta Menjawab Episode 29 dengan tema Maslahat Umat Dalam Pilpres di Tengah Ancaman Disintegrasi yang telah tayang di kanal YouTube Gelora TV pada Senin (22\\u002f1\\u002f2024) malam. Ia menegaskan, Prabowo-Gibran merupakan bentuk kemaslahatan umat, karena keduanya dipercaya dapat mencegah disintegrasi yang muncul saat Pilpres 2024. Baca juga: Bela Jokowi dan Minta Ahok Ngaca, Kubu Prabowo: Gibran Malah Lebih Teruji Kita berharap umat Islam mendukung Pak Prabowo seperti dalam dua Pilpres sebelumnya. Kita jangan gampang dipecah belah lagi, dijadikan kambing hitam dan korban seperti pada 2019, dengan terus menerus menjadi kerumunan, tutur Anis Matta. Dia menegaskan, Prabowo bisa membawa Indonesia menjadi pemimpin di kawasan Asia-Pasifik jika terpilih sebagai presiden nantinya. Kira-kira, di antara semua calon presiden (capres) yang paling mengerti masalah geopolitik adalah Pak Prabowo. Situasi geopolitik sekarang, yang paling diuntungkan adalah beliau. Pak Prabowo adalah man of the moment, kata Anis Matta. Menurut Anis Matta, Prabowo adalah calon presiden (capres) yang paling memahami dan mengerti pergolakan situasi geopolitik global yang sedang terjadi di seluruh dunia sekarang. Baca juga: Airlangga Sebut Prabowo-Gibran Menang 1 Putaran Sudah Terlihat, Klaim Kuasai Jabar dan Jatim Selain itu, Prabowo juga pernah menjadi korban geopolitik global saat menjadi Pangkrostad saat era Presiden Soeharto pada 1998 lalu. Hal ini menjadikan Prabowo mafhum akan siklus kehidupan karena pernah menjadi korban geopolitik. Jadi, pada1998, Pak Prabowo bersama Presiden Soeharto itu adalah korban geopolitik. Ini siklus saja dalam hidup orang, bahwa suatu waktu beliau menjadi korban geopolitik dan sekarang karena situasi geopolitik beliau yang paling diuntungkan dan paling mungkin menjadi presiden, katanya. Ia menilai bahwa Prabowo mengetahui bagaimana cara menempatkan Indonesia dalam situasi geopolitik sekarang sebagai negara dengan penduduk muslim terbesar di dunia, negara dengan demokrasi terbesar ketiga di dunia, dan negara dengan populasi terbesar keempat di dunia. Jadi poin pertama yang diperlukan umat Islam sekarang adalah visi masa depan. Kita mengerti pergolakan yang sedang terjadi sekarang di seluruh dunia dan mengerti cara menempatkan Indonesia dalam situasi itu, katanya. Baca juga: Zulhas Kampanye Bareng Gus Miftah di Sleman, Ribuan Warga Teriak Prabowo-Gibran Sekali Putaran Menurut Anis Matta, Indonesia sebenarnya sudah menjadi pemimpin kawasan. Namun, hal itu tidak disadari karena kurangnya pemahaman soal pergolakan situasi geopolitik global saat ini. Hal ini bisa diatasi dengan peningkatan partisipasi di forum-forum internasional. Karena Indonesia adalah pemimpin kawasan, maka semua perubahan yang terjadi di Indonesia dengan sendirinya akan memengaruhi kawasan. Sehingga, Pilpres 2024 di Indonesia sangat penting, karena akan menentukan arah dunia, katanya. Selain di Indonesia, lanjut Anis Matta, pilpres lain pada 2024 yang akan menentukan arah dunia ke depan adalah pilpres di Taiwan yang telah digelar pada 13 Januari lalu. Lai Ching-te dari Partai Progresif Demokratik (DPP) dengan bantuan Amerika Serikat (AS) keluar sebagai pemenangnya. Pilpres lainnya adalah pilpres di Rusia yang akan digelar pada Maret, yang diramalkan akan dimenangkan oleh Vladimir Putin). Terakhir, adalah pilpres di AS pada November, katanya. Baca juga: Pamer Capaian Jokowi, Airlangga: Sudah Jelas yang Bisa Lanjutkan Program Pemerintah Cuma Prabowo-Gibran Empat pilpres pada 2024 itu, sebut Anis Matta akan menentukan arah dunia karena ada pendalaman krisis global yang berbeda dari sebelumnya. Nah, pemimpin yang dihasilkan dari empat pilpres yang sangat penting di seluruh dunia pada tahun 2024 ini, akan sangat menentukan arah dunia. Insya Allah, pilpres yang akan berlangsung di Indonesia dimenangkan oleh Pak Prabowo satu putaran, tegasnya. Anis Matta berharap agar umat Islam memiliki kesadaran geopolitik, karena hal itu telah diajarkan Al Quran seperti ketika turunnya Surah Ar-Rum, yang mengabarkan bahwa umat Islam akan berperang menghadapi Imperium Romawi pada 13 tahun kemudian atau pascapengangkatan Rasulullah SAW sebagai nabi. Rasulullah SAW menjadi nabi itu selama 22 tahun 22 bulan dan 22 hari. Dan tahun ketujuh di Mekkah, beliau diangkat nabi, sudah turun Surat dalam Al Quran, yaitu Surat Ar-Rum. Satu surat yang bicara tentang bangsa lain, yaitu bangsa Romawi. Kenapa Al Quran bercerita tentang bangsa Romawi, padahal umat Islam ketika itu masih buta huruf dan terisolir? katanya. Baca juga: Soal Video Sekda Takalar Kampanye Prabowo-Gibran, Bawaslu Tak Temukan Pelanggaran Lalu, lanjut dia, 13 tahun kemudian, umat Islam terlibat terlibat pertempuran hebat dengan bangsa Romawi yang mengakibatkan Romawi hilang dari peta dunia. Sehingga Al Quran mengajarkan kepada umat Islam agar memiliki pandangan yang luas mengenai kesadaran geopolitik. Menurutnya, kesadaran geopolitik ini penting agar umat Islam bisa memilih pemimpin yang tepat. Sebab, dunia saat ini berada di ambang perang global yang terjadi di kawasan-kawasan. Di Afrika sudah, Eropa sedang berlangsung, di Timur Tengah juga sekarang sedang berlangsung. Dan perlu diingat, dengan terpilihnya Presiden Taiwan yang didukung AS, situasi di kawasan kita akan semakin panas. Hubungan AS dan China akan semakin tegang dan panas, ujarnya. Artinya, jelas dia, Indonesia yang berada di kawasan Asia-Pasifik yang bisa saja menjadi salah satu medan tempur (battleground) bagi negara-negara adidaya dunia. Pemimpin Indonesia terpilih pun harus bisa menyiapkan diri menghadapi skenario tersebut. Baca juga: Program Makan Siang Gratis Prabowo-Gibran, Solusi atau Peluang Timbulkan Masalah Baru? Karena itu, apa yang sudah dilakukan Pak Prabowo dan Presiden Joko Widodo yang mengakhiri pembelahan luar biasa dalam dua pilpres lalu adalah hal yang tepat. Kemudian mereka berdua bersatu, sehingga bisa menyelamatkan Indonesia, katanya. \",\"Wakil Ketua Tim Kampanye Nasional (TKN) Prabowo Subianto-Gibran Rakabuming Raka, Ahmad Muzani, menyebutkan, Prabowo-Gibran sudah sah menjadi presiden dan wapres 2024-2029 setelah Mahkamah Konstitusi (MK) menolak gugatan dari kubu paslon 01 dan 03 terkait sengketa Pilpres 2024. Kita baru saja mendengar keputusan MK tentang sengketa pilpres yang diajukan paslon 01 dan 03. Upaya ini adalah upaya yang dimungkinkan oleh konstitusi dan upaya ini adalah upaya terakhir yang diberikan oleh pasangan capres untuk menggugat tentang sengketa pilpres, ujar Muzani dalam jumpa pers di Medcen TKN Prabowo-Gibran, Jakarta Selatan, Senin (22\\u002f4\\u002f2024). Dengan diputuskannya MK, di mana pasangan 02 yakni pasangan capres Prabowo Subianto bersama dengan Gibran Rakabuming Raka sebagai capres dinyatakan sah sebagai presiden RI dan wakil presiden RI pemenang dalam Pilpres 2024 yang baru kemarin kita laksanakan, kata dia. Baca juga: MK Tolak Gugatan Anies dan Ganjar, Yusril: Kami Sudah Ramal sejak Awal Muzani menyampaikan, pihaknya menghormati semua ikhtiar dan upaya yang dilakukan oleh kubu Anies-Muhaimin dan Ganjar-Mahfud yang ingin menempuh jalan keadilan. Dia menyebutkan, pihaknya menjunjung tinggi hak konstitusi tersebut. Akan tetapi, ketika keputusan MK sudah dibacakan, sebagai akhir keputusan tersebut, kami mohon putusan MK itu mohon dihormati dan dijunjung tinggi. Karena sifat dari keputusan MK adalah bersifat final dan mengikat, kata Muzani. Maka dari itu, Muzani kembali menekankan Prabowo-Gibran sudah sah menjadi presiden dan wapres RI 2024-2029. Baca juga: Ganjar Beri Selamat ke Prabowo-Gibran, Ingatkan Banyak PR Harus Diselesaikan Dia turut mengucapkan terima kasih kepada semua rakyat Indonesia yang telah mengikuti proses persidangan di MK secara terbuka dan fair. Kami ucapkan terima kasih kepada KPU, Bawaslu, DKPP. Kami juga ucapkan terima kasih kepada aparat kepolisian RI, TNI. Kami juga ucapkan terima kasih kepada seluruh insan pers yang terus-menerus memberitakan tentang berbagai macam persidangan yang terjadi di MK, kata dia. \",\"Menteri Pendayagunaan Aparatur Negara dan Reformasi Birokrasi (PAN-RB) Abdullah Azwar Anas mengaku sempat membahas mengenai revisi Undang-Undang (UU) No. 39\\u002f2008 tentang Kementerian Negara saat bertemu dengan Presiden Joko Widodo di Istana Kepresidenan Jakarta, Jumat (28\\u002f6\\u002f2024). Anas mengatakan, pada prinsipnya pembentukan kementerian akan diselaraskan dengan strategi pencapaian visi dan misi serta kebutuhan presiden di masa mendatang jika disetujui, termasuk Presiden Terpilih Prabowo Subianto. Baca juga: Survei Litbang Kompas: 42,3 Persen Publik Setuju Jumlah Kementerian Tetap 34 Terkait inisiatif UU Kementerian Negara, tadi dibahas bahwa khusus untuk pasal 15 kita tidak akan membahas secara rigid, kecuali memberi ruang kepada bapak presiden election yang akan datang untuk terkait jumlah kabinet disesuaikan dengan efisiensi menjalankan pemerintahan, kata Anas di Istana, Jumat. Anas menuturkan, Kementerian PAN-RB belum dapat menyampaikan pernyataan lebih lanjut karena proses revisi UU Kementerian Negara sedang berjalan. Tetapi menurutnya, secara prinsip ada dua hal yang ditekankan. Pertama, pembentukan kementerian merupakan prerogratif Presiden. Baca juga: Penambahan Jumlah Kementerian dan Hak Prerogatif Presiden Kedua, pembentukan kementerian akan berbasis pada efektivitas pemerintahan, termasuk terkait optimalisasi tugas-fungsi yang ada di masing-masing kementerian untuk digerakkan dalam rangka mencapai target kinerja pemerintahan dan pembangunan nasional. Terkait dengan Pasal 15 itu bahwa kita tidak akan lebih rigid lagi soal jumlah, tapi disesuaikan dengan kebutuhan presiden dan skala prioritas berdasarkan strategi. Dan tentu harapannya agar penyelenggara daerah tetap efisien dan efektif, ucap dia. Anas menambahkan, sesuai arahan Presiden Jokowi, saat ini pemerintah terus melakukan penguatan tata kelola pemerintahan dan proses bisnis yang efektif melalui koordinasi dan kolaborasi antar kementerian dan lembaga. Baca juga: Survei Litbang Kompas: Jumlah Kementerian Era Jokowi Dianggap Sudah Ideal Pemerintah, kata dia, fokus pada tata kelola agar berjalan baik dan berdampak ke rakyat. Intinya berdampak, bisa dirasakan rakyat, seperti berulangkali disampaikan Presiden Jokowi. Contohnya beberapa hari lalu pemerintah meluncurkan digitalisasi perizinan event sebagai hasil pemangkasan proses bisnis dan kolaborasi lintas kementerian, sebutnya. Sebagai informasi, Dewan Perwakilan Rakyat (DPR) telah menyetujui rencana revisi UU tersebut menjadi rancangan UU inisiatif DPR. \",\"Calon presiden (capres) nomor urut 1 Anies Baswedan mengaku, dia tidak keberatan ketika Komisi Pemilihan Umum (KPU) RI menetapkan Prabowo Subianto-Gibran Rakabuming Raka sebagai Presiden-Wakil Presiden terpilih untuk periode 2024-2029. Hal ini ditegaskan Anies ketika ditanya wartawan terkait Prabowo yang menyebutnya berat saat tersenyum di acara penetapan presiden-wakil presiden terpilih oleh KPU. Kalau itu tanyakan ke beliau, kan beliau yang ngalamin. Kalau kita kan biasa-biasa saja, kata Anies di halaman Kantor KPU, Jakarta, Rabu (24\\u002f4\\u002f2024). Adapun Prabowo-Gibran ditetapkan sebagai presiden dan wakil presiden terpilih melalui Keputusan KPU Nomor 504 Tahun 2024 yang meliputi perolehan suara di 38 provinsi dan 128 wilayah di luar negeri. Baca juga: Sapa Anies-Muhaimin, Prabowo: Saya Pernah di Posisi Anda, Senyuman Anda Berat Sekali Penetapan ini dilakukan setelah gugatan sengketa Pilpres 2024 yang diajukan Anies Baswedan-Muhaimin Iskandar dan Ganjar Pranowo-Mahfud MD ditolak Mahkamah Konstitusi (MK). Dalam pidato perdana usai ditetapkan KPU, Prabowo pun menyapa Anies Baswedan-Muhaimin Iskandar sebagai calon presiden dan calon wakil presiden (capres-cawapres) nomor urut 1. Prabowo mengakui, banyak pihak mungkin lelah dan tidak puas serta kecewa atas hasil pemilu. Dia kemudian bergurau dengan Anies dan cawapres pendampingnya, Muhaimin Iskandar, yang turut hadir dalam acara penetapannya. Baca juga: Momen Prabowo Guncangkan Badan Anies Sambil Tertawa Usai Jadi Presiden Terpilih Prabowo mengatakan, dia pernah berada pada posisi Anies dan Muhaimin saat ini. Mas Anies, Mas Muhaimin, saya pernah ada di posisi Anda. Saya tahu senyuman Anda berat sekali itu, kata Prabowo dibalas tawa semua hadir, termasuk senyuman Gibran Rakabuming yang mendampinginya di sisi mimbar. Namun demikian, menurut Prabowo, kompetisi yang sengit itu lah yang diinginkan oleh para pemilih. Dia mengatakan, rakyat akan selalu menuntut pilihan dan perbandingan dalam setiap pemilu. Kalau kontestasi adem-adem saja saja, kalau kontestan itu tidak tajam dan tidak keras, namanya bukan pilihan untuk rakyat, ujar dia. Saya terima kasih kepada Mas Anies dan Mas Muhaimin, juga saya terima kasih kepada Mas Ganjar dan Profesor Mahfud, kata Prabowo lagi. Baca juga: Jadi Presiden Terpilih, Prabowo Terima Kasih ke Anies-Muhaimin dan Ganjar-Mahfud \",\"Pengamat politik dari UIN Syarif Hidayatullah Adi Prayitno memprediksi presiden terpilih 2024-2029 Prabowo Subianto akan memilih PDI-P ketimbang Presiden Joko Widodo. Adi meyakini hal tersebut bakal terjadi usai Jokowi lengser dan Prabowo resmi dilantik menjadi presiden pada 20 Oktober 2024. Rasa-rasanya setelah 20 Oktober, Prabowo ini akan jauh memprioritaskan PDI-P ketimbang Jokowi yang sudah tak lagi jadi presiden, ujar Adi dalam program Obrolan Newsroom Kompas.com, Selasa (30\\u002f4\\u002f2024). Tapi per hari ini, saya membaca Prabowo masih cukup menghargai dan menjadikan Jokowi sebagai variabel penting. Karena sampai tanggal 20 saya kira Jokowi masih jadi presiden, sambungnya. Baca juga: Projo Ungkap Kemungkinan Jokowi Akan Gabung Parpol Lain Setelah Tak Dianggap PDI-P Menurut Adi, ketika Jokowi sudah tidak menjadi sosok penting bagi Prabowo, potensi PDI-P bergabung ke pemerintahan terbuka. Sebaliknya, jika nantinya Jokowi masih ikut campur dalam pemerintahan Prabowo-Gibran, PDI-P tidak akan senang untuk ikut berkoalisi. Oleh karena itu, setidaknya PDI-P barrier politiknya bagaimana hubungan Prabowo dan Jokowi. Kalau sudah tak baik-baik saja, bukan tidak mungkin PDI-P itu akan jadi bagian dari koalisi, kata Adi. Maka dari itu, Adi meminta publik melihat apa yang terjadi setelah Jokowi menyerahkan kursi presiden kepada Prabowo pada 20 Oktober 2024. Baca juga: Sekjen PDI-P: Banyak Pengurus Ranting Minta Pertemuan Megawati-Jokowi Tak Terjadi Adi meyakini bahwa Prabowo pasti akan mengedepankan dukungan yang berlimpah di parlemen. Dari situ, kata dia, bisa terlihat apakah Jokowi masih dianggap sosok yang penting atau tidak bagi Prabowo. Karena kalau mau jujur, Prabowo ini pasti akan bicara ke depan, bagaimana mendapatkan dukungan berlimpah, dukungan politik, dukungan partai solid, sehingga semua keputusan politik bisa berjalan dengan baik, jelasnya. Adi meyakini bahwa Gerindra dan Prabowo tidak nyaman jika PDI-P berada di luar kekuasaan. Pasalnya, PDI-P merupakan partai pemenang Pileg 2024 dan pemilik kursi terbanyak di parlemen. Mereka juga berpengalaman sebagai oposisi. Mereka bisa kritis dan selalu bisa resisten setiap keputusan politik Prabowo, kata Adi. Pasca (Jokowi) tak lagi jadi presiden, Prabowo akan memilih, lebih penting mana antara PDI-P dan Pak Jokowi, imbuhnya. \",\"Presiden Joko Widodo melakukan penyematan pangkat Jenderal Kehormatan kepada Menteri Pertahanan (Menhan) Prabowo Subianto pada Rabu (28\\u002f2\\u002f2024). Acara penyematan digelar saat rapat pimpinan (rapim) TNI-Polri di Markas Besar (Mabes) TNI, Cilangkap, Jakarta Timur. Prosesi pemberian gelar Jenderal Kehormatan diawali pengumuman pemberian gelar kehormatan kepada Presiden. Baca juga: Diberhentikan dari Militer, Gelar Jenderal Kehormatan Prabowo Dipertanyakan Setelah itu, Jokowi menyematkan lencana dan tanda bintang di bahu dan pundak Prabowo yang mengenakan seragam TNI lengkap. Kepala Negara pun menyalami Menhan Prabowo sambil mengucapkan selamat. Dengan demikian, Prabowo melengkapi jabatan militernya sebagai Jenderal Bintang 4. Pangkat terakhir Prabowo di TNI sebelum pensiun yakni, Letnan Jenderal (Letjen). Pemberian gelar kehormatan untuk Prabowo diumumkan Jokowi saat menyampaikan sambutan.  Dalam kesempatan yang baik ini, dalam kesempatan yang berbahagia ini, saya ingin menyampaikan penganugerahan kenaikan pangkat secara istimewa berupa Jenderal TNI kehormatan kepada Bapak Prabowo Subianto, ujar Jokowi. Penganugerahan ini adalah bentuk penghargaan sekaligus peneguhan untuk berbakti sepenuhnya kepada rakyat, kepada bangsa dan kepada negara. Saya ucapkan selamat kepada Bapak Jenderal Prabowo Subianto, lanjutnya. Acara penganugerahan pangkat Jenderal Kehormatan kepada Prabowo ini dihadiri Panglima TNI Jenderal Agus Subiyanto, Kapolri Jenderal Listyo Sigit Prabowo, Kepala Staf Angkatan Darat Jenderal Maruli Simanjuntak, Kepala Staf Angkatan Laut Laksamana Mohammad Ali, dan Kepala Staf Angkatan Udara Marsekal Fadjar Prasetyo. Selain itu hadir pula Wakil Menteri Pertahanan Muhammad Herindra, Baca juga: Langkah Jokowi Jadikan Prabowo Jenderal Kehormatan Bisa Mencoreng TNI Wakil Ketua MPR Ahmad Muzani dan Ketua Komisi I DPR RI Meutia Hafidz Diketahui, pangkat terakhir Prabowo adalah Letnan Jenderal (Purn) atau bintang tiga. Dengan demikian, mantan Komandan Jenderal Kopassus dan Panglima Kostrad itu akan menyandang bintang empat.  \",\"Menteri Pertahanan (Menhan) Prabowo Subianto berdiri dan memberikan hormat saat Presiden Joko Widodo (Jokowi) menyapanya saat memberikan amanat selaku inspektur upacara dalam peringatan Hari Ulang Tahun (HUT) ke-78 Bhayangkara di Lapangan Monas, Jakarta, Senin (1\\u002f7\\u002f2024). Presiden Jokowi awalnya menyapa Wakil Presiden (Wapres) Maruf Amin dan Ibu yang hadir. Lalu, Ibu Negara ke-4 Ibu Sinta Nuriah dan Wapres ke-10 dan 12 RI Jusuf Kalla. Yang saya hormati Presiden terpilih RI Bapak Prabowo Subianto, kata Jokowi dikutip dari Kompas TV, Senin. Disapa oleh Jokowi, Prabowo yang duduk di bangku para undangan lantas berdiri dan memberikan hormat. Kemudian, duduk kembali. Baca juga: Hadiri HUT Bhayangkara Ke-78, Prabowo Berjalan Berdampingan dengan Puan Maharani Ini bukan kali pertama Presiden Jokowi menyapa Prabowo sebagai Presiden RI terpilih di acara penting. Jokowi pernah mengenalkan Prabowo sebagai suksesornya kepada tamu-tamu internasional saat membuka World Water Forum (WWF) ke-10 di Nusa Dua, Bali pada 20 Mei 2024. Menggunakan bahasa Inggris, Jokowi menyebut bahwa Prabowo yang saat ini menjabat Menteri Pertahanan bakal melanjutkan komitmen Indonesia terhadap pengelolaan air. Sehubungan dengan kelanjutannya pada bulan Oktober masa jabatan saya sebagai presiden akan berakhir. Dan pada kesempatan yang baik ini izinkan saya memperkenalkan Presiden Terpilih Indonesia Bapak Prabowo Subianto, kata Jokowi dalam pidatonya. Diperkenalkan oleh Jokowi, Prabowo lantas berdiri dari kursinya. Dia menangkupkan kedua tangannya seraya memutar badannya untuk memberikan salam pada para kepala negara, delegasi hingga tamu undangan yang menghadiri pembukaan WWF ke-10 di Bali.  Baca juga: Hari Bhayangkara ke-78 di Monas, Prabowo Hadir meski Baru Saja Dioperasi Senyum tipis juga sesekali terlihat di wajah Ketua Umum Partai Gerindra tersebut. Prabowo juga sempat menundukkan badan kepada Jokowi setelah memperkenalkannya sebagai Presiden RI berikutnya. Kemudian, disaksikan dari tayangan Kompas TV, Prabowo kembali duduk setelah sesi perkenalan tersebut selesai. Terima kasih, Pak Prabowo, ujar Jokowi setelah sesi perkenalan tersebut. Sementara itu, Prabowo diketahui baru menjalani operasi karena cidera kaki di Rumah Sakit Pusat Pertahanan Negara (RSPPN) Panglima Besar Soedirman, Jakarta Selatan, pada pekan lalu. Namun, Prabowo terlihat berjalan cukup cepat saat memasuki tempat upacara HUT ke-78 Bhayangkara. Prabowo tampak berjalan dua baris di belakang Presiden Jokowi dan Ibu Iriana Jokowi. Selain itu, dia terlihat berjalan berdampingan dengan Ketua DPR RI Puan Maharani. Baca juga: Presiden RI yang Pernah Jalani Operasi Saat Menjabat dan Sudah Lengser Selain Prabowo, sejumlah menteri juga tampak hadir. Seperti Menteri Pekerjaan Umum dan Perumahan Rakyat (PUPR) Basuki Hadimuljono, Menteri Sekretariat Negara (Mensesneg) Pratikno, Menteri Investasi Bahlil Lahadahlia, Menteri Perdagangan Zulkifli Hasan, dan Menteri Koordinator Bidang Pembangunan Manusia dan Kebudayaan (Menko PMK) Muhadjir Effendy. Lalu, Menteri Agraria dan Tata Ruang (ATR) Agus Harimurti Yudhoyono (AHY), Menteri Pendayagunaan Aparatur Negara dan Reformasi Birokrasi Azwar Anas, Jaksa Agung ST Burhanuddin, dan Ketua MPR RI Bambang Soesatyo. Nampak juga hadir Wakil Presiden ke-10 dan 12 RI Jusuf Kalla, Istri Presiden ke-4 RI Abdurrahman Wahid atau kerap disapa Gus Dur, Ibu Sinta Nuriyah, dan Wakil Presiden ke-6 RI Try Sutrisno. Kemudian, Ketua Komisi Pemilihan Umum (KPU) Hasyim Asyari, Ketua Badan Pengawas Pemilu (Bawaslu) Rahmat Bagja, Ketua Dewan Kehormatan Penyelenggara Pemilu (DKPP) Hedy Lugito. Baca juga: Ekspresi Prabowo Diperkenalkan Jokowi sebagai Presiden Terpilih di WWF Ke-10 di Bali \",\"Para sesepuh Komando Pasukan Khusus (Kopassus) berkumpul saat merayakan hari ulang tahun (HUT) ke-72 Korps Baret Merah pada Selasa (30\\u002f4\\u002f2024), termasuk Menteri Pertahanan RI sekaligus presiden terpilih Prabowo Subianto. Prabowo, yang merupakan Komandan Jenderal Kopassus periode 1995-1998, disambut para sesepuh Korps Baret Merah lain saat tiba di Lapangan Markas Besar Kopassus, Cijantung, Jakarta Timur, sekira pukul 08.06 WIB. Ia didampingi Panglima TNI Jenderal Agus Subiyanto, Kapolri Jenderal Listyo Sigit Prabowo, dan Komandan Jenderal Kopassus Mayjen Djon Afriandi saat menuju tenda yang menjadi lokasi para sesepuh menyaksikan upacara peringatan HUT Kopassus. Menteri Kesehatan RI Budi Gunadi Sadikin juga hadir di lokasi. Baca juga: Kenakan Baret Merah, Prabowo Hadiri Perayaan HUT Ke-72 Kopassus di Cijantung Sementara itu, para sesepuh yang tampak hadir seperti Jenderal (Purn) Agum Gumelar (eks Menhan dan Danjen Kopassus), Staf Khusus Menhan Letjen (Purn) Sjafrie Sjamsoeddin, hingga Letjen (Purn) Sintong Panjaitan (eks penasihat presiden dan Danjen Kopasssus). Kemudian, para senior Kopassus yang masih aktif menjabat dan hadir di lokasi seperti Kepala Staf TNI AD Jenderal Maruli Simanjuntak, Wakil Kepala BIN Letjen I Nyoman Cantiasa, Panglima Komando Gabungan Wilayah Pertahanan III Letjen Richard Tampubolon, hingga Komandan Pusat Kesenjataan Infanteri TNI AD Letjen Teguh Muji Angkasa. Tampak pula eks Danjen Kopassus yang lain seperti Mayjen Deddy Suryadi (Pangdam IV\\u002fDiponegoro) dan Mayjen (Purn) Soenarko. Dalam kesempatan itu, Prabowo disambut tepuk tangan usai Panglima Agus menyebut dirinya sebagai presiden terpilih. Yang Terhormat, presiden terpilih Republik Indonesia periode 2024-2029 Jenderal TNI Purnawirawan Prabowo Subianto, kata Agus yang disambut tepuk tangan para senior Kopassus. Baca juga: Mengenal Sosok Eks Danjen Kopassus Soenarko yang Demo di KPU, Pernah Dituduh Makar pada Masa Pilpres 2019   Perayaan HUT Kopassus kali ini juga dimeriahkan defile pasukan Korps Baret Merah yang diiringi pertunjukkan alat utama sistem persenjataan (alutsista). Setelah itu, juga dilakukan pemutaran video lagu prajurit Kopassus untuk Prabowo. Para prajurit yang menciptakan lagu diberi plakat oleh Prabowo. Usai upacara, Prabowo meninggalkan lokasi dan tidak mengeluarkan pernyataan apa pun kepada awak media. Acara perayaan HUT Kopassus kemudian ditutup dengan para sesepuh dan pejabat senior Kopassus menaiki mobil taktis menuju ke Gedung Nanggala. Menteri Koordinator Bidang Kemaritiman dan Investasi (Menko Marves) Luhut Binsar Pandjaitan tampak menaiki mobil paling depan dan disopiri Danjen Kopassus Djon Afriandi. \",\"China menjadi negara pertama yang dikunjungi Menteri Pertahanan (Menhan) sekaligus calon presiden (capres) nomor urut 2 Prabowo Subianto usai menang dalam Pemilihan Presiden (Pilpres) 2024. Prabowo telah tiba di Beijing, China, Minggu (31\\u002f3\\u002f2024). Setibanya di Bandara Beijing, Prabowo langsung disambut oleh Wakil Menteri Luar Negeri Sun Weidong, Duta Besar China untuk Indonesia Lu Kang, dan Atase Pertahanan RI di Beijing Brigjen TNI (Mar) Benny Poltak. Turut hadir dalam kunjungan tersebut, Wakil Ketua Komisi I DPR RI Sugiono, Asisten Khusus Menhan bidang Manajemen Pertahanan Letjen TNI (Purn) Sjafrie Sjamsoeddin, dan Kepala Bais TNI Letjen Yudi Abrimantyo.   Thank you very much, ujar Prabowo kepada anak kecil tersebut, dikutip dari keterangan resmi Kemenhan, Senin (1\\u002f4\\u002f2024). What is your name? How old are you? katanya lagi. Baca juga: Prabowo Tiba di China, Temui Xi Jinping Hari Ini Kemudian, Prabowo menuju hotel The Peninsula Beijing dan disambut ramah oleh Dubes RI untuk China Djauhari Oratmangun, Kabaranahan Kemenhan, Kabainstrahan Kemenhan, Dirjen Strahan Kemenhan, dan Dirjen Renhan Kemenhan. Pada hari ini, Senin (1\\u002f4\\u002f2024), Prabowo dijadwalkan bertemu Presiden China Xi Jinping. Kepala Biro Setjen Humas Kemenhan Brigjen Edwin Adrian Sumantha menyebut kunjungan Prabowo ke Negeri Tirai Bambu bertujuan untuk mempererat hubungan bilateral kedua negara. Tujuan utama dari kunjungan ini adalah untuk mempererat hubungan bilateral antara Indonesia dan China serta meningkatkan kerja sama di bidang pertahanan, ujar Edwin. Baca juga: Dijadwalkan Bertemu Xi Jinping, Prabowo Akan Bahas Kerja Sama Bidang Pertahanan Edwin mengatakan, kunjungan Prabowo bagian dari upaya berkelanjutan kedua negara dalam memperkuat dialog dan kerja sama strategis yang sangat penting bagi keamanan dan stabilitas regional. Setelah bertemu Xi Jinping, Prabowo akan bertemu Menteri Pertahanan China Admiral Dong Jun, Selasa (2\\u002f4\\u002f2024). \",\"Perkara sengketa hasil Pemilihan Presiden (Pilpres) 2024 sudah tuntas dengan dibacakannya putusan oleh Mahkamah Konstitusi (MK) pada Senin (22\\u002f4\\u002f2024). Dalam sidang putusan yang digelar di Gedung MK, Jakarta, seluruh permohonan yang diajukan calon presiden (capres) dan wakil presiden (cawapres) nomor urut 1 Anies Baswedan-Muhaimin Iskandar dan capres dan cawapres nomor urut 3 Ganjar Pranowo-Mahfud MD ditolak. Setelah persidangan sengketa selesai, Komisi Pemilihan Umum (KPU) segera menetapkan capres dan cawapres nomor urut 2 Prabowo Subianto dan Gibran Rakabuming Raka sebagai presiden dan wakil presiden (wapres) terpilih. Baca juga: PDI-P Minta Penetapan Prabowo-Gibran Ditunda, KPU: Pasca-MK Tak Ada Pengadilan Lagi Menurut rencana, penetapan Prabowo-Gibran sebagai presiden dan wakil presiden terpilih akan dilakukan pada Rabu (24\\u002f4\\u002f2024). Tahapan berikutnya untuk pilpres adalah penetapan pasangan calon presiden dan wakil presiden terpilih Pemilu 2024 yang diagendakan KPU akan dilaksanakan pada hari Rabu tanggal 24 April 2024 jam 10.00 WIB dilaksanakan di kantor KPU, kata Ketua KPU Hasyim Asy'ari di Gedung MK, Jakarta, Senin lalu. Salah satu Komisioner KPU, Idham Kholik, mengatakan, mereka mempunyai waktu tiga hari buat melakukan penetapan presiden dan wakil presiden. Mereka akan menerima salinan putusan MK terkait perkara sengketa hasil Pilpres 2024 paling lambat tiga hari setelah dibacakan. Waktu pelantikan Prabowo-Gibran menjadi presiden dan wakil presiden periode 2024-2024 juga sudah dijadwalkan. Menurut Idham, proses pelantikan mengacu pada Pasal 8 ayat (1) Peraturan KPU Nomor 6 Tahun 2024. Baca juga: Gibran Temui Prabowo di Kertanegara Jelang Penetapan Presiden-Wapres Terpilih KPU juga mengundang Presiden Joko Widodo (Jokowi) dan Wakil Presiden Ma'ruf Amin, partai pengusung, tim kampanye, dan Badan Pengawas Pemilihan Umum (Bawaslu) dalam kegiatan itu. Presiden Jokowi merupakan ayah Gibran. KPU menetapkan pasangan Prabowo-Gibran sebagai pemenang Pilpres 2024 usai proses rekapitulasi penghitungan perolehan suara tingkat nasional pada 22 Maret 2024. Menurut data KPU, Prabowo-Gibran memperoleh 96.214.691 suara, atau sekitar 58,58 persen dari seluruh suara sah nasional. Rival mereka, Anies Baswedan-Muhaimin Iskandar, memperoleh 40.971.906 suara atau sekitar 24,95 persen dari seluruh suara sah nasional. Sementara itu, pasangan Ganjar Pranowo-Mahfud MD memperoleh suara sebanyak 27.040.878 suara, atau sekitar 16,47 persen dari seluruh suara sah nasional. Baca juga: Proses di PTUN Masih Berjalan, PDI-P Minta KPU Tunda Penetapan Prabowo-Gibran Prabowo-Gibran belum mulai bertugas setelah ditetapkan sebagai presiden dan wakil presiden terpilih. Menurut Peraturan KPU (PKPU) Nomor 3 Tahun 2022 tentang Tahapan dan Jadwal Penyelenggaraan Pemilihan Umum Tahun 2024, Prabowo-Gibran baru menjalankan tugas kenegaraan setelah dilantik pada 20 Oktober 2024. Meski begitu, pasangan Prabowo-Gibran disebut bakal mulai mempersiapkan peralihan dari pemerintahan Presiden Joko Widodo (Jokowi) yang semakin mendekati masa akhir periode kedua kepemimpinannya. Menurut Ketua Umum Partai Amanat Nasional (PAN) Zulkifli Hasan, Prabowo yang saat ini menjabat sebagai Menteri Pertahanan (Menhan) mulai bekerja sebagai presiden terpilih. Baca juga: Cak Imin Mengaku Belum Dapat Undangan KPU untuk Penetapan Prabowo-Gibran Enggak ada lagi (tim transisi). Jadi nanti, sekarang sudah mulai kok. Pak Prabowo sudah mulai bekerja kan. Setiap rapat apa pun Pak Prabowo sudah ikut. Rapat di Istana, Pak Prabowo ikut sudah. Jadi nanti lanjut langsung, ujar Zulkifli di Kantor DPP PAN, Jakarta Selatan, Selasa (23\\u002f4\\u002f2024). Enggak ada tim transisi. Dulu transisi dari Pak SBY ke Pak Jokowi kan. Kalau sekarang enggak, lanjut. Orang-orangnya kan udah (ada dalam kabinet saat ini), kata dia. Zulkifli juga belum mau memaparkan soal susunan kabinet bayangan pemerintahan Prabowo-Gibran. Menurut dia, hal itu kemungkinan akan disampaikan langsung oleh Prabowo karena mempunyai hak prerogatif buat menentukan susunan kabinet. Baca juga: Golkar Belum Mau Bahas Jatah Menteri, Airlangga: Tunggu Penetapan KPU Ya itu presiden terpilih yang akan menyampaikan. Ini siapa, siapa itu, hak beliau. Enggak ada ukurannya harus 10, ini harus 20. Enggak begitu, ujar Zulkifli. \",\"Presiden terpilih Prabowo Subianto mengatakan bahwa sektor pendidikan dan kesehatan akan menjadi fokus bagi pemerintahannya lima tahun ke depan. Hal itu diungkap Prabowo setelah menerima arahan dari Presiden Joko Widodo (Jokowi) dalam sidang kabinet paripurna beberapa waktu lalu. Sesuai arahan Presiden RI @jokowi pada Sidang Kabinet Paripurna yang lalu, Sektor Pendidikan dan Kesehatan akan terus menjadi fokus bersama Pemerintah ke depan, tulis Prabowo dalam unggahan lewat akun Instagramnya, @prabowo, Kamis (27\\u002f6\\u002f2024) petang. Baca juga: PDI-P: Tak Ada Tawaran Ganjar Jadi Menteri Prabowo Dalam sidang kabinet yang digelar di Istana Negara, Jakarta Pusat, Senin (24\\u002f6\\u002f2024), Presiden Jokowi dan Prabowo duduk berdampingan. Plt Deputi Protokol dan Pers Media Istana, Yusuf Permana mengatakan, Prabowo diberi tempat duduk di samping Jokowi karena berstatus sebagai presiden terpilih. Baca juga: Anies Ingin Bertemu Prabowo Sebelum Pilkada 2024, Demokrat: Kita Harus Sambut Baik Biasanya, Prabowo selaku Menteri Pertahanan tidak duduk sejajar dengan Jokowi, melainkan duduk bersama para menteri lainnya di hadapan presiden. Pejabat yang duduk sejajar dengan Jokowi biasanya adalah Wakil Presiden Ma'ruf Amin beserta empat menteri koordinator. Namun, pada rapat tersebut, Ma'ruf Amin dan empat menteri koordinator turut hadir dan duduk dalam satu deret dengan Jokowi dan Prabowo. \",\"Presiden RI Joko Widodo (Jokowi) tidak hadir dalam sidang Pengadilan Tata Usaha Negara (PTUN) terkait gugatan pangkat kehormatan Jenderal TNI bintang empat yang ia berikan kepada Menteri Pertahanan RI Prabowo Subianto. Pihak Penggugat dari Komisi untuk Orang Hilang dan Korban Tindak Kekerasan (KontraS) Jane Rosalina, mengatakan pihak Jokowi pun belum memberikan kuasa kepada pihak jaksa pengacara negara untuk persidangan. Presiden belum memberikan kuasa kepada pihak jaksa pengacara negara, ucap Jane kepada wartawan di PTUN, Jakarta Timur, Kamis (20\\u002f6\\u002f2024). Baca juga: Prabowo Mangkir Panggilan PTUN soal Gugatan Bintang 4, Pilih Hadiri Penyematan Bintang Bhayangkara Utama Polri Selain itu, Menteri Pertahanan Prabowo Subianto juga mangkir dari panggilan PTUN Jakarta soal gugatan tersebut. Karena ketidakhadiran pihak Jokowi dan Prabowo, Jane menyebut majelis hakim akan menunda persidangan. Namun kemudian majelis hakim menyatakan sidang ini ditunda karena pihak dari tergugat belum hadir, belum memberikan kuasanya, ucap Jane. Pihak intervensi yang minggu lalu sudah dipanggil oleh majelis hakim, yaitu Prabowo Subianto yang seharusnya hari ini hadir ke persidangan, namun hari ini mangkir di persidangan, imbuhnya. Baca juga: Kilas Balik Pengakuan Prabowo Memburu Aktivis 98 Sebelum Jadi Jenderal Kehormatan Sebagai informasi, Koalisi Masyarakat Sipil Melawan Impunitas menggugat pemberian pangkat kehormatan Jenderal TNI bintang empat kepada Menteri Pertahanan RI Prabowo Subianto. Adapun koalisi yang terdiri dari keluarga korban Penghilangan Paksa 1997-1998, KontraS, IMPARSIAL, dan organisasi masyarakat sipil lainnya itu melayangkan gugatannya kepada Presiden RI Joko Widodo ke Pengadilan Tata Usaha Negara (PTUN) Jakarta, pada Selasa (28\\u002f5\\u002f2024). Kami koalisi masyarakat bersama dengan keluarga korban 1997-1998, melayangkan gugatan kepada Presiden Jokowi atas objek gugatan berupa keputusan tata usaha negara yang ia keluarkan, kata Kepala Divisi Pemantauan Impunitas Kontras, Jane Roslina di Jakarta Timur. Ialah Keputusan Presiden Nomor 13\\u002fTNI\\u002f24 per tanggal 21 Februari 2024 tentang Penganugerahan Pangkat Secara Istimewa berupa pangkat Jenderal TNI Kehormatan kepada Prabowo Subianto, terangnya. Baca juga: Koalisi Masyarakat Sipil Gugat Pemberian Pangkat Bintang Empat Prabowo ke PTUN Sebelumnya, Presiden RI Joko Widodo telah menganugerahkan pangkat kehormatan Jenderal TNI bintang empat kepada Menteri Pertahanan RI Prabowo Subianto pada 28 Februari 2024. Namun, hal itu dianggap tidak pantas, karena Prabowo selama ini memiliki rekam jejak yang buruk, baik dari sisi karier militer maupun dugaan keterlibatannya dalam peristiwa penculikan dan penghilangan orang secara paksa pada 1997-1998 serta sejumlah pelanggaran berat HAM. Baru saja kita daftarkan gugatannya dan kita akan melihat sejauh mana PTUN berani untuk menguji keputusan yang dilakukan oleh Presiden, ucap Jane. Yang mana kami cermati itu memiliki sejumlah catatan dan bertentangan dengan perundang-undangan, terutama UU TNI, HAM, dan asas umum pemerintahan yang baik, tutur dia. \",\"Presiden Joko Widodo dan presiden terpilih sekaligus Menteri Pertahanan Prabowo Subianto terpantau duduk berdampingan dalam sidang kabinet paripurna di Istana Negara, Jakarta, Senin (24\\u002f6\\u002f2024). Plt Deputi Protokol dan Pers Media Istana, Yusuf Permana mengatakan, Prabowo diberi tempat duduk di samping Jokowi karena berstatus sebagai presiden terpilih. Iya, karena posisi beliau sebagai presiden terpilih, kata Yusuf kepada wartawan, Senin. Biasanya, Prabowo selaku menteri pertahanan tidak duduk sejajar dengan Jokowi, melainkan duduk bersama para menteri lainnya di hadapan presiden. Baca juga: Jelang Pilkada, Surya Paloh Dua Kali Bertemu Jokowi Pejabat yang duduk sejajar dengan Jokowi biasanya adalah Wakil Presiden Ma'ruf Amin beserta empat menteri koordinator. Pada rapat kali ini, Ma'ruf Amin dan empat menteri koordinator turut hadir dan duduk dalam satu deret dengan Jokowi dan Prabowo. Berdasarkan pantauan Kompas.com, Menteri Koordiantor Bidang Kemaritiman dan Investasi Luhut duduk di bangku paling kanan, diikuti oleh Menteri Koordinator Bidang Perekonomian Airlangga di sebelah kirinya, dan Prabowo yang duduk di sebelah kiri Airlangga. Jokowi menempati kursi tengah, di sebelah kanannya ada Prabowo, sedangkan Ma'ruf Amin duduk di sebelah kiri Jokowi. Menteri Koordinator Bidang Politik Hukum dan Keamanan Hadi Tjahjanto duduk di sebelah kiri Ma'ruf Amin, sedangkan Menteri Koordinator Bidang Pembangunan Manusia dan Kebudayaan Muhadjir Effendy duduk di kursi paling kiri. Baca juga: Jokowi Lemas Saat Tahu Izin Berbelit-belit untuk Gelar MotoGP di Mandalika Dalam sidang kabinet hari ini, Jokowi mengingatkan agar tidak perlu terjadi turbulensi politik yang akan mempengaruhi stabilitas politik di Tanah Air saat masa transisi. Pasalnya, stabilitas politik yang tidak menentu berpotensi menurunkan peringkat daya saing Indonesia dari negara-negara lain di dunia, yang saat ini berada di posisi ke-27 menurut Institute for Management Development World Competitiveness Ranking 2024. Secara khusus yang harus menjadi perhatian yaitu stabilitas politik, ini penting agar jangan sampai ada turbulensi politik agar transisi dari pemerintahan sekarang ke pemerintahan berikut ini mulus dan baik, kata Jokowi. \",\"Menteri Pertahanan (Menhan) Prabowo Subianto mendapat tepuk tangan saat Kapolri Jenderal Listyo Sigit Prabowo dalam sambutannya menyapanya sebagai Menteri Pertahanan (Menhan) sekaligus Presiden RI terpilih periode 2024-2029. Hal itu terjadi dalam upacara peringatan Hari Ulang Tahun (HUT) ke-78 Kepolisian Negara Republik Indonesia (Polri) atau Hari Bhayangkara ke-78 di Lapangan Monas, Jakarta, Senin (1\\u002f7\\u002f2024). Yang kami hormati Menteri Pertahanan sekaligus Presiden terpilih Jenderal TNI (Purn) Prabowo Subianto, kata Listyo Sigit membuka sambutannya dikutip dari tayangan Kompas TV, Senin. Salah satu undangan yang terlihat bertepuk tangan adalah Menteri Koordinator Bidang Politik, Hukum, dan Keamanan (Menko Polhukam) Hadi Tjahjanto. Baca juga: Prabowo Beri Hormat Saat Disapa Jokowi sebagai Presiden RI Terpilih di Upacara HUT Ke-78 Bhayangkara Namun, berbeda saat disapa Presiden Joko Widodo (Jokowi) sebagai Presiden RI terpilih di acara yang sama, Prabowo yang duduk disamping Hadi Tjahjanto kali ini hanya tersenyum kecil. Sebelumnya, Prabowo memberikan reaksi berdiri dan memberikan hormat saat Jokowi menyapanya sebagai Presiden RI terpilih ketika memberikan amanat selaku inspektur upacara Hari Bhayangkara ke-78. Yang saya hormati Presiden terpilih RI Bapak Prabowo Subianto, kata Jokowi dikutip dari Kompas TV, Senin. Sebagaimana diketahui, Prabowo Subianto bersama pendampingnya Gibran Rakabuming Raka telah ditetapkan oleh Komisi Pemilihan Umum (KPU) RI sebagai Presiden dan Wakil Presiden RI terpilih periode 2024-2024. Prabowo-Gibran rencananya bakal dilantik secara resmi sebagai Presiden dan Wakil Presiden RI pada 20 Oktober 2024. Pada gelaran Pemilihan Presiden (Pilpres) 2024, Prabowo-Subianto mengalahkan dua pasangan calon presiden dan wakil presiden lainnya, yakni Anies Baswedan-Muhaimin Iskandar dan Ganjar Pranowo-Mahfud MD. Baca juga: Momen Prabowo Dampingi Jokowi Saksikan Defile Bersama di HUT Bhayangkara \",\"Ketua Umum relawan Prabowo Mania dan Jokowi Mania (Joman), Immanuel Ebenezer, meyakini, dukungan Presiden Joko Widodo ke Prabowo Subianto pada Pemilu Presiden (Pilpres 2024) ada kaitannya dengan perjanjian Batu Tulis. Oleh karena Ketua Umum PDI Perjuangan Megawati Soekarnoputri tak memenuhi perjanjian itu lantaran tidak mendukung Prabowo pada Pilpres 2014, Jokowi berupaya membayar utang tersebut. Ada yang namanya perjanjian Batu Tulis, yang isinya, salah satu poinnya, PDI-P akan mengusung Pak Prabowo (sebagai calon presiden). Ternyata dalam prosesnya tidak, kata Noel, demikian sapaan akrab Immanuel, dalam program Sapa Indonesia Pagi Kompas TV, Jumat (26\\u002f4\\u002f2024). Saya yakin sekali apa yang dilakukan Pak Jokowi cuma ingin membayar utang itu. Kalau Bu Mega tidak mampu membayarnya, biar saya yang membayarnya, ujarnya. Menurut Noel, Presiden berusaha memutus mata rantai kebencian dan dendam masa lalu karena tidak dipenuhinya perjanjian Batu Tulis oleh Megawati. Baca juga: Megawati Tekankan Syarat Kader PDI-P Maju Pilkada, Harus Disiplin, Jujur, dan Turun ke Rakyat Namun, oleh sebagian pihak, dukungan Jokowi ke Prabowo pada Pilpres 2024 justru dianggap sebagai bentuk pengkhianatan Kepala Negara terhadap partainya, PDI-P. Seandainya ada diksi pengkhianatan dan sebagainya, saya rasa enggak ada yang dikhianati, ujar Noel. Noel mengatakan, Jokowi berkali-kali menyampaikan bahwa PDI-P merupakan partai yang melahirkannya. Disebutkan pula bahwa Megawati merupakan sosok orang tua ideologi mantan Gubernur DKI Jakarta itu. Sebagai partai besar, lanjut Noel, PDI-P mestinya mengawal gagasan-gagasan dan cita-cita besar. Menurutnya, sikap PDI-P yang menganggap Jokowi berkhianat terhadap partainya kekanak-kanakan. Akan menjadi partai yang seakan-akan kerdil karena beda pilihan, kemudian itu dianggap sebuah pengkhianatan. Ini tidak baik, kata Noel. Kalau terus bangsa ini menjalankan politik kebencian, dendam, dan sebagainya, akhirnya bangsa ini tidak pernah menemukan yang namanya kedewasaan dalam berdemokrasi, tuturnya. Diberitakan sebelumnya, Ketua Bidang Kehormatan DPP PDI-P Komarudin Watubun mengatakan, Presiden Jokowi tak lagi menjadi bagian dari PDI-P. Hal itu ia sampaikan saat ditanya status Jokowi sebagai kader PDI-P setelah Mahkamah Konstitusi (MK) memutuskan menolak gugatan pasangan calon presiden dan wakil presiden nomor urut 3 Ganjar Pranowo-Mahfud MD terkait sengketa hasil Pemilu Presiden (Pilpres) 2024. Ah, orang (Jokowi) sudah di sebelah sana, bagaimana mau dibilang bagian masih dari PDI Perjuangan? yang benar saja, kata Komarudin ditemui di Kantor DPP PDI-P, Jalan Diponegoro, Menteng, Jakarta, Senin (22\\u002f4\\u002f2024). Selain Jokowi, Gibran juga ditegaskan tak lagi menjadi kader PDI-P. Menurut Komarudin, keputusan partai mencoret Gibran sebagai kader sudah berlaku sejak resmi menjadi calon wakil presiden Prabowo Subianto. Gibran itu sudah bukan kader partai lagi, saya sudah bilang sejak dia (Gibran) ambil putusan itu (jadi cawapres Prabowo), ujar anggota Komisi II DPR RI ini. Adapun kerenggangan hubungan Jokowi dan keluarga dengan PDI-P ditengarai bermula dari perbedaan sikap pada Pilpres 2024. Gibran menjadi cawapres Prabowo Subianto. Jokowi pun diyakini mendukung putra sulung dan Menteri Pertahanan kabinetnya itu. Sementara, PDI-P mengusung pasangan Ganjar Pranowo-Mahfud MD sebagai capres-cawapres Pilpres 2024. Kendati begitu, pasangan ini kalah dari Prabowo-Gibran. Baca juga: Jokowi Bakal Diberi Posisi Terhormat, PDI-P: Untuk Urusan Begitu, Golkar Paling Sigap \",\"Calon presiden (capres) nomor urut 2, Prabowo Subianto berjanji akan membangun 300 fakultas kedokteran jika terpilih menjadi Presiden mulai tahun 2024. Hal ini diungkapkan Prabowo dalam debat kelima pemilihan presiden (Pilpres) di Jakarta Convention Center (JCC) Senayan, Jakarta, Minggu (4\\u002f2\\u002f2024). Kita akan menambah fakultas kedokteran di Indonesia dari yang sekarang 92 (fakultas), kita akan membangun 300 fakultas kedokteran, kata Prabowo, Minggu. Prabowo menyampaikan, pembangunan fakultas kedokteran itu dilakukan demi mengatasi kekurangan sumber daya dokter di dalam negeri. Baca juga: Siap Hadapi Debat Pilpres Terakhir, Prabowo: Program Utama Kita di Bidang Ini Dia mengungkapkan, Indonesia masih kekurangan 140.000 dokter. Kami akan segera mempercepat mengatasi kekurangan dokter di Indonesia. Kita kekurangan 140.000 dokter dan akan segera kita atasi, ujar Prabowo. Menteri Pertahanan (Menhan) ini juga mengungkapkan, rencana ini merupakan bagian dari rencana besar Prabowo-Gibran yang diberi nama strategi transformasi bangsa. Menurut Prabowo, inti dari strategi ini adalah meningkatkan kemakmuran bangsa Indonesia dan memperbaiki kualitas hidup manusia Indonesia. Baca juga: Wajah Baru Pendukung Prabowo: Ada Sutarman, Terawan Hingga Dudung Abdurachman Di bidang kesehatan, selain membangun fakultas kedokteran, Prabowo pun berjanji akan membangun rumah sakit modern di setiap kabupaten\\u002f kota dan Puskesmas modern di setiap desa. Kita akan mengirim 10.000 anak-anak pintar dari SMA, kita akan beri beasiswa ke luar negeri untuk belajar kedokteran dan 10.000 lagi untuk belajar sains teknologi, kata Prabowo. Diketahui, debat pamungkas Pilpres mengangkat sejumlah tema, yakni, kesejahteraan sosial, kebudayaan, pendidikan, teknologi informasi, kesehatan, ketenagakerjaan, sumber daya manusia, dan inklusi. Debat akan diikuti oleh ketiga calon presiden yaitu Anies Baswedan, Prabowo Subianto, dan Ganjar Pranowo. Baca juga: Siap Hadapi Debat Pilpres Terakhir, Prabowo: Program Utama Kita di Bidang Ini \",\"Wakil Ketua Majelis Syura Partai Keadilan Sejahtera (PKS) Hidayat Nur Wahid menilai posisi Anies Baswedan di Pilkada Jakarta 2024 jauh lebih diuntungkan dan berpeluang meraih kemenangan. Hal tersebut karena Anies adalah sosok yang didukung Prabowo Subianto pada Pilkada Jakarta 2017. Di sisi lain Presiden Joko Widodo (Jokowi) sudah tidak lagi menjabat sebagai presiden sejak 21 Oktober 2024. Pada waktu Pilpres kemarin memang Pak Jokowi masih powerfull, karena memang beliau adalah presiden. Tapi nanti waktu Pilkada tanggal 27 November itu per tanggal 21 Oktober itu presidennya sudah bukan lagi Pak Jokowi. Sudah Pak Prabowo, ujar Hidayat dalam program Gaspol di Youtube Kompas.com, dikutip Minggu (30\\u002f6\\u002f2024). Baca juga: Ridwan Kamil-Kaesang Berpeluang Maju Pilkada Jakarta, PKS: Anies-Sohibul Butuh Lawan Tangguh Dan Pak Prabowo adalah orang yang kemarin mencalonkan Pak Anies sebagai calon gubernur tahun 2017 dan menang, sambungnya. Di samping itu, kata Hidayat, popularitas Anies saat ini sudah jauh meningkat daripada 2017 karena sempat menjadi calon presiden 2024. Kondisi ini dianggap lebih menguntungkan dibandingkan posisi Anies pada 2017, ketika harus berhadapan dengan Basuki Tjahaja Purnama alias Ahok. Hidayat berpandangan, posisi Ahok saat itu lebih diuntungkan karena didukung oleh partai politik yang sedang berkuasa dan memenangkan Jokowi. Baca juga: Demokrat Sarankan Anies Masuk Parpol: Kalau Menang di Jakarta, Bisa Diperjuangkan Maju Capres 2029 Pada tahun 2017. Waktu kami dengan Pak Prabowo, PKS mengajukan Pak Anies dan Pak Sandi. Itu kan lawan kami Ahok dengan didukung oleh semua potensi negara. Ya kita menang tuh, kata Hidayat Padahal waktu itu Pak Anies belum dikenal dalam tanda kutip. Sekarang Pak Anies, apalagi kemarin jadi capres, sangat-sangat dikenal. Jadi saya kira semua orang juga akan menghitung itu. Ngapain juga semua dikerahkan, kalau akan kalah lagi, tutur Hidayat. Atas dasar itu, Hidayat dan PKS meyakini Anies dan bakal calon pasangannya, yakni Sohibul Iman akan bisa mendominasi di Pilkada Jakarta. Di samping itu, sosok Sohibul juga sudah dikenal masyarakat karena rekam jejaknya di dunia politik dan pernah menjadi wakil rakyat di Jakarta. Baca juga: PKS Bakal Temui Cak Imin dan PKB, Bahas Rencana Duet Anies-Sohibul di Pilkada Jakarta Bila kawan-kawan ingin menang ya ini lah! Monggo, pungkas Hidayat. Diberitakan sebelumnya, Presiden PKS Ahmad Syaikhu mengumumkan, partainya akan mengusung Anies Baswedan dan Sohibul Iman sebagai bakal calon gubernur dan bakal calon wakil gubernur pada Pilkada Jakarta 2024. DPP PKS pada rapat di hari Kamis 20 Juni 2024 telah memutuskan mengusung Bapak Anies Rasyid Baswedan sebagai bakal cagub dan Sohibul Iman sebagai bakal calon wakil gubernur DKI Jakarta, kata Syaikhu dalam acara Sekolah Kepemimpinan Partai PKS di Grand Sahid Hotel, Selasa (25\\u002f6\\u002f2024). Meski begitu, PKS harus tetap berkoalisi dengan partai lain untuk bisa mencalonkan Anies dan Sohibul. Sebab, jumlah kursi yang dimiliki PKS di DPRD Jakarta belum memenuhi syarat untuk mengusung pasangan calon di Pilkada Jakarta. Diketahui, PKS hanya menduduki 18 kursi di DPRD Jakarta periode 2024-2029. Kurang 4 kursi untuk memenuhi syarat ambang batas pencalonan, yakni sebanyak 22 kursi. Di sisi lain, PDI-P mengakui jika nama Anies Baswedan menjadi sosok yang masuk dalam daftar pertimbangan untuk di dukung di Pilkada Jakarta. \",\"Presiden terpilih Prabowo Subianto mengoreksi istilah makan siang gratis yang merupakan salah satu program unggulan dirinya bersama wakil presiden terpilih, Gibran Rakabuming Raka. Menurut Prabowo, istilah yang tepat justru makan bergizi gratis untuk anak-anak. Prabowo punya alasan khusus mengapa mengganti istilah tersebut. Saya ingin sedikit koreksi ya. Setelah kita pelajari, ternyata istilah tepat itu adalah makan bergizi gratis untuk anak-anak. Itu lengkapnya ya, kata Prabowo dikutip dari YouTube TV One News, Kamis (23\\u002f5\\u002f2024). Karena kalau anak sekolah dasar umpamanya masuk pagi, dia kalau nunggu makan siang kan terlalu lama. Jadi harus makan pagi. Ya kan? sambung dia. Baca juga: Delegasi DPR RI Kunjungi Swedia Terkait Program Makan Siang Gratis Prabowo menyadari bahwa banyak anak sekolah yang masuk sejak pagi dan pulang pada siang hari. Maka, jika makan gratis baru dilakukan pada siang hari, hal itu dirasa sia-sia karena anak sekolah sudah pulang. Jadi kalau dia makan siang, itu terlambat, imbuhnya. Meski demikian, Menteri Pertahanan RI ini menekankan bahwa program tersebut intinya adalah memberikan makanan bergizi gratis kepada anak-anak di Indonesia. Menurutnya, setelah dianalisis panjang, program ini juga diyakini mampu berefek baik terhadap masa depan bangsa. Baca juga: Soal Anggaran Makan Siang Gratis, Prabowo: Waktunya Kita Lebih Berani Di lain sisi, Prabowo ingin anak-anak Indonesia tidak ada lagi yang kekurangan gizi karena ada program ini. Dan tidak dapat dipungkiri bahwa sebagian anak-anak kita mengalami kurang gizi. Hitungannya perkiraannya hampir seperempat, 25 persen anak-anak kita mengalami kurang gizi rata-rata. Ini sangat memprihatinkan, ujar Prabowo. Lebih jauh, Ketua Umum Partai Gerindra ini mengungkapkan bahwa ada 76 negara sejauh ini sudah menerapkan program makan gratis kepada anak-anak. Sementara itu, lanjut Prabowo, ada 5-6 negara yang sedang mempersiapkan menjalankan program tersebut. Jadi kalau kita nanti Oktober melaksanakan, kita mungkin bisa menjadi negara ketujuh di luar yang 76 tadi. Ini sangat sangat penting dengan memberi makan untuk anak-anak, mereka jelas akan lebih sehat, jelas akan meningkat kemampuan belajar mereka, yakin Prabowo. Baca juga: Soal Polemik UKT, Prabowo: Kalau Bisa Biaya Kuliah Gratis! Diketahui, program makan siang gratis merupakan salah satu janji dari pasangan Prabowo dan Gibran Rakabuming Raka jika menjadi presiden dan wakil presiden berikutnya. Anggota Dewan Pengarah Tim Kampanye Nasional (TKN) Prabowo-Gibran, Hashim Djojohadikusumo, menyebut biaya program makan siang gratis untuk anak-anak akan mencapai Rp 450 triliun per tahun. Hashim juga memastikan bahwa dana program makan siang gratis tidak akan mengambil dana dari anggaran program bantuan sosial (bansos). Menurut Hashim, dana program makan siang gratis akan menggunakan anggaran baru. Saya bisa katakan karena saya ikut tim pakar, dana ada dan bakal ada, dan ini bukan dari anggaran bansos, aliran bansos. Yang Rp 500 triliun tahun depan itu tetap bansos, kita tidak akan ambil uang bansos untuk ini, tegas dia. \",\"Momen kedekatan Presiden Joko Widodo dengan presiden terpilih Prabowo Subianto tampak dalam upacara peringatan Hari Bhayangkara ke-78 di Monas, Jakarta Pusat, Senin (1\\u002f7\\u002f2024). Kedekatan keduanya terlihat ketika Presiden Jokowi didampingi Prabowo saat menyaksikan defile pasukan usai peragaan terjun payung TNI\\u002fPolri dari ketinggian 6.000 kaki. Sementara itu, Wakil Presiden (Wapres) Ma'ruf Amin yang biasanya mendampingi Presiden di sejumlah momen nampak duduk ke belakang bersama dengan para penjabat lain yang hadir termasuk Menteri Koordinator Bidang Politik, Hukum, dan Keamanan Hadi Tjahjanto. Baca juga: Prabowo Beri Hormat Saat Disapa Jokowi sebagai Presiden RI Terpilih di Upacara HUT Ke-78 Bhayangkara Dilihat dari tayangan YouTube Sekretariat Presiden, Prabowo tampak berdiri di samping kiri Jokowi. Adapun Kapolri Jenderal Listyo Sigit Prabowo berdiri di sebelah kanan Jokowi, sedangkan Panglima TNI Agus Subiyanto berada di samping kiri Prabowo. Keempatnya juga sempat memberikan hormat ketika komandan defile berjalan bersama pasukan di hadapannya sembari diiringi lagu Maju Tak Gentar. Selain itu, momen kedekatan keduanya juga terlihat ketika Presiden Jokowi menyebut Prabowo dalam sambutannya di acara tersebut. Yang saya hormati Presiden Terpilih Republik Indonesia Bapak Prabowo Subianto, tutur Jokowi. Baca juga: Hari Bhayangkara ke-78 di Monas, Prabowo Hadir meski Baru Saja Dioperasi Prabowo yang tampak hadir setelah menjalani operasi, lalu berdiri yang memberikan hormat kepada Presiden. Tak beberapa lama, ia lantas duduk kembali dan mendengarkan arahan Presiden kepada Polri secara seksama.  Adapun dalam sambutannya, Jokowi mengingatkan agar Polri tidak tebang pilih dalam proses penegakan hukum. Ia meminta Polri harus profesional dalam menjalankan tugas-tugasnya. Utamanya, ketika menghadapi kejahatan transnasional yang semakin kompleks dan canggih. (Polri) harus profesional dan tidak tebang pilih dalam penegakan hukum, ujar Jokowi. \",\"Ketua Fraksi Gerindra DPR Ahmad Muzani mengatakan pihaknya masih berkonsentrasi terhadap pelantikan presiden hasil Pemilu 2024 saat ini, alih-alih soal wacana amendemen UUD 1945. Adapun Muzani merespons mengenai klaim Ketua DPD La Nyalla Mattalitti yang menyebut Prabowo setuju amendemen UUD 1945 agar pemilihan Presiden dikembalikan ke tangan MPR. Gerindra konsentrasi pada pelantikan parlemen dan presiden hasil Pemilu 2024, ujar Muzani di Gedung DPR, Senayan, Jakarta, Selasa (25\\u002f6\\u002f2024). Saat ditanya mengenai sikap Fraksi Gerindra mengenai amendemen UUD 1945, Muzani menyebut pihaknya masih mempelajari. Baca juga: Duduk Perkara Ketua MPR Bambang Soesatyo Diputus Langgar Kode Etik Usai Bicara Amendemen Kita pelajari. Ya kita pelajari, imbuhnya. Sebelumnya, Ketua Dewan Perwakilan Daerah (DPD) La Nyalla Mattalitti menyatakan, presiden terpilih Prabowo Subianto setuju apabila pemilihan presiden dikembalikan ke tangan Majelis Permusyawaratan Rakyat (MPR), bukan lagi oleh rakyat. Menurut La Nyalla, Prabowo punya visi untuk mengembalikan Undang-Undang Dasar 1945 ke naskah aslinya yang mengatur presiden dipilih oleh MPR. Ya harus bisa lah. Pak Prabowo juga mau kok, Pak Prabowo jelas mau. Visi misinya Pak Prabowo jelas kembalikan UU 1945 sesuai dengan naskah asli, ujar La Nyalla seusai bertemu mantan Ketua MPR Amien Rais di Gedung DPD, Senayan, Jakarta, Senin (24\\u002f6\\u002f2024). La Nyalla mengatakan, amendemen UUD 1945 harus dilakukan sebelum pemilu kembali dilakukan di tahun 2029. Baca juga: DPD Getol Suarakan Amendemen UUD 1945 agar Presiden Kembali Dipilih MPR, Klaim Prabowo Mau Menurut dia, keputusan untuk mengembalikan pemilihan presiden ke tangan MPR dapat dilakukan di masa pemerintahan Prabowo Subianto kelak. Kita punya naskah akademik, silakan. Silakan sidang istimewa, nanti kita bersama-sama anggota DPD, ada juga anggota MPR juga punya usulan seperti itu, kata La Nyalla. Langkah selanjutnya kita menuntut sidang istimewa, yang akan kita laksanakan setelah presiden terpilih Pak Prabowo Subianto dilantik, imbuh dia. \",null],\"marker\":{\"opacity\":0.5,\"size\":5},\"mode\":\"markers+text\",\"name\":\"0_prabowo_dan_presiden\",\"text\":[\"\",\"\",\"\",\"\",\"\",\"\",\"\",\"\",\"\",\"\",\"\",\"\",\"\",\"\",\"\",\"\",\"\",\"\",\"\",\"\",\"\",\"\",\"\",\"\",\"\",\"\",\"0_prabowo_dan_presiden\"],\"textfont\":{\"size\":12},\"x\":[3.0985493659973145,5.398714065551758,3.5110371112823486,4.711167335510254,3.725752830505371,4.786313056945801,3.935925006866455,5.21629524230957,4.839632987976074,5.052001953125,3.975996494293213,5.008583068847656,3.5909173488616943,5.369312763214111,3.4345285892486572,5.186887264251709,4.573145389556885,4.433405876159668,4.478700637817383,3.373929262161255,4.021887302398682,4.922740936279297,4.157403945922852,4.2659125328063965,4.231479644775391,4.8116960525512695,4.388919830322266],\"y\":[2.550234794616699,1.8052504062652588,2.093007802963257,1.8755075931549072,2.9019954204559326,1.5771089792251587,2.9089534282684326,3.8284265995025635,2.0671486854553223,1.5886800289154053,2.0540735721588135,2.1623971462249756,2.469987392425537,2.5192978382110596,2.5867528915405273,1.7689772844314575,3.098862648010254,2.3912127017974854,2.0971567630767822,2.609597682952881,2.7803003787994385,2.550473690032959,2.3164706230163574,3.6847362518310547,1.761830449104309,2.2588419914245605,2.3964340686798096],\"type\":\"scattergl\"},{\"hoverinfo\":\"text\",\"hovertext\":[\"Partai Keadilan Sejahtera (PKS) belum memastikan apakah akan menjadi pihak oposisi atau satu barisan dengan pemerintahan Presiden terpilih Prabowo Subianto selama lima tahun ke depan. Wakil Ketua Majelis Syura PKS Hidayat Nur Wahid mengatakan, PKS akan terlebih dahulu melihat keputusan akhir dari Prabowo selaku presiden terpilih. Ya bisa iya (di luar pemerintahan) bisa tidak juga, karena itu juga masih sangat tergantung dengan lagi-lagi bagaimana kehendak daripada Pak Prabowo, ujar Hidayat dalam program Gaspol di Youtube Kompas.com, dikutip pada Minggu (30\\u002f6\\u002f2024). Baca juga: Buka Peluang Kerja Sama dengan PDI-P, PKS: Kami Sudah Berkali-kali Koalisi di Pilkada Menurut Hidayat, Prabowo memiliki hak untuk menentukan, apakah akan melibatkan PKS dalam pemerintahan atau tidak. Meski begitu, dia menegaskan bahwa PKS selalu siap berada di posisi manapun, baik sebagai oposisi atau ikut ke dalam pemerintahan. Kan beliau yang menjadi presiden terpilih dan beliau yang akan menentukan apakah beliau nanti akan mengajak PKS atau tidak? Ya, monggo saja, kata Hidayat. Kami tentu menghormati hak prerogatif beliau, tapi PKS sudah mempunyai pengalaman baik itu di dalam maupun di luar pemerintahan, sambung dia. Hidayat menambahkan, dalam konteks Pilkada Jakarta, PKS juga memutuskan untuk tidak menawarkan partai di Koalisi Indonesia Maju (KIM) agar ikut mendukung pasangan Anies Baswedan-Sohibul Iman. Ia menghormati KIM yang ingin mengajukan bakal calon gubernur (bacagub) dan bakal calon wakil gubernur (bacawagub) sendiri. Baca juga: Yakin Tak Blunder Usung Anies-Sohibul di Pilkada, PKS: Kami Bukan Pemain Baru di Jakarta Bagi Hidayat, parpol anggota KIM selama ini juga tak pernah mengatakan bersedia mengusung Anies. Sikap itu juga menjadi salah satu pertimbangan PKS tak mencoba melakukan pendekatan politik. Ya sudah lah, itu adalah bagian dari hak politik mereka, hak demokrasi mereka, kita menghormati. Tapi sebagaimana kita menghormati mereka, ya mereka mestinya juga menghormati kita, pungkas dia. \",\"Juru Bicara PDI-P Chico Hakim menegaskan, tidak ada tawaran kepada mantan capres nomor urut 3, Ganjar Pranowo untuk masuk ke kabinet presiden terpilih 2024-2029, Prabowo Subianto. Adapun Gerindra tidak menutup peluang mengangkat Ganjar dan Anies Baswedan untuk menjadi menteri di kabinet Prabowo. Enggak ada komunikasi apa-apa terkait ini, ujar Chico saat dimintai konfirmasi Kompas.com, Rabu (26\\u002f6\\u002f2024). Baca juga: Soal Kemungkinan Anies dan Ganjar Diangkat jadi Menteri Prabowo, Gerindra Angkat Bicara Chico menyampaikan, PDI-P fokus untuk Pilkada Serentak 2024 dan membantu rakyat. Menurut dia, saat ini, Indonesia sedang dalam masa sulit karena harga-harga serba naik. Chico enggan menjawab apakah PDI-P terbuka jika Ganjar ditawari masuk ke kabinet Prabowo. Hari ini kami fokus pilkada dan membantu rakyat dan negara yang sedang dalam masa masa sulit, harga bahan pokok yang melonjak, kenaikan tarif listrik, BBM, dan lain-lain, ujar dia. Sebelumnya, Sekretaris Jenderal (Sekjen) Partai Gerindra Ahmad Muzani merespons apakah Presiden terpilih 2024-2029 Prabowo Subianto akan mengangkat mantan capres di Pilpres 2024, yakni Anies Baswedan dan Ganjar Pranowo sebagai menteri atau tidak. Muzani menegaskan, hal tersebut merupakan hak prerogatif Prabowo sebagai presiden terpilih. Pertanyaannya, apakah Pak Prabowo juga akan mengangkat capres yang berbeda dengan Beliau seperti Anies dan Ganjar? Yang punya hak prerogatif adalah beliau, saya belum pernah mendengar, ujar Muzani di Gedung DPR, Senayan, Jakarta, Selasa (25\\u002f6\\u002f2024). Muzani enggan merespons isu mengenai koalisi pendukung Prabowo menawarkan kursi menteri ke Anies supaya tidak maju di Pilkada Jakarta 2024. Baca juga: Anies dan Ganjar Diprediksi Menolak jika Ditawari jadi Menteri Prabowo Hal yang pasti, kata Muzani, Prabowo selalu mencari persamaan untuk bergotong-royong, meski beda pilihan politik. Pak Prabowo adalah presiden terpilih yang akan dilantik tanggal 20 Oktober yang akan datang. Beliau selalu mencari persamaan cara pandang yang bisa memperkuat persatuan dan persamaan gotong-royongan, meskipun pada pilihan politik yang berbeda, tutur dia.  Maka dari itu, Muzani menekankan, Prabowo tidak memiliki halangan untuk mengangkat siapapun menjadi 'pembantu' dalam kabinet ke depan. Dia lantas mengungkit Presiden Joko Widodo (Jokowi) yang malah mengangkat Prabowo sebagai Menteri Pertahanan di tahun 2019. Padahal, Prabowo dan Jokowi merupakan rival di Pilpres 2019. Itu sudah dicontohkan oleh Pak Jokowi di tahun 2019. Situasi politik bisa menjadi reda, politik bisa menjadi adem, keguyuban, kebersamaan, kegotong-royongan, kerukunan bisa tercipta. Dan Pak Prabowo ingin menciptakan itu, imbuh Muzani. \",\"Presiden terpilih sekaligus Menteri Pertahanan (Menhan) Prabowo Subianto menjalani operasi besar di RSPPN Panglima Besar Soedirman, Bintaro, Jakarta, pekan lalu. Dalam keterangan yang dibagikan, Prabowo mengungkapkan bahwa dirinya menjalani operasi kaki karena cidera yang dialaminya. Saya ucapkan syukur alhamdulillah kepada Allah SWT beserta ucapan terima kasih kepada tim dokter yakni Brigjen TNI Purn dr Robert Hutauruk, Kolonel dr Sunaryo, dr Siska Widayati, dibantu dengan dr Thomas dan seluruh perawat serta pada tenaga medis di RSPPN Sudirman atas keberhasilan tindakan operasi besar yang dilakukan kepada saya, ujar Prabowo dalam keterangannya, Minggu (30\\u002f6\\u002f2024) malam. Baca juga: Yakin Menang di Pilkada Jakarta, PKS: Presidennya Sudah Prabowo, Pendukung Anies 2017 Prabowo lantas berterima kasih kepada Presiden Joko Widodo (Jokowi) karena telah memberikan dukungan moril dan doa. . Meski sadar bahwa operasi itu berisiko tinggi, namun Prabowo meyakini semua dokter sangat handal. Semua ini untuk negara dan bangsa, saya juga yakin tim dokter dan seluruh tenaga medis yang menanganinya pun handal dan profesional, tuturnya. Usai operasi, Prabowo menyatakan dirinya telah siap untuk berkegiatan kembali. Insya Allah dengan kondisi sehat walafiat ke depan saya semakin siap untuk berbakti dan mengabdi untuk negara dan rakyat Indonesia. Terima kasih kepada seluruh masyarakat atas doa dan dukungannya, kata Prabowo. Baca juga: Belum Pasti Jadi Oposisi Pemerintah, PKS: Tergantung Prabowo, Mengajak atau Tidak? Sementara itu, Prabowo juga mengungkap bahwa penyebab cedera yang sudah lama tersebut adalah karena dua kali kecelakaan terjun payung saat dirinya masih aktif bertugas di TNI. Seperti sudah diketahui banyak pihak, saya pernah mengalami dua kali kecelakaan terjun payung saat bertugas di TNI pada tahun 80-an di kaki kiri saya, cidera ini selama ini masih saya rasakan, imbuhnya. \",\"Ketua Umum Partai Kebangkitan Bangsa (PKB) Muhaimin Iskandar menyatakan PKB mendukung pemerintahan presiden dan wakil presiden terpilih Prabowo Subianto dan Gibran Rakabuming Raka. Menurutnya, sikap itu telah disampaikan dengan pernyataannya saat bertemu Prabowo, Rabu (24\\u002f4\\u002f2024) siang. Kemarin, ia menyebutkan siap bekerja sama dengan Prabowo dan Partai Gerindra. Saya rasa sudah tidak perlu dijawab, sudah cetho (jelas mendukung Prabowo-Gibran), ujar Muhaimin pada awak media di Kantor DPP PKB, Senen, Jakarta, Kamis (25\\u002f4\\u002f2024) malam. Baca juga: Sinyal CLBK PKB dengan Gerindra Kian Menguat Usai Nasdem Dukung Prabowo-Gibran Kemudian ia menjawab dengan nada serupa ketika awak media menanyakan apakah PKB akan berada dalam pemerintahan ke depan. Sudah jelas, sudah, katanya. Sementara itu, Wakil Ketua Umum PKB Jazilul Fawaid menjelaskan bahwa PKB dalam posisi siap mendukung pemerintahan Prabowo-Gibran. Namun, pernyataan itu baru akan disampaikan secara jelas saat keduanya dilantik pada Oktober 2024. Sebab, pembentukan kabinet baru akan terjadi saat Prabowo dan Gibran dilantik. Persis, urusannya dengan (kursi) menteri kan ketika seorang presiden sudah memiliki hak prerogatif, sebutnya. Sekarang kan Pak Prabowo presiden terpilih, pemenang pilpres, nanti tanggal 20 Oktober beliau jadi presiden sekaligus kepala negara yang memiliki hak prerogatif untuk mengangkat menterinya, papar dia. Baca juga: PKB-Nasdem Merapat, Koalisi Prabowo Diprediksi Makin Gemoy Diketahui saat ini, selain PKB, Partai Nasdem juga sudah mendeklarasikan mendukung pemerintahan Prabowo-Gibran. Hal itu disampaikan oleh Ketua Umum Partai Nasdem Surya Paloh seusai bertemu Prabowo di kediamannya, Jalan Kertanegara, Jakarta Selatan, Kamis sore. Sementara itu, Partai Keadilan Sejahtera (PKS) menjadi satu-satunya parpol pengusung Anies Baswedan dan Muhaimin dalam Pilpres 2024 yang belum menentukan sikap politiknya ke depan.  \",\"Badan Amil Zakat Nasional (Baznas) siap berkolaborasi dengan Presiden terpilih Prabowo Subianto untuk menjalankan program makan siang gratis. Hal ini disampaikan Ketua Baznas Noor Achmad dalam kegiatan Penyerahan Bantuan Palestina di Kantor Baznas, Jakarta, Rabu (15\\u002f5\\u002f2024). Mulanya, Noor memaparkan pencapaian Baznas yang berhasil mendirikan sejumlah balai peternakan di sejumlah wilayah di Indonesia dengan cara memberdayakan masyarakat desa. Balai peternakan tersebut, misalnya, balai peternakan kambing di Temanggung dan Magelang serta balai peternakan ayam di Purworejo dan Kebumen, Jawa Tengah. Juga ada balai ternak untuk susu di Garut dan lain sebagainya. Kami melihat potensi yang luar biasa, kalau kita bisa memberdayakan masyarakat desa dengan balai ternak, kata Noor dikutip dari Youtube Baznas TV, Rabu siang. Baca juga: Prabowo dan Gibran Tiba di Doha untuk Hadiri Forum Ekonomi Qatar Selain itu, Noor juga mengungkapkan bahwa Baznas telah memberdayakan masyarakat dengan mendirikan warung-warung kecil, produksi ayam goreng, cafe, hingga bengkel di pinggir jalan. Dengan keberhasilan pemberdayaan masyarakat desa tersebut, pihaknya menegaskan, siap berkolaborasi dengan Prabowo untuk menjalankan program makan siang gratis. Dalam pikiran kami masyarakat desa kalau diperdayakan mereka itu luar biasa. Artinya apa? Kalau bisa kolaborasi, apalagi ada program makan siang gratis, kolaborasi Baznas dengan pihak yang menyelenggarakan makan siang gratis, Insya Allah Baznas siap, kata Noor. Noor memastikan, pihaknya tidak akan melakukan kapitalisasi atau mengambil keuntungan jika Baznas dilibatkan dalam program makan siang gratis. Karena kalau sudah begitu justru kami tidak bisa terlibat, yang ada adalah bagaimana kami bisa memberdayakan mustahik itu saja. Mustahik boleh saja mendapatkan keuntungan, tapi kami sifatnya hanya memberikan pendampingan, imbuh dia. Baca juga: Gerindra Tegaskan Kabinet Belum Dibahas Sama Sekali: Prabowo Masih Kaji Makan Siang Gratis Diketahui, program makan siang gratis merupakan salah satu janji dari pasangan Prabowo dan Gibran Rakabuming Raka jika menjadi presiden dan wakil presiden berikutnya. Anggota Dewan Pengarah Tim Kampanye Nasional (TKN) Prabowo-Gibran, Hashim Djojohadikusumo, menyebut biaya program makan siang gratis untuk anak-anak akan mencapai Rp 450 triliun per tahun. Hashim juga memastikan dana program makan siang gratis tidak akan mengambil dana dari anggaran program bantuan sosial (bansos). Menurut Hashim, dana program makan siang gratis akan menggunakan anggaran baru. Saya bisa katakan karena saya ikut tim pakar, dana ada dan bakal ada, dan ini bukan dari anggaran bansos, aliran bansos. Yang Rp 500 triliun tahun depan itu tetap bansos, kita tidak akan ambil uang bansos untuk ini, tegas dia. \",\"Ketua Umum Partai Gerindra Prabowo Subianto irit bicara ketika ditanya soal peluang Ketua DPD Partai Gerindra Jawa Tengah Sudaryono diusung sebagai calon gubernur Jawa Tengah pada Pilkada 2024. Prabowo hanya mengatakan bahwa akan ada waktunya untuk menjelaskan peluang mantan ajudannya itu berlaga di Pilkada Jawa Tengah 2024. Nanti ada waktunya, ujar Prabowo di kediamannya, Jalan Kertanegara, Jakarta Selatan, Jumat (7\\u002f6\\u002f2024). Prabowo kemudian berseloroh bahwa dirinya ingin wartawan sering-sering berkunjung ke rumahnya. Baca juga: Masif Sosialisasi Sudaryono-Gus Yusuf di Pilkada Jateng, Gerindra: Itu Bukan Hoaks Sambil tertawa, dia kembali menegaskan pada waktunya dirinya akan menyampaikan sikap untuk Pilkada Jawa Tengah. Supaya anda sering ke sini. Oke kita tunggu waktunya, imbuh dia. Diberitakan sebelumnya, Sudaryono mengaku telah diutus Prabowo untuk maju sebagai calon gubernur pada Pilkada Jawa Tengah. Sudaryono mengatakan, meski disandingkan dengan banyak tokoh, ia tetap mengikuti perintah Prabowo untuk mencalongkan diri sebagai gubernur Jawa Tengah, bukan wakil gubernur. Baca juga: Berkunjung ke Demak, Sudaryono Mengaku Diutus Prabowo Maju Pilkada Jateng Perintah yang saya terima adalah untuk jadi gubernur, jadi saya kira tetap stay di situ pada perintah yang kita terima dari Pak Prabowo, kata Sudaryono usai acara di Citra Alam Demak, Senin (27\\u002f5\\u002f2024). Selain Sudaryono, ada sejumlah nama yang digadang-gadang bakal maju sebagai calon gubernur Jawa Tengah, antara lain, Kapolda Jawa Tengah Ahmad Luthfi, Kepala LKPP Hendrar Prihadi, dan Bupati Kendal Dico Ganinduto. \",\"Presiden terpilih 2024-2029 Prabowo Subianto meminta kepada pihak-pihak yang tidak mau diajak kerja sama untuk tidak mengganggu pemerintahannya kelak. Prabowo menegaskan dirinya hanya ingin bekerja dan mengamankan kekayaan bangsa. Hal tersebut Prabowo sampaikan dalam acara bimtek dan rakornas pilkada PAN di Hotel JS Luwansa, Jakarta Selatan, Kamis (9\\u002f5\\u002f2024) malam. Saya akan berjuang terus bersama semua kekuatan yang mau diajak kerja sama. Yang tidak mau diajak kerja sama tidak apa-apa. Kalau ada yang mau nonton di pinggir jalan, silakan jadi penonton yang baik, ujar Prabowo. Baca juga: Zulhas: Banyak yang Salah Sangka Prabowo Menang karena Bansos, Keliru... Tapi kalau sudah tidak mau diajak kerja sama, ya jangan mengganggu. Orang lagi mau kerja kok. Kita mau kerja. Kita mau kerja. Kita mau amankan kekayaan bangsa Indonesia, sambungnya. Prabowo menjelaskan, dirinya tidak ingin ada lagi orang Indonesia yang menangis karena lapar. Dia menekankan rakyat Indonesia tidak boleh tidak bisa makan. Saya yakin saudara tidak terima. Saya malu saya dikasih pangkat jenderal oleh rakyat. Saya dipilih oleh rakyat. Siang dan malam kita berpikir, saya berpikir, bagaimana rakyat Indonesia tidak ada yang lapar, jelas Prabowo. Menurut Prabowo, semua partai di Indonesia pasti punya orang-orang baik dan orang-orang yang tidak baik. Baca juga: PAN Doa Dapat Banyak Jatah Menteri, Prabowo: Masuk Itu Barang Dia bahkan mengakui di Partai Gerindra pun banyak orang tidak baik. Mari kita akui. Iya kan? Kita boleh punya jiwa korsa, tapi kita juga harus introspeksi diri. Di Gerindra pun juga banyak yang kurang baik, banyak yang baik banyak yang kurang baik. Di semua organisasi ada yang baik dan ada yang kurang, katanya. Sekarang bagaimana yang baik-baik dari semua latar belakang bisa kerja sama? Ini pelajaran sejarah. Indonesia tidak bisa dibendung. Kecuali elite Indonesia tidak bisa atau tidak mau kerja sama. Kuncinya itu, imbuh Prabowo. \",\"Calon presiden nomor urut 02, Prabowo Subianto, memperingatkan media yang hadir di acara peringatan Hari Buruh Internasional agar berhati-hati. Saat itu, Prabowo sedang memberikan sambutan di acara peringatan Hari Buruh 2019 di Tennis Indoor Senayan, Jakarta Pusat, Rabu (1\\u002f5\\u002f2019). Para media, hati-hati, kami mencatat kelakuan-kelakuanmu satu-satu, kata Prabowo yang langsung disambut riuh pada buruh. Kami bukan kambing yang bisa kau atur-atur. Hati-hati kau yah. Hati-hati kau, suara rakyat adalah suara Tuhan, sambung dia. Baca juga: Prabowo: Kalian Mau Jadi Kambing atau Rakyat yang Terhormat? Kemudian, setelah membicarakan hal lain, Prabowo kembali menyinggung kehadiran media di acara tersebut. Saat itu Prabowo sedang membicarakan bahwa kebohongan, kecurangan, kekayaan Indonesia diambil, penindasan terhadap rakyat, perlu disudahi. Lalu, Prabowo menyambungnya dengan menyebutkan bahwa media sebagai pihak yang ikut merusak demokrasi. Itu media-media juga, gue salut sama lu masih berani ke sini. Akan tercatat dalam sejarah, hai media-media kau ikut merusak demokrasi di Indonesia, ujarnya. Baca juga: Prabowo-Sandiaga Siap Rajut Persatuan Bangsa Setelah Pilpres Ini gimana? Bicara apa adanya? Betul? Betul? tanya Prabowo ke para buruh. Betul, jawab pekerja yang hadir. Ya gue harus bicara apa adanya dong, yang tidak benar kita harus katakan tidak benar, yang benar, benar, yang tidak benar, tidak benar, jangan kau balik, seru Prabowo. Ia pun mengajak rakyat untuk ikut mencatat pihak-pihak yang terus melakukan pelanggaran. Ketua Umum Partai Gerindra tersebut menuturkan pihak-pihak yang melanggar itu harus bertanggungjawab. Pada saatnya mereka harus bertanggung jawab. Kita adalah negara yang besar, kita adalah negara yang gagah, rakyat kita punya harga diri, kita tidak mau jadi kacungnya bangsa lain, kata Prabowo sambil berseru. \",\"Sekretaris Jenderal Partai Keadilan Sejahtera (PKS) Aboe Bakar Alhabsyi mengatakan pihaknya mengundang presiden terpilih Prabowo Subianto ke markasnya. Ia menyebutkan, undangan itu disampaikan karena PKS bakal menggelar halal bihalal di Kantor DPP PKS, Jalan TB Simatupang, Pasar Minggu, Jakarta, Sabtu (27\\u002f4\\u002f2024). Moga-moga kalau Pak Prabowo datang, kita juga akan kasih karpet merah sebagai presiden pemenang, kita akan sambut ya, ujar Aboe di Kantor DPP Partai Kebangkitan Bangsa (PKB), Senen, Jakarta, Kamis (25\\u002f4\\u002f2024). Baca juga: PKB-Nasdem-PKS Isyaratkan Gabung Prabowo, Pengamat: Kini Parpol Selamatkan Diri Masing-masing Meski begitu, ia meminta semua pihak bersabar menunggu langkah politik PKS ke depan. Pasalnya, keputusan itu akan bergantung dengan dinamika politik beberapa hari ke depan. Jadi kita kumpul saja dulu di PKS dalam suasana yang kecil, tapi mungkin romantislah ya. Jadi mungkin dari situ kita akan berangkat ke langkah selanjutnya, papar dia. Sementara itu, ia menekankan bahwa PKS tetap memiliki keleluasaan. Bagi Aboe, PKS siap berdiri di dalam atau di luar pemerintahan Prabowo dan wakil presiden terpilih Gibran Rakabuming Raka. Baca juga: Nasdem Resmi Dukung Prabowo-Gibran, Elite PKS dan PKB Bertemu PKS ini saya sudah katakan, PKS ini paling siap dengan segala situasi. Mau di dalam, mau di luar, imbuh dia. Diketahui dua kolega PKS dalam Koalisi Perubahan yaitu PKB dan Partai Nasdem sudah menyatakan siap mendukung pemerintahan Prabowo-Gibran. Ketiga partai politik (parpol) itu sebelumnya mendukung Anies Baswedan dan Muhaimin Iskandar dalam Pemilihan Presiden (Pilpres) 2024.  \",\"Ketua Fraksi Partai Keadilan Sejahtera (PKS) DPR Jazuli Juwaini angkat bicara terkait Partai Gelora yang menolak PKS bergabung ke pemerintahan Prabowo Subianto-Gibran Rakabuming Raka. Jazuli meminta keluarga besar PKS tidak sampai terprovokasi. Kepada seluruh keluarga besar PKS, jangan terprovokasi oleh siapa pun, termasuk oleh pengamat. Tetap tenang serta santai saja, ujar Jazuli saat dimintai konfirmasi Kompas.com, Rabu (1\\u002f5\\u002f2024). Baca juga: Tolak PKS Merapat ke Prabowo, Gelora Diduga Khawatir soal Jatah Kabinet Jazuli menyampaikan, yang menentukan PKS menjadi oposisi atau masuk ke pemerintahan Prabowo-Gibran adalah Majelis Syuro dan DPTP PKS. Ia mengatakan, yang menentukan arah politik PKS bukanlah Partai Gelora ataupun partai lainnya. Apa pun keputusan yang diambil, PKS akan tetap membangun komunikasi dengan Pak Prabowo sebagai presiden terpilih, baik berkoalisi maupun beroposisi, ucap dia. Termasuk akan tetap berkomunikasi dengan parpol-parpol lain yang lolos dan masuk parlemen apa pun positioning PKS (baik oposisi maupun koalisi), kata Jazuli. Sebelumnya, Sekretaris Jenderal (Sekjen) Partai Gelora Mahfuz Sidik tak ingin Partai Keadilan Sejahtera (PKS) bergabung dalam gerbong presiden dan wakil presiden terpilih Prabowo Subianto dan Gibran Rakabuming Raka. Ia menganggap PKS selama ini telah menunjukan sikap politik dan ideologi yang berbeda dengan dua figur itu. Pak Prabowo juga berulang-ulang menekankan keberlanjutan pembangunan agar capaian-capaian yang ada tidak berhenti lalu mulai dari nol lagi, ujar Mahfuz pada Kompas.com, Senin (29\\u002f4\\u002f2024). Sementara PKS juga terbuka menolak program strategis Presiden Joko Widodo, seperti IKN, ucap dia. Ia kemudian menyebutkan, dalam Pemilu 2024, PKS bahkan berjanji untuk membuat Jakarta tetap menjadi ibu kota. Baca juga: Beri Sinyal Merapat ke Prabowo, Fondasi Politik PKS Dianggap Dangkal Hal ini, kata Mahfuz, menjadi salah satu contoh PKS bertolak belakang dengan Prabowo-Gibran, maupun Jokowi. Tak hanya itu, ia menuturkan, PKS sempat menolak dicalonkannya Gibran sebagai pendamping Prabowo pada Pemilihan Presiden (Pilpres) 2024. PKS pula yang sangat keras menolak Gibran dengan alasan anak haram konstitusi. Pikiran di balik ini adalah ketidakmauan PKS menerima rekonsiliasi antara Jokowi dan Prabowo, tutur dia.  Mahfuz pun menganggap keputusan Prabowo bergabung dalam pemerintahan Jokowi setelah Pilpres 2019 dianggap sebagai pengkhianatan oleh pendukung PKS. Oleh karena itu, ia meminta PKS tak berharap diajak Prabowo untuk bergabung ke dalam pemerintahannya ke depan. \",\"Wakil Ketua Umum (Waketum) Partai Gerindra Rahayu Saraswati menegaskan, komunikasi bagi partai-partai di luar koalisi pendukung Prabowo Subianto-Gibran Rakabuming Raka selalu terbuka hingga saat ini. Sara merespons PKS yang menyatakan siap bergabung ke pemerintahan Prabowo-Gibran. Dinamika politik tentunya masih sangat dinamis, organik, apa pun bisa terjadi. Komunikasi selalu terbuka, bahkan sebelum kampanye selesai, sebelum 14 Februari, masih terus berjalan, ujar Sara saat ditemui di markas TKN Fanta, Jakarta Pusat, Rabu (1\\u002f5\\u002f2024) malam. Baca juga: Saat Cak Imin Berkelakar soal Hanif Dhakiri Jadi Menteri di Kabinet Prabowo... Sara kembali menekankan bahwa pintu bagi partai yang berada di luar koalisi tetap terbuka untuk bergabung. Menurut dia, Prabowo selalu mengedepankan persatuan Indonesia, khususnya dari kalangan elite. Untuk saat ini tentunya kita masih sangat terbuka untuk pihak manapun yang mungkin akan bergabung ataupun tidak itu ada di pihak daripada pimpinan, dan juga tentunya ketua-ketua dari partai-partai, ucap dia. Sebelumnya, Sekretaris Jenderal (Sekjen) Partai Gelora Mahfuz Sidik tak ingin Partai Keadilan Sejahtera (PKS) bergabung dalam gerbong presiden dan wakil presiden terpilih Prabowo Subianto dan Gibran Rakabuming Raka. Baca juga: Tolak PKS Merapat ke Prabowo, Gelora Diduga Khawatir soal Jatah Kabinet Ia menganggap PKS selama ini telah menunjukkan sikap politik dan ideologis yang berbeda dengan dua figur itu. Pak Prabowo juga berulang-ulang menekankan keberlanjutan pembangunan agar capaian-capaian yang ada tidak berhenti lalu mulai dari nol lagi, ujar Mahfuz pada Kompas.com, Senin (29\\u002f4\\u002f2024). Sementara PKS juga terbuka menolak program strategis Presiden Joko Widodo, seperti IKN, kata dia. Ia kemudian menyebutkan, dalam Pemilu 2024, PKS bahkan berjanji untuk membuat Jakarta tetap menjadi ibu kota. Hal ini, kata Mahfuz, menjadi salah satu contoh PKS bertolak belakang dengan Prabowo-Gibran, maupun Jokowi.  Tak hanya itu, ia menuturkan, PKS juga sempat menolak dicalonkannya Gibran sebagai pendamping Prabowo pada Pemilihan Presiden (Pilpres) 2024. PKS pula yang sangat keras menolak Gibran dengan alasan anak haram konstitusi. Pikiran di balik ini adalah ketidakmauan PKS menerima rekonsiliasi antara Jokowi dan Prabowo, tutur dia. Mahfuz pun menganggap keputusan Prabowo bergabung dalam pemerintahan Jokowi setelah Pilpres 2019 dianggap sebagai pengkhianatan oleh pendukung PKS. Atas dasar itu, ia meminta PKS tak berharap diajak Prabowo untuk bergabung ke dalam pemerintahannya ke depan. \",\"Juru Bicara (Jubir) presiden terpilih Prabowo Subianto, Dahnil Anzar Simanjutak, mengatakan, Prabowo akan mengkaji biaya uang kuliah tunggal (UKT) yang sedang dikeluhkan karena dianggap terlalu tinggi bagi mahasiswa baru. Dahnil memastikan bahwa Prabowo akan membuat uang kuliah jauh lebih murah. Terkait UKT yang mahal, pasti akan dipertimbangkan dan dikaji beliau agar bisa jauh lebih murah, ujar Dahnil saat dimintai konfirmasi Kompas.com, Jumat (24\\u002f5\\u002f2024). Dahnil mengatakan, bagi Prabowo, semua rakyat Indonesia harus bisa mengakses pendidikan, mulai dari tingkat dasar sampai tinggi. Baca juga: Kenaikan UKT Dinilai Bisa Buat Visi Indonesia Emas 2045 Gagal Terwujud Dengan begitu, kata dia, prinsip berkeadilan bisa berjalan. Karena bagi beliau pendidikan mulai dari tingkat dasar sampai tinggi harus bisa diakses oleh semua rakyat Indonesia dari semua tingkatan ekonomi. Harus berkeadilan, imbuhnya. Baca juga: Mahasiswa Kritik Kenaikan UKT: Persempit Kesempatan Rakyat Bersekolah hingga Perguruan Tinggi Sebelumnya, Prabowo Subianto berpandangan bahwa semestinya UKT di perguruan tinggi negeri (PTN) dijamin serendah-rendahnya oleh negara. Bahkan, negara semestinya menggratiskan biaya pendidikan bagi rakyatnya yang masuk PTN. Hal itu disampaikan Prabowo ketika ditanya dalam sebuah wawancara tentang tingginya biaya UKT yang dikeluhkan sejumlah mahasiswa di beberapa PTN. Menurut saya, harus tidak boleh ini, terutama di universitas negeri yang dibangun oleh uang rakyat uang APBN, itu tidak boleh biayanya tinggi. Kalau bisa, biayanya sangat minim dan kalau perlu ya gratis, pendidikan, kata Prabowo dikutip dari YouTube TV One News, Kamis (23\\u002f5\\u002f2024). Baca juga: Siti Aisyah Pilih Undur Diri dari Unri karena Tak Sanggup Bayar UKT Meski begitu, Prabowo menekankan agar negara betul-betul menghitung anggaran jika ingin menggratiskan biaya pendidikan tinggi. Selain pendidikan tinggi, jelas Prabowo, negara juga semestinya meminimalisasi biaya pendidikan dari tingkat SD hingga sekolah menengah atas atau kejuruan. Seharusnya, biaya pendidikan itu adalah tanggung jawab negara, dan seharusnya memang gratis, ucap Menteri Pertahanan RI ini. \",\"Capres nomor urut 2 Prabowo Subianto menyerahkan bantuan berupa uang Rp 5 miliar dan rumah sakit (RS) apung untuk Palestina yang diserang Israel. Ketua Tim Kampanye Nasional (TKN) Prabowo-Gibran, Rosan Roeslani mengatakan Prabowo memang memiliki atensi besar kepada para korban di Palestina. Menurut Rosan, bantuan tersebut diambil dari uang pribadi Prabowo. Beliau ingin memberikan bantuan, langsung dari pribadi beliau, terutama kepada korban anak kecil, kemudian korban ibu-ibu, kemudian juga kebutuhan mereka agar bisa bertahan, mulai dari pangan dan lain-lain, ujar Rosan dalam jumpa pers di Media Center TKN Prabowo-Gibran, Jakarta, Selasa (28\\u002f11\\u002f2023). Baca juga: Prabowo-Gibran Akan Hadir di Final Piala Dunia U-17 Solo Beliau juga mengirimkan rumah sakit terapung, dan sudah berjalan juga dengan beberapa negara terkait untuk mendapatkan lintasannya, sambung dia. Rosan mengatakan, bantuan yang diberikan kepada korban di Palestina tidak akan berhenti sampai di situ saja. Dia memastikan Prabowo-Gibran berkomitmen untuk berjuang dalam membela Palestina. Baca juga: TKN: Tetap Jadi Menhan-Wali Kota, Prabowo-Gibran Cuti Maksimal 2 Kali Seminggu Dalam kesempatan ini memang pemberian bantuan sebesar Rp 5 miliar tunai yang sudah kita realisasikan, dan akan dilanjutkan dengan baik dalam bentuk bantuan langsung, tidak langsung, baik kepada NGO, maupun kepada pemerintah dari Palestina itu sendiri, kata Rosan. Sementara itu, Sekretaris TKN Prabowo-Gibran, Nusron Wahid mengatakan penyerahan bantuan ini membuktikan Prabowo bukan hanya sekadar memberi kecaman saja. Ini membuktikan bahwa Pak Prabowo tidak hanya sekadar berpidato dan berbicara mengecam tentang Palestina, tetapi juga ada konkret, yaitu membantu baik selaku kapasitasnya sebagai pribadi dalam bentuk membantu uang untuk dana kemanusiaan, juga kapasitas beliau sebagai Menteri Pertahanan dengan mengirimkan rumah sakit kapal apung, imbuh Nusron. Dalam kesempatan ini, bantuan uang Rp 5 miliar tersebut diserahkan kepada Yayasan Persahabatan dan Studi Peradaban untuk disalurkan ke Palestina. \",\"Ketua Perhimpunan Advokat Indonesia (Peradi) Otto Hasibuan mengungkap, alasan dirinya mendukung pasangan nomor urut 2 Prabowo Subianto-Gibran Rakabuming Raka di Pilpres 2024. Menurut Otto, dirinya sudah mendukung Prabowo di pilpres sejak kontestasi sebelumnya pada 2019. Ya memang terus terang saja, sejak lama sudah sejak 2019 juga saya memang pendukung utamanya Pak Prabowo. Saya bahkan timnya di sana dulu. Jadi saya konsisten mendukung dia karena saya yakini dia adalah mampu memimpin bangsa ini, ujar Otto saat dihubungi, Selasa (28\\u002f11\\u002f2023) malam. Baca juga: Prabowo Jadi Pembicara Rakor Apdesi di Bandung, Bawaslu Pastikan Tak Ada Pelanggaran Dia orang baik, dia orang jujur, ya. Dan bagi dia kehidupan dunia ini rasanya kehidupan-kehidupan material bagi dia kan sudah selesai. Dia sudah selesai dengan dirinya, sambungnya. Ia pun meyakini bahwa Prabowo merupakan sosok yang mampu memimpin bangsa Indonesia dengan baik bila kelak terpilih.  Saya yakin dia akan bisa memimpin negeri ini dengan baik, menegakkan hukum dan keadilan. Jadi saya berjuang untuk dia, tuturnya. Di sisi lain, ia mengklaim, sudah lama bergabung ke dalam Tim Kampanye Nasional (TKN) Prabowo-Gibran. Namun, karena persoalan strategi, dirinya baru diumumkan secara resmi bergabung ke dalam barisan TKN pada hari ini. Baca juga: Otto Hasibuan Gabung TKN Prabowo-Gibran, Langsung Jadi Wakil Ketua Struktur TKN Prabowo-Gibran sendiri sebenarnya sudah diumumkan sejak awal November 2023 lalu. Hahahaha. Sudah lama sebenarnya. Sudah lama. Tapi ya mungkin ada ya strategi lah. Ada strateginya lah ya. Tapi sudah lama, imbuh Otto. Sebagai informasi, Ketua TKN Prabowo-Gibran, Rosan Perkasa Roeslani hari ini mengumumkan sejumlah nama yang bergabung ke dalam barisan TKN, termasuk Otto. Tak hanya bergabung, Otto juga didapuk menjadi Wakil Ketua TKN Prabowo-Gibran. \",\"Presiden terpilih 2024-2029 Prabowo Subianto merespons doa Ketua DPP Partai Amanat Nasional (PAN) Saleh Partaonan Daulay yang berdoa agar PAN mendapat jatah menteri lebih banyak dari yang diperkirakan. Prabowo menilai doa yang Saleh sampaikan itu sangat kreatif. Hal tersebut terjadi dalam acara bimtek dan rakornas pilkada PAN di Hotel JS Luwansa, Jakarta Selatan, Kamis (9\\u002f5\\u002f2024) malam. Baca juga: Disambut Hatta Rajasa, Prabowo Hadiri Rakornas Pilkada PAN Ketua Fraksi PAN di DPR, saudara Saleh Daulay yang tadi memimpin doa, doa politik yang kreatif sekali itu. Kalau orang Medan bilang, 'masuk itu barang', ujar Prabowo. Prabowo lantas mengungkit bahwa kesetiaan harus dibalas dengan kesetiaan. Menurutnya, PAN yang selama 15 tahun terakhir mendukung dirinya, tidak pernah meminta apa pun. Dan saya kira sejarah bangsa Indonesia adalah sejarah begitu sering pemimpin-pemimpin, pejuang-pejuang tidak didukung oleh kesetiaan. Tapi tidak ada masalah. Saya sangat terima kasih dengan kesetiaan PAN 15 tahun tanpa pamrih dalam setiap kita bergabung PAN tidak pernah minta apapun, tidak pernah minta apa-apa, tuturnya. Menurutnya, PAN dan Gerindra mirip karena memiliki nilai yang aneh, yakni tidak pernah minta mahar dari siapapun. Baca juga: PAN Gelar Rakornas Pilkada Serentak, Prabowo Subianto Bakal Hadir Dia mengatakan, justru pihak yang meminta mahar lah yang sering menjadi tidak setia. Jadi Pak Daulay ini memang doanya luar biasa itu. Jadi saya merasa sangat tenang, sangat bahagia di tengah suasana biru yang sejuk. Untuk itulah saya pakai (kemeja) warna biru, imbuh Prabowo. Sebelumnya, Saleh Daulay berdoa agar jatah menteri yang diberikan kepada kader PAN di kabinet Prabowo Subianto-Gibran Rakabuming Raka lebih banyak dari yang mereka perkirakan. Menurut Saleh, PAN akan sangat berterima kasih dan bersyukur jika hal tersebut sampai terjadi. Baca juga: Di Depan Prabowo, Politisi PAN Berdoa Jatah Menteri Lebih Banyak dari Perkiraan Ya Allah, kami meyakini bahwa Bapak Prabowo Subianto sudah merencanakan akan memberikan beberapa posisi bagi kader-kader terbaik PAN di kabinet mendatang. Sebagai insan yang beriman, tentu hal itu sangat kami syukuri, ujar Saleh. Namun demikian, kami tentu akan lebih berterima kasih dan bersyukur lagi andai kata amanah yang diberikan kepada kami bisa lebih banyak dari apa yang kami perkirakan selama ini, sambungnya. Aamiin, teriak kader PAN. \",\"Menteri Pertahanan sekaligus calon presiden pemenang Pemilu 2024, Prabowo Subianto melaksanakan ibadah salat Idul Fitri 1445 Hijriah di Masjid Nurul Wathon yang berada di Padepokan Garuda Yaksa, Hambalang, Bogor, Jawa Barat, Rabu (10\\u002f4\\u002f2024). Dalam keterangan tertulisnya, Prabowo hadir di Masjid Nurul Wathon pada pukul 07:00 WIB. Ia mengenakan baju koko muslim berwarna putih dan peci hitam. Setibanya di lokasi, Prabowo disambut oleh para warga Bojong Koneng dan karyawan sekitar yang turut menunaikan ibadah shalat Idul Fitri 1445 Hijriah. Minal Aidin, Bapak! ujar warga seperti dikutip dari keterangan tertulis. Baca juga: Ditunggu-tunggu, Prabowo Ternyata Sudah Salaman dengan Jokowi Sebelum Open House Dimulai, Budi Arie: Bareng Mas Didit dan Mayor Teddy Di situ, Prabowo juga menyalam para warga dan karyawan setempat sebelum masuk ke dalam arena Masjid Nurul Wathon. Setelahnya, Prabowo shalat Idul Fitri dua rokaat dipimpin imam di masjid setempat. Selepas shalat, Prabowo kembali diserbu jamaah untuk bisa bersalaman hingga berfoto bersama. Bapak foto Bapak, ujar warga di lokasi. Sesekali, Prabowo juga berhenti untuk menyapa, menggendong hingga mencium kening anak-anak kecil yang turut antusias untuk berlebaran dengannya secara langsung. Dalam khotbah shalat Idul Fitri kali ini, Prabowo juga didoakan oleh penceramah agar diberikan kesehatan untuk memimpin Indonesia ke depan menuju negara yang berdaulat dan makmur. Baca juga: Meski Secara Fisik Belum Bertemu, Megawati dan Prabowo Sudah Saling Kontak Batin   Hal ini pun turut diamini oleh seluruh jemaah yang hadir di lokasi. Mudah mudahan di momen yang penuh berkah ini, kemenangan kita sebagai seorang hamba dalam beribadah di bulan Ramadhan kemenangan sebagai sebuah bangsa kita diberikan putra terbaik Bangsa Bapak H. Prabowo Subianto, beliau diberikan kesehatan walafiat, diberikan kesabaran membawa negara kita yang berdaulat makmur dan bermartabat gemah ripah loh jinawi, ujar imam salat. Aamiin, seru para jamaah. \",\"Wakil Ketua Umum Partai Gerindra Budisatrio Djiwandono mengindikasikan dirinya tidak akan maju di Pilkada Jakarta 2024. Budi mengaku menerima arahan dari Ketua Umum Partai Gerindra Prabowo Subianto untuk melanjutkan perjuangan sebagai anggota Dewan Perwakilan Rakyat (DPR). Saya sudah menerima arahan dari Ketua Dewan Pembina\\u002fKetua Umum Partai Gerindra Pak Prabowo untuk terus melanjutkan perjuangan di parlemen, ujar Budi kepada Kompas.com, Kamis (30\\u002f5\\u002f2024). Budi menyebutkan, Gerindra sudah mengantongi nama yang akan diusung sebagai calon gubernur pada Pilkada Jakarta 2024, bahkan sudah disepakati bersama Koalisi Indonesia Maju. Baca juga: Profil Budi Djiwandono, Keponakan Prabowo yang Disebut Bakal Maju Pilkada Jakarta 2024 Akan tetapi, keponakan Prabowo itu enggan membocorkan siapa sosok yang sudah dipastikan akan diusung tersebut. Untuk Pilkada DKJ, Partai Gerindra sudah mengantongi nama yang akan diusung. Nama yang ada akan diumumkan pada saatnya, tuturnya. Nama ini sudah disepakati Koalisi Indonesia Maju. Terima kasih, imbuh Budi. Sebelumnya, Wakil Ketua Umum Partai Gerindra Habiburokhman mengeklaim, partainya menerima aspirasi untuk menduetkan Budi dengan Ketua Umum Partai Solidaritas Indonesia Kaesang Pangarep sebagai pasangan calon gubernur dan wakil gubernur Jakarta. Menurut Habiburokhman, aspirasi itu dituangkan dalam poster yang menggambarkan Budi dan Kaesang akan berduet pada Pilkada Jakarta 2024. Baca juga: Soal Duet Budi Djiwandono-Kaesang, Gerindra Tunggu Keputusan Prabowo Terkait poster Pak Budi Djiwandono dengan Mas Kaesang ya, saya pikir itu sebagai bentuk penyampaian adanya aspirasi masyarakat kepada kami, ujar Habiburokhman saat dimintai konfirmasi Kompas.com, Kamis (30\\u002f5\\u002f2024). Namun, Habiburokhman menyebutkan bahwa sosok yang akan diusung Gerindra sebagai calon gubernur Jakarta akan diputuskan oleh Prabowo. Sekretaris Jenderal Partai Gerindra Ahma Muzani sebelumnya juga mengungkapkan bahwa Budi adalah kader yang disiapkan untuk maju pada Pilkada Jakarta. Ya Budi Djiwandono adalah salah satu kandidat yang sedang kita matangkan untuk bisa memimpin daerah Jakarta. Itu diperlukan sosok yang matang, memiliki visi perekonomian yang bagus, dan punya tingkat pergaulan yang bagus. Kriteria itu sepertinya memenuhi syarat, ujar Muzani di Gedung DPR, Senayan, Jakarta, Rabu (29\\u002f5\\u002f2024). \",null],\"marker\":{\"opacity\":0.5,\"size\":5},\"mode\":\"markers+text\",\"name\":\"1_prabowo_yang_di\",\"text\":[\"\",\"\",\"\",\"\",\"\",\"\",\"\",\"\",\"\",\"\",\"\",\"\",\"\",\"\",\"\",\"\",\"\",\"1_prabowo_yang_di\"],\"textfont\":{\"size\":12},\"x\":[7.376119136810303,6.219234466552734,7.463020324707031,6.821349143981934,7.515327453613281,7.370543956756592,6.821135997772217,6.478166103363037,7.419508934020996,6.618231773376465,7.223763942718506,6.953638076782227,7.882362365722656,6.807836532592773,6.943018436431885,7.293863296508789,6.181585311889648,7.022865295410156],\"y\":[3.6953318119049072,3.5972187519073486,4.427599906921387,4.417941093444824,3.9682023525238037,4.274473667144775,3.8994739055633545,3.913322925567627,3.856539249420166,4.518832683563232,4.292752742767334,3.6228368282318115,3.7224762439727783,3.6361443996429443,4.082931041717529,3.1995553970336914,3.6746866703033447,3.9294307231903076],\"type\":\"scattergl\"}],                        {\"template\":{\"data\":{\"barpolar\":[{\"marker\":{\"line\":{\"color\":\"white\",\"width\":0.5},\"pattern\":{\"fillmode\":\"overlay\",\"size\":10,\"solidity\":0.2}},\"type\":\"barpolar\"}],\"bar\":[{\"error_x\":{\"color\":\"rgb(36,36,36)\"},\"error_y\":{\"color\":\"rgb(36,36,36)\"},\"marker\":{\"line\":{\"color\":\"white\",\"width\":0.5},\"pattern\":{\"fillmode\":\"overlay\",\"size\":10,\"solidity\":0.2}},\"type\":\"bar\"}],\"carpet\":[{\"aaxis\":{\"endlinecolor\":\"rgb(36,36,36)\",\"gridcolor\":\"white\",\"linecolor\":\"white\",\"minorgridcolor\":\"white\",\"startlinecolor\":\"rgb(36,36,36)\"},\"baxis\":{\"endlinecolor\":\"rgb(36,36,36)\",\"gridcolor\":\"white\",\"linecolor\":\"white\",\"minorgridcolor\":\"white\",\"startlinecolor\":\"rgb(36,36,36)\"},\"type\":\"carpet\"}],\"choropleth\":[{\"colorbar\":{\"outlinewidth\":1,\"tickcolor\":\"rgb(36,36,36)\",\"ticks\":\"outside\"},\"type\":\"choropleth\"}],\"contourcarpet\":[{\"colorbar\":{\"outlinewidth\":1,\"tickcolor\":\"rgb(36,36,36)\",\"ticks\":\"outside\"},\"type\":\"contourcarpet\"}],\"contour\":[{\"colorbar\":{\"outlinewidth\":1,\"tickcolor\":\"rgb(36,36,36)\",\"ticks\":\"outside\"},\"colorscale\":[[0.0,\"#440154\"],[0.1111111111111111,\"#482878\"],[0.2222222222222222,\"#3e4989\"],[0.3333333333333333,\"#31688e\"],[0.4444444444444444,\"#26828e\"],[0.5555555555555556,\"#1f9e89\"],[0.6666666666666666,\"#35b779\"],[0.7777777777777778,\"#6ece58\"],[0.8888888888888888,\"#b5de2b\"],[1.0,\"#fde725\"]],\"type\":\"contour\"}],\"heatmapgl\":[{\"colorbar\":{\"outlinewidth\":1,\"tickcolor\":\"rgb(36,36,36)\",\"ticks\":\"outside\"},\"colorscale\":[[0.0,\"#440154\"],[0.1111111111111111,\"#482878\"],[0.2222222222222222,\"#3e4989\"],[0.3333333333333333,\"#31688e\"],[0.4444444444444444,\"#26828e\"],[0.5555555555555556,\"#1f9e89\"],[0.6666666666666666,\"#35b779\"],[0.7777777777777778,\"#6ece58\"],[0.8888888888888888,\"#b5de2b\"],[1.0,\"#fde725\"]],\"type\":\"heatmapgl\"}],\"heatmap\":[{\"colorbar\":{\"outlinewidth\":1,\"tickcolor\":\"rgb(36,36,36)\",\"ticks\":\"outside\"},\"colorscale\":[[0.0,\"#440154\"],[0.1111111111111111,\"#482878\"],[0.2222222222222222,\"#3e4989\"],[0.3333333333333333,\"#31688e\"],[0.4444444444444444,\"#26828e\"],[0.5555555555555556,\"#1f9e89\"],[0.6666666666666666,\"#35b779\"],[0.7777777777777778,\"#6ece58\"],[0.8888888888888888,\"#b5de2b\"],[1.0,\"#fde725\"]],\"type\":\"heatmap\"}],\"histogram2dcontour\":[{\"colorbar\":{\"outlinewidth\":1,\"tickcolor\":\"rgb(36,36,36)\",\"ticks\":\"outside\"},\"colorscale\":[[0.0,\"#440154\"],[0.1111111111111111,\"#482878\"],[0.2222222222222222,\"#3e4989\"],[0.3333333333333333,\"#31688e\"],[0.4444444444444444,\"#26828e\"],[0.5555555555555556,\"#1f9e89\"],[0.6666666666666666,\"#35b779\"],[0.7777777777777778,\"#6ece58\"],[0.8888888888888888,\"#b5de2b\"],[1.0,\"#fde725\"]],\"type\":\"histogram2dcontour\"}],\"histogram2d\":[{\"colorbar\":{\"outlinewidth\":1,\"tickcolor\":\"rgb(36,36,36)\",\"ticks\":\"outside\"},\"colorscale\":[[0.0,\"#440154\"],[0.1111111111111111,\"#482878\"],[0.2222222222222222,\"#3e4989\"],[0.3333333333333333,\"#31688e\"],[0.4444444444444444,\"#26828e\"],[0.5555555555555556,\"#1f9e89\"],[0.6666666666666666,\"#35b779\"],[0.7777777777777778,\"#6ece58\"],[0.8888888888888888,\"#b5de2b\"],[1.0,\"#fde725\"]],\"type\":\"histogram2d\"}],\"histogram\":[{\"marker\":{\"line\":{\"color\":\"white\",\"width\":0.6}},\"type\":\"histogram\"}],\"mesh3d\":[{\"colorbar\":{\"outlinewidth\":1,\"tickcolor\":\"rgb(36,36,36)\",\"ticks\":\"outside\"},\"type\":\"mesh3d\"}],\"parcoords\":[{\"line\":{\"colorbar\":{\"outlinewidth\":1,\"tickcolor\":\"rgb(36,36,36)\",\"ticks\":\"outside\"}},\"type\":\"parcoords\"}],\"pie\":[{\"automargin\":true,\"type\":\"pie\"}],\"scatter3d\":[{\"line\":{\"colorbar\":{\"outlinewidth\":1,\"tickcolor\":\"rgb(36,36,36)\",\"ticks\":\"outside\"}},\"marker\":{\"colorbar\":{\"outlinewidth\":1,\"tickcolor\":\"rgb(36,36,36)\",\"ticks\":\"outside\"}},\"type\":\"scatter3d\"}],\"scattercarpet\":[{\"marker\":{\"colorbar\":{\"outlinewidth\":1,\"tickcolor\":\"rgb(36,36,36)\",\"ticks\":\"outside\"}},\"type\":\"scattercarpet\"}],\"scattergeo\":[{\"marker\":{\"colorbar\":{\"outlinewidth\":1,\"tickcolor\":\"rgb(36,36,36)\",\"ticks\":\"outside\"}},\"type\":\"scattergeo\"}],\"scattergl\":[{\"marker\":{\"colorbar\":{\"outlinewidth\":1,\"tickcolor\":\"rgb(36,36,36)\",\"ticks\":\"outside\"}},\"type\":\"scattergl\"}],\"scattermapbox\":[{\"marker\":{\"colorbar\":{\"outlinewidth\":1,\"tickcolor\":\"rgb(36,36,36)\",\"ticks\":\"outside\"}},\"type\":\"scattermapbox\"}],\"scatterpolargl\":[{\"marker\":{\"colorbar\":{\"outlinewidth\":1,\"tickcolor\":\"rgb(36,36,36)\",\"ticks\":\"outside\"}},\"type\":\"scatterpolargl\"}],\"scatterpolar\":[{\"marker\":{\"colorbar\":{\"outlinewidth\":1,\"tickcolor\":\"rgb(36,36,36)\",\"ticks\":\"outside\"}},\"type\":\"scatterpolar\"}],\"scatter\":[{\"fillpattern\":{\"fillmode\":\"overlay\",\"size\":10,\"solidity\":0.2},\"type\":\"scatter\"}],\"scatterternary\":[{\"marker\":{\"colorbar\":{\"outlinewidth\":1,\"tickcolor\":\"rgb(36,36,36)\",\"ticks\":\"outside\"}},\"type\":\"scatterternary\"}],\"surface\":[{\"colorbar\":{\"outlinewidth\":1,\"tickcolor\":\"rgb(36,36,36)\",\"ticks\":\"outside\"},\"colorscale\":[[0.0,\"#440154\"],[0.1111111111111111,\"#482878\"],[0.2222222222222222,\"#3e4989\"],[0.3333333333333333,\"#31688e\"],[0.4444444444444444,\"#26828e\"],[0.5555555555555556,\"#1f9e89\"],[0.6666666666666666,\"#35b779\"],[0.7777777777777778,\"#6ece58\"],[0.8888888888888888,\"#b5de2b\"],[1.0,\"#fde725\"]],\"type\":\"surface\"}],\"table\":[{\"cells\":{\"fill\":{\"color\":\"rgb(237,237,237)\"},\"line\":{\"color\":\"white\"}},\"header\":{\"fill\":{\"color\":\"rgb(217,217,217)\"},\"line\":{\"color\":\"white\"}},\"type\":\"table\"}]},\"layout\":{\"annotationdefaults\":{\"arrowhead\":0,\"arrowwidth\":1},\"autotypenumbers\":\"strict\",\"coloraxis\":{\"colorbar\":{\"outlinewidth\":1,\"tickcolor\":\"rgb(36,36,36)\",\"ticks\":\"outside\"}},\"colorscale\":{\"diverging\":[[0.0,\"rgb(103,0,31)\"],[0.1,\"rgb(178,24,43)\"],[0.2,\"rgb(214,96,77)\"],[0.3,\"rgb(244,165,130)\"],[0.4,\"rgb(253,219,199)\"],[0.5,\"rgb(247,247,247)\"],[0.6,\"rgb(209,229,240)\"],[0.7,\"rgb(146,197,222)\"],[0.8,\"rgb(67,147,195)\"],[0.9,\"rgb(33,102,172)\"],[1.0,\"rgb(5,48,97)\"]],\"sequential\":[[0.0,\"#440154\"],[0.1111111111111111,\"#482878\"],[0.2222222222222222,\"#3e4989\"],[0.3333333333333333,\"#31688e\"],[0.4444444444444444,\"#26828e\"],[0.5555555555555556,\"#1f9e89\"],[0.6666666666666666,\"#35b779\"],[0.7777777777777778,\"#6ece58\"],[0.8888888888888888,\"#b5de2b\"],[1.0,\"#fde725\"]],\"sequentialminus\":[[0.0,\"#440154\"],[0.1111111111111111,\"#482878\"],[0.2222222222222222,\"#3e4989\"],[0.3333333333333333,\"#31688e\"],[0.4444444444444444,\"#26828e\"],[0.5555555555555556,\"#1f9e89\"],[0.6666666666666666,\"#35b779\"],[0.7777777777777778,\"#6ece58\"],[0.8888888888888888,\"#b5de2b\"],[1.0,\"#fde725\"]]},\"colorway\":[\"#1F77B4\",\"#FF7F0E\",\"#2CA02C\",\"#D62728\",\"#9467BD\",\"#8C564B\",\"#E377C2\",\"#7F7F7F\",\"#BCBD22\",\"#17BECF\"],\"font\":{\"color\":\"rgb(36,36,36)\"},\"geo\":{\"bgcolor\":\"white\",\"lakecolor\":\"white\",\"landcolor\":\"white\",\"showlakes\":true,\"showland\":true,\"subunitcolor\":\"white\"},\"hoverlabel\":{\"align\":\"left\"},\"hovermode\":\"closest\",\"mapbox\":{\"style\":\"light\"},\"paper_bgcolor\":\"white\",\"plot_bgcolor\":\"white\",\"polar\":{\"angularaxis\":{\"gridcolor\":\"rgb(232,232,232)\",\"linecolor\":\"rgb(36,36,36)\",\"showgrid\":false,\"showline\":true,\"ticks\":\"outside\"},\"bgcolor\":\"white\",\"radialaxis\":{\"gridcolor\":\"rgb(232,232,232)\",\"linecolor\":\"rgb(36,36,36)\",\"showgrid\":false,\"showline\":true,\"ticks\":\"outside\"}},\"scene\":{\"xaxis\":{\"backgroundcolor\":\"white\",\"gridcolor\":\"rgb(232,232,232)\",\"gridwidth\":2,\"linecolor\":\"rgb(36,36,36)\",\"showbackground\":true,\"showgrid\":false,\"showline\":true,\"ticks\":\"outside\",\"zeroline\":false,\"zerolinecolor\":\"rgb(36,36,36)\"},\"yaxis\":{\"backgroundcolor\":\"white\",\"gridcolor\":\"rgb(232,232,232)\",\"gridwidth\":2,\"linecolor\":\"rgb(36,36,36)\",\"showbackground\":true,\"showgrid\":false,\"showline\":true,\"ticks\":\"outside\",\"zeroline\":false,\"zerolinecolor\":\"rgb(36,36,36)\"},\"zaxis\":{\"backgroundcolor\":\"white\",\"gridcolor\":\"rgb(232,232,232)\",\"gridwidth\":2,\"linecolor\":\"rgb(36,36,36)\",\"showbackground\":true,\"showgrid\":false,\"showline\":true,\"ticks\":\"outside\",\"zeroline\":false,\"zerolinecolor\":\"rgb(36,36,36)\"}},\"shapedefaults\":{\"fillcolor\":\"black\",\"line\":{\"width\":0},\"opacity\":0.3},\"ternary\":{\"aaxis\":{\"gridcolor\":\"rgb(232,232,232)\",\"linecolor\":\"rgb(36,36,36)\",\"showgrid\":false,\"showline\":true,\"ticks\":\"outside\"},\"baxis\":{\"gridcolor\":\"rgb(232,232,232)\",\"linecolor\":\"rgb(36,36,36)\",\"showgrid\":false,\"showline\":true,\"ticks\":\"outside\"},\"bgcolor\":\"white\",\"caxis\":{\"gridcolor\":\"rgb(232,232,232)\",\"linecolor\":\"rgb(36,36,36)\",\"showgrid\":false,\"showline\":true,\"ticks\":\"outside\"}},\"title\":{\"x\":0.05},\"xaxis\":{\"automargin\":true,\"gridcolor\":\"rgb(232,232,232)\",\"linecolor\":\"rgb(36,36,36)\",\"showgrid\":false,\"showline\":true,\"ticks\":\"outside\",\"title\":{\"standoff\":15},\"zeroline\":false,\"zerolinecolor\":\"rgb(36,36,36)\"},\"yaxis\":{\"automargin\":true,\"gridcolor\":\"rgb(232,232,232)\",\"linecolor\":\"rgb(36,36,36)\",\"showgrid\":false,\"showline\":true,\"ticks\":\"outside\",\"title\":{\"standoff\":15},\"zeroline\":false,\"zerolinecolor\":\"rgb(36,36,36)\"}}},\"shapes\":[{\"line\":{\"color\":\"#CFD8DC\",\"width\":2},\"type\":\"line\",\"x0\":5.798978036642074,\"x1\":5.798978036642074,\"y0\":1.340542632341385,\"y1\":5.350420141220093},{\"line\":{\"color\":\"#9E9E9E\",\"width\":2},\"type\":\"line\",\"x0\":2.5332393527030943,\"x1\":9.064716720581055,\"y0\":3.345481386780739,\"y1\":3.345481386780739}],\"annotations\":[{\"showarrow\":false,\"text\":\"D1\",\"x\":2.5332393527030943,\"y\":3.345481386780739,\"yshift\":10},{\"showarrow\":false,\"text\":\"D2\",\"x\":5.798978036642074,\"xshift\":10,\"y\":5.350420141220093}],\"title\":{\"font\":{\"size\":22,\"color\":\"Black\"},\"text\":\"\\u003cb\\u003eDocuments and Topics\\u003c\\u002fb\\u003e\",\"x\":0.5,\"xanchor\":\"center\",\"yanchor\":\"top\"},\"width\":1200,\"height\":750,\"xaxis\":{\"visible\":false},\"yaxis\":{\"visible\":false}},                        {\"responsive\": true}                    )                };                            </script>        </div>"
      ],
      "text/plain": [
       "Figure({\n",
       "    'data': [{'hoverinfo': 'text',\n",
       "              'hovertext': array(['Lembaga Survei Indonesia (LSI) mengungkapkan nama anak Presiden Joko Widodo (Jokowi), Kaesang Pangarep, Kapolda Jawa Tengah (Jateng) Irjen Ahmad Luthfi, artis Raffi Ahmad, hingga mantan ajudan Prabowo Subianto, Sudaryono berada di posisi unggul di Pilkada Jateng 2024. Adapun para responden ditanyai mengenai siapa calon gubernur pilihan mereka di Jateng dalam sesi pertanyaan semi terbuka. Ada 21 nama yang disodorkan LSI. Yang sementara unggul adalah nama Kaesang Pangarep, disusul oleh Ahmad Luthfi, lalu nama berikutnya Abdul Wachid, Raffi Ahmad juga ada di situ, Bambang Wuryanto Pacul, Sudaryono, Hendar Prihadi mantan Wali Kota Semarang, ujar Djayadi dalam jumpa pers virtual, Minggu (30/6/2024). Baca juga: Survei LSI: Mayoritas Masyarakat Belum Punya Pilihan, Pilkada Jateng Masih Terbuka Semua Calon Djayadi menjelaskan, selain Sudaryono dan Hendra Prihadi, lima nama di atas menjadi calon yang meraih elektabilitas di atas 5 persen. Sisanya, kata dia, masih mendapat elektabilitas di bawah 5 persen. Maka dari itu, Djayadi menilai pertarungan di Pilkada Jateng 2024 masih sangat terbuka. Masih belum ada yang bisa disimpulkan unggul, apalagi dominan. Jarak antara Kaesang Pangarep dengan Ahmad Luthfi juga dekat, cuma beda 2-3 persen, tuturnya. Sementara yang ketika diberi daftar nama untuk dipilih masih ada 20 persen menyatakan belum punya pilihan, imbuh Djayadi. Baca juga: PDI-P Lempar Sinyal Usung Ahmad Luthfi pada Pilkada Jateng Berikut daftar cagub yang sementara unggul di Pilkada Jateng 2024 versi LSI: 1. Kaesang Pangarep: 15,9 persen 2. Irjen Ahmad Luthfi: 12,9 persen 3. Abdul Wachid: 7,8 persen 4. Raffi Ahmad: 6,8 persen 5. Bambang Wuryanto: 5,8 persen 6. Sudaryono: 4,7 persen 7. Hendrar Prihadi: 4,7 persen. Survei LSI kali ini dilakukan pada 21-26 Juni 2024 dengan mewawancarai 1.200 responden. Wawancara dilakukan melalui telepon. Adapun margin of error survei kurang lebih sebesar 2,8 persen pada tingkat kepercayaan 95 persen dengan asumsi simple random sampling. ',\n",
       "                                  'Ketua DPP PDI-P Said Abdullah mengatakan bahwa Ketua Umum PDI-P Megawati Soekarnoputri menugaskan Ketua DPP PDI-P Puan Maharani untuk menjalin komunikasi dengan calon presiden pemenang Pilpres 2024, Prabowo Subianto. Adapun komunikasi tersebut akan menjadi pertimbangan apakah pertemuan antara Megawati dan Prabowo bisa diwujudkan. Jadi, dari satu poin dan dua poin itu, muaranya, Ibu menugaskan Mbak Puan memang untuk membangun komunikasi. Setelah membangun komunikasi, nanti Mbak Puan report, kata Said saat dihubungi, Senin (8/4/2024). Baca juga: Megawati-Prabowo Bakal Bertemu, PDI-P Berpotensi Merapat ke Koalisi Gerindra Hasil report itulah yang akan menentukan Ibu ketua umum bertemu dengan Pak Prabowo, duduk bersama. Kan begitu, lanjutnya. Namun Said tak memerinci kapan pertemuan Puan dan Prabowo dilaksanakan. Said mengungkapkan, pada dasarnya antara Megawati dan Prabowo tidak memiliki persoalan secara pribadi. Begitu pula, secara ideologis, PDI-P dan Partai Gerindra juga dinilai tidak memiliki persoalan. Kedua partai politik itu, jelas Said, bahkan saling bersinergi selama 10 tahun terakhir di DPR. Secara politik, tidak pernah ada sentuhan apapun dengan Gerindra, dan bahkan 10 tahun terakhir PDI Perjuangan dan Gerindra sebagai partner yang baik di DPR, tegas Ketua Badan Anggaran (Banggar) DPR ini. Lebih jauh, Said menekankan pesan Megawati tentang pentingnya bangsa menghadapi tantangan lima tahun ke depan. Baca juga: Gerindra: Pak Prabowo dan Bu Megawati Sahabat Lama, Tak Ada Hambatan Rencana Pertemuan Maka dari situ Megawati, tambah Said, juga enggan menarik menteri-menteri dari kabinet Presiden Joko Widodo (Jokowi) saat ini. Konteks Ibu ketum itu pesannya, lima tahun ke depan, keadaan geopolitik seperti ini, setiap negara istilah Ibu itu, setiap memperkuat dirinya sendiri, global supply chain tidak sempurna karena keseimbangan baru tidak tercipta, maka berat tantangan ke depan, ungkap dia. Dia menegaskan, Presiden kelima RI tersebut sangat meletakkan kepentingan bangsa dan negara di atas segalanya. Baca juga: TKN: Pertemuan Prabowo-Megawati Sudah Terjadwal, PDI-P Akan Diajak Gabung Pemerintah Nah, poin itu disampaikan oleh Ketua Umum. Jauh dari partisan. Sehingga kalau ketemu dengan Pak Prabowo nantinya, welcome banget, tutur Said. Sebelumnya, pertemuan Megawati dan Prabowo digadang bakal terjadi setelah Puan lebih dulu bertemu Ketua Umum Partai Gerindra itu. Hal itu sudah diungkapkan Said Abdullah beberapa waktu sebelumnya. Sebelum (Prabowo Subianto) bertemu Ibu Megawati, didahului pertemuan dengan Mbak Puan. Itu nanti setelah sidang MK, kata Said kepada wartawan di Surabaya, Jawa Timur, Senin (1/4/2024). ',\n",
       "                                  'Menteri Pertahanan (Menhan) Prabowo Subianto mengatakan, demokrasi di Indonesia masih berantakan dan membutuhkan biaya sangat mahal. Prabowo yang juga merupakan peserta Pemilihan Umum (Pemilu) 2024 tersebut menyatakan masih belum puas dengan pelaksanaan demokrasi di Tanah Air. Sehingga ia menilai perlu ada perbaikan demokrasi untuk ke depannya. Baca juga: Di Hadapan Investor, Prabowo: Insyaallah Saya Akan Dilantik Jadi Presiden 20 Oktober Izinkan saya bersaksi bahwa demokrasi sungguh sangat melelahkan. Demokrasi itu sangat-sangat berantakan, demokrasi itu sangat-sangat mahal, ujar Prabowo saat memberikan sambutan pada Mandiri Investment Forum yang disiarkan secara daring di YouTube KompasTV, Selasa (5/2/2024). Dan kita masih belum puas dengan demokrasi kita. Ada banyak ruang untuk perbaikan, tegasnya. Meski begitu, Prabowo juga mengapresiasi partisipasi masyarakat Indonesia di pemilu yang bisa mencapai 80 persen. Baca juga: Prabowo di Depan Investor: Bos Selalu Benar, kalau Salah, Kembali ke Aturan Pertama Menurutnya angka partisipasi pemilu Indonesia tidak buruk. Terlebih jika dibandingkan dengan negara-negara lain yang menganut sistem demokrasi tetapi partisipasi pemilih dalam pemilu mereka tidak mencapai 50 persen. Dalam pemilu kita, jumlah partisipasi pemilih mencapai 80 persen. Rata-rata 80 persen. Ini tidak buruk. Mengingat banyak negara di negara demokrasi terkadang hasilnya kurang dari 50 persen, jelas Prabowo. Lebih lanjut, calon presiden (capres) nomor urut 2 itu menyinggung pengalamannya di Pemilu 2024, di mana karena luasnya negara Indonesia ia belum bisa mengunjungi semua provinsi yang ada. Dari 38 provinsi di Tanah Air, Prabowo baru bisa menyambangi sekitar 26 provinsi. Baca juga: Cerita di Hadapan Investor Pernah Berutang ke Bank, Prabowo: Saya Lunasi 100 Persen Akan tetapi, ia berjanji setelah pemilu akan mengunjungi sisa provinsi yang belum pernah disambanginya. Tapi saya masih, setelah pemilu ini, saya masih harus pergi kunjungi provinsi-provinsi itu (yang belum dikunjungi). Karena saya janji provinsi-provinsi yang belum bisa saya kunjungi saya akan kunjungi, tambahnya. ',\n",
       "                                  'Sekretaris Jenderal (Sekjen) Partai Gerindra Ahmad Muzani mengatakan pihaknya sudah berkomunikasi dengan Ketua DPP PDI-P Puan Maharani terkait rencana pertemuan presiden terpilih Prabowo Subianto dengan Ketua Umum PDI-P Megawati Soekarnoputri. Menurut Muzani, komunikasi yang berlangsung berjalan dengan baik. Ya dengan Ibu Puan, komunikasinya baik. Komunikasi dengan teman-teman elite PDI-P juga pembicaraannya baik, ujar Muzani di rumah Prabowo, Jalan Kertanegara, Jakarta Selatan, Kamis (25/4/2024) malam. Muzani mengatakan, rencana untuk mempertemukan Prabowo dan Megawati sedang dibangun. Baca juga: Sekjen PDI-P: Pertemuan Megawati-Jokowi Sulit Terjadi Komunikasi itu sedang kita bangun, komunikasi itu sedang kita rencanakan insya Allah, ucapnya. Sementara itu, Muzani menyebut Prabowo sendiri juga sudah menyinggung perihal rencana pertemuan dengan Megawati. Sudah diomong-omongkan, imbuh Muzani. Sebelumnya, pertemuan antara Ketua Umum PDI-P Megawati Soekarnoputri dan calon presiden pemenang Pilpres 2024 sekaligus Ketua Umum Partai Gerindra Prabowo Subianto menunggu hasil Rapat Kerja Nasional (Rakernas) ke-V PDI-P pada 24-26 Mei mendatang. Baca juga: Lihat Sikap Megawati, Ketua DPP Prediksi PDI-P Bakal di Luar Pemerintahan Prabowo Jika pertemuan yang dimaksud adalah bersifat politik formal kenegaraan, maka kita akan masih menunggu sebuah rapat kerja nasional yang tadi Mas Djarot (Ketua DPP PDI-P Djarot Saiful Hidayat) sudah informasikan detail tanggalnya, yaitu 24, 25, 26 Mei yang akan datang, kata Ketua DPP PDI-P Ahmad Basarah di Kantor DPP PDI-P, Jalan Diponegoro, Menteng, Jakarta Pusat, Senin malam. Basarah menjelaskan, peluang Megawati dan Prabowo bertemu tetap ada. Apalagi, keduanya disebut tidak pernah memiliki persoalan pribadi. Keduanya juga dikenal sudah menjalin komunikasi dan hubungan baik sejak lama. Secara pribadi, hubungan Bu Mega dengan Pak Prabowo sangat baik. Mereka berdua punya sejarah panjang di dalam hubungan antar manusia, bangsa Indonesia tersebut, jelasnya. Baca juga: Megawati Diyakini Tak Goyah, PDI-P Diprediksi Jadi Oposisi Pemerintahan Prabowo Wakil Ketua MPR ini menjelaskan, Megawati mengetahui porsi dan momentum yang tepat untuk melaksanakan pertemuan itu. Sehingga, pertemuan yang sifatnya pribadi juga mungkin terjadi. ',\n",
       "                                  'Ketua Umum Partai Gerindra Prabowo Subianto resmi mengumumkan putra sulung Presiden Joko Widodo, Gibran Rakabuming Raka, sebagai bakal calon wakil presidennya, Minggu (22/10/2023) malam. Pengumuman ini dilakukan usai semua ketua umum partai politik di Koalisi Indonesia Maju (KIM) menggelar rapat di kediaman Prabowo di Jalan Kertanegara, Kebayoran Baru, Jakarta Selatan. Baca juga: Zulhas: Cawapres Prabowo Diumumkan Malam Ini Baru saja Koalisi Indonesia Maju (KIM) yang terdiri dari delapan partai politik, yang dihadiri lengkap oleh ketum masing-masing dan sekjen masing-masing kita telah berembug secara final, secara konsensus, seluruhnya sepakat mengusung Prabowo Subianto sebagai capres Koalisi Indonesia Maju untuk 2024-2029 dan saudara Gibran Rakabuming Raka sebagai calon wakil presiden, ujar Prabowo dalam jumpa pers di kediamannya, Minggu. Sebelumnya, Partai Golkar mengumumkan secara resmi dukungan mereka kepada Gibran untuk menjadi cawapres Prabowo Subianto melalui rapat pimpinan nasional (rapimnas) yang diselenggarakan pada Sabtu (21/10/2023) kemarin.  Berdasarkan hasil pertemuan dengan ketua DPD tadi malam, semuanya konsensus mengusulkan dan mendukung Mas Gibran untuk kita pasangkan dengan Pak Prabowo sebagai bakal capres RI, kata Ketua Umum Golkar Airlangga Hartarto, Sabtu. Usai resmi diusung, Gibran menyatakan akan mengkoordinasikan hasil rapat pleno satu dalam Rapat Pimpinan Nasional (Rapimnas) II Partai Golkar dengan Prabowo. Baca juga: Gibran Rakabuming, Bakal Cawapres Prabowo yang Diusung Golkar, Punya Kekayaan Rp 26 Miliar Adapun hasil rapat pleno kesatu Rapimnas Partai Golkar mengusulkan Gibran Rakabuming Raka sebagai bakal calon wakil presiden (cawapres) pendamping Prabowo Subianto. Untuk selanjutnya akan kami koordinasikan, akan kami tindaklanjuti bersama dengan Pak Prabowo, kata Gibran di DPP Partai Golkar, Palmerah, Jakarta Barat, Sabtu (21/10/2023). Tak lupa, Gibran mengucapkan terima kasih kepada Partai Golkar atas hasil Rapimnas II tersebut. Baca juga: Profil Gibran Rakabuming, Putra Sulung Jokowi yang Diusung Golkar Jadi Bakal Cawapres Prabowo Saya ucapkan terima kasih kepada keluarga besar Golkar, saya sangat mengapresiasi hasil Rapimnas pada siang hari ini, ujarnya. ',\n",
       "                                  'Pengamat komunikasi politik dari Universitas Esa Unggul, Jamiluddin Ritonga mengatakan, capres nomor urut 2, Prabowo Subianto diposisikan oleh timnya sebagai orang yang terzalimi setelah diserang dalam debat capres pada Minggu (7/1/2024) lalu. Jamiluddin menyebut, serangan dari Anies Baswedan dan Ganjar Pranowo kepada Prabowo itu terlihat jelas dalam debat ketiga Pilpres 2024. Prabowo Subianto dalam debat ketiga terkesan memang diserang Anies Baswedan dan Ganjar Pranowo. Hal itu sangat terlihat ketika Ganjar memberi nilai 5 dan Anies dengan nilai 11, ujar Jamiluddin saat dimintai konfirmasi, Rabu (10/1/2024). Baca juga: Meski Umpatan Prabowo Masuk Pidana Pemilu, Timnas Anies-Muhaimin Belum Berencana Lapor ke Bawaslu Menurut Jamiluddin, strategi Anies dan Ganjar menyerang Prabowo justru menguntungkan Menteri Pertahanan tersebut. Dia menilai, tim Prabowo memanfaatkan momentum itu. Justru dimanfaatkan tim Prabowo untuk memposisikan capresnya sebagai orang yang terzalimi, ucap dia.  Lalu, Jamiluddin mengatakan, strategi memposisikan diri sebagai orang yang terzalimi bukanlah hal baru di Indonesia. Baca juga: Ketum DPP JSI: Saya dan Santri Merasa Pilu Melihat Pak Prabowo Diserang Saat Debat Pada Pemilu 2004, kata dia, Susilo Bambang Yudhoyono (SBY) juga mendapat manfaat setelah dizalimi oleh Taufik Kiemas. Sejak itu, kata dia, nama SBY terus mendapat simpati dari masyarakat. Bahkan hal itu menjadi faktor utama yang mengantarkan SBY terpilih menjadi presiden pada tahun 2004, kata Jamiluddin. Hal itu tampaknya coba digunakan tim Prabowo untuk meningkatkan simpati masyarakat. Gejala itu sudah mulai terlihat dengan bermunculannya simpati dukungan kepada Prabowo di media sosial, ucap dia. Baca juga: Sebagai Pemimpin Politik, Prabowo Dorong Pembangunan Tanggul Laut Raksasa di Kawasan Pantura Maka dari itu, Jamiluddin menduga tim Prabowo ingin mengambil manfaat sebagaimana yang dialami SBY. Jamiluddin melihat peluang ke arah itu sudah makin terlihat.  Hal itu setidaknya terlihat dari hasil survei terakhir yang tetap mendudukkan Prabowo dengan elektabilitas tertinggi, ucap Jamiluddin. Sebelumnya, Sekretaris Tim Kampanye Nasional (TKN) Prabowo Subianto-Gibran Rakabuming Raka, Nusron Wahid mengeklaim Prabowo berhasil mendapatkan simpati publik setelah debat ketiga Pilpres 2024. Sebab, kata dia, Prabowo tetap sabar meski dihina-hina terus di debat capres. Kalau kita pantau di sosmed, reaksi balik dari publik luar biasa. Rata-rata malah bersimpati dengan Pak Prabowo. Karena keikhlasan dan kesabaran meski dikuyo-kuyo (dihina-hina), ujar Nusron saat dimintai konfirmasi, Selasa (9/1/2024).  Nusron lantas bersyukur Prabowo tidak terpancing emosi saat dikeroyok oleh Anies Baswedan dan Ganjar Pranowo dalam debat capres. Menurut Nusron, Prabowo adalah negarawan yang tetap tenang. Alhamdulillah Pak Prabowo, kendati diserang dan dikeroyok, dengan sabar, dan kenegarawanannya mampu tenang dan tidak terpancing emosi, kata Nusron. ',\n",
       "                                  'PDI-P belum habis asa untuk melawan kemenangan Prabowo Subianto dan Gibran Rakabuming Raka pada Pemilihan Presiden (Pilpres) 2024. Setelah Mahkamah Konstitusi (MK) menolak gugatan sengketa pilpres yang diajukan kubu Ganjar Pranowo dan Mahfud MD yang dilanjutkan dengan penetapan oleh Komisi Pemilihan Umum (KPU) sebagai presiden dan wakil presiden terpilih, PDI-P masih mengajukan gugatan ke Pengadilan Tata Usaha Negara (PTUN). Gugatannya diarahkan pada KPU yang dianggap telah melawan hukum dengan menerima pendaftaran Gibran sebagai cawapres. Ketua Tim Hukum PDI-P Gayus Lumbuun sepakat bahwa PTUN tak bisa membatalkan putusan MK. Baca juga: Abaikan PDI-P, MPR: Tak Ada Alasan untuk Tidak Lantik Prabowo-Gibran Putusan PTUN tidak mungkin membatalkan keputusan MK. Kami sangat sadar, tetapi kehidupan dinamika dari hukum ini kan luas sekali, sebut Gayus di PTUN, Jakarta, Kamis (5/2/2024). Lebih lanjut, ia mengatakan bahwa putusan PTUN nantinya bisa menjadi dasar MPR RI tak melantik Prabowo dan Gibran. Kalau KPU tidak berhak membatalkan, kami berpandangan rakyat yang berkumpul di MPR, diwakili anggota-anggota MPR, bisa punya sikap untuk tidak melantik. Itu yang kami ajukan, ucapnya. Keinginan PDI-P itu nyatanya tidak mendapatkan sambutan positif dari beberapa anggota MPR RI. Wakil Ketua MPR dari Partai Demokrat Syarief Hasan menyampaikan mengacu pada Undang-Undang (UU) Pemilu, Prabowo-Gibran tetap akan dilantik. Menurut UU Pemilu, MPR harus melantik presiden terpilih yang sudah ditetapkan oleh KPU hasil pemilu, sebut dia. Baca juga: Sadar PTUN Tak Bisa Batalkan Putusan MK, PDI-P: Tapi MPR Punya Sikap untuk Tidak Melantik Prabowo   Kemudian, Wakil Ketua MPR RI dari Partai Kebangkitan Bangsa (PKB) Jazilul Fawaid menganggap, pernyataan Gayus hanya merupakan harapan semata. Sebab, PTUN Jakarta pun belum memberikan putusan. Sidang perdana baru dimulai Kamis kemarin. Itu baru harapan saja. Kita tunggu keputusan hukum PTUN, katanya. Lalu, Wakil Ketua MPR RI dari Partai Amanat Nasional (PAN) Yandri Susanto menganggap putusan PTUN tak bisa mengganggu pengangkatan Prabowo-Gibran. Menurut kami, dan saya sebagai Wakil Ketua MPR, sekarang Pak Prabowo dan Mas Gibran tinggal menunggu waktu pelantikan tanggal 20 Oktober nanti, tutur Yandri saat dihubungi Kompas.com, Jumat (3/5/2024). Baca juga: Harap PTUN Kabulkan Gugatan, PDI-P: MPR Bisa Tidak Lantik Prabowo-Gibran Oleh karena itu, MPR tidak punya alasan untuk tidak melantik pasangan Prabowo dan Gibran. Jadi menurut kami PTUN itu tidak ada pengaruhnya terhadap proses pelantikan Pak Prabowo dan Mas Gibran, imbuh dia. Gayus menegaskan, PDI-P tidak mempersoalkan hasil Pemilu Presiden (Pilpres) 2024. Maka dari itu, dia tetap menghormati apa yang sudah diputuskan oleh MK yang menolak permohonan gugatan kubu pasangan calon presiden dan wakil presiden nomor urut 1 dan 3. Tapi kami minta agar PTUN mengadili, apakah betul KPU telah melanggar hukum sebagai aparatur negara di bidang pemilu ini, urai Gayus. Nah PTUN akan memutuskan, apakah betul ada pelanggaran hukum oleh KPU terhadap cawapres yang sekarang jadi penetapan oleh KPU dan akan dilantik, jadi permohonan kami untuk tidak dilantik, tambahnya.   Di sisi lain, Kuasa Hukum KPU RI Saleh mengatakan, pihaknya belum mengetahui pasti isi objek gugatan dari tim kuasa hukum PDI-P. Saleh mengakui dirinya kebingungan untuk mempersiapkan jawaban. Ya karena kami ini juga belum paham betul, isinya juga apa, kami juga cuma lihat di media. Tapi itu kan bukan kemudian harus kita jadikan acuan kan, katanya saat ditemui di Pengadilan Tata Usaha Negara (PTUN) Jakarta, Cakung, Jakarta Timur, usai sidang, Kamis (2/5/2024). Jadi kalau kaitan dengan kemudian bagaimana jawaban KPU, hingga hari ini masih belum paham juga mau jawab apa, lanjut Saleh. Baca juga: Kuasa Hukum KPU Belum Paham Isi Gugatan PDI-P di PTUN Ia lantas merujuk pada sikap PTUN yang juga mempertanyakan objek gugatan yang diajukan PDI-P. Majelis itu bertanya, kalau yang diminta kaitan dengan pelantikan itu, pertanyaan majelis, kaitan dengan penetapan paslon, kaitan dengan penetapan hasil, apakah itu dijadikan satu atau pisah? tutur Saleh. Lebih jauh, dirinya juga mempertanyakan objek gugatan yang dilayangkan kuasa hukum PDI-P dalam persidangan. Pasalnya, selaku kuasa hukum, KPU hanya menerima surat panggilan dari PTUN Jakarta terkait Surat Keputusan (SK) KPU Nomor 360 tahun 2024 tentang penetapan hasil pemilihan umum (Pemilu) pada 20 Maret lalu. Baca juga: PDI-P Harap PTUN Tidak Biarkan Pelanggaran Hukum yang Diduga Dilakukan KPU   Padahal, Saleh menilai, SK itu sudah diputuskan oleh KPU. Sementara yang dipersoalkan PDI-P justru proses pendaftaran Gibran Rakabuming Raka sebagai calon wakil presiden.  Kami sampaikan bahwa kami ini masih belum tahu (paham) terkait dengan gugatan. Karena dalam panggilan yang dilayangkan oleh PTUN Jakarta ini terhadap KPU, itu adalah mencantumkan SK 360. Berkaitan dengan penetapan hasil, kata Saleh. Nah oleh karena itu, kami confirm tadi, selaku kuasa KPU, mengapa gugatan objeknya yang dilayangkan ini 360? Mengapa? Karena 360 sudah diputuskan oleh Mahkamah Konstitusi, katanya lagi. Sebelumnya diberitakan, PDI-P mengajukan gugatan untuk KPU di PTUN, Jakarta, pada Selasa (2/4/2024). Gugatan ini teregister dengan nomor perkara 133/G/TF/2024/PTUN.JKT.  Baca juga: Sidang Administrasi Selesai, PTUN Minta PDI-P Perbaiki Gugatan terhadap KPU Gugatan ini diajukan karena KPU dianggap telah melakukan perbuatan melawan hukum dalam proses penyelenggaraan Pemilihan Presiden (Pilpres) 2024. PDI-P menganggap tindakan KPU menerima pendaftaran Gibran Rakabuming Raka sebagai calon wakil presiden sebagai tindakan perbuatan melawan hukum. Adapun perbuatan melawan hukum yang dimaksudkan dalam gugatan ini adalah berkenaan dengan tindakan KPU sebagai penguasa di bidang penyelenggaraan Pemilu karena telah mengenyampingkan syarat usia minimum bagi cawapres, yaitu terhadap Saudara Gibran Rakabuming Raka, kata Ketua Tim Hukum PDI-P Gayus Lumbuun di Kantor PTUN. ',\n",
       "                                  'Pasangan nomor urut 02, Prabowo Subianto-Sandiaga Salahuddin Uno telah mengumumkan daftar nama yang terlibat dalam Tim Pemenangan Nasional untuk Pilpres 2019. Tim ini dipimpin oleh mantan Panglima TNI Jenderal (Purn) Djoko Santoso. Sedangkan, Prabowo akan memimpin dewan pembina yang di dalamnya juga terdapat tokoh seperti Amien Rais, Salim Segaf Al Jufri, Agus Harimurti Yudhoyono, dan Hutomo Mandala Putra. Ketua Dewan Pengarah akan dipimpin oleh Presiden PKS Mohamad Sohibul Iman. Dewan ini terdiri dari sejumlah nama seperti Titiek Soeharto, Fadli, Zon, dan Ahmad Heryawan. Ketua Umum PAN Zulkifli Hasan akan memimpin dewan penasihat, yang anggotanya juga terdiri atas tokoh seperti Hidayat Nur Wahid, Rhoma Irama, dan Syarief Hasan. Sedangkan, Presiden keenam RI yang juga Ketua Umum Partai Demokrat Susilo Bambang Yudhoyono akan memimpin juru kampanya nasional. Seperti apa daftar nama dalam Tim Pemenangan Nasional Prabowo-Sandiaga? Lihat dalam infografik di bawah ini:   ',\n",
       "                                  'Capres nomor urut 1 Anies Baswedan mengatakan bahwa proses pembentukan kabinet pemerintahan baru masih lama. Hal ini diungkapkan saat ditanya apakah sudah ada tawaran kepadanya untuk bergabung ke dalam kabinet Prabowo Subianto-Gibran Rakabuming Raka, sebagai salah satu menteri, ke depan. Kan masih lama proses kabinet juga, ujar Anies saat ditemui di Akademi Bela Negara Partai Nasdem, Jakarta Selatan, Kamis (2/5/2024). Prabowo-Gibran, sesuai dengan aturan yang ada saat ini, akan dilantik sebagai presiden dan wakil presiden pada 20 Oktober 2024. Baca juga: Surya Paloh Pamer Nasdem Bisa Dukung Anies, tapi Tetap Berada di Pemerintahan Jokowi Saat disinggung apakah sudah ada pihak Prabowo yang mencoba mengajaknya berkomunikasi, Anies tak menjawab tegas. Baru ada pengumuman KPU minggu lalu, masih panjang, imbuhnya. Sebelumnya, Wakil Ketua Tim Kampanye Nasional (TKN) Prabowo-Gibran, Ahmad Muzani meyakini bahwa kubu Anies-Muhaimin dan PDI Perjuangan akan ikut menjadi bagian dari pemerintahan ke depan. Sebab, kata dia, Prabowo berharap bisa membangun pemerintahan secara bersama-sama. Kami merasa bahwa insyaallah ajakan kami untuk bersama-sama membangun Indonesia ke depan di bawah pemerintah Prabowo-Gibran sepertinya bukan bertepuk sebelah tangan, ujar Muzani saat ditemui di Medcen TKN Prabowo-Gibran, Jakarta Selatan, Selasa (20/2/2024) malam. Baca juga: Ditanya soal Pilkada DKI Jakarta, Anies: Kasih Jeda Dulu Harapan Pak Prabowo untuk bisa bersama-sama untuk membangun Indonesia dari komunikasi awal kami dengan semua parpol yang tadinya berbeda pilihan dalam pilpres sepertinya dalam komunikasi awal kami bukan sesuatu yang bertepuk sebelah tangan, sambungnya. ',\n",
       "                                  'Pengamat politik dari Universitas Al Azhar Indonesia, Ujang Komarudin, mengatakan, pasca Pemilu Presiden (Pilpres) 2024, partai politik (parpol) berupaya menyelamatkan diri masing-masing. Ini tampak dari tiga parpol yang semula tergabung dalam Koalisi Perubahan untuk Persatuan, Partai Kebangkitan Bangsa (PKB), Partai Nasdem, dan Partai Keadilan Sejahtera (PKS), yang kini mengisyaratkan merapat ke koalisi pemenang pilpres, Prabowo Subianto-Gibran Rakabuming Raka. Saat ini, partai politik menyelamatkan diri masing-masing untuk kepentingan masing-masing. Karena posisi kalah ya apa boleh buat, semua partai politik balik kanan, punya agenda masing-masing ke depan, kata Ujang kepada Kompas.com, Rabu (24/4/2024). Menurut Ujang, manuver PKB, Nasdem, dan PKS menunjukkan bahwa setiap parpol berkalkulasi dan bekerja sesuai dengan kepentingan politik masing-masing. Dinamika ini seolah membuktikan bahwa narasi perubahan yang sempat diusung ketiga partai pada Pilpres 2024 merupakan narasi jualan semata. Baca juga: Cinta Lama Gerindra-PKB yang Bersemi Kembali Sebab, berbeda dengan Koalisi Perubahan untuk Persatuan, kubu Prabowo-Gibran mengusung semangat keberlanjutan pemerintahan Presiden Joko Widodo. Namanya juga slogan, namanya juga kampanye untuk bisa menarik simpati dan dukungan publik, ucap Ujang. Ujang mengaku tak terkejut jika PKB benar-benar bergabung ke kubu Prabowo-Gibran. Sejak awal, ia sudah memprediksi partai pimpinan Muhaimin Iskandar itu bakal merapat ke kubu pemenang. Alasannya, selain karena PKB tak punya sejarah sebagai oposisi, Muhaimin juga dinilai tengah berupaya mempertahankan jabatan sebagai pucuk pimpinan partai. Sebab, menurut desas-desus yang berembus, ada pihak yang mengincar kursi Ketua Umum PKB. Kalau Cak Imin menjadi oposisi, dikerjai oleh pemerintah, bisa hilang jabatan ketua umumnya. Itu tentu merugikan Cak Imin, kata Ujang. Dan kalau masuk pemerintahan tentu dapat menteri, berkuasa lagi, posisi ketua umum pun bisa aman. Itu rasional saja dalam politik taktis, lanjutnya. Sementara, Nasdem disebut sebagai parpol yang paling awal bermanuver. Ini tampak dari Ketua Umum Partai Nasdem Surya Paloh yang langsung memberikan ucapan selamat begitu Prabowo-Gibran dinyatakan sebagai pemenang Pilpres 2024 oleh Komisi Pemilihan Umum (KPU) pada 20 Maret 2024 lalu. Sementara, peluang PKS berkoalisi dengan pemerintahan Prabowo-Gibran dinilai masih fifty-fifty. Partai pimpinan Ahmad Syaikhu itu diduga masih mempertimbangkan dinamika politik ke depan. Mungkin Majelis Syuro PKS memperhatikan kebatinan konstituen PKS, apakah konstituennya mau oposisi ataupun berkoalisi. Penentu di PKS itu bukan ketua umum, tapi Majelis Syuro, tutur Ujang. Sebelumnya diberitakan, tiga partai anggota Koalisi Perubahan untuk Persatuan yakni PKB, Nasdem, dan PKS, membuka peluang bergabung ke koalisi Prabowo-Gibran. Pada Pilpres 2024, kongsi tersebut mengusung Anies Baswedan-Muhaimin Iskandar sebagai calon presiden dan calon wakil presiden (capres-cawapres). Namun, pasangan ini ditumbangkan oleh Prabowo-Gibran. Baca juga: PKB Beri Sinyal Gabung Koalisi Prabowo, Cak Imin Dinilai Ingin Amankan Kursi Ketum Sinyal merapatnya PKB ke koalisi pemerintahan mendatang tampak dalam pertemuan Muhaimin dengan Prabowo pada Rabu (24/4/2024). Usai ditetapkan sebagai presiden terpilih, Prabowo berkunjung ke kantor DPP PKB di kawasan Jakarta Pusat. Kehadiran Prabowo disambut meriah oleh elite PKB. Karpet merah digelar untuk menyambut kehadiran presiden terpilih itu. Prabowo mengungkapkan, dalam pertemuan itu pada pokoknya PKB menyampaikan keinginan untuk bekerja sama dengan pemerintahannya ke depan. Saya menerima tadi penyampaian pernyataan bahwa PKB ingin terus bekerja sama dengan Gerindra, dengan Prabowo Subianto untuk mengabdi demi kepentingan rakyat, kata Prabowo. Terpisah, Surya Paloh mengaku, partainya dan PKS siap jika harus bergabung sebagai koalisi atau menjadi oposisi pemerintahan Prabowo-Gibran. Saya katakan tadi sama teman-teman PKS, Coba renungkan, apa yang terbaik bagi negeri ini? PKS di dalam pemerintahan atau di luar pemerintahan? ujar Surya usai bertemu dengan Presiden PKS Ahmad Syaikhu di Nasdem Tower, Jakarta, Rabu (24/4/2024). ',\n",
       "                                  'Belakangan ini, ramai pemberitaan soal status perkawinan presiden terpilih 2024, Prabowo Subianto dan mantan istrinya, Titiek Soeharto. Keduanya menjadi sorotan akhir-akhir ini karena kerap tampil bersama. Misalnya saja saat Titiek hadir dalam penetapan Prabowo sebagai capres terpilih di Kantor Komisi Pemilihan Umum, Rabu (24/4/2024). Titiek juga beberapa kali memamerkan momen kebersamaannya dengan Prabowo dan anak mereka, Didiet Hediprasetyo. Pada 14 April lalu, misalnya, dia mengunggah ke Instagram foto khusus saat disuguhi kue ulang tahun oleh Prabowo yang hadir pada acara syukurannya. Berdasarkan dokumen pendaftaran Prabowo sebagai capres 2024-2029, status pernikahan Menteri Pertahanan itu tertulis pernah. Baca juga: Ini Status Perkawinan Prabowo dan Titiek Soeharto Sementara itu, Titiek hanya menulis huruf P dalam kolom yang sama dokumen pendaftarannya sebagai caleg DPR RI, yang berarti pernah. Titiek maju sebagai calon anggota legislatif (caleg) DPR RI pada daerah pemilihan DI Yogyakarta. Lantas, apa arti pernah kawin dalam status perkawinan? Bedakah dengan status bercerai? Menurut pengacara dari Kantor Hukum Ongko Purba and Partner, R. Achmad Zulfikar Fauzi S.H, status pernah kawin itu merupakan akibat pembatalan perkawinan berdasarkan putusan pengadilan. Sementara itu, status janda atau duda didasarkan pada hasil putusan gugatan atau permohonan talak berdasarkan putusan pengadilan, atau salah satu pasangan suami /istri meninggal dunia. Ini berdasarkan Pasal 28 Ayat (1) Undang-Undang Nomor 1 Tahun 1974 tentang Perkawinan (UU Perkawinan) yang mengatur soal batalnya perkawinan. Baca juga: Ayah Teuku Ryan Salahkan Anaknya soal Perceraian dengan Ria Ricis Adapun soal perceraian/permohonan talak diatur dalam Pasal 39 UU Perkawinan. Ia juga menyampaikan perbedaan alasan pembatalan perkawinan dan perceraian menurut hukum. Berdasarkan Pasal 26 dan 27 UU Perkawinan, syarat atau alasan pembatalan perkawinan sebagai berikut: 1. Perkawinan dilangsungkan di hadapan pegawai pencatatan yang tidak berwenang 2. Perkawinan dilangsungkan di hadapan wali nikah yang tidak sah 3. Perkawinan dilangsungkan tanpa dihadiri oleh dua orang saksi 4. Perkawinan dilangsungkan di bawah ancaman yang melanggar hukum 5. Terjadi salah sangka kepada diri suami atau istri selama pernikahan berlangsung   Sementara itu, alasan perceraian dimuat dalam Penjelasan Pasal 39 Ayat (2) UU Perkawinan. Berdasarkan pasal tersebut, ada 6 sebab yang dapat dijadikan alasan perceraian, baik untuk menjatuhkan talak maupun cerai gugat. Enam alasan itu sebagai berikut: 1. Salah satu pihak atau pasangan melakukan zina, merupakan pemabuk, pemadat, penjudi, dan perbuatan lainnya yang sukar disembuhkan 2. Salah satu pihak meninggalkan pihak lain selama 2 tahun berturut-turut tanpa izin pihak lain dan tanpa alasan yang sah atau karena hal lain diluar kemampuannya 3. Salah satu pihak atau pasangan mendapat hukuman penjara 5 tahun atau hukuman yang lebih berat setelah perkawinan berlangsung Baca juga: Titiek Soeharto-Didiet Hadiri Penetapan Prabowo-Gibran di KPU 4. Salah satu pihak atau pasangan melakukan kekejaman atau penganiayaan berat yang membahayakan pihak yang lain 5. Salah satu pihak atau pasangan mendapat cacat badan atau penyakit dengan akibat tidak dapat menjalankan kewajibannya sebagai suami/istri 6. Antara suami dan istri terus-menerus terjadi perselisihan dan pertengkaran dan tidak ada harapan akan hidup rukun lagi dalam rumah tangga.   ',\n",
       "                                  'Dewan Pakar Tim Kampanye Nasional (TKN) Prabowo-Gibran, Imanuel Cahyadi, menegaskan Prabowo-Gibran mempunyai komitmen dalam mengatasi kasus kekerasan terhadap perempuan dan anak. Perempuan dan anak telah mendapatkan prioritas oleh Prabowo-Gibran, tercermin di visi dan misi kami. Ruang perlindungan sudah berujung ke arah yang tepat di bawah pemerintahan Presiden Jokowi, dan kami akan menyempurnakannya lagi, ungkap Cahyadi dalam keterangannya, Jumat (15/12/2023). Cahyadi memaparkan, bahwa dalam Visi-Misi Asta Cita 1 telah terdapat program kerja yang memperkuat perlindungan terhadap perempuan dan anak, serta memperkuat penegakan hukum sebagai upaya yang preventif. Salah satu cara yang akan menjadi fokus pasangan Prabowo Subianto dan Gibran Rakabuming, lanjut Cahyadi, adalah pembangunan kesejahteraan untuk keluarga. Baca juga: Elektabilitas Prabowo-Gibran Tinggi meski Jarang Kampanye, Pengamat: Kekuatan Mesin Politik dan Relawan Cara ini diyakini bisa menekan munculnya masalah kekerasan terhadap perempuan dan anak di dalam lingkup keluarga. Kami kembali menekankan langkah preventif dengan membangun kesejahteraan ekonomi keluarga, dengan lapangan pekerjaan makin dibuka dengan luas, jelasnya. Tak hanya itu, pasangan Prabowo-Gibran juga memiliki beberapa program dengan tujuan membangun ketahanan nasional dari tingkat individu hingga lingkup keluarga. Kami bangun ketahanan nasional dari tingkat individu dan tingkat keluarga. Langkah konkretnya adalah dengan program-program yang dibawakan, seperti makan siang gratis dan lain-lain, jelas Cahyadi. Selain itu, Prabowo-Gibran juga memberi perhatian terkait isu kesehatan mental, karena pada dasarnya visi dan misi Indonesia maju menekankan pada program-program preventif berbasis perlindungan terhadap perempuan, anak, dan kesejahteraan keluarga. Pada akhirnya, bisa diambil kesimpulan, bahwa Prabowo-Gibran sangat concern (perhatian) dengan isu semacam kekerasan fisik atau kesehatan mental yang dialami oleh perempuan dan anak, tandasnya. Baca juga: Ayah Pembunuh 4 Anak di Jagakarsa Tulis Pesan Kecemburuan terhadap Istrinya di Laptop Cahyadi juga menyoroti data Kementerian Pemberdayaan Perempuan dan Perlindungan Anak (PPPA) bahwa hingga Desember 2023, tercatat ada sebanyak 26.362 kasus kekerasan terhadap perempuan dan anak yang terjadi di Indonesia. Didapati pula bahwa kasus kekerasan perempuan dan anak yang paling tinggi terjadi di lingkungan rumah tangga, yaitu 16.039 kasus. Kasus kekerasan terhadap perempuan dan anak di lingkungan rumah tangga ini disebabkan oleh faktor ekonomi, yang semakin berat pasca pandemi Covid-19. ',\n",
       "                                  'Pengamat politik Dedi Kurnia Syah menilai bahwa rencana pertemuan Ketua Umum PDI-P Megawati Soekarnoputri dan calon presiden pemenang Pilpres 2024, Prabowo Subianto tak lepas dari peran Ketua DPP PDI-P Puan Maharani. Puan, adalah putri dari Megawati. Menurut Dedi, pertemuan itu tidak bisa dielakkan oleh Megawati karena merupakan permintaan putrinya. Megawati jika lakukan pertemuan dengan Prabowo, tidak lantas mengobati sakit hatinya, lebih pada ia tidak bisa menolak permintaan Puan karena putrinya, kata Dedi kepada Kompas.com, Selasa (9/4/2024). Baca juga: Ultimatum Moral Negarawan Megawati Soekarnoputri Dedi berpendapat, meski jadi bertemu Prabowo, tetap tidak bisa menurunkan rasa sakit hati Megawati terhadap Presiden Joko Widodo, yang dianggap telah berkhianat dengan mendukung kemenangan Prabowo beserta putra sulungnya, Gibran Rakabuming Raka dalam Pilpres 2024. Rencana pertemuan Megawati dan Prabowo, menurut Dedi, juga sejak awal diduga sudah dirancang oleh Puan Maharani. Berkaitan itu juga, ia melihat Puan sebagai penghambat jalannya PDI-P menggulirkan hak angket menyelidiki dugaan kecurangan Pilpres di DPR. Sebagai gantinya, Puan akan mendapat dukungan untuk memimpin DPR di periode berikutnya, terbukti dengan keputusan sidang terkait UU MD3 yang masih potensial memberi ruang ke Puan Maharani, ungkapnya. Baca juga: Menerka Peluang PDI-P Masuk Pemerintahan Usai Mega Utus Puan Bertemu Prabowo Lebih jauh, ia juga berpandangan bahwa Puan menjadi satu-satunya tokoh yang paling potensial merusak konsolidasi di internal PDI-P. Pasalnya, pasca Pilpres 2024, PDI-P gencar digadang bakal menjadi oposisi pemerintah ke depan. Namun rencana pertemuan Megawati dan Prabowo yang didahului oleh Puan seakan merusak konsolidasi internal partai banteng moncong putih. Ia (Puan) cenderung mengejar kepentingan personalnya dibanding keutuhan PDI-P secara organisasi, nilai Dedi. Baca juga: Soal Pertemuan dengan Megawati, Gerindra: Prabowo Selalu Datang ke Senior Atas hal itu, Dedi juga melihat kemungkinan PDI-P akan bergabung ke koalisi pemerintahan Prabowo-Gibran jika benar peran Puan Maharani begitu besar. Jika demikian, menurut Dedi, kondisi pemerintahan ke depan yang dipimpin Prabowo, akan serupa dengan pemerintahan Jokowi. Bisa saja PDI-P berada di koalisi Prabowo, dan situasi rezim Prabowo akan serupa dengan Jokowi, di mana parlemen dikuasai pemerintah, pungkasnya. Sebagai informasi, menjelang perayaan Idul Fitri, kabar bakal bertemunya tokoh-tokoh politik semakin menguat. Ada dua tokoh yang digadang kuat bertemu, yaitu Megawati dan Prabowo. Namun dikabarkan pertemuan itu bakal didahului oleh Puan dan Prabowo. Dalam hal ini, Ketua DPP PDI-P Said Abdullah mengungkapkan bahwa Megawati yang menugaskan Puan untuk menjalin komunikasi dengan Prabowo. Jadi, dari satu poin dan dua poin itu, muaranya, Ibu menugaskan Mbak Puan memang untuk membangun komunikasi. Setelah membangun komunikasi, nanti Mbak Puan report, kata Said saat dihubungi, Senin (8/4/2024). Hasil report itulah yang akan menentukan Ibu ketua umum bertemu dengan Pak Prabowo, duduk bersama. Kan begitu, lanjutnya. ',\n",
       "                                  'Presiden Terpilih Prabowo Subianto tampak menghadiri puncak acara Hari Bhayangkara ke-78 di Monumen Nasional (Monas), Jakarta, Senin (1/7/2024) sore. Ia secara khusus disapa oleh Presiden RI Joko Widodo selaku inspektur upacara. Yang saya hormati ketua dan wakil ketua lembaga-lembaga tinggi negara, yang saya hormati Presiden Terpilih Republik Indonesia Bapak Prabowo Subianto, kata Jokowi, Senin. Seperti diketahui, Prabowo kemarin, Minggu (30/6/2024), mengumumkan bahwa dirinya menjalani operasi besar di Rumah Sakit Pusat Pertahanan Negara (RSPPN) Panglima Besar Soedirman, Bintaro, Jakarta Selatan, pekan lalu. Operasi ini berkaitan dengan cedera kaki yang dideritanya akibat kecelakan terjun payung saat bertugas di Timor Timur. Baca juga: Ruas Jalan Menuju Istiqlal Macet Imbas Perayaan HUT Bhayangkara di Monas Selain menyapa Prabowo, Jokowi juga menyapa Wakil Presiden Ke-10 dan Ke-12 RI Jusuf Kalla, hingga Istri Presiden ke-4 RI Abdurrahman Wahid atau Gus Dur, Sinta Nuriyah yang turut hadir di acara ini. Yang saya hormati, Ibu Negara Keempat Republik Indonesia Ibu Hajah Sinta Nuriyah Abdurrahman Wahid, Wakil Presiden ke-10 dan ke-12 Republik Indonesia, Bapak Haji Muhammad Jusuf Kalla, kata Jokowi selaku Inspektur Upacara.   Selain itu, hadir juga sejumlah para duta besar negara sahabat, para menteri Kabinet Indonesia Maju (KIM), Panglima TNI Jenderal Agus Subiyanto. Jokowi turut menyapa Kapolri Jenderal Listyo Sigit Prabowo serta sejumlah jajaran Korps Bhayangkara dan para purnawirawan. Saat membuka sambutannya, kepala negara memberi selamat atas hari jadi Polri yang ke 78. Baca juga: 1.274 Personel Polda Metro Jaya Naik Pangkat Saat HUT Bhayangkara ke-78 Saya ingin menyampaikan ucapan selamat Hari Bhayangkara yang ke-78 kepada seluruh keluarga besar Polri di mana pun saudara bertugas, ujar Jokowi. Selepas Jokowi memberikan sambutannya, acara kegiatan dilanjutkan dengan penampilan parade defile yang melantunkan lagu Koyo Jogja Istimewa. Kemudian serta atraksi terjun payung dengan ketinggian 6.000 kaki oleh sejumlah anggota Polri. Setelahnya, parade defile sekaligus memperlihatkan sejumlah kendaraan taktis. ',\n",
       "                                  'Presiden terpilih 2024-2029 sekaligus Menteri Pertahanan (Menhan) Prabowo Subianto mengungkapkan, dirinya menjalani operasi besar di Rumah Sakit Pusat Pertahanan Negara (RSPPN) Panglima Besar Soedirman, Jakarta Selatan, pada minggu lalu. Operasi itu dilakukan karena ia pernah dua kali kecelakaan ketika melaksanakan aksi terjun payung saat masih aktif sebagai prajurit TNI dulu. Kecelakaan itu, kata dia, membuat kaki kirinya cedera, sehingga membuat rasa sakitnya terus dirasakan hingga pada saat ini. Seperti sudah diketahui banyak pihak, saya pernah mengalami dua kali kecelakaan terjun payung saat bertugas di TNI pada tahun 80-an di kaki kiri saya, cedera ini selama ini masih saya rasakan, ujar Prabowo dalam keterangannya, Minggu (30/6/2024). Baca juga: Prabowo Jalani Operasi Besar di RSPPN Soedirman Pekan Lalu Usai menjalani operasi, Prabowo menyatakan dirinya siap beraktivitas kembali usai melakukan operasi terhadap cedera kaki kirinya itu. Insya Allah dengan kondisi sehat walafiat ke depan, saya semakin siap untuk berbakti dan mengabdi untuk negara dan rakyat Indonesia. Terima kasih kepada seluruh masyarakat atas doa dan dukungannya, tuturnya. Prabowo menyebut dirinya paham dan sadar bahwa operasi cedera kaki ini berisiko karena mengancam nyawanya. Namun, demi bangsa dan negara, Prabowo meyakini tim dokter pasti berhasil melakukan operasi. Baca juga: Jokowi Jenguk Prabowo Usai Jalani Operasi Cedera Kaki di RSPPN PB Soedirman Saya sadar dan paham bahwa tindakan medis yang saya jalani penuh dengan risiko dan pertaruhan nyawa, saya yakinkan diri bahwa semua ini untuk negara dan bangsa, saya juga yakin tim dokter dan seluruh tenaga medis yang menanganinya pun handal dan profesional, imbuh Prabowo. ',\n",
       "                                  'Juru Bicara Presiden Terpilih 2024-2029 Prabowo Subianto, Dahnil Anzar Simanjuntak memastikan, isu Prabowo akan menikahi mertua Kaesang Pangarep, Sofiatun Gudono adalah hoaks. Hoaks, ujar Dahnil saat dimintai konfirmasi, Rabu (1/5/2024). Dalam video yang beredar di media sosial, tampak narasi bahwa Prabowo akan menikah dengan Sofiatun Gudono. Baca juga: Ditolak Partai Gelora Gabung Koalisi Prabowo, PKS: Jangan Terprovokasi Prabowo dinarasikan bakal menikah dengan Sofiatun Gudono pada 20 Mei 2024. Adapun Prabowo telah terpilih menjadi presiden untuk periode 2024-2029. Prabowo saat ini tidak memiliki istri lantaran telah bercerai dengan anak Presiden ke-2 Soeharto, Titiek Soeharto. Meski demikian, belakangan, hubungan Prabowo dan Titiek tampak hangat. Titiek bahkan tersipu malu saat ditanya apakah dirinya bakal mendampingi Prabowo menjadi ibu negara. ',\n",
       "                                  'Survei Indikator Politik Indonesia menunjukkan, pemilih pasangan calon presiden dan calon wakil presiden nomor urut 2, Prabowo Subianto-Gibran Rakabuming Raka didominasi oleh generasi Z. Berdasarkan rilis exit poll Pilpres 2024 Indikator Politik Indonesia yang diterbitkan hari ini, 71 persen responden yang merupakan generasi Z atau anak muda berusia kurang dari 27 tahun memilih Prabowo-Gibran. Jumlah ini lebih banyak dibanding generasi Z yang memilih paslon nomor urut 1, Anies Baswedan-Muhaimin Iskandar sebanyak 19,7 persen responden dan paslon nomor urut 3, Ganjar Pranowo-Mahfud MD sebanyak 9,3 persen. Baca juga: Kata Kubu Anies dan Prabowo soal Ganjar Dorong Hak Angket Kecurangan Pemilu 2024 Berdasarkan usia atau generasi tampak cukup besar perbedaannya. Gen Z mayoritas di 71 persen dari pemilih usia Gen Z itu memilih Prabowo-Gibran, sementara hanya 19,7 saja yang memilih AMIN dan paling sedikit Gen Z yang memilih Ganjar-Mahfud 9,3 persen, kata Peneliti Utama Indikator, Rizka Halida dalam konferensi pers secara daring, Rabu (21/2/2024). Sementara itu, generasi milenial dengan rentang usia 28-43 tahun yang memilih Prabowo-Gibran jauh lebih kecil dibanding Gen Z. Totalnya, sebanyak 60,5 persen memilih Prabowo-Gibran, 26 persen memilih Anies-Muhaimin, dan 13,5 persen memilih Ganjar-Mahfud. Dua generasi ini, kata Rizka, menjadi penopang elektabilitas Prabowo-Gibran mampu menyentuh kisaran 56-58 persen versi hasil hitung cepat (quick count). Jadi dari dua segmen pemilih yang secara demografis besar mayoritas yang solid mendukung pasangan calon (nomor urut) 2 sehingga ini yang menyumbang elektabilitas paslon dua, ucap dia. Baca juga: Prabowo-Gibran Unggul dalam Pemungutan Suara Ulang di 2 TPS di Buleleng Bali Peneliti Utama Indikator lainnya, Hendro Prasetyo menyampaikan, jumlah pemilih Prabowo-Gibran menyusut seiring bertambahnya usia responden. Hal ini berbeda dengan pasangan Ganjar-Mahfud yang justru menguat di responden usia tua. Jumlah responden kategori Gen X di rentang usia 44-59 tahun yang memilih Prabowo-Gibran mencapai 50,6 persen. Jumlah ini jauh lebih kecil dibanding responden Gen Z dan milenial yang memilihnya. Jumlahnya kian menyusut pada kategori lebih tua (older) usia di atas 60 tahun dengan jumlah 47,1 persen. Sementara itu, responden kategori Gen X di rentang usia 44-59 tahun yang memilih Ganjar-Mahfud mencapai 20,9 persen. Jumlah ini jauh lebih besar dibanding responden Gen Z dan milenial yang memilihnya. Jumlahnya pun kian membesar pada kategori usia 60 tahun ke atas dengan total 28,4 persen. Menarik karena kita lihat pemilih Pak Prabowo dan Mas Gibran ini, terus turun (seiring dengan tingginya usia pemilih). Artinya pemilih mudanya lebih banyak. Sementara Mas Ganjar dan Pak Mahfud itu semakin tua pemilihnya kebanyakan, tutur Hendro. Baca juga: Real Count Sementara KPU: Prabowo-Gibran Unggul di 36 Provinsi, Sapu Bersih Pulau Jawa Adapun pemilih Anies-Muhaimin didominasi oleh Gen X dengan usia 44-59 tahun sebanyak 28,5 persen Survei ini dilakukan dengan metode stratified two-stage random sampling. Sampel diambil dari 3.000 Tempat Pemungutan Suara (TPS) yang tersebar secara proporsional di setiap daerah pemilihan. Responden terpilih dari tiap TPS itu diwawancara secara tatap muka. Ada 2.975 responden yang diwawancara dengan toleransi kesalahan atau margin of error 1,8 persen pada tingkat kepercayaan 95 persen. ',\n",
       "                                  'Wakil Ketua Tim Kampanye Nasional (TKN) Prabowo Subianto-Gibran Rakabuming Raka, Immanuel Ebenezer (Noel) mengatakan pertemuan antara capres pemenang Pemilu 2024 Prabowo dan Ketua Umum PDI-P Megawati Soekarnoputri sudah terjadwal. Noel menyebut jadwal pertemuan itu sudah ada di atas meja Prabowo. Soal pertemuan Bu Mega sepertinya ada. Soal ini (waktu pastinya) aku belum dapat info kapannya. Tapi pertemuan itu sudah terjadwal dan sudah di atas mejanya Prabowo, ujar Noel saat dimintai konfirmasi Kompas.com, Senin (8/4/2024). Baca juga: Hasto Sebut Puan Akan Jadi Ketua DPR Selanjutnya Sesuai Arahan Megawati Noel menjelaskan, hingga detik ini, belum ada hambatan apa pun yang bisa menghalangi pertemuan Prabowo-Megawati. Dia menyebut perbedaan sikap politik di Pilpres 2024 juga tidak menghalangi pertemuan kedua tokoh tersebut. Malahan, kata Noel, yang tidak menginginkan pertemuan Prabowo-Megawati hanyalah Sekjen PDI-P Hasto Kristiyanto. Yang galau itu hanya Hasto dan kawan-kawannya. Dan Hasto akan berusaha agar pertemuan Bu Mega dan Prabowo jangan sampai terealisasi, tuturnya. Hasto punya kepentingan agar kedua tokoh ini jangan sampai ketemu, sambung Noel. Baca juga: Megawati-Prabowo Bakal Bertemu, PDI-P Berpotensi Merapat ke Koalisi Gerindra Sementara itu, Noel meyakini Prabowo pasti mengajak PDI-P bergabung ke pemerintahan Prabowo-Gibran saat bertemu Megawati. Dia mengingatkan bahwa PDI-P adalah partai besar. Bisa saja itu terjadi. Karena biar bagaimanapun, PDI-P partai besar. Dan akan diajak (gabung pemerintah) untuk kerja-kerja besar buat bangsa ini, imbuhnya.  ',\n",
       "                                  'Presiden RI terpilih Prabowo Subianto mengaku, dirinya mencalonkan diri sebagai presiden pada Pemilu 2024 karena didukung oleh Presiden Joko Widodo. Waktu saya ditanya saya mau maju atau tidak 2024, ini saya terang-terangan mengatakan, saya maju apabila saya direstui dan didukung oleh Pak Joko Widodo, kata Prabowo dalam acara Halalbihalal Pengurus Besar Nahdlatul Ulama (PBNU) di Jakarta, Minggu (28/4/2024). Prabowo mengungkap, dirinya telah dipersiapkan oleh Jokowi. Menteri Pertahanan itu tak malu-malu mengakui bahwa ia belajar dari Kepala Negara. Menurut Prabowo, Jokowi sosok yang sangat teliti. Ia pun tak merasa heran dikalahkan oleh mantan Gubernur DKI Jakarta tersebut pada dua kali pemilu presiden (pilpres), yakni 2014 dan 2019. Baca juga: Gelora Tolak PKS Gabung Prabowo-Gibran, Sebut Beda Ideologis dan Sikap Politik Beliau sangat teliti. Mungkin karena itu saya kalah dua kali sama beliau, ujar Prabowo diikuti tawa para hadirin. Tapi saya juga tidak kalah akal. Kalau dua kali kalah, lebih baik kita belajar dari yang menang. Saya merasa saya disiapkan benar-benar, lanjutnya. Usai gelaran Pilpres 2024, Prabowo pun mengaku semakin akrab dengan Jokowi. Ketua Umum Partai Gerindra itu bilang, Presiden kini memanggilnya dengan sebutan Mas Bowo, bukan lagi Menteri Pertahanan. Kemarin-kemarin saya masih dipanggil Menhan (Menteri Pertahanan), kan sekarang sudah lebih akrab, Mas Bowo, kata Prabowo, lagi-lagi mengundang tawa para hadirin. Prabowo juga mengungkap, Jokowi kian sering memerintahkannya untuk melawat ke luar negeri, mulai dari ke Tiongkok, Jepang, hingga negara timur tengah. Mas Bowo nanti harus berangkat ke sini, ketemu ini, kata Prabowo meniru ucapan Jokowi. Siap, Pak, siap. Benar, saya ke Tiongkok atas petunjuk beliau, ke Jepang. Sekarang saya diperintahkan untuk ke timur tengah, sangat penting, ujarnya. Sebagai presiden terpilih, Prabowo pun berjanji untuk melanjutkan pemerintahan Jokowi. Menteri Pertahanan tersebut menyadari bahwa pemerintahan Jokowi belum sepenuhnya berjalan baik. Untuk itu, diperlukan perbaikan dan inovasi yang cepat dalam berbagai hal. Prabowo berjanji bakal memberi solusi terhadap tuntutan dan tantangan yang dihadapi oleh bangsa dan rakyat ke depan. Strategi dan program yang sudah dirintis oleh Pak Joko Widodo dan pemerintahan beliau kami anggap adalah landasan fondasi yang sangat kuat dan kami akan membangun di atas fondasi itu, tuturnya. Baca juga: Puja-puji Jokowi, Prabowo: Saya Kalah Dua Kali, Makanya Belajar dari yang Menang Sebagaimana diketahui, Prabowo Subianto-Gibran Rakabuming Raka ditetapkan sebagai presiden dan wakil presiden terpilih RI masa jabatan 2024-2029 oleh KPU RI pada Senin (22/4/2024). Pasangan ini memenangi Pilpres 2024 dengan perolehan 96.214.691 suara atau sekitar 58,58 persen dari seluruh suara sah nasional. Sementara, pasangan capres-cawapres nomor urut 1, Anies Baswedan-Muhaimin Iskandar, mengekor di urutan kedua dengan raihan 40.971.906 suara atau sekitar 24,95 persen. Di urutan buntut, capres-cawapres nomor urut 3, Ganjar Pranowo-Mahfud MD, menghimpun 27.040.878 suara atau sekitar 16,47 persen dari seluruh suara sah nasional. Meski begitu, Prabowo-Gibran belum resmi menjadi presiden dan wakil presiden RI. Menurut jadwal, pelantikan keduanya bakal digelar pada 20 Oktober 2024. ',\n",
       "                                  'Presiden terpilih 2024-2029 Prabowo Subianto tengah mempertimbangkan pembentukan kementerian khusus untuk mengurusi program makan bergizi gratis. Kita sedang pikirkan, apakah itu (program makan bergizi gratis) perlu kementerian khusus atau cukup badan saja. Yang penting adalah skemanya, sistemnya, sampai terwujud, sampai ke anak itu dengan tepat, ujar Prabowo dalam keterangannya, Jumat (24/5/2024). Pertimbangan untuk membentuk kementerian khusus itu muncul demi menghindari potensi kebocoran anggaran program tersebut. Ada fenomena sebagai anak bangsa bahwa sadar semua terjadi banyak kebocoran di bangsa kita. Nah, ini sekarang bagaimana kita membuat skema dengan efisien dengan baik, tidak ada kebocoran sampai ke anak-anak kita, tutur dia.  Baca juga: Persilakan Rakyat Kritik Pemerintahannya, Prabowo: Tapi yang Obyektif Prabowo melanjutkan, terkait pembagian susu gratis bagi anak-anak di seluruh Indonesia, akan dijalankan sesuai tipologi daerah masing-masing. Ia mencontohkan salah satu daerah di Maluku Barat Daya, yakni Pulau Moa yang kerap memproduksi air susu dari kerbau. Sehingga tidak sulit untuk mendapat produksi susu yang dapat dijangkau anak-anak di wilayah Moa. Dan masalah susu ya. Kita akan lihat ternyata tergantung daerahnya sebagai contoh Maluku Barat Daya, Pulau Moa, mereka itu banyak kerbau susu, kerbau di sana ada, cukup susu kerbau. Ada juga daerah-daerah yang banyak kambing etawa, bisa dapat susu kambing dan ini kita harus lihat, kata Prabowo. Sedangkan di daerah lain yang sulit mendapatkan sumber susu, akan difokuskan dengan pemerataan pembagian bahan pangan bergizi lain, misalnya ikan dan telur.  Baca juga: Pidato Megawati di Rakernas Dinilai Jadi Isyarat PDI-P Bakal Jadi Oposisi Prabowo Kalau lihat protein yang ada di susu, ternyata protein dan mineral dan zat-zat yang ada di telur itu lebih baik daripada susu. Para pakar cerita kepada saya dan telur kita jatuhnya bisa lebih murah bahwa di suatu daerah susu itu terlalu mahal ya kita konsentrasi kepada telur, kepada ikan, dan sebagainya, papar dia. Maka dari itu, Prabowo menekankan bahwa pembagian makanan bergizi dan juga susu gratis kepada anak-anak di Indonesia akan bersifat fleksibel dan disesuaikan dengan tipologi daerah masing-masing. Jadi, kita harus menyesuaikan rencana kita dengan tipologi dan kondisi daerah yang berbeda-beda. Kita jangan satu pola disamaratakan di Indonesia, ada daerah pegunungan, ada daerah pesisir, ada pulau. Jadi, kita harus selalu fleksibel, yang penting anak-anak kita dapat makanan bergizi. Saya kira itu tujuan kita, imbuh Prabowo. ',\n",
       "                                  'Calon Presiden nomor urut dua, Prabowo Subianto, meyakini bahwa Indonesia akan menjadi negara maju dan negara yang produktif sehingga tidak menjadi pasar untuk bangsa lain. Tujuannya adalah Indonesia menjadi negara maju yang akan menjadi negara produktif, bukan pasar untuk negara lain, tuturnya di Gedung Dewan Pers, Kamis (4/1/2024). Hal itu dia sampaikan saat hadir sebagai pembicara dalam Dialog Pers dengan Capres yang diselenggarakan oleh Persatuan Wartawan Indonesia (PWI), Kamis. Prabowo mengatakan, Indonesia kaya akan sumber daya alam yang melimpah dan bisa diolah di dalam negeri oleh anak bangsa sendiri. Kita harus bikin mobil sendiri, motor kita sendiri, komputer kita sendiri, air conditioner kita sendiri, semua kita produksi di Indonesia. Sebab, kita punya bahan bakunya di Indonesia, ujarnya dalam siaran pers.  Baca juga: TKN: Tema Debat Ketiga Pak Prabowo Banget, Kami Percaya Diri Dia mengatakan, untuk mewujudkan tersebut, meningkatkan kecerdasan sumber daya manusia (SDM) adalah hal penting.  Salah satu upaya peningkatan kecerdasan SDM Indonesia adalah melalui pemberian gizi yang cukup dan sehat. Indonesia akan mencapai tujuan tujuannya pertumbuhan, pertumbuhan menciptakan lapangan kerja, perbaikan gizi akan menimbulkan perbaikan kesehatan untuk semua, peningkatan kecerdasan otot dan otak dan tulang yang kuat Indonesia bisa bersaing, jelasnya. Lebih lanjut, Prabowo mengatakan, perbedaan merupakan hal yang biasa dalam berdemokrasi.  Menteri Pertahanan (Menhan) itu menyebutkan, berbagai negara di dunia tengah menghadapi konflik, tetapi Indonesia tetap damai dan stabil. Baca juga: Enggan Ikuti Anies dan Mahfud, TKN: Belum Ada Urgensi Prabowo Live TikTok Menurutnya, Indonesia harus terus bersatu agar selalu dalam keadaan damai agar tidak terciptanya perpecahan yang mengakibatkan instabilitas di dalam negeri. Perdamaian tidak jatuh dari langit. Ini yang saya mengimbau, marilah kita sadar, apa pun latar belakang kita, apa pun visi kita, bahwa kita berbeda itu biasa, dalam demokrasi perbedaan itu biasa, ucapnya. Prabowo menilai, kondisi dalam negeri yang tidak stabil akan membawa dampak buruk terhadap seluruh aspek kehidupan, salah satunya adalah percepatan pembangunan dan ekonomi akan terhambat. Dengan stabilitas, dengan perdamaian baru kita bisa membangun. Intinya negara kita sangat kaya, kekayaan kita luar biasa, kata Prabowo. Ketua Umum (Ketum) Partai Gerindra itu mengatakan, selain terjaganya perdamaian, upaya untuk mencapai itu adalah melalui hilirisasi. Dia mengatakan, hilirisasi menjadi salah satu kunci utama dari kemakmuran bagi masyarakat Indonesia ke depan. Baca juga: TKN Prabowo-Gibran: Pertahanan Negara Bukan Cuma Militer, tapi Juga Ketahanan Pangan dan Energi Ini misi saya, ini perjuangan saya. Inti dari strategi pembangunan saya adalah pengelola menjaga kekayaan kita dan meneruskan hilirisasi, melanjutkan semua yang sudah dibangun pendahulu kita, terutama Pak Joko Widodo (Jokowi), ucap Prabowo. ',\n",
       "                                  'Wakil Ketua Umum Partai Gerindra Habiburokhman mengatakan Presiden terpilih 2024-2029 Prabowo Subianto mengalami kecelakaan ketika terjun payung di Timor Timur pada tahun 80-an silam. Habiburokhman mengatakan, akibat dari kecelakaan tersebut baru muncul puluhan tahun kemudian. Walhasil, Prabowo pun menjalani operasi cedera kaki kiri di Rumah Sakit Pusat Pertahanan Nasional Panglima Besar Soedirman, Jakarta Selatan. Bukan sakit. Jadi memang beliau ada cedera, puluhan tahun yang lalu, tahun 80-an ketika terjun payung kemungkinan di Timor Timur, cedera. Cedera seperti itu memang katanya, enggak bisa tuntas begitu saja. Beberapa puluh tahun kemudian katanya bisa timbul akibat, ujar Habiburokhman di Gedung DPR, Senayan, Jakarta, Senin (1/7/2024). Baca juga: 5 Fakta Operasi Besar Prabowo: Cedera Kaki karena Terjun Payung hingga Siap Beraktivitas Habiburokhman menjelaskan, prajurit TNI lain juga mengalami cedera serupa. Dia menegaskan akibat dari kecelakaan itu baru muncul ketika sudah tua. Ini yang terjadi pada Prabowo dan banyak sekali prajurit-prajurit kita yang telah bertugas di Timor Timor, di Papua, di medan yang sulit. Baru muncul lagi akibat karena kecelakaan tersebut berpuluh-puluh tahun di hari tuanya, tuturnya. Sementara itu, Habiburokhman menyebut Prabowo dalam kondisi yang baik saat ini. Sebelumnya, Prabowo memberi kabar kepada publik bahwa dirinya telah sukses menjalani operasi besar, yakni operasi untuk cedera kaki kirinya. Adapun operasi itu dilaksanakan di Rumah Sakit Pusat Pertahanan Negara (RSPPN) Panglima Besar Soedirman, Bintaro, Jakarta Selatan, sekitar satu minggu yang lalu. Baca juga: Jenguk Prabowo Pascaoperasi, Jokowi: Mari Doakan Proses Pemulihan Tim dokter yang menangani operasi Prabowo ialah Brigjen TNI Purn dr Robert Hutauruk, Kolonel dr Sunaryo, dr Siska Widayati, dan dr Thomas. Menurut Prabowo, tim dokter dan tenaga medis dari RSPPN Panglima Besar Soedirman berhasil melaksanakan operasi cedera kaki terhadap dirinya dengan baik. Prabowo menyatakan dirinya siap kembali beraktivitas usai kaki kirinya dioperasi. Saya ucapkan syukur alhamdulillah kepada Allah SWT atas keberhasilan tindakan operasi besar yang dilakukan kepada saya, ujar Prabowo dalam keterangannya, Minggu (30/6/2024) malam. ',\n",
       "                                  \"Sekretaris Jenderal (Sekjen) Partai Gerindra Ahmad Muzani merespons apakah Presiden terpilih 2024-2029 Prabowo Subianto akan mengangkat mantan capres di Pilpres 2024, yakni Anies Baswedan dan Ganjar Pranowo sebagai menteri atau tidak. Muzani menegaskan hal tersebut merupakan hak prerogatif Prabowo sebagai presiden terpilih. Pertanyaannya, apakah Pak Prabowo juga akan mengangkat capres yang berbeda dengan beliau seperti Anies dan Ganjar? Yang punya hak prerogatif adalah beliau, saya belum pernah mendengar, ujar Muzani di Gedung DPR, Senayan, Jakarta, Selasa (25/6/2024). Muzani enggan merespons isu mengenai koalisi pendukung Prabowo menawarkan kursi menteri ke Anies supaya tidak maju di Pilkada Jakarta 2024. Baca juga: Prabowo Disebut Setuju Presiden Dipilih MPR Lagi, Gerindra: Masih Konsentrasi Pelantikan Presiden Yang pasti, kata Muzani, Prabowo selalu mencari persamaan untuk bergotong-royong, meski beda pilihan politik. Pak Prabowo adalah presiden terpilih yang akan dilantik tanggal 20 Oktober yang akan datang. Beliau selalu mencari persamaan cara pandang yang bisa memperkuat persatuan dan persamaan gotong-royongan, meskipun pada pilihan politik yang berbeda, tuturnya. Maka dari itu, Muzani menekankan, Prabowo tidak memiliki halangan untuk mengangkat siapapun menjadi 'pembantu' dalam kabinet ke depan. Dia lantas mengungkit Presiden Joko Widodo (Jokowi) yang malah mengangkat Prabowo sebagai Menteri Pertahanan di tahun 2019. Baca juga: Gerindra: Prabowo Tidak Cerita Anies Ingin Bertemu Beliau Padahal, Prabowo dan Jokowi merupakan rival di Pilpres 2019. Itu sudah dicontohkan oleh Pak Jokowi di tahun 2019. Situasi politik bisa menjadi reda, politik bisa menjadi adem, keguyuban, kebersamaan, kegotong-royongan, kerukunan bisa tercipta. Dan Pak Prabowo ingin menciptakan itu, imbuh Muzani. \",\n",
       "                                  'Mantan istri Prabowo Subianto, Titiek Soeharto, turut hadir dalam penetapan mantan suaminya itu sebagai presiden terpilih hasil Pilpres 2024 di kantor KPU RI, Rabu (24/4/2024). Didampingi Didiet Hediprasetyo, putra semata wayang mereka berdua hasil pernikahannya dengan Prabowo, Titiek tersipu saat ditanya apakah siap menjadi Ibu Negara. Saat ditanya seperti itu, Titiek tampak tersenyum dan langsung memalingkan wajahnya untuk masuk ke dalam mobil. Hubungan Titiek dan Prabowo belakangan kian disorot lantaran keduanya sering tampil akrab dan hangat bersama Didiet. Titiek beberapa kali memamerkan momen itu. Baca juga: Momen Prabowo Buka Puasa Hari Pertama Bareng Titiek Soeharto dan Didit Pada 14 April lalu, misalnya, dia mengunggah ke Instagram foto khusus saat disuguhi kue ulang tahun oleh Prabowo yang hadir pada acara syukurannya. Ia juga mengunggah foto kehangatannya dengan Prabowo pada 20 Maret, ketika KPU mengumumkan Prabowo sebagai capres dengan perolehan suara terbanyak pada Pilpres 2024. Selebihnya, masih banyak foto bertebaran yang diunggah Titiek yang menampilkan kehangatan antara dirinya, Prabowo, dengan Didiet. Status keduanya Status pernikahan Prabowo dan Titiek termuat di dalam dokumen pencalonan masing-masing yang didaftarkan ke KPU RI. Selain Prabowo yang maju capres, Titiek juga maju sebagai calon anggota legislatif (caleg) DPR RI pada daerah pemilihan DI Yogyakarta. Perempuan bernama asli Siti Hediati itu dipastikan meraih kursi DPR RI berdasarkan hasil rekapitulasi penghitungan suara, Sabtu (9/3/2024). Titiek yang juga kader partai besutan Prabowo, Gerindra, itu meraup 145.489 suara sekaligus menjadikannya caleg Partai Gerindra dengan coblosan terbanyak. Sementara itu, Gerindra sendiri mengantongi 272.165 suara seantero Yogyakarta, sehingga hanya berhak atas satu kursi di Senayan yang menjadi jatah Titiek. Baca juga: Penetapan Presiden di KPU: Prabowo Mesra dengan Anies, Titiek Malu-malu Jadi Ibu Negara Di dalam dokumen pendaftaran Prabowo sebagai capres 2024-2029, status pernikahan Menteri Pertahanan itu tertulis pernah. Sementara itu, Titiek hanya menulis huruf P dalam kolom yang sama dokumen pendaftarannya sebagai caleg DPR RI, yang berarti pernah. Kisah cinta Dikutip pemberitaan Kompas.com pada 22 Desember 2023, hubungan Prabowo Subianto dan Titiek Soeharto berawal dari sebuah perkenalan. Titiek Soeharto merupakan murid dari Sumitro Djojohadikusumo, ayah Prabowo Subianto. Dari pertemuan inilah akhirnya Prabowo dan Titiek Soeharto menjalani sebuah hubungan romantis. Mengetahui sang putra berpacaran dengan Titiek Soeharto, Sumitro berpesan kepada anaknya untuk serius dalam menjalani hubungannya. Pada akhirnya, Prabowo Subianto dan Titiek Soeharto menikah pada Mei 1983. Baca juga: Prabowo Nyanyi Pertemuan di Depan Titiek Soeharto: Sudah Presiden Terpilih, Harus Tepuk Tangan walau Suara Jelek Dari pernikahan ini, mereka dianugerahi seorang putra semata wayang bernama Ragowo Hediprasetyo atau yang akrab disapa Didiet Prabowo. Sayangnya, pernikahan Prabowo dan Titiek hanya bertahan 15 tahun. Mereka memutuskan bercerai pada Mei 1998. Usut punya usut, perceraian keduanya disebabkan oleh memburuknya hubungan keluarga yang dibumbui oleh isu politik. Sebab, berdasarkan dari isu yang beredar, Prabowo Subianto dituding mengkhianati Soeharto, sang mertua. Seperti yang tercatat dalam sejarah, pada Mei 1998, kerusuhan besar-besaran terjadi. Bahkan, Prabowo Subianto juga dituding membiarkan para mahasiswa menduduki Gedung MPR/DPR dalam rangkaian Kerusuhan Mei 1998 yang terjadi. Disebutkan bahwa pada saat itu Titiek Soeharto hanya menangis melihat sang suami dituduh mengkhianati Soeharto. Namun, terlepas dari berbagai kabar burung yang beredar, tidak dapat dipastikan secara pasti apa penyebab perceraian antara Prabowo Subianto dan Titiek Soeharto. Tudingan yang dilemparkan kepada Prabowo pada 1998 juga belum terbukti benar atau salahnya. ',\n",
       "                                  'Calon presiden (capres) nomor urut 2, Prabowo Subianto, menyampaikan sejumlah gagasan mengenai upaya pemberantasan korupsi. Ia menyinggung soal perbaikan kualitas hidup penyelenggara negara, pemberian sanksi terhadap pejabat yang tak patuh Laporan Harta Kekayaan Penyelenggara Negara (LHKPN), hingga komitmen para pemimpin. Ini disampaikan Prabowo dalam acara Penguatan Antikorupsi untuk Penyelenggara Negara Berintegritas (Paku Integritas) yang digelar Komisi Pemberantasan Korupsi (KPK), Rabu (17/1/2024). Menurut Prabowo, pemberantasan korupsi tidak cukup dengan pendekatan pendidikan, pencegahan dan penindakan. Pemberantasan korupsi harus dilakukan secara sistemik dan realistis. Pendekatan sistemik dan realistis itu, kata dia, bisa diwujudkan dengan perbaikan kualitas hidup penyelenggara negara yang mengendalikan roda pemerintahan, terutama yang memegang anggaran besar. Kualitas hidupnya ini harus dijamin dan diperbaiki, kata Prabowo di Gedung KPK, Jakarta. Baca juga: TKN: Prabowo Akan Perhatikan Isu Pajak Hiburan Khusus yang Naik 40-75 Persen Prabowo mencontohkan hakim di sejumlah negara maju seperti Amerika dan Inggris. Di negara-negara tersebut, kata dia, hakim dijamin kesejahteraannya selama hidup, bahkan hingga meninggal dunia. Di negara maju pula, Ketua Mahkamah Agung menjadi pejabat negara yang gajinya paling tinggi dan rumah dinasnya lebih besar dari menteri. Hakim-hakim itu dijamin penghasilannya begitu besar sehingga bisa dikatakan dia tidak ada insentif untuk korupsi sama sekali. Ini saya anggap pendekatan sistemik dan pendekatan realistis, ujar Prabowo. Prabowo mengaku heran, di Indonesia, gaji direksi perusahaan swasta dan BUMN jauh lebih besar ketimbang Panglima TNI, menteri, dan direktur jenderal (dirjen) pemerintahan yang memegang anggaran negara triliunan rupiah. Padahal, menurutnya, jika gaji penyelenggara negara ditingkatkan dan kualitas hidupnya diperbaiki, angka korupsi dapat ditekan. Jadi kita perbaiki kualitas hidup, kita tingkatkan gaji-gaji semua pejabat, semua penyelenggara negara. Kita mampu, saya sudah hitung dengan tim pakar saya, Indonesia negara kaya, bukan negara miskin, kata Prabowo. Prabowo juga ingin menaikkan pangkat pejabat kementerian, khususnya yang bertanggung jawab mengendalikan anggaran dan kontrak-kontrak besar. Menteri Pertahanan tersebut mencontohkan, di kementerian yang ia pimpin, ada pejabat yang sehari-harinya menangani kontrak dan dana triliunan rupiah, pangkatnya sama dengan pejabat yang tanggung jawab kerjanya tak sebesar itu. Prabowo mengaku telah mengajukan kenaikan pangkat untuk pejabat yang menangani anggaran besar tersebut sejak 3 tahun lalu. Namun, hingga saat ini belum terealisasi. ',\n",
       "                                  'Lembaga Survei Indonesia (LSI) merilis hasil survei teranyar soal korelasi antara penerima bantuan sosial (bansos) pemerintah dengan dukungan terhadap kandidat di pemilihan presiden (Pilpres) 2024. Survei pascapemilu (post-election survey) ini dilakukan LSI pada 19-21 Februari 2024. Hasilnya, sebanyak 24,8 persen responden mengaku menerima bansos dari pemerintah. Dari jumlah itu, 69,3 persen mengaku mencoblos calon presiden dan calon wakil presiden (capres-cawapres) nomor urut 2, Prabowo Subianto-Gibran Rakabuming. Di kalangan penerima bansos, dukungannya paling banyak kecenderungannya ada pada pasangan 02, kata Direktur Eksekutif LSI, Djayadi Hanan, dalam rilis temuan LSI pada Minggu (24/2/2024), secara daring. Baca juga: Jokowi Ungkap Alasan Pemerintah Bagi-bagi Bansos Beras Sementara itu, ada 54 persen responden yang mengaku tidak menerima bansos yang mendukung Prabowo-Gibran. Tingkat dukungan masyarakat yang mengaku tidak menerima bansos terhadap 02 itu lebih rendah dibanding dengan (dukungan) masyarakat yang menerima bansos kepada 02, ujar Djayadi. Lebih lanjut, dia mengatakan, hal sebaliknya terjadi pada pasangan capres-cawapres lain. Capres-cawapres nomor urut 1 dan 3, Anies Baswedan-Muhaimin Iskandar dan Ganjar Pranowo-Mahfud MD, lebih banyak menerima dukungan dari non-penerima bansos. Proporsi penerima bansos yang mendukung Anies-Muhaimin lebih sedikit, yakni 17,6 persen, dibandingkan dengan pemilih mereka yang tidak menerima bansos sebesar 28,2 persen. Baca juga: LSI: Kepuasan Publik Terkait Pemilu 2024 Turun 10,9 Persen sejak Pemungutan Suara Digelar Hal yang sama juga terjadi pada pasangan calon (paslon) nomor urut 3, Ganjar-Mahfud. Proporsi penerima bansos yang mencoblos Ganjar-Mahfud di bawah para pendukung yang tidak menerima bansos, yakni 13,1 berbanding 17,8 persen. LSI menyebutkan, target populasi survei ini adalah warga negara Indonesia yang berusia 17 tahun ke atas atau sudah menikah dan memiliki telepon/ponsel. Jumlahnya sekitar 83 persen dari total populasi nasional. Pemilihan sampel dilakukan melalui metode random digit dialing (RDD) atau teknik memilih sampel melalui proses pembangkitan nomor telepon secara acak. Dengan teknik RDD, sampel sebanyak 1.211 responden dipilih melalui proses pembangkitan nomor telepon secara acak, validasi, dan screening. Margin of error survei diperkirakan lebih kurang 2,9 persen pada tingkat kepercayaan 95 persen. LSI mengeklaim wawancara dengan responden dilakukan lewat telepon oleh pewawancara yang dilatih. Baca juga: Survei LSI: Tingkat Keyakinan Masyarakat Pemilu 2024 Jurdil Turun Drastis Sepekan sejak Pencoblosan ',\n",
       "                                  \"Kekayaan presiden terpilih, Prabowo Subianto mencapai Rp 2.042.682.732.691 atau Rp 2 triliun. Kekayaan itu tercantum dalam Laporan Harta Kekayaan Penyelenggara Negara (LHKPN) yang disampaikan ke Komisi Pemberantasan Korupsi (KPK) untuk keperluan pencalonan presiden tahun 2024. Kekayaan Prabowo didominasi surat berharga dengan nilai mencapai Rp 1.701.879.000.000 atau Rp 1,7 triliun. Baca juga: Titiek Soeharto Tersipu Saat Ditanya Kemungkinan Dampingi Prabowo Pada umumnya, kolom surat berharga dalam LHKPN berisi kepemilikan saham di sejumlah perusahaan. Komponen kekayaan Prabowo paling banyak lainnya adalah 10 aset lahan dan bangunan dengan nilai Rp 275.320.450.000 atau Rp 275 miliar. Di antara aset properti itu, terdapat lahan dan bangunan seluas 8.365 meter persegi/2.175 meter persegu di Jakarta Selatan dengan nilai Rp 158.491.875.000. Selain properti, Prabowo melaporkan kepemilikan 8 alat transportasi dan mesin senilai Rp 1.258.500.000. Baca juga: Jadi Presiden Terpilih, Prabowo Terima Kasih ke Anies-Muhaimin dan Ganjar-Mahfud Banyak mobil Prabowo merupakan Jeep, mulai dari tahun 1992, 1994, hingga 2002. Kemudian, Prabowo melaporkan kepemilikan harta bergerak lain senilai Rp 16.415.023.500 serta kas dan setara kas senilai Rp 47.809.759.191. Karena tidak memiliki utang, Prabowo memiliki kekayaaan Rp 2.042.682.732.691. Sebelumnya, Komisi Pemilihan Umum (KPU) resmi menetapkan Prabowo Subianto dan Girban Rakabuming Raka sebagai presiden dan wakil presiden terpilih untuk periode 2024-2029. Penetapan dilakukan setelah Mahkamah Konstitusi menolak gugatan hasil Pilpres 2024 yang diajukan dua kandidat lain, Anies Baswedan-Muhaimin Iskandar dan Ganjar Pranowo-Mahfud MD. KPU menetapkan calon presiden dan wakil presiden nomor urut dua, Prabowo Subianto dan Gibran Rakabuming Raka sebagai pasangan calon presiden dan wakil presiden terpilih periode tahun 2024-2029 dalam Pemilihan Umum 2024 dengan perolehan suara sebanyak 96.214.691 suara atau 58,59 persen dari total suara sah nasional dan memenuhi sedikitnya 20 persen suara di setiap provinsi yang tersebar di 38 provinsi, kata Ketua KPU RI Hasyim Asy'ari di kantor KPU RI, Menteng, Jakarta Pusat. \",\n",
       "                                  'Sekretaris Tim Kampanye Nasional (TKN) Prabowo Subianto-Gibran Rakabuming Raka, Nusron Wahid membantah Prabowo-Gibran sering absen di acara dialog terbuka karena ketakutan. Nusron menegaskan tidak ada yang menakutkan dari acara dialog terbuka. Takut apa? Enggak ada sesuatu yang menakutkan. Takut ngapain, ujar Nusron saat ditemui di Cibubur, Jakarta Timur, Senin (27/11/2023) malam. Nusron memberi penjelasan alasan Prabowo-Gibran tidak menghadiri semua undangan debat. Menurutnya, jika semua ide dikeluarkan sejak sekarang, maka tidak ada kejutan lagi saat debat resmi di KPU. Baca juga: TKN: Prabowo-Gibran Tidak Kampanye Besok, Tetap Kerja Begini ya, kalau yang mengadakan KPU pasti kita akan hadiri semua. Kalau semua ide-ide kita keluarkan hari ini, nanti kita enggak ada surprise-nya nanti di KPU, tuturnya. Nusron mengatakan, masih ada ide-ide yang sengaja mereka tampung dan tahan terlebih dahulu untuk dikeluarkan di debat resmi KPU. Politikus Partai Golkar ini pun mempertanyakan banyak lembaga swasta yang melakukan peran seperti KPU. Yang berhak dihadiri untuk mengadakan debat kan KPU, tukas Nusron. Sementara itu, Nusron mengatakan Prabowo-Gibran pasti hadir jika waktunya sesuai. Baca juga: Catatan Kehadiran 3 Capres-Cawapres di Acara Diskusi Terbuka Jika ada janji lain, maka bisa saja undangan acara dialog terbuka tidak dihadiri. Kalau bukan KPU ya kalau kita pas cocok, waktunya tepat, ya kita hadiri. Kalau enggak cocok dan enggak pas ya karena sudah kadung ada janji dengan yang lain, ya kita dahulukan dengan janji yang lain. Tapi kalau KPU didebat pasti akan kita hadiri, imbuhnya. Berdasarkan penelusuran Kompas.com, acara diskusi terbuka itu tak selalu dihadiri ketiga pasangan calon. Ketimbang Anies-Muhaimin dan Ganjar-Mahfud, Prabowo-Gibran paling sering absen dalam forum diskusi terbuka. Sedikitnya, sejak akhir Agustus hingga akhir November 2023, ada 15 acara diskusi terbuka yang diselenggarakan berbagai pihak untuk memfasilitasi para capres-cawapres adu gagasan. Dari jumlah tersebut, Prabowo tercatat sembilan kali tak memenuhi undangan. Sementara, Anies dan Ganjar masing-masing satu kali mangkir. Namun, absennya tim Prabowo-Gibran bukan tanpa alasan. Komandan Tim Fanta (Pemilih Muda) Prabowo-Gibran, Arief Rasyid, mengatakan, Prabowo-Gibran memiliki agenda yang padat. Sebagai capres dan cawapres, Prabowo-Gibran harus berkeliling ke berbagai daerah. Sehingga, keduanya tak selalu punya waktu untuk menghadiri undangan diskusi terbuka. ',\n",
       "                                  'Presiden Joko Widodo menjenguk presiden terpilih sekaligus Menteri Pertahanan, Prabowo Subianto, usai menjalani operasi besar di Rumah Sakit Pusat Pertahanan Negara (RSPPN) Panglima Besar Soedirman, Bintaro, Jakarta. Prabowo pun bersyukur Jokowi dapat menjenguknya. Terima kasih kepada Presiden RI @jokowi yang sudah memberikan dukungan moril dan doa, ujar Prabowo dalam keterangannya, Minggu (30/6/2024). Adapun Prabowo menjalani operasi besar atas cedera kaki yang dialaminya semasa masih bertugas sebagai prajurit TNI.  Ada sejumlah dokter yang menangani proses operasi tersebut, di antaranya Brigjen TNI Purn dr Robert Hutauruk, Kolonel dr Sunaryo, dr Siska Widayati, dr Thomas. Saya sadar dan paham bahwa tindakan medis yang saya jalani penuh dengan resiko dan pertaruhan nyawa, saya yakinkan diri bahwa semua ini untuk negara dan bangsa, saya juga yakin tim dokter dan seluruh tenaga medis yang menanganinya pun handal dan profesional, tuturnya. Sementara itu, Prabowo menegaskan dirinya sudah dalam kondisi sehat walafiat untuk kembali beraktivitas. Baca juga: Prabowo Jalani Operasi Besar di RSPPN Soedirman Pekan Lalu Dia menyampaikan rasa terima kasihnya kepada masyarakat yang telah mendoakannya. Insya Allah dengan kondisi sehat walafiat ke depan saya semakin siap untuk berbakti dan mengabdi untuk negara dan rakyat Indonesia. Terima kasih kepada seluruh masyarakat atas doa dan dukungannya, imbuh Prabowo. ',\n",
       "                                  'Presiden terpilih 2024-2029 sekaligus Menteri Pertahanan (Menhan) mengabarkan bahwa dirinya telah selesai menjalani operasi besar, pekan lalu. Operasi tersebut dilakukan untuk mengobati kaki kirinya yang sempat mengalami cedera. Saat ini, dirinya menyatakan sudah siap kembali beraktivitas seperti biasa. Berikut sejumlah fakta terkait operasi yang dijalani Prabowo: 1. Operasi di RSPPN PB Soedirman Mantan Danjen Kopassus ini melakukan operasi besar di Rumah Sakit Pusat Pertahanan Negara (RSPPN) Panglima Besar Soedirman, yang berada di kawasan Bintaro, Jakarta Selatan, satu minggu lalu. RSPPN PB Soedirman merupakan RS baru yang diresmikan Presiden Joko Widodo bersama Prabowo pada 19 Februari 2024 lalu. Selain RS ini, ada 25 RS lain milik TNI yang diresmikan bersamaan saat itu. Adapun proses operasi Prabowo ditangani langsung oleh Brigjen TNI (Purn) dr Robert Hutauruk, bersama tim yang terdiri atas Kolonel dr Sunaryo, dr Siska Widyati, dan dr Thomas. Baca juga: Jenguk Prabowo Pascaoperasi, Jokowi: Mari Doakan Proses Pemulihan 2. Operasi berjalan baik Prabowo mengatakan bahwa operasi yang dijalaninya dapat berhasil dengan baik.  Sebelumnya, ia menyadari bahwa tindakan medis yang akan dijalaninya memiliki risiko bahkan dapat mempertaruhkan nyawanya. Saya yakinkan diri bahwa semua ini untuk Negara dan Bangsa, saya juga yakin tim dokter dan seluruh tenaga medis yang menanganinya pun handal dan profesional, tulis Prabowo dalam unggahan di akun Instagramnya. Operasi kemudian dilaksanakan. Prabowo pun memuji tim dokter yang telah bekerja maksimal untuk mengobati kaki kirinya. Sehingga, ia dapat kembali beraktivitas seperti sedia kala. Saya ucapkan syukur alhamdulillah kepada Allah SWT atas keberhasilan tindakan operasi besar yang dilakukan kepada saya, ujar Prabowo dalam keterangannya, Minggu (30/6/2024) malam.  3. Cedera terjung payung Prabowo mengungkapkan, dirinya harus menjalani operasi karena sebelumnya pernah dua kali kecelakaan karena melakukan aksi terjun payung saat masih aktif sebagai prajurit TNI. Peristiwa itu terjadi sekitar tahun 80-an. Akibat kecelakaan itu, kaki kirinya cedera. Bahkan, rasa sakit akibat cedera itu harus dirasakannya hingga saat ini. Seperti sudah diketahui banyak pihak, saya pernah mengalami dua kali kecelakaan terjun payung saat bertugas di TNI pada tahun 80-an di kaki kiri saya, cedera ini selama ini masih saya rasakan, katanya. 4. Dijenguk Jokowi Dalam unggahan yang dibagikan di akun Instagramnya, Prabowo turut mengunggah momen saat dirinya dijenguk Presiden Joko Widodo. Ada tiga foto yang diunggah Prabowo. Foto pertama menunjukkan dirinya tengah berbincang berdua dengan Jokowi di sofa. Demikian halnya foto kedua. Bedanya, kali ini Prabowo didampingi oleh putranya, Ragowo Hediprasetyo Djojohadikusumo atau Didit Hediprasetyo. Sedangkan foto ketiga menunjukkan momen saat kedatangan Jokowi ke ruangan tempat Prabowo dirawat. Terlihat ajudan prabowo, Mayor Teddy Indra Wijaya berdiri di depan pintu. Dalam unggahan tersebut, Prabowo pun mengucapkan terima kasih kepada Jokowi. Terima kasih kepada Presiden RI @jokowi yang sudah memberikan dukungan moril dan doa, tulis Prabowo. Sementara itu, hal yang sama diunggah Presiden Jokowi lewat akun Instagramnya. Jokowi juga mengajak masyarakat untuk mendoakan Ketua Umum Partai Gerindra itu, agar dapat kembali pulih dan beraktivitas. Alhamdulilah operasi Bapak Prabowo @prabowo 1 minggu lalu berjalan dengan lancar. Tindakan medis untuk pemulihan cidera yang pernah dialami Pak Prabowo ketika bertugas di TNI ini, sukses dilakukan oleh tim dokter dan perawat di RSPPN Sudirman. Mari kita doakan proses pemulihan pasca operasi besar Pak Prabowo, agar inshaAllah semakin siap untuk mengemban tugas melayani masyarakat Indonesia, tulis Jokowi. 5. Siap kembali beraktivitas Masih dalam unggahannya, Prabowo menyatakan bahwa dirinya siap untuk kembali beraktivitas usai menjalani operasi. Ia juga mengucapkan terima kasih atas doa dan dukungan masyarakat selama ini. Insya Allah dengan kondisi sehat walafiat ke depan, saya semakin siap untuk berbakti dan mengabdi untuk negara dan rakyat Indonesia. Terima kasih kepada seluruh masyarakat atas doa dan dukungannya, tuturnya. ',\n",
       "                                  'Presiden RI terpilih Prabowo Subianto menegaskan, dirinya dan wakil presiden RI terpilih, Gibran Rakabuming Raka, akan melanjutkan program-program pemerintahan Presiden Joko Widodo. Namun demikian, Prabowo mengakui bahwa belum semua program berjalan baik. Oleh karenanya, diperlukan perbaikan dan inovasi pada pemerintahannya mendatang. Apakah semuanya sudah bagus? Tentunya tidak. Apakah perlu perbaikan? Tentunya perlu, kata Prabowo dalam acara Halalbihalal Pengurus Besar Nahdlatul Ulama (PBNU) di Jakarta, Minggu (28/4/2024). Apakah kita perlu untuk berinisiatif, berinovasi mencari solusi-solusi yang lebih cepat dirasakan oleh rakyat? Tentu itu harus kita lakukan, lanjutnya. Baca juga: Prabowo Sebut Jokowi Siapkan Dirinya Jadi Penerus Prabowo menyebut, tantangan yang dihadapi negara ke depan tidak akan semakin mudah dan sederhana. Oleh karenanya, dibutuhkan kontinuitas dan komitmen keberlanjutan terhadap hal-hal yang sudah baik. Menteri Pertahanan Kabinet Indonesia Maju itu bilang, investasi uang rakyat yang demikian besar harus diamankan. Sebagai presiden RI terpilih, Prabowo berjanji akan memberi solusi terhadap tuntutan dan tantangan yang dihadapi oleh bangsa dan rakyat ke depan. Strategi dan program yang sudah dirintis oleh Pak Joko Widodo dan pemerintahan beliau kami anggap adalah landasan, fondasi yang sangat kuat, dan kami akan membangun di atas fondasi itu, ujar Prabowo. Prabowo mengaku, dirinya banyak belajar dari Presiden Jokowi. Ketua Umum Partai Gerindra itu memuji Jokowi sebagai sosok yang sangat teliti. Oleh karenanya, Prabowo tak heran dikalahkan dua kali oleh Jokowi pada Pemilu Presiden (Pilpres) 2014 dan Pilpres 2019. Beliau sangat teliti. Mungkin karena itu saya kalah dua kali sama beliau, kata Prabowo disambut tawa hadirin. Tapi saya juga tidak kalah akal. Kalau dua kali kalah, lebih baik kita belajar dari yang menang, tuturnya. Prabowo mengungkap, dirinya telah dipersiapkan oleh Jokowi. Bahkan, Prabowo bersedia maju sebagai calon presiden pada Pilpres 2024 karena mengantongi dukungan dari Kepala Negara. Waktu saya ditanya saya mau maju atau tidak 2024 ini, saya terang-terangan mengatakan, saya maju apabila saya direstui dan didukung oleh Pak Joko Widodo, lanjutnya. Baca juga: Sandiaga Usul PPP Gabung Koalisi Prabowo-Gibran, Mardiono: Keputusan Strategis lewat Mukernas Sebagaimana diketahui, Prabowo Subianto-Gibran Rakabuming Raka ditetapkan sebagai presiden dan wakil presiden terpilih RI masa jabatan 2024-2029 oleh KPU RI pada Senin (22/4/2024). Pasangan ini memenangi Pilpres 2024 dengan perolehan 96.214.691 suara atau sekitar 58,58 persen dari seluruh suara sah nasional. Sementara, pasangan capres-cawapres nomor urut 1, Anies Baswedan-Muhaimin Iskandar, mengekor di urutan kedua dengan raihan 40.971.906 suara atau sekitar 24,95 persen. Di urutan buntut, capres-cawapres nomor urut 3, Ganjar Pranowo-Mahfud MD, menghimpun 27.040.878 suara atau sekitar 16,47 persen dari seluruh suara sah nasional. Meski begitu, Prabowo-Gibran belum resmi menjadi presiden dan wakil presiden RI. Menurut jadwal, pelantikan keduanya bakal digelar pada 20 Oktober 2024. ',\n",
       "                                  \"Pakar hukum tata negara, Refly Harun, mengungkap desas-desus yang menyebut Presiden Joko Widodo tengah mengupayakan agar empat pembantunya di Kabinet Indonesia Maju masuk ke kabinet Prabowo Subianto-Gibran Rakabuming Raka. Nama-nama tersebut, mulai dari Menteri Investasi Bahlil Lahadalia, Menteri BUMN Erick Thohir, Menteri Sekretaris Negara (Mensesneg) Pratikno, hingga Kapolri Jenderal Listyo Sigit Prabowo.  Jokowi konon meng-endorse empat orang untuk jadi menteri. Konon ya. Dia ingin pertahankan Bahlil yang banyak jasanya dalam tanda kutip, Erick Thohir yang banyak jasanya dalam tanda kutip, Listyo Sigit yang banyak jasanya dalam tanda kutip, dan Pratikno yang banyak jasanya dalam tanda kutip, ujar Refly dalam program Gaspol Kompas.com sebagaimana dilansir YouTube Kompas.com, Sabtu (18/5/2024). Ini kan orang-orang yang berjasa semua dalam menjaga kekuasaan Jokowi, termasuk juga dalam pemenangan (Pilpres 2024) ya. Itu sudah rahasia umum, lanjutnya. Baca juga: Tak Kunjung Tegaskan Diri Jadi Oposisi, PDI-P Dinilai Sedang Tunggu Hubungan Jokowi dan Prabowo Renggang Jika dugaan tersebut benar, menurut Refly, hal ini menunjukkan minimnya peran Gibran, yang merupakan putra sulung Jokowi, dalam kabinet mendatang. Keyakinan kita kalau dia dorong empat empatnya, let's say seandainya benar. Itu menunjukkan bahwa ya memang Jokowi negosiasinya. Gibran enggak ada, katanya. Refly pun menyoroti sejumlah kesempatan ketika Prabowo tidak mengajak Gibran di beberapa agenda penting setelah ditetapkan sebagai presiden terpilih 2024-2029. Misalnya, saat Prabowo berkunjung ke China bertemu Presiden Xi Jinping. Prabowo juga tak didampingi Gibran saat berkunjung ke Nasdem Tower untuk menemui Ketua Umum Partai Nasdem Surya Paloh, juga saat bertemu Ketua Umum Partai Kebangkitan Bangsa (PKB) Muhaimin Iskandar beberapa waktu lalu. Menurut Refly, momen-momen tersebut menunjukkan manuver politik Prabowo setelah pilpres. Nah, dari situ menunjukkan bahwa Prabowo tidak melibatkan Gibran. Kalaupun dia harus bicara. Dia bicara sama bapaknya (Jokowi), kata Refly. Jika benar, maka ini tragedi bagi demokrasi Indonesia. Yang terpilih Gibran, tapi dia (Prabowo) bicara sama bapaknya (Jokowi), tambahnya. Sebagaimana diketahui, Prabowo Subianto dan Gibran Rakabuming Raka telah ditetapkan sebagai pemenang Pilpres 2024 dengan raihan 96.214.691 suara atau sekitar 58,58 persen dari seluruh suara sah nasional. Sementara itu, pasangan capres-cawapres nomor urut 1 Anies Baswedan-Muhaimin Iskandar, mengantongi 40.971.906 suara atau sekitar 24,95 persen dari seluruh suara sah nasional. Di urutan ketiga, capres-cawapres nomor urut 3, Ganjar Pranowo-Mahfud MD, menghimpun 27.040.878 suara atau sekitar 16,47 persen dari seluruh suara sah nasional. Prabowo dan Gibran rencananya akan dilantik sebagai Presiden dan Wakil Presiden RI pada 20 Oktober 2024 mendatang. Baca juga: 9 Eks Komisioner KPK Surati Presiden, Minta Jokowi Tak Pilih Pansel Problematik \",\n",
       "                                  'Calon presiden (capres) nomor urut 2 Prabowo Subianto mengaku masih sedih lantaran pernah dikasih nilai 11 dari 100 saat debat kedua capres. Adapun nilai 11 dari 100 itu diberikan oleh capres nomor 1 Anies Baswedan pada debat tanggal 7 Januari 2024 lalu. Saya sedih sekali dikasih nilai rendah, 11 dari 100, kata Prabowo dalam acara kampanye akbar Kirab Kebangsaan di Lapangan Simpang Lima, Semarang, Jawa Tengah, Minggu (28/1/2024). Prabowo lantas menceritakan dirinya sudah pernah bersekolah ke luar negeri. Baca juga: Ratusan Anak Pakai Atribut Kampanye pada Kirab Kebangsaan Prabowo-Gibran, Bawaslu Turun Tangan Namun, kata Prabowo, tidak pernah ada guru yang sejahat itu memberikan nilai. Belum pernah ada guru sejahat itu, edan, ujar Prabowo. Meski begitu, ia tidak ingin terlalu memusingkan nilai tersebut. Dia juga mengucapkan terima kasih jika ada pendukungnya yang memberikan nilai 100 dari 100 kepada dirinya. Sekarang, tapi, tapi maaf ya, saya ini besar di Jakarta, lahir di Jakarta, jadi sering bahasa Jakarta, bahasa Betawi, saya sebenarnya mau jawab di situ, Emangnya lo siape?, Emangnya gue pikirin? Sorry ye, ujar dia. Baca juga: Singgung soal Gaya Bicara, Prabowo: Aku Juga Bisa Kaya Profesor Sebelumnya, Anies Baswedan memberikan angka rendah untuk kinerja Kementerian Pertahanan (Kemenhan) di bawah kepemimpinan capres nomor urut 2 Prabowo Subianto. Ia menyampaikan, kinerja Kemenhan tak optimal karena banyak kebijakan yang dianggapnya belum memihak pada prajurit TNI, misanya pemberian tunjangan dan pembelian alutsista bekas. Karena itu, menurut saya, skornya justru di bawah 5, Mas Ganjar, kalau 5 itu ketinggian, ucap Anies dalam debat capres kedua di Istora Senayan, Jakarta, Minggu (7/1/2024). Ganjar sebelumnya juga memberikan angka 5 untuk kinerja Kemenhan yang dipimpin Prabowo. Sudah saya siapkan data satu per satu. Namun demikian, Mas Anies tentu saja ada yang ingin saya sampaikan. Dari apa yang tadi sudah saya utarakan, ketika kita ingin membangun sistem pertahanan kita, maka dalam perencanaan kita tidak boleh gonta ganti, kita mesti ajeg, mesti konsisten, tutur Ganjar. Baca juga: Polah Prabowo Saat Kampanye di Bekasi, Kembali Bicara Sorry Yee hingga Joget Gemoy Lantas, Ganjar meminta Anies untuk memberikan ketegasan, berapa nilai untuk kinerja Kemenhan. Mas Anies enggak usah takut, disebut saja angkanya berapa gitu loh. Kayak saya gitu loh, jangan di bawah lima, sebut saja berapa? tanya Ganjar. Anies kemudian menjelaskan bahwa kesejahteraan prajurit TNI lebih baik di era kepemimpinan Presiden ke-6 RI Susilo Bambang Yudhoyono (SBY) ketimbang kepemimpinan Presiden Joko Widodo. Sebab, saat itu kenaikan gaji prajurit TNI terjadi sembilan kali. (Skor Kemenhan) 11 Mas, dari 100, jawab Anies. Lalu, sembari bercanda, Ganjar mengatakan bahwa Anies menunjukkan sikap yang berani. Ini sedikit ngajarin kendhel (berani) Mas Anies, biar berani, imbuh Ganjar. ',\n",
       "                                  'Presiden Joko Widodo mengunggah momen saat dirinya menjenguk Menteri Pertahanan (Menhan) yang juga presiden terpilih hasil Pilpres 2024 Prabowo Subianto di Rumah Sakit Pusat Pertahanan Negara (RSPPN) Sudirman, Jakarta Selatan, di akun media sosial X resminya @jokowi pada Minggu (30/6/2024). Dalam unggahan itu, tampak Jokowi dan Prabowo berbincang di kamar pasien untuk Prabowo. Menurut Jokowi, tim dokter sudah melakukan tindakan medis untuk pemulihan cidera yang dialami Prabowo. Alhamdulilah operasi Bapak Prabowo @prabowo 1 minggu lalu berjalan dengan lancar. Tindakan medis untuk pemulihan cidera yang pernah dialami Pak Prabowo ketika bertugas di TNI ini, sukses dilakukan oleh tim dokter dan perawat di RSPPN Sudirman, tulis Jokowi sebagaimana dilansir pada Senin (1/7/2024). Mari kita doakan proses pemulihan pasca operasi besar Pak Prabowo, agar inshaAllah semakin siap untuk mengemban tugas melayani masyarakat Indonesia, tegasnya. Sebelumnya Prabowo mngungkapkan, dirinya menjalani operasi besar di RSPPN Panglima Besar Soedirman, Jakarta Selatan, pada minggu lalu. Operasi itu dilakukan karena ia pernah dua kali kecelakaan ketika melaksanakan aksi terjun payung saat masih aktif sebagai prajurit TNI dulu. Kecelakaan itu, kata dia, membuat kaki kirinya cedera, sehingga membuat rasa sakitnya terus dirasakan hingga pada saat ini. Seperti sudah diketahui banyak pihak, saya pernah mengalami dua kali kecelakaan terjun payung saat bertugas di TNI pada tahun 80-an di kaki kiri saya, cedera ini selama ini masih saya rasakan, ujar Prabowo dalam keterangannya, Minggu. Baca juga: Operasi Besar di RSPPN PB Soedirman, Prabowo: Saya Dua Kali Kecelakaan Terjun Payung Usai menjalani operasi, Prabowo menyatakan dirinya siap beraktivitas kembali usai melakukan operasi terhadap cedera kaki kirinya itu. Insya Allah dengan kondisi sehat walafiat ke depan, saya semakin siap untuk berbakti dan mengabdi untuk negara dan rakyat Indonesia. Terima kasih kepada seluruh masyarakat atas doa dan dukungannya, tuturnya. Prabowo menyebut dirinya paham dan sadar bahwa operasi cedera kaki ini berisiko karena mengancam nyawanya. Namun, demi bangsa dan negara, Prabowo meyakini tim dokter pasti berhasil melakukan operasi. Baca juga: Jokowi Jenguk Prabowo Usai Jalani Operasi Cedera Kaki di RSPPN PB Soedirman Saya sadar dan paham bahwa tindakan medis yang saya jalani penuh dengan risiko dan pertaruhan nyawa, saya yakinkan diri bahwa semua ini untuk negara dan bangsa, saya juga yakin tim dokter dan seluruh tenaga medis yang menanganinya pun handal dan profesional, imbuh Prabowo. ',\n",
       "                                  'Survei terbaru Indikator Politik Indonesia memetakan elektabilitas tiga pasangan calon presiden (capres)-calon wakil presiden (cawapres) Pemilu 2024. Menurut survei, elektabilitas capres-cawapres nomor urut 2, Prabowo Subianto-Gibran Rakabuming Raka, unggul di hampir semua wilayah di Indonesia. Hanya di Jawa Tengah (Jateng) dan Daerah Istimewa Yogyakarta (DIY) tingkat keterpilihan Prabowo-Gibran kalah dari capres-cawapres nomor urut 3, Ganjar Pranowo-Mahfud MD. Prabowo-Gibran keunggulannya merata, kecuali di Jawa Tengah dan DIY kalah sama Ganjar-Mahfud, kata Direktur Eksekutif Indikator Politik Indonesia, Burhanuddin Muhtadi, dalam konferensi pers daring, Selasa (26/12/2023). Sementara, capres-cawapres nomor urut 1, Anies Baswedan-Muhaimin Iskandar, mengantongi elektabilitas cukup besar di Banten dan DKI Jakarta. Meski begitu, angka elektoral pasangan ini masih kalah dari Prabowo-Gibran. Anies-Muhaimin meskipun kalah dibanding Prabowo-Gibran, tapi sangat kompetitif di Banten dan DKI, ujar Burhanuddin. Baca juga: Survei Indikator: Elektabilitas Prabowo-Gibran Unggul Pascadebat, Anies-Muhaimin Turun Berikut peta elektabilitas tiga pasangan capres-cawapres di sejumlah wilayah menurut survei Indikator Politik Indonesia: Anies Baswedan-Muhaimin Iskandar Prabowo Subianto-Gibran Rakabuming Raka Ganjar Pranowo-Mahfud MD Survei juga memetakan elektabilitas tiga pasangan capres-cawapres pascadebat capres pada 12 Desember 2023 dan debat cawapres yang digelar 22 Desember 2023. Hasilnya, elektabilitas Prabowo-Gibran naik menjadi 46,7 persen dan unggul di urutan pertama. Angka elektoral Ganjar-Mahfud juga meningkat, meski persentasenya kecil, yaitu 24,5 persen. Sebaliknya, elektabilitas Anies-Muhaimin sedikit turun menjadi 21 persen. Berikut ini elektabilitas tiga pasangan capres-cawapres menurut survei Indikator Politik Indonesia, sebelum dan setelah debat capres-cawapres: Anies Baswedan-Muhaimin Iskandar Prabowo Subianto-Gibran Rakabuming Raka Ganjar Pranowo-Mahfud MD Baca juga: Survei Indikator Politik: Tren Elektabilitas PDIP Turun Terus, Gerindra Naik Adapun survei Indikator Politik Indonesia ini digelar pada 23-24 Desember 2023 melalui wawancara telepon. Survei melibatkan 1.217 responden yang dipilih melalui kombinasi metode random digit dialing (RDD) sebanyak 265 responden, dan double sampling sebanyak 952 responden. Margin of error survei diperkirakan +-2,9 persen dengan tingkat kepercayaan 95 persen. ',\n",
       "                                  None], dtype=object),\n",
       "              'marker': {'color': '#CFD8DC', 'opacity': 0.5, 'size': 5},\n",
       "              'mode': 'markers+text',\n",
       "              'name': 'other',\n",
       "              'showlegend': False,\n",
       "              'type': 'scattergl',\n",
       "              'x': array([5.542276 , 6.8894367, 2.9802816, 6.9353833, 5.7505007, 5.344209 ,\n",
       "                          5.01869  , 5.714887 , 7.730904 , 6.1468477, 5.6503334, 4.9649787,\n",
       "                          6.6781363, 3.3203433, 6.014648 , 4.271587 , 5.877069 , 7.0202003,\n",
       "                          4.0541058, 5.954656 , 3.9126403, 6.125479 , 5.313592 , 6.037419 ,\n",
       "                          4.386164 , 5.596546 , 5.79063  , 6.425125 , 3.2355227, 3.1466136,\n",
       "                          4.7744966, 3.2145183, 5.5630183, 4.764676 , 5.7702336, 5.31189  ],\n",
       "                         dtype=float32),\n",
       "              'y': array([3.341295 , 2.5385342, 2.2736316, 2.7039266, 2.0754662, 4.1358824,\n",
       "                          3.0572133, 3.7969832, 3.4868517, 1.8127407, 4.5241165, 4.443724 ,\n",
       "                          2.3034134, 3.8401182, 2.8228598, 4.114324 , 1.833266 , 2.9129388,\n",
       "                          3.8778431, 2.8133593, 3.3775454, 2.739199 , 3.7237551, 4.6220675,\n",
       "                          2.5457687, 1.712791 , 3.7744398, 4.6525393, 3.7506764, 3.675876 ,\n",
       "                          3.701968 , 2.1561878, 4.5118423, 4.159692 , 1.7818103, 3.245561 ],\n",
       "                         dtype=float32)},\n",
       "             {'hoverinfo': 'text',\n",
       "              'hovertext': array([\"Presiden terpilih 2024-2029 sekaligus Menteri Pertahanan (Menhan) Prabowo Subianto menghadiri 'Silaturahmi Halal Bihalal dan Syukuran Abituren Akabri 1971-1975 tahun 2024' di Kementerian Pertahanan (Kemenhan), Jakarta Pusat, pada Sabtu (4/5/2024). Pertemuan yang digelar dalam rangka reuni itu dimulai dengan upacara parade senja yang ditandai penurunan bendera merah putih serta mengheningkan cipta. Agenda tersebut kemudian disambung dengan silaturahmi dan makan malam bersama. Di hadapan ratusan alumni Akabri, Prabowo mengawali perbincangan dengan mengucapkan permohonan maaf lahir batin. Ia berharap momen ini kian mempererat tali silaturahmi. Baca juga: Anggap Positif Presidential Club yang Ingin Dibentuk Prabowo, Cak Imin: Pemerintah Bisa Lebih Produktif Karena masih di bulan Syawal, kita melaksanakan halal bihalal ini. Kami mewakili kawan-kawan yang hadir, mohon maaf lahir dan batin. Semoga kita bisa terus merajut silaturahmi, merajut persatuan dan kesatuan, ujar Prabowo dalam keterangannya, Minggu (5/5/2024). Prabowo menjelaskan, persatuan dan kesatuan adalah barang mahal yang harus dijaga sekuat tenaga. Dia lantas mengajak para alumni Akabri untuk selalu berupaya memberikan yang terbaik untuk negara. Persatuan dan kesatuan ini lah yang sangat mahal. Apabila bisa dipertahankan, negara kita akan terus langgeng, akan kuat, akan abadi, tuturnya. Baca juga: Ketidakharmonisan Hubungan Presiden Terdahulu jadi Tantangan Prabowo Wujudkan Presidential Club Menurut Prabowo, perjuangan yang dilakukan para alumni Akabri sejak muda perlu dirawat sebagai contoh yang bakal diwariskan kepada generasi penerus. Kita mengenang masa muda kita dan kita bangga ada generasi-generasi yang siap meneruskan perjuangan kita, kata Prabowo Kita akan berbuat yang terbaik untuk masa depan bangsa kita, dan kita ingin meninggalkan contoh yang terbaik (bagi generasi penerus), sambungnya. Sementara itu, Prabowo juga mengenang masa-masa ketika menempuh pendidikan di Akabri pada awal 1970-an. Dia menilai gemblengan para senior membuat keteguhan dalam membela negara terus terjaga hingga hari ini. Baca juga: Presidential Club, Upaya Prabowo Damaikan Megawati dengan SBY dan Jokowi Kita digembleng oleh mereka, dan mereka berhasil memberi nilai-nilai yang terpatri di dalam jiwa kita. Jiwa pengorbanan, jiwa pengabdian, jiwa cinta Tanah Air, imbuh Prabowo. Dalam kesempatan ini, hadir Presiden ke-6 Susilo Bambang Yudhoyono (SBY), Jenderal TNI (Purn) Wiranto, Jenderal (Purn) AM Hendropriyono, Jenderal TNI (Purn) Agum Gumelar, Laksamana TNI (Purn) Slamet Subianto, Marsekal TNI (Purn) Joko Suyanto, Marsekal TNI (Purn) Imam Sufaat, Jenderal TNI (Purn) Endriantono Sutarto, Jenderal TNI (Purn) Ryamizard Ryacudu, Jenderal Pol (Purn) Sutanto, Jenderal TNI (Purn) Agustadi, Jenderal TNI (Purn) Dudung Abdurachman, dan Jenderal TNI (Purn) Andika Perkasa. Lalu, turut hadir Ibu Wismoyo Arismunandar, Ibu LB Moerdani, serta para senior Abituren AKABRI angkatan tahun 1971-1975. \",\n",
       "                                  'Bakal calon presiden (capres) Koalisi Indonesia Maju (KIM), Prabowo Subianto, menggandeng Wali Kota Surakarta, Gibran Rakabuming Raka, sebagai bakal calon wakil presiden (cawapres) Pemilu 2024. Pasangan bakal capres-cawapres itu menggagas sejumlah program. Gibran membocorkan, salah satu program yang ia dan Prabowo tawarkan adalah Kartu Indonesia Sehat (KIS) untuk kalangan lanjut usia (lansia). Bocoran program ini disampaikan Gibran saat berpidato di hadapan jajaran ketua umum partai politik anggota KIM serta para pendukung dan simpatisan Koalisi Indonesia Maju sebelum mendaftarkan diri ke Komisi Pemilihan Umum (KPU), Rabu (25/10/2023). Sekarang sudah ada KIS, ada Kartu Indonesia Pintar, ada PKH (Program Keluarga Harapan), nanti saya tambahkan lagi KIS lansia, kata Gibran di Indonesia Arena, Jakarta. Baca juga: KPU: Berkas Pendaftaran Prabowo-Gibran Lengkap Gibran juga mengungkap, dirinya dan Prabowo akan membuat program kartu anak sehat. Program ini bertujuan untuk menekan angka stunting di Tanah Air. Selain itu, bakal capres-cawapres Koalisi Indonesia Maju tersebut juga menggagas program kredit bernama kredit start-up milenial. Kredit ini akan diperuntukkan bagi generasi muda yang membuka bisnis di bidang teknologi dan inovasi. Sekarang sudah ada yang namanya KUR (kredit usaha rakyat), sudah ada yang namanya kredit mekar, sudah ada wakaf mikro, ada kredit ekstra mikro, nanti akan kami tambahkan lagi kredit start-up millennial, ujar Gibran. Bersama Prabowo, Gibran juga berjanji melanjutkan program yang telah dijalankan pemerintahan sang ayah, Presiden Joko Widodo, berupa hilirisasi pertambangan, pertanian, dan perikanan. Ini wajib. Dan juga ekonomi hijau dan energi hijau untuk keberlanjutan, katanya. Baca juga: Daftar ke KPU, Prabowo: Kami Akan Ikuti Semua Proses, Kami Siap Maju Jika terpilih sebagai pemimpin Indonesia berikutnya, kata Gibran, dirinya dan Prabowo akan melanjutkan dan menyempurnakan program-program pemerintah sekarang. Wali Kota Surakarta itu meyakini, dengan semangat keberlanjutan dan konsistensi, dirinya dan Prabowo mampu mewujudkan Indonesia lebih maju. Sekali lagi, terima kasih, Bapak, Ibu semua, mohon doanya agar semuanya lancar dan semoga perjalanan kita ke depan dapat dimudahkan, tutur putra sulung Presiden Jokowi tersebut. Sementara, Prabowo menjanjikan dirinya dan Gibran akan mengentaskan kemiskinan di Indonesia seandainya terpilih sebagai presiden dan wakil presiden Indonesia. Yang sangat penting dalam sejarah bangsa Indonesia, kita menghadapi titik di mana kita bisa bangkit menuju Indonesia yang hebat, Indonesia yang bebas dari kemiskinan, kata Prabowo. Menteri Pertahanan tersebut juga berjanji akan membebaskan rakyat Indonesia dari kelaparan dan kurang gizi. Katanya, seluruh anak Indonesia harus tumbuh kuat, cerdas, dan gembira. Di mana kekayaan Indonesia akan dipergunakan sebesar-besarnya untuk seluruh rakyat Indonesia, ujarnya. Prabowo pun menyampaikan terima kasih atas dukungan masyarakat dan partai politik anggota Koalisi Indonesia Maju. Ia juga memohon doa restu. Kami, Prabowo Subianto dan Gibran Rakabuming Raka, mohon doa restu dari seluruh rakyat Indonesia, tutur Ketua Umum Partai Gerindra itu. Baca juga: Prabowo-Gibran Dinilai Siap Tempur dengan Ganjar-Mahfud di Jawa Tengah Adapun Prabowo-Gibran telah resmi mendaftarkan diri sebagai capres-cawapres peserta Pemilu Presiden 2024, Rabu (25/10/203). Oleh KPU, berkas pendaftaran Prabowo-Gibran dinyatakan lengkap. Selanjutnya, pasangan bakal capres-cawapres tersebut dijadwalkan menjalani pemeriksaan kesehatan sebagai bagian dari rangkaian verifikasi dokumen pada Kamis (26/10/2023). ',\n",
       "                                  'Menteri Pertahanan (Menhan) Prabowo Subianto menghadiri upacara peringatan Hari Ulang Tahun ke-78 Polri atau Hari Bhayangkara yang digelar di Lapangan Monas, Jakarta, Senin (1/7/2024). Prabowo yang pekan lalu menjalani operasi pada kakinya memasuki tempat upacara bersamaan dengan Presiden Joko Widodo (Jokowi). Selain itu, tampak pula Ibu Iriana Joko Widodo yang mendampingi Jokowi. Serta, Wakil Presiden (Wapres) Maruf Amin beserta istri, dan Ketua DPR RI Puan Maharani. Disaksikan dari Kompas TV, Prabowo nampak berjalan berdampingan dengan Puan Maharani di belakang Wapres Maruf Amin. Mengenakan setelah jas berwarna abu-abu muda, dia terlihat berjalan cukup cepat meskipun tidak dapat menutupi bahwa kakinya tengah sakit pascaoperasi. Prabowo juga tampak sesekali melemparkan senyum dan memberikan hormat sambil berdiri saat namanya disebut oleh Presiden Jokowi. Baca juga: Hari Bhayangkara ke-78 di Monas, Prabowo Hadir meski Baru Saja Dioperasi Diketahui, Presiden RI terpilih periode 2024-2029 tersebut baru saja menjalani operasi karena cidera kaki di Rumah Sakit Pusat Pertahanan Negara (RSPPN) Panglima Besar Soedirman, Jakarta Selatan, pada pekan lalu. Kemudian, Prabowo sempat menjalani pemulihan pascaoperasi di rumah sakit yang sama. Bahkan, Presiden Jokowi telah menjenguk suksesornya tersebut dan mendoakan untuk pemulihan Prabowo.  Prabowo dalam keterangan tertulisnya mengungkap bahwa penyebab cedera yang sudah lama tersebut adalah karena dua kali kecelakaan terjun payung saat dirinya masih aktif bertugas di TNI. Seperti sudah diketahui banyak pihak, saya pernah mengalami dua kali kecelakaan terjun payung saat bertugas di TNI pada tahun 80-an di kaki kiri saya, cidera ini selama ini masih saya rasakan, kata Prabowo dalam keterangannya, Minggu (30/6/2024) malam. Baca juga: 5 Fakta Operasi Besar Prabowo: Cedera Kaki karena Terjun Payung hingga Siap Beraktivitas Selain Menhan Prabowo, sejumlah menteri juga tampak hadir. Seperti Menteri Pekerjaan Umum dan Perumahan Rakyat (PUPR) Basuki Hadimuljono, Menteri Sekretariat Negara (Mensesneg) Pratikno, Menteri Investasi Bahlil Lahadalia, Menteri Perdagangan Zulkifli Hasan. Kemudian, Menteri Agraria dan Tata Ruang (ATR) Agus Harimurti Yudhoyono (AHY), Menteri Pendayagunaan Aparatur Negara dan Reformasi Birokrasi Azwar Anas, Jaksa Agung ST Burhanuddin, dan Ketua MPR RI Bambang Soesatyo. Nampak juga hadir Wakil Presiden ke-10 dan 12 RI Jusuf Kalla, Istri Presiden ke-4 RI Abdurrahman Wahid atau kerap disapa Gus Dur, Ibu Sinta Nuriyah, dan Wakil Presiden ke-6 RI Try Sutrisno. Selain itu, juga hadir Ketua Komisi Pemilihan Umum (KPU) Hasyim Asyari, dan Ketua Badan Pengawas Pemilu (Bawaslu) Rahmat Bagja. Baca juga: Jenguk Prabowo Pascaoperasi, Jokowi: Mari Doakan Proses Pemulihan ',\n",
       "                                  'Semakin gemuk atau banyaknya jajaran koalisi dari Presiden-Wakil Presiden Terpilih, Prabowo Subianto-Gibran Rakabuming Raka, dinilai bisa menjadi pisau bermata dua yang memberikan dampak positif atau justru negatif. Sistem ini di satu sisi menciptakan stabilitas pemerintahan, kata analis sosial politik, Karyono Wibowo, kepada Kompas.com, Sabtu (27/4/2024). Karyono mengatakan, sistem merangkul partai-partai di luar koalisi yang menjadi lawan politik dalam kompetisi pilpres dilakukan untuk mengatasi problematika presidensialisme di tengah sistem multipartai. Baca juga: Checks and Balances terhadap Pemerintahan Dinilai Lemah jika PDI-P Gabung Koalisi Prabowo Sebab, menurut Karyono, problematika sistem presidensial pada umumnya terjadi ketika dikombinasikan dengan sistem multipartai. Persoalan kerap muncul ketika terjadi fragmentasi dan polarisasi yang tinggi sehingga berdampak pada sikap politik di parlemen yang dapat mengganggu relasi lembaga eksekutif dengan legislatif, kata dia. Di sisi lain, koalisi pemerintahan yang dibentuk dari hasil kompromi ini bisa mengakibatkan prinsip check and balance tidak berjalan maksimal. Hal ini pun juga bisa berdampak membuat pemerintahan berjalan tidak efektif dan efisien. Koalisi gemuk tak jarang menyebabkan pemerintahan tidak efektif dan tidak efisien. Apalagi, jika prinsip dasar pembentukan kabinet pemerintahan sekadar dimaknai bagi-bagi kekuasaan, maka orientasi pembangunan nasional bisa bergeser menjadi sekadar pemenuhan kepentingan kelompok, ucap dia. Baca juga: Politikus PPP Sebut Ada Kemungkinan Parpolnya Gabung Koalisi Prabowo-Gibran Direktur Eksekutif Indonesia Public Institute (IPI) ini berpandangan, partai oposisi masih sangat diperlukan untuk mengontrol jalannya pemerintahan. Agar ada check and balance yang diharapkan meminimalisasi terjadinya penyimpangan kekuasaan (abuse of power), kata dia. Sejak awal pemilu, ada sembilan partai yang mengusung Prabowo-Gibran. Sembilan partai itu adalah Partai Gerindra, Partai Golkar, Partai Demokrat, PAN, PBB, PSI, Prima, Partai Gelora, dan Partai Garuda. Kini, tiga partai anggota Koalisi Perubahan untuk Persatuan yakni PKB, Nasdem, dan PKS, membuka peluang bergabung ke koalisi Prabowo-Gibran. Pada Pilpres 2024, kongsi tersebut mengusung Anies Baswedan-Muhaimin Iskandar sebagai calon presiden dan calon wakil presiden (capres-cawapres). Namun, pasangan ini ditumbangkan oleh Prabowo-Gibran. Baca juga: Dukung Prabowo-Gibran, PKB Pastikan Tak Bakal Rusak Soliditas Koalisi Indonesia Maju ',\n",
       "                                  'Partai Demokrasi Indonesia Perjuangan (PDI-P) menganggap pernyataan Presiden terpilih Prabowo Subianto yang tidak ingin masa pemerintahannya kelak diganggu sebagai sinyal bahaya. Menurut politikus PDI-P Adian Napitupulu, kata jangan mengganggu yang disampaikan Prabowo sangat subjektif dan tidak ada instrumen hukum yang bisa dijadikan patokan ukuran. Karena bahasa mengganggu itu sangat subjektif. Enggak ada alat ukurnya. Berbahaya ketika kita berbicara tentang hubungan antaranak bangsa dalam sebuah negara tapi dengan alat ukur yang sangat subjektif, kata Adian dalam program Satu Meja di Kompas TV, seperti dikutip pada Rabu (15/5/2024). Adian mengatakan, karena tidak ada patokan ukuran menurut aturan undang-undang itulah maka tafsir mengenai jangan mengganggu yang disampaikan Prabowo dikhawatirkan sangat subjektif dan rentan terjadi penyalahgunaan kekuasaan buat menekan kelompok yang berbeda pandangan dengan pemerintah. Baca juga: Prabowo Sebut Jangan Ganggu jika Ogah Kerja Sama, Gerindra: Upaya Rangkul Partai Lain Terus Dilakukan Dengan demikian sangat bebas tafsir. Kalau kemudian tiba-tiba ada pernyataan A, B, C, segala macam kita mengkategorikannya kritik, Prabowo bisa mengkategorikan itu mengganggu, ujar Adian. Dan apa alat ukurnya? Ya dia sendiri yang tahu, sambung Adian. Seperti diberitakan sebelumnya, Prabowo menyampaikan pernyataan jangan mengganggu itu pada acara bimbingan teknis (bimtek) dan rakornas pilkada Partai Amanat Nasional (PAN) di Hotel JS Luwansa, Jakarta Selatan, Kamis (9/5/2024) malam. Saya akan berjuang terus bersama semua kekuatan yang mau diajak kerja sama. Yang tidak mau diajak kerja sama tidak apa-apa. Kalau ada yang mau nonton di pinggir jalan, silakan jadi penonton yang baik, ujar Prabowo. Baca juga: Prabowo Minta Pemerintahannya Tak Diganggu, PKS: Kontrol Terhadap Pemerintah Wajib Tapi kalau sudah tidak mau diajak kerja sama, ya jangan mengganggu. Orang lagi mau kerja kok. Kita mau kerja. Kita mau kerja. Kita mau amankan kekayaan bangsa Indonesia, sambungnya. Prabowo menjelaskan, dirinya tidak ingin ada lagi orang Indonesia yang menangis karena lapar. Dia menekankan rakyat Indonesia tidak boleh tidak bisa makan. Saya yakin saudara tidak terima. Saya malu saya dikasih pangkat jenderal oleh rakyat. Saya dipilih oleh rakyat. Siang dan malam kita berpikir, saya berpikir, bagaimana rakyat Indonesia tidak ada yang lapar, jelas Prabowo. ',\n",
       "                                  'Koalisi presiden dan wakil presiden RI terpilih, Prabowo Subianto-Gibran Rakabuming Raka, kian gemuk. Pasalnya, Partai Nasdem menyatakan dukungan untuk keduanya. Partai Kebangkitan Bangsa (PKB) juga memberi sinyal merapat ke pemerintahan mendatang. Dua partai tersebut sebelumnya berseberangan dengan Prabowo-Gibran. Pada Pemilu Presiden (Pilpres) 2024, Nasdem, PKB, dan Partai Keadilan Sejahtera (PKS) tergabung dalam Koalisi Perubahan untuk Persatuan mengusung Anies Baswedan-Muhaimin Iskandar sebagai calon presiden dan calon wakil presiden (capres-cawapres). Bekas koalisi tersebut menyisakan PKS yang hingga kini belum menyatakan sikap, apakah bakal mendukung pemerintahan Prabowo-Gibran, atau berada di luar sebagai oposisi. Selain PKS, PDI Perjuangan hingga kini juga masih bergeming. Pada Pilpres 2024, PDI-P bersama Partai Persatuan Pembangunan (PPP) mengusung Ganjar Pranowo-Mahfud MD sebagai capres-cawapres. Menurut hasil Pemilu 2024 yang ditetapkan oleh Komisi Pemilihan Umum (KPU), PPP tak lagi lolos ke Senayan. Sebab, dengan perolehan 3,87 persen suara, partai Kabah tidak memenuhi ambang batas parlemen atau parliamentary threshold sebesar 4 persen. Baca juga: Dukung Prabowo-Gibran, PKB Pastikan Tak Bakal Rusak Soliditas Koalisi Indonesia Maju Sementara, Prabowo-Gibran sendiri sejak awal diusung oleh empat partai parlemen, yakni Partai Gerindra, Partai Golkar, Partai Demokrat, dan Partai Amanat Nasional (PAN). Kendati masih mungkin berubah, komposisi kekuatan pemerintahan Prabowo-Gibran ke depan mulai terlihat. Dengan tambahan dukungan Partai Nasdem dan PKB, partai koalisi presiden dan wakil presiden terpilih itu mengantongi total 63,64 persen suara sah nasional. Jika dikonversi menjadi kursi di parlemen, koalisi Prabowo-Gibran diperkirakan menguasai 417 kursi atau 71,89 persen dari total 580 kursi di DPR RI. Adapun konversi suara partai menjadi kursi DPR RI ini dikutip dari data Centre for Strategic and International Studies (CSIS). Kepala Departemen Politik dan Perubahan Sosial CSIS Arya Fernandes telah mengizinkan Kompas.com untuk mengutip laporan ini. Berikut perincian peta kekuatan koalisi Prabowo-Gibran seandainya hanya mendapat tambahan kekuatan dari Nasdem dan PKB. Total suara sah nasional: 63,64 persen Total kursi di DPR RI: 163 kursi (28,10 persen) Baca juga: Checks and Balances terhadap Pemerintahan Dinilai Lemah jika PDI-P Gabung Koalisi Prabowo Sebagaimana diketahui, Prabowo Subianto-Gibran Rakabuming Raka ditetapkan sebagai presiden dan wakil presiden terpilih RI masa jabatan 2024-2029 oleh KPU RI pada Senin (22/4/2024). Pasangan ini memenangi Pilpres 2024 dengan perolehan 96.214.691 suara atau sekitar 58,58 persen dari seluruh suara sah nasional. Sementara, pasangan capres-cawapres nomor urut 1, Anies Baswedan-Muhaimin Iskandar, mengekor di urutan kedua dengan raihan 40.971.906 suara atau sekitar 24,95 persen. Di urutan buntut, capres-cawapres nomor urut 3, Ganjar Pranowo-Mahfud MD, menghimpun 27.040.878 suara atau sekitar 16,47 persen dari seluruh suara sah nasional. Meski begitu, Prabowo-Gibran belum resmi menjadi presiden dan wakil presiden RI. Menurut jadwal, pelantikan keduanya bakal digelar pada 20 Oktober 2024. ',\n",
       "                                  'Ketua Umum (Ketum) Partai Gelombang Rakyat (Gelora) Indonesia Anis Matta menilai, situasi kondusif dari bersatunya Jokowi dan Prabowo membuat Indonesia dapat melalui krisis yang dipicu Covid-19 dan ancaman disintegrasi bangsa. Sehingga rekonsiliasi tersebut harus dilanjutkan di Pilpres 2024, sehingga umat Islam hendaknya mendukung Prabowo-Gibran, karena mereka berdua yang mampu menghadapi pendalaman krisis pada 2024 ini, kata Anis Matta melalui keterangan persnya, Kamis (8/2/2024). Hal itu disampaikan Anis Matta dalam program Anis Matta Menjawab Episode 29 dengan tema Maslahat Umat Dalam Pilpres di Tengah Ancaman Disintegrasi yang telah tayang di kanal YouTube Gelora TV pada Senin (22/1/2024) malam. Ia menegaskan, Prabowo-Gibran merupakan bentuk kemaslahatan umat, karena keduanya dipercaya dapat mencegah disintegrasi yang muncul saat Pilpres 2024. Baca juga: Bela Jokowi dan Minta Ahok Ngaca, Kubu Prabowo: Gibran Malah Lebih Teruji Kita berharap umat Islam mendukung Pak Prabowo seperti dalam dua Pilpres sebelumnya. Kita jangan gampang dipecah belah lagi, dijadikan kambing hitam dan korban seperti pada 2019, dengan terus menerus menjadi kerumunan, tutur Anis Matta. Dia menegaskan, Prabowo bisa membawa Indonesia menjadi pemimpin di kawasan Asia-Pasifik jika terpilih sebagai presiden nantinya. Kira-kira, di antara semua calon presiden (capres) yang paling mengerti masalah geopolitik adalah Pak Prabowo. Situasi geopolitik sekarang, yang paling diuntungkan adalah beliau. Pak Prabowo adalah man of the moment, kata Anis Matta. Menurut Anis Matta, Prabowo adalah calon presiden (capres) yang paling memahami dan mengerti pergolakan situasi geopolitik global yang sedang terjadi di seluruh dunia sekarang. Baca juga: Airlangga Sebut Prabowo-Gibran Menang 1 Putaran Sudah Terlihat, Klaim Kuasai Jabar dan Jatim Selain itu, Prabowo juga pernah menjadi korban geopolitik global saat menjadi Pangkrostad saat era Presiden Soeharto pada 1998 lalu. Hal ini menjadikan Prabowo mafhum akan siklus kehidupan karena pernah menjadi korban geopolitik. Jadi, pada1998, Pak Prabowo bersama Presiden Soeharto itu adalah korban geopolitik. Ini siklus saja dalam hidup orang, bahwa suatu waktu beliau menjadi korban geopolitik dan sekarang karena situasi geopolitik beliau yang paling diuntungkan dan paling mungkin menjadi presiden, katanya. Ia menilai bahwa Prabowo mengetahui bagaimana cara menempatkan Indonesia dalam situasi geopolitik sekarang sebagai negara dengan penduduk muslim terbesar di dunia, negara dengan demokrasi terbesar ketiga di dunia, dan negara dengan populasi terbesar keempat di dunia. Jadi poin pertama yang diperlukan umat Islam sekarang adalah visi masa depan. Kita mengerti pergolakan yang sedang terjadi sekarang di seluruh dunia dan mengerti cara menempatkan Indonesia dalam situasi itu, katanya. Baca juga: Zulhas Kampanye Bareng Gus Miftah di Sleman, Ribuan Warga Teriak Prabowo-Gibran Sekali Putaran Menurut Anis Matta, Indonesia sebenarnya sudah menjadi pemimpin kawasan. Namun, hal itu tidak disadari karena kurangnya pemahaman soal pergolakan situasi geopolitik global saat ini. Hal ini bisa diatasi dengan peningkatan partisipasi di forum-forum internasional. Karena Indonesia adalah pemimpin kawasan, maka semua perubahan yang terjadi di Indonesia dengan sendirinya akan memengaruhi kawasan. Sehingga, Pilpres 2024 di Indonesia sangat penting, karena akan menentukan arah dunia, katanya. Selain di Indonesia, lanjut Anis Matta, pilpres lain pada 2024 yang akan menentukan arah dunia ke depan adalah pilpres di Taiwan yang telah digelar pada 13 Januari lalu. Lai Ching-te dari Partai Progresif Demokratik (DPP) dengan bantuan Amerika Serikat (AS) keluar sebagai pemenangnya. Pilpres lainnya adalah pilpres di Rusia yang akan digelar pada Maret, yang diramalkan akan dimenangkan oleh Vladimir Putin). Terakhir, adalah pilpres di AS pada November, katanya. Baca juga: Pamer Capaian Jokowi, Airlangga: Sudah Jelas yang Bisa Lanjutkan Program Pemerintah Cuma Prabowo-Gibran Empat pilpres pada 2024 itu, sebut Anis Matta akan menentukan arah dunia karena ada pendalaman krisis global yang berbeda dari sebelumnya. Nah, pemimpin yang dihasilkan dari empat pilpres yang sangat penting di seluruh dunia pada tahun 2024 ini, akan sangat menentukan arah dunia. Insya Allah, pilpres yang akan berlangsung di Indonesia dimenangkan oleh Pak Prabowo satu putaran, tegasnya. Anis Matta berharap agar umat Islam memiliki kesadaran geopolitik, karena hal itu telah diajarkan Al Quran seperti ketika turunnya Surah Ar-Rum, yang mengabarkan bahwa umat Islam akan berperang menghadapi Imperium Romawi pada 13 tahun kemudian atau pascapengangkatan Rasulullah SAW sebagai nabi. Rasulullah SAW menjadi nabi itu selama 22 tahun 22 bulan dan 22 hari. Dan tahun ketujuh di Mekkah, beliau diangkat nabi, sudah turun Surat dalam Al Quran, yaitu Surat Ar-Rum. Satu surat yang bicara tentang bangsa lain, yaitu bangsa Romawi. Kenapa Al Quran bercerita tentang bangsa Romawi, padahal umat Islam ketika itu masih buta huruf dan terisolir? katanya. Baca juga: Soal Video Sekda Takalar Kampanye Prabowo-Gibran, Bawaslu Tak Temukan Pelanggaran Lalu, lanjut dia, 13 tahun kemudian, umat Islam terlibat terlibat pertempuran hebat dengan bangsa Romawi yang mengakibatkan Romawi hilang dari peta dunia. Sehingga Al Quran mengajarkan kepada umat Islam agar memiliki pandangan yang luas mengenai kesadaran geopolitik. Menurutnya, kesadaran geopolitik ini penting agar umat Islam bisa memilih pemimpin yang tepat. Sebab, dunia saat ini berada di ambang perang global yang terjadi di kawasan-kawasan. Di Afrika sudah, Eropa sedang berlangsung, di Timur Tengah juga sekarang sedang berlangsung. Dan perlu diingat, dengan terpilihnya Presiden Taiwan yang didukung AS, situasi di kawasan kita akan semakin panas. Hubungan AS dan China akan semakin tegang dan panas, ujarnya. Artinya, jelas dia, Indonesia yang berada di kawasan Asia-Pasifik yang bisa saja menjadi salah satu medan tempur (battleground) bagi negara-negara adidaya dunia. Pemimpin Indonesia terpilih pun harus bisa menyiapkan diri menghadapi skenario tersebut. Baca juga: Program Makan Siang Gratis Prabowo-Gibran, Solusi atau Peluang Timbulkan Masalah Baru? Karena itu, apa yang sudah dilakukan Pak Prabowo dan Presiden Joko Widodo yang mengakhiri pembelahan luar biasa dalam dua pilpres lalu adalah hal yang tepat. Kemudian mereka berdua bersatu, sehingga bisa menyelamatkan Indonesia, katanya. ',\n",
       "                                  'Wakil Ketua Tim Kampanye Nasional (TKN) Prabowo Subianto-Gibran Rakabuming Raka, Ahmad Muzani, menyebutkan, Prabowo-Gibran sudah sah menjadi presiden dan wapres 2024-2029 setelah Mahkamah Konstitusi (MK) menolak gugatan dari kubu paslon 01 dan 03 terkait sengketa Pilpres 2024. Kita baru saja mendengar keputusan MK tentang sengketa pilpres yang diajukan paslon 01 dan 03. Upaya ini adalah upaya yang dimungkinkan oleh konstitusi dan upaya ini adalah upaya terakhir yang diberikan oleh pasangan capres untuk menggugat tentang sengketa pilpres, ujar Muzani dalam jumpa pers di Medcen TKN Prabowo-Gibran, Jakarta Selatan, Senin (22/4/2024). Dengan diputuskannya MK, di mana pasangan 02 yakni pasangan capres Prabowo Subianto bersama dengan Gibran Rakabuming Raka sebagai capres dinyatakan sah sebagai presiden RI dan wakil presiden RI pemenang dalam Pilpres 2024 yang baru kemarin kita laksanakan, kata dia. Baca juga: MK Tolak Gugatan Anies dan Ganjar, Yusril: Kami Sudah Ramal sejak Awal Muzani menyampaikan, pihaknya menghormati semua ikhtiar dan upaya yang dilakukan oleh kubu Anies-Muhaimin dan Ganjar-Mahfud yang ingin menempuh jalan keadilan. Dia menyebutkan, pihaknya menjunjung tinggi hak konstitusi tersebut. Akan tetapi, ketika keputusan MK sudah dibacakan, sebagai akhir keputusan tersebut, kami mohon putusan MK itu mohon dihormati dan dijunjung tinggi. Karena sifat dari keputusan MK adalah bersifat final dan mengikat, kata Muzani. Maka dari itu, Muzani kembali menekankan Prabowo-Gibran sudah sah menjadi presiden dan wapres RI 2024-2029. Baca juga: Ganjar Beri Selamat ke Prabowo-Gibran, Ingatkan Banyak PR Harus Diselesaikan Dia turut mengucapkan terima kasih kepada semua rakyat Indonesia yang telah mengikuti proses persidangan di MK secara terbuka dan fair. Kami ucapkan terima kasih kepada KPU, Bawaslu, DKPP. Kami juga ucapkan terima kasih kepada aparat kepolisian RI, TNI. Kami juga ucapkan terima kasih kepada seluruh insan pers yang terus-menerus memberitakan tentang berbagai macam persidangan yang terjadi di MK, kata dia. ',\n",
       "                                  'Menteri Pendayagunaan Aparatur Negara dan Reformasi Birokrasi (PAN-RB) Abdullah Azwar Anas mengaku sempat membahas mengenai revisi Undang-Undang (UU) No. 39/2008 tentang Kementerian Negara saat bertemu dengan Presiden Joko Widodo di Istana Kepresidenan Jakarta, Jumat (28/6/2024). Anas mengatakan, pada prinsipnya pembentukan kementerian akan diselaraskan dengan strategi pencapaian visi dan misi serta kebutuhan presiden di masa mendatang jika disetujui, termasuk Presiden Terpilih Prabowo Subianto. Baca juga: Survei Litbang Kompas: 42,3 Persen Publik Setuju Jumlah Kementerian Tetap 34 Terkait inisiatif UU Kementerian Negara, tadi dibahas bahwa khusus untuk pasal 15 kita tidak akan membahas secara rigid, kecuali memberi ruang kepada bapak presiden election yang akan datang untuk terkait jumlah kabinet disesuaikan dengan efisiensi menjalankan pemerintahan, kata Anas di Istana, Jumat. Anas menuturkan, Kementerian PAN-RB belum dapat menyampaikan pernyataan lebih lanjut karena proses revisi UU Kementerian Negara sedang berjalan. Tetapi menurutnya, secara prinsip ada dua hal yang ditekankan. Pertama, pembentukan kementerian merupakan prerogratif Presiden. Baca juga: Penambahan Jumlah Kementerian dan Hak Prerogatif Presiden Kedua, pembentukan kementerian akan berbasis pada efektivitas pemerintahan, termasuk terkait optimalisasi tugas-fungsi yang ada di masing-masing kementerian untuk digerakkan dalam rangka mencapai target kinerja pemerintahan dan pembangunan nasional. Terkait dengan Pasal 15 itu bahwa kita tidak akan lebih rigid lagi soal jumlah, tapi disesuaikan dengan kebutuhan presiden dan skala prioritas berdasarkan strategi. Dan tentu harapannya agar penyelenggara daerah tetap efisien dan efektif, ucap dia. Anas menambahkan, sesuai arahan Presiden Jokowi, saat ini pemerintah terus melakukan penguatan tata kelola pemerintahan dan proses bisnis yang efektif melalui koordinasi dan kolaborasi antar kementerian dan lembaga. Baca juga: Survei Litbang Kompas: Jumlah Kementerian Era Jokowi Dianggap Sudah Ideal Pemerintah, kata dia, fokus pada tata kelola agar berjalan baik dan berdampak ke rakyat. Intinya berdampak, bisa dirasakan rakyat, seperti berulangkali disampaikan Presiden Jokowi. Contohnya beberapa hari lalu pemerintah meluncurkan digitalisasi perizinan event sebagai hasil pemangkasan proses bisnis dan kolaborasi lintas kementerian, sebutnya. Sebagai informasi, Dewan Perwakilan Rakyat (DPR) telah menyetujui rencana revisi UU tersebut menjadi rancangan UU inisiatif DPR. ',\n",
       "                                  'Calon presiden (capres) nomor urut 1 Anies Baswedan mengaku, dia tidak keberatan ketika Komisi Pemilihan Umum (KPU) RI menetapkan Prabowo Subianto-Gibran Rakabuming Raka sebagai Presiden-Wakil Presiden terpilih untuk periode 2024-2029. Hal ini ditegaskan Anies ketika ditanya wartawan terkait Prabowo yang menyebutnya berat saat tersenyum di acara penetapan presiden-wakil presiden terpilih oleh KPU. Kalau itu tanyakan ke beliau, kan beliau yang ngalamin. Kalau kita kan biasa-biasa saja, kata Anies di halaman Kantor KPU, Jakarta, Rabu (24/4/2024). Adapun Prabowo-Gibran ditetapkan sebagai presiden dan wakil presiden terpilih melalui Keputusan KPU Nomor 504 Tahun 2024 yang meliputi perolehan suara di 38 provinsi dan 128 wilayah di luar negeri. Baca juga: Sapa Anies-Muhaimin, Prabowo: Saya Pernah di Posisi Anda, Senyuman Anda Berat Sekali Penetapan ini dilakukan setelah gugatan sengketa Pilpres 2024 yang diajukan Anies Baswedan-Muhaimin Iskandar dan Ganjar Pranowo-Mahfud MD ditolak Mahkamah Konstitusi (MK). Dalam pidato perdana usai ditetapkan KPU, Prabowo pun menyapa Anies Baswedan-Muhaimin Iskandar sebagai calon presiden dan calon wakil presiden (capres-cawapres) nomor urut 1. Prabowo mengakui, banyak pihak mungkin lelah dan tidak puas serta kecewa atas hasil pemilu. Dia kemudian bergurau dengan Anies dan cawapres pendampingnya, Muhaimin Iskandar, yang turut hadir dalam acara penetapannya. Baca juga: Momen Prabowo Guncangkan Badan Anies Sambil Tertawa Usai Jadi Presiden Terpilih Prabowo mengatakan, dia pernah berada pada posisi Anies dan Muhaimin saat ini. Mas Anies, Mas Muhaimin, saya pernah ada di posisi Anda. Saya tahu senyuman Anda berat sekali itu, kata Prabowo dibalas tawa semua hadir, termasuk senyuman Gibran Rakabuming yang mendampinginya di sisi mimbar. Namun demikian, menurut Prabowo, kompetisi yang sengit itu lah yang diinginkan oleh para pemilih. Dia mengatakan, rakyat akan selalu menuntut pilihan dan perbandingan dalam setiap pemilu. Kalau kontestasi adem-adem saja saja, kalau kontestan itu tidak tajam dan tidak keras, namanya bukan pilihan untuk rakyat, ujar dia. Saya terima kasih kepada Mas Anies dan Mas Muhaimin, juga saya terima kasih kepada Mas Ganjar dan Profesor Mahfud, kata Prabowo lagi. Baca juga: Jadi Presiden Terpilih, Prabowo Terima Kasih ke Anies-Muhaimin dan Ganjar-Mahfud ',\n",
       "                                  'Pengamat politik dari UIN Syarif Hidayatullah Adi Prayitno memprediksi presiden terpilih 2024-2029 Prabowo Subianto akan memilih PDI-P ketimbang Presiden Joko Widodo. Adi meyakini hal tersebut bakal terjadi usai Jokowi lengser dan Prabowo resmi dilantik menjadi presiden pada 20 Oktober 2024. Rasa-rasanya setelah 20 Oktober, Prabowo ini akan jauh memprioritaskan PDI-P ketimbang Jokowi yang sudah tak lagi jadi presiden, ujar Adi dalam program Obrolan Newsroom Kompas.com, Selasa (30/4/2024). Tapi per hari ini, saya membaca Prabowo masih cukup menghargai dan menjadikan Jokowi sebagai variabel penting. Karena sampai tanggal 20 saya kira Jokowi masih jadi presiden, sambungnya. Baca juga: Projo Ungkap Kemungkinan Jokowi Akan Gabung Parpol Lain Setelah Tak Dianggap PDI-P Menurut Adi, ketika Jokowi sudah tidak menjadi sosok penting bagi Prabowo, potensi PDI-P bergabung ke pemerintahan terbuka. Sebaliknya, jika nantinya Jokowi masih ikut campur dalam pemerintahan Prabowo-Gibran, PDI-P tidak akan senang untuk ikut berkoalisi. Oleh karena itu, setidaknya PDI-P barrier politiknya bagaimana hubungan Prabowo dan Jokowi. Kalau sudah tak baik-baik saja, bukan tidak mungkin PDI-P itu akan jadi bagian dari koalisi, kata Adi. Maka dari itu, Adi meminta publik melihat apa yang terjadi setelah Jokowi menyerahkan kursi presiden kepada Prabowo pada 20 Oktober 2024. Baca juga: Sekjen PDI-P: Banyak Pengurus Ranting Minta Pertemuan Megawati-Jokowi Tak Terjadi Adi meyakini bahwa Prabowo pasti akan mengedepankan dukungan yang berlimpah di parlemen. Dari situ, kata dia, bisa terlihat apakah Jokowi masih dianggap sosok yang penting atau tidak bagi Prabowo. Karena kalau mau jujur, Prabowo ini pasti akan bicara ke depan, bagaimana mendapatkan dukungan berlimpah, dukungan politik, dukungan partai solid, sehingga semua keputusan politik bisa berjalan dengan baik, jelasnya. Adi meyakini bahwa Gerindra dan Prabowo tidak nyaman jika PDI-P berada di luar kekuasaan. Pasalnya, PDI-P merupakan partai pemenang Pileg 2024 dan pemilik kursi terbanyak di parlemen. Mereka juga berpengalaman sebagai oposisi. Mereka bisa kritis dan selalu bisa resisten setiap keputusan politik Prabowo, kata Adi. Pasca (Jokowi) tak lagi jadi presiden, Prabowo akan memilih, lebih penting mana antara PDI-P dan Pak Jokowi, imbuhnya. ',\n",
       "                                  'Presiden Joko Widodo melakukan penyematan pangkat Jenderal Kehormatan kepada Menteri Pertahanan (Menhan) Prabowo Subianto pada Rabu (28/2/2024). Acara penyematan digelar saat rapat pimpinan (rapim) TNI-Polri di Markas Besar (Mabes) TNI, Cilangkap, Jakarta Timur. Prosesi pemberian gelar Jenderal Kehormatan diawali pengumuman pemberian gelar kehormatan kepada Presiden. Baca juga: Diberhentikan dari Militer, Gelar Jenderal Kehormatan Prabowo Dipertanyakan Setelah itu, Jokowi menyematkan lencana dan tanda bintang di bahu dan pundak Prabowo yang mengenakan seragam TNI lengkap. Kepala Negara pun menyalami Menhan Prabowo sambil mengucapkan selamat. Dengan demikian, Prabowo melengkapi jabatan militernya sebagai Jenderal Bintang 4. Pangkat terakhir Prabowo di TNI sebelum pensiun yakni, Letnan Jenderal (Letjen). Pemberian gelar kehormatan untuk Prabowo diumumkan Jokowi saat menyampaikan sambutan.  Dalam kesempatan yang baik ini, dalam kesempatan yang berbahagia ini, saya ingin menyampaikan penganugerahan kenaikan pangkat secara istimewa berupa Jenderal TNI kehormatan kepada Bapak Prabowo Subianto, ujar Jokowi. Penganugerahan ini adalah bentuk penghargaan sekaligus peneguhan untuk berbakti sepenuhnya kepada rakyat, kepada bangsa dan kepada negara. Saya ucapkan selamat kepada Bapak Jenderal Prabowo Subianto, lanjutnya. Acara penganugerahan pangkat Jenderal Kehormatan kepada Prabowo ini dihadiri Panglima TNI Jenderal Agus Subiyanto, Kapolri Jenderal Listyo Sigit Prabowo, Kepala Staf Angkatan Darat Jenderal Maruli Simanjuntak, Kepala Staf Angkatan Laut Laksamana Mohammad Ali, dan Kepala Staf Angkatan Udara Marsekal Fadjar Prasetyo. Selain itu hadir pula Wakil Menteri Pertahanan Muhammad Herindra, Baca juga: Langkah Jokowi Jadikan Prabowo Jenderal Kehormatan Bisa Mencoreng TNI Wakil Ketua MPR Ahmad Muzani dan Ketua Komisi I DPR RI Meutia Hafidz Diketahui, pangkat terakhir Prabowo adalah Letnan Jenderal (Purn) atau bintang tiga. Dengan demikian, mantan Komandan Jenderal Kopassus dan Panglima Kostrad itu akan menyandang bintang empat.  ',\n",
       "                                  'Menteri Pertahanan (Menhan) Prabowo Subianto berdiri dan memberikan hormat saat Presiden Joko Widodo (Jokowi) menyapanya saat memberikan amanat selaku inspektur upacara dalam peringatan Hari Ulang Tahun (HUT) ke-78 Bhayangkara di Lapangan Monas, Jakarta, Senin (1/7/2024). Presiden Jokowi awalnya menyapa Wakil Presiden (Wapres) Maruf Amin dan Ibu yang hadir. Lalu, Ibu Negara ke-4 Ibu Sinta Nuriah dan Wapres ke-10 dan 12 RI Jusuf Kalla. Yang saya hormati Presiden terpilih RI Bapak Prabowo Subianto, kata Jokowi dikutip dari Kompas TV, Senin. Disapa oleh Jokowi, Prabowo yang duduk di bangku para undangan lantas berdiri dan memberikan hormat. Kemudian, duduk kembali. Baca juga: Hadiri HUT Bhayangkara Ke-78, Prabowo Berjalan Berdampingan dengan Puan Maharani Ini bukan kali pertama Presiden Jokowi menyapa Prabowo sebagai Presiden RI terpilih di acara penting. Jokowi pernah mengenalkan Prabowo sebagai suksesornya kepada tamu-tamu internasional saat membuka World Water Forum (WWF) ke-10 di Nusa Dua, Bali pada 20 Mei 2024. Menggunakan bahasa Inggris, Jokowi menyebut bahwa Prabowo yang saat ini menjabat Menteri Pertahanan bakal melanjutkan komitmen Indonesia terhadap pengelolaan air. Sehubungan dengan kelanjutannya pada bulan Oktober masa jabatan saya sebagai presiden akan berakhir. Dan pada kesempatan yang baik ini izinkan saya memperkenalkan Presiden Terpilih Indonesia Bapak Prabowo Subianto, kata Jokowi dalam pidatonya. Diperkenalkan oleh Jokowi, Prabowo lantas berdiri dari kursinya. Dia menangkupkan kedua tangannya seraya memutar badannya untuk memberikan salam pada para kepala negara, delegasi hingga tamu undangan yang menghadiri pembukaan WWF ke-10 di Bali.  Baca juga: Hari Bhayangkara ke-78 di Monas, Prabowo Hadir meski Baru Saja Dioperasi Senyum tipis juga sesekali terlihat di wajah Ketua Umum Partai Gerindra tersebut. Prabowo juga sempat menundukkan badan kepada Jokowi setelah memperkenalkannya sebagai Presiden RI berikutnya. Kemudian, disaksikan dari tayangan Kompas TV, Prabowo kembali duduk setelah sesi perkenalan tersebut selesai. Terima kasih, Pak Prabowo, ujar Jokowi setelah sesi perkenalan tersebut. Sementara itu, Prabowo diketahui baru menjalani operasi karena cidera kaki di Rumah Sakit Pusat Pertahanan Negara (RSPPN) Panglima Besar Soedirman, Jakarta Selatan, pada pekan lalu. Namun, Prabowo terlihat berjalan cukup cepat saat memasuki tempat upacara HUT ke-78 Bhayangkara. Prabowo tampak berjalan dua baris di belakang Presiden Jokowi dan Ibu Iriana Jokowi. Selain itu, dia terlihat berjalan berdampingan dengan Ketua DPR RI Puan Maharani. Baca juga: Presiden RI yang Pernah Jalani Operasi Saat Menjabat dan Sudah Lengser Selain Prabowo, sejumlah menteri juga tampak hadir. Seperti Menteri Pekerjaan Umum dan Perumahan Rakyat (PUPR) Basuki Hadimuljono, Menteri Sekretariat Negara (Mensesneg) Pratikno, Menteri Investasi Bahlil Lahadahlia, Menteri Perdagangan Zulkifli Hasan, dan Menteri Koordinator Bidang Pembangunan Manusia dan Kebudayaan (Menko PMK) Muhadjir Effendy. Lalu, Menteri Agraria dan Tata Ruang (ATR) Agus Harimurti Yudhoyono (AHY), Menteri Pendayagunaan Aparatur Negara dan Reformasi Birokrasi Azwar Anas, Jaksa Agung ST Burhanuddin, dan Ketua MPR RI Bambang Soesatyo. Nampak juga hadir Wakil Presiden ke-10 dan 12 RI Jusuf Kalla, Istri Presiden ke-4 RI Abdurrahman Wahid atau kerap disapa Gus Dur, Ibu Sinta Nuriyah, dan Wakil Presiden ke-6 RI Try Sutrisno. Kemudian, Ketua Komisi Pemilihan Umum (KPU) Hasyim Asyari, Ketua Badan Pengawas Pemilu (Bawaslu) Rahmat Bagja, Ketua Dewan Kehormatan Penyelenggara Pemilu (DKPP) Hedy Lugito. Baca juga: Ekspresi Prabowo Diperkenalkan Jokowi sebagai Presiden Terpilih di WWF Ke-10 di Bali ',\n",
       "                                  'Para sesepuh Komando Pasukan Khusus (Kopassus) berkumpul saat merayakan hari ulang tahun (HUT) ke-72 Korps Baret Merah pada Selasa (30/4/2024), termasuk Menteri Pertahanan RI sekaligus presiden terpilih Prabowo Subianto. Prabowo, yang merupakan Komandan Jenderal Kopassus periode 1995-1998, disambut para sesepuh Korps Baret Merah lain saat tiba di Lapangan Markas Besar Kopassus, Cijantung, Jakarta Timur, sekira pukul 08.06 WIB. Ia didampingi Panglima TNI Jenderal Agus Subiyanto, Kapolri Jenderal Listyo Sigit Prabowo, dan Komandan Jenderal Kopassus Mayjen Djon Afriandi saat menuju tenda yang menjadi lokasi para sesepuh menyaksikan upacara peringatan HUT Kopassus. Menteri Kesehatan RI Budi Gunadi Sadikin juga hadir di lokasi. Baca juga: Kenakan Baret Merah, Prabowo Hadiri Perayaan HUT Ke-72 Kopassus di Cijantung Sementara itu, para sesepuh yang tampak hadir seperti Jenderal (Purn) Agum Gumelar (eks Menhan dan Danjen Kopassus), Staf Khusus Menhan Letjen (Purn) Sjafrie Sjamsoeddin, hingga Letjen (Purn) Sintong Panjaitan (eks penasihat presiden dan Danjen Kopasssus). Kemudian, para senior Kopassus yang masih aktif menjabat dan hadir di lokasi seperti Kepala Staf TNI AD Jenderal Maruli Simanjuntak, Wakil Kepala BIN Letjen I Nyoman Cantiasa, Panglima Komando Gabungan Wilayah Pertahanan III Letjen Richard Tampubolon, hingga Komandan Pusat Kesenjataan Infanteri TNI AD Letjen Teguh Muji Angkasa. Tampak pula eks Danjen Kopassus yang lain seperti Mayjen Deddy Suryadi (Pangdam IV/Diponegoro) dan Mayjen (Purn) Soenarko. Dalam kesempatan itu, Prabowo disambut tepuk tangan usai Panglima Agus menyebut dirinya sebagai presiden terpilih. Yang Terhormat, presiden terpilih Republik Indonesia periode 2024-2029 Jenderal TNI Purnawirawan Prabowo Subianto, kata Agus yang disambut tepuk tangan para senior Kopassus. Baca juga: Mengenal Sosok Eks Danjen Kopassus Soenarko yang Demo di KPU, Pernah Dituduh Makar pada Masa Pilpres 2019   Perayaan HUT Kopassus kali ini juga dimeriahkan defile pasukan Korps Baret Merah yang diiringi pertunjukkan alat utama sistem persenjataan (alutsista). Setelah itu, juga dilakukan pemutaran video lagu prajurit Kopassus untuk Prabowo. Para prajurit yang menciptakan lagu diberi plakat oleh Prabowo. Usai upacara, Prabowo meninggalkan lokasi dan tidak mengeluarkan pernyataan apa pun kepada awak media. Acara perayaan HUT Kopassus kemudian ditutup dengan para sesepuh dan pejabat senior Kopassus menaiki mobil taktis menuju ke Gedung Nanggala. Menteri Koordinator Bidang Kemaritiman dan Investasi (Menko Marves) Luhut Binsar Pandjaitan tampak menaiki mobil paling depan dan disopiri Danjen Kopassus Djon Afriandi. ',\n",
       "                                  'China menjadi negara pertama yang dikunjungi Menteri Pertahanan (Menhan) sekaligus calon presiden (capres) nomor urut 2 Prabowo Subianto usai menang dalam Pemilihan Presiden (Pilpres) 2024. Prabowo telah tiba di Beijing, China, Minggu (31/3/2024). Setibanya di Bandara Beijing, Prabowo langsung disambut oleh Wakil Menteri Luar Negeri Sun Weidong, Duta Besar China untuk Indonesia Lu Kang, dan Atase Pertahanan RI di Beijing Brigjen TNI (Mar) Benny Poltak. Turut hadir dalam kunjungan tersebut, Wakil Ketua Komisi I DPR RI Sugiono, Asisten Khusus Menhan bidang Manajemen Pertahanan Letjen TNI (Purn) Sjafrie Sjamsoeddin, dan Kepala Bais TNI Letjen Yudi Abrimantyo.   Thank you very much, ujar Prabowo kepada anak kecil tersebut, dikutip dari keterangan resmi Kemenhan, Senin (1/4/2024). What is your name? How old are you? katanya lagi. Baca juga: Prabowo Tiba di China, Temui Xi Jinping Hari Ini Kemudian, Prabowo menuju hotel The Peninsula Beijing dan disambut ramah oleh Dubes RI untuk China Djauhari Oratmangun, Kabaranahan Kemenhan, Kabainstrahan Kemenhan, Dirjen Strahan Kemenhan, dan Dirjen Renhan Kemenhan. Pada hari ini, Senin (1/4/2024), Prabowo dijadwalkan bertemu Presiden China Xi Jinping. Kepala Biro Setjen Humas Kemenhan Brigjen Edwin Adrian Sumantha menyebut kunjungan Prabowo ke Negeri Tirai Bambu bertujuan untuk mempererat hubungan bilateral kedua negara. Tujuan utama dari kunjungan ini adalah untuk mempererat hubungan bilateral antara Indonesia dan China serta meningkatkan kerja sama di bidang pertahanan, ujar Edwin. Baca juga: Dijadwalkan Bertemu Xi Jinping, Prabowo Akan Bahas Kerja Sama Bidang Pertahanan Edwin mengatakan, kunjungan Prabowo bagian dari upaya berkelanjutan kedua negara dalam memperkuat dialog dan kerja sama strategis yang sangat penting bagi keamanan dan stabilitas regional. Setelah bertemu Xi Jinping, Prabowo akan bertemu Menteri Pertahanan China Admiral Dong Jun, Selasa (2/4/2024). ',\n",
       "                                  \"Perkara sengketa hasil Pemilihan Presiden (Pilpres) 2024 sudah tuntas dengan dibacakannya putusan oleh Mahkamah Konstitusi (MK) pada Senin (22/4/2024). Dalam sidang putusan yang digelar di Gedung MK, Jakarta, seluruh permohonan yang diajukan calon presiden (capres) dan wakil presiden (cawapres) nomor urut 1 Anies Baswedan-Muhaimin Iskandar dan capres dan cawapres nomor urut 3 Ganjar Pranowo-Mahfud MD ditolak. Setelah persidangan sengketa selesai, Komisi Pemilihan Umum (KPU) segera menetapkan capres dan cawapres nomor urut 2 Prabowo Subianto dan Gibran Rakabuming Raka sebagai presiden dan wakil presiden (wapres) terpilih. Baca juga: PDI-P Minta Penetapan Prabowo-Gibran Ditunda, KPU: Pasca-MK Tak Ada Pengadilan Lagi Menurut rencana, penetapan Prabowo-Gibran sebagai presiden dan wakil presiden terpilih akan dilakukan pada Rabu (24/4/2024). Tahapan berikutnya untuk pilpres adalah penetapan pasangan calon presiden dan wakil presiden terpilih Pemilu 2024 yang diagendakan KPU akan dilaksanakan pada hari Rabu tanggal 24 April 2024 jam 10.00 WIB dilaksanakan di kantor KPU, kata Ketua KPU Hasyim Asy'ari di Gedung MK, Jakarta, Senin lalu. Salah satu Komisioner KPU, Idham Kholik, mengatakan, mereka mempunyai waktu tiga hari buat melakukan penetapan presiden dan wakil presiden. Mereka akan menerima salinan putusan MK terkait perkara sengketa hasil Pilpres 2024 paling lambat tiga hari setelah dibacakan. Waktu pelantikan Prabowo-Gibran menjadi presiden dan wakil presiden periode 2024-2024 juga sudah dijadwalkan. Menurut Idham, proses pelantikan mengacu pada Pasal 8 ayat (1) Peraturan KPU Nomor 6 Tahun 2024. Baca juga: Gibran Temui Prabowo di Kertanegara Jelang Penetapan Presiden-Wapres Terpilih KPU juga mengundang Presiden Joko Widodo (Jokowi) dan Wakil Presiden Ma'ruf Amin, partai pengusung, tim kampanye, dan Badan Pengawas Pemilihan Umum (Bawaslu) dalam kegiatan itu. Presiden Jokowi merupakan ayah Gibran. KPU menetapkan pasangan Prabowo-Gibran sebagai pemenang Pilpres 2024 usai proses rekapitulasi penghitungan perolehan suara tingkat nasional pada 22 Maret 2024. Menurut data KPU, Prabowo-Gibran memperoleh 96.214.691 suara, atau sekitar 58,58 persen dari seluruh suara sah nasional. Rival mereka, Anies Baswedan-Muhaimin Iskandar, memperoleh 40.971.906 suara atau sekitar 24,95 persen dari seluruh suara sah nasional. Sementara itu, pasangan Ganjar Pranowo-Mahfud MD memperoleh suara sebanyak 27.040.878 suara, atau sekitar 16,47 persen dari seluruh suara sah nasional. Baca juga: Proses di PTUN Masih Berjalan, PDI-P Minta KPU Tunda Penetapan Prabowo-Gibran Prabowo-Gibran belum mulai bertugas setelah ditetapkan sebagai presiden dan wakil presiden terpilih. Menurut Peraturan KPU (PKPU) Nomor 3 Tahun 2022 tentang Tahapan dan Jadwal Penyelenggaraan Pemilihan Umum Tahun 2024, Prabowo-Gibran baru menjalankan tugas kenegaraan setelah dilantik pada 20 Oktober 2024. Meski begitu, pasangan Prabowo-Gibran disebut bakal mulai mempersiapkan peralihan dari pemerintahan Presiden Joko Widodo (Jokowi) yang semakin mendekati masa akhir periode kedua kepemimpinannya. Menurut Ketua Umum Partai Amanat Nasional (PAN) Zulkifli Hasan, Prabowo yang saat ini menjabat sebagai Menteri Pertahanan (Menhan) mulai bekerja sebagai presiden terpilih. Baca juga: Cak Imin Mengaku Belum Dapat Undangan KPU untuk Penetapan Prabowo-Gibran Enggak ada lagi (tim transisi). Jadi nanti, sekarang sudah mulai kok. Pak Prabowo sudah mulai bekerja kan. Setiap rapat apa pun Pak Prabowo sudah ikut. Rapat di Istana, Pak Prabowo ikut sudah. Jadi nanti lanjut langsung, ujar Zulkifli di Kantor DPP PAN, Jakarta Selatan, Selasa (23/4/2024). Enggak ada tim transisi. Dulu transisi dari Pak SBY ke Pak Jokowi kan. Kalau sekarang enggak, lanjut. Orang-orangnya kan udah (ada dalam kabinet saat ini), kata dia. Zulkifli juga belum mau memaparkan soal susunan kabinet bayangan pemerintahan Prabowo-Gibran. Menurut dia, hal itu kemungkinan akan disampaikan langsung oleh Prabowo karena mempunyai hak prerogatif buat menentukan susunan kabinet. Baca juga: Golkar Belum Mau Bahas Jatah Menteri, Airlangga: Tunggu Penetapan KPU Ya itu presiden terpilih yang akan menyampaikan. Ini siapa, siapa itu, hak beliau. Enggak ada ukurannya harus 10, ini harus 20. Enggak begitu, ujar Zulkifli. \",\n",
       "                                  \"Presiden terpilih Prabowo Subianto mengatakan bahwa sektor pendidikan dan kesehatan akan menjadi fokus bagi pemerintahannya lima tahun ke depan. Hal itu diungkap Prabowo setelah menerima arahan dari Presiden Joko Widodo (Jokowi) dalam sidang kabinet paripurna beberapa waktu lalu. Sesuai arahan Presiden RI @jokowi pada Sidang Kabinet Paripurna yang lalu, Sektor Pendidikan dan Kesehatan akan terus menjadi fokus bersama Pemerintah ke depan, tulis Prabowo dalam unggahan lewat akun Instagramnya, @prabowo, Kamis (27/6/2024) petang. Baca juga: PDI-P: Tak Ada Tawaran Ganjar Jadi Menteri Prabowo Dalam sidang kabinet yang digelar di Istana Negara, Jakarta Pusat, Senin (24/6/2024), Presiden Jokowi dan Prabowo duduk berdampingan. Plt Deputi Protokol dan Pers Media Istana, Yusuf Permana mengatakan, Prabowo diberi tempat duduk di samping Jokowi karena berstatus sebagai presiden terpilih. Baca juga: Anies Ingin Bertemu Prabowo Sebelum Pilkada 2024, Demokrat: Kita Harus Sambut Baik Biasanya, Prabowo selaku Menteri Pertahanan tidak duduk sejajar dengan Jokowi, melainkan duduk bersama para menteri lainnya di hadapan presiden. Pejabat yang duduk sejajar dengan Jokowi biasanya adalah Wakil Presiden Ma'ruf Amin beserta empat menteri koordinator. Namun, pada rapat tersebut, Ma'ruf Amin dan empat menteri koordinator turut hadir dan duduk dalam satu deret dengan Jokowi dan Prabowo. \",\n",
       "                                  'Presiden RI Joko Widodo (Jokowi) tidak hadir dalam sidang Pengadilan Tata Usaha Negara (PTUN) terkait gugatan pangkat kehormatan Jenderal TNI bintang empat yang ia berikan kepada Menteri Pertahanan RI Prabowo Subianto. Pihak Penggugat dari Komisi untuk Orang Hilang dan Korban Tindak Kekerasan (KontraS) Jane Rosalina, mengatakan pihak Jokowi pun belum memberikan kuasa kepada pihak jaksa pengacara negara untuk persidangan. Presiden belum memberikan kuasa kepada pihak jaksa pengacara negara, ucap Jane kepada wartawan di PTUN, Jakarta Timur, Kamis (20/6/2024). Baca juga: Prabowo Mangkir Panggilan PTUN soal Gugatan Bintang 4, Pilih Hadiri Penyematan Bintang Bhayangkara Utama Polri Selain itu, Menteri Pertahanan Prabowo Subianto juga mangkir dari panggilan PTUN Jakarta soal gugatan tersebut. Karena ketidakhadiran pihak Jokowi dan Prabowo, Jane menyebut majelis hakim akan menunda persidangan. Namun kemudian majelis hakim menyatakan sidang ini ditunda karena pihak dari tergugat belum hadir, belum memberikan kuasanya, ucap Jane. Pihak intervensi yang minggu lalu sudah dipanggil oleh majelis hakim, yaitu Prabowo Subianto yang seharusnya hari ini hadir ke persidangan, namun hari ini mangkir di persidangan, imbuhnya. Baca juga: Kilas Balik Pengakuan Prabowo Memburu Aktivis 98 Sebelum Jadi Jenderal Kehormatan Sebagai informasi, Koalisi Masyarakat Sipil Melawan Impunitas menggugat pemberian pangkat kehormatan Jenderal TNI bintang empat kepada Menteri Pertahanan RI Prabowo Subianto. Adapun koalisi yang terdiri dari keluarga korban Penghilangan Paksa 1997-1998, KontraS, IMPARSIAL, dan organisasi masyarakat sipil lainnya itu melayangkan gugatannya kepada Presiden RI Joko Widodo ke Pengadilan Tata Usaha Negara (PTUN) Jakarta, pada Selasa (28/5/2024). Kami koalisi masyarakat bersama dengan keluarga korban 1997-1998, melayangkan gugatan kepada Presiden Jokowi atas objek gugatan berupa keputusan tata usaha negara yang ia keluarkan, kata Kepala Divisi Pemantauan Impunitas Kontras, Jane Roslina di Jakarta Timur. Ialah Keputusan Presiden Nomor 13/TNI/24 per tanggal 21 Februari 2024 tentang Penganugerahan Pangkat Secara Istimewa berupa pangkat Jenderal TNI Kehormatan kepada Prabowo Subianto, terangnya. Baca juga: Koalisi Masyarakat Sipil Gugat Pemberian Pangkat Bintang Empat Prabowo ke PTUN Sebelumnya, Presiden RI Joko Widodo telah menganugerahkan pangkat kehormatan Jenderal TNI bintang empat kepada Menteri Pertahanan RI Prabowo Subianto pada 28 Februari 2024. Namun, hal itu dianggap tidak pantas, karena Prabowo selama ini memiliki rekam jejak yang buruk, baik dari sisi karier militer maupun dugaan keterlibatannya dalam peristiwa penculikan dan penghilangan orang secara paksa pada 1997-1998 serta sejumlah pelanggaran berat HAM. Baru saja kita daftarkan gugatannya dan kita akan melihat sejauh mana PTUN berani untuk menguji keputusan yang dilakukan oleh Presiden, ucap Jane. Yang mana kami cermati itu memiliki sejumlah catatan dan bertentangan dengan perundang-undangan, terutama UU TNI, HAM, dan asas umum pemerintahan yang baik, tutur dia. ',\n",
       "                                  \"Presiden Joko Widodo dan presiden terpilih sekaligus Menteri Pertahanan Prabowo Subianto terpantau duduk berdampingan dalam sidang kabinet paripurna di Istana Negara, Jakarta, Senin (24/6/2024). Plt Deputi Protokol dan Pers Media Istana, Yusuf Permana mengatakan, Prabowo diberi tempat duduk di samping Jokowi karena berstatus sebagai presiden terpilih. Iya, karena posisi beliau sebagai presiden terpilih, kata Yusuf kepada wartawan, Senin. Biasanya, Prabowo selaku menteri pertahanan tidak duduk sejajar dengan Jokowi, melainkan duduk bersama para menteri lainnya di hadapan presiden. Baca juga: Jelang Pilkada, Surya Paloh Dua Kali Bertemu Jokowi Pejabat yang duduk sejajar dengan Jokowi biasanya adalah Wakil Presiden Ma'ruf Amin beserta empat menteri koordinator. Pada rapat kali ini, Ma'ruf Amin dan empat menteri koordinator turut hadir dan duduk dalam satu deret dengan Jokowi dan Prabowo. Berdasarkan pantauan Kompas.com, Menteri Koordiantor Bidang Kemaritiman dan Investasi Luhut duduk di bangku paling kanan, diikuti oleh Menteri Koordinator Bidang Perekonomian Airlangga di sebelah kirinya, dan Prabowo yang duduk di sebelah kiri Airlangga. Jokowi menempati kursi tengah, di sebelah kanannya ada Prabowo, sedangkan Ma'ruf Amin duduk di sebelah kiri Jokowi. Menteri Koordinator Bidang Politik Hukum dan Keamanan Hadi Tjahjanto duduk di sebelah kiri Ma'ruf Amin, sedangkan Menteri Koordinator Bidang Pembangunan Manusia dan Kebudayaan Muhadjir Effendy duduk di kursi paling kiri. Baca juga: Jokowi Lemas Saat Tahu Izin Berbelit-belit untuk Gelar MotoGP di Mandalika Dalam sidang kabinet hari ini, Jokowi mengingatkan agar tidak perlu terjadi turbulensi politik yang akan mempengaruhi stabilitas politik di Tanah Air saat masa transisi. Pasalnya, stabilitas politik yang tidak menentu berpotensi menurunkan peringkat daya saing Indonesia dari negara-negara lain di dunia, yang saat ini berada di posisi ke-27 menurut Institute for Management Development World Competitiveness Ranking 2024. Secara khusus yang harus menjadi perhatian yaitu stabilitas politik, ini penting agar jangan sampai ada turbulensi politik agar transisi dari pemerintahan sekarang ke pemerintahan berikut ini mulus dan baik, kata Jokowi. \",\n",
       "                                  'Menteri Pertahanan (Menhan) Prabowo Subianto mendapat tepuk tangan saat Kapolri Jenderal Listyo Sigit Prabowo dalam sambutannya menyapanya sebagai Menteri Pertahanan (Menhan) sekaligus Presiden RI terpilih periode 2024-2029. Hal itu terjadi dalam upacara peringatan Hari Ulang Tahun (HUT) ke-78 Kepolisian Negara Republik Indonesia (Polri) atau Hari Bhayangkara ke-78 di Lapangan Monas, Jakarta, Senin (1/7/2024). Yang kami hormati Menteri Pertahanan sekaligus Presiden terpilih Jenderal TNI (Purn) Prabowo Subianto, kata Listyo Sigit membuka sambutannya dikutip dari tayangan Kompas TV, Senin. Salah satu undangan yang terlihat bertepuk tangan adalah Menteri Koordinator Bidang Politik, Hukum, dan Keamanan (Menko Polhukam) Hadi Tjahjanto. Baca juga: Prabowo Beri Hormat Saat Disapa Jokowi sebagai Presiden RI Terpilih di Upacara HUT Ke-78 Bhayangkara Namun, berbeda saat disapa Presiden Joko Widodo (Jokowi) sebagai Presiden RI terpilih di acara yang sama, Prabowo yang duduk disamping Hadi Tjahjanto kali ini hanya tersenyum kecil. Sebelumnya, Prabowo memberikan reaksi berdiri dan memberikan hormat saat Jokowi menyapanya sebagai Presiden RI terpilih ketika memberikan amanat selaku inspektur upacara Hari Bhayangkara ke-78. Yang saya hormati Presiden terpilih RI Bapak Prabowo Subianto, kata Jokowi dikutip dari Kompas TV, Senin. Sebagaimana diketahui, Prabowo Subianto bersama pendampingnya Gibran Rakabuming Raka telah ditetapkan oleh Komisi Pemilihan Umum (KPU) RI sebagai Presiden dan Wakil Presiden RI terpilih periode 2024-2024. Prabowo-Gibran rencananya bakal dilantik secara resmi sebagai Presiden dan Wakil Presiden RI pada 20 Oktober 2024. Pada gelaran Pemilihan Presiden (Pilpres) 2024, Prabowo-Subianto mengalahkan dua pasangan calon presiden dan wakil presiden lainnya, yakni Anies Baswedan-Muhaimin Iskandar dan Ganjar Pranowo-Mahfud MD. Baca juga: Momen Prabowo Dampingi Jokowi Saksikan Defile Bersama di HUT Bhayangkara ',\n",
       "                                  'Ketua Umum relawan Prabowo Mania dan Jokowi Mania (Joman), Immanuel Ebenezer, meyakini, dukungan Presiden Joko Widodo ke Prabowo Subianto pada Pemilu Presiden (Pilpres 2024) ada kaitannya dengan perjanjian Batu Tulis. Oleh karena Ketua Umum PDI Perjuangan Megawati Soekarnoputri tak memenuhi perjanjian itu lantaran tidak mendukung Prabowo pada Pilpres 2014, Jokowi berupaya membayar utang tersebut. Ada yang namanya perjanjian Batu Tulis, yang isinya, salah satu poinnya, PDI-P akan mengusung Pak Prabowo (sebagai calon presiden). Ternyata dalam prosesnya tidak, kata Noel, demikian sapaan akrab Immanuel, dalam program Sapa Indonesia Pagi Kompas TV, Jumat (26/4/2024). Saya yakin sekali apa yang dilakukan Pak Jokowi cuma ingin membayar utang itu. Kalau Bu Mega tidak mampu membayarnya, biar saya yang membayarnya, ujarnya. Menurut Noel, Presiden berusaha memutus mata rantai kebencian dan dendam masa lalu karena tidak dipenuhinya perjanjian Batu Tulis oleh Megawati. Baca juga: Megawati Tekankan Syarat Kader PDI-P Maju Pilkada, Harus Disiplin, Jujur, dan Turun ke Rakyat Namun, oleh sebagian pihak, dukungan Jokowi ke Prabowo pada Pilpres 2024 justru dianggap sebagai bentuk pengkhianatan Kepala Negara terhadap partainya, PDI-P. Seandainya ada diksi pengkhianatan dan sebagainya, saya rasa enggak ada yang dikhianati, ujar Noel. Noel mengatakan, Jokowi berkali-kali menyampaikan bahwa PDI-P merupakan partai yang melahirkannya. Disebutkan pula bahwa Megawati merupakan sosok orang tua ideologi mantan Gubernur DKI Jakarta itu. Sebagai partai besar, lanjut Noel, PDI-P mestinya mengawal gagasan-gagasan dan cita-cita besar. Menurutnya, sikap PDI-P yang menganggap Jokowi berkhianat terhadap partainya kekanak-kanakan. Akan menjadi partai yang seakan-akan kerdil karena beda pilihan, kemudian itu dianggap sebuah pengkhianatan. Ini tidak baik, kata Noel. Kalau terus bangsa ini menjalankan politik kebencian, dendam, dan sebagainya, akhirnya bangsa ini tidak pernah menemukan yang namanya kedewasaan dalam berdemokrasi, tuturnya. Diberitakan sebelumnya, Ketua Bidang Kehormatan DPP PDI-P Komarudin Watubun mengatakan, Presiden Jokowi tak lagi menjadi bagian dari PDI-P. Hal itu ia sampaikan saat ditanya status Jokowi sebagai kader PDI-P setelah Mahkamah Konstitusi (MK) memutuskan menolak gugatan pasangan calon presiden dan wakil presiden nomor urut 3 Ganjar Pranowo-Mahfud MD terkait sengketa hasil Pemilu Presiden (Pilpres) 2024. Ah, orang (Jokowi) sudah di sebelah sana, bagaimana mau dibilang bagian masih dari PDI Perjuangan? yang benar saja, kata Komarudin ditemui di Kantor DPP PDI-P, Jalan Diponegoro, Menteng, Jakarta, Senin (22/4/2024). Selain Jokowi, Gibran juga ditegaskan tak lagi menjadi kader PDI-P. Menurut Komarudin, keputusan partai mencoret Gibran sebagai kader sudah berlaku sejak resmi menjadi calon wakil presiden Prabowo Subianto. Gibran itu sudah bukan kader partai lagi, saya sudah bilang sejak dia (Gibran) ambil putusan itu (jadi cawapres Prabowo), ujar anggota Komisi II DPR RI ini. Adapun kerenggangan hubungan Jokowi dan keluarga dengan PDI-P ditengarai bermula dari perbedaan sikap pada Pilpres 2024. Gibran menjadi cawapres Prabowo Subianto. Jokowi pun diyakini mendukung putra sulung dan Menteri Pertahanan kabinetnya itu. Sementara, PDI-P mengusung pasangan Ganjar Pranowo-Mahfud MD sebagai capres-cawapres Pilpres 2024. Kendati begitu, pasangan ini kalah dari Prabowo-Gibran. Baca juga: Jokowi Bakal Diberi Posisi Terhormat, PDI-P: Untuk Urusan Begitu, Golkar Paling Sigap ',\n",
       "                                  'Calon presiden (capres) nomor urut 2, Prabowo Subianto berjanji akan membangun 300 fakultas kedokteran jika terpilih menjadi Presiden mulai tahun 2024. Hal ini diungkapkan Prabowo dalam debat kelima pemilihan presiden (Pilpres) di Jakarta Convention Center (JCC) Senayan, Jakarta, Minggu (4/2/2024). Kita akan menambah fakultas kedokteran di Indonesia dari yang sekarang 92 (fakultas), kita akan membangun 300 fakultas kedokteran, kata Prabowo, Minggu. Prabowo menyampaikan, pembangunan fakultas kedokteran itu dilakukan demi mengatasi kekurangan sumber daya dokter di dalam negeri. Baca juga: Siap Hadapi Debat Pilpres Terakhir, Prabowo: Program Utama Kita di Bidang Ini Dia mengungkapkan, Indonesia masih kekurangan 140.000 dokter. Kami akan segera mempercepat mengatasi kekurangan dokter di Indonesia. Kita kekurangan 140.000 dokter dan akan segera kita atasi, ujar Prabowo. Menteri Pertahanan (Menhan) ini juga mengungkapkan, rencana ini merupakan bagian dari rencana besar Prabowo-Gibran yang diberi nama strategi transformasi bangsa. Menurut Prabowo, inti dari strategi ini adalah meningkatkan kemakmuran bangsa Indonesia dan memperbaiki kualitas hidup manusia Indonesia. Baca juga: Wajah Baru Pendukung Prabowo: Ada Sutarman, Terawan Hingga Dudung Abdurachman Di bidang kesehatan, selain membangun fakultas kedokteran, Prabowo pun berjanji akan membangun rumah sakit modern di setiap kabupaten/ kota dan Puskesmas modern di setiap desa. Kita akan mengirim 10.000 anak-anak pintar dari SMA, kita akan beri beasiswa ke luar negeri untuk belajar kedokteran dan 10.000 lagi untuk belajar sains teknologi, kata Prabowo. Diketahui, debat pamungkas Pilpres mengangkat sejumlah tema, yakni, kesejahteraan sosial, kebudayaan, pendidikan, teknologi informasi, kesehatan, ketenagakerjaan, sumber daya manusia, dan inklusi. Debat akan diikuti oleh ketiga calon presiden yaitu Anies Baswedan, Prabowo Subianto, dan Ganjar Pranowo. Baca juga: Siap Hadapi Debat Pilpres Terakhir, Prabowo: Program Utama Kita di Bidang Ini ',\n",
       "                                  'Wakil Ketua Majelis Syura Partai Keadilan Sejahtera (PKS) Hidayat Nur Wahid menilai posisi Anies Baswedan di Pilkada Jakarta 2024 jauh lebih diuntungkan dan berpeluang meraih kemenangan. Hal tersebut karena Anies adalah sosok yang didukung Prabowo Subianto pada Pilkada Jakarta 2017. Di sisi lain Presiden Joko Widodo (Jokowi) sudah tidak lagi menjabat sebagai presiden sejak 21 Oktober 2024. Pada waktu Pilpres kemarin memang Pak Jokowi masih powerfull, karena memang beliau adalah presiden. Tapi nanti waktu Pilkada tanggal 27 November itu per tanggal 21 Oktober itu presidennya sudah bukan lagi Pak Jokowi. Sudah Pak Prabowo, ujar Hidayat dalam program Gaspol di Youtube Kompas.com, dikutip Minggu (30/6/2024). Baca juga: Ridwan Kamil-Kaesang Berpeluang Maju Pilkada Jakarta, PKS: Anies-Sohibul Butuh Lawan Tangguh Dan Pak Prabowo adalah orang yang kemarin mencalonkan Pak Anies sebagai calon gubernur tahun 2017 dan menang, sambungnya. Di samping itu, kata Hidayat, popularitas Anies saat ini sudah jauh meningkat daripada 2017 karena sempat menjadi calon presiden 2024. Kondisi ini dianggap lebih menguntungkan dibandingkan posisi Anies pada 2017, ketika harus berhadapan dengan Basuki Tjahaja Purnama alias Ahok. Hidayat berpandangan, posisi Ahok saat itu lebih diuntungkan karena didukung oleh partai politik yang sedang berkuasa dan memenangkan Jokowi. Baca juga: Demokrat Sarankan Anies Masuk Parpol: Kalau Menang di Jakarta, Bisa Diperjuangkan Maju Capres 2029 Pada tahun 2017. Waktu kami dengan Pak Prabowo, PKS mengajukan Pak Anies dan Pak Sandi. Itu kan lawan kami Ahok dengan didukung oleh semua potensi negara. Ya kita menang tuh, kata Hidayat Padahal waktu itu Pak Anies belum dikenal dalam tanda kutip. Sekarang Pak Anies, apalagi kemarin jadi capres, sangat-sangat dikenal. Jadi saya kira semua orang juga akan menghitung itu. Ngapain juga semua dikerahkan, kalau akan kalah lagi, tutur Hidayat. Atas dasar itu, Hidayat dan PKS meyakini Anies dan bakal calon pasangannya, yakni Sohibul Iman akan bisa mendominasi di Pilkada Jakarta. Di samping itu, sosok Sohibul juga sudah dikenal masyarakat karena rekam jejaknya di dunia politik dan pernah menjadi wakil rakyat di Jakarta. Baca juga: PKS Bakal Temui Cak Imin dan PKB, Bahas Rencana Duet Anies-Sohibul di Pilkada Jakarta Bila kawan-kawan ingin menang ya ini lah! Monggo, pungkas Hidayat. Diberitakan sebelumnya, Presiden PKS Ahmad Syaikhu mengumumkan, partainya akan mengusung Anies Baswedan dan Sohibul Iman sebagai bakal calon gubernur dan bakal calon wakil gubernur pada Pilkada Jakarta 2024. DPP PKS pada rapat di hari Kamis 20 Juni 2024 telah memutuskan mengusung Bapak Anies Rasyid Baswedan sebagai bakal cagub dan Sohibul Iman sebagai bakal calon wakil gubernur DKI Jakarta, kata Syaikhu dalam acara Sekolah Kepemimpinan Partai PKS di Grand Sahid Hotel, Selasa (25/6/2024). Meski begitu, PKS harus tetap berkoalisi dengan partai lain untuk bisa mencalonkan Anies dan Sohibul. Sebab, jumlah kursi yang dimiliki PKS di DPRD Jakarta belum memenuhi syarat untuk mengusung pasangan calon di Pilkada Jakarta. Diketahui, PKS hanya menduduki 18 kursi di DPRD Jakarta periode 2024-2029. Kurang 4 kursi untuk memenuhi syarat ambang batas pencalonan, yakni sebanyak 22 kursi. Di sisi lain, PDI-P mengakui jika nama Anies Baswedan menjadi sosok yang masuk dalam daftar pertimbangan untuk di dukung di Pilkada Jakarta. ',\n",
       "                                  'Presiden terpilih Prabowo Subianto mengoreksi istilah makan siang gratis yang merupakan salah satu program unggulan dirinya bersama wakil presiden terpilih, Gibran Rakabuming Raka. Menurut Prabowo, istilah yang tepat justru makan bergizi gratis untuk anak-anak. Prabowo punya alasan khusus mengapa mengganti istilah tersebut. Saya ingin sedikit koreksi ya. Setelah kita pelajari, ternyata istilah tepat itu adalah makan bergizi gratis untuk anak-anak. Itu lengkapnya ya, kata Prabowo dikutip dari YouTube TV One News, Kamis (23/5/2024). Karena kalau anak sekolah dasar umpamanya masuk pagi, dia kalau nunggu makan siang kan terlalu lama. Jadi harus makan pagi. Ya kan? sambung dia. Baca juga: Delegasi DPR RI Kunjungi Swedia Terkait Program Makan Siang Gratis Prabowo menyadari bahwa banyak anak sekolah yang masuk sejak pagi dan pulang pada siang hari. Maka, jika makan gratis baru dilakukan pada siang hari, hal itu dirasa sia-sia karena anak sekolah sudah pulang. Jadi kalau dia makan siang, itu terlambat, imbuhnya. Meski demikian, Menteri Pertahanan RI ini menekankan bahwa program tersebut intinya adalah memberikan makanan bergizi gratis kepada anak-anak di Indonesia. Menurutnya, setelah dianalisis panjang, program ini juga diyakini mampu berefek baik terhadap masa depan bangsa. Baca juga: Soal Anggaran Makan Siang Gratis, Prabowo: Waktunya Kita Lebih Berani Di lain sisi, Prabowo ingin anak-anak Indonesia tidak ada lagi yang kekurangan gizi karena ada program ini. Dan tidak dapat dipungkiri bahwa sebagian anak-anak kita mengalami kurang gizi. Hitungannya perkiraannya hampir seperempat, 25 persen anak-anak kita mengalami kurang gizi rata-rata. Ini sangat memprihatinkan, ujar Prabowo. Lebih jauh, Ketua Umum Partai Gerindra ini mengungkapkan bahwa ada 76 negara sejauh ini sudah menerapkan program makan gratis kepada anak-anak. Sementara itu, lanjut Prabowo, ada 5-6 negara yang sedang mempersiapkan menjalankan program tersebut. Jadi kalau kita nanti Oktober melaksanakan, kita mungkin bisa menjadi negara ketujuh di luar yang 76 tadi. Ini sangat sangat penting dengan memberi makan untuk anak-anak, mereka jelas akan lebih sehat, jelas akan meningkat kemampuan belajar mereka, yakin Prabowo. Baca juga: Soal Polemik UKT, Prabowo: Kalau Bisa Biaya Kuliah Gratis! Diketahui, program makan siang gratis merupakan salah satu janji dari pasangan Prabowo dan Gibran Rakabuming Raka jika menjadi presiden dan wakil presiden berikutnya. Anggota Dewan Pengarah Tim Kampanye Nasional (TKN) Prabowo-Gibran, Hashim Djojohadikusumo, menyebut biaya program makan siang gratis untuk anak-anak akan mencapai Rp 450 triliun per tahun. Hashim juga memastikan bahwa dana program makan siang gratis tidak akan mengambil dana dari anggaran program bantuan sosial (bansos). Menurut Hashim, dana program makan siang gratis akan menggunakan anggaran baru. Saya bisa katakan karena saya ikut tim pakar, dana ada dan bakal ada, dan ini bukan dari anggaran bansos, aliran bansos. Yang Rp 500 triliun tahun depan itu tetap bansos, kita tidak akan ambil uang bansos untuk ini, tegas dia. ',\n",
       "                                  \"Momen kedekatan Presiden Joko Widodo dengan presiden terpilih Prabowo Subianto tampak dalam upacara peringatan Hari Bhayangkara ke-78 di Monas, Jakarta Pusat, Senin (1/7/2024). Kedekatan keduanya terlihat ketika Presiden Jokowi didampingi Prabowo saat menyaksikan defile pasukan usai peragaan terjun payung TNI/Polri dari ketinggian 6.000 kaki. Sementara itu, Wakil Presiden (Wapres) Ma'ruf Amin yang biasanya mendampingi Presiden di sejumlah momen nampak duduk ke belakang bersama dengan para penjabat lain yang hadir termasuk Menteri Koordinator Bidang Politik, Hukum, dan Keamanan Hadi Tjahjanto. Baca juga: Prabowo Beri Hormat Saat Disapa Jokowi sebagai Presiden RI Terpilih di Upacara HUT Ke-78 Bhayangkara Dilihat dari tayangan YouTube Sekretariat Presiden, Prabowo tampak berdiri di samping kiri Jokowi. Adapun Kapolri Jenderal Listyo Sigit Prabowo berdiri di sebelah kanan Jokowi, sedangkan Panglima TNI Agus Subiyanto berada di samping kiri Prabowo. Keempatnya juga sempat memberikan hormat ketika komandan defile berjalan bersama pasukan di hadapannya sembari diiringi lagu Maju Tak Gentar. Selain itu, momen kedekatan keduanya juga terlihat ketika Presiden Jokowi menyebut Prabowo dalam sambutannya di acara tersebut. Yang saya hormati Presiden Terpilih Republik Indonesia Bapak Prabowo Subianto, tutur Jokowi. Baca juga: Hari Bhayangkara ke-78 di Monas, Prabowo Hadir meski Baru Saja Dioperasi Prabowo yang tampak hadir setelah menjalani operasi, lalu berdiri yang memberikan hormat kepada Presiden. Tak beberapa lama, ia lantas duduk kembali dan mendengarkan arahan Presiden kepada Polri secara seksama.  Adapun dalam sambutannya, Jokowi mengingatkan agar Polri tidak tebang pilih dalam proses penegakan hukum. Ia meminta Polri harus profesional dalam menjalankan tugas-tugasnya. Utamanya, ketika menghadapi kejahatan transnasional yang semakin kompleks dan canggih. (Polri) harus profesional dan tidak tebang pilih dalam penegakan hukum, ujar Jokowi. \",\n",
       "                                  'Ketua Fraksi Gerindra DPR Ahmad Muzani mengatakan pihaknya masih berkonsentrasi terhadap pelantikan presiden hasil Pemilu 2024 saat ini, alih-alih soal wacana amendemen UUD 1945. Adapun Muzani merespons mengenai klaim Ketua DPD La Nyalla Mattalitti yang menyebut Prabowo setuju amendemen UUD 1945 agar pemilihan Presiden dikembalikan ke tangan MPR. Gerindra konsentrasi pada pelantikan parlemen dan presiden hasil Pemilu 2024, ujar Muzani di Gedung DPR, Senayan, Jakarta, Selasa (25/6/2024). Saat ditanya mengenai sikap Fraksi Gerindra mengenai amendemen UUD 1945, Muzani menyebut pihaknya masih mempelajari. Baca juga: Duduk Perkara Ketua MPR Bambang Soesatyo Diputus Langgar Kode Etik Usai Bicara Amendemen Kita pelajari. Ya kita pelajari, imbuhnya. Sebelumnya, Ketua Dewan Perwakilan Daerah (DPD) La Nyalla Mattalitti menyatakan, presiden terpilih Prabowo Subianto setuju apabila pemilihan presiden dikembalikan ke tangan Majelis Permusyawaratan Rakyat (MPR), bukan lagi oleh rakyat. Menurut La Nyalla, Prabowo punya visi untuk mengembalikan Undang-Undang Dasar 1945 ke naskah aslinya yang mengatur presiden dipilih oleh MPR. Ya harus bisa lah. Pak Prabowo juga mau kok, Pak Prabowo jelas mau. Visi misinya Pak Prabowo jelas kembalikan UU 1945 sesuai dengan naskah asli, ujar La Nyalla seusai bertemu mantan Ketua MPR Amien Rais di Gedung DPD, Senayan, Jakarta, Senin (24/6/2024). La Nyalla mengatakan, amendemen UUD 1945 harus dilakukan sebelum pemilu kembali dilakukan di tahun 2029. Baca juga: DPD Getol Suarakan Amendemen UUD 1945 agar Presiden Kembali Dipilih MPR, Klaim Prabowo Mau Menurut dia, keputusan untuk mengembalikan pemilihan presiden ke tangan MPR dapat dilakukan di masa pemerintahan Prabowo Subianto kelak. Kita punya naskah akademik, silakan. Silakan sidang istimewa, nanti kita bersama-sama anggota DPD, ada juga anggota MPR juga punya usulan seperti itu, kata La Nyalla. Langkah selanjutnya kita menuntut sidang istimewa, yang akan kita laksanakan setelah presiden terpilih Pak Prabowo Subianto dilantik, imbuh dia. ',\n",
       "                                  None], dtype=object),\n",
       "              'marker': {'opacity': 0.5, 'size': 5},\n",
       "              'mode': 'markers+text',\n",
       "              'name': '0_prabowo_dan_presiden',\n",
       "              'text': array(['', '', '', '', '', '', '', '', '', '', '', '', '', '', '', '', '', '',\n",
       "                             '', '', '', '', '', '', '', '', '0_prabowo_dan_presiden'], dtype=object),\n",
       "              'textfont': {'size': 12},\n",
       "              'type': 'scattergl',\n",
       "              'x': array([3.0985494, 5.398714 , 3.511037 , 4.7111673, 3.7257528, 4.786313 ,\n",
       "                          3.935925 , 5.2162952, 4.839633 , 5.052002 , 3.9759965, 5.008583 ,\n",
       "                          3.5909173, 5.369313 , 3.4345286, 5.1868873, 4.5731454, 4.433406 ,\n",
       "                          4.4787006, 3.3739293, 4.0218873, 4.922741 , 4.157404 , 4.2659125,\n",
       "                          4.2314796, 4.811696 , 4.38892  ], dtype=float32),\n",
       "              'y': array([2.5502348, 1.8052504, 2.0930078, 1.8755076, 2.9019954, 1.577109 ,\n",
       "                          2.9089534, 3.8284266, 2.0671487, 1.58868  , 2.0540736, 2.1623971,\n",
       "                          2.4699874, 2.5192978, 2.586753 , 1.7689773, 3.0988626, 2.3912127,\n",
       "                          2.0971568, 2.6095977, 2.7803004, 2.5504737, 2.3164706, 3.6847363,\n",
       "                          1.7618304, 2.258842 , 2.396434 ], dtype=float32)},\n",
       "             {'hoverinfo': 'text',\n",
       "              'hovertext': array(['Partai Keadilan Sejahtera (PKS) belum memastikan apakah akan menjadi pihak oposisi atau satu barisan dengan pemerintahan Presiden terpilih Prabowo Subianto selama lima tahun ke depan. Wakil Ketua Majelis Syura PKS Hidayat Nur Wahid mengatakan, PKS akan terlebih dahulu melihat keputusan akhir dari Prabowo selaku presiden terpilih. Ya bisa iya (di luar pemerintahan) bisa tidak juga, karena itu juga masih sangat tergantung dengan lagi-lagi bagaimana kehendak daripada Pak Prabowo, ujar Hidayat dalam program Gaspol di Youtube Kompas.com, dikutip pada Minggu (30/6/2024). Baca juga: Buka Peluang Kerja Sama dengan PDI-P, PKS: Kami Sudah Berkali-kali Koalisi di Pilkada Menurut Hidayat, Prabowo memiliki hak untuk menentukan, apakah akan melibatkan PKS dalam pemerintahan atau tidak. Meski begitu, dia menegaskan bahwa PKS selalu siap berada di posisi manapun, baik sebagai oposisi atau ikut ke dalam pemerintahan. Kan beliau yang menjadi presiden terpilih dan beliau yang akan menentukan apakah beliau nanti akan mengajak PKS atau tidak? Ya, monggo saja, kata Hidayat. Kami tentu menghormati hak prerogatif beliau, tapi PKS sudah mempunyai pengalaman baik itu di dalam maupun di luar pemerintahan, sambung dia. Hidayat menambahkan, dalam konteks Pilkada Jakarta, PKS juga memutuskan untuk tidak menawarkan partai di Koalisi Indonesia Maju (KIM) agar ikut mendukung pasangan Anies Baswedan-Sohibul Iman. Ia menghormati KIM yang ingin mengajukan bakal calon gubernur (bacagub) dan bakal calon wakil gubernur (bacawagub) sendiri. Baca juga: Yakin Tak Blunder Usung Anies-Sohibul di Pilkada, PKS: Kami Bukan Pemain Baru di Jakarta Bagi Hidayat, parpol anggota KIM selama ini juga tak pernah mengatakan bersedia mengusung Anies. Sikap itu juga menjadi salah satu pertimbangan PKS tak mencoba melakukan pendekatan politik. Ya sudah lah, itu adalah bagian dari hak politik mereka, hak demokrasi mereka, kita menghormati. Tapi sebagaimana kita menghormati mereka, ya mereka mestinya juga menghormati kita, pungkas dia. ',\n",
       "                                  \"Juru Bicara PDI-P Chico Hakim menegaskan, tidak ada tawaran kepada mantan capres nomor urut 3, Ganjar Pranowo untuk masuk ke kabinet presiden terpilih 2024-2029, Prabowo Subianto. Adapun Gerindra tidak menutup peluang mengangkat Ganjar dan Anies Baswedan untuk menjadi menteri di kabinet Prabowo. Enggak ada komunikasi apa-apa terkait ini, ujar Chico saat dimintai konfirmasi Kompas.com, Rabu (26/6/2024). Baca juga: Soal Kemungkinan Anies dan Ganjar Diangkat jadi Menteri Prabowo, Gerindra Angkat Bicara Chico menyampaikan, PDI-P fokus untuk Pilkada Serentak 2024 dan membantu rakyat. Menurut dia, saat ini, Indonesia sedang dalam masa sulit karena harga-harga serba naik. Chico enggan menjawab apakah PDI-P terbuka jika Ganjar ditawari masuk ke kabinet Prabowo. Hari ini kami fokus pilkada dan membantu rakyat dan negara yang sedang dalam masa masa sulit, harga bahan pokok yang melonjak, kenaikan tarif listrik, BBM, dan lain-lain, ujar dia. Sebelumnya, Sekretaris Jenderal (Sekjen) Partai Gerindra Ahmad Muzani merespons apakah Presiden terpilih 2024-2029 Prabowo Subianto akan mengangkat mantan capres di Pilpres 2024, yakni Anies Baswedan dan Ganjar Pranowo sebagai menteri atau tidak. Muzani menegaskan, hal tersebut merupakan hak prerogatif Prabowo sebagai presiden terpilih. Pertanyaannya, apakah Pak Prabowo juga akan mengangkat capres yang berbeda dengan Beliau seperti Anies dan Ganjar? Yang punya hak prerogatif adalah beliau, saya belum pernah mendengar, ujar Muzani di Gedung DPR, Senayan, Jakarta, Selasa (25/6/2024). Muzani enggan merespons isu mengenai koalisi pendukung Prabowo menawarkan kursi menteri ke Anies supaya tidak maju di Pilkada Jakarta 2024. Baca juga: Anies dan Ganjar Diprediksi Menolak jika Ditawari jadi Menteri Prabowo Hal yang pasti, kata Muzani, Prabowo selalu mencari persamaan untuk bergotong-royong, meski beda pilihan politik. Pak Prabowo adalah presiden terpilih yang akan dilantik tanggal 20 Oktober yang akan datang. Beliau selalu mencari persamaan cara pandang yang bisa memperkuat persatuan dan persamaan gotong-royongan, meskipun pada pilihan politik yang berbeda, tutur dia.  Maka dari itu, Muzani menekankan, Prabowo tidak memiliki halangan untuk mengangkat siapapun menjadi 'pembantu' dalam kabinet ke depan. Dia lantas mengungkit Presiden Joko Widodo (Jokowi) yang malah mengangkat Prabowo sebagai Menteri Pertahanan di tahun 2019. Padahal, Prabowo dan Jokowi merupakan rival di Pilpres 2019. Itu sudah dicontohkan oleh Pak Jokowi di tahun 2019. Situasi politik bisa menjadi reda, politik bisa menjadi adem, keguyuban, kebersamaan, kegotong-royongan, kerukunan bisa tercipta. Dan Pak Prabowo ingin menciptakan itu, imbuh Muzani. \",\n",
       "                                  'Presiden terpilih sekaligus Menteri Pertahanan (Menhan) Prabowo Subianto menjalani operasi besar di RSPPN Panglima Besar Soedirman, Bintaro, Jakarta, pekan lalu. Dalam keterangan yang dibagikan, Prabowo mengungkapkan bahwa dirinya menjalani operasi kaki karena cidera yang dialaminya. Saya ucapkan syukur alhamdulillah kepada Allah SWT beserta ucapan terima kasih kepada tim dokter yakni Brigjen TNI Purn dr Robert Hutauruk, Kolonel dr Sunaryo, dr Siska Widayati, dibantu dengan dr Thomas dan seluruh perawat serta pada tenaga medis di RSPPN Sudirman atas keberhasilan tindakan operasi besar yang dilakukan kepada saya, ujar Prabowo dalam keterangannya, Minggu (30/6/2024) malam. Baca juga: Yakin Menang di Pilkada Jakarta, PKS: Presidennya Sudah Prabowo, Pendukung Anies 2017 Prabowo lantas berterima kasih kepada Presiden Joko Widodo (Jokowi) karena telah memberikan dukungan moril dan doa. . Meski sadar bahwa operasi itu berisiko tinggi, namun Prabowo meyakini semua dokter sangat handal. Semua ini untuk negara dan bangsa, saya juga yakin tim dokter dan seluruh tenaga medis yang menanganinya pun handal dan profesional, tuturnya. Usai operasi, Prabowo menyatakan dirinya telah siap untuk berkegiatan kembali. Insya Allah dengan kondisi sehat walafiat ke depan saya semakin siap untuk berbakti dan mengabdi untuk negara dan rakyat Indonesia. Terima kasih kepada seluruh masyarakat atas doa dan dukungannya, kata Prabowo. Baca juga: Belum Pasti Jadi Oposisi Pemerintah, PKS: Tergantung Prabowo, Mengajak atau Tidak? Sementara itu, Prabowo juga mengungkap bahwa penyebab cedera yang sudah lama tersebut adalah karena dua kali kecelakaan terjun payung saat dirinya masih aktif bertugas di TNI. Seperti sudah diketahui banyak pihak, saya pernah mengalami dua kali kecelakaan terjun payung saat bertugas di TNI pada tahun 80-an di kaki kiri saya, cidera ini selama ini masih saya rasakan, imbuhnya. ',\n",
       "                                  'Ketua Umum Partai Kebangkitan Bangsa (PKB) Muhaimin Iskandar menyatakan PKB mendukung pemerintahan presiden dan wakil presiden terpilih Prabowo Subianto dan Gibran Rakabuming Raka. Menurutnya, sikap itu telah disampaikan dengan pernyataannya saat bertemu Prabowo, Rabu (24/4/2024) siang. Kemarin, ia menyebutkan siap bekerja sama dengan Prabowo dan Partai Gerindra. Saya rasa sudah tidak perlu dijawab, sudah cetho (jelas mendukung Prabowo-Gibran), ujar Muhaimin pada awak media di Kantor DPP PKB, Senen, Jakarta, Kamis (25/4/2024) malam. Baca juga: Sinyal CLBK PKB dengan Gerindra Kian Menguat Usai Nasdem Dukung Prabowo-Gibran Kemudian ia menjawab dengan nada serupa ketika awak media menanyakan apakah PKB akan berada dalam pemerintahan ke depan. Sudah jelas, sudah, katanya. Sementara itu, Wakil Ketua Umum PKB Jazilul Fawaid menjelaskan bahwa PKB dalam posisi siap mendukung pemerintahan Prabowo-Gibran. Namun, pernyataan itu baru akan disampaikan secara jelas saat keduanya dilantik pada Oktober 2024. Sebab, pembentukan kabinet baru akan terjadi saat Prabowo dan Gibran dilantik. Persis, urusannya dengan (kursi) menteri kan ketika seorang presiden sudah memiliki hak prerogatif, sebutnya. Sekarang kan Pak Prabowo presiden terpilih, pemenang pilpres, nanti tanggal 20 Oktober beliau jadi presiden sekaligus kepala negara yang memiliki hak prerogatif untuk mengangkat menterinya, papar dia. Baca juga: PKB-Nasdem Merapat, Koalisi Prabowo Diprediksi Makin Gemoy Diketahui saat ini, selain PKB, Partai Nasdem juga sudah mendeklarasikan mendukung pemerintahan Prabowo-Gibran. Hal itu disampaikan oleh Ketua Umum Partai Nasdem Surya Paloh seusai bertemu Prabowo di kediamannya, Jalan Kertanegara, Jakarta Selatan, Kamis sore. Sementara itu, Partai Keadilan Sejahtera (PKS) menjadi satu-satunya parpol pengusung Anies Baswedan dan Muhaimin dalam Pilpres 2024 yang belum menentukan sikap politiknya ke depan.  ',\n",
       "                                  'Badan Amil Zakat Nasional (Baznas) siap berkolaborasi dengan Presiden terpilih Prabowo Subianto untuk menjalankan program makan siang gratis. Hal ini disampaikan Ketua Baznas Noor Achmad dalam kegiatan Penyerahan Bantuan Palestina di Kantor Baznas, Jakarta, Rabu (15/5/2024). Mulanya, Noor memaparkan pencapaian Baznas yang berhasil mendirikan sejumlah balai peternakan di sejumlah wilayah di Indonesia dengan cara memberdayakan masyarakat desa. Balai peternakan tersebut, misalnya, balai peternakan kambing di Temanggung dan Magelang serta balai peternakan ayam di Purworejo dan Kebumen, Jawa Tengah. Juga ada balai ternak untuk susu di Garut dan lain sebagainya. Kami melihat potensi yang luar biasa, kalau kita bisa memberdayakan masyarakat desa dengan balai ternak, kata Noor dikutip dari Youtube Baznas TV, Rabu siang. Baca juga: Prabowo dan Gibran Tiba di Doha untuk Hadiri Forum Ekonomi Qatar Selain itu, Noor juga mengungkapkan bahwa Baznas telah memberdayakan masyarakat dengan mendirikan warung-warung kecil, produksi ayam goreng, cafe, hingga bengkel di pinggir jalan. Dengan keberhasilan pemberdayaan masyarakat desa tersebut, pihaknya menegaskan, siap berkolaborasi dengan Prabowo untuk menjalankan program makan siang gratis. Dalam pikiran kami masyarakat desa kalau diperdayakan mereka itu luar biasa. Artinya apa? Kalau bisa kolaborasi, apalagi ada program makan siang gratis, kolaborasi Baznas dengan pihak yang menyelenggarakan makan siang gratis, Insya Allah Baznas siap, kata Noor. Noor memastikan, pihaknya tidak akan melakukan kapitalisasi atau mengambil keuntungan jika Baznas dilibatkan dalam program makan siang gratis. Karena kalau sudah begitu justru kami tidak bisa terlibat, yang ada adalah bagaimana kami bisa memberdayakan mustahik itu saja. Mustahik boleh saja mendapatkan keuntungan, tapi kami sifatnya hanya memberikan pendampingan, imbuh dia. Baca juga: Gerindra Tegaskan Kabinet Belum Dibahas Sama Sekali: Prabowo Masih Kaji Makan Siang Gratis Diketahui, program makan siang gratis merupakan salah satu janji dari pasangan Prabowo dan Gibran Rakabuming Raka jika menjadi presiden dan wakil presiden berikutnya. Anggota Dewan Pengarah Tim Kampanye Nasional (TKN) Prabowo-Gibran, Hashim Djojohadikusumo, menyebut biaya program makan siang gratis untuk anak-anak akan mencapai Rp 450 triliun per tahun. Hashim juga memastikan dana program makan siang gratis tidak akan mengambil dana dari anggaran program bantuan sosial (bansos). Menurut Hashim, dana program makan siang gratis akan menggunakan anggaran baru. Saya bisa katakan karena saya ikut tim pakar, dana ada dan bakal ada, dan ini bukan dari anggaran bansos, aliran bansos. Yang Rp 500 triliun tahun depan itu tetap bansos, kita tidak akan ambil uang bansos untuk ini, tegas dia. ',\n",
       "                                  'Ketua Umum Partai Gerindra Prabowo Subianto irit bicara ketika ditanya soal peluang Ketua DPD Partai Gerindra Jawa Tengah Sudaryono diusung sebagai calon gubernur Jawa Tengah pada Pilkada 2024. Prabowo hanya mengatakan bahwa akan ada waktunya untuk menjelaskan peluang mantan ajudannya itu berlaga di Pilkada Jawa Tengah 2024. Nanti ada waktunya, ujar Prabowo di kediamannya, Jalan Kertanegara, Jakarta Selatan, Jumat (7/6/2024). Prabowo kemudian berseloroh bahwa dirinya ingin wartawan sering-sering berkunjung ke rumahnya. Baca juga: Masif Sosialisasi Sudaryono-Gus Yusuf di Pilkada Jateng, Gerindra: Itu Bukan Hoaks Sambil tertawa, dia kembali menegaskan pada waktunya dirinya akan menyampaikan sikap untuk Pilkada Jawa Tengah. Supaya anda sering ke sini. Oke kita tunggu waktunya, imbuh dia. Diberitakan sebelumnya, Sudaryono mengaku telah diutus Prabowo untuk maju sebagai calon gubernur pada Pilkada Jawa Tengah. Sudaryono mengatakan, meski disandingkan dengan banyak tokoh, ia tetap mengikuti perintah Prabowo untuk mencalongkan diri sebagai gubernur Jawa Tengah, bukan wakil gubernur. Baca juga: Berkunjung ke Demak, Sudaryono Mengaku Diutus Prabowo Maju Pilkada Jateng Perintah yang saya terima adalah untuk jadi gubernur, jadi saya kira tetap stay di situ pada perintah yang kita terima dari Pak Prabowo, kata Sudaryono usai acara di Citra Alam Demak, Senin (27/5/2024). Selain Sudaryono, ada sejumlah nama yang digadang-gadang bakal maju sebagai calon gubernur Jawa Tengah, antara lain, Kapolda Jawa Tengah Ahmad Luthfi, Kepala LKPP Hendrar Prihadi, dan Bupati Kendal Dico Ganinduto. ',\n",
       "                                  'Presiden terpilih 2024-2029 Prabowo Subianto meminta kepada pihak-pihak yang tidak mau diajak kerja sama untuk tidak mengganggu pemerintahannya kelak. Prabowo menegaskan dirinya hanya ingin bekerja dan mengamankan kekayaan bangsa. Hal tersebut Prabowo sampaikan dalam acara bimtek dan rakornas pilkada PAN di Hotel JS Luwansa, Jakarta Selatan, Kamis (9/5/2024) malam. Saya akan berjuang terus bersama semua kekuatan yang mau diajak kerja sama. Yang tidak mau diajak kerja sama tidak apa-apa. Kalau ada yang mau nonton di pinggir jalan, silakan jadi penonton yang baik, ujar Prabowo. Baca juga: Zulhas: Banyak yang Salah Sangka Prabowo Menang karena Bansos, Keliru... Tapi kalau sudah tidak mau diajak kerja sama, ya jangan mengganggu. Orang lagi mau kerja kok. Kita mau kerja. Kita mau kerja. Kita mau amankan kekayaan bangsa Indonesia, sambungnya. Prabowo menjelaskan, dirinya tidak ingin ada lagi orang Indonesia yang menangis karena lapar. Dia menekankan rakyat Indonesia tidak boleh tidak bisa makan. Saya yakin saudara tidak terima. Saya malu saya dikasih pangkat jenderal oleh rakyat. Saya dipilih oleh rakyat. Siang dan malam kita berpikir, saya berpikir, bagaimana rakyat Indonesia tidak ada yang lapar, jelas Prabowo. Menurut Prabowo, semua partai di Indonesia pasti punya orang-orang baik dan orang-orang yang tidak baik. Baca juga: PAN Doa Dapat Banyak Jatah Menteri, Prabowo: Masuk Itu Barang Dia bahkan mengakui di Partai Gerindra pun banyak orang tidak baik. Mari kita akui. Iya kan? Kita boleh punya jiwa korsa, tapi kita juga harus introspeksi diri. Di Gerindra pun juga banyak yang kurang baik, banyak yang baik banyak yang kurang baik. Di semua organisasi ada yang baik dan ada yang kurang, katanya. Sekarang bagaimana yang baik-baik dari semua latar belakang bisa kerja sama? Ini pelajaran sejarah. Indonesia tidak bisa dibendung. Kecuali elite Indonesia tidak bisa atau tidak mau kerja sama. Kuncinya itu, imbuh Prabowo. ',\n",
       "                                  'Calon presiden nomor urut 02, Prabowo Subianto, memperingatkan media yang hadir di acara peringatan Hari Buruh Internasional agar berhati-hati. Saat itu, Prabowo sedang memberikan sambutan di acara peringatan Hari Buruh 2019 di Tennis Indoor Senayan, Jakarta Pusat, Rabu (1/5/2019). Para media, hati-hati, kami mencatat kelakuan-kelakuanmu satu-satu, kata Prabowo yang langsung disambut riuh pada buruh. Kami bukan kambing yang bisa kau atur-atur. Hati-hati kau yah. Hati-hati kau, suara rakyat adalah suara Tuhan, sambung dia. Baca juga: Prabowo: Kalian Mau Jadi Kambing atau Rakyat yang Terhormat? Kemudian, setelah membicarakan hal lain, Prabowo kembali menyinggung kehadiran media di acara tersebut. Saat itu Prabowo sedang membicarakan bahwa kebohongan, kecurangan, kekayaan Indonesia diambil, penindasan terhadap rakyat, perlu disudahi. Lalu, Prabowo menyambungnya dengan menyebutkan bahwa media sebagai pihak yang ikut merusak demokrasi. Itu media-media juga, gue salut sama lu masih berani ke sini. Akan tercatat dalam sejarah, hai media-media kau ikut merusak demokrasi di Indonesia, ujarnya. Baca juga: Prabowo-Sandiaga Siap Rajut Persatuan Bangsa Setelah Pilpres Ini gimana? Bicara apa adanya? Betul? Betul? tanya Prabowo ke para buruh. Betul, jawab pekerja yang hadir. Ya gue harus bicara apa adanya dong, yang tidak benar kita harus katakan tidak benar, yang benar, benar, yang tidak benar, tidak benar, jangan kau balik, seru Prabowo. Ia pun mengajak rakyat untuk ikut mencatat pihak-pihak yang terus melakukan pelanggaran. Ketua Umum Partai Gerindra tersebut menuturkan pihak-pihak yang melanggar itu harus bertanggungjawab. Pada saatnya mereka harus bertanggung jawab. Kita adalah negara yang besar, kita adalah negara yang gagah, rakyat kita punya harga diri, kita tidak mau jadi kacungnya bangsa lain, kata Prabowo sambil berseru. ',\n",
       "                                  'Sekretaris Jenderal Partai Keadilan Sejahtera (PKS) Aboe Bakar Alhabsyi mengatakan pihaknya mengundang presiden terpilih Prabowo Subianto ke markasnya. Ia menyebutkan, undangan itu disampaikan karena PKS bakal menggelar halal bihalal di Kantor DPP PKS, Jalan TB Simatupang, Pasar Minggu, Jakarta, Sabtu (27/4/2024). Moga-moga kalau Pak Prabowo datang, kita juga akan kasih karpet merah sebagai presiden pemenang, kita akan sambut ya, ujar Aboe di Kantor DPP Partai Kebangkitan Bangsa (PKB), Senen, Jakarta, Kamis (25/4/2024). Baca juga: PKB-Nasdem-PKS Isyaratkan Gabung Prabowo, Pengamat: Kini Parpol Selamatkan Diri Masing-masing Meski begitu, ia meminta semua pihak bersabar menunggu langkah politik PKS ke depan. Pasalnya, keputusan itu akan bergantung dengan dinamika politik beberapa hari ke depan. Jadi kita kumpul saja dulu di PKS dalam suasana yang kecil, tapi mungkin romantislah ya. Jadi mungkin dari situ kita akan berangkat ke langkah selanjutnya, papar dia. Sementara itu, ia menekankan bahwa PKS tetap memiliki keleluasaan. Bagi Aboe, PKS siap berdiri di dalam atau di luar pemerintahan Prabowo dan wakil presiden terpilih Gibran Rakabuming Raka. Baca juga: Nasdem Resmi Dukung Prabowo-Gibran, Elite PKS dan PKB Bertemu PKS ini saya sudah katakan, PKS ini paling siap dengan segala situasi. Mau di dalam, mau di luar, imbuh dia. Diketahui dua kolega PKS dalam Koalisi Perubahan yaitu PKB dan Partai Nasdem sudah menyatakan siap mendukung pemerintahan Prabowo-Gibran. Ketiga partai politik (parpol) itu sebelumnya mendukung Anies Baswedan dan Muhaimin Iskandar dalam Pemilihan Presiden (Pilpres) 2024.  ',\n",
       "                                  'Ketua Fraksi Partai Keadilan Sejahtera (PKS) DPR Jazuli Juwaini angkat bicara terkait Partai Gelora yang menolak PKS bergabung ke pemerintahan Prabowo Subianto-Gibran Rakabuming Raka. Jazuli meminta keluarga besar PKS tidak sampai terprovokasi. Kepada seluruh keluarga besar PKS, jangan terprovokasi oleh siapa pun, termasuk oleh pengamat. Tetap tenang serta santai saja, ujar Jazuli saat dimintai konfirmasi Kompas.com, Rabu (1/5/2024). Baca juga: Tolak PKS Merapat ke Prabowo, Gelora Diduga Khawatir soal Jatah Kabinet Jazuli menyampaikan, yang menentukan PKS menjadi oposisi atau masuk ke pemerintahan Prabowo-Gibran adalah Majelis Syuro dan DPTP PKS. Ia mengatakan, yang menentukan arah politik PKS bukanlah Partai Gelora ataupun partai lainnya. Apa pun keputusan yang diambil, PKS akan tetap membangun komunikasi dengan Pak Prabowo sebagai presiden terpilih, baik berkoalisi maupun beroposisi, ucap dia. Termasuk akan tetap berkomunikasi dengan parpol-parpol lain yang lolos dan masuk parlemen apa pun positioning PKS (baik oposisi maupun koalisi), kata Jazuli. Sebelumnya, Sekretaris Jenderal (Sekjen) Partai Gelora Mahfuz Sidik tak ingin Partai Keadilan Sejahtera (PKS) bergabung dalam gerbong presiden dan wakil presiden terpilih Prabowo Subianto dan Gibran Rakabuming Raka. Ia menganggap PKS selama ini telah menunjukan sikap politik dan ideologi yang berbeda dengan dua figur itu. Pak Prabowo juga berulang-ulang menekankan keberlanjutan pembangunan agar capaian-capaian yang ada tidak berhenti lalu mulai dari nol lagi, ujar Mahfuz pada Kompas.com, Senin (29/4/2024). Sementara PKS juga terbuka menolak program strategis Presiden Joko Widodo, seperti IKN, ucap dia. Ia kemudian menyebutkan, dalam Pemilu 2024, PKS bahkan berjanji untuk membuat Jakarta tetap menjadi ibu kota. Baca juga: Beri Sinyal Merapat ke Prabowo, Fondasi Politik PKS Dianggap Dangkal Hal ini, kata Mahfuz, menjadi salah satu contoh PKS bertolak belakang dengan Prabowo-Gibran, maupun Jokowi. Tak hanya itu, ia menuturkan, PKS sempat menolak dicalonkannya Gibran sebagai pendamping Prabowo pada Pemilihan Presiden (Pilpres) 2024. PKS pula yang sangat keras menolak Gibran dengan alasan anak haram konstitusi. Pikiran di balik ini adalah ketidakmauan PKS menerima rekonsiliasi antara Jokowi dan Prabowo, tutur dia.  Mahfuz pun menganggap keputusan Prabowo bergabung dalam pemerintahan Jokowi setelah Pilpres 2019 dianggap sebagai pengkhianatan oleh pendukung PKS. Oleh karena itu, ia meminta PKS tak berharap diajak Prabowo untuk bergabung ke dalam pemerintahannya ke depan. ',\n",
       "                                  'Wakil Ketua Umum (Waketum) Partai Gerindra Rahayu Saraswati menegaskan, komunikasi bagi partai-partai di luar koalisi pendukung Prabowo Subianto-Gibran Rakabuming Raka selalu terbuka hingga saat ini. Sara merespons PKS yang menyatakan siap bergabung ke pemerintahan Prabowo-Gibran. Dinamika politik tentunya masih sangat dinamis, organik, apa pun bisa terjadi. Komunikasi selalu terbuka, bahkan sebelum kampanye selesai, sebelum 14 Februari, masih terus berjalan, ujar Sara saat ditemui di markas TKN Fanta, Jakarta Pusat, Rabu (1/5/2024) malam. Baca juga: Saat Cak Imin Berkelakar soal Hanif Dhakiri Jadi Menteri di Kabinet Prabowo... Sara kembali menekankan bahwa pintu bagi partai yang berada di luar koalisi tetap terbuka untuk bergabung. Menurut dia, Prabowo selalu mengedepankan persatuan Indonesia, khususnya dari kalangan elite. Untuk saat ini tentunya kita masih sangat terbuka untuk pihak manapun yang mungkin akan bergabung ataupun tidak itu ada di pihak daripada pimpinan, dan juga tentunya ketua-ketua dari partai-partai, ucap dia. Sebelumnya, Sekretaris Jenderal (Sekjen) Partai Gelora Mahfuz Sidik tak ingin Partai Keadilan Sejahtera (PKS) bergabung dalam gerbong presiden dan wakil presiden terpilih Prabowo Subianto dan Gibran Rakabuming Raka. Baca juga: Tolak PKS Merapat ke Prabowo, Gelora Diduga Khawatir soal Jatah Kabinet Ia menganggap PKS selama ini telah menunjukkan sikap politik dan ideologis yang berbeda dengan dua figur itu. Pak Prabowo juga berulang-ulang menekankan keberlanjutan pembangunan agar capaian-capaian yang ada tidak berhenti lalu mulai dari nol lagi, ujar Mahfuz pada Kompas.com, Senin (29/4/2024). Sementara PKS juga terbuka menolak program strategis Presiden Joko Widodo, seperti IKN, kata dia. Ia kemudian menyebutkan, dalam Pemilu 2024, PKS bahkan berjanji untuk membuat Jakarta tetap menjadi ibu kota. Hal ini, kata Mahfuz, menjadi salah satu contoh PKS bertolak belakang dengan Prabowo-Gibran, maupun Jokowi.  Tak hanya itu, ia menuturkan, PKS juga sempat menolak dicalonkannya Gibran sebagai pendamping Prabowo pada Pemilihan Presiden (Pilpres) 2024. PKS pula yang sangat keras menolak Gibran dengan alasan anak haram konstitusi. Pikiran di balik ini adalah ketidakmauan PKS menerima rekonsiliasi antara Jokowi dan Prabowo, tutur dia. Mahfuz pun menganggap keputusan Prabowo bergabung dalam pemerintahan Jokowi setelah Pilpres 2019 dianggap sebagai pengkhianatan oleh pendukung PKS. Atas dasar itu, ia meminta PKS tak berharap diajak Prabowo untuk bergabung ke dalam pemerintahannya ke depan. ',\n",
       "                                  'Juru Bicara (Jubir) presiden terpilih Prabowo Subianto, Dahnil Anzar Simanjutak, mengatakan, Prabowo akan mengkaji biaya uang kuliah tunggal (UKT) yang sedang dikeluhkan karena dianggap terlalu tinggi bagi mahasiswa baru. Dahnil memastikan bahwa Prabowo akan membuat uang kuliah jauh lebih murah. Terkait UKT yang mahal, pasti akan dipertimbangkan dan dikaji beliau agar bisa jauh lebih murah, ujar Dahnil saat dimintai konfirmasi Kompas.com, Jumat (24/5/2024). Dahnil mengatakan, bagi Prabowo, semua rakyat Indonesia harus bisa mengakses pendidikan, mulai dari tingkat dasar sampai tinggi. Baca juga: Kenaikan UKT Dinilai Bisa Buat Visi Indonesia Emas 2045 Gagal Terwujud Dengan begitu, kata dia, prinsip berkeadilan bisa berjalan. Karena bagi beliau pendidikan mulai dari tingkat dasar sampai tinggi harus bisa diakses oleh semua rakyat Indonesia dari semua tingkatan ekonomi. Harus berkeadilan, imbuhnya. Baca juga: Mahasiswa Kritik Kenaikan UKT: Persempit Kesempatan Rakyat Bersekolah hingga Perguruan Tinggi Sebelumnya, Prabowo Subianto berpandangan bahwa semestinya UKT di perguruan tinggi negeri (PTN) dijamin serendah-rendahnya oleh negara. Bahkan, negara semestinya menggratiskan biaya pendidikan bagi rakyatnya yang masuk PTN. Hal itu disampaikan Prabowo ketika ditanya dalam sebuah wawancara tentang tingginya biaya UKT yang dikeluhkan sejumlah mahasiswa di beberapa PTN. Menurut saya, harus tidak boleh ini, terutama di universitas negeri yang dibangun oleh uang rakyat uang APBN, itu tidak boleh biayanya tinggi. Kalau bisa, biayanya sangat minim dan kalau perlu ya gratis, pendidikan, kata Prabowo dikutip dari YouTube TV One News, Kamis (23/5/2024). Baca juga: Siti Aisyah Pilih Undur Diri dari Unri karena Tak Sanggup Bayar UKT Meski begitu, Prabowo menekankan agar negara betul-betul menghitung anggaran jika ingin menggratiskan biaya pendidikan tinggi. Selain pendidikan tinggi, jelas Prabowo, negara juga semestinya meminimalisasi biaya pendidikan dari tingkat SD hingga sekolah menengah atas atau kejuruan. Seharusnya, biaya pendidikan itu adalah tanggung jawab negara, dan seharusnya memang gratis, ucap Menteri Pertahanan RI ini. ',\n",
       "                                  'Capres nomor urut 2 Prabowo Subianto menyerahkan bantuan berupa uang Rp 5 miliar dan rumah sakit (RS) apung untuk Palestina yang diserang Israel. Ketua Tim Kampanye Nasional (TKN) Prabowo-Gibran, Rosan Roeslani mengatakan Prabowo memang memiliki atensi besar kepada para korban di Palestina. Menurut Rosan, bantuan tersebut diambil dari uang pribadi Prabowo. Beliau ingin memberikan bantuan, langsung dari pribadi beliau, terutama kepada korban anak kecil, kemudian korban ibu-ibu, kemudian juga kebutuhan mereka agar bisa bertahan, mulai dari pangan dan lain-lain, ujar Rosan dalam jumpa pers di Media Center TKN Prabowo-Gibran, Jakarta, Selasa (28/11/2023). Baca juga: Prabowo-Gibran Akan Hadir di Final Piala Dunia U-17 Solo Beliau juga mengirimkan rumah sakit terapung, dan sudah berjalan juga dengan beberapa negara terkait untuk mendapatkan lintasannya, sambung dia. Rosan mengatakan, bantuan yang diberikan kepada korban di Palestina tidak akan berhenti sampai di situ saja. Dia memastikan Prabowo-Gibran berkomitmen untuk berjuang dalam membela Palestina. Baca juga: TKN: Tetap Jadi Menhan-Wali Kota, Prabowo-Gibran Cuti Maksimal 2 Kali Seminggu Dalam kesempatan ini memang pemberian bantuan sebesar Rp 5 miliar tunai yang sudah kita realisasikan, dan akan dilanjutkan dengan baik dalam bentuk bantuan langsung, tidak langsung, baik kepada NGO, maupun kepada pemerintah dari Palestina itu sendiri, kata Rosan. Sementara itu, Sekretaris TKN Prabowo-Gibran, Nusron Wahid mengatakan penyerahan bantuan ini membuktikan Prabowo bukan hanya sekadar memberi kecaman saja. Ini membuktikan bahwa Pak Prabowo tidak hanya sekadar berpidato dan berbicara mengecam tentang Palestina, tetapi juga ada konkret, yaitu membantu baik selaku kapasitasnya sebagai pribadi dalam bentuk membantu uang untuk dana kemanusiaan, juga kapasitas beliau sebagai Menteri Pertahanan dengan mengirimkan rumah sakit kapal apung, imbuh Nusron. Dalam kesempatan ini, bantuan uang Rp 5 miliar tersebut diserahkan kepada Yayasan Persahabatan dan Studi Peradaban untuk disalurkan ke Palestina. ',\n",
       "                                  'Ketua Perhimpunan Advokat Indonesia (Peradi) Otto Hasibuan mengungkap, alasan dirinya mendukung pasangan nomor urut 2 Prabowo Subianto-Gibran Rakabuming Raka di Pilpres 2024. Menurut Otto, dirinya sudah mendukung Prabowo di pilpres sejak kontestasi sebelumnya pada 2019. Ya memang terus terang saja, sejak lama sudah sejak 2019 juga saya memang pendukung utamanya Pak Prabowo. Saya bahkan timnya di sana dulu. Jadi saya konsisten mendukung dia karena saya yakini dia adalah mampu memimpin bangsa ini, ujar Otto saat dihubungi, Selasa (28/11/2023) malam. Baca juga: Prabowo Jadi Pembicara Rakor Apdesi di Bandung, Bawaslu Pastikan Tak Ada Pelanggaran Dia orang baik, dia orang jujur, ya. Dan bagi dia kehidupan dunia ini rasanya kehidupan-kehidupan material bagi dia kan sudah selesai. Dia sudah selesai dengan dirinya, sambungnya. Ia pun meyakini bahwa Prabowo merupakan sosok yang mampu memimpin bangsa Indonesia dengan baik bila kelak terpilih.  Saya yakin dia akan bisa memimpin negeri ini dengan baik, menegakkan hukum dan keadilan. Jadi saya berjuang untuk dia, tuturnya. Di sisi lain, ia mengklaim, sudah lama bergabung ke dalam Tim Kampanye Nasional (TKN) Prabowo-Gibran. Namun, karena persoalan strategi, dirinya baru diumumkan secara resmi bergabung ke dalam barisan TKN pada hari ini. Baca juga: Otto Hasibuan Gabung TKN Prabowo-Gibran, Langsung Jadi Wakil Ketua Struktur TKN Prabowo-Gibran sendiri sebenarnya sudah diumumkan sejak awal November 2023 lalu. Hahahaha. Sudah lama sebenarnya. Sudah lama. Tapi ya mungkin ada ya strategi lah. Ada strateginya lah ya. Tapi sudah lama, imbuh Otto. Sebagai informasi, Ketua TKN Prabowo-Gibran, Rosan Perkasa Roeslani hari ini mengumumkan sejumlah nama yang bergabung ke dalam barisan TKN, termasuk Otto. Tak hanya bergabung, Otto juga didapuk menjadi Wakil Ketua TKN Prabowo-Gibran. ',\n",
       "                                  \"Presiden terpilih 2024-2029 Prabowo Subianto merespons doa Ketua DPP Partai Amanat Nasional (PAN) Saleh Partaonan Daulay yang berdoa agar PAN mendapat jatah menteri lebih banyak dari yang diperkirakan. Prabowo menilai doa yang Saleh sampaikan itu sangat kreatif. Hal tersebut terjadi dalam acara bimtek dan rakornas pilkada PAN di Hotel JS Luwansa, Jakarta Selatan, Kamis (9/5/2024) malam. Baca juga: Disambut Hatta Rajasa, Prabowo Hadiri Rakornas Pilkada PAN Ketua Fraksi PAN di DPR, saudara Saleh Daulay yang tadi memimpin doa, doa politik yang kreatif sekali itu. Kalau orang Medan bilang, 'masuk itu barang', ujar Prabowo. Prabowo lantas mengungkit bahwa kesetiaan harus dibalas dengan kesetiaan. Menurutnya, PAN yang selama 15 tahun terakhir mendukung dirinya, tidak pernah meminta apa pun. Dan saya kira sejarah bangsa Indonesia adalah sejarah begitu sering pemimpin-pemimpin, pejuang-pejuang tidak didukung oleh kesetiaan. Tapi tidak ada masalah. Saya sangat terima kasih dengan kesetiaan PAN 15 tahun tanpa pamrih dalam setiap kita bergabung PAN tidak pernah minta apapun, tidak pernah minta apa-apa, tuturnya. Menurutnya, PAN dan Gerindra mirip karena memiliki nilai yang aneh, yakni tidak pernah minta mahar dari siapapun. Baca juga: PAN Gelar Rakornas Pilkada Serentak, Prabowo Subianto Bakal Hadir Dia mengatakan, justru pihak yang meminta mahar lah yang sering menjadi tidak setia. Jadi Pak Daulay ini memang doanya luar biasa itu. Jadi saya merasa sangat tenang, sangat bahagia di tengah suasana biru yang sejuk. Untuk itulah saya pakai (kemeja) warna biru, imbuh Prabowo. Sebelumnya, Saleh Daulay berdoa agar jatah menteri yang diberikan kepada kader PAN di kabinet Prabowo Subianto-Gibran Rakabuming Raka lebih banyak dari yang mereka perkirakan. Menurut Saleh, PAN akan sangat berterima kasih dan bersyukur jika hal tersebut sampai terjadi. Baca juga: Di Depan Prabowo, Politisi PAN Berdoa Jatah Menteri Lebih Banyak dari Perkiraan Ya Allah, kami meyakini bahwa Bapak Prabowo Subianto sudah merencanakan akan memberikan beberapa posisi bagi kader-kader terbaik PAN di kabinet mendatang. Sebagai insan yang beriman, tentu hal itu sangat kami syukuri, ujar Saleh. Namun demikian, kami tentu akan lebih berterima kasih dan bersyukur lagi andai kata amanah yang diberikan kepada kami bisa lebih banyak dari apa yang kami perkirakan selama ini, sambungnya. Aamiin, teriak kader PAN. \",\n",
       "                                  'Menteri Pertahanan sekaligus calon presiden pemenang Pemilu 2024, Prabowo Subianto melaksanakan ibadah salat Idul Fitri 1445 Hijriah di Masjid Nurul Wathon yang berada di Padepokan Garuda Yaksa, Hambalang, Bogor, Jawa Barat, Rabu (10/4/2024). Dalam keterangan tertulisnya, Prabowo hadir di Masjid Nurul Wathon pada pukul 07:00 WIB. Ia mengenakan baju koko muslim berwarna putih dan peci hitam. Setibanya di lokasi, Prabowo disambut oleh para warga Bojong Koneng dan karyawan sekitar yang turut menunaikan ibadah shalat Idul Fitri 1445 Hijriah. Minal Aidin, Bapak! ujar warga seperti dikutip dari keterangan tertulis. Baca juga: Ditunggu-tunggu, Prabowo Ternyata Sudah Salaman dengan Jokowi Sebelum Open House Dimulai, Budi Arie: Bareng Mas Didit dan Mayor Teddy Di situ, Prabowo juga menyalam para warga dan karyawan setempat sebelum masuk ke dalam arena Masjid Nurul Wathon. Setelahnya, Prabowo shalat Idul Fitri dua rokaat dipimpin imam di masjid setempat. Selepas shalat, Prabowo kembali diserbu jamaah untuk bisa bersalaman hingga berfoto bersama. Bapak foto Bapak, ujar warga di lokasi. Sesekali, Prabowo juga berhenti untuk menyapa, menggendong hingga mencium kening anak-anak kecil yang turut antusias untuk berlebaran dengannya secara langsung. Dalam khotbah shalat Idul Fitri kali ini, Prabowo juga didoakan oleh penceramah agar diberikan kesehatan untuk memimpin Indonesia ke depan menuju negara yang berdaulat dan makmur. Baca juga: Meski Secara Fisik Belum Bertemu, Megawati dan Prabowo Sudah Saling Kontak Batin   Hal ini pun turut diamini oleh seluruh jemaah yang hadir di lokasi. Mudah mudahan di momen yang penuh berkah ini, kemenangan kita sebagai seorang hamba dalam beribadah di bulan Ramadhan kemenangan sebagai sebuah bangsa kita diberikan putra terbaik Bangsa Bapak H. Prabowo Subianto, beliau diberikan kesehatan walafiat, diberikan kesabaran membawa negara kita yang berdaulat makmur dan bermartabat gemah ripah loh jinawi, ujar imam salat. Aamiin, seru para jamaah. ',\n",
       "                                  'Wakil Ketua Umum Partai Gerindra Budisatrio Djiwandono mengindikasikan dirinya tidak akan maju di Pilkada Jakarta 2024. Budi mengaku menerima arahan dari Ketua Umum Partai Gerindra Prabowo Subianto untuk melanjutkan perjuangan sebagai anggota Dewan Perwakilan Rakyat (DPR). Saya sudah menerima arahan dari Ketua Dewan Pembina/Ketua Umum Partai Gerindra Pak Prabowo untuk terus melanjutkan perjuangan di parlemen, ujar Budi kepada Kompas.com, Kamis (30/5/2024). Budi menyebutkan, Gerindra sudah mengantongi nama yang akan diusung sebagai calon gubernur pada Pilkada Jakarta 2024, bahkan sudah disepakati bersama Koalisi Indonesia Maju. Baca juga: Profil Budi Djiwandono, Keponakan Prabowo yang Disebut Bakal Maju Pilkada Jakarta 2024 Akan tetapi, keponakan Prabowo itu enggan membocorkan siapa sosok yang sudah dipastikan akan diusung tersebut. Untuk Pilkada DKJ, Partai Gerindra sudah mengantongi nama yang akan diusung. Nama yang ada akan diumumkan pada saatnya, tuturnya. Nama ini sudah disepakati Koalisi Indonesia Maju. Terima kasih, imbuh Budi. Sebelumnya, Wakil Ketua Umum Partai Gerindra Habiburokhman mengeklaim, partainya menerima aspirasi untuk menduetkan Budi dengan Ketua Umum Partai Solidaritas Indonesia Kaesang Pangarep sebagai pasangan calon gubernur dan wakil gubernur Jakarta. Menurut Habiburokhman, aspirasi itu dituangkan dalam poster yang menggambarkan Budi dan Kaesang akan berduet pada Pilkada Jakarta 2024. Baca juga: Soal Duet Budi Djiwandono-Kaesang, Gerindra Tunggu Keputusan Prabowo Terkait poster Pak Budi Djiwandono dengan Mas Kaesang ya, saya pikir itu sebagai bentuk penyampaian adanya aspirasi masyarakat kepada kami, ujar Habiburokhman saat dimintai konfirmasi Kompas.com, Kamis (30/5/2024). Namun, Habiburokhman menyebutkan bahwa sosok yang akan diusung Gerindra sebagai calon gubernur Jakarta akan diputuskan oleh Prabowo. Sekretaris Jenderal Partai Gerindra Ahma Muzani sebelumnya juga mengungkapkan bahwa Budi adalah kader yang disiapkan untuk maju pada Pilkada Jakarta. Ya Budi Djiwandono adalah salah satu kandidat yang sedang kita matangkan untuk bisa memimpin daerah Jakarta. Itu diperlukan sosok yang matang, memiliki visi perekonomian yang bagus, dan punya tingkat pergaulan yang bagus. Kriteria itu sepertinya memenuhi syarat, ujar Muzani di Gedung DPR, Senayan, Jakarta, Rabu (29/5/2024). ',\n",
       "                                  None], dtype=object),\n",
       "              'marker': {'opacity': 0.5, 'size': 5},\n",
       "              'mode': 'markers+text',\n",
       "              'name': '1_prabowo_yang_di',\n",
       "              'text': array(['', '', '', '', '', '', '', '', '', '', '', '', '', '', '', '', '',\n",
       "                             '1_prabowo_yang_di'], dtype=object),\n",
       "              'textfont': {'size': 12},\n",
       "              'type': 'scattergl',\n",
       "              'x': array([7.376119 , 6.2192345, 7.4630203, 6.821349 , 7.5153275, 7.370544 ,\n",
       "                          6.821136 , 6.478166 , 7.419509 , 6.618232 , 7.223764 , 6.953638 ,\n",
       "                          7.8823624, 6.8078365, 6.9430184, 7.2938633, 6.1815853, 7.0228653],\n",
       "                         dtype=float32),\n",
       "              'y': array([3.6953318, 3.5972188, 4.4276   , 4.417941 , 3.9682024, 4.2744737,\n",
       "                          3.899474 , 3.913323 , 3.8565392, 4.5188327, 4.2927527, 3.6228368,\n",
       "                          3.7224762, 3.6361444, 4.082931 , 3.1995554, 3.6746867, 3.9294307],\n",
       "                         dtype=float32)}],\n",
       "    'layout': {'annotations': [{'showarrow': False,\n",
       "                                'text': 'D1',\n",
       "                                'x': 2.5332393527030943,\n",
       "                                'y': 3.345481386780739,\n",
       "                                'yshift': 10},\n",
       "                               {'showarrow': False,\n",
       "                                'text': 'D2',\n",
       "                                'x': 5.798978036642074,\n",
       "                                'xshift': 10,\n",
       "                                'y': 5.350420141220093}],\n",
       "               'height': 750,\n",
       "               'shapes': [{'line': {'color': '#CFD8DC', 'width': 2},\n",
       "                           'type': 'line',\n",
       "                           'x0': 5.798978036642074,\n",
       "                           'x1': 5.798978036642074,\n",
       "                           'y0': 1.340542632341385,\n",
       "                           'y1': 5.350420141220093},\n",
       "                          {'line': {'color': '#9E9E9E', 'width': 2},\n",
       "                           'type': 'line',\n",
       "                           'x0': 2.5332393527030943,\n",
       "                           'x1': 9.064716720581055,\n",
       "                           'y0': 3.345481386780739,\n",
       "                           'y1': 3.345481386780739}],\n",
       "               'template': '...',\n",
       "               'title': {'font': {'color': 'Black', 'size': 22},\n",
       "                         'text': '<b>Documents and Topics</b>',\n",
       "                         'x': 0.5,\n",
       "                         'xanchor': 'center',\n",
       "                         'yanchor': 'top'},\n",
       "               'width': 1200,\n",
       "               'xaxis': {'visible': False},\n",
       "               'yaxis': {'visible': False}}\n",
       "})"
      ]
     },
     "execution_count": 6,
     "metadata": {},
     "output_type": "execute_result"
    }
   ],
   "source": [
    "topic_model.visualize_documents(teks_berita, reduced_embeddings=reduced_embeddings)"
   ]
  },
  {
   "cell_type": "code",
   "execution_count": null,
   "metadata": {},
   "outputs": [
    {
     "ename": "ValueError",
     "evalue": "Mime type rendering requires nbformat>=4.2.0 but it is not installed",
     "output_type": "error",
     "traceback": [
      "\u001b[0;31m---------------------------------------------------------------------------\u001b[0m",
      "\u001b[0;31mValueError\u001b[0m                                Traceback (most recent call last)",
      "File \u001b[0;32m~/Desktop/program_gui/lib/python3.12/site-packages/IPython/core/formatters.py:925\u001b[0m, in \u001b[0;36mIPythonDisplayFormatter.__call__\u001b[0;34m(self, obj)\u001b[0m\n\u001b[1;32m    923\u001b[0m method \u001b[39m=\u001b[39m get_real_method(obj, \u001b[39mself\u001b[39m\u001b[39m.\u001b[39mprint_method)\n\u001b[1;32m    924\u001b[0m \u001b[39mif\u001b[39;00m method \u001b[39mis\u001b[39;00m \u001b[39mnot\u001b[39;00m \u001b[39mNone\u001b[39;00m:\n\u001b[0;32m--> 925\u001b[0m     method()\n\u001b[1;32m    926\u001b[0m     \u001b[39mreturn\u001b[39;00m \u001b[39mTrue\u001b[39;00m\n",
      "File \u001b[0;32m~/Desktop/program_gui/lib/python3.12/site-packages/plotly/basedatatypes.py:832\u001b[0m, in \u001b[0;36mBaseFigure._ipython_display_\u001b[0;34m(self)\u001b[0m\n\u001b[1;32m    829\u001b[0m \u001b[39mimport\u001b[39;00m \u001b[39mplotly\u001b[39;00m\u001b[39m.\u001b[39;00m\u001b[39mio\u001b[39;00m \u001b[39mas\u001b[39;00m \u001b[39mpio\u001b[39;00m\n\u001b[1;32m    831\u001b[0m \u001b[39mif\u001b[39;00m pio\u001b[39m.\u001b[39mrenderers\u001b[39m.\u001b[39mrender_on_display \u001b[39mand\u001b[39;00m pio\u001b[39m.\u001b[39mrenderers\u001b[39m.\u001b[39mdefault:\n\u001b[0;32m--> 832\u001b[0m     pio\u001b[39m.\u001b[39;49mshow(\u001b[39mself\u001b[39;49m)\n\u001b[1;32m    833\u001b[0m \u001b[39melse\u001b[39;00m:\n\u001b[1;32m    834\u001b[0m     \u001b[39mprint\u001b[39m(\u001b[39mrepr\u001b[39m(\u001b[39mself\u001b[39m))\n",
      "File \u001b[0;32m~/Desktop/program_gui/lib/python3.12/site-packages/plotly/io/_renderers.py:394\u001b[0m, in \u001b[0;36mshow\u001b[0;34m(fig, renderer, validate, **kwargs)\u001b[0m\n\u001b[1;32m    389\u001b[0m         \u001b[39mraise\u001b[39;00m \u001b[39mValueError\u001b[39;00m(\n\u001b[1;32m    390\u001b[0m             \u001b[39m\"\u001b[39m\u001b[39mMime type rendering requires ipython but it is not installed\u001b[39m\u001b[39m\"\u001b[39m\n\u001b[1;32m    391\u001b[0m         )\n\u001b[1;32m    393\u001b[0m     \u001b[39mif\u001b[39;00m \u001b[39mnot\u001b[39;00m nbformat \u001b[39mor\u001b[39;00m Version(nbformat\u001b[39m.\u001b[39m__version__) \u001b[39m<\u001b[39m Version(\u001b[39m\"\u001b[39m\u001b[39m4.2.0\u001b[39m\u001b[39m\"\u001b[39m):\n\u001b[0;32m--> 394\u001b[0m         \u001b[39mraise\u001b[39;00m \u001b[39mValueError\u001b[39;00m(\n\u001b[1;32m    395\u001b[0m             \u001b[39m\"\u001b[39m\u001b[39mMime type rendering requires nbformat>=4.2.0 but it is not installed\u001b[39m\u001b[39m\"\u001b[39m\n\u001b[1;32m    396\u001b[0m         )\n\u001b[1;32m    398\u001b[0m     ipython_display\u001b[39m.\u001b[39mdisplay(bundle, raw\u001b[39m=\u001b[39m\u001b[39mTrue\u001b[39;00m)\n\u001b[1;32m    400\u001b[0m \u001b[39m# external renderers\u001b[39;00m\n",
      "\u001b[0;31mValueError\u001b[0m: Mime type rendering requires nbformat>=4.2.0 but it is not installed"
     ]
    },
    {
     "data": {
      "application/vnd.plotly.v1+json": {
       "config": {
        "plotlyServerURL": "https://plot.ly"
       },
       "data": [
        {
         "coloraxis": "coloraxis",
         "hovertemplate": "x: %{x}<br>y: %{y}<br>Similarity Score: %{z}<extra></extra>",
         "name": "0",
         "type": "heatmap",
         "x": [
          "0_presiden_prabowo_dan",
          "1_pks_di_prabowo",
          "2_gibran_persen_indonesia",
          "3_yang_tidak_pan",
          "4_megawati_pertemuan_puan",
          "5_anies_prabowo_ganjar",
          "6_operasi_yang_besar",
          "7_ptun_kpu_gugatan",
          "8_titiek_pks_prabowo",
          "9_operasi_cedera_kaki",
          "10_saya_prabowo_dan"
         ],
         "xaxis": "x",
         "y": [
          "0_presiden_prabowo_dan",
          "1_pks_di_prabowo",
          "2_gibran_persen_indonesia",
          "3_yang_tidak_pan",
          "4_megawati_pertemuan_puan",
          "5_anies_prabowo_ganjar",
          "6_operasi_yang_besar",
          "7_ptun_kpu_gugatan",
          "8_titiek_pks_prabowo",
          "9_operasi_cedera_kaki",
          "10_saya_prabowo_dan"
         ],
         "yaxis": "y",
         "z": [
          [
           1.0000001192092896,
           0.8852005004882812,
           0.9234423637390137,
           0.8746591806411743,
           0.8729147911071777,
           0.9028727412223816,
           0.8734915256500244,
           0.907623827457428,
           0.844891369342804,
           0.8534457087516785,
           0.8893812894821167
          ],
          [
           0.8852005004882812,
           0.9999998211860657,
           0.8746572136878967,
           0.9159513711929321,
           0.8684431910514832,
           0.8970938920974731,
           0.8071033358573914,
           0.8840794563293457,
           0.8856933116912842,
           0.8399800062179565,
           0.8696061968803406
          ],
          [
           0.9234423637390137,
           0.8746572136878967,
           0.9999998807907104,
           0.8556039333343506,
           0.8400203585624695,
           0.8859013319015503,
           0.8027540445327759,
           0.8569165468215942,
           0.8285596966743469,
           0.8432647585868835,
           0.8321198225021362
          ],
          [
           0.8746591806411743,
           0.9159513711929321,
           0.8556039333343506,
           0.9999998807907104,
           0.8541015386581421,
           0.8727180361747742,
           0.7499822378158569,
           0.860944926738739,
           0.8805427551269531,
           0.8304210305213928,
           0.8495894074440002
          ],
          [
           0.8729147911071777,
           0.8684431910514832,
           0.8400203585624695,
           0.8541015386581421,
           0.9999999403953552,
           0.8443311452865601,
           0.7669887542724609,
           0.8465548753738403,
           0.8344935178756714,
           0.8104115128517151,
           0.8073469400405884
          ],
          [
           0.9028727412223816,
           0.8970938920974731,
           0.8859013319015503,
           0.8727180361747742,
           0.8443311452865601,
           1.000000238418579,
           0.8067638874053955,
           0.8810410499572754,
           0.8670120239257812,
           0.8292886018753052,
           0.8767971992492676
          ],
          [
           0.8734915256500244,
           0.8071033358573914,
           0.8027540445327759,
           0.7499822378158569,
           0.7669887542724609,
           0.8067638874053955,
           1.0000001192092896,
           0.7889012098312378,
           0.7604115605354309,
           0.784024715423584,
           0.836113452911377
          ],
          [
           0.907623827457428,
           0.8840794563293457,
           0.8569165468215942,
           0.860944926738739,
           0.8465548753738403,
           0.8810410499572754,
           0.7889012098312378,
           0.9999999403953552,
           0.830302357673645,
           0.825059175491333,
           0.8450919389724731
          ],
          [
           0.844891369342804,
           0.8856933116912842,
           0.8285596966743469,
           0.8805427551269531,
           0.8344935178756714,
           0.8670120239257812,
           0.7604115605354309,
           0.830302357673645,
           1.0000001192092896,
           0.7846795916557312,
           0.8625279664993286
          ],
          [
           0.8534457087516785,
           0.8399800062179565,
           0.8432647585868835,
           0.8304210305213928,
           0.8104115128517151,
           0.8292886018753052,
           0.784024715423584,
           0.825059175491333,
           0.7846795916557312,
           0.9999999403953552,
           0.7978571653366089
          ],
          [
           0.8893812894821167,
           0.8696061968803406,
           0.8321198225021362,
           0.8495894074440002,
           0.8073469400405884,
           0.8767971992492676,
           0.836113452911377,
           0.8450919389724731,
           0.8625279664993286,
           0.7978571653366089,
           1.000000238418579
          ]
         ]
        }
       ],
       "layout": {
        "coloraxis": {
         "colorbar": {
          "title": {
           "text": "Similarity Score"
          }
         },
         "colorscale": [
          [
           0,
           "rgb(247,252,240)"
          ],
          [
           0.125,
           "rgb(224,243,219)"
          ],
          [
           0.25,
           "rgb(204,235,197)"
          ],
          [
           0.375,
           "rgb(168,221,181)"
          ],
          [
           0.5,
           "rgb(123,204,196)"
          ],
          [
           0.625,
           "rgb(78,179,211)"
          ],
          [
           0.75,
           "rgb(43,140,190)"
          ],
          [
           0.875,
           "rgb(8,104,172)"
          ],
          [
           1,
           "rgb(8,64,129)"
          ]
         ]
        },
        "height": 800,
        "hoverlabel": {
         "bgcolor": "white",
         "font": {
          "family": "Rockwell",
          "size": 16
         }
        },
        "legend": {
         "title": {
          "text": "Trend"
         }
        },
        "margin": {
         "t": 60
        },
        "showlegend": true,
        "template": {
         "data": {
          "bar": [
           {
            "error_x": {
             "color": "#2a3f5f"
            },
            "error_y": {
             "color": "#2a3f5f"
            },
            "marker": {
             "line": {
              "color": "#E5ECF6",
              "width": 0.5
             },
             "pattern": {
              "fillmode": "overlay",
              "size": 10,
              "solidity": 0.2
             }
            },
            "type": "bar"
           }
          ],
          "barpolar": [
           {
            "marker": {
             "line": {
              "color": "#E5ECF6",
              "width": 0.5
             },
             "pattern": {
              "fillmode": "overlay",
              "size": 10,
              "solidity": 0.2
             }
            },
            "type": "barpolar"
           }
          ],
          "carpet": [
           {
            "aaxis": {
             "endlinecolor": "#2a3f5f",
             "gridcolor": "white",
             "linecolor": "white",
             "minorgridcolor": "white",
             "startlinecolor": "#2a3f5f"
            },
            "baxis": {
             "endlinecolor": "#2a3f5f",
             "gridcolor": "white",
             "linecolor": "white",
             "minorgridcolor": "white",
             "startlinecolor": "#2a3f5f"
            },
            "type": "carpet"
           }
          ],
          "choropleth": [
           {
            "colorbar": {
             "outlinewidth": 0,
             "ticks": ""
            },
            "type": "choropleth"
           }
          ],
          "contour": [
           {
            "colorbar": {
             "outlinewidth": 0,
             "ticks": ""
            },
            "colorscale": [
             [
              0,
              "#0d0887"
             ],
             [
              0.1111111111111111,
              "#46039f"
             ],
             [
              0.2222222222222222,
              "#7201a8"
             ],
             [
              0.3333333333333333,
              "#9c179e"
             ],
             [
              0.4444444444444444,
              "#bd3786"
             ],
             [
              0.5555555555555556,
              "#d8576b"
             ],
             [
              0.6666666666666666,
              "#ed7953"
             ],
             [
              0.7777777777777778,
              "#fb9f3a"
             ],
             [
              0.8888888888888888,
              "#fdca26"
             ],
             [
              1,
              "#f0f921"
             ]
            ],
            "type": "contour"
           }
          ],
          "contourcarpet": [
           {
            "colorbar": {
             "outlinewidth": 0,
             "ticks": ""
            },
            "type": "contourcarpet"
           }
          ],
          "heatmap": [
           {
            "colorbar": {
             "outlinewidth": 0,
             "ticks": ""
            },
            "colorscale": [
             [
              0,
              "#0d0887"
             ],
             [
              0.1111111111111111,
              "#46039f"
             ],
             [
              0.2222222222222222,
              "#7201a8"
             ],
             [
              0.3333333333333333,
              "#9c179e"
             ],
             [
              0.4444444444444444,
              "#bd3786"
             ],
             [
              0.5555555555555556,
              "#d8576b"
             ],
             [
              0.6666666666666666,
              "#ed7953"
             ],
             [
              0.7777777777777778,
              "#fb9f3a"
             ],
             [
              0.8888888888888888,
              "#fdca26"
             ],
             [
              1,
              "#f0f921"
             ]
            ],
            "type": "heatmap"
           }
          ],
          "heatmapgl": [
           {
            "colorbar": {
             "outlinewidth": 0,
             "ticks": ""
            },
            "colorscale": [
             [
              0,
              "#0d0887"
             ],
             [
              0.1111111111111111,
              "#46039f"
             ],
             [
              0.2222222222222222,
              "#7201a8"
             ],
             [
              0.3333333333333333,
              "#9c179e"
             ],
             [
              0.4444444444444444,
              "#bd3786"
             ],
             [
              0.5555555555555556,
              "#d8576b"
             ],
             [
              0.6666666666666666,
              "#ed7953"
             ],
             [
              0.7777777777777778,
              "#fb9f3a"
             ],
             [
              0.8888888888888888,
              "#fdca26"
             ],
             [
              1,
              "#f0f921"
             ]
            ],
            "type": "heatmapgl"
           }
          ],
          "histogram": [
           {
            "marker": {
             "pattern": {
              "fillmode": "overlay",
              "size": 10,
              "solidity": 0.2
             }
            },
            "type": "histogram"
           }
          ],
          "histogram2d": [
           {
            "colorbar": {
             "outlinewidth": 0,
             "ticks": ""
            },
            "colorscale": [
             [
              0,
              "#0d0887"
             ],
             [
              0.1111111111111111,
              "#46039f"
             ],
             [
              0.2222222222222222,
              "#7201a8"
             ],
             [
              0.3333333333333333,
              "#9c179e"
             ],
             [
              0.4444444444444444,
              "#bd3786"
             ],
             [
              0.5555555555555556,
              "#d8576b"
             ],
             [
              0.6666666666666666,
              "#ed7953"
             ],
             [
              0.7777777777777778,
              "#fb9f3a"
             ],
             [
              0.8888888888888888,
              "#fdca26"
             ],
             [
              1,
              "#f0f921"
             ]
            ],
            "type": "histogram2d"
           }
          ],
          "histogram2dcontour": [
           {
            "colorbar": {
             "outlinewidth": 0,
             "ticks": ""
            },
            "colorscale": [
             [
              0,
              "#0d0887"
             ],
             [
              0.1111111111111111,
              "#46039f"
             ],
             [
              0.2222222222222222,
              "#7201a8"
             ],
             [
              0.3333333333333333,
              "#9c179e"
             ],
             [
              0.4444444444444444,
              "#bd3786"
             ],
             [
              0.5555555555555556,
              "#d8576b"
             ],
             [
              0.6666666666666666,
              "#ed7953"
             ],
             [
              0.7777777777777778,
              "#fb9f3a"
             ],
             [
              0.8888888888888888,
              "#fdca26"
             ],
             [
              1,
              "#f0f921"
             ]
            ],
            "type": "histogram2dcontour"
           }
          ],
          "mesh3d": [
           {
            "colorbar": {
             "outlinewidth": 0,
             "ticks": ""
            },
            "type": "mesh3d"
           }
          ],
          "parcoords": [
           {
            "line": {
             "colorbar": {
              "outlinewidth": 0,
              "ticks": ""
             }
            },
            "type": "parcoords"
           }
          ],
          "pie": [
           {
            "automargin": true,
            "type": "pie"
           }
          ],
          "scatter": [
           {
            "fillpattern": {
             "fillmode": "overlay",
             "size": 10,
             "solidity": 0.2
            },
            "type": "scatter"
           }
          ],
          "scatter3d": [
           {
            "line": {
             "colorbar": {
              "outlinewidth": 0,
              "ticks": ""
             }
            },
            "marker": {
             "colorbar": {
              "outlinewidth": 0,
              "ticks": ""
             }
            },
            "type": "scatter3d"
           }
          ],
          "scattercarpet": [
           {
            "marker": {
             "colorbar": {
              "outlinewidth": 0,
              "ticks": ""
             }
            },
            "type": "scattercarpet"
           }
          ],
          "scattergeo": [
           {
            "marker": {
             "colorbar": {
              "outlinewidth": 0,
              "ticks": ""
             }
            },
            "type": "scattergeo"
           }
          ],
          "scattergl": [
           {
            "marker": {
             "colorbar": {
              "outlinewidth": 0,
              "ticks": ""
             }
            },
            "type": "scattergl"
           }
          ],
          "scattermapbox": [
           {
            "marker": {
             "colorbar": {
              "outlinewidth": 0,
              "ticks": ""
             }
            },
            "type": "scattermapbox"
           }
          ],
          "scatterpolar": [
           {
            "marker": {
             "colorbar": {
              "outlinewidth": 0,
              "ticks": ""
             }
            },
            "type": "scatterpolar"
           }
          ],
          "scatterpolargl": [
           {
            "marker": {
             "colorbar": {
              "outlinewidth": 0,
              "ticks": ""
             }
            },
            "type": "scatterpolargl"
           }
          ],
          "scatterternary": [
           {
            "marker": {
             "colorbar": {
              "outlinewidth": 0,
              "ticks": ""
             }
            },
            "type": "scatterternary"
           }
          ],
          "surface": [
           {
            "colorbar": {
             "outlinewidth": 0,
             "ticks": ""
            },
            "colorscale": [
             [
              0,
              "#0d0887"
             ],
             [
              0.1111111111111111,
              "#46039f"
             ],
             [
              0.2222222222222222,
              "#7201a8"
             ],
             [
              0.3333333333333333,
              "#9c179e"
             ],
             [
              0.4444444444444444,
              "#bd3786"
             ],
             [
              0.5555555555555556,
              "#d8576b"
             ],
             [
              0.6666666666666666,
              "#ed7953"
             ],
             [
              0.7777777777777778,
              "#fb9f3a"
             ],
             [
              0.8888888888888888,
              "#fdca26"
             ],
             [
              1,
              "#f0f921"
             ]
            ],
            "type": "surface"
           }
          ],
          "table": [
           {
            "cells": {
             "fill": {
              "color": "#EBF0F8"
             },
             "line": {
              "color": "white"
             }
            },
            "header": {
             "fill": {
              "color": "#C8D4E3"
             },
             "line": {
              "color": "white"
             }
            },
            "type": "table"
           }
          ]
         },
         "layout": {
          "annotationdefaults": {
           "arrowcolor": "#2a3f5f",
           "arrowhead": 0,
           "arrowwidth": 1
          },
          "autotypenumbers": "strict",
          "coloraxis": {
           "colorbar": {
            "outlinewidth": 0,
            "ticks": ""
           }
          },
          "colorscale": {
           "diverging": [
            [
             0,
             "#8e0152"
            ],
            [
             0.1,
             "#c51b7d"
            ],
            [
             0.2,
             "#de77ae"
            ],
            [
             0.3,
             "#f1b6da"
            ],
            [
             0.4,
             "#fde0ef"
            ],
            [
             0.5,
             "#f7f7f7"
            ],
            [
             0.6,
             "#e6f5d0"
            ],
            [
             0.7,
             "#b8e186"
            ],
            [
             0.8,
             "#7fbc41"
            ],
            [
             0.9,
             "#4d9221"
            ],
            [
             1,
             "#276419"
            ]
           ],
           "sequential": [
            [
             0,
             "#0d0887"
            ],
            [
             0.1111111111111111,
             "#46039f"
            ],
            [
             0.2222222222222222,
             "#7201a8"
            ],
            [
             0.3333333333333333,
             "#9c179e"
            ],
            [
             0.4444444444444444,
             "#bd3786"
            ],
            [
             0.5555555555555556,
             "#d8576b"
            ],
            [
             0.6666666666666666,
             "#ed7953"
            ],
            [
             0.7777777777777778,
             "#fb9f3a"
            ],
            [
             0.8888888888888888,
             "#fdca26"
            ],
            [
             1,
             "#f0f921"
            ]
           ],
           "sequentialminus": [
            [
             0,
             "#0d0887"
            ],
            [
             0.1111111111111111,
             "#46039f"
            ],
            [
             0.2222222222222222,
             "#7201a8"
            ],
            [
             0.3333333333333333,
             "#9c179e"
            ],
            [
             0.4444444444444444,
             "#bd3786"
            ],
            [
             0.5555555555555556,
             "#d8576b"
            ],
            [
             0.6666666666666666,
             "#ed7953"
            ],
            [
             0.7777777777777778,
             "#fb9f3a"
            ],
            [
             0.8888888888888888,
             "#fdca26"
            ],
            [
             1,
             "#f0f921"
            ]
           ]
          },
          "colorway": [
           "#636efa",
           "#EF553B",
           "#00cc96",
           "#ab63fa",
           "#FFA15A",
           "#19d3f3",
           "#FF6692",
           "#B6E880",
           "#FF97FF",
           "#FECB52"
          ],
          "font": {
           "color": "#2a3f5f"
          },
          "geo": {
           "bgcolor": "white",
           "lakecolor": "white",
           "landcolor": "#E5ECF6",
           "showlakes": true,
           "showland": true,
           "subunitcolor": "white"
          },
          "hoverlabel": {
           "align": "left"
          },
          "hovermode": "closest",
          "mapbox": {
           "style": "light"
          },
          "paper_bgcolor": "white",
          "plot_bgcolor": "#E5ECF6",
          "polar": {
           "angularaxis": {
            "gridcolor": "white",
            "linecolor": "white",
            "ticks": ""
           },
           "bgcolor": "#E5ECF6",
           "radialaxis": {
            "gridcolor": "white",
            "linecolor": "white",
            "ticks": ""
           }
          },
          "scene": {
           "xaxis": {
            "backgroundcolor": "#E5ECF6",
            "gridcolor": "white",
            "gridwidth": 2,
            "linecolor": "white",
            "showbackground": true,
            "ticks": "",
            "zerolinecolor": "white"
           },
           "yaxis": {
            "backgroundcolor": "#E5ECF6",
            "gridcolor": "white",
            "gridwidth": 2,
            "linecolor": "white",
            "showbackground": true,
            "ticks": "",
            "zerolinecolor": "white"
           },
           "zaxis": {
            "backgroundcolor": "#E5ECF6",
            "gridcolor": "white",
            "gridwidth": 2,
            "linecolor": "white",
            "showbackground": true,
            "ticks": "",
            "zerolinecolor": "white"
           }
          },
          "shapedefaults": {
           "line": {
            "color": "#2a3f5f"
           }
          },
          "ternary": {
           "aaxis": {
            "gridcolor": "white",
            "linecolor": "white",
            "ticks": ""
           },
           "baxis": {
            "gridcolor": "white",
            "linecolor": "white",
            "ticks": ""
           },
           "bgcolor": "#E5ECF6",
           "caxis": {
            "gridcolor": "white",
            "linecolor": "white",
            "ticks": ""
           }
          },
          "title": {
           "x": 0.05
          },
          "xaxis": {
           "automargin": true,
           "gridcolor": "white",
           "linecolor": "white",
           "ticks": "",
           "title": {
            "standoff": 15
           },
           "zerolinecolor": "white",
           "zerolinewidth": 2
          },
          "yaxis": {
           "automargin": true,
           "gridcolor": "white",
           "linecolor": "white",
           "ticks": "",
           "title": {
            "standoff": 15
           },
           "zerolinecolor": "white",
           "zerolinewidth": 2
          }
         }
        },
        "title": {
         "font": {
          "color": "Black",
          "size": 22
         },
         "text": "<b>Similarity Matrix</b>",
         "x": 0.55,
         "xanchor": "center",
         "y": 0.95,
         "yanchor": "top"
        },
        "width": 800,
        "xaxis": {
         "anchor": "y",
         "constrain": "domain",
         "domain": [
          0,
          1
         ],
         "scaleanchor": "y"
        },
        "yaxis": {
         "anchor": "x",
         "autorange": "reversed",
         "constrain": "domain",
         "domain": [
          0,
          1
         ]
        }
       }
      },
      "text/html": [
       "<div>                        <script type=\"text/javascript\">window.PlotlyConfig = {MathJaxConfig: 'local'};</script>\n",
       "        <script charset=\"utf-8\" src=\"https://cdn.plot.ly/plotly-2.32.0.min.js\"></script>                <div id=\"432307c7-babb-49b3-8211-35184f08c02f\" class=\"plotly-graph-div\" style=\"height:800px; width:800px;\"></div>            <script type=\"text/javascript\">                                    window.PLOTLYENV=window.PLOTLYENV || {};                                    if (document.getElementById(\"432307c7-babb-49b3-8211-35184f08c02f\")) {                    Plotly.newPlot(                        \"432307c7-babb-49b3-8211-35184f08c02f\",                        [{\"coloraxis\":\"coloraxis\",\"name\":\"0\",\"x\":[\"0_presiden_prabowo_dan\",\"1_pks_di_prabowo\",\"2_gibran_persen_indonesia\",\"3_yang_tidak_pan\",\"4_megawati_pertemuan_puan\",\"5_anies_prabowo_ganjar\",\"6_operasi_yang_besar\",\"7_ptun_kpu_gugatan\",\"8_titiek_pks_prabowo\",\"9_operasi_cedera_kaki\",\"10_saya_prabowo_dan\"],\"y\":[\"0_presiden_prabowo_dan\",\"1_pks_di_prabowo\",\"2_gibran_persen_indonesia\",\"3_yang_tidak_pan\",\"4_megawati_pertemuan_puan\",\"5_anies_prabowo_ganjar\",\"6_operasi_yang_besar\",\"7_ptun_kpu_gugatan\",\"8_titiek_pks_prabowo\",\"9_operasi_cedera_kaki\",\"10_saya_prabowo_dan\"],\"z\":[[1.0000001192092896,0.8852005004882812,0.9234423637390137,0.8746591806411743,0.8729147911071777,0.9028727412223816,0.8734915256500244,0.907623827457428,0.844891369342804,0.8534457087516785,0.8893812894821167],[0.8852005004882812,0.9999998211860657,0.8746572136878967,0.9159513711929321,0.8684431910514832,0.8970938920974731,0.8071033358573914,0.8840794563293457,0.8856933116912842,0.8399800062179565,0.8696061968803406],[0.9234423637390137,0.8746572136878967,0.9999998807907104,0.8556039333343506,0.8400203585624695,0.8859013319015503,0.8027540445327759,0.8569165468215942,0.8285596966743469,0.8432647585868835,0.8321198225021362],[0.8746591806411743,0.9159513711929321,0.8556039333343506,0.9999998807907104,0.8541015386581421,0.8727180361747742,0.7499822378158569,0.860944926738739,0.8805427551269531,0.8304210305213928,0.8495894074440002],[0.8729147911071777,0.8684431910514832,0.8400203585624695,0.8541015386581421,0.9999999403953552,0.8443311452865601,0.7669887542724609,0.8465548753738403,0.8344935178756714,0.8104115128517151,0.8073469400405884],[0.9028727412223816,0.8970938920974731,0.8859013319015503,0.8727180361747742,0.8443311452865601,1.000000238418579,0.8067638874053955,0.8810410499572754,0.8670120239257812,0.8292886018753052,0.8767971992492676],[0.8734915256500244,0.8071033358573914,0.8027540445327759,0.7499822378158569,0.7669887542724609,0.8067638874053955,1.0000001192092896,0.7889012098312378,0.7604115605354309,0.784024715423584,0.836113452911377],[0.907623827457428,0.8840794563293457,0.8569165468215942,0.860944926738739,0.8465548753738403,0.8810410499572754,0.7889012098312378,0.9999999403953552,0.830302357673645,0.825059175491333,0.8450919389724731],[0.844891369342804,0.8856933116912842,0.8285596966743469,0.8805427551269531,0.8344935178756714,0.8670120239257812,0.7604115605354309,0.830302357673645,1.0000001192092896,0.7846795916557312,0.8625279664993286],[0.8534457087516785,0.8399800062179565,0.8432647585868835,0.8304210305213928,0.8104115128517151,0.8292886018753052,0.784024715423584,0.825059175491333,0.7846795916557312,0.9999999403953552,0.7978571653366089],[0.8893812894821167,0.8696061968803406,0.8321198225021362,0.8495894074440002,0.8073469400405884,0.8767971992492676,0.836113452911377,0.8450919389724731,0.8625279664993286,0.7978571653366089,1.000000238418579]],\"type\":\"heatmap\",\"xaxis\":\"x\",\"yaxis\":\"y\",\"hovertemplate\":\"x: %{x}\\u003cbr\\u003ey: %{y}\\u003cbr\\u003eSimilarity Score: %{z}\\u003cextra\\u003e\\u003c\\u002fextra\\u003e\"}],                        {\"template\":{\"data\":{\"histogram2dcontour\":[{\"type\":\"histogram2dcontour\",\"colorbar\":{\"outlinewidth\":0,\"ticks\":\"\"},\"colorscale\":[[0.0,\"#0d0887\"],[0.1111111111111111,\"#46039f\"],[0.2222222222222222,\"#7201a8\"],[0.3333333333333333,\"#9c179e\"],[0.4444444444444444,\"#bd3786\"],[0.5555555555555556,\"#d8576b\"],[0.6666666666666666,\"#ed7953\"],[0.7777777777777778,\"#fb9f3a\"],[0.8888888888888888,\"#fdca26\"],[1.0,\"#f0f921\"]]}],\"choropleth\":[{\"type\":\"choropleth\",\"colorbar\":{\"outlinewidth\":0,\"ticks\":\"\"}}],\"histogram2d\":[{\"type\":\"histogram2d\",\"colorbar\":{\"outlinewidth\":0,\"ticks\":\"\"},\"colorscale\":[[0.0,\"#0d0887\"],[0.1111111111111111,\"#46039f\"],[0.2222222222222222,\"#7201a8\"],[0.3333333333333333,\"#9c179e\"],[0.4444444444444444,\"#bd3786\"],[0.5555555555555556,\"#d8576b\"],[0.6666666666666666,\"#ed7953\"],[0.7777777777777778,\"#fb9f3a\"],[0.8888888888888888,\"#fdca26\"],[1.0,\"#f0f921\"]]}],\"heatmap\":[{\"type\":\"heatmap\",\"colorbar\":{\"outlinewidth\":0,\"ticks\":\"\"},\"colorscale\":[[0.0,\"#0d0887\"],[0.1111111111111111,\"#46039f\"],[0.2222222222222222,\"#7201a8\"],[0.3333333333333333,\"#9c179e\"],[0.4444444444444444,\"#bd3786\"],[0.5555555555555556,\"#d8576b\"],[0.6666666666666666,\"#ed7953\"],[0.7777777777777778,\"#fb9f3a\"],[0.8888888888888888,\"#fdca26\"],[1.0,\"#f0f921\"]]}],\"heatmapgl\":[{\"type\":\"heatmapgl\",\"colorbar\":{\"outlinewidth\":0,\"ticks\":\"\"},\"colorscale\":[[0.0,\"#0d0887\"],[0.1111111111111111,\"#46039f\"],[0.2222222222222222,\"#7201a8\"],[0.3333333333333333,\"#9c179e\"],[0.4444444444444444,\"#bd3786\"],[0.5555555555555556,\"#d8576b\"],[0.6666666666666666,\"#ed7953\"],[0.7777777777777778,\"#fb9f3a\"],[0.8888888888888888,\"#fdca26\"],[1.0,\"#f0f921\"]]}],\"contourcarpet\":[{\"type\":\"contourcarpet\",\"colorbar\":{\"outlinewidth\":0,\"ticks\":\"\"}}],\"contour\":[{\"type\":\"contour\",\"colorbar\":{\"outlinewidth\":0,\"ticks\":\"\"},\"colorscale\":[[0.0,\"#0d0887\"],[0.1111111111111111,\"#46039f\"],[0.2222222222222222,\"#7201a8\"],[0.3333333333333333,\"#9c179e\"],[0.4444444444444444,\"#bd3786\"],[0.5555555555555556,\"#d8576b\"],[0.6666666666666666,\"#ed7953\"],[0.7777777777777778,\"#fb9f3a\"],[0.8888888888888888,\"#fdca26\"],[1.0,\"#f0f921\"]]}],\"surface\":[{\"type\":\"surface\",\"colorbar\":{\"outlinewidth\":0,\"ticks\":\"\"},\"colorscale\":[[0.0,\"#0d0887\"],[0.1111111111111111,\"#46039f\"],[0.2222222222222222,\"#7201a8\"],[0.3333333333333333,\"#9c179e\"],[0.4444444444444444,\"#bd3786\"],[0.5555555555555556,\"#d8576b\"],[0.6666666666666666,\"#ed7953\"],[0.7777777777777778,\"#fb9f3a\"],[0.8888888888888888,\"#fdca26\"],[1.0,\"#f0f921\"]]}],\"mesh3d\":[{\"type\":\"mesh3d\",\"colorbar\":{\"outlinewidth\":0,\"ticks\":\"\"}}],\"scatter\":[{\"fillpattern\":{\"fillmode\":\"overlay\",\"size\":10,\"solidity\":0.2},\"type\":\"scatter\"}],\"parcoords\":[{\"type\":\"parcoords\",\"line\":{\"colorbar\":{\"outlinewidth\":0,\"ticks\":\"\"}}}],\"scatterpolargl\":[{\"type\":\"scatterpolargl\",\"marker\":{\"colorbar\":{\"outlinewidth\":0,\"ticks\":\"\"}}}],\"bar\":[{\"error_x\":{\"color\":\"#2a3f5f\"},\"error_y\":{\"color\":\"#2a3f5f\"},\"marker\":{\"line\":{\"color\":\"#E5ECF6\",\"width\":0.5},\"pattern\":{\"fillmode\":\"overlay\",\"size\":10,\"solidity\":0.2}},\"type\":\"bar\"}],\"scattergeo\":[{\"type\":\"scattergeo\",\"marker\":{\"colorbar\":{\"outlinewidth\":0,\"ticks\":\"\"}}}],\"scatterpolar\":[{\"type\":\"scatterpolar\",\"marker\":{\"colorbar\":{\"outlinewidth\":0,\"ticks\":\"\"}}}],\"histogram\":[{\"marker\":{\"pattern\":{\"fillmode\":\"overlay\",\"size\":10,\"solidity\":0.2}},\"type\":\"histogram\"}],\"scattergl\":[{\"type\":\"scattergl\",\"marker\":{\"colorbar\":{\"outlinewidth\":0,\"ticks\":\"\"}}}],\"scatter3d\":[{\"type\":\"scatter3d\",\"line\":{\"colorbar\":{\"outlinewidth\":0,\"ticks\":\"\"}},\"marker\":{\"colorbar\":{\"outlinewidth\":0,\"ticks\":\"\"}}}],\"scattermapbox\":[{\"type\":\"scattermapbox\",\"marker\":{\"colorbar\":{\"outlinewidth\":0,\"ticks\":\"\"}}}],\"scatterternary\":[{\"type\":\"scatterternary\",\"marker\":{\"colorbar\":{\"outlinewidth\":0,\"ticks\":\"\"}}}],\"scattercarpet\":[{\"type\":\"scattercarpet\",\"marker\":{\"colorbar\":{\"outlinewidth\":0,\"ticks\":\"\"}}}],\"carpet\":[{\"aaxis\":{\"endlinecolor\":\"#2a3f5f\",\"gridcolor\":\"white\",\"linecolor\":\"white\",\"minorgridcolor\":\"white\",\"startlinecolor\":\"#2a3f5f\"},\"baxis\":{\"endlinecolor\":\"#2a3f5f\",\"gridcolor\":\"white\",\"linecolor\":\"white\",\"minorgridcolor\":\"white\",\"startlinecolor\":\"#2a3f5f\"},\"type\":\"carpet\"}],\"table\":[{\"cells\":{\"fill\":{\"color\":\"#EBF0F8\"},\"line\":{\"color\":\"white\"}},\"header\":{\"fill\":{\"color\":\"#C8D4E3\"},\"line\":{\"color\":\"white\"}},\"type\":\"table\"}],\"barpolar\":[{\"marker\":{\"line\":{\"color\":\"#E5ECF6\",\"width\":0.5},\"pattern\":{\"fillmode\":\"overlay\",\"size\":10,\"solidity\":0.2}},\"type\":\"barpolar\"}],\"pie\":[{\"automargin\":true,\"type\":\"pie\"}]},\"layout\":{\"autotypenumbers\":\"strict\",\"colorway\":[\"#636efa\",\"#EF553B\",\"#00cc96\",\"#ab63fa\",\"#FFA15A\",\"#19d3f3\",\"#FF6692\",\"#B6E880\",\"#FF97FF\",\"#FECB52\"],\"font\":{\"color\":\"#2a3f5f\"},\"hovermode\":\"closest\",\"hoverlabel\":{\"align\":\"left\"},\"paper_bgcolor\":\"white\",\"plot_bgcolor\":\"#E5ECF6\",\"polar\":{\"bgcolor\":\"#E5ECF6\",\"angularaxis\":{\"gridcolor\":\"white\",\"linecolor\":\"white\",\"ticks\":\"\"},\"radialaxis\":{\"gridcolor\":\"white\",\"linecolor\":\"white\",\"ticks\":\"\"}},\"ternary\":{\"bgcolor\":\"#E5ECF6\",\"aaxis\":{\"gridcolor\":\"white\",\"linecolor\":\"white\",\"ticks\":\"\"},\"baxis\":{\"gridcolor\":\"white\",\"linecolor\":\"white\",\"ticks\":\"\"},\"caxis\":{\"gridcolor\":\"white\",\"linecolor\":\"white\",\"ticks\":\"\"}},\"coloraxis\":{\"colorbar\":{\"outlinewidth\":0,\"ticks\":\"\"}},\"colorscale\":{\"sequential\":[[0.0,\"#0d0887\"],[0.1111111111111111,\"#46039f\"],[0.2222222222222222,\"#7201a8\"],[0.3333333333333333,\"#9c179e\"],[0.4444444444444444,\"#bd3786\"],[0.5555555555555556,\"#d8576b\"],[0.6666666666666666,\"#ed7953\"],[0.7777777777777778,\"#fb9f3a\"],[0.8888888888888888,\"#fdca26\"],[1.0,\"#f0f921\"]],\"sequentialminus\":[[0.0,\"#0d0887\"],[0.1111111111111111,\"#46039f\"],[0.2222222222222222,\"#7201a8\"],[0.3333333333333333,\"#9c179e\"],[0.4444444444444444,\"#bd3786\"],[0.5555555555555556,\"#d8576b\"],[0.6666666666666666,\"#ed7953\"],[0.7777777777777778,\"#fb9f3a\"],[0.8888888888888888,\"#fdca26\"],[1.0,\"#f0f921\"]],\"diverging\":[[0,\"#8e0152\"],[0.1,\"#c51b7d\"],[0.2,\"#de77ae\"],[0.3,\"#f1b6da\"],[0.4,\"#fde0ef\"],[0.5,\"#f7f7f7\"],[0.6,\"#e6f5d0\"],[0.7,\"#b8e186\"],[0.8,\"#7fbc41\"],[0.9,\"#4d9221\"],[1,\"#276419\"]]},\"xaxis\":{\"gridcolor\":\"white\",\"linecolor\":\"white\",\"ticks\":\"\",\"title\":{\"standoff\":15},\"zerolinecolor\":\"white\",\"automargin\":true,\"zerolinewidth\":2},\"yaxis\":{\"gridcolor\":\"white\",\"linecolor\":\"white\",\"ticks\":\"\",\"title\":{\"standoff\":15},\"zerolinecolor\":\"white\",\"automargin\":true,\"zerolinewidth\":2},\"scene\":{\"xaxis\":{\"backgroundcolor\":\"#E5ECF6\",\"gridcolor\":\"white\",\"linecolor\":\"white\",\"showbackground\":true,\"ticks\":\"\",\"zerolinecolor\":\"white\",\"gridwidth\":2},\"yaxis\":{\"backgroundcolor\":\"#E5ECF6\",\"gridcolor\":\"white\",\"linecolor\":\"white\",\"showbackground\":true,\"ticks\":\"\",\"zerolinecolor\":\"white\",\"gridwidth\":2},\"zaxis\":{\"backgroundcolor\":\"#E5ECF6\",\"gridcolor\":\"white\",\"linecolor\":\"white\",\"showbackground\":true,\"ticks\":\"\",\"zerolinecolor\":\"white\",\"gridwidth\":2}},\"shapedefaults\":{\"line\":{\"color\":\"#2a3f5f\"}},\"annotationdefaults\":{\"arrowcolor\":\"#2a3f5f\",\"arrowhead\":0,\"arrowwidth\":1},\"geo\":{\"bgcolor\":\"white\",\"landcolor\":\"#E5ECF6\",\"subunitcolor\":\"white\",\"showland\":true,\"showlakes\":true,\"lakecolor\":\"white\"},\"title\":{\"x\":0.05},\"mapbox\":{\"style\":\"light\"}}},\"xaxis\":{\"anchor\":\"y\",\"domain\":[0.0,1.0],\"scaleanchor\":\"y\",\"constrain\":\"domain\"},\"yaxis\":{\"anchor\":\"x\",\"domain\":[0.0,1.0],\"autorange\":\"reversed\",\"constrain\":\"domain\"},\"coloraxis\":{\"colorbar\":{\"title\":{\"text\":\"Similarity Score\"}},\"colorscale\":[[0.0,\"rgb(247,252,240)\"],[0.125,\"rgb(224,243,219)\"],[0.25,\"rgb(204,235,197)\"],[0.375,\"rgb(168,221,181)\"],[0.5,\"rgb(123,204,196)\"],[0.625,\"rgb(78,179,211)\"],[0.75,\"rgb(43,140,190)\"],[0.875,\"rgb(8,104,172)\"],[1.0,\"rgb(8,64,129)\"]]},\"margin\":{\"t\":60},\"title\":{\"font\":{\"size\":22,\"color\":\"Black\"},\"text\":\"\\u003cb\\u003eSimilarity Matrix\\u003c\\u002fb\\u003e\",\"y\":0.95,\"x\":0.55,\"xanchor\":\"center\",\"yanchor\":\"top\"},\"hoverlabel\":{\"font\":{\"size\":16,\"family\":\"Rockwell\"},\"bgcolor\":\"white\"},\"width\":800,\"height\":800,\"showlegend\":true,\"legend\":{\"title\":{\"text\":\"Trend\"}}},                        {\"responsive\": true}                    )                };                            </script>        </div>"
      ],
      "text/plain": [
       "Figure({\n",
       "    'data': [{'coloraxis': 'coloraxis',\n",
       "              'hovertemplate': 'x: %{x}<br>y: %{y}<br>Similarity Score: %{z}<extra></extra>',\n",
       "              'name': '0',\n",
       "              'type': 'heatmap',\n",
       "              'x': [0_presiden_prabowo_dan, 1_pks_di_prabowo,\n",
       "                    2_gibran_persen_indonesia, 3_yang_tidak_pan,\n",
       "                    4_megawati_pertemuan_puan, 5_anies_prabowo_ganjar,\n",
       "                    6_operasi_yang_besar, 7_ptun_kpu_gugatan, 8_titiek_pks_prabowo,\n",
       "                    9_operasi_cedera_kaki, 10_saya_prabowo_dan],\n",
       "              'xaxis': 'x',\n",
       "              'y': [0_presiden_prabowo_dan, 1_pks_di_prabowo,\n",
       "                    2_gibran_persen_indonesia, 3_yang_tidak_pan,\n",
       "                    4_megawati_pertemuan_puan, 5_anies_prabowo_ganjar,\n",
       "                    6_operasi_yang_besar, 7_ptun_kpu_gugatan, 8_titiek_pks_prabowo,\n",
       "                    9_operasi_cedera_kaki, 10_saya_prabowo_dan],\n",
       "              'yaxis': 'y',\n",
       "              'z': array([[1.0000001 , 0.8852005 , 0.92344236, 0.8746592 , 0.8729148 ,\n",
       "                           0.90287274, 0.8734915 , 0.9076238 , 0.84489137, 0.8534457 ,\n",
       "                           0.8893813 ],\n",
       "                          [0.8852005 , 0.9999998 , 0.8746572 , 0.9159514 , 0.8684432 ,\n",
       "                           0.8970939 , 0.80710334, 0.88407946, 0.8856933 , 0.83998   ,\n",
       "                           0.8696062 ],\n",
       "                          [0.92344236, 0.8746572 , 0.9999999 , 0.85560393, 0.84002036,\n",
       "                           0.88590133, 0.80275404, 0.85691655, 0.8285597 , 0.84326476,\n",
       "                           0.8321198 ],\n",
       "                          [0.8746592 , 0.9159514 , 0.85560393, 0.9999999 , 0.85410154,\n",
       "                           0.87271804, 0.74998224, 0.8609449 , 0.88054276, 0.83042103,\n",
       "                           0.8495894 ],\n",
       "                          [0.8729148 , 0.8684432 , 0.84002036, 0.85410154, 0.99999994,\n",
       "                           0.84433115, 0.76698875, 0.8465549 , 0.8344935 , 0.8104115 ,\n",
       "                           0.80734694],\n",
       "                          [0.90287274, 0.8970939 , 0.88590133, 0.87271804, 0.84433115,\n",
       "                           1.0000002 , 0.8067639 , 0.88104105, 0.867012  , 0.8292886 ,\n",
       "                           0.8767972 ],\n",
       "                          [0.8734915 , 0.80710334, 0.80275404, 0.74998224, 0.76698875,\n",
       "                           0.8067639 , 1.0000001 , 0.7889012 , 0.76041156, 0.7840247 ,\n",
       "                           0.83611345],\n",
       "                          [0.9076238 , 0.88407946, 0.85691655, 0.8609449 , 0.8465549 ,\n",
       "                           0.88104105, 0.7889012 , 0.99999994, 0.83030236, 0.8250592 ,\n",
       "                           0.84509194],\n",
       "                          [0.84489137, 0.8856933 , 0.8285597 , 0.88054276, 0.8344935 ,\n",
       "                           0.867012  , 0.76041156, 0.83030236, 1.0000001 , 0.7846796 ,\n",
       "                           0.86252797],\n",
       "                          [0.8534457 , 0.83998   , 0.84326476, 0.83042103, 0.8104115 ,\n",
       "                           0.8292886 , 0.7840247 , 0.8250592 , 0.7846796 , 0.99999994,\n",
       "                           0.79785717],\n",
       "                          [0.8893813 , 0.8696062 , 0.8321198 , 0.8495894 , 0.80734694,\n",
       "                           0.8767972 , 0.83611345, 0.84509194, 0.86252797, 0.79785717,\n",
       "                           1.0000002 ]], dtype=float32)}],\n",
       "    'layout': {'coloraxis': {'colorbar': {'title': {'text': 'Similarity Score'}},\n",
       "                             'colorscale': [[0.0, 'rgb(247,252,240)'], [0.125,\n",
       "                                            'rgb(224,243,219)'], [0.25,\n",
       "                                            'rgb(204,235,197)'], [0.375,\n",
       "                                            'rgb(168,221,181)'], [0.5,\n",
       "                                            'rgb(123,204,196)'], [0.625,\n",
       "                                            'rgb(78,179,211)'], [0.75,\n",
       "                                            'rgb(43,140,190)'], [0.875,\n",
       "                                            'rgb(8,104,172)'], [1.0,\n",
       "                                            'rgb(8,64,129)']]},\n",
       "               'height': 800,\n",
       "               'hoverlabel': {'bgcolor': 'white', 'font': {'family': 'Rockwell', 'size': 16}},\n",
       "               'legend': {'title': {'text': 'Trend'}},\n",
       "               'margin': {'t': 60},\n",
       "               'showlegend': True,\n",
       "               'template': '...',\n",
       "               'title': {'font': {'color': 'Black', 'size': 22},\n",
       "                         'text': '<b>Similarity Matrix</b>',\n",
       "                         'x': 0.55,\n",
       "                         'xanchor': 'center',\n",
       "                         'y': 0.95,\n",
       "                         'yanchor': 'top'},\n",
       "               'width': 800,\n",
       "               'xaxis': {'anchor': 'y', 'constrain': 'domain', 'domain': [0.0, 1.0], 'scaleanchor': 'y'},\n",
       "               'yaxis': {'anchor': 'x', 'autorange': 'reversed', 'constrain': 'domain', 'domain': [0.0, 1.0]}}\n",
       "})"
      ]
     },
     "execution_count": 20,
     "metadata": {},
     "output_type": "execute_result"
    }
   ],
   "source": [
    "topic_model.visualize_heatmap()"
   ]
  },
  {
   "cell_type": "code",
   "execution_count": null,
   "metadata": {},
   "outputs": [
    {
     "ename": "ValueError",
     "evalue": "Mime type rendering requires nbformat>=4.2.0 but it is not installed",
     "output_type": "error",
     "traceback": [
      "\u001b[0;31m---------------------------------------------------------------------------\u001b[0m",
      "\u001b[0;31mValueError\u001b[0m                                Traceback (most recent call last)",
      "File \u001b[0;32m~/Desktop/program_gui/lib/python3.12/site-packages/IPython/core/formatters.py:925\u001b[0m, in \u001b[0;36mIPythonDisplayFormatter.__call__\u001b[0;34m(self, obj)\u001b[0m\n\u001b[1;32m    923\u001b[0m method \u001b[39m=\u001b[39m get_real_method(obj, \u001b[39mself\u001b[39m\u001b[39m.\u001b[39mprint_method)\n\u001b[1;32m    924\u001b[0m \u001b[39mif\u001b[39;00m method \u001b[39mis\u001b[39;00m \u001b[39mnot\u001b[39;00m \u001b[39mNone\u001b[39;00m:\n\u001b[0;32m--> 925\u001b[0m     method()\n\u001b[1;32m    926\u001b[0m     \u001b[39mreturn\u001b[39;00m \u001b[39mTrue\u001b[39;00m\n",
      "File \u001b[0;32m~/Desktop/program_gui/lib/python3.12/site-packages/plotly/basedatatypes.py:832\u001b[0m, in \u001b[0;36mBaseFigure._ipython_display_\u001b[0;34m(self)\u001b[0m\n\u001b[1;32m    829\u001b[0m \u001b[39mimport\u001b[39;00m \u001b[39mplotly\u001b[39;00m\u001b[39m.\u001b[39;00m\u001b[39mio\u001b[39;00m \u001b[39mas\u001b[39;00m \u001b[39mpio\u001b[39;00m\n\u001b[1;32m    831\u001b[0m \u001b[39mif\u001b[39;00m pio\u001b[39m.\u001b[39mrenderers\u001b[39m.\u001b[39mrender_on_display \u001b[39mand\u001b[39;00m pio\u001b[39m.\u001b[39mrenderers\u001b[39m.\u001b[39mdefault:\n\u001b[0;32m--> 832\u001b[0m     pio\u001b[39m.\u001b[39;49mshow(\u001b[39mself\u001b[39;49m)\n\u001b[1;32m    833\u001b[0m \u001b[39melse\u001b[39;00m:\n\u001b[1;32m    834\u001b[0m     \u001b[39mprint\u001b[39m(\u001b[39mrepr\u001b[39m(\u001b[39mself\u001b[39m))\n",
      "File \u001b[0;32m~/Desktop/program_gui/lib/python3.12/site-packages/plotly/io/_renderers.py:394\u001b[0m, in \u001b[0;36mshow\u001b[0;34m(fig, renderer, validate, **kwargs)\u001b[0m\n\u001b[1;32m    389\u001b[0m         \u001b[39mraise\u001b[39;00m \u001b[39mValueError\u001b[39;00m(\n\u001b[1;32m    390\u001b[0m             \u001b[39m\"\u001b[39m\u001b[39mMime type rendering requires ipython but it is not installed\u001b[39m\u001b[39m\"\u001b[39m\n\u001b[1;32m    391\u001b[0m         )\n\u001b[1;32m    393\u001b[0m     \u001b[39mif\u001b[39;00m \u001b[39mnot\u001b[39;00m nbformat \u001b[39mor\u001b[39;00m Version(nbformat\u001b[39m.\u001b[39m__version__) \u001b[39m<\u001b[39m Version(\u001b[39m\"\u001b[39m\u001b[39m4.2.0\u001b[39m\u001b[39m\"\u001b[39m):\n\u001b[0;32m--> 394\u001b[0m         \u001b[39mraise\u001b[39;00m \u001b[39mValueError\u001b[39;00m(\n\u001b[1;32m    395\u001b[0m             \u001b[39m\"\u001b[39m\u001b[39mMime type rendering requires nbformat>=4.2.0 but it is not installed\u001b[39m\u001b[39m\"\u001b[39m\n\u001b[1;32m    396\u001b[0m         )\n\u001b[1;32m    398\u001b[0m     ipython_display\u001b[39m.\u001b[39mdisplay(bundle, raw\u001b[39m=\u001b[39m\u001b[39mTrue\u001b[39;00m)\n\u001b[1;32m    400\u001b[0m \u001b[39m# external renderers\u001b[39;00m\n",
      "\u001b[0;31mValueError\u001b[0m: Mime type rendering requires nbformat>=4.2.0 but it is not installed"
     ]
    },
    {
     "data": {
      "application/vnd.plotly.v1+json": {
       "config": {
        "plotlyServerURL": "https://plot.ly"
       },
       "data": [
        {
         "marker": {
          "color": "#C8D2D7",
          "line": {
           "color": "#6E8484",
           "width": 1
          }
         },
         "orientation": "h",
         "type": "bar",
         "x": [
          0.09398127009460623,
          0.0929048479325699,
          0.057937574082292075,
          0.06289949927606849,
          0.04874636156335894,
          0.06598621296817582,
          0.19086949595187494,
          0.04448970421414625,
          0.049914918342390105,
          0.15553002595588433,
          0.1367400896186329
         ],
         "y": [
          "<b>Topic 0</b>: presiden_prabowo_dan_di_...",
          "<b>Topic 1</b>: pks_di_prabowo_juga_untu...",
          "<b>Topic 2</b>: gibran_persen_indonesia_...",
          "<b>Topic 3</b>: yang_tidak_pan_prabowo_m...",
          "<b>Topic 4</b>: megawati_pertemuan_puan_...",
          "<b>Topic 5</b>: anies_prabowo_ganjar_muz...",
          "<b>Topic 6</b>: operasi_yang_besar_saya_...",
          "<b>Topic 7</b>: ptun_kpu_gugatan_hukum_m...",
          "<b>Topic 8</b>: titiek_pks_prabowo_soeha...",
          "<b>Topic 9</b>: operasi_cedera_kaki_kece...",
          "<b>Topic 10</b>: saya_prabowo_dan_operas..."
         ]
        }
       ],
       "layout": {
        "height": 600,
        "hoverlabel": {
         "bgcolor": "white",
         "font": {
          "family": "Rockwell",
          "size": 16
         }
        },
        "template": {
         "data": {
          "bar": [
           {
            "error_x": {
             "color": "rgb(36,36,36)"
            },
            "error_y": {
             "color": "rgb(36,36,36)"
            },
            "marker": {
             "line": {
              "color": "white",
              "width": 0.5
             },
             "pattern": {
              "fillmode": "overlay",
              "size": 10,
              "solidity": 0.2
             }
            },
            "type": "bar"
           }
          ],
          "barpolar": [
           {
            "marker": {
             "line": {
              "color": "white",
              "width": 0.5
             },
             "pattern": {
              "fillmode": "overlay",
              "size": 10,
              "solidity": 0.2
             }
            },
            "type": "barpolar"
           }
          ],
          "carpet": [
           {
            "aaxis": {
             "endlinecolor": "rgb(36,36,36)",
             "gridcolor": "white",
             "linecolor": "white",
             "minorgridcolor": "white",
             "startlinecolor": "rgb(36,36,36)"
            },
            "baxis": {
             "endlinecolor": "rgb(36,36,36)",
             "gridcolor": "white",
             "linecolor": "white",
             "minorgridcolor": "white",
             "startlinecolor": "rgb(36,36,36)"
            },
            "type": "carpet"
           }
          ],
          "choropleth": [
           {
            "colorbar": {
             "outlinewidth": 1,
             "tickcolor": "rgb(36,36,36)",
             "ticks": "outside"
            },
            "type": "choropleth"
           }
          ],
          "contour": [
           {
            "colorbar": {
             "outlinewidth": 1,
             "tickcolor": "rgb(36,36,36)",
             "ticks": "outside"
            },
            "colorscale": [
             [
              0,
              "#440154"
             ],
             [
              0.1111111111111111,
              "#482878"
             ],
             [
              0.2222222222222222,
              "#3e4989"
             ],
             [
              0.3333333333333333,
              "#31688e"
             ],
             [
              0.4444444444444444,
              "#26828e"
             ],
             [
              0.5555555555555556,
              "#1f9e89"
             ],
             [
              0.6666666666666666,
              "#35b779"
             ],
             [
              0.7777777777777778,
              "#6ece58"
             ],
             [
              0.8888888888888888,
              "#b5de2b"
             ],
             [
              1,
              "#fde725"
             ]
            ],
            "type": "contour"
           }
          ],
          "contourcarpet": [
           {
            "colorbar": {
             "outlinewidth": 1,
             "tickcolor": "rgb(36,36,36)",
             "ticks": "outside"
            },
            "type": "contourcarpet"
           }
          ],
          "heatmap": [
           {
            "colorbar": {
             "outlinewidth": 1,
             "tickcolor": "rgb(36,36,36)",
             "ticks": "outside"
            },
            "colorscale": [
             [
              0,
              "#440154"
             ],
             [
              0.1111111111111111,
              "#482878"
             ],
             [
              0.2222222222222222,
              "#3e4989"
             ],
             [
              0.3333333333333333,
              "#31688e"
             ],
             [
              0.4444444444444444,
              "#26828e"
             ],
             [
              0.5555555555555556,
              "#1f9e89"
             ],
             [
              0.6666666666666666,
              "#35b779"
             ],
             [
              0.7777777777777778,
              "#6ece58"
             ],
             [
              0.8888888888888888,
              "#b5de2b"
             ],
             [
              1,
              "#fde725"
             ]
            ],
            "type": "heatmap"
           }
          ],
          "heatmapgl": [
           {
            "colorbar": {
             "outlinewidth": 1,
             "tickcolor": "rgb(36,36,36)",
             "ticks": "outside"
            },
            "colorscale": [
             [
              0,
              "#440154"
             ],
             [
              0.1111111111111111,
              "#482878"
             ],
             [
              0.2222222222222222,
              "#3e4989"
             ],
             [
              0.3333333333333333,
              "#31688e"
             ],
             [
              0.4444444444444444,
              "#26828e"
             ],
             [
              0.5555555555555556,
              "#1f9e89"
             ],
             [
              0.6666666666666666,
              "#35b779"
             ],
             [
              0.7777777777777778,
              "#6ece58"
             ],
             [
              0.8888888888888888,
              "#b5de2b"
             ],
             [
              1,
              "#fde725"
             ]
            ],
            "type": "heatmapgl"
           }
          ],
          "histogram": [
           {
            "marker": {
             "line": {
              "color": "white",
              "width": 0.6
             }
            },
            "type": "histogram"
           }
          ],
          "histogram2d": [
           {
            "colorbar": {
             "outlinewidth": 1,
             "tickcolor": "rgb(36,36,36)",
             "ticks": "outside"
            },
            "colorscale": [
             [
              0,
              "#440154"
             ],
             [
              0.1111111111111111,
              "#482878"
             ],
             [
              0.2222222222222222,
              "#3e4989"
             ],
             [
              0.3333333333333333,
              "#31688e"
             ],
             [
              0.4444444444444444,
              "#26828e"
             ],
             [
              0.5555555555555556,
              "#1f9e89"
             ],
             [
              0.6666666666666666,
              "#35b779"
             ],
             [
              0.7777777777777778,
              "#6ece58"
             ],
             [
              0.8888888888888888,
              "#b5de2b"
             ],
             [
              1,
              "#fde725"
             ]
            ],
            "type": "histogram2d"
           }
          ],
          "histogram2dcontour": [
           {
            "colorbar": {
             "outlinewidth": 1,
             "tickcolor": "rgb(36,36,36)",
             "ticks": "outside"
            },
            "colorscale": [
             [
              0,
              "#440154"
             ],
             [
              0.1111111111111111,
              "#482878"
             ],
             [
              0.2222222222222222,
              "#3e4989"
             ],
             [
              0.3333333333333333,
              "#31688e"
             ],
             [
              0.4444444444444444,
              "#26828e"
             ],
             [
              0.5555555555555556,
              "#1f9e89"
             ],
             [
              0.6666666666666666,
              "#35b779"
             ],
             [
              0.7777777777777778,
              "#6ece58"
             ],
             [
              0.8888888888888888,
              "#b5de2b"
             ],
             [
              1,
              "#fde725"
             ]
            ],
            "type": "histogram2dcontour"
           }
          ],
          "mesh3d": [
           {
            "colorbar": {
             "outlinewidth": 1,
             "tickcolor": "rgb(36,36,36)",
             "ticks": "outside"
            },
            "type": "mesh3d"
           }
          ],
          "parcoords": [
           {
            "line": {
             "colorbar": {
              "outlinewidth": 1,
              "tickcolor": "rgb(36,36,36)",
              "ticks": "outside"
             }
            },
            "type": "parcoords"
           }
          ],
          "pie": [
           {
            "automargin": true,
            "type": "pie"
           }
          ],
          "scatter": [
           {
            "fillpattern": {
             "fillmode": "overlay",
             "size": 10,
             "solidity": 0.2
            },
            "type": "scatter"
           }
          ],
          "scatter3d": [
           {
            "line": {
             "colorbar": {
              "outlinewidth": 1,
              "tickcolor": "rgb(36,36,36)",
              "ticks": "outside"
             }
            },
            "marker": {
             "colorbar": {
              "outlinewidth": 1,
              "tickcolor": "rgb(36,36,36)",
              "ticks": "outside"
             }
            },
            "type": "scatter3d"
           }
          ],
          "scattercarpet": [
           {
            "marker": {
             "colorbar": {
              "outlinewidth": 1,
              "tickcolor": "rgb(36,36,36)",
              "ticks": "outside"
             }
            },
            "type": "scattercarpet"
           }
          ],
          "scattergeo": [
           {
            "marker": {
             "colorbar": {
              "outlinewidth": 1,
              "tickcolor": "rgb(36,36,36)",
              "ticks": "outside"
             }
            },
            "type": "scattergeo"
           }
          ],
          "scattergl": [
           {
            "marker": {
             "colorbar": {
              "outlinewidth": 1,
              "tickcolor": "rgb(36,36,36)",
              "ticks": "outside"
             }
            },
            "type": "scattergl"
           }
          ],
          "scattermapbox": [
           {
            "marker": {
             "colorbar": {
              "outlinewidth": 1,
              "tickcolor": "rgb(36,36,36)",
              "ticks": "outside"
             }
            },
            "type": "scattermapbox"
           }
          ],
          "scatterpolar": [
           {
            "marker": {
             "colorbar": {
              "outlinewidth": 1,
              "tickcolor": "rgb(36,36,36)",
              "ticks": "outside"
             }
            },
            "type": "scatterpolar"
           }
          ],
          "scatterpolargl": [
           {
            "marker": {
             "colorbar": {
              "outlinewidth": 1,
              "tickcolor": "rgb(36,36,36)",
              "ticks": "outside"
             }
            },
            "type": "scatterpolargl"
           }
          ],
          "scatterternary": [
           {
            "marker": {
             "colorbar": {
              "outlinewidth": 1,
              "tickcolor": "rgb(36,36,36)",
              "ticks": "outside"
             }
            },
            "type": "scatterternary"
           }
          ],
          "surface": [
           {
            "colorbar": {
             "outlinewidth": 1,
             "tickcolor": "rgb(36,36,36)",
             "ticks": "outside"
            },
            "colorscale": [
             [
              0,
              "#440154"
             ],
             [
              0.1111111111111111,
              "#482878"
             ],
             [
              0.2222222222222222,
              "#3e4989"
             ],
             [
              0.3333333333333333,
              "#31688e"
             ],
             [
              0.4444444444444444,
              "#26828e"
             ],
             [
              0.5555555555555556,
              "#1f9e89"
             ],
             [
              0.6666666666666666,
              "#35b779"
             ],
             [
              0.7777777777777778,
              "#6ece58"
             ],
             [
              0.8888888888888888,
              "#b5de2b"
             ],
             [
              1,
              "#fde725"
             ]
            ],
            "type": "surface"
           }
          ],
          "table": [
           {
            "cells": {
             "fill": {
              "color": "rgb(237,237,237)"
             },
             "line": {
              "color": "white"
             }
            },
            "header": {
             "fill": {
              "color": "rgb(217,217,217)"
             },
             "line": {
              "color": "white"
             }
            },
            "type": "table"
           }
          ]
         },
         "layout": {
          "annotationdefaults": {
           "arrowhead": 0,
           "arrowwidth": 1
          },
          "autotypenumbers": "strict",
          "coloraxis": {
           "colorbar": {
            "outlinewidth": 1,
            "tickcolor": "rgb(36,36,36)",
            "ticks": "outside"
           }
          },
          "colorscale": {
           "diverging": [
            [
             0,
             "rgb(103,0,31)"
            ],
            [
             0.1,
             "rgb(178,24,43)"
            ],
            [
             0.2,
             "rgb(214,96,77)"
            ],
            [
             0.3,
             "rgb(244,165,130)"
            ],
            [
             0.4,
             "rgb(253,219,199)"
            ],
            [
             0.5,
             "rgb(247,247,247)"
            ],
            [
             0.6,
             "rgb(209,229,240)"
            ],
            [
             0.7,
             "rgb(146,197,222)"
            ],
            [
             0.8,
             "rgb(67,147,195)"
            ],
            [
             0.9,
             "rgb(33,102,172)"
            ],
            [
             1,
             "rgb(5,48,97)"
            ]
           ],
           "sequential": [
            [
             0,
             "#440154"
            ],
            [
             0.1111111111111111,
             "#482878"
            ],
            [
             0.2222222222222222,
             "#3e4989"
            ],
            [
             0.3333333333333333,
             "#31688e"
            ],
            [
             0.4444444444444444,
             "#26828e"
            ],
            [
             0.5555555555555556,
             "#1f9e89"
            ],
            [
             0.6666666666666666,
             "#35b779"
            ],
            [
             0.7777777777777778,
             "#6ece58"
            ],
            [
             0.8888888888888888,
             "#b5de2b"
            ],
            [
             1,
             "#fde725"
            ]
           ],
           "sequentialminus": [
            [
             0,
             "#440154"
            ],
            [
             0.1111111111111111,
             "#482878"
            ],
            [
             0.2222222222222222,
             "#3e4989"
            ],
            [
             0.3333333333333333,
             "#31688e"
            ],
            [
             0.4444444444444444,
             "#26828e"
            ],
            [
             0.5555555555555556,
             "#1f9e89"
            ],
            [
             0.6666666666666666,
             "#35b779"
            ],
            [
             0.7777777777777778,
             "#6ece58"
            ],
            [
             0.8888888888888888,
             "#b5de2b"
            ],
            [
             1,
             "#fde725"
            ]
           ]
          },
          "colorway": [
           "#1F77B4",
           "#FF7F0E",
           "#2CA02C",
           "#D62728",
           "#9467BD",
           "#8C564B",
           "#E377C2",
           "#7F7F7F",
           "#BCBD22",
           "#17BECF"
          ],
          "font": {
           "color": "rgb(36,36,36)"
          },
          "geo": {
           "bgcolor": "white",
           "lakecolor": "white",
           "landcolor": "white",
           "showlakes": true,
           "showland": true,
           "subunitcolor": "white"
          },
          "hoverlabel": {
           "align": "left"
          },
          "hovermode": "closest",
          "mapbox": {
           "style": "light"
          },
          "paper_bgcolor": "white",
          "plot_bgcolor": "white",
          "polar": {
           "angularaxis": {
            "gridcolor": "rgb(232,232,232)",
            "linecolor": "rgb(36,36,36)",
            "showgrid": false,
            "showline": true,
            "ticks": "outside"
           },
           "bgcolor": "white",
           "radialaxis": {
            "gridcolor": "rgb(232,232,232)",
            "linecolor": "rgb(36,36,36)",
            "showgrid": false,
            "showline": true,
            "ticks": "outside"
           }
          },
          "scene": {
           "xaxis": {
            "backgroundcolor": "white",
            "gridcolor": "rgb(232,232,232)",
            "gridwidth": 2,
            "linecolor": "rgb(36,36,36)",
            "showbackground": true,
            "showgrid": false,
            "showline": true,
            "ticks": "outside",
            "zeroline": false,
            "zerolinecolor": "rgb(36,36,36)"
           },
           "yaxis": {
            "backgroundcolor": "white",
            "gridcolor": "rgb(232,232,232)",
            "gridwidth": 2,
            "linecolor": "rgb(36,36,36)",
            "showbackground": true,
            "showgrid": false,
            "showline": true,
            "ticks": "outside",
            "zeroline": false,
            "zerolinecolor": "rgb(36,36,36)"
           },
           "zaxis": {
            "backgroundcolor": "white",
            "gridcolor": "rgb(232,232,232)",
            "gridwidth": 2,
            "linecolor": "rgb(36,36,36)",
            "showbackground": true,
            "showgrid": false,
            "showline": true,
            "ticks": "outside",
            "zeroline": false,
            "zerolinecolor": "rgb(36,36,36)"
           }
          },
          "shapedefaults": {
           "fillcolor": "black",
           "line": {
            "width": 0
           },
           "opacity": 0.3
          },
          "ternary": {
           "aaxis": {
            "gridcolor": "rgb(232,232,232)",
            "linecolor": "rgb(36,36,36)",
            "showgrid": false,
            "showline": true,
            "ticks": "outside"
           },
           "baxis": {
            "gridcolor": "rgb(232,232,232)",
            "linecolor": "rgb(36,36,36)",
            "showgrid": false,
            "showline": true,
            "ticks": "outside"
           },
           "bgcolor": "white",
           "caxis": {
            "gridcolor": "rgb(232,232,232)",
            "linecolor": "rgb(36,36,36)",
            "showgrid": false,
            "showline": true,
            "ticks": "outside"
           }
          },
          "title": {
           "x": 0.05
          },
          "xaxis": {
           "automargin": true,
           "gridcolor": "rgb(232,232,232)",
           "linecolor": "rgb(36,36,36)",
           "showgrid": false,
           "showline": true,
           "ticks": "outside",
           "title": {
            "standoff": 15
           },
           "zeroline": false,
           "zerolinecolor": "rgb(36,36,36)"
          },
          "yaxis": {
           "automargin": true,
           "gridcolor": "rgb(232,232,232)",
           "linecolor": "rgb(36,36,36)",
           "showgrid": false,
           "showline": true,
           "ticks": "outside",
           "title": {
            "standoff": 15
           },
           "zeroline": false,
           "zerolinecolor": "rgb(36,36,36)"
          }
         }
        },
        "title": {
         "font": {
          "color": "Black",
          "size": 22
         },
         "text": "<b>Topic Probability Distribution</b>",
         "x": 0.5,
         "xanchor": "center",
         "y": 0.95,
         "yanchor": "top"
        },
        "width": 800,
        "xaxis": {
         "title": {
          "text": "Probability"
         }
        }
       }
      },
      "text/html": [
       "<div>                        <script type=\"text/javascript\">window.PlotlyConfig = {MathJaxConfig: 'local'};</script>\n",
       "        <script charset=\"utf-8\" src=\"https://cdn.plot.ly/plotly-2.32.0.min.js\"></script>                <div id=\"0f878f3a-fc02-4cbd-a6ef-684faebc136f\" class=\"plotly-graph-div\" style=\"height:600px; width:800px;\"></div>            <script type=\"text/javascript\">                                    window.PLOTLYENV=window.PLOTLYENV || {};                                    if (document.getElementById(\"0f878f3a-fc02-4cbd-a6ef-684faebc136f\")) {                    Plotly.newPlot(                        \"0f878f3a-fc02-4cbd-a6ef-684faebc136f\",                        [{\"marker\":{\"color\":\"#C8D2D7\",\"line\":{\"color\":\"#6E8484\",\"width\":1}},\"orientation\":\"h\",\"x\":[0.09398127009460623,0.0929048479325699,0.057937574082292075,0.06289949927606849,0.04874636156335894,0.06598621296817582,0.19086949595187494,0.04448970421414625,0.049914918342390105,0.15553002595588433,0.1367400896186329],\"y\":[\"\\u003cb\\u003eTopic 0\\u003c\\u002fb\\u003e: presiden_prabowo_dan_di_...\",\"\\u003cb\\u003eTopic 1\\u003c\\u002fb\\u003e: pks_di_prabowo_juga_untu...\",\"\\u003cb\\u003eTopic 2\\u003c\\u002fb\\u003e: gibran_persen_indonesia_...\",\"\\u003cb\\u003eTopic 3\\u003c\\u002fb\\u003e: yang_tidak_pan_prabowo_m...\",\"\\u003cb\\u003eTopic 4\\u003c\\u002fb\\u003e: megawati_pertemuan_puan_...\",\"\\u003cb\\u003eTopic 5\\u003c\\u002fb\\u003e: anies_prabowo_ganjar_muz...\",\"\\u003cb\\u003eTopic 6\\u003c\\u002fb\\u003e: operasi_yang_besar_saya_...\",\"\\u003cb\\u003eTopic 7\\u003c\\u002fb\\u003e: ptun_kpu_gugatan_hukum_m...\",\"\\u003cb\\u003eTopic 8\\u003c\\u002fb\\u003e: titiek_pks_prabowo_soeha...\",\"\\u003cb\\u003eTopic 9\\u003c\\u002fb\\u003e: operasi_cedera_kaki_kece...\",\"\\u003cb\\u003eTopic 10\\u003c\\u002fb\\u003e: saya_prabowo_dan_operas...\"],\"type\":\"bar\"}],                        {\"template\":{\"data\":{\"barpolar\":[{\"marker\":{\"line\":{\"color\":\"white\",\"width\":0.5},\"pattern\":{\"fillmode\":\"overlay\",\"size\":10,\"solidity\":0.2}},\"type\":\"barpolar\"}],\"bar\":[{\"error_x\":{\"color\":\"rgb(36,36,36)\"},\"error_y\":{\"color\":\"rgb(36,36,36)\"},\"marker\":{\"line\":{\"color\":\"white\",\"width\":0.5},\"pattern\":{\"fillmode\":\"overlay\",\"size\":10,\"solidity\":0.2}},\"type\":\"bar\"}],\"carpet\":[{\"aaxis\":{\"endlinecolor\":\"rgb(36,36,36)\",\"gridcolor\":\"white\",\"linecolor\":\"white\",\"minorgridcolor\":\"white\",\"startlinecolor\":\"rgb(36,36,36)\"},\"baxis\":{\"endlinecolor\":\"rgb(36,36,36)\",\"gridcolor\":\"white\",\"linecolor\":\"white\",\"minorgridcolor\":\"white\",\"startlinecolor\":\"rgb(36,36,36)\"},\"type\":\"carpet\"}],\"choropleth\":[{\"colorbar\":{\"outlinewidth\":1,\"tickcolor\":\"rgb(36,36,36)\",\"ticks\":\"outside\"},\"type\":\"choropleth\"}],\"contourcarpet\":[{\"colorbar\":{\"outlinewidth\":1,\"tickcolor\":\"rgb(36,36,36)\",\"ticks\":\"outside\"},\"type\":\"contourcarpet\"}],\"contour\":[{\"colorbar\":{\"outlinewidth\":1,\"tickcolor\":\"rgb(36,36,36)\",\"ticks\":\"outside\"},\"colorscale\":[[0.0,\"#440154\"],[0.1111111111111111,\"#482878\"],[0.2222222222222222,\"#3e4989\"],[0.3333333333333333,\"#31688e\"],[0.4444444444444444,\"#26828e\"],[0.5555555555555556,\"#1f9e89\"],[0.6666666666666666,\"#35b779\"],[0.7777777777777778,\"#6ece58\"],[0.8888888888888888,\"#b5de2b\"],[1.0,\"#fde725\"]],\"type\":\"contour\"}],\"heatmapgl\":[{\"colorbar\":{\"outlinewidth\":1,\"tickcolor\":\"rgb(36,36,36)\",\"ticks\":\"outside\"},\"colorscale\":[[0.0,\"#440154\"],[0.1111111111111111,\"#482878\"],[0.2222222222222222,\"#3e4989\"],[0.3333333333333333,\"#31688e\"],[0.4444444444444444,\"#26828e\"],[0.5555555555555556,\"#1f9e89\"],[0.6666666666666666,\"#35b779\"],[0.7777777777777778,\"#6ece58\"],[0.8888888888888888,\"#b5de2b\"],[1.0,\"#fde725\"]],\"type\":\"heatmapgl\"}],\"heatmap\":[{\"colorbar\":{\"outlinewidth\":1,\"tickcolor\":\"rgb(36,36,36)\",\"ticks\":\"outside\"},\"colorscale\":[[0.0,\"#440154\"],[0.1111111111111111,\"#482878\"],[0.2222222222222222,\"#3e4989\"],[0.3333333333333333,\"#31688e\"],[0.4444444444444444,\"#26828e\"],[0.5555555555555556,\"#1f9e89\"],[0.6666666666666666,\"#35b779\"],[0.7777777777777778,\"#6ece58\"],[0.8888888888888888,\"#b5de2b\"],[1.0,\"#fde725\"]],\"type\":\"heatmap\"}],\"histogram2dcontour\":[{\"colorbar\":{\"outlinewidth\":1,\"tickcolor\":\"rgb(36,36,36)\",\"ticks\":\"outside\"},\"colorscale\":[[0.0,\"#440154\"],[0.1111111111111111,\"#482878\"],[0.2222222222222222,\"#3e4989\"],[0.3333333333333333,\"#31688e\"],[0.4444444444444444,\"#26828e\"],[0.5555555555555556,\"#1f9e89\"],[0.6666666666666666,\"#35b779\"],[0.7777777777777778,\"#6ece58\"],[0.8888888888888888,\"#b5de2b\"],[1.0,\"#fde725\"]],\"type\":\"histogram2dcontour\"}],\"histogram2d\":[{\"colorbar\":{\"outlinewidth\":1,\"tickcolor\":\"rgb(36,36,36)\",\"ticks\":\"outside\"},\"colorscale\":[[0.0,\"#440154\"],[0.1111111111111111,\"#482878\"],[0.2222222222222222,\"#3e4989\"],[0.3333333333333333,\"#31688e\"],[0.4444444444444444,\"#26828e\"],[0.5555555555555556,\"#1f9e89\"],[0.6666666666666666,\"#35b779\"],[0.7777777777777778,\"#6ece58\"],[0.8888888888888888,\"#b5de2b\"],[1.0,\"#fde725\"]],\"type\":\"histogram2d\"}],\"histogram\":[{\"marker\":{\"line\":{\"color\":\"white\",\"width\":0.6}},\"type\":\"histogram\"}],\"mesh3d\":[{\"colorbar\":{\"outlinewidth\":1,\"tickcolor\":\"rgb(36,36,36)\",\"ticks\":\"outside\"},\"type\":\"mesh3d\"}],\"parcoords\":[{\"line\":{\"colorbar\":{\"outlinewidth\":1,\"tickcolor\":\"rgb(36,36,36)\",\"ticks\":\"outside\"}},\"type\":\"parcoords\"}],\"pie\":[{\"automargin\":true,\"type\":\"pie\"}],\"scatter3d\":[{\"line\":{\"colorbar\":{\"outlinewidth\":1,\"tickcolor\":\"rgb(36,36,36)\",\"ticks\":\"outside\"}},\"marker\":{\"colorbar\":{\"outlinewidth\":1,\"tickcolor\":\"rgb(36,36,36)\",\"ticks\":\"outside\"}},\"type\":\"scatter3d\"}],\"scattercarpet\":[{\"marker\":{\"colorbar\":{\"outlinewidth\":1,\"tickcolor\":\"rgb(36,36,36)\",\"ticks\":\"outside\"}},\"type\":\"scattercarpet\"}],\"scattergeo\":[{\"marker\":{\"colorbar\":{\"outlinewidth\":1,\"tickcolor\":\"rgb(36,36,36)\",\"ticks\":\"outside\"}},\"type\":\"scattergeo\"}],\"scattergl\":[{\"marker\":{\"colorbar\":{\"outlinewidth\":1,\"tickcolor\":\"rgb(36,36,36)\",\"ticks\":\"outside\"}},\"type\":\"scattergl\"}],\"scattermapbox\":[{\"marker\":{\"colorbar\":{\"outlinewidth\":1,\"tickcolor\":\"rgb(36,36,36)\",\"ticks\":\"outside\"}},\"type\":\"scattermapbox\"}],\"scatterpolargl\":[{\"marker\":{\"colorbar\":{\"outlinewidth\":1,\"tickcolor\":\"rgb(36,36,36)\",\"ticks\":\"outside\"}},\"type\":\"scatterpolargl\"}],\"scatterpolar\":[{\"marker\":{\"colorbar\":{\"outlinewidth\":1,\"tickcolor\":\"rgb(36,36,36)\",\"ticks\":\"outside\"}},\"type\":\"scatterpolar\"}],\"scatter\":[{\"fillpattern\":{\"fillmode\":\"overlay\",\"size\":10,\"solidity\":0.2},\"type\":\"scatter\"}],\"scatterternary\":[{\"marker\":{\"colorbar\":{\"outlinewidth\":1,\"tickcolor\":\"rgb(36,36,36)\",\"ticks\":\"outside\"}},\"type\":\"scatterternary\"}],\"surface\":[{\"colorbar\":{\"outlinewidth\":1,\"tickcolor\":\"rgb(36,36,36)\",\"ticks\":\"outside\"},\"colorscale\":[[0.0,\"#440154\"],[0.1111111111111111,\"#482878\"],[0.2222222222222222,\"#3e4989\"],[0.3333333333333333,\"#31688e\"],[0.4444444444444444,\"#26828e\"],[0.5555555555555556,\"#1f9e89\"],[0.6666666666666666,\"#35b779\"],[0.7777777777777778,\"#6ece58\"],[0.8888888888888888,\"#b5de2b\"],[1.0,\"#fde725\"]],\"type\":\"surface\"}],\"table\":[{\"cells\":{\"fill\":{\"color\":\"rgb(237,237,237)\"},\"line\":{\"color\":\"white\"}},\"header\":{\"fill\":{\"color\":\"rgb(217,217,217)\"},\"line\":{\"color\":\"white\"}},\"type\":\"table\"}]},\"layout\":{\"annotationdefaults\":{\"arrowhead\":0,\"arrowwidth\":1},\"autotypenumbers\":\"strict\",\"coloraxis\":{\"colorbar\":{\"outlinewidth\":1,\"tickcolor\":\"rgb(36,36,36)\",\"ticks\":\"outside\"}},\"colorscale\":{\"diverging\":[[0.0,\"rgb(103,0,31)\"],[0.1,\"rgb(178,24,43)\"],[0.2,\"rgb(214,96,77)\"],[0.3,\"rgb(244,165,130)\"],[0.4,\"rgb(253,219,199)\"],[0.5,\"rgb(247,247,247)\"],[0.6,\"rgb(209,229,240)\"],[0.7,\"rgb(146,197,222)\"],[0.8,\"rgb(67,147,195)\"],[0.9,\"rgb(33,102,172)\"],[1.0,\"rgb(5,48,97)\"]],\"sequential\":[[0.0,\"#440154\"],[0.1111111111111111,\"#482878\"],[0.2222222222222222,\"#3e4989\"],[0.3333333333333333,\"#31688e\"],[0.4444444444444444,\"#26828e\"],[0.5555555555555556,\"#1f9e89\"],[0.6666666666666666,\"#35b779\"],[0.7777777777777778,\"#6ece58\"],[0.8888888888888888,\"#b5de2b\"],[1.0,\"#fde725\"]],\"sequentialminus\":[[0.0,\"#440154\"],[0.1111111111111111,\"#482878\"],[0.2222222222222222,\"#3e4989\"],[0.3333333333333333,\"#31688e\"],[0.4444444444444444,\"#26828e\"],[0.5555555555555556,\"#1f9e89\"],[0.6666666666666666,\"#35b779\"],[0.7777777777777778,\"#6ece58\"],[0.8888888888888888,\"#b5de2b\"],[1.0,\"#fde725\"]]},\"colorway\":[\"#1F77B4\",\"#FF7F0E\",\"#2CA02C\",\"#D62728\",\"#9467BD\",\"#8C564B\",\"#E377C2\",\"#7F7F7F\",\"#BCBD22\",\"#17BECF\"],\"font\":{\"color\":\"rgb(36,36,36)\"},\"geo\":{\"bgcolor\":\"white\",\"lakecolor\":\"white\",\"landcolor\":\"white\",\"showlakes\":true,\"showland\":true,\"subunitcolor\":\"white\"},\"hoverlabel\":{\"align\":\"left\"},\"hovermode\":\"closest\",\"mapbox\":{\"style\":\"light\"},\"paper_bgcolor\":\"white\",\"plot_bgcolor\":\"white\",\"polar\":{\"angularaxis\":{\"gridcolor\":\"rgb(232,232,232)\",\"linecolor\":\"rgb(36,36,36)\",\"showgrid\":false,\"showline\":true,\"ticks\":\"outside\"},\"bgcolor\":\"white\",\"radialaxis\":{\"gridcolor\":\"rgb(232,232,232)\",\"linecolor\":\"rgb(36,36,36)\",\"showgrid\":false,\"showline\":true,\"ticks\":\"outside\"}},\"scene\":{\"xaxis\":{\"backgroundcolor\":\"white\",\"gridcolor\":\"rgb(232,232,232)\",\"gridwidth\":2,\"linecolor\":\"rgb(36,36,36)\",\"showbackground\":true,\"showgrid\":false,\"showline\":true,\"ticks\":\"outside\",\"zeroline\":false,\"zerolinecolor\":\"rgb(36,36,36)\"},\"yaxis\":{\"backgroundcolor\":\"white\",\"gridcolor\":\"rgb(232,232,232)\",\"gridwidth\":2,\"linecolor\":\"rgb(36,36,36)\",\"showbackground\":true,\"showgrid\":false,\"showline\":true,\"ticks\":\"outside\",\"zeroline\":false,\"zerolinecolor\":\"rgb(36,36,36)\"},\"zaxis\":{\"backgroundcolor\":\"white\",\"gridcolor\":\"rgb(232,232,232)\",\"gridwidth\":2,\"linecolor\":\"rgb(36,36,36)\",\"showbackground\":true,\"showgrid\":false,\"showline\":true,\"ticks\":\"outside\",\"zeroline\":false,\"zerolinecolor\":\"rgb(36,36,36)\"}},\"shapedefaults\":{\"fillcolor\":\"black\",\"line\":{\"width\":0},\"opacity\":0.3},\"ternary\":{\"aaxis\":{\"gridcolor\":\"rgb(232,232,232)\",\"linecolor\":\"rgb(36,36,36)\",\"showgrid\":false,\"showline\":true,\"ticks\":\"outside\"},\"baxis\":{\"gridcolor\":\"rgb(232,232,232)\",\"linecolor\":\"rgb(36,36,36)\",\"showgrid\":false,\"showline\":true,\"ticks\":\"outside\"},\"bgcolor\":\"white\",\"caxis\":{\"gridcolor\":\"rgb(232,232,232)\",\"linecolor\":\"rgb(36,36,36)\",\"showgrid\":false,\"showline\":true,\"ticks\":\"outside\"}},\"title\":{\"x\":0.05},\"xaxis\":{\"automargin\":true,\"gridcolor\":\"rgb(232,232,232)\",\"linecolor\":\"rgb(36,36,36)\",\"showgrid\":false,\"showline\":true,\"ticks\":\"outside\",\"title\":{\"standoff\":15},\"zeroline\":false,\"zerolinecolor\":\"rgb(36,36,36)\"},\"yaxis\":{\"automargin\":true,\"gridcolor\":\"rgb(232,232,232)\",\"linecolor\":\"rgb(36,36,36)\",\"showgrid\":false,\"showline\":true,\"ticks\":\"outside\",\"title\":{\"standoff\":15},\"zeroline\":false,\"zerolinecolor\":\"rgb(36,36,36)\"}}},\"title\":{\"font\":{\"size\":22,\"color\":\"Black\"},\"text\":\"\\u003cb\\u003eTopic Probability Distribution\\u003c\\u002fb\\u003e\",\"y\":0.95,\"x\":0.5,\"xanchor\":\"center\",\"yanchor\":\"top\"},\"hoverlabel\":{\"font\":{\"size\":16,\"family\":\"Rockwell\"},\"bgcolor\":\"white\"},\"xaxis\":{\"title\":{\"text\":\"Probability\"}},\"width\":800,\"height\":600},                        {\"responsive\": true}                    )                };                            </script>        </div>"
      ],
      "text/plain": [
       "Figure({\n",
       "    'data': [{'marker': {'color': '#C8D2D7', 'line': {'color': '#6E8484', 'width': 1}},\n",
       "              'orientation': 'h',\n",
       "              'type': 'bar',\n",
       "              'x': [0.09398127009460623, 0.0929048479325699, 0.057937574082292075,\n",
       "                    0.06289949927606849, 0.04874636156335894, 0.06598621296817582,\n",
       "                    0.19086949595187494, 0.04448970421414625, 0.049914918342390105,\n",
       "                    0.15553002595588433, 0.1367400896186329],\n",
       "              'y': [<b>Topic 0</b>: presiden_prabowo_dan_di_..., <b>Topic 1</b>:\n",
       "                    pks_di_prabowo_juga_untu..., <b>Topic 2</b>:\n",
       "                    gibran_persen_indonesia_..., <b>Topic 3</b>:\n",
       "                    yang_tidak_pan_prabowo_m..., <b>Topic 4</b>:\n",
       "                    megawati_pertemuan_puan_..., <b>Topic 5</b>:\n",
       "                    anies_prabowo_ganjar_muz..., <b>Topic 6</b>:\n",
       "                    operasi_yang_besar_saya_..., <b>Topic 7</b>:\n",
       "                    ptun_kpu_gugatan_hukum_m..., <b>Topic 8</b>:\n",
       "                    titiek_pks_prabowo_soeha..., <b>Topic 9</b>:\n",
       "                    operasi_cedera_kaki_kece..., <b>Topic 10</b>:\n",
       "                    saya_prabowo_dan_operas...]}],\n",
       "    'layout': {'height': 600,\n",
       "               'hoverlabel': {'bgcolor': 'white', 'font': {'family': 'Rockwell', 'size': 16}},\n",
       "               'template': '...',\n",
       "               'title': {'font': {'color': 'Black', 'size': 22},\n",
       "                         'text': '<b>Topic Probability Distribution</b>',\n",
       "                         'x': 0.5,\n",
       "                         'xanchor': 'center',\n",
       "                         'y': 0.95,\n",
       "                         'yanchor': 'top'},\n",
       "               'width': 800,\n",
       "               'xaxis': {'title': {'text': 'Probability'}}}\n",
       "})"
      ]
     },
     "execution_count": 28,
     "metadata": {},
     "output_type": "execute_result"
    }
   ],
   "source": [
    "topic_distr, _ = topic_model.approximate_distribution(teks_berita, min_similarity=0)\n",
    "topic_model.visualize_distribution(topic_distr[0])"
   ]
  },
  {
   "cell_type": "code",
   "execution_count": null,
   "metadata": {},
   "outputs": [
    {
     "ename": "ValueError",
     "evalue": "Mime type rendering requires nbformat>=4.2.0 but it is not installed",
     "output_type": "error",
     "traceback": [
      "\u001b[0;31m---------------------------------------------------------------------------\u001b[0m",
      "\u001b[0;31mValueError\u001b[0m                                Traceback (most recent call last)",
      "File \u001b[0;32m~/Desktop/program_gui/lib/python3.12/site-packages/IPython/core/formatters.py:925\u001b[0m, in \u001b[0;36mIPythonDisplayFormatter.__call__\u001b[0;34m(self, obj)\u001b[0m\n\u001b[1;32m    923\u001b[0m method \u001b[39m=\u001b[39m get_real_method(obj, \u001b[39mself\u001b[39m\u001b[39m.\u001b[39mprint_method)\n\u001b[1;32m    924\u001b[0m \u001b[39mif\u001b[39;00m method \u001b[39mis\u001b[39;00m \u001b[39mnot\u001b[39;00m \u001b[39mNone\u001b[39;00m:\n\u001b[0;32m--> 925\u001b[0m     method()\n\u001b[1;32m    926\u001b[0m     \u001b[39mreturn\u001b[39;00m \u001b[39mTrue\u001b[39;00m\n",
      "File \u001b[0;32m~/Desktop/program_gui/lib/python3.12/site-packages/plotly/basedatatypes.py:832\u001b[0m, in \u001b[0;36mBaseFigure._ipython_display_\u001b[0;34m(self)\u001b[0m\n\u001b[1;32m    829\u001b[0m \u001b[39mimport\u001b[39;00m \u001b[39mplotly\u001b[39;00m\u001b[39m.\u001b[39;00m\u001b[39mio\u001b[39;00m \u001b[39mas\u001b[39;00m \u001b[39mpio\u001b[39;00m\n\u001b[1;32m    831\u001b[0m \u001b[39mif\u001b[39;00m pio\u001b[39m.\u001b[39mrenderers\u001b[39m.\u001b[39mrender_on_display \u001b[39mand\u001b[39;00m pio\u001b[39m.\u001b[39mrenderers\u001b[39m.\u001b[39mdefault:\n\u001b[0;32m--> 832\u001b[0m     pio\u001b[39m.\u001b[39;49mshow(\u001b[39mself\u001b[39;49m)\n\u001b[1;32m    833\u001b[0m \u001b[39melse\u001b[39;00m:\n\u001b[1;32m    834\u001b[0m     \u001b[39mprint\u001b[39m(\u001b[39mrepr\u001b[39m(\u001b[39mself\u001b[39m))\n",
      "File \u001b[0;32m~/Desktop/program_gui/lib/python3.12/site-packages/plotly/io/_renderers.py:394\u001b[0m, in \u001b[0;36mshow\u001b[0;34m(fig, renderer, validate, **kwargs)\u001b[0m\n\u001b[1;32m    389\u001b[0m         \u001b[39mraise\u001b[39;00m \u001b[39mValueError\u001b[39;00m(\n\u001b[1;32m    390\u001b[0m             \u001b[39m\"\u001b[39m\u001b[39mMime type rendering requires ipython but it is not installed\u001b[39m\u001b[39m\"\u001b[39m\n\u001b[1;32m    391\u001b[0m         )\n\u001b[1;32m    393\u001b[0m     \u001b[39mif\u001b[39;00m \u001b[39mnot\u001b[39;00m nbformat \u001b[39mor\u001b[39;00m Version(nbformat\u001b[39m.\u001b[39m__version__) \u001b[39m<\u001b[39m Version(\u001b[39m\"\u001b[39m\u001b[39m4.2.0\u001b[39m\u001b[39m\"\u001b[39m):\n\u001b[0;32m--> 394\u001b[0m         \u001b[39mraise\u001b[39;00m \u001b[39mValueError\u001b[39;00m(\n\u001b[1;32m    395\u001b[0m             \u001b[39m\"\u001b[39m\u001b[39mMime type rendering requires nbformat>=4.2.0 but it is not installed\u001b[39m\u001b[39m\"\u001b[39m\n\u001b[1;32m    396\u001b[0m         )\n\u001b[1;32m    398\u001b[0m     ipython_display\u001b[39m.\u001b[39mdisplay(bundle, raw\u001b[39m=\u001b[39m\u001b[39mTrue\u001b[39;00m)\n\u001b[1;32m    400\u001b[0m \u001b[39m# external renderers\u001b[39;00m\n",
      "\u001b[0;31mValueError\u001b[0m: Mime type rendering requires nbformat>=4.2.0 but it is not installed"
     ]
    },
    {
     "data": {
      "application/vnd.plotly.v1+json": {
       "config": {
        "plotlyServerURL": "https://plot.ly"
       },
       "data": [
        {
         "hovertext": "<b>Topic -1</b>:yang_dan_prabowo_di_dengan_anak_20",
         "line": {
          "color": "black",
          "width": 1.5
         },
         "mode": "lines+lines",
         "name": "",
         "opacity": 0.1,
         "type": "scatter",
         "x": [
          1,
          2,
          3,
          4,
          5,
          6,
          7,
          8,
          9,
          10
         ],
         "y": [
          0.04000642504969241,
          0.038669041565024785,
          0.03744963152514063,
          0.03121004406896671,
          0.025797490849105605,
          0.025583363922114105,
          0.025098859031595623,
          0.02254419127974336,
          0.02251039545645436,
          0.02245377908331909
         ]
        },
        {
         "hovertext": "<b>Topic 0</b>:presiden_prabowo_dan_di_yang_jokowi",
         "line": {
          "color": "black",
          "width": 1.5
         },
         "mode": "lines+lines",
         "name": "",
         "opacity": 0.1,
         "type": "scatter",
         "x": [
          1,
          2,
          3,
          4,
          5,
          6,
          7,
          8,
          9,
          10
         ],
         "y": [
          0.03782088895092718,
          0.037389091471164315,
          0.03459555997270665,
          0.031067790620935107,
          0.03012213479497936,
          0.02807291937388666,
          0.0242624806284589,
          0.022505219661369525,
          0.020662038830641372,
          0.019932233305633266
         ]
        },
        {
         "hovertext": "<b>Topic 1</b>:pks_di_prabowo_juga_untuk_dalam_dan",
         "line": {
          "color": "black",
          "width": 1.5
         },
         "mode": "lines+lines",
         "name": "",
         "opacity": 0.1,
         "type": "scatter",
         "x": [
          1,
          2,
          3,
          4,
          5,
          6,
          7,
          8,
          9,
          10
         ],
         "y": [
          0.05922925456319137,
          0.039127123371298346,
          0.03727819034922101,
          0.035429157038093496,
          0.033551448084250125,
          0.030509787629715946,
          0.026571860271988258,
          0.025420635751453986,
          0.02514027857041115,
          0.024361633883771095
         ]
        },
        {
         "hovertext": "<b>Topic 2</b>:gibran_persen_indonesia_cawapres_pr",
         "line": {
          "color": "black",
          "width": 1.5
         },
         "mode": "lines+lines",
         "name": "",
         "opacity": 0.1,
         "type": "scatter",
         "x": [
          1,
          2,
          3,
          4,
          5,
          6,
          7,
          8,
          9,
          10
         ],
         "y": [
          0.052564663500755664,
          0.04191438878928507,
          0.037357964634278304,
          0.03511331888483797,
          0.03432625477727014,
          0.03221178815857189,
          0.03218446676747448,
          0.0320131071057364,
          0.031988741528071865,
          0.027243010950987922
         ]
        },
        {
         "hovertext": "<b>Topic 3</b>:yang_tidak_pan_prabowo_mau_rakyat_b",
         "line": {
          "color": "black",
          "width": 1.5
         },
         "mode": "lines+lines",
         "name": "",
         "opacity": 0.1,
         "type": "scatter",
         "x": [
          1,
          2,
          3,
          4,
          5,
          6,
          7,
          8,
          9,
          10
         ],
         "y": [
          0.05402316889862449,
          0.05224157592685043,
          0.05124219820028422,
          0.04516983064537188,
          0.034051573905788265,
          0.033604406859040564,
          0.03327166840505782,
          0.03174219932306772,
          0.029893654993774624,
          0.029373695516423975
         ]
        },
        {
         "hovertext": "<b>Topic 4</b>:megawati_pertemuan_puan_pdi_prabowo",
         "line": {
          "color": "black",
          "width": 1.5
         },
         "mode": "lines+lines",
         "name": "",
         "opacity": 0.1,
         "type": "scatter",
         "x": [
          1,
          2,
          3,
          4,
          5,
          6,
          7,
          8,
          9,
          10
         ],
         "y": [
          0.09080488206117386,
          0.07258156145659439,
          0.06764906585118707,
          0.06741669108534307,
          0.04735770104450394,
          0.042474960429971766,
          0.03891125310292233,
          0.03555190226132777,
          0.03474936536452895,
          0.03472100834438298
         ]
        },
        {
         "hovertext": "<b>Topic 5</b>:anies_prabowo_ganjar_muzani_yang_ja",
         "line": {
          "color": "black",
          "width": 1.5
         },
         "mode": "lines+lines",
         "name": "",
         "opacity": 0.1,
         "type": "scatter",
         "x": [
          1,
          2,
          3,
          4,
          5,
          6,
          7,
          8,
          9,
          10
         ],
         "y": [
          0.05136255918023117,
          0.0470996061762024,
          0.045537377334932086,
          0.0369857790432168,
          0.03638055544947196,
          0.036333065156046736,
          0.0354336685518932,
          0.03439321149018798,
          0.03393736548139402,
          0.03283198546534206
         ]
        },
        {
         "hovertext": "<b>Topic 6</b>:operasi_yang_besar_saya_jokowi_prab",
         "line": {
          "color": "black",
          "width": 1.5
         },
         "mode": "lines+lines",
         "name": "",
         "opacity": 0.1,
         "type": "scatter",
         "x": [
          1,
          2,
          3,
          4,
          5,
          6,
          7,
          8,
          9,
          10
         ],
         "y": [
          0.06873139608209876,
          0.04456540055798537,
          0.04369807394029297,
          0.043641887245280994,
          0.04227710944103857,
          0.04098820562687275,
          0.036683315301536804,
          0.035622080864976334,
          0.0323083727036744,
          0.03068003549571787
         ]
        },
        {
         "hovertext": "<b>Topic 7</b>:ptun_kpu_gugatan_hukum_mpr_pdi_rp_k",
         "line": {
          "color": "black",
          "width": 1.5
         },
         "mode": "lines+lines",
         "name": "",
         "opacity": 0.1,
         "type": "scatter",
         "x": [
          1,
          2,
          3,
          4,
          5,
          6,
          7,
          8,
          9,
          10
         ],
         "y": [
          0.0749019336024378,
          0.06570175784443494,
          0.054188709266658794,
          0.053310544751858216,
          0.043664889316749445,
          0.04360474150437325,
          0.039815023624874005,
          0.03325161565078187,
          0.032343411424256154,
          0.03153732664843691
         ]
        },
        {
         "hovertext": "<b>Topic 8</b>:titiek_pks_prabowo_soeharto_yang_te",
         "line": {
          "color": "black",
          "width": 1.5
         },
         "mode": "lines+lines",
         "name": "",
         "opacity": 0.1,
         "type": "scatter",
         "x": [
          1,
          2,
          3,
          4,
          5,
          6,
          7,
          8,
          9,
          10
         ],
         "y": [
          0.0741423818217876,
          0.05514932966453924,
          0.05042712684875246,
          0.04496770703025595,
          0.04362916253095565,
          0.03407046648291058,
          0.03333466858805535,
          0.03164269119215015,
          0.029771782068782074,
          0.028462111848625408
         ]
        },
        {
         "hovertext": "<b>Topic 9</b>:operasi_cedera_kaki_kecelakaan_besa",
         "line": {
          "color": "black",
          "width": 1.5
         },
         "mode": "lines+lines",
         "name": "",
         "opacity": 0.1,
         "type": "scatter",
         "x": [
          1,
          2,
          3,
          4,
          5,
          6,
          7,
          8,
          9,
          10
         ],
         "y": [
          0.1059872128983318,
          0.10216480832249329,
          0.07797570770550255,
          0.060424392286957666,
          0.058313589021437434,
          0.05179233624596372,
          0.04948378609914942,
          0.0492500618183162,
          0.04548905206336038,
          0.04442126566407357
         ]
        },
        {
         "hovertext": "<b>Topic 10</b>:saya_prabowo_dan_operasi_oleh_diri",
         "line": {
          "color": "black",
          "width": 1.5
         },
         "mode": "lines+lines",
         "name": "",
         "opacity": 0.1,
         "type": "scatter",
         "x": [
          1,
          2,
          3,
          4,
          5,
          6,
          7,
          8,
          9,
          10
         ],
         "y": [
          0.05478302774008522,
          0.05135445293422476,
          0.04949023306806385,
          0.04583493467333115,
          0.04107714711569041,
          0.03754561038750177,
          0.03316865122980949,
          0.03283423048626594,
          0.03267667395901534,
          0.031220880720466016
         ]
        }
       ],
       "layout": {
        "height": 500,
        "hoverlabel": {
         "bgcolor": "white",
         "font": {
          "family": "Rockwell",
          "size": 16
         }
        },
        "showlegend": false,
        "template": {
         "data": {
          "bar": [
           {
            "error_x": {
             "color": "#2a3f5f"
            },
            "error_y": {
             "color": "#2a3f5f"
            },
            "marker": {
             "line": {
              "color": "white",
              "width": 0.5
             },
             "pattern": {
              "fillmode": "overlay",
              "size": 10,
              "solidity": 0.2
             }
            },
            "type": "bar"
           }
          ],
          "barpolar": [
           {
            "marker": {
             "line": {
              "color": "white",
              "width": 0.5
             },
             "pattern": {
              "fillmode": "overlay",
              "size": 10,
              "solidity": 0.2
             }
            },
            "type": "barpolar"
           }
          ],
          "carpet": [
           {
            "aaxis": {
             "endlinecolor": "#2a3f5f",
             "gridcolor": "#C8D4E3",
             "linecolor": "#C8D4E3",
             "minorgridcolor": "#C8D4E3",
             "startlinecolor": "#2a3f5f"
            },
            "baxis": {
             "endlinecolor": "#2a3f5f",
             "gridcolor": "#C8D4E3",
             "linecolor": "#C8D4E3",
             "minorgridcolor": "#C8D4E3",
             "startlinecolor": "#2a3f5f"
            },
            "type": "carpet"
           }
          ],
          "choropleth": [
           {
            "colorbar": {
             "outlinewidth": 0,
             "ticks": ""
            },
            "type": "choropleth"
           }
          ],
          "contour": [
           {
            "colorbar": {
             "outlinewidth": 0,
             "ticks": ""
            },
            "colorscale": [
             [
              0,
              "#0d0887"
             ],
             [
              0.1111111111111111,
              "#46039f"
             ],
             [
              0.2222222222222222,
              "#7201a8"
             ],
             [
              0.3333333333333333,
              "#9c179e"
             ],
             [
              0.4444444444444444,
              "#bd3786"
             ],
             [
              0.5555555555555556,
              "#d8576b"
             ],
             [
              0.6666666666666666,
              "#ed7953"
             ],
             [
              0.7777777777777778,
              "#fb9f3a"
             ],
             [
              0.8888888888888888,
              "#fdca26"
             ],
             [
              1,
              "#f0f921"
             ]
            ],
            "type": "contour"
           }
          ],
          "contourcarpet": [
           {
            "colorbar": {
             "outlinewidth": 0,
             "ticks": ""
            },
            "type": "contourcarpet"
           }
          ],
          "heatmap": [
           {
            "colorbar": {
             "outlinewidth": 0,
             "ticks": ""
            },
            "colorscale": [
             [
              0,
              "#0d0887"
             ],
             [
              0.1111111111111111,
              "#46039f"
             ],
             [
              0.2222222222222222,
              "#7201a8"
             ],
             [
              0.3333333333333333,
              "#9c179e"
             ],
             [
              0.4444444444444444,
              "#bd3786"
             ],
             [
              0.5555555555555556,
              "#d8576b"
             ],
             [
              0.6666666666666666,
              "#ed7953"
             ],
             [
              0.7777777777777778,
              "#fb9f3a"
             ],
             [
              0.8888888888888888,
              "#fdca26"
             ],
             [
              1,
              "#f0f921"
             ]
            ],
            "type": "heatmap"
           }
          ],
          "heatmapgl": [
           {
            "colorbar": {
             "outlinewidth": 0,
             "ticks": ""
            },
            "colorscale": [
             [
              0,
              "#0d0887"
             ],
             [
              0.1111111111111111,
              "#46039f"
             ],
             [
              0.2222222222222222,
              "#7201a8"
             ],
             [
              0.3333333333333333,
              "#9c179e"
             ],
             [
              0.4444444444444444,
              "#bd3786"
             ],
             [
              0.5555555555555556,
              "#d8576b"
             ],
             [
              0.6666666666666666,
              "#ed7953"
             ],
             [
              0.7777777777777778,
              "#fb9f3a"
             ],
             [
              0.8888888888888888,
              "#fdca26"
             ],
             [
              1,
              "#f0f921"
             ]
            ],
            "type": "heatmapgl"
           }
          ],
          "histogram": [
           {
            "marker": {
             "pattern": {
              "fillmode": "overlay",
              "size": 10,
              "solidity": 0.2
             }
            },
            "type": "histogram"
           }
          ],
          "histogram2d": [
           {
            "colorbar": {
             "outlinewidth": 0,
             "ticks": ""
            },
            "colorscale": [
             [
              0,
              "#0d0887"
             ],
             [
              0.1111111111111111,
              "#46039f"
             ],
             [
              0.2222222222222222,
              "#7201a8"
             ],
             [
              0.3333333333333333,
              "#9c179e"
             ],
             [
              0.4444444444444444,
              "#bd3786"
             ],
             [
              0.5555555555555556,
              "#d8576b"
             ],
             [
              0.6666666666666666,
              "#ed7953"
             ],
             [
              0.7777777777777778,
              "#fb9f3a"
             ],
             [
              0.8888888888888888,
              "#fdca26"
             ],
             [
              1,
              "#f0f921"
             ]
            ],
            "type": "histogram2d"
           }
          ],
          "histogram2dcontour": [
           {
            "colorbar": {
             "outlinewidth": 0,
             "ticks": ""
            },
            "colorscale": [
             [
              0,
              "#0d0887"
             ],
             [
              0.1111111111111111,
              "#46039f"
             ],
             [
              0.2222222222222222,
              "#7201a8"
             ],
             [
              0.3333333333333333,
              "#9c179e"
             ],
             [
              0.4444444444444444,
              "#bd3786"
             ],
             [
              0.5555555555555556,
              "#d8576b"
             ],
             [
              0.6666666666666666,
              "#ed7953"
             ],
             [
              0.7777777777777778,
              "#fb9f3a"
             ],
             [
              0.8888888888888888,
              "#fdca26"
             ],
             [
              1,
              "#f0f921"
             ]
            ],
            "type": "histogram2dcontour"
           }
          ],
          "mesh3d": [
           {
            "colorbar": {
             "outlinewidth": 0,
             "ticks": ""
            },
            "type": "mesh3d"
           }
          ],
          "parcoords": [
           {
            "line": {
             "colorbar": {
              "outlinewidth": 0,
              "ticks": ""
             }
            },
            "type": "parcoords"
           }
          ],
          "pie": [
           {
            "automargin": true,
            "type": "pie"
           }
          ],
          "scatter": [
           {
            "fillpattern": {
             "fillmode": "overlay",
             "size": 10,
             "solidity": 0.2
            },
            "type": "scatter"
           }
          ],
          "scatter3d": [
           {
            "line": {
             "colorbar": {
              "outlinewidth": 0,
              "ticks": ""
             }
            },
            "marker": {
             "colorbar": {
              "outlinewidth": 0,
              "ticks": ""
             }
            },
            "type": "scatter3d"
           }
          ],
          "scattercarpet": [
           {
            "marker": {
             "colorbar": {
              "outlinewidth": 0,
              "ticks": ""
             }
            },
            "type": "scattercarpet"
           }
          ],
          "scattergeo": [
           {
            "marker": {
             "colorbar": {
              "outlinewidth": 0,
              "ticks": ""
             }
            },
            "type": "scattergeo"
           }
          ],
          "scattergl": [
           {
            "marker": {
             "colorbar": {
              "outlinewidth": 0,
              "ticks": ""
             }
            },
            "type": "scattergl"
           }
          ],
          "scattermapbox": [
           {
            "marker": {
             "colorbar": {
              "outlinewidth": 0,
              "ticks": ""
             }
            },
            "type": "scattermapbox"
           }
          ],
          "scatterpolar": [
           {
            "marker": {
             "colorbar": {
              "outlinewidth": 0,
              "ticks": ""
             }
            },
            "type": "scatterpolar"
           }
          ],
          "scatterpolargl": [
           {
            "marker": {
             "colorbar": {
              "outlinewidth": 0,
              "ticks": ""
             }
            },
            "type": "scatterpolargl"
           }
          ],
          "scatterternary": [
           {
            "marker": {
             "colorbar": {
              "outlinewidth": 0,
              "ticks": ""
             }
            },
            "type": "scatterternary"
           }
          ],
          "surface": [
           {
            "colorbar": {
             "outlinewidth": 0,
             "ticks": ""
            },
            "colorscale": [
             [
              0,
              "#0d0887"
             ],
             [
              0.1111111111111111,
              "#46039f"
             ],
             [
              0.2222222222222222,
              "#7201a8"
             ],
             [
              0.3333333333333333,
              "#9c179e"
             ],
             [
              0.4444444444444444,
              "#bd3786"
             ],
             [
              0.5555555555555556,
              "#d8576b"
             ],
             [
              0.6666666666666666,
              "#ed7953"
             ],
             [
              0.7777777777777778,
              "#fb9f3a"
             ],
             [
              0.8888888888888888,
              "#fdca26"
             ],
             [
              1,
              "#f0f921"
             ]
            ],
            "type": "surface"
           }
          ],
          "table": [
           {
            "cells": {
             "fill": {
              "color": "#EBF0F8"
             },
             "line": {
              "color": "white"
             }
            },
            "header": {
             "fill": {
              "color": "#C8D4E3"
             },
             "line": {
              "color": "white"
             }
            },
            "type": "table"
           }
          ]
         },
         "layout": {
          "annotationdefaults": {
           "arrowcolor": "#2a3f5f",
           "arrowhead": 0,
           "arrowwidth": 1
          },
          "autotypenumbers": "strict",
          "coloraxis": {
           "colorbar": {
            "outlinewidth": 0,
            "ticks": ""
           }
          },
          "colorscale": {
           "diverging": [
            [
             0,
             "#8e0152"
            ],
            [
             0.1,
             "#c51b7d"
            ],
            [
             0.2,
             "#de77ae"
            ],
            [
             0.3,
             "#f1b6da"
            ],
            [
             0.4,
             "#fde0ef"
            ],
            [
             0.5,
             "#f7f7f7"
            ],
            [
             0.6,
             "#e6f5d0"
            ],
            [
             0.7,
             "#b8e186"
            ],
            [
             0.8,
             "#7fbc41"
            ],
            [
             0.9,
             "#4d9221"
            ],
            [
             1,
             "#276419"
            ]
           ],
           "sequential": [
            [
             0,
             "#0d0887"
            ],
            [
             0.1111111111111111,
             "#46039f"
            ],
            [
             0.2222222222222222,
             "#7201a8"
            ],
            [
             0.3333333333333333,
             "#9c179e"
            ],
            [
             0.4444444444444444,
             "#bd3786"
            ],
            [
             0.5555555555555556,
             "#d8576b"
            ],
            [
             0.6666666666666666,
             "#ed7953"
            ],
            [
             0.7777777777777778,
             "#fb9f3a"
            ],
            [
             0.8888888888888888,
             "#fdca26"
            ],
            [
             1,
             "#f0f921"
            ]
           ],
           "sequentialminus": [
            [
             0,
             "#0d0887"
            ],
            [
             0.1111111111111111,
             "#46039f"
            ],
            [
             0.2222222222222222,
             "#7201a8"
            ],
            [
             0.3333333333333333,
             "#9c179e"
            ],
            [
             0.4444444444444444,
             "#bd3786"
            ],
            [
             0.5555555555555556,
             "#d8576b"
            ],
            [
             0.6666666666666666,
             "#ed7953"
            ],
            [
             0.7777777777777778,
             "#fb9f3a"
            ],
            [
             0.8888888888888888,
             "#fdca26"
            ],
            [
             1,
             "#f0f921"
            ]
           ]
          },
          "colorway": [
           "#636efa",
           "#EF553B",
           "#00cc96",
           "#ab63fa",
           "#FFA15A",
           "#19d3f3",
           "#FF6692",
           "#B6E880",
           "#FF97FF",
           "#FECB52"
          ],
          "font": {
           "color": "#2a3f5f"
          },
          "geo": {
           "bgcolor": "white",
           "lakecolor": "white",
           "landcolor": "white",
           "showlakes": true,
           "showland": true,
           "subunitcolor": "#C8D4E3"
          },
          "hoverlabel": {
           "align": "left"
          },
          "hovermode": "closest",
          "mapbox": {
           "style": "light"
          },
          "paper_bgcolor": "white",
          "plot_bgcolor": "white",
          "polar": {
           "angularaxis": {
            "gridcolor": "#EBF0F8",
            "linecolor": "#EBF0F8",
            "ticks": ""
           },
           "bgcolor": "white",
           "radialaxis": {
            "gridcolor": "#EBF0F8",
            "linecolor": "#EBF0F8",
            "ticks": ""
           }
          },
          "scene": {
           "xaxis": {
            "backgroundcolor": "white",
            "gridcolor": "#DFE8F3",
            "gridwidth": 2,
            "linecolor": "#EBF0F8",
            "showbackground": true,
            "ticks": "",
            "zerolinecolor": "#EBF0F8"
           },
           "yaxis": {
            "backgroundcolor": "white",
            "gridcolor": "#DFE8F3",
            "gridwidth": 2,
            "linecolor": "#EBF0F8",
            "showbackground": true,
            "ticks": "",
            "zerolinecolor": "#EBF0F8"
           },
           "zaxis": {
            "backgroundcolor": "white",
            "gridcolor": "#DFE8F3",
            "gridwidth": 2,
            "linecolor": "#EBF0F8",
            "showbackground": true,
            "ticks": "",
            "zerolinecolor": "#EBF0F8"
           }
          },
          "shapedefaults": {
           "line": {
            "color": "#2a3f5f"
           }
          },
          "ternary": {
           "aaxis": {
            "gridcolor": "#DFE8F3",
            "linecolor": "#A2B1C6",
            "ticks": ""
           },
           "baxis": {
            "gridcolor": "#DFE8F3",
            "linecolor": "#A2B1C6",
            "ticks": ""
           },
           "bgcolor": "white",
           "caxis": {
            "gridcolor": "#DFE8F3",
            "linecolor": "#A2B1C6",
            "ticks": ""
           }
          },
          "title": {
           "x": 0.05
          },
          "xaxis": {
           "automargin": true,
           "gridcolor": "#EBF0F8",
           "linecolor": "#EBF0F8",
           "ticks": "",
           "title": {
            "standoff": 15
           },
           "zerolinecolor": "#EBF0F8",
           "zerolinewidth": 2
          },
          "yaxis": {
           "automargin": true,
           "gridcolor": "#EBF0F8",
           "linecolor": "#EBF0F8",
           "ticks": "",
           "title": {
            "standoff": 15
           },
           "zerolinecolor": "#EBF0F8",
           "zerolinewidth": 2
          }
         }
        },
        "title": {
         "font": {
          "color": "Black",
          "size": 22
         },
         "text": "<b>Term score decline per Topic</b>",
         "x": 0.5,
         "xanchor": "center",
         "y": 0.9,
         "yanchor": "top"
        },
        "width": 800,
        "xaxis": {
         "dtick": 2,
         "range": [
          0,
          10
         ],
         "tick0": 1,
         "title": {
          "text": "Term Rank"
         }
        },
        "yaxis": {
         "title": {
          "text": "c-TF-IDF score"
         }
        }
       }
      },
      "text/html": [
       "<div>                        <script type=\"text/javascript\">window.PlotlyConfig = {MathJaxConfig: 'local'};</script>\n",
       "        <script charset=\"utf-8\" src=\"https://cdn.plot.ly/plotly-2.32.0.min.js\"></script>                <div id=\"cafe3ca5-04d6-403f-b1b1-0bcb5e0e7272\" class=\"plotly-graph-div\" style=\"height:500px; width:800px;\"></div>            <script type=\"text/javascript\">                                    window.PLOTLYENV=window.PLOTLYENV || {};                                    if (document.getElementById(\"cafe3ca5-04d6-403f-b1b1-0bcb5e0e7272\")) {                    Plotly.newPlot(                        \"cafe3ca5-04d6-403f-b1b1-0bcb5e0e7272\",                        [{\"hovertext\":\"\\u003cb\\u003eTopic -1\\u003c\\u002fb\\u003e:yang_dan_prabowo_di_dengan_anak_20\",\"line\":{\"color\":\"black\",\"width\":1.5},\"mode\":\"lines+lines\",\"name\":\"\",\"opacity\":0.1,\"x\":[1,2,3,4,5,6,7,8,9,10],\"y\":[0.04000642504969241,0.038669041565024785,0.03744963152514063,0.03121004406896671,0.025797490849105605,0.025583363922114105,0.025098859031595623,0.02254419127974336,0.02251039545645436,0.02245377908331909],\"type\":\"scatter\"},{\"hovertext\":\"\\u003cb\\u003eTopic 0\\u003c\\u002fb\\u003e:presiden_prabowo_dan_di_yang_jokowi\",\"line\":{\"color\":\"black\",\"width\":1.5},\"mode\":\"lines+lines\",\"name\":\"\",\"opacity\":0.1,\"x\":[1,2,3,4,5,6,7,8,9,10],\"y\":[0.03782088895092718,0.037389091471164315,0.03459555997270665,0.031067790620935107,0.03012213479497936,0.02807291937388666,0.0242624806284589,0.022505219661369525,0.020662038830641372,0.019932233305633266],\"type\":\"scatter\"},{\"hovertext\":\"\\u003cb\\u003eTopic 1\\u003c\\u002fb\\u003e:pks_di_prabowo_juga_untuk_dalam_dan\",\"line\":{\"color\":\"black\",\"width\":1.5},\"mode\":\"lines+lines\",\"name\":\"\",\"opacity\":0.1,\"x\":[1,2,3,4,5,6,7,8,9,10],\"y\":[0.05922925456319137,0.039127123371298346,0.03727819034922101,0.035429157038093496,0.033551448084250125,0.030509787629715946,0.026571860271988258,0.025420635751453986,0.02514027857041115,0.024361633883771095],\"type\":\"scatter\"},{\"hovertext\":\"\\u003cb\\u003eTopic 2\\u003c\\u002fb\\u003e:gibran_persen_indonesia_cawapres_pr\",\"line\":{\"color\":\"black\",\"width\":1.5},\"mode\":\"lines+lines\",\"name\":\"\",\"opacity\":0.1,\"x\":[1,2,3,4,5,6,7,8,9,10],\"y\":[0.052564663500755664,0.04191438878928507,0.037357964634278304,0.03511331888483797,0.03432625477727014,0.03221178815857189,0.03218446676747448,0.0320131071057364,0.031988741528071865,0.027243010950987922],\"type\":\"scatter\"},{\"hovertext\":\"\\u003cb\\u003eTopic 3\\u003c\\u002fb\\u003e:yang_tidak_pan_prabowo_mau_rakyat_b\",\"line\":{\"color\":\"black\",\"width\":1.5},\"mode\":\"lines+lines\",\"name\":\"\",\"opacity\":0.1,\"x\":[1,2,3,4,5,6,7,8,9,10],\"y\":[0.05402316889862449,0.05224157592685043,0.05124219820028422,0.04516983064537188,0.034051573905788265,0.033604406859040564,0.03327166840505782,0.03174219932306772,0.029893654993774624,0.029373695516423975],\"type\":\"scatter\"},{\"hovertext\":\"\\u003cb\\u003eTopic 4\\u003c\\u002fb\\u003e:megawati_pertemuan_puan_pdi_prabowo\",\"line\":{\"color\":\"black\",\"width\":1.5},\"mode\":\"lines+lines\",\"name\":\"\",\"opacity\":0.1,\"x\":[1,2,3,4,5,6,7,8,9,10],\"y\":[0.09080488206117386,0.07258156145659439,0.06764906585118707,0.06741669108534307,0.04735770104450394,0.042474960429971766,0.03891125310292233,0.03555190226132777,0.03474936536452895,0.03472100834438298],\"type\":\"scatter\"},{\"hovertext\":\"\\u003cb\\u003eTopic 5\\u003c\\u002fb\\u003e:anies_prabowo_ganjar_muzani_yang_ja\",\"line\":{\"color\":\"black\",\"width\":1.5},\"mode\":\"lines+lines\",\"name\":\"\",\"opacity\":0.1,\"x\":[1,2,3,4,5,6,7,8,9,10],\"y\":[0.05136255918023117,0.0470996061762024,0.045537377334932086,0.0369857790432168,0.03638055544947196,0.036333065156046736,0.0354336685518932,0.03439321149018798,0.03393736548139402,0.03283198546534206],\"type\":\"scatter\"},{\"hovertext\":\"\\u003cb\\u003eTopic 6\\u003c\\u002fb\\u003e:operasi_yang_besar_saya_jokowi_prab\",\"line\":{\"color\":\"black\",\"width\":1.5},\"mode\":\"lines+lines\",\"name\":\"\",\"opacity\":0.1,\"x\":[1,2,3,4,5,6,7,8,9,10],\"y\":[0.06873139608209876,0.04456540055798537,0.04369807394029297,0.043641887245280994,0.04227710944103857,0.04098820562687275,0.036683315301536804,0.035622080864976334,0.0323083727036744,0.03068003549571787],\"type\":\"scatter\"},{\"hovertext\":\"\\u003cb\\u003eTopic 7\\u003c\\u002fb\\u003e:ptun_kpu_gugatan_hukum_mpr_pdi_rp_k\",\"line\":{\"color\":\"black\",\"width\":1.5},\"mode\":\"lines+lines\",\"name\":\"\",\"opacity\":0.1,\"x\":[1,2,3,4,5,6,7,8,9,10],\"y\":[0.0749019336024378,0.06570175784443494,0.054188709266658794,0.053310544751858216,0.043664889316749445,0.04360474150437325,0.039815023624874005,0.03325161565078187,0.032343411424256154,0.03153732664843691],\"type\":\"scatter\"},{\"hovertext\":\"\\u003cb\\u003eTopic 8\\u003c\\u002fb\\u003e:titiek_pks_prabowo_soeharto_yang_te\",\"line\":{\"color\":\"black\",\"width\":1.5},\"mode\":\"lines+lines\",\"name\":\"\",\"opacity\":0.1,\"x\":[1,2,3,4,5,6,7,8,9,10],\"y\":[0.0741423818217876,0.05514932966453924,0.05042712684875246,0.04496770703025595,0.04362916253095565,0.03407046648291058,0.03333466858805535,0.03164269119215015,0.029771782068782074,0.028462111848625408],\"type\":\"scatter\"},{\"hovertext\":\"\\u003cb\\u003eTopic 9\\u003c\\u002fb\\u003e:operasi_cedera_kaki_kecelakaan_besa\",\"line\":{\"color\":\"black\",\"width\":1.5},\"mode\":\"lines+lines\",\"name\":\"\",\"opacity\":0.1,\"x\":[1,2,3,4,5,6,7,8,9,10],\"y\":[0.1059872128983318,0.10216480832249329,0.07797570770550255,0.060424392286957666,0.058313589021437434,0.05179233624596372,0.04948378609914942,0.0492500618183162,0.04548905206336038,0.04442126566407357],\"type\":\"scatter\"},{\"hovertext\":\"\\u003cb\\u003eTopic 10\\u003c\\u002fb\\u003e:saya_prabowo_dan_operasi_oleh_diri\",\"line\":{\"color\":\"black\",\"width\":1.5},\"mode\":\"lines+lines\",\"name\":\"\",\"opacity\":0.1,\"x\":[1,2,3,4,5,6,7,8,9,10],\"y\":[0.05478302774008522,0.05135445293422476,0.04949023306806385,0.04583493467333115,0.04107714711569041,0.03754561038750177,0.03316865122980949,0.03283423048626594,0.03267667395901534,0.031220880720466016],\"type\":\"scatter\"}],                        {\"template\":{\"data\":{\"barpolar\":[{\"marker\":{\"line\":{\"color\":\"white\",\"width\":0.5},\"pattern\":{\"fillmode\":\"overlay\",\"size\":10,\"solidity\":0.2}},\"type\":\"barpolar\"}],\"bar\":[{\"error_x\":{\"color\":\"#2a3f5f\"},\"error_y\":{\"color\":\"#2a3f5f\"},\"marker\":{\"line\":{\"color\":\"white\",\"width\":0.5},\"pattern\":{\"fillmode\":\"overlay\",\"size\":10,\"solidity\":0.2}},\"type\":\"bar\"}],\"carpet\":[{\"aaxis\":{\"endlinecolor\":\"#2a3f5f\",\"gridcolor\":\"#C8D4E3\",\"linecolor\":\"#C8D4E3\",\"minorgridcolor\":\"#C8D4E3\",\"startlinecolor\":\"#2a3f5f\"},\"baxis\":{\"endlinecolor\":\"#2a3f5f\",\"gridcolor\":\"#C8D4E3\",\"linecolor\":\"#C8D4E3\",\"minorgridcolor\":\"#C8D4E3\",\"startlinecolor\":\"#2a3f5f\"},\"type\":\"carpet\"}],\"choropleth\":[{\"colorbar\":{\"outlinewidth\":0,\"ticks\":\"\"},\"type\":\"choropleth\"}],\"contourcarpet\":[{\"colorbar\":{\"outlinewidth\":0,\"ticks\":\"\"},\"type\":\"contourcarpet\"}],\"contour\":[{\"colorbar\":{\"outlinewidth\":0,\"ticks\":\"\"},\"colorscale\":[[0.0,\"#0d0887\"],[0.1111111111111111,\"#46039f\"],[0.2222222222222222,\"#7201a8\"],[0.3333333333333333,\"#9c179e\"],[0.4444444444444444,\"#bd3786\"],[0.5555555555555556,\"#d8576b\"],[0.6666666666666666,\"#ed7953\"],[0.7777777777777778,\"#fb9f3a\"],[0.8888888888888888,\"#fdca26\"],[1.0,\"#f0f921\"]],\"type\":\"contour\"}],\"heatmapgl\":[{\"colorbar\":{\"outlinewidth\":0,\"ticks\":\"\"},\"colorscale\":[[0.0,\"#0d0887\"],[0.1111111111111111,\"#46039f\"],[0.2222222222222222,\"#7201a8\"],[0.3333333333333333,\"#9c179e\"],[0.4444444444444444,\"#bd3786\"],[0.5555555555555556,\"#d8576b\"],[0.6666666666666666,\"#ed7953\"],[0.7777777777777778,\"#fb9f3a\"],[0.8888888888888888,\"#fdca26\"],[1.0,\"#f0f921\"]],\"type\":\"heatmapgl\"}],\"heatmap\":[{\"colorbar\":{\"outlinewidth\":0,\"ticks\":\"\"},\"colorscale\":[[0.0,\"#0d0887\"],[0.1111111111111111,\"#46039f\"],[0.2222222222222222,\"#7201a8\"],[0.3333333333333333,\"#9c179e\"],[0.4444444444444444,\"#bd3786\"],[0.5555555555555556,\"#d8576b\"],[0.6666666666666666,\"#ed7953\"],[0.7777777777777778,\"#fb9f3a\"],[0.8888888888888888,\"#fdca26\"],[1.0,\"#f0f921\"]],\"type\":\"heatmap\"}],\"histogram2dcontour\":[{\"colorbar\":{\"outlinewidth\":0,\"ticks\":\"\"},\"colorscale\":[[0.0,\"#0d0887\"],[0.1111111111111111,\"#46039f\"],[0.2222222222222222,\"#7201a8\"],[0.3333333333333333,\"#9c179e\"],[0.4444444444444444,\"#bd3786\"],[0.5555555555555556,\"#d8576b\"],[0.6666666666666666,\"#ed7953\"],[0.7777777777777778,\"#fb9f3a\"],[0.8888888888888888,\"#fdca26\"],[1.0,\"#f0f921\"]],\"type\":\"histogram2dcontour\"}],\"histogram2d\":[{\"colorbar\":{\"outlinewidth\":0,\"ticks\":\"\"},\"colorscale\":[[0.0,\"#0d0887\"],[0.1111111111111111,\"#46039f\"],[0.2222222222222222,\"#7201a8\"],[0.3333333333333333,\"#9c179e\"],[0.4444444444444444,\"#bd3786\"],[0.5555555555555556,\"#d8576b\"],[0.6666666666666666,\"#ed7953\"],[0.7777777777777778,\"#fb9f3a\"],[0.8888888888888888,\"#fdca26\"],[1.0,\"#f0f921\"]],\"type\":\"histogram2d\"}],\"histogram\":[{\"marker\":{\"pattern\":{\"fillmode\":\"overlay\",\"size\":10,\"solidity\":0.2}},\"type\":\"histogram\"}],\"mesh3d\":[{\"colorbar\":{\"outlinewidth\":0,\"ticks\":\"\"},\"type\":\"mesh3d\"}],\"parcoords\":[{\"line\":{\"colorbar\":{\"outlinewidth\":0,\"ticks\":\"\"}},\"type\":\"parcoords\"}],\"pie\":[{\"automargin\":true,\"type\":\"pie\"}],\"scatter3d\":[{\"line\":{\"colorbar\":{\"outlinewidth\":0,\"ticks\":\"\"}},\"marker\":{\"colorbar\":{\"outlinewidth\":0,\"ticks\":\"\"}},\"type\":\"scatter3d\"}],\"scattercarpet\":[{\"marker\":{\"colorbar\":{\"outlinewidth\":0,\"ticks\":\"\"}},\"type\":\"scattercarpet\"}],\"scattergeo\":[{\"marker\":{\"colorbar\":{\"outlinewidth\":0,\"ticks\":\"\"}},\"type\":\"scattergeo\"}],\"scattergl\":[{\"marker\":{\"colorbar\":{\"outlinewidth\":0,\"ticks\":\"\"}},\"type\":\"scattergl\"}],\"scattermapbox\":[{\"marker\":{\"colorbar\":{\"outlinewidth\":0,\"ticks\":\"\"}},\"type\":\"scattermapbox\"}],\"scatterpolargl\":[{\"marker\":{\"colorbar\":{\"outlinewidth\":0,\"ticks\":\"\"}},\"type\":\"scatterpolargl\"}],\"scatterpolar\":[{\"marker\":{\"colorbar\":{\"outlinewidth\":0,\"ticks\":\"\"}},\"type\":\"scatterpolar\"}],\"scatter\":[{\"fillpattern\":{\"fillmode\":\"overlay\",\"size\":10,\"solidity\":0.2},\"type\":\"scatter\"}],\"scatterternary\":[{\"marker\":{\"colorbar\":{\"outlinewidth\":0,\"ticks\":\"\"}},\"type\":\"scatterternary\"}],\"surface\":[{\"colorbar\":{\"outlinewidth\":0,\"ticks\":\"\"},\"colorscale\":[[0.0,\"#0d0887\"],[0.1111111111111111,\"#46039f\"],[0.2222222222222222,\"#7201a8\"],[0.3333333333333333,\"#9c179e\"],[0.4444444444444444,\"#bd3786\"],[0.5555555555555556,\"#d8576b\"],[0.6666666666666666,\"#ed7953\"],[0.7777777777777778,\"#fb9f3a\"],[0.8888888888888888,\"#fdca26\"],[1.0,\"#f0f921\"]],\"type\":\"surface\"}],\"table\":[{\"cells\":{\"fill\":{\"color\":\"#EBF0F8\"},\"line\":{\"color\":\"white\"}},\"header\":{\"fill\":{\"color\":\"#C8D4E3\"},\"line\":{\"color\":\"white\"}},\"type\":\"table\"}]},\"layout\":{\"annotationdefaults\":{\"arrowcolor\":\"#2a3f5f\",\"arrowhead\":0,\"arrowwidth\":1},\"autotypenumbers\":\"strict\",\"coloraxis\":{\"colorbar\":{\"outlinewidth\":0,\"ticks\":\"\"}},\"colorscale\":{\"diverging\":[[0,\"#8e0152\"],[0.1,\"#c51b7d\"],[0.2,\"#de77ae\"],[0.3,\"#f1b6da\"],[0.4,\"#fde0ef\"],[0.5,\"#f7f7f7\"],[0.6,\"#e6f5d0\"],[0.7,\"#b8e186\"],[0.8,\"#7fbc41\"],[0.9,\"#4d9221\"],[1,\"#276419\"]],\"sequential\":[[0.0,\"#0d0887\"],[0.1111111111111111,\"#46039f\"],[0.2222222222222222,\"#7201a8\"],[0.3333333333333333,\"#9c179e\"],[0.4444444444444444,\"#bd3786\"],[0.5555555555555556,\"#d8576b\"],[0.6666666666666666,\"#ed7953\"],[0.7777777777777778,\"#fb9f3a\"],[0.8888888888888888,\"#fdca26\"],[1.0,\"#f0f921\"]],\"sequentialminus\":[[0.0,\"#0d0887\"],[0.1111111111111111,\"#46039f\"],[0.2222222222222222,\"#7201a8\"],[0.3333333333333333,\"#9c179e\"],[0.4444444444444444,\"#bd3786\"],[0.5555555555555556,\"#d8576b\"],[0.6666666666666666,\"#ed7953\"],[0.7777777777777778,\"#fb9f3a\"],[0.8888888888888888,\"#fdca26\"],[1.0,\"#f0f921\"]]},\"colorway\":[\"#636efa\",\"#EF553B\",\"#00cc96\",\"#ab63fa\",\"#FFA15A\",\"#19d3f3\",\"#FF6692\",\"#B6E880\",\"#FF97FF\",\"#FECB52\"],\"font\":{\"color\":\"#2a3f5f\"},\"geo\":{\"bgcolor\":\"white\",\"lakecolor\":\"white\",\"landcolor\":\"white\",\"showlakes\":true,\"showland\":true,\"subunitcolor\":\"#C8D4E3\"},\"hoverlabel\":{\"align\":\"left\"},\"hovermode\":\"closest\",\"mapbox\":{\"style\":\"light\"},\"paper_bgcolor\":\"white\",\"plot_bgcolor\":\"white\",\"polar\":{\"angularaxis\":{\"gridcolor\":\"#EBF0F8\",\"linecolor\":\"#EBF0F8\",\"ticks\":\"\"},\"bgcolor\":\"white\",\"radialaxis\":{\"gridcolor\":\"#EBF0F8\",\"linecolor\":\"#EBF0F8\",\"ticks\":\"\"}},\"scene\":{\"xaxis\":{\"backgroundcolor\":\"white\",\"gridcolor\":\"#DFE8F3\",\"gridwidth\":2,\"linecolor\":\"#EBF0F8\",\"showbackground\":true,\"ticks\":\"\",\"zerolinecolor\":\"#EBF0F8\"},\"yaxis\":{\"backgroundcolor\":\"white\",\"gridcolor\":\"#DFE8F3\",\"gridwidth\":2,\"linecolor\":\"#EBF0F8\",\"showbackground\":true,\"ticks\":\"\",\"zerolinecolor\":\"#EBF0F8\"},\"zaxis\":{\"backgroundcolor\":\"white\",\"gridcolor\":\"#DFE8F3\",\"gridwidth\":2,\"linecolor\":\"#EBF0F8\",\"showbackground\":true,\"ticks\":\"\",\"zerolinecolor\":\"#EBF0F8\"}},\"shapedefaults\":{\"line\":{\"color\":\"#2a3f5f\"}},\"ternary\":{\"aaxis\":{\"gridcolor\":\"#DFE8F3\",\"linecolor\":\"#A2B1C6\",\"ticks\":\"\"},\"baxis\":{\"gridcolor\":\"#DFE8F3\",\"linecolor\":\"#A2B1C6\",\"ticks\":\"\"},\"bgcolor\":\"white\",\"caxis\":{\"gridcolor\":\"#DFE8F3\",\"linecolor\":\"#A2B1C6\",\"ticks\":\"\"}},\"title\":{\"x\":0.05},\"xaxis\":{\"automargin\":true,\"gridcolor\":\"#EBF0F8\",\"linecolor\":\"#EBF0F8\",\"ticks\":\"\",\"title\":{\"standoff\":15},\"zerolinecolor\":\"#EBF0F8\",\"zerolinewidth\":2},\"yaxis\":{\"automargin\":true,\"gridcolor\":\"#EBF0F8\",\"linecolor\":\"#EBF0F8\",\"ticks\":\"\",\"title\":{\"standoff\":15},\"zerolinecolor\":\"#EBF0F8\",\"zerolinewidth\":2}}},\"xaxis\":{\"range\":[0,10],\"tick0\":1,\"dtick\":2,\"title\":{\"text\":\"Term Rank\"}},\"title\":{\"font\":{\"size\":22,\"color\":\"Black\"},\"text\":\"\\u003cb\\u003eTerm score decline per Topic\\u003c\\u002fb\\u003e\",\"y\":0.9,\"x\":0.5,\"xanchor\":\"center\",\"yanchor\":\"top\"},\"hoverlabel\":{\"font\":{\"size\":16,\"family\":\"Rockwell\"},\"bgcolor\":\"white\"},\"showlegend\":false,\"width\":800,\"height\":500,\"yaxis\":{\"title\":{\"text\":\"c-TF-IDF score\"}}},                        {\"responsive\": true}                    )                };                            </script>        </div>"
      ],
      "text/plain": [
       "Figure({\n",
       "    'data': [{'hovertext': '<b>Topic -1</b>:yang_dan_prabowo_di_dengan_anak_20',\n",
       "              'line': {'color': 'black', 'width': 1.5},\n",
       "              'mode': 'lines+lines',\n",
       "              'name': '',\n",
       "              'opacity': 0.1,\n",
       "              'type': 'scatter',\n",
       "              'x': array([ 1,  2,  3,  4,  5,  6,  7,  8,  9, 10]),\n",
       "              'y': array([0.04000643, 0.03866904, 0.03744963, 0.03121004, 0.02579749, 0.02558336,\n",
       "                          0.02509886, 0.02254419, 0.0225104 , 0.02245378])},\n",
       "             {'hovertext': '<b>Topic 0</b>:presiden_prabowo_dan_di_yang_jokowi',\n",
       "              'line': {'color': 'black', 'width': 1.5},\n",
       "              'mode': 'lines+lines',\n",
       "              'name': '',\n",
       "              'opacity': 0.1,\n",
       "              'type': 'scatter',\n",
       "              'x': array([ 1,  2,  3,  4,  5,  6,  7,  8,  9, 10]),\n",
       "              'y': array([0.03782089, 0.03738909, 0.03459556, 0.03106779, 0.03012213, 0.02807292,\n",
       "                          0.02426248, 0.02250522, 0.02066204, 0.01993223])},\n",
       "             {'hovertext': '<b>Topic 1</b>:pks_di_prabowo_juga_untuk_dalam_dan',\n",
       "              'line': {'color': 'black', 'width': 1.5},\n",
       "              'mode': 'lines+lines',\n",
       "              'name': '',\n",
       "              'opacity': 0.1,\n",
       "              'type': 'scatter',\n",
       "              'x': array([ 1,  2,  3,  4,  5,  6,  7,  8,  9, 10]),\n",
       "              'y': array([0.05922925, 0.03912712, 0.03727819, 0.03542916, 0.03355145, 0.03050979,\n",
       "                          0.02657186, 0.02542064, 0.02514028, 0.02436163])},\n",
       "             {'hovertext': '<b>Topic 2</b>:gibran_persen_indonesia_cawapres_pr',\n",
       "              'line': {'color': 'black', 'width': 1.5},\n",
       "              'mode': 'lines+lines',\n",
       "              'name': '',\n",
       "              'opacity': 0.1,\n",
       "              'type': 'scatter',\n",
       "              'x': array([ 1,  2,  3,  4,  5,  6,  7,  8,  9, 10]),\n",
       "              'y': array([0.05256466, 0.04191439, 0.03735796, 0.03511332, 0.03432625, 0.03221179,\n",
       "                          0.03218447, 0.03201311, 0.03198874, 0.02724301])},\n",
       "             {'hovertext': '<b>Topic 3</b>:yang_tidak_pan_prabowo_mau_rakyat_b',\n",
       "              'line': {'color': 'black', 'width': 1.5},\n",
       "              'mode': 'lines+lines',\n",
       "              'name': '',\n",
       "              'opacity': 0.1,\n",
       "              'type': 'scatter',\n",
       "              'x': array([ 1,  2,  3,  4,  5,  6,  7,  8,  9, 10]),\n",
       "              'y': array([0.05402317, 0.05224158, 0.0512422 , 0.04516983, 0.03405157, 0.03360441,\n",
       "                          0.03327167, 0.0317422 , 0.02989365, 0.0293737 ])},\n",
       "             {'hovertext': '<b>Topic 4</b>:megawati_pertemuan_puan_pdi_prabowo',\n",
       "              'line': {'color': 'black', 'width': 1.5},\n",
       "              'mode': 'lines+lines',\n",
       "              'name': '',\n",
       "              'opacity': 0.1,\n",
       "              'type': 'scatter',\n",
       "              'x': array([ 1,  2,  3,  4,  5,  6,  7,  8,  9, 10]),\n",
       "              'y': array([0.09080488, 0.07258156, 0.06764907, 0.06741669, 0.0473577 , 0.04247496,\n",
       "                          0.03891125, 0.0355519 , 0.03474937, 0.03472101])},\n",
       "             {'hovertext': '<b>Topic 5</b>:anies_prabowo_ganjar_muzani_yang_ja',\n",
       "              'line': {'color': 'black', 'width': 1.5},\n",
       "              'mode': 'lines+lines',\n",
       "              'name': '',\n",
       "              'opacity': 0.1,\n",
       "              'type': 'scatter',\n",
       "              'x': array([ 1,  2,  3,  4,  5,  6,  7,  8,  9, 10]),\n",
       "              'y': array([0.05136256, 0.04709961, 0.04553738, 0.03698578, 0.03638056, 0.03633307,\n",
       "                          0.03543367, 0.03439321, 0.03393737, 0.03283199])},\n",
       "             {'hovertext': '<b>Topic 6</b>:operasi_yang_besar_saya_jokowi_prab',\n",
       "              'line': {'color': 'black', 'width': 1.5},\n",
       "              'mode': 'lines+lines',\n",
       "              'name': '',\n",
       "              'opacity': 0.1,\n",
       "              'type': 'scatter',\n",
       "              'x': array([ 1,  2,  3,  4,  5,  6,  7,  8,  9, 10]),\n",
       "              'y': array([0.0687314 , 0.0445654 , 0.04369807, 0.04364189, 0.04227711, 0.04098821,\n",
       "                          0.03668332, 0.03562208, 0.03230837, 0.03068004])},\n",
       "             {'hovertext': '<b>Topic 7</b>:ptun_kpu_gugatan_hukum_mpr_pdi_rp_k',\n",
       "              'line': {'color': 'black', 'width': 1.5},\n",
       "              'mode': 'lines+lines',\n",
       "              'name': '',\n",
       "              'opacity': 0.1,\n",
       "              'type': 'scatter',\n",
       "              'x': array([ 1,  2,  3,  4,  5,  6,  7,  8,  9, 10]),\n",
       "              'y': array([0.07490193, 0.06570176, 0.05418871, 0.05331054, 0.04366489, 0.04360474,\n",
       "                          0.03981502, 0.03325162, 0.03234341, 0.03153733])},\n",
       "             {'hovertext': '<b>Topic 8</b>:titiek_pks_prabowo_soeharto_yang_te',\n",
       "              'line': {'color': 'black', 'width': 1.5},\n",
       "              'mode': 'lines+lines',\n",
       "              'name': '',\n",
       "              'opacity': 0.1,\n",
       "              'type': 'scatter',\n",
       "              'x': array([ 1,  2,  3,  4,  5,  6,  7,  8,  9, 10]),\n",
       "              'y': array([0.07414238, 0.05514933, 0.05042713, 0.04496771, 0.04362916, 0.03407047,\n",
       "                          0.03333467, 0.03164269, 0.02977178, 0.02846211])},\n",
       "             {'hovertext': '<b>Topic 9</b>:operasi_cedera_kaki_kecelakaan_besa',\n",
       "              'line': {'color': 'black', 'width': 1.5},\n",
       "              'mode': 'lines+lines',\n",
       "              'name': '',\n",
       "              'opacity': 0.1,\n",
       "              'type': 'scatter',\n",
       "              'x': array([ 1,  2,  3,  4,  5,  6,  7,  8,  9, 10]),\n",
       "              'y': array([0.10598721, 0.10216481, 0.07797571, 0.06042439, 0.05831359, 0.05179234,\n",
       "                          0.04948379, 0.04925006, 0.04548905, 0.04442127])},\n",
       "             {'hovertext': '<b>Topic 10</b>:saya_prabowo_dan_operasi_oleh_diri',\n",
       "              'line': {'color': 'black', 'width': 1.5},\n",
       "              'mode': 'lines+lines',\n",
       "              'name': '',\n",
       "              'opacity': 0.1,\n",
       "              'type': 'scatter',\n",
       "              'x': array([ 1,  2,  3,  4,  5,  6,  7,  8,  9, 10]),\n",
       "              'y': array([0.05478303, 0.05135445, 0.04949023, 0.04583493, 0.04107715, 0.03754561,\n",
       "                          0.03316865, 0.03283423, 0.03267667, 0.03122088])}],\n",
       "    'layout': {'height': 500,\n",
       "               'hoverlabel': {'bgcolor': 'white', 'font': {'family': 'Rockwell', 'size': 16}},\n",
       "               'showlegend': False,\n",
       "               'template': '...',\n",
       "               'title': {'font': {'color': 'Black', 'size': 22},\n",
       "                         'text': '<b>Term score decline per Topic</b>',\n",
       "                         'x': 0.5,\n",
       "                         'xanchor': 'center',\n",
       "                         'y': 0.9,\n",
       "                         'yanchor': 'top'},\n",
       "               'width': 800,\n",
       "               'xaxis': {'dtick': 2, 'range': [0, 10], 'tick0': 1, 'title': {'text': 'Term Rank'}},\n",
       "               'yaxis': {'title': {'text': 'c-TF-IDF score'}}}\n",
       "})"
      ]
     },
     "execution_count": 29,
     "metadata": {},
     "output_type": "execute_result"
    }
   ],
   "source": [
    "topic_model.visualize_term_rank()"
   ]
  }
 ],
 "metadata": {
  "kernelspec": {
   "display_name": "program_gui",
   "language": "python",
   "name": "python3"
  },
  "language_info": {
   "codemirror_mode": {
    "name": "ipython",
    "version": 3
   },
   "file_extension": ".py",
   "mimetype": "text/x-python",
   "name": "python",
   "nbconvert_exporter": "python",
   "pygments_lexer": "ipython3",
   "version": "3.12.2"
  },
  "orig_nbformat": 4
 },
 "nbformat": 4,
 "nbformat_minor": 2
}
